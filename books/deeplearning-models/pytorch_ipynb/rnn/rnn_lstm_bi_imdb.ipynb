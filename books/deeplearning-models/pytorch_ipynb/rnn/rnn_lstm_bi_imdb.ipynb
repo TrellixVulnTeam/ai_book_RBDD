{
  "nbformat": 4,
  "nbformat_minor": 0,
  "metadata": {
    "accelerator": "GPU",
    "colab": {
      "name": "rnn_lstm_bi_imdb.ipynb",
      "provenance": [],
      "collapsed_sections": []
    },
    "kernelspec": {
      "display_name": "Python 3",
      "language": "python",
      "name": "python3"
    },
    "language_info": {
      "codemirror_mode": {
        "name": "ipython",
        "version": 3
      },
      "file_extension": ".py",
      "mimetype": "text/x-python",
      "name": "python",
      "nbconvert_exporter": "python",
      "pygments_lexer": "ipython3",
      "version": "3.7.1"
    }
  },
  "cells": [
    {
      "cell_type": "markdown",
      "metadata": {
        "id": "XHce_ManvqTK",
        "colab_type": "text"
      },
      "source": [
        "Deep Learning Models -- A collection of various deep learning architectures, models, and tips for TensorFlow and PyTorch in Jupyter Notebooks.\n",
        "- Author: Sebastian Raschka\n",
        "- GitHub Repository: https://github.com/rasbt/deeplearning-models"
      ]
    },
    {
      "cell_type": "markdown",
      "metadata": {
        "colab_type": "text",
        "id": "vY4SK0xKAJgm"
      },
      "source": [
        "# Model Zoo -- Multilayer bidirectional RNN with LSTM"
      ]
    },
    {
      "cell_type": "markdown",
      "metadata": {
        "colab_type": "text",
        "id": "sc6xejhY-NzZ"
      },
      "source": [
        "Demo of a bidirectional RNN for sentiment classification (here: a binary classification problem with two labels, positive and negative) using LSTM (Long Short Term Memory) cells."
      ]
    },
    {
      "cell_type": "code",
      "metadata": {
        "id": "p6eOuUtTvwEz",
        "colab_type": "code",
        "colab": {}
      },
      "source": [
        "!pip install -q IPython\n",
        "!pip install -q ipykernel\n",
        "!pip install -q watermark\n",
        "!pip install -q matplotlib\n",
        "!pip install -q sklearn\n",
        "!pip install -q pandas\n",
        "!pip install -q pydot\n",
        "!pip install -q hiddenlayer\n",
        "!pip install -q graphviz"
      ],
      "execution_count": 1,
      "outputs": []
    },
    {
      "cell_type": "code",
      "metadata": {
        "colab_type": "code",
        "id": "moNmVfuvnImW",
        "colab": {
          "base_uri": "https://localhost:8080/",
          "height": 121
        },
        "outputId": "ce68ea59-4833-4e08-d242-2d90453ed3b6"
      },
      "source": [
        "%load_ext watermark\n",
        "%watermark -a 'Sebastian Raschka' -v -p torch\n",
        "\n",
        "import torch\n",
        "import torch.nn.functional as F\n",
        "from torchtext import data\n",
        "from torchtext import datasets\n",
        "import time\n",
        "import random\n",
        "\n",
        "torch.backends.cudnn.deterministic = True"
      ],
      "execution_count": 2,
      "outputs": [
        {
          "output_type": "stream",
          "text": [
            "Sebastian Raschka \n",
            "\n",
            "CPython 3.6.9\n",
            "IPython 5.5.0\n",
            "\n",
            "torch 1.5.1+cu101\n"
          ],
          "name": "stdout"
        }
      ]
    },
    {
      "cell_type": "markdown",
      "metadata": {
        "colab_type": "text",
        "id": "GSRL42Qgy8I8"
      },
      "source": [
        "## General Settings"
      ]
    },
    {
      "cell_type": "code",
      "metadata": {
        "colab_type": "code",
        "id": "OvW1RgfepCBq",
        "colab": {}
      },
      "source": [
        "RANDOM_SEED = 123\n",
        "torch.manual_seed(RANDOM_SEED)\n",
        "\n",
        "VOCABULARY_SIZE = 20000\n",
        "LEARNING_RATE = 1e-4\n",
        "BATCH_SIZE = 128\n",
        "NUM_EPOCHS = 15\n",
        "DEVICE = torch.device('cuda' if torch.cuda.is_available() else 'cpu')\n",
        "BIDIRECTIONAL = True\n",
        "\n",
        "EMBEDDING_DIM = 128\n",
        "NUM_LAYERS = 2\n",
        "HIDDEN_DIM = 128\n",
        "OUTPUT_DIM = 1"
      ],
      "execution_count": 3,
      "outputs": []
    },
    {
      "cell_type": "markdown",
      "metadata": {
        "colab_type": "text",
        "id": "mQMmKUEisW4W"
      },
      "source": [
        "## Dataset"
      ]
    },
    {
      "cell_type": "markdown",
      "metadata": {
        "colab_type": "text",
        "id": "4GnH64XvsV8n"
      },
      "source": [
        "Load the IMDB Movie Review dataset:"
      ]
    },
    {
      "cell_type": "code",
      "metadata": {
        "colab_type": "code",
        "id": "WZ_4jiHVnMxN",
        "colab": {
          "base_uri": "https://localhost:8080/",
          "height": 104
        },
        "outputId": "dd7e128f-fb9a-4d49-893d-f8be861d2a7d"
      },
      "source": [
        "TEXT = data.Field(tokenize='spacy',\n",
        "                  include_lengths=True) # necessary for packed_padded_sequence\n",
        "LABEL = data.LabelField(dtype=torch.float)\n",
        "train_data, test_data = datasets.IMDB.splits(TEXT, LABEL)\n",
        "train_data, valid_data = train_data.split(random_state=random.seed(RANDOM_SEED),\n",
        "                                          split_ratio=0.8)\n",
        "\n",
        "print(f'Num Train: {len(train_data)}')\n",
        "print(f'Num Valid: {len(valid_data)}')\n",
        "print(f'Num Test: {len(test_data)}')"
      ],
      "execution_count": 4,
      "outputs": [
        {
          "output_type": "stream",
          "text": [
            "downloading aclImdb_v1.tar.gz\n"
          ],
          "name": "stdout"
        },
        {
          "output_type": "stream",
          "text": [
            "aclImdb_v1.tar.gz: 100%|██████████| 84.1M/84.1M [00:08<00:00, 10.3MB/s]\n"
          ],
          "name": "stderr"
        },
        {
          "output_type": "stream",
          "text": [
            "Num Train: 20000\n",
            "Num Valid: 5000\n",
            "Num Test: 25000\n"
          ],
          "name": "stdout"
        }
      ]
    },
    {
      "cell_type": "markdown",
      "metadata": {
        "colab_type": "text",
        "id": "L-TBwKWPslPa"
      },
      "source": [
        "Build the vocabulary based on the top \"VOCABULARY_SIZE\" words:"
      ]
    },
    {
      "cell_type": "code",
      "metadata": {
        "colab_type": "code",
        "id": "e8uNrjdtn4A8",
        "colab": {
          "base_uri": "https://localhost:8080/",
          "height": 52
        },
        "outputId": "3eeec361-cb3f-4816-b57a-a80693565b3f"
      },
      "source": [
        "TEXT.build_vocab(train_data, max_size=VOCABULARY_SIZE)\n",
        "LABEL.build_vocab(train_data)\n",
        "\n",
        "print(f'Vocabulary size: {len(TEXT.vocab)}')\n",
        "print(f'Number of classes: {len(LABEL.vocab)}')"
      ],
      "execution_count": 5,
      "outputs": [
        {
          "output_type": "stream",
          "text": [
            "Vocabulary size: 20002\n",
            "Number of classes: 2\n"
          ],
          "name": "stdout"
        }
      ]
    },
    {
      "cell_type": "markdown",
      "metadata": {
        "colab_type": "text",
        "id": "JpEMNInXtZsb"
      },
      "source": [
        "The TEXT.vocab dictionary will contain the word counts and indices. The reason why the number of words is VOCABULARY_SIZE + 2 is that it contains to special tokens for padding and unknown words: `<unk>` and `<pad>`."
      ]
    },
    {
      "cell_type": "markdown",
      "metadata": {
        "colab_type": "text",
        "id": "eIQ_zfKLwjKm"
      },
      "source": [
        "Make dataset iterators:"
      ]
    },
    {
      "cell_type": "code",
      "metadata": {
        "colab_type": "code",
        "id": "i7JiHR1stHNF",
        "colab": {}
      },
      "source": [
        "train_loader, valid_loader, test_loader = data.BucketIterator.splits(\n",
        "    (train_data, valid_data, test_data), \n",
        "    batch_size=BATCH_SIZE,\n",
        "    sort_within_batch=True, # necessary for packed_padded_sequence\n",
        "    device=DEVICE)"
      ],
      "execution_count": 6,
      "outputs": []
    },
    {
      "cell_type": "markdown",
      "metadata": {
        "colab_type": "text",
        "id": "R0pT_dMRvicQ"
      },
      "source": [
        "Testing the iterators (note that the number of rows depends on the longest document in the respective batch):"
      ]
    },
    {
      "cell_type": "code",
      "metadata": {
        "colab_type": "code",
        "id": "y8SP_FccutT0",
        "colab": {
          "base_uri": "https://localhost:8080/",
          "height": 207
        },
        "outputId": "69b62367-2ea1-490c-d5dc-df109a4dcb19"
      },
      "source": [
        "print('Train')\n",
        "for batch in train_loader:\n",
        "    print(f'Text matrix size: {batch.text[0].size()}')\n",
        "    print(f'Target vector size: {batch.label.size()}')\n",
        "    break\n",
        "    \n",
        "print('\\nValid:')\n",
        "for batch in valid_loader:\n",
        "    print(f'Text matrix size: {batch.text[0].size()}')\n",
        "    print(f'Target vector size: {batch.label.size()}')\n",
        "    break\n",
        "    \n",
        "print('\\nTest:')\n",
        "for batch in test_loader:\n",
        "    print(f'Text matrix size: {batch.text[0].size()}')\n",
        "    print(f'Target vector size: {batch.label.size()}')\n",
        "    break"
      ],
      "execution_count": 7,
      "outputs": [
        {
          "output_type": "stream",
          "text": [
            "Train\n",
            "Text matrix size: torch.Size([133, 128])\n",
            "Target vector size: torch.Size([128])\n",
            "\n",
            "Valid:\n",
            "Text matrix size: torch.Size([61, 128])\n",
            "Target vector size: torch.Size([128])\n",
            "\n",
            "Test:\n",
            "Text matrix size: torch.Size([42, 128])\n",
            "Target vector size: torch.Size([128])\n"
          ],
          "name": "stdout"
        }
      ]
    },
    {
      "cell_type": "markdown",
      "metadata": {
        "colab_type": "text",
        "id": "G_grdW3pxCzz"
      },
      "source": [
        "## Model"
      ]
    },
    {
      "cell_type": "code",
      "metadata": {
        "colab_type": "code",
        "id": "nQIUm5EjxFNa",
        "colab": {}
      },
      "source": [
        "import torch.nn as nn\n",
        "\n",
        "class RNN(nn.Module):\n",
        "    def __init__(self, input_dim, embedding_dim, hidden_dim, output_dim):\n",
        "        \n",
        "        super().__init__()\n",
        "        \n",
        "        self.embedding = nn.Embedding(input_dim, embedding_dim)\n",
        "        self.rnn = nn.LSTM(embedding_dim,\n",
        "                           hidden_dim,\n",
        "                           num_layers=NUM_LAYERS,\n",
        "                           bidirectional=BIDIRECTIONAL)\n",
        "        self.fc = nn.Linear(hidden_dim*2, output_dim)\n",
        "        \n",
        "    def forward(self, text, text_length):\n",
        "\n",
        "        #[sentence len, batch size] => [sentence len, batch size, embedding size]\n",
        "        embedded = self.embedding(text)\n",
        "        \n",
        "        packed = torch.nn.utils.rnn.pack_padded_sequence(embedded, text_length)\n",
        "        \n",
        "        packed_output, (hidden, cell) = self.rnn(packed)\n",
        "        \n",
        "        # combine both directions\n",
        "        combined = torch.cat((hidden[-2,:,:], hidden[-1,:,:]), dim=1)\n",
        "        \n",
        "        return self.fc(combined.squeeze(0)).view(-1)"
      ],
      "execution_count": 8,
      "outputs": []
    },
    {
      "cell_type": "code",
      "metadata": {
        "colab_type": "code",
        "id": "Ik3NF3faxFmZ",
        "colab": {}
      },
      "source": [
        "INPUT_DIM = len(TEXT.vocab)\n",
        "\n",
        "torch.manual_seed(RANDOM_SEED)\n",
        "model = RNN(INPUT_DIM, EMBEDDING_DIM, HIDDEN_DIM, OUTPUT_DIM)\n",
        "model = model.to(DEVICE)\n",
        "optimizer = torch.optim.Adam(model.parameters(), lr=LEARNING_RATE)"
      ],
      "execution_count": 9,
      "outputs": []
    },
    {
      "cell_type": "code",
      "metadata": {
        "id": "pFQwMhbVv10i",
        "colab_type": "code",
        "colab": {
          "base_uri": "https://localhost:8080/",
          "height": 1000
        },
        "outputId": "eb45dca2-89fb-4b1e-9a10-186650a1e5af"
      },
      "source": [
        "import hiddenlayer as hl\n",
        "batch = next(iter(train_loader))\n",
        "hl.build_graph(model, batch.text)"
      ],
      "execution_count": 12,
      "outputs": [
        {
          "output_type": "stream",
          "text": [
            "/usr/local/lib/python3.6/dist-packages/torch/onnx/symbolic_opset9.py:1586: UserWarning: Exporting a model to ONNX with a batch_size other than 1, with a variable length with LSTM can cause an error when running the ONNX model with a different batch size. Make sure to save the model with a batch size of 1, or define the initial states (h0/c0) as inputs of the model. \n",
            "  \"or define the initial states (h0/c0) as inputs of the model. \")\n"
          ],
          "name": "stderr"
        },
        {
          "output_type": "execute_result",
          "data": {
            "text/plain": [
              "<hiddenlayer.graph.Graph at 0x7f4ebcd4eb00>"
            ],
            "image/svg+xml": "<?xml version=\"1.0\" encoding=\"UTF-8\" standalone=\"no\"?>\n<!DOCTYPE svg PUBLIC \"-//W3C//DTD SVG 1.1//EN\"\n \"http://www.w3.org/Graphics/SVG/1.1/DTD/svg11.dtd\">\n<!-- Generated by graphviz version 2.40.1 (20161225.0304)\n -->\n<!-- Title: %3 Pages: 1 -->\n<svg width=\"2542pt\" height=\"2270pt\"\n viewBox=\"0.00 0.00 2542.00 2270.00\" xmlns=\"http://www.w3.org/2000/svg\" xmlns:xlink=\"http://www.w3.org/1999/xlink\">\n<g id=\"graph0\" class=\"graph\" transform=\"scale(1 1) rotate(0) translate(72 2234)\">\n<title>%3</title>\n<polygon fill=\"#ffffff\" stroke=\"transparent\" points=\"-72,36 -72,-2234 2470,-2234 2470,36 -72,36\"/>\n<!-- /outputs/21 -->\n<g id=\"node1\" class=\"node\">\n<title>/outputs/21</title>\n<polygon fill=\"#e8e8e8\" stroke=\"#000000\" points=\"54,-1187 0,-1187 0,-1151 54,-1151 54,-1187\"/>\n<text text-anchor=\"start\" x=\"13\" y=\"-1166\" font-family=\"Times\" font-size=\"10.00\" fill=\"#000000\">Gather</text>\n</g>\n<!-- /outputs/71 -->\n<g id=\"node43\" class=\"node\">\n<title>/outputs/71</title>\n<polygon fill=\"#e8e8e8\" stroke=\"#000000\" points=\"202,-944 148,-944 148,-908 202,-908 202,-944\"/>\n<text text-anchor=\"start\" x=\"163\" y=\"-923\" font-family=\"Times\" font-size=\"10.00\" fill=\"#000000\">Shape</text>\n</g>\n<!-- /outputs/21&#45;&gt;/outputs/71 -->\n<g id=\"edge1\" class=\"edge\">\n<title>/outputs/21&#45;&gt;/outputs/71</title>\n<path fill=\"none\" stroke=\"#000000\" d=\"M38.1241,-1150.7355C64.008,-1108.2369 128.3697,-1002.5619 158.6987,-952.765\"/>\n<polygon fill=\"#000000\" stroke=\"#000000\" points=\"161.7362,-954.5062 163.9487,-944.145 155.7578,-950.865 161.7362,-954.5062\"/>\n<text text-anchor=\"middle\" x=\"101\" y=\"-1093\" font-family=\"Times\" font-size=\"10.00\" fill=\"#000000\">340x128x128</text>\n</g>\n<!-- /outputs/80 -->\n<g id=\"node52\" class=\"node\">\n<title>/outputs/80</title>\n<polygon fill=\"#e8e8e8\" stroke=\"#000000\" points=\"202,-1187 148,-1187 148,-1151 202,-1151 202,-1187\"/>\n<text text-anchor=\"start\" x=\"163\" y=\"-1166\" font-family=\"Times\" font-size=\"10.00\" fill=\"#000000\">Shape</text>\n</g>\n<!-- /outputs/21&#45;&gt;/outputs/80 -->\n<g id=\"edge2\" class=\"edge\">\n<title>/outputs/21&#45;&gt;/outputs/80</title>\n<path fill=\"none\" stroke=\"#000000\" d=\"M54.1455,-1169C77.5424,-1169 111.5551,-1169 137.5413,-1169\"/>\n<polygon fill=\"#000000\" stroke=\"#000000\" points=\"137.7764,-1172.5001 147.7764,-1169 137.7764,-1165.5001 137.7764,-1172.5001\"/>\n<text text-anchor=\"middle\" x=\"101\" y=\"-1172\" font-family=\"Times\" font-size=\"10.00\" fill=\"#000000\">340x128x128</text>\n</g>\n<!-- /outputs/89/90/91 -->\n<g id=\"node61\" class=\"node\">\n<title>/outputs/89/90/91</title>\n<polygon fill=\"#e8e8e8\" stroke=\"#000000\" points=\"777,-1238 723,-1238 723,-1202 777,-1202 777,-1238\"/>\n<text text-anchor=\"start\" x=\"737\" y=\"-1217\" font-family=\"Times\" font-size=\"10.00\" fill=\"#000000\">LSTM</text>\n</g>\n<!-- /outputs/21&#45;&gt;/outputs/89/90/91 -->\n<g id=\"edge3\" class=\"edge\">\n<title>/outputs/21&#45;&gt;/outputs/89/90/91</title>\n<path fill=\"none\" stroke=\"#000000\" d=\"M54.3959,-1178.9309C60.1597,-1180.7943 66.2395,-1182.5953 72,-1184 145.5281,-1201.9294 339.5969,-1220 360.5,-1220 360.5,-1220 360.5,-1220 606,-1220 642.293,-1220 683.7312,-1220 712.8081,-1220\"/>\n<polygon fill=\"#000000\" stroke=\"#000000\" points=\"712.929,-1223.5001 722.929,-1220 712.9289,-1216.5001 712.929,-1223.5001\"/>\n<text text-anchor=\"middle\" x=\"360.5\" y=\"-1223\" font-family=\"Times\" font-size=\"10.00\" fill=\"#000000\">340x128x128</text>\n</g>\n<!-- /outputs/24 -->\n<g id=\"node2\" class=\"node\">\n<title>/outputs/24</title>\n<polygon fill=\"#e8e8e8\" stroke=\"#000000\" points=\"387.5,-636 333.5,-636 333.5,-600 387.5,-600 387.5,-636\"/>\n<text text-anchor=\"start\" x=\"342.5\" y=\"-615\" font-family=\"Times\" font-size=\"10.00\" fill=\"#000000\">Constant</text>\n</g>\n<!-- /outputs/69 -->\n<g id=\"node41\" class=\"node\">\n<title>/outputs/69</title>\n<polygon fill=\"#e8e8e8\" stroke=\"#000000\" points=\"485.5,-686 431.5,-686 431.5,-650 485.5,-650 485.5,-686\"/>\n<text text-anchor=\"start\" x=\"448.5\" y=\"-665\" font-family=\"Times\" font-size=\"10.00\" fill=\"#000000\">Slice</text>\n</g>\n<!-- /outputs/24&#45;&gt;/outputs/69 -->\n<g id=\"edge4\" class=\"edge\">\n<title>/outputs/24&#45;&gt;/outputs/69</title>\n<path fill=\"none\" stroke=\"#000000\" d=\"M387.5384,-631.7951C398.2674,-637.2691 410.7677,-643.6468 422.2611,-649.5108\"/>\n<polygon fill=\"#000000\" stroke=\"#000000\" points=\"420.7114,-652.6493 431.2097,-654.0764 423.8927,-646.4139 420.7114,-652.6493\"/>\n</g>\n<!-- /outputs/138 -->\n<g id=\"node102\" class=\"node\">\n<title>/outputs/138</title>\n<polygon fill=\"#e8e8e8\" stroke=\"#000000\" points=\"705,-664 651,-664 651,-628 705,-628 705,-664\"/>\n<text text-anchor=\"start\" x=\"668\" y=\"-643\" font-family=\"Times\" font-size=\"10.00\" fill=\"#000000\">Slice</text>\n</g>\n<!-- /outputs/24&#45;&gt;/outputs/138 -->\n<g id=\"edge5\" class=\"edge\">\n<title>/outputs/24&#45;&gt;/outputs/138</title>\n<path fill=\"none\" stroke=\"#000000\" d=\"M387.5699,-620.3873C444.3913,-625.3983 576.1728,-637.02 640.846,-642.7234\"/>\n<polygon fill=\"#000000\" stroke=\"#000000\" points=\"640.7298,-646.2267 650.9986,-643.6188 641.3448,-639.2537 640.7298,-646.2267\"/>\n</g>\n<!-- /outputs/25 -->\n<g id=\"node3\" class=\"node\">\n<title>/outputs/25</title>\n<polygon fill=\"#e8e8e8\" stroke=\"#000000\" points=\"387.5,-1184 333.5,-1184 333.5,-1148 387.5,-1148 387.5,-1184\"/>\n<text text-anchor=\"start\" x=\"342.5\" y=\"-1163\" font-family=\"Times\" font-size=\"10.00\" fill=\"#000000\">Constant</text>\n</g>\n<!-- /outputs/70 -->\n<g id=\"node42\" class=\"node\">\n<title>/outputs/70</title>\n<polygon fill=\"#e8e8e8\" stroke=\"#000000\" points=\"485.5,-1190 431.5,-1190 431.5,-1154 485.5,-1154 485.5,-1190\"/>\n<text text-anchor=\"start\" x=\"448.5\" y=\"-1169\" font-family=\"Times\" font-size=\"10.00\" fill=\"#000000\">Slice</text>\n</g>\n<!-- /outputs/25&#45;&gt;/outputs/70 -->\n<g id=\"edge6\" class=\"edge\">\n<title>/outputs/25&#45;&gt;/outputs/70</title>\n<path fill=\"none\" stroke=\"#000000\" d=\"M387.5384,-1167.6554C397.8425,-1168.2863 409.7803,-1169.0172 420.891,-1169.6974\"/>\n<polygon fill=\"#000000\" stroke=\"#000000\" points=\"421.0144,-1173.2114 431.2097,-1170.3292 421.4423,-1166.2245 421.0144,-1173.2114\"/>\n</g>\n<!-- /outputs/139 -->\n<g id=\"node103\" class=\"node\">\n<title>/outputs/139</title>\n<polygon fill=\"#e8e8e8\" stroke=\"#000000\" points=\"561,-1134 507,-1134 507,-1098 561,-1098 561,-1134\"/>\n<text text-anchor=\"start\" x=\"524\" y=\"-1113\" font-family=\"Times\" font-size=\"10.00\" fill=\"#000000\">Slice</text>\n</g>\n<!-- /outputs/25&#45;&gt;/outputs/139 -->\n<g id=\"edge7\" class=\"edge\">\n<title>/outputs/25&#45;&gt;/outputs/139</title>\n<path fill=\"none\" stroke=\"#000000\" d=\"M387.6949,-1157.3044C399.977,-1153.4378 414.6886,-1148.8903 428,-1145 450.8727,-1138.3154 476.6582,-1131.2505 497.0699,-1125.7676\"/>\n<polygon fill=\"#000000\" stroke=\"#000000\" points=\"498.1598,-1129.0991 506.9155,-1123.1335 496.3506,-1122.337 498.1598,-1129.0991\"/>\n</g>\n<!-- /outputs/26 -->\n<g id=\"node4\" class=\"node\">\n<title>/outputs/26</title>\n<polygon fill=\"#e8e8e8\" stroke=\"#000000\" points=\"293,-914 239,-914 239,-878 293,-878 293,-914\"/>\n<text text-anchor=\"start\" x=\"256\" y=\"-893\" font-family=\"Times\" font-size=\"10.00\" fill=\"#000000\">Slice</text>\n</g>\n<!-- /outputs/29 -->\n<g id=\"node7\" class=\"node\">\n<title>/outputs/29</title>\n<polygon fill=\"#e8e8e8\" stroke=\"#000000\" points=\"387.5,-883 333.5,-883 333.5,-847 387.5,-847 387.5,-883\"/>\n<text text-anchor=\"start\" x=\"345.5\" y=\"-862\" font-family=\"Times\" font-size=\"10.00\" fill=\"#000000\">Concat</text>\n</g>\n<!-- /outputs/26&#45;&gt;/outputs/29 -->\n<g id=\"edge8\" class=\"edge\">\n<title>/outputs/26&#45;&gt;/outputs/29</title>\n<path fill=\"none\" stroke=\"#000000\" d=\"M293.0799,-887.1166C302.6688,-883.9711 313.622,-880.378 323.8719,-877.0156\"/>\n<polygon fill=\"#000000\" stroke=\"#000000\" points=\"325.0053,-880.3274 333.4161,-873.8847 322.8234,-873.6761 325.0053,-880.3274\"/>\n</g>\n<!-- /outputs/27 -->\n<g id=\"node5\" class=\"node\">\n<title>/outputs/27</title>\n<polygon fill=\"#e8e8e8\" stroke=\"#000000\" points=\"293,-860 239,-860 239,-824 293,-824 293,-860\"/>\n<text text-anchor=\"start\" x=\"256\" y=\"-839\" font-family=\"Times\" font-size=\"10.00\" fill=\"#000000\">Slice</text>\n</g>\n<!-- /outputs/27&#45;&gt;/outputs/29 -->\n<g id=\"edge9\" class=\"edge\">\n<title>/outputs/27&#45;&gt;/outputs/29</title>\n<path fill=\"none\" stroke=\"#000000\" d=\"M293.0799,-848.5909C302.5699,-850.9006 313.3963,-853.5356 323.5546,-856.008\"/>\n<polygon fill=\"#000000\" stroke=\"#000000\" points=\"322.8721,-859.444 333.4161,-858.4082 324.5275,-852.6425 322.8721,-859.444\"/>\n</g>\n<!-- /outputs/28 -->\n<g id=\"node6\" class=\"node\">\n<title>/outputs/28</title>\n<polygon fill=\"#e8e8e8\" stroke=\"#000000\" points=\"293,-806 239,-806 239,-770 293,-770 293,-806\"/>\n<text text-anchor=\"start\" x=\"256\" y=\"-785\" font-family=\"Times\" font-size=\"10.00\" fill=\"#000000\">Slice</text>\n</g>\n<!-- /outputs/28&#45;&gt;/outputs/29 -->\n<g id=\"edge10\" class=\"edge\">\n<title>/outputs/28&#45;&gt;/outputs/29</title>\n<path fill=\"none\" stroke=\"#000000\" d=\"M288.3952,-806.2479C300.8701,-816.4127 316.5764,-829.2104 330.143,-840.2647\"/>\n<polygon fill=\"#000000\" stroke=\"#000000\" points=\"328.3023,-843.2796 338.2656,-846.8831 332.7241,-837.853 328.3023,-843.2796\"/>\n</g>\n<!-- /outputs/43 -->\n<g id=\"node18\" class=\"node\">\n<title>/outputs/43</title>\n<polygon fill=\"#e8e8e8\" stroke=\"#000000\" points=\"489,-906 428,-906 428,-870 489,-870 489,-906\"/>\n<text text-anchor=\"start\" x=\"436.5\" y=\"-885\" font-family=\"Times\" font-size=\"10.00\" fill=\"#000000\">Unsqueeze</text>\n</g>\n<!-- /outputs/29&#45;&gt;/outputs/43 -->\n<g id=\"edge11\" class=\"edge\">\n<title>/outputs/29&#45;&gt;/outputs/43</title>\n<path fill=\"none\" stroke=\"#000000\" d=\"M387.5384,-871.3457C396.8864,-873.5397 407.5791,-876.0492 417.7789,-878.443\"/>\n<polygon fill=\"#000000\" stroke=\"#000000\" points=\"417.2112,-881.9048 427.7464,-880.7823 418.8106,-875.09 417.2112,-881.9048\"/>\n</g>\n<!-- /outputs/30 -->\n<g id=\"node8\" class=\"node\">\n<title>/outputs/30</title>\n<polygon fill=\"#e8e8e8\" stroke=\"#000000\" points=\"293,-2036 239,-2036 239,-2000 293,-2000 293,-2036\"/>\n<text text-anchor=\"start\" x=\"256\" y=\"-2015\" font-family=\"Times\" font-size=\"10.00\" fill=\"#000000\">Slice</text>\n</g>\n<!-- /outputs/33 -->\n<g id=\"node11\" class=\"node\">\n<title>/outputs/33</title>\n<polygon fill=\"#e8e8e8\" stroke=\"#000000\" points=\"387.5,-1955 333.5,-1955 333.5,-1919 387.5,-1919 387.5,-1955\"/>\n<text text-anchor=\"start\" x=\"345.5\" y=\"-1934\" font-family=\"Times\" font-size=\"10.00\" fill=\"#000000\">Concat</text>\n</g>\n<!-- /outputs/30&#45;&gt;/outputs/33 -->\n<g id=\"edge12\" class=\"edge\">\n<title>/outputs/30&#45;&gt;/outputs/33</title>\n<path fill=\"none\" stroke=\"#000000\" d=\"M287.4435,-1999.6198C300.5844,-1988.3562 317.5669,-1973.7998 331.8506,-1961.5566\"/>\n<polygon fill=\"#000000\" stroke=\"#000000\" points=\"334.1521,-1964.1937 339.4669,-1955.0284 329.5965,-1958.8789 334.1521,-1964.1937\"/>\n</g>\n<!-- /outputs/31 -->\n<g id=\"node9\" class=\"node\">\n<title>/outputs/31</title>\n<polygon fill=\"#e8e8e8\" stroke=\"#000000\" points=\"293,-1982 239,-1982 239,-1946 293,-1946 293,-1982\"/>\n<text text-anchor=\"start\" x=\"256\" y=\"-1961\" font-family=\"Times\" font-size=\"10.00\" fill=\"#000000\">Slice</text>\n</g>\n<!-- /outputs/31&#45;&gt;/outputs/33 -->\n<g id=\"edge13\" class=\"edge\">\n<title>/outputs/31&#45;&gt;/outputs/33</title>\n<path fill=\"none\" stroke=\"#000000\" d=\"M293.0799,-1956.2629C302.5699,-1953.5515 313.3963,-1950.4582 323.5546,-1947.5558\"/>\n<polygon fill=\"#000000\" stroke=\"#000000\" points=\"324.7624,-1950.8509 333.4161,-1944.7382 322.8393,-1944.1202 324.7624,-1950.8509\"/>\n</g>\n<!-- /outputs/32 -->\n<g id=\"node10\" class=\"node\">\n<title>/outputs/32</title>\n<polygon fill=\"#e8e8e8\" stroke=\"#000000\" points=\"293,-1928 239,-1928 239,-1892 293,-1892 293,-1928\"/>\n<text text-anchor=\"start\" x=\"256\" y=\"-1907\" font-family=\"Times\" font-size=\"10.00\" fill=\"#000000\">Slice</text>\n</g>\n<!-- /outputs/32&#45;&gt;/outputs/33 -->\n<g id=\"edge14\" class=\"edge\">\n<title>/outputs/32&#45;&gt;/outputs/33</title>\n<path fill=\"none\" stroke=\"#000000\" d=\"M293.0799,-1917.7371C302.5699,-1920.4485 313.3963,-1923.5418 323.5546,-1926.4442\"/>\n<polygon fill=\"#000000\" stroke=\"#000000\" points=\"322.8393,-1929.8798 333.4161,-1929.2618 324.7624,-1923.1491 322.8393,-1929.8798\"/>\n</g>\n<!-- /outputs/44 -->\n<g id=\"node19\" class=\"node\">\n<title>/outputs/44</title>\n<polygon fill=\"#e8e8e8\" stroke=\"#000000\" points=\"489,-1760 428,-1760 428,-1724 489,-1724 489,-1760\"/>\n<text text-anchor=\"start\" x=\"436.5\" y=\"-1739\" font-family=\"Times\" font-size=\"10.00\" fill=\"#000000\">Unsqueeze</text>\n</g>\n<!-- /outputs/33&#45;&gt;/outputs/44 -->\n<g id=\"edge15\" class=\"edge\">\n<title>/outputs/33&#45;&gt;/outputs/44</title>\n<path fill=\"none\" stroke=\"#000000\" d=\"M369.7196,-1918.6549C387.0554,-1884.1601 424.5843,-1809.4853 444.8535,-1769.1537\"/>\n<polygon fill=\"#000000\" stroke=\"#000000\" points=\"448.0131,-1770.6611 449.3763,-1760.1543 441.7585,-1767.5177 448.0131,-1770.6611\"/>\n</g>\n<!-- /outputs/34 -->\n<g id=\"node12\" class=\"node\">\n<title>/outputs/34</title>\n<polygon fill=\"#e8e8e8\" stroke=\"#000000\" points=\"293,-1388 239,-1388 239,-1352 293,-1352 293,-1388\"/>\n<text text-anchor=\"start\" x=\"256\" y=\"-1367\" font-family=\"Times\" font-size=\"10.00\" fill=\"#000000\">Slice</text>\n</g>\n<!-- 4917050030189248263 -->\n<g id=\"node134\" class=\"node\">\n<title>4917050030189248263</title>\n<polygon fill=\"#e8e8e8\" stroke=\"#000000\" points=\"387.5,-1419 333.5,-1419 333.5,-1375 387.5,-1375 387.5,-1419\"/>\n<text text-anchor=\"start\" x=\"345.5\" y=\"-1403\" font-family=\"Times\" font-size=\"10.00\" fill=\"#000000\">Concat</text>\n<text text-anchor=\"start\" x=\"368.5\" y=\"-1382\" font-family=\"Times\" font-size=\"10.00\" fill=\"#000000\">x3</text>\n</g>\n<!-- /outputs/34&#45;&gt;4917050030189248263 -->\n<g id=\"edge121\" class=\"edge\">\n<title>/outputs/34&#45;&gt;4917050030189248263</title>\n<path fill=\"none\" stroke=\"#000000\" d=\"M293.0799,-1377.7371C302.5699,-1380.4485 313.3963,-1383.5418 323.5546,-1386.4442\"/>\n<polygon fill=\"#000000\" stroke=\"#000000\" points=\"322.8393,-1389.8798 333.4161,-1389.2618 324.7624,-1383.1491 322.8393,-1389.8798\"/>\n</g>\n<!-- /outputs/35 -->\n<g id=\"node13\" class=\"node\">\n<title>/outputs/35</title>\n<polygon fill=\"#e8e8e8\" stroke=\"#000000\" points=\"293,-1334 239,-1334 239,-1298 293,-1298 293,-1334\"/>\n<text text-anchor=\"start\" x=\"256\" y=\"-1313\" font-family=\"Times\" font-size=\"10.00\" fill=\"#000000\">Slice</text>\n</g>\n<!-- /outputs/35&#45;&gt;4917050030189248263 -->\n<g id=\"edge122\" class=\"edge\">\n<title>/outputs/35&#45;&gt;4917050030189248263</title>\n<path fill=\"none\" stroke=\"#000000\" d=\"M287.4435,-1334.3802C299.0784,-1344.3529 313.7247,-1356.9069 326.843,-1368.1512\"/>\n<polygon fill=\"#000000\" stroke=\"#000000\" points=\"324.9027,-1371.0978 334.773,-1374.9483 329.4582,-1365.783 324.9027,-1371.0978\"/>\n</g>\n<!-- /outputs/36 -->\n<g id=\"node14\" class=\"node\">\n<title>/outputs/36</title>\n<polygon fill=\"#e8e8e8\" stroke=\"#000000\" points=\"293,-1280 239,-1280 239,-1244 293,-1244 293,-1280\"/>\n<text text-anchor=\"start\" x=\"256\" y=\"-1259\" font-family=\"Times\" font-size=\"10.00\" fill=\"#000000\">Slice</text>\n</g>\n<!-- /outputs/36&#45;&gt;4917050030189248263 -->\n<g id=\"edge123\" class=\"edge\">\n<title>/outputs/36&#45;&gt;4917050030189248263</title>\n<path fill=\"none\" stroke=\"#000000\" d=\"M285.1745,-1280.0703C287.9114,-1282.9596 290.6064,-1285.9911 293,-1289 312.4782,-1313.4852 331.0467,-1343.8995 343.76,-1366.2072\"/>\n<polygon fill=\"#000000\" stroke=\"#000000\" points=\"340.7139,-1367.9311 348.6684,-1374.9294 346.8142,-1364.4981 340.7139,-1367.9311\"/>\n</g>\n<!-- /outputs/38 -->\n<g id=\"node15\" class=\"node\">\n<title>/outputs/38</title>\n<polygon fill=\"#e8e8e8\" stroke=\"#000000\" points=\"293,-1550 239,-1550 239,-1514 293,-1514 293,-1550\"/>\n<text text-anchor=\"start\" x=\"256\" y=\"-1529\" font-family=\"Times\" font-size=\"10.00\" fill=\"#000000\">Slice</text>\n</g>\n<!-- /outputs/38&#45;&gt;4917050030189248263 -->\n<g id=\"edge118\" class=\"edge\">\n<title>/outputs/38&#45;&gt;4917050030189248263</title>\n<path fill=\"none\" stroke=\"#000000\" d=\"M285.1745,-1513.9297C287.9114,-1511.0404 290.6064,-1508.0089 293,-1505 312.4782,-1480.5148 331.0467,-1450.1005 343.76,-1427.7928\"/>\n<polygon fill=\"#000000\" stroke=\"#000000\" points=\"346.8142,-1429.5019 348.6684,-1419.0706 340.7139,-1426.0689 346.8142,-1429.5019\"/>\n</g>\n<!-- /outputs/39 -->\n<g id=\"node16\" class=\"node\">\n<title>/outputs/39</title>\n<polygon fill=\"#e8e8e8\" stroke=\"#000000\" points=\"293,-1496 239,-1496 239,-1460 293,-1460 293,-1496\"/>\n<text text-anchor=\"start\" x=\"256\" y=\"-1475\" font-family=\"Times\" font-size=\"10.00\" fill=\"#000000\">Slice</text>\n</g>\n<!-- /outputs/39&#45;&gt;4917050030189248263 -->\n<g id=\"edge119\" class=\"edge\">\n<title>/outputs/39&#45;&gt;4917050030189248263</title>\n<path fill=\"none\" stroke=\"#000000\" d=\"M287.4435,-1459.6198C299.0784,-1449.6471 313.7247,-1437.0931 326.843,-1425.8488\"/>\n<polygon fill=\"#000000\" stroke=\"#000000\" points=\"329.4582,-1428.217 334.773,-1419.0517 324.9027,-1422.9022 329.4582,-1428.217\"/>\n</g>\n<!-- /outputs/40 -->\n<g id=\"node17\" class=\"node\">\n<title>/outputs/40</title>\n<polygon fill=\"#e8e8e8\" stroke=\"#000000\" points=\"293,-1442 239,-1442 239,-1406 293,-1406 293,-1442\"/>\n<text text-anchor=\"start\" x=\"256\" y=\"-1421\" font-family=\"Times\" font-size=\"10.00\" fill=\"#000000\">Slice</text>\n</g>\n<!-- /outputs/40&#45;&gt;4917050030189248263 -->\n<g id=\"edge120\" class=\"edge\">\n<title>/outputs/40&#45;&gt;4917050030189248263</title>\n<path fill=\"none\" stroke=\"#000000\" d=\"M293.0799,-1416.2629C302.5699,-1413.5515 313.3963,-1410.4582 323.5546,-1407.5558\"/>\n<polygon fill=\"#000000\" stroke=\"#000000\" points=\"324.7624,-1410.8509 333.4161,-1404.7382 322.8393,-1404.1202 324.7624,-1410.8509\"/>\n</g>\n<!-- /outputs/66 -->\n<g id=\"node38\" class=\"node\">\n<title>/outputs/66</title>\n<polygon fill=\"#e8e8e8\" stroke=\"#000000\" points=\"633,-968 579,-968 579,-932 633,-932 633,-968\"/>\n<text text-anchor=\"start\" x=\"591\" y=\"-947\" font-family=\"Times\" font-size=\"10.00\" fill=\"#000000\">Concat</text>\n</g>\n<!-- /outputs/43&#45;&gt;/outputs/66 -->\n<g id=\"edge16\" class=\"edge\">\n<title>/outputs/43&#45;&gt;/outputs/66</title>\n<path fill=\"none\" stroke=\"#000000\" d=\"M489.0621,-900.8464C512.4531,-910.6786 544.7934,-924.2725 569.536,-934.6728\"/>\n<polygon fill=\"#000000\" stroke=\"#000000\" points=\"568.3739,-937.9809 578.9489,-938.6294 571.0865,-931.5278 568.3739,-937.9809\"/>\n</g>\n<!-- /outputs/67 -->\n<g id=\"node39\" class=\"node\">\n<title>/outputs/67</title>\n<polygon fill=\"#e8e8e8\" stroke=\"#000000\" points=\"633,-1751 579,-1751 579,-1715 633,-1715 633,-1751\"/>\n<text text-anchor=\"start\" x=\"591\" y=\"-1730\" font-family=\"Times\" font-size=\"10.00\" fill=\"#000000\">Concat</text>\n</g>\n<!-- /outputs/44&#45;&gt;/outputs/67 -->\n<g id=\"edge17\" class=\"edge\">\n<title>/outputs/44&#45;&gt;/outputs/67</title>\n<path fill=\"none\" stroke=\"#000000\" d=\"M489.0621,-1740.1352C512.2461,-1738.7206 544.2217,-1736.7695 568.8774,-1735.2651\"/>\n<polygon fill=\"#000000\" stroke=\"#000000\" points=\"569.1807,-1738.7532 578.9489,-1734.6506 568.7543,-1731.7662 569.1807,-1738.7532\"/>\n</g>\n<!-- /outputs/45 -->\n<g id=\"node20\" class=\"node\">\n<title>/outputs/45</title>\n<polygon fill=\"#e8e8e8\" stroke=\"#000000\" points=\"489,-1415 428,-1415 428,-1379 489,-1379 489,-1415\"/>\n<text text-anchor=\"start\" x=\"436.5\" y=\"-1394\" font-family=\"Times\" font-size=\"10.00\" fill=\"#000000\">Unsqueeze</text>\n</g>\n<!-- /outputs/68 -->\n<g id=\"node40\" class=\"node\">\n<title>/outputs/68</title>\n<polygon fill=\"#e8e8e8\" stroke=\"#000000\" points=\"633,-1415 579,-1415 579,-1379 633,-1379 633,-1415\"/>\n<text text-anchor=\"start\" x=\"591\" y=\"-1394\" font-family=\"Times\" font-size=\"10.00\" fill=\"#000000\">Concat</text>\n</g>\n<!-- /outputs/45&#45;&gt;/outputs/68 -->\n<g id=\"edge18\" class=\"edge\">\n<title>/outputs/45&#45;&gt;/outputs/68</title>\n<path fill=\"none\" stroke=\"#000000\" d=\"M489.0621,-1397C512.2461,-1397 544.2217,-1397 568.8774,-1397\"/>\n<polygon fill=\"#000000\" stroke=\"#000000\" points=\"568.9489,-1400.5001 578.9489,-1397 568.9489,-1393.5001 568.9489,-1400.5001\"/>\n</g>\n<!-- /outputs/46 -->\n<g id=\"node21\" class=\"node\">\n<title>/outputs/46</title>\n<polygon fill=\"#e8e8e8\" stroke=\"#000000\" points=\"293,-1076 239,-1076 239,-1040 293,-1040 293,-1076\"/>\n<text text-anchor=\"start\" x=\"256\" y=\"-1055\" font-family=\"Times\" font-size=\"10.00\" fill=\"#000000\">Slice</text>\n</g>\n<!-- /outputs/49 -->\n<g id=\"node24\" class=\"node\">\n<title>/outputs/49</title>\n<polygon fill=\"#e8e8e8\" stroke=\"#000000\" points=\"387.5,-968 333.5,-968 333.5,-932 387.5,-932 387.5,-968\"/>\n<text text-anchor=\"start\" x=\"345.5\" y=\"-947\" font-family=\"Times\" font-size=\"10.00\" fill=\"#000000\">Concat</text>\n</g>\n<!-- /outputs/46&#45;&gt;/outputs/49 -->\n<g id=\"edge19\" class=\"edge\">\n<title>/outputs/46&#45;&gt;/outputs/49</title>\n<path fill=\"none\" stroke=\"#000000\" d=\"M285.0618,-1039.838C287.8142,-1036.9614 290.5435,-1033.9579 293,-1031 311.5874,-1008.6186 310.7409,-998.8061 330,-977 330.4096,-976.5362 330.8269,-976.0726 331.2508,-975.6096\"/>\n<polygon fill=\"#000000\" stroke=\"#000000\" points=\"333.9871,-977.8208 338.5402,-968.2542 329.015,-972.8934 333.9871,-977.8208\"/>\n</g>\n<!-- /outputs/47 -->\n<g id=\"node22\" class=\"node\">\n<title>/outputs/47</title>\n<polygon fill=\"#e8e8e8\" stroke=\"#000000\" points=\"293,-1022 239,-1022 239,-986 293,-986 293,-1022\"/>\n<text text-anchor=\"start\" x=\"256\" y=\"-1001\" font-family=\"Times\" font-size=\"10.00\" fill=\"#000000\">Slice</text>\n</g>\n<!-- /outputs/47&#45;&gt;/outputs/49 -->\n<g id=\"edge20\" class=\"edge\">\n<title>/outputs/47&#45;&gt;/outputs/49</title>\n<path fill=\"none\" stroke=\"#000000\" d=\"M293.0799,-988.5258C302.8665,-982.9335 314.0742,-976.529 324.505,-970.5686\"/>\n<polygon fill=\"#000000\" stroke=\"#000000\" points=\"326.4702,-973.4768 333.4161,-965.4765 322.9972,-967.3991 326.4702,-973.4768\"/>\n</g>\n<!-- /outputs/48 -->\n<g id=\"node23\" class=\"node\">\n<title>/outputs/48</title>\n<polygon fill=\"#e8e8e8\" stroke=\"#000000\" points=\"293,-968 239,-968 239,-932 293,-932 293,-968\"/>\n<text text-anchor=\"start\" x=\"256\" y=\"-947\" font-family=\"Times\" font-size=\"10.00\" fill=\"#000000\">Slice</text>\n</g>\n<!-- /outputs/48&#45;&gt;/outputs/49 -->\n<g id=\"edge21\" class=\"edge\">\n<title>/outputs/48&#45;&gt;/outputs/49</title>\n<path fill=\"none\" stroke=\"#000000\" d=\"M293.0799,-950C302.471,-950 313.1709,-950 323.237,-950\"/>\n<polygon fill=\"#000000\" stroke=\"#000000\" points=\"323.4162,-953.5001 333.4161,-950 323.4161,-946.5001 323.4162,-953.5001\"/>\n</g>\n<!-- /outputs/63 -->\n<g id=\"node35\" class=\"node\">\n<title>/outputs/63</title>\n<polygon fill=\"#e8e8e8\" stroke=\"#000000\" points=\"489,-968 428,-968 428,-932 489,-932 489,-968\"/>\n<text text-anchor=\"start\" x=\"436.5\" y=\"-947\" font-family=\"Times\" font-size=\"10.00\" fill=\"#000000\">Unsqueeze</text>\n</g>\n<!-- /outputs/49&#45;&gt;/outputs/63 -->\n<g id=\"edge22\" class=\"edge\">\n<title>/outputs/49&#45;&gt;/outputs/63</title>\n<path fill=\"none\" stroke=\"#000000\" d=\"M387.5384,-950C396.7891,-950 407.3565,-950 417.46,-950\"/>\n<polygon fill=\"#000000\" stroke=\"#000000\" points=\"417.7464,-953.5001 427.7464,-950 417.7463,-946.5001 417.7464,-953.5001\"/>\n</g>\n<!-- /outputs/50 -->\n<g id=\"node25\" class=\"node\">\n<title>/outputs/50</title>\n<polygon fill=\"#e8e8e8\" stroke=\"#000000\" points=\"293,-2198 239,-2198 239,-2162 293,-2162 293,-2198\"/>\n<text text-anchor=\"start\" x=\"256\" y=\"-2177\" font-family=\"Times\" font-size=\"10.00\" fill=\"#000000\">Slice</text>\n</g>\n<!-- /outputs/53 -->\n<g id=\"node28\" class=\"node\">\n<title>/outputs/53</title>\n<polygon fill=\"#e8e8e8\" stroke=\"#000000\" points=\"387.5,-2117 333.5,-2117 333.5,-2081 387.5,-2081 387.5,-2117\"/>\n<text text-anchor=\"start\" x=\"345.5\" y=\"-2096\" font-family=\"Times\" font-size=\"10.00\" fill=\"#000000\">Concat</text>\n</g>\n<!-- /outputs/50&#45;&gt;/outputs/53 -->\n<g id=\"edge23\" class=\"edge\">\n<title>/outputs/50&#45;&gt;/outputs/53</title>\n<path fill=\"none\" stroke=\"#000000\" d=\"M287.4435,-2161.6198C300.5844,-2150.3562 317.5669,-2135.7998 331.8506,-2123.5566\"/>\n<polygon fill=\"#000000\" stroke=\"#000000\" points=\"334.1521,-2126.1937 339.4669,-2117.0284 329.5965,-2120.8789 334.1521,-2126.1937\"/>\n</g>\n<!-- /outputs/51 -->\n<g id=\"node26\" class=\"node\">\n<title>/outputs/51</title>\n<polygon fill=\"#e8e8e8\" stroke=\"#000000\" points=\"293,-2144 239,-2144 239,-2108 293,-2108 293,-2144\"/>\n<text text-anchor=\"start\" x=\"256\" y=\"-2123\" font-family=\"Times\" font-size=\"10.00\" fill=\"#000000\">Slice</text>\n</g>\n<!-- /outputs/51&#45;&gt;/outputs/53 -->\n<g id=\"edge24\" class=\"edge\">\n<title>/outputs/51&#45;&gt;/outputs/53</title>\n<path fill=\"none\" stroke=\"#000000\" d=\"M293.0799,-2118.2629C302.5699,-2115.5515 313.3963,-2112.4582 323.5546,-2109.5558\"/>\n<polygon fill=\"#000000\" stroke=\"#000000\" points=\"324.7624,-2112.8509 333.4161,-2106.7382 322.8393,-2106.1202 324.7624,-2112.8509\"/>\n</g>\n<!-- /outputs/52 -->\n<g id=\"node27\" class=\"node\">\n<title>/outputs/52</title>\n<polygon fill=\"#e8e8e8\" stroke=\"#000000\" points=\"293,-2090 239,-2090 239,-2054 293,-2054 293,-2090\"/>\n<text text-anchor=\"start\" x=\"256\" y=\"-2069\" font-family=\"Times\" font-size=\"10.00\" fill=\"#000000\">Slice</text>\n</g>\n<!-- /outputs/52&#45;&gt;/outputs/53 -->\n<g id=\"edge25\" class=\"edge\">\n<title>/outputs/52&#45;&gt;/outputs/53</title>\n<path fill=\"none\" stroke=\"#000000\" d=\"M293.0799,-2079.7371C302.5699,-2082.4485 313.3963,-2085.5418 323.5546,-2088.4442\"/>\n<polygon fill=\"#000000\" stroke=\"#000000\" points=\"322.8393,-2091.8798 333.4161,-2091.2618 324.7624,-2085.1491 322.8393,-2091.8798\"/>\n</g>\n<!-- /outputs/64 -->\n<g id=\"node36\" class=\"node\">\n<title>/outputs/64</title>\n<polygon fill=\"#e8e8e8\" stroke=\"#000000\" points=\"489,-1858 428,-1858 428,-1822 489,-1822 489,-1858\"/>\n<text text-anchor=\"start\" x=\"436.5\" y=\"-1837\" font-family=\"Times\" font-size=\"10.00\" fill=\"#000000\">Unsqueeze</text>\n</g>\n<!-- /outputs/53&#45;&gt;/outputs/64 -->\n<g id=\"edge26\" class=\"edge\">\n<title>/outputs/53&#45;&gt;/outputs/64</title>\n<path fill=\"none\" stroke=\"#000000\" d=\"M367.3912,-2080.7876C384.2953,-2036.1123 427.8999,-1920.8717 448.0302,-1867.6701\"/>\n<polygon fill=\"#000000\" stroke=\"#000000\" points=\"451.351,-1868.7838 451.6164,-1858.1923 444.804,-1866.3065 451.351,-1868.7838\"/>\n</g>\n<!-- /outputs/54 -->\n<g id=\"node29\" class=\"node\">\n<title>/outputs/54</title>\n<polygon fill=\"#e8e8e8\" stroke=\"#000000\" points=\"293,-1712 239,-1712 239,-1676 293,-1676 293,-1712\"/>\n<text text-anchor=\"start\" x=\"256\" y=\"-1691\" font-family=\"Times\" font-size=\"10.00\" fill=\"#000000\">Slice</text>\n</g>\n<!-- 16137686710547183666 -->\n<g id=\"node135\" class=\"node\">\n<title>16137686710547183666</title>\n<polygon fill=\"#e8e8e8\" stroke=\"#000000\" points=\"387.5,-1716 333.5,-1716 333.5,-1672 387.5,-1672 387.5,-1716\"/>\n<text text-anchor=\"start\" x=\"345.5\" y=\"-1700\" font-family=\"Times\" font-size=\"10.00\" fill=\"#000000\">Concat</text>\n<text text-anchor=\"start\" x=\"368.5\" y=\"-1679\" font-family=\"Times\" font-size=\"10.00\" fill=\"#000000\">x3</text>\n</g>\n<!-- /outputs/54&#45;&gt;16137686710547183666 -->\n<g id=\"edge128\" class=\"edge\">\n<title>/outputs/54&#45;&gt;16137686710547183666</title>\n<path fill=\"none\" stroke=\"#000000\" d=\"M293.0799,-1694C302.471,-1694 313.1709,-1694 323.237,-1694\"/>\n<polygon fill=\"#000000\" stroke=\"#000000\" points=\"323.4162,-1697.5001 333.4161,-1694 323.4161,-1690.5001 323.4162,-1697.5001\"/>\n</g>\n<!-- /outputs/55 -->\n<g id=\"node30\" class=\"node\">\n<title>/outputs/55</title>\n<polygon fill=\"#e8e8e8\" stroke=\"#000000\" points=\"293,-1658 239,-1658 239,-1622 293,-1622 293,-1658\"/>\n<text text-anchor=\"start\" x=\"256\" y=\"-1637\" font-family=\"Times\" font-size=\"10.00\" fill=\"#000000\">Slice</text>\n</g>\n<!-- /outputs/55&#45;&gt;16137686710547183666 -->\n<g id=\"edge129\" class=\"edge\">\n<title>/outputs/55&#45;&gt;16137686710547183666</title>\n<path fill=\"none\" stroke=\"#000000\" d=\"M293.0799,-1655.4742C302.8665,-1661.0665 314.0742,-1667.471 324.505,-1673.4314\"/>\n<polygon fill=\"#000000\" stroke=\"#000000\" points=\"322.9972,-1676.6009 333.4161,-1678.5235 326.4702,-1670.5232 322.9972,-1676.6009\"/>\n</g>\n<!-- /outputs/56 -->\n<g id=\"node31\" class=\"node\">\n<title>/outputs/56</title>\n<polygon fill=\"#e8e8e8\" stroke=\"#000000\" points=\"293,-1604 239,-1604 239,-1568 293,-1568 293,-1604\"/>\n<text text-anchor=\"start\" x=\"256\" y=\"-1583\" font-family=\"Times\" font-size=\"10.00\" fill=\"#000000\">Slice</text>\n</g>\n<!-- /outputs/56&#45;&gt;16137686710547183666 -->\n<g id=\"edge130\" class=\"edge\">\n<title>/outputs/56&#45;&gt;16137686710547183666</title>\n<path fill=\"none\" stroke=\"#000000\" d=\"M284.5291,-1604.0808C287.4098,-1607.0195 290.3178,-1610.0629 293,-1613 307.8937,-1629.3091 323.7424,-1648.2379 336.3375,-1663.6941\"/>\n<polygon fill=\"#000000\" stroke=\"#000000\" points=\"333.9588,-1666.318 342.9733,-1671.8849 339.3979,-1661.9116 333.9588,-1666.318\"/>\n</g>\n<!-- /outputs/58 -->\n<g id=\"node32\" class=\"node\">\n<title>/outputs/58</title>\n<polygon fill=\"#e8e8e8\" stroke=\"#000000\" points=\"293,-1874 239,-1874 239,-1838 293,-1838 293,-1874\"/>\n<text text-anchor=\"start\" x=\"256\" y=\"-1853\" font-family=\"Times\" font-size=\"10.00\" fill=\"#000000\">Slice</text>\n</g>\n<!-- /outputs/58&#45;&gt;16137686710547183666 -->\n<g id=\"edge125\" class=\"edge\">\n<title>/outputs/58&#45;&gt;16137686710547183666</title>\n<path fill=\"none\" stroke=\"#000000\" d=\"M285.7147,-1837.8251C288.3164,-1834.9976 290.8294,-1832.0116 293,-1829 316.5739,-1796.293 336.1935,-1754.1364 348.0966,-1725.7032\"/>\n<polygon fill=\"#000000\" stroke=\"#000000\" points=\"351.415,-1726.8362 351.979,-1716.2563 344.9405,-1724.1753 351.415,-1726.8362\"/>\n</g>\n<!-- /outputs/59 -->\n<g id=\"node33\" class=\"node\">\n<title>/outputs/59</title>\n<polygon fill=\"#e8e8e8\" stroke=\"#000000\" points=\"293,-1820 239,-1820 239,-1784 293,-1784 293,-1820\"/>\n<text text-anchor=\"start\" x=\"256\" y=\"-1799\" font-family=\"Times\" font-size=\"10.00\" fill=\"#000000\">Slice</text>\n</g>\n<!-- /outputs/59&#45;&gt;16137686710547183666 -->\n<g id=\"edge126\" class=\"edge\">\n<title>/outputs/59&#45;&gt;16137686710547183666</title>\n<path fill=\"none\" stroke=\"#000000\" d=\"M284.5291,-1783.9192C287.4098,-1780.9805 290.3178,-1777.9371 293,-1775 307.8937,-1758.6909 323.7424,-1739.7621 336.3375,-1724.3059\"/>\n<polygon fill=\"#000000\" stroke=\"#000000\" points=\"339.3979,-1726.0884 342.9733,-1716.1151 333.9588,-1721.682 339.3979,-1726.0884\"/>\n</g>\n<!-- /outputs/60 -->\n<g id=\"node34\" class=\"node\">\n<title>/outputs/60</title>\n<polygon fill=\"#e8e8e8\" stroke=\"#000000\" points=\"293,-1766 239,-1766 239,-1730 293,-1730 293,-1766\"/>\n<text text-anchor=\"start\" x=\"256\" y=\"-1745\" font-family=\"Times\" font-size=\"10.00\" fill=\"#000000\">Slice</text>\n</g>\n<!-- /outputs/60&#45;&gt;16137686710547183666 -->\n<g id=\"edge127\" class=\"edge\">\n<title>/outputs/60&#45;&gt;16137686710547183666</title>\n<path fill=\"none\" stroke=\"#000000\" d=\"M293.0799,-1732.5258C302.8665,-1726.9335 314.0742,-1720.529 324.505,-1714.5686\"/>\n<polygon fill=\"#000000\" stroke=\"#000000\" points=\"326.4702,-1717.4768 333.4161,-1709.4765 322.9972,-1711.3991 326.4702,-1717.4768\"/>\n</g>\n<!-- /outputs/63&#45;&gt;/outputs/66 -->\n<g id=\"edge27\" class=\"edge\">\n<title>/outputs/63&#45;&gt;/outputs/66</title>\n<path fill=\"none\" stroke=\"#000000\" d=\"M489.0621,-950C512.2461,-950 544.2217,-950 568.8774,-950\"/>\n<polygon fill=\"#000000\" stroke=\"#000000\" points=\"568.9489,-953.5001 578.9489,-950 568.9489,-946.5001 568.9489,-953.5001\"/>\n</g>\n<!-- /outputs/64&#45;&gt;/outputs/67 -->\n<g id=\"edge28\" class=\"edge\">\n<title>/outputs/64&#45;&gt;/outputs/67</title>\n<path fill=\"none\" stroke=\"#000000\" d=\"M483.5214,-1821.8489C507.996,-1804.0944 545.4301,-1776.9388 572.4711,-1757.3226\"/>\n<polygon fill=\"#000000\" stroke=\"#000000\" points=\"574.8166,-1759.9452 580.8559,-1751.2401 570.7062,-1754.279 574.8166,-1759.9452\"/>\n</g>\n<!-- /outputs/65 -->\n<g id=\"node37\" class=\"node\">\n<title>/outputs/65</title>\n<polygon fill=\"#e8e8e8\" stroke=\"#000000\" points=\"489,-1639 428,-1639 428,-1603 489,-1603 489,-1639\"/>\n<text text-anchor=\"start\" x=\"436.5\" y=\"-1618\" font-family=\"Times\" font-size=\"10.00\" fill=\"#000000\">Unsqueeze</text>\n</g>\n<!-- /outputs/65&#45;&gt;/outputs/68 -->\n<g id=\"edge29\" class=\"edge\">\n<title>/outputs/65&#45;&gt;/outputs/68</title>\n<path fill=\"none\" stroke=\"#000000\" d=\"M470.5705,-1602.6691C496.5653,-1563.1923 557.9401,-1469.9859 588.3253,-1423.8415\"/>\n<polygon fill=\"#000000\" stroke=\"#000000\" points=\"591.3931,-1425.5468 593.9695,-1415.27 585.5467,-1421.6971 591.3931,-1425.5468\"/>\n</g>\n<!-- /outputs/66&#45;&gt;/outputs/89/90/91 -->\n<g id=\"edge30\" class=\"edge\">\n<title>/outputs/66&#45;&gt;/outputs/89/90/91</title>\n<path fill=\"none\" stroke=\"#000000\" d=\"M615.6718,-968.1347C640.4189,-1014.5354 706.1463,-1137.7743 735.4942,-1192.8016\"/>\n<polygon fill=\"#000000\" stroke=\"#000000\" points=\"732.5761,-1194.7678 740.3703,-1201.9442 738.7526,-1191.4736 732.5761,-1194.7678\"/>\n</g>\n<!-- /outputs/67&#45;&gt;/outputs/89/90/91 -->\n<g id=\"edge31\" class=\"edge\">\n<title>/outputs/67&#45;&gt;/outputs/89/90/91</title>\n<path fill=\"none\" stroke=\"#000000\" d=\"M611.125,-1714.7421C632.6894,-1637.919 716.1392,-1340.629 742.1873,-1247.8326\"/>\n<polygon fill=\"#000000\" stroke=\"#000000\" points=\"745.6035,-1248.613 744.9364,-1238.0392 738.864,-1246.7211 745.6035,-1248.613\"/>\n</g>\n<!-- /outputs/68&#45;&gt;/outputs/89/90/91 -->\n<g id=\"edge32\" class=\"edge\">\n<title>/outputs/68&#45;&gt;/outputs/89/90/91</title>\n<path fill=\"none\" stroke=\"#000000\" d=\"M620.8682,-1378.7246C646.4805,-1347.2427 699.0125,-1282.6721 728.5721,-1246.3385\"/>\n<polygon fill=\"#000000\" stroke=\"#000000\" points=\"731.6168,-1248.142 735.2127,-1238.176 726.1868,-1243.7243 731.6168,-1248.142\"/>\n</g>\n<!-- /outputs/79 -->\n<g id=\"node51\" class=\"node\">\n<title>/outputs/79</title>\n<polygon fill=\"#e8e8e8\" stroke=\"#000000\" points=\"633,-744 579,-744 579,-708 633,-708 633,-744\"/>\n<text text-anchor=\"start\" x=\"590\" y=\"-723\" font-family=\"Times\" font-size=\"10.00\" fill=\"#000000\">Expand</text>\n</g>\n<!-- /outputs/69&#45;&gt;/outputs/79 -->\n<g id=\"edge33\" class=\"edge\">\n<title>/outputs/69&#45;&gt;/outputs/79</title>\n<path fill=\"none\" stroke=\"#000000\" d=\"M485.5538,-678.6381C509.0789,-687.8887 543.3729,-701.3738 569.3566,-711.5911\"/>\n<polygon fill=\"#000000\" stroke=\"#000000\" points=\"568.2812,-714.929 578.8684,-715.3313 570.8428,-708.4146 568.2812,-714.929\"/>\n</g>\n<!-- /outputs/88 -->\n<g id=\"node60\" class=\"node\">\n<title>/outputs/88</title>\n<polygon fill=\"#e8e8e8\" stroke=\"#000000\" points=\"633,-1190 579,-1190 579,-1154 633,-1154 633,-1190\"/>\n<text text-anchor=\"start\" x=\"590\" y=\"-1169\" font-family=\"Times\" font-size=\"10.00\" fill=\"#000000\">Expand</text>\n</g>\n<!-- /outputs/70&#45;&gt;/outputs/88 -->\n<g id=\"edge34\" class=\"edge\">\n<title>/outputs/70&#45;&gt;/outputs/88</title>\n<path fill=\"none\" stroke=\"#000000\" d=\"M485.5538,-1172C508.8717,-1172 542.7695,-1172 568.6679,-1172\"/>\n<polygon fill=\"#000000\" stroke=\"#000000\" points=\"568.8684,-1175.5001 578.8684,-1172 568.8684,-1168.5001 568.8684,-1175.5001\"/>\n</g>\n<!-- /outputs/73 -->\n<g id=\"node45\" class=\"node\">\n<title>/outputs/73</title>\n<polygon fill=\"#e8e8e8\" stroke=\"#000000\" points=\"293,-752 239,-752 239,-716 293,-716 293,-752\"/>\n<text text-anchor=\"start\" x=\"252\" y=\"-731\" font-family=\"Times\" font-size=\"10.00\" fill=\"#000000\">Gather</text>\n</g>\n<!-- /outputs/71&#45;&gt;/outputs/73 -->\n<g id=\"edge35\" class=\"edge\">\n<title>/outputs/71&#45;&gt;/outputs/73</title>\n<path fill=\"none\" stroke=\"#000000\" d=\"M179.4709,-907.5018C187.7262,-875.6925 207.4552,-809.3895 239,-761 239.1833,-760.7189 239.3699,-760.4383 239.5595,-760.1584\"/>\n<polygon fill=\"#000000\" stroke=\"#000000\" points=\"242.3101,-762.3227 245.7487,-752.3014 236.8112,-757.9911 242.3101,-762.3227\"/>\n</g>\n<!-- /outputs/72 -->\n<g id=\"node44\" class=\"node\">\n<title>/outputs/72</title>\n<polygon fill=\"#e8e8e8\" stroke=\"#000000\" points=\"202,-752 148,-752 148,-716 202,-716 202,-752\"/>\n<text text-anchor=\"start\" x=\"157\" y=\"-731\" font-family=\"Times\" font-size=\"10.00\" fill=\"#000000\">Constant</text>\n</g>\n<!-- /outputs/72&#45;&gt;/outputs/73 -->\n<g id=\"edge36\" class=\"edge\">\n<title>/outputs/72&#45;&gt;/outputs/73</title>\n<path fill=\"none\" stroke=\"#000000\" d=\"M202.303,-734C210.5813,-734 219.8217,-734 228.6405,-734\"/>\n<polygon fill=\"#000000\" stroke=\"#000000\" points=\"228.7163,-737.5001 238.7163,-734 228.7162,-730.5001 228.7163,-737.5001\"/>\n</g>\n<!-- /outputs/74 -->\n<g id=\"node46\" class=\"node\">\n<title>/outputs/74</title>\n<polygon fill=\"#e8e8e8\" stroke=\"#000000\" points=\"391,-798 330,-798 330,-762 391,-762 391,-798\"/>\n<text text-anchor=\"start\" x=\"338.5\" y=\"-777\" font-family=\"Times\" font-size=\"10.00\" fill=\"#000000\">Unsqueeze</text>\n</g>\n<!-- /outputs/73&#45;&gt;/outputs/74 -->\n<g id=\"edge37\" class=\"edge\">\n<title>/outputs/73&#45;&gt;/outputs/74</title>\n<path fill=\"none\" stroke=\"#000000\" d=\"M293.0799,-747.1818C301.67,-751.3632 311.355,-756.0776 320.6485,-760.6014\"/>\n<polygon fill=\"#000000\" stroke=\"#000000\" points=\"319.2331,-763.805 329.7563,-765.0348 322.2968,-757.5111 319.2331,-763.805\"/>\n</g>\n<!-- /outputs/78 -->\n<g id=\"node50\" class=\"node\">\n<title>/outputs/78</title>\n<polygon fill=\"#e8e8e8\" stroke=\"#000000\" points=\"485.5,-744 431.5,-744 431.5,-708 485.5,-708 485.5,-744\"/>\n<text text-anchor=\"start\" x=\"443.5\" y=\"-723\" font-family=\"Times\" font-size=\"10.00\" fill=\"#000000\">Concat</text>\n</g>\n<!-- /outputs/74&#45;&gt;/outputs/78 -->\n<g id=\"edge38\" class=\"edge\">\n<title>/outputs/74&#45;&gt;/outputs/78</title>\n<path fill=\"none\" stroke=\"#000000\" d=\"M391.2389,-763.0622C401.0377,-757.6629 411.9734,-751.6371 422.1317,-746.0397\"/>\n<polygon fill=\"#000000\" stroke=\"#000000\" points=\"424.118,-748.9414 431.1873,-741.0499 420.7398,-742.8105 424.118,-748.9414\"/>\n</g>\n<!-- /outputs/75 -->\n<g id=\"node47\" class=\"node\">\n<title>/outputs/75</title>\n<polygon fill=\"#e8e8e8\" stroke=\"#000000\" points=\"387.5,-690 333.5,-690 333.5,-654 387.5,-654 387.5,-690\"/>\n<text text-anchor=\"start\" x=\"342.5\" y=\"-669\" font-family=\"Times\" font-size=\"10.00\" fill=\"#000000\">Constant</text>\n</g>\n<!-- /outputs/75&#45;&gt;/outputs/78 -->\n<g id=\"edge39\" class=\"edge\">\n<title>/outputs/75&#45;&gt;/outputs/78</title>\n<path fill=\"none\" stroke=\"#000000\" d=\"M387.5384,-686.8987C398.2674,-692.8106 410.7677,-699.6985 422.2611,-706.0316\"/>\n<polygon fill=\"#000000\" stroke=\"#000000\" points=\"420.7621,-709.2018 431.2097,-710.9625 424.1404,-703.0709 420.7621,-709.2018\"/>\n</g>\n<!-- /outputs/76 -->\n<g id=\"node48\" class=\"node\">\n<title>/outputs/76</title>\n<polygon fill=\"#e8e8e8\" stroke=\"#000000\" points=\"293,-698 239,-698 239,-662 293,-662 293,-698\"/>\n<text text-anchor=\"start\" x=\"248\" y=\"-677\" font-family=\"Times\" font-size=\"10.00\" fill=\"#000000\">Constant</text>\n</g>\n<!-- /outputs/77 -->\n<g id=\"node49\" class=\"node\">\n<title>/outputs/77</title>\n<polygon fill=\"#e8e8e8\" stroke=\"#000000\" points=\"391,-744 330,-744 330,-708 391,-708 391,-744\"/>\n<text text-anchor=\"start\" x=\"338.5\" y=\"-723\" font-family=\"Times\" font-size=\"10.00\" fill=\"#000000\">Unsqueeze</text>\n</g>\n<!-- /outputs/76&#45;&gt;/outputs/77 -->\n<g id=\"edge40\" class=\"edge\">\n<title>/outputs/76&#45;&gt;/outputs/77</title>\n<path fill=\"none\" stroke=\"#000000\" d=\"M293.0799,-693.1818C301.67,-697.3632 311.355,-702.0776 320.6485,-706.6014\"/>\n<polygon fill=\"#000000\" stroke=\"#000000\" points=\"319.2331,-709.805 329.7563,-711.0348 322.2968,-703.5111 319.2331,-709.805\"/>\n</g>\n<!-- /outputs/77&#45;&gt;/outputs/78 -->\n<g id=\"edge41\" class=\"edge\">\n<title>/outputs/77&#45;&gt;/outputs/78</title>\n<path fill=\"none\" stroke=\"#000000\" d=\"M391.2389,-726C400.6377,-726 411.0825,-726 420.884,-726\"/>\n<polygon fill=\"#000000\" stroke=\"#000000\" points=\"421.1873,-729.5001 431.1873,-726 421.1873,-722.5001 421.1873,-729.5001\"/>\n</g>\n<!-- /outputs/78&#45;&gt;/outputs/79 -->\n<g id=\"edge42\" class=\"edge\">\n<title>/outputs/78&#45;&gt;/outputs/79</title>\n<path fill=\"none\" stroke=\"#000000\" d=\"M485.5538,-726C508.8717,-726 542.7695,-726 568.6679,-726\"/>\n<polygon fill=\"#000000\" stroke=\"#000000\" points=\"568.8684,-729.5001 578.8684,-726 568.8684,-722.5001 568.8684,-729.5001\"/>\n</g>\n<!-- /outputs/79&#45;&gt;/outputs/89/90/91 -->\n<g id=\"edge43\" class=\"edge\">\n<title>/outputs/79&#45;&gt;/outputs/89/90/91</title>\n<path fill=\"none\" stroke=\"#000000\" d=\"M612.4015,-744.1927C628.9184,-791.4652 673.8549,-922.2118 705,-1033 720.7098,-1088.8825 735.8344,-1155.1 743.9244,-1191.8475\"/>\n<polygon fill=\"#000000\" stroke=\"#000000\" points=\"740.5519,-1192.8091 746.1083,-1201.8301 747.3901,-1191.3131 740.5519,-1192.8091\"/>\n</g>\n<!-- /outputs/82 -->\n<g id=\"node54\" class=\"node\">\n<title>/outputs/82</title>\n<polygon fill=\"#e8e8e8\" stroke=\"#000000\" points=\"293,-1184 239,-1184 239,-1148 293,-1148 293,-1184\"/>\n<text text-anchor=\"start\" x=\"252\" y=\"-1163\" font-family=\"Times\" font-size=\"10.00\" fill=\"#000000\">Gather</text>\n</g>\n<!-- /outputs/80&#45;&gt;/outputs/82 -->\n<g id=\"edge44\" class=\"edge\">\n<title>/outputs/80&#45;&gt;/outputs/82</title>\n<path fill=\"none\" stroke=\"#000000\" d=\"M202.303,-1168.0999C210.5813,-1167.827 219.8217,-1167.5224 228.6405,-1167.2316\"/>\n<polygon fill=\"#000000\" stroke=\"#000000\" points=\"228.8371,-1170.7272 238.7163,-1166.8995 228.6063,-1163.731 228.8371,-1170.7272\"/>\n</g>\n<!-- /outputs/81 -->\n<g id=\"node53\" class=\"node\">\n<title>/outputs/81</title>\n<polygon fill=\"#e8e8e8\" stroke=\"#000000\" points=\"202,-1133 148,-1133 148,-1097 202,-1097 202,-1133\"/>\n<text text-anchor=\"start\" x=\"157\" y=\"-1112\" font-family=\"Times\" font-size=\"10.00\" fill=\"#000000\">Constant</text>\n</g>\n<!-- /outputs/81&#45;&gt;/outputs/82 -->\n<g id=\"edge45\" class=\"edge\">\n<title>/outputs/81&#45;&gt;/outputs/82</title>\n<path fill=\"none\" stroke=\"#000000\" d=\"M202.303,-1130.3017C210.9412,-1135.1429 220.6271,-1140.5712 229.7882,-1145.7055\"/>\n<polygon fill=\"#000000\" stroke=\"#000000\" points=\"228.2817,-1148.8733 238.7163,-1150.7091 231.704,-1142.7669 228.2817,-1148.8733\"/>\n</g>\n<!-- /outputs/83 -->\n<g id=\"node55\" class=\"node\">\n<title>/outputs/83</title>\n<polygon fill=\"#e8e8e8\" stroke=\"#000000\" points=\"391,-1076 330,-1076 330,-1040 391,-1040 391,-1076\"/>\n<text text-anchor=\"start\" x=\"338.5\" y=\"-1055\" font-family=\"Times\" font-size=\"10.00\" fill=\"#000000\">Unsqueeze</text>\n</g>\n<!-- /outputs/82&#45;&gt;/outputs/83 -->\n<g id=\"edge46\" class=\"edge\">\n<title>/outputs/82&#45;&gt;/outputs/83</title>\n<path fill=\"none\" stroke=\"#000000\" d=\"M290.8654,-1147.8448C298.3359,-1141.5341 306.104,-1134.0127 312,-1126 323.7947,-1109.9709 318.2764,-1101.0812 330,-1085 330.2812,-1084.6143 330.5688,-1084.2301 330.8622,-1083.8477\"/>\n<polygon fill=\"#000000\" stroke=\"#000000\" points=\"333.6828,-1085.9423 337.7008,-1076.1389 328.4463,-1081.2969 333.6828,-1085.9423\"/>\n</g>\n<!-- /outputs/87 -->\n<g id=\"node59\" class=\"node\">\n<title>/outputs/87</title>\n<polygon fill=\"#e8e8e8\" stroke=\"#000000\" points=\"485.5,-1092 431.5,-1092 431.5,-1056 485.5,-1056 485.5,-1092\"/>\n<text text-anchor=\"start\" x=\"443.5\" y=\"-1071\" font-family=\"Times\" font-size=\"10.00\" fill=\"#000000\">Concat</text>\n</g>\n<!-- /outputs/83&#45;&gt;/outputs/87 -->\n<g id=\"edge47\" class=\"edge\">\n<title>/outputs/83&#45;&gt;/outputs/87</title>\n<path fill=\"none\" stroke=\"#000000\" d=\"M391.2389,-1063.0186C400.7377,-1064.5694 411.3049,-1066.2947 421.1966,-1067.9097\"/>\n<polygon fill=\"#000000\" stroke=\"#000000\" points=\"420.754,-1071.3836 431.1873,-1069.5408 421.882,-1064.4751 420.754,-1071.3836\"/>\n</g>\n<!-- /outputs/84 -->\n<g id=\"node56\" class=\"node\">\n<title>/outputs/84</title>\n<polygon fill=\"#e8e8e8\" stroke=\"#000000\" points=\"387.5,-1130 333.5,-1130 333.5,-1094 387.5,-1094 387.5,-1130\"/>\n<text text-anchor=\"start\" x=\"342.5\" y=\"-1109\" font-family=\"Times\" font-size=\"10.00\" fill=\"#000000\">Constant</text>\n</g>\n<!-- /outputs/84&#45;&gt;/outputs/87 -->\n<g id=\"edge48\" class=\"edge\">\n<title>/outputs/84&#45;&gt;/outputs/87</title>\n<path fill=\"none\" stroke=\"#000000\" d=\"M387.5384,-1101.5157C398.055,-1097.4379 410.2733,-1092.7001 421.5772,-1088.317\"/>\n<polygon fill=\"#000000\" stroke=\"#000000\" points=\"423.1514,-1091.4606 431.2097,-1084.582 420.6207,-1084.934 423.1514,-1091.4606\"/>\n</g>\n<!-- /outputs/85 -->\n<g id=\"node57\" class=\"node\">\n<title>/outputs/85</title>\n<polygon fill=\"#e8e8e8\" stroke=\"#000000\" points=\"293,-1130 239,-1130 239,-1094 293,-1094 293,-1130\"/>\n<text text-anchor=\"start\" x=\"248\" y=\"-1109\" font-family=\"Times\" font-size=\"10.00\" fill=\"#000000\">Constant</text>\n</g>\n<!-- /outputs/86 -->\n<g id=\"node58\" class=\"node\">\n<title>/outputs/86</title>\n<polygon fill=\"#e8e8e8\" stroke=\"#000000\" points=\"391,-1022 330,-1022 330,-986 391,-986 391,-1022\"/>\n<text text-anchor=\"start\" x=\"338.5\" y=\"-1001\" font-family=\"Times\" font-size=\"10.00\" fill=\"#000000\">Unsqueeze</text>\n</g>\n<!-- /outputs/85&#45;&gt;/outputs/86 -->\n<g id=\"edge49\" class=\"edge\">\n<title>/outputs/85&#45;&gt;/outputs/86</title>\n<path fill=\"none\" stroke=\"#000000\" d=\"M285.0618,-1093.838C287.8142,-1090.9614 290.5435,-1087.9579 293,-1085 311.5874,-1062.6186 310.7409,-1052.8061 330,-1031 330.4096,-1030.5362 330.8269,-1030.0726 331.2508,-1029.6096\"/>\n<polygon fill=\"#000000\" stroke=\"#000000\" points=\"333.9871,-1031.8208 338.5402,-1022.2542 329.015,-1026.8934 333.9871,-1031.8208\"/>\n</g>\n<!-- /outputs/86&#45;&gt;/outputs/87 -->\n<g id=\"edge50\" class=\"edge\">\n<title>/outputs/86&#45;&gt;/outputs/87</title>\n<path fill=\"none\" stroke=\"#000000\" d=\"M385.7374,-1022.0267C397.647,-1030.5336 412.0277,-1040.8055 424.849,-1049.9635\"/>\n<polygon fill=\"#000000\" stroke=\"#000000\" points=\"422.8358,-1052.8267 433.0075,-1055.7911 426.9045,-1047.1306 422.8358,-1052.8267\"/>\n</g>\n<!-- /outputs/87&#45;&gt;/outputs/88 -->\n<g id=\"edge51\" class=\"edge\">\n<title>/outputs/87&#45;&gt;/outputs/88</title>\n<path fill=\"none\" stroke=\"#000000\" d=\"M485.7286,-1073.3334C507.8989,-1074.1015 539.015,-1078.3011 561,-1094 578.1233,-1106.2273 589.6797,-1127.1564 596.7899,-1144.2584\"/>\n<polygon fill=\"#000000\" stroke=\"#000000\" points=\"593.6035,-1145.723 600.4709,-1153.7908 600.1335,-1143.2013 593.6035,-1145.723\"/>\n</g>\n<!-- /outputs/88&#45;&gt;/outputs/89/90/91 -->\n<g id=\"edge52\" class=\"edge\">\n<title>/outputs/88&#45;&gt;/outputs/89/90/91</title>\n<path fill=\"none\" stroke=\"#000000\" d=\"M633.0853,-1181.0284C655.6694,-1188.5565 688.0698,-1199.3566 713.0371,-1207.679\"/>\n<polygon fill=\"#000000\" stroke=\"#000000\" points=\"711.9529,-1211.0069 722.5466,-1210.8489 714.1665,-1204.3661 711.9529,-1211.0069\"/>\n</g>\n<!-- /outputs/92 -->\n<g id=\"node62\" class=\"node\">\n<title>/outputs/92</title>\n<polygon fill=\"#e8e8e8\" stroke=\"#000000\" points=\"872,-989 814,-989 814,-953 872,-953 872,-989\"/>\n<text text-anchor=\"start\" x=\"822\" y=\"-968\" font-family=\"Times\" font-size=\"10.00\" fill=\"#000000\">Transpose</text>\n</g>\n<!-- /outputs/89/90/91&#45;&gt;/outputs/92 -->\n<g id=\"edge53\" class=\"edge\">\n<title>/outputs/89/90/91&#45;&gt;/outputs/92</title>\n<path fill=\"none\" stroke=\"#000000\" d=\"M756.8385,-1201.6904C773.0015,-1158.4154 813.6348,-1049.6229 832.7536,-998.4339\"/>\n<polygon fill=\"#000000\" stroke=\"#000000\" points=\"836.0567,-999.5931 836.2769,-989.0006 829.4992,-997.1439 836.0567,-999.5931\"/>\n</g>\n<!-- /outputs/161 -->\n<g id=\"node123\" class=\"node\">\n<title>/outputs/161</title>\n<polygon fill=\"#e8e8e8\" stroke=\"#000000\" points=\"1671,-1575 1617,-1575 1617,-1539 1671,-1539 1671,-1575\"/>\n<text text-anchor=\"start\" x=\"1629\" y=\"-1554\" font-family=\"Times\" font-size=\"10.00\" fill=\"#000000\">Concat</text>\n</g>\n<!-- /outputs/89/90/91&#45;&gt;/outputs/161 -->\n<g id=\"edge54\" class=\"edge\">\n<title>/outputs/89/90/91&#45;&gt;/outputs/161</title>\n<path fill=\"none\" stroke=\"#000000\" d=\"M751.1937,-1238.0393C757.589,-1331.1442 789.517,-1753 843,-1753 843,-1753 843,-1753 1553,-1753 1589.5786,-1753 1623.2316,-1639.2778 1637.1925,-1585.082\"/>\n<polygon fill=\"#000000\" stroke=\"#000000\" points=\"1640.6613,-1585.6406 1639.7171,-1575.0879 1633.8745,-1583.9261 1640.6613,-1585.6406\"/>\n</g>\n<!-- /outputs/94 -->\n<g id=\"node64\" class=\"node\">\n<title>/outputs/94</title>\n<polygon fill=\"#e8e8e8\" stroke=\"#000000\" points=\"963,-910 909,-910 909,-874 963,-874 963,-910\"/>\n<text text-anchor=\"start\" x=\"919\" y=\"-889\" font-family=\"Times\" font-size=\"10.00\" fill=\"#000000\">Reshape</text>\n</g>\n<!-- /outputs/92&#45;&gt;/outputs/94 -->\n<g id=\"edge55\" class=\"edge\">\n<title>/outputs/92&#45;&gt;/outputs/94</title>\n<path fill=\"none\" stroke=\"#000000\" d=\"M864.5698,-952.6772C877.1293,-942.0085 893.1337,-928.4133 906.8085,-916.7971\"/>\n<polygon fill=\"#000000\" stroke=\"#000000\" points=\"909.1917,-919.365 914.5471,-910.2234 904.6598,-914.03 909.1917,-919.365\"/>\n</g>\n<!-- /outputs/93 -->\n<g id=\"node63\" class=\"node\">\n<title>/outputs/93</title>\n<polygon fill=\"#e8e8e8\" stroke=\"#000000\" points=\"870,-910 816,-910 816,-874 870,-874 870,-910\"/>\n<text text-anchor=\"start\" x=\"825\" y=\"-889\" font-family=\"Times\" font-size=\"10.00\" fill=\"#000000\">Constant</text>\n</g>\n<!-- /outputs/93&#45;&gt;/outputs/94 -->\n<g id=\"edge56\" class=\"edge\">\n<title>/outputs/93&#45;&gt;/outputs/94</title>\n<path fill=\"none\" stroke=\"#000000\" d=\"M870.4001,-892C879.198,-892 889.1,-892 898.493,-892\"/>\n<polygon fill=\"#000000\" stroke=\"#000000\" points=\"898.7958,-895.5001 908.7958,-892 898.7957,-888.5001 898.7958,-895.5001\"/>\n</g>\n<!-- /outputs/140 -->\n<g id=\"node104\" class=\"node\">\n<title>/outputs/140</title>\n<polygon fill=\"#e8e8e8\" stroke=\"#000000\" points=\"1111,-838 1057,-838 1057,-802 1111,-802 1111,-838\"/>\n<text text-anchor=\"start\" x=\"1072\" y=\"-817\" font-family=\"Times\" font-size=\"10.00\" fill=\"#000000\">Shape</text>\n</g>\n<!-- /outputs/94&#45;&gt;/outputs/140 -->\n<g id=\"edge57\" class=\"edge\">\n<title>/outputs/94&#45;&gt;/outputs/140</title>\n<path fill=\"none\" stroke=\"#000000\" d=\"M947.4084,-873.9397C955.4422,-862.7286 967.2017,-848.9825 981,-841 1001.0003,-829.4295 1026.4111,-824.1673 1046.9887,-821.8037\"/>\n<polygon fill=\"#000000\" stroke=\"#000000\" points=\"1047.3396,-825.2862 1056.9551,-820.8375 1046.664,-818.3188 1047.3396,-825.2862\"/>\n<text text-anchor=\"middle\" x=\"1010\" y=\"-844\" font-family=\"Times\" font-size=\"10.00\" fill=\"#000000\">340x128x128</text>\n</g>\n<!-- /outputs/149 -->\n<g id=\"node113\" class=\"node\">\n<title>/outputs/149</title>\n<polygon fill=\"#e8e8e8\" stroke=\"#000000\" points=\"1111,-985 1057,-985 1057,-949 1111,-949 1111,-985\"/>\n<text text-anchor=\"start\" x=\"1072\" y=\"-964\" font-family=\"Times\" font-size=\"10.00\" fill=\"#000000\">Shape</text>\n</g>\n<!-- /outputs/94&#45;&gt;/outputs/149 -->\n<g id=\"edge58\" class=\"edge\">\n<title>/outputs/94&#45;&gt;/outputs/149</title>\n<path fill=\"none\" stroke=\"#000000\" d=\"M963.1455,-905.7562C986.8544,-917.7708 1021.464,-935.3095 1047.5764,-948.5421\"/>\n<polygon fill=\"#000000\" stroke=\"#000000\" points=\"1046.2743,-951.8059 1056.7764,-953.2043 1049.4385,-945.5619 1046.2743,-951.8059\"/>\n<text text-anchor=\"middle\" x=\"1010\" y=\"-945\" font-family=\"Times\" font-size=\"10.00\" fill=\"#000000\">340x128x128</text>\n</g>\n<!-- /outputs/158/159/160 -->\n<g id=\"node122\" class=\"node\">\n<title>/outputs/158/159/160</title>\n<polygon fill=\"#e8e8e8\" stroke=\"#000000\" points=\"1580,-935 1526,-935 1526,-899 1580,-899 1580,-935\"/>\n<text text-anchor=\"start\" x=\"1540\" y=\"-914\" font-family=\"Times\" font-size=\"10.00\" fill=\"#000000\">LSTM</text>\n</g>\n<!-- /outputs/94&#45;&gt;/outputs/158/159/160 -->\n<g id=\"edge59\" class=\"edge\">\n<title>/outputs/94&#45;&gt;/outputs/158/159/160</title>\n<path fill=\"none\" stroke=\"#000000\" d=\"M963.0276,-884.3398C992.5096,-876.6704 1041.2158,-866 1084,-866 1084,-866 1084,-866 1462,-866 1485.8126,-866 1509.1698,-879.4536 1526.2577,-892.541\"/>\n<polygon fill=\"#000000\" stroke=\"#000000\" points=\"1524.135,-895.3254 1534.1173,-898.8757 1528.5278,-889.8752 1524.135,-895.3254\"/>\n<text text-anchor=\"middle\" x=\"1269.5\" y=\"-869\" font-family=\"Times\" font-size=\"10.00\" fill=\"#000000\">340x128x128</text>\n</g>\n<!-- /outputs/95 -->\n<g id=\"node65\" class=\"node\">\n<title>/outputs/95</title>\n<polygon fill=\"#e8e8e8\" stroke=\"#000000\" points=\"1202,-522 1148,-522 1148,-486 1202,-486 1202,-522\"/>\n<text text-anchor=\"start\" x=\"1165\" y=\"-501\" font-family=\"Times\" font-size=\"10.00\" fill=\"#000000\">Slice</text>\n</g>\n<!-- /outputs/98 -->\n<g id=\"node68\" class=\"node\">\n<title>/outputs/98</title>\n<polygon fill=\"#e8e8e8\" stroke=\"#000000\" points=\"1296.5,-576 1242.5,-576 1242.5,-540 1296.5,-540 1296.5,-576\"/>\n<text text-anchor=\"start\" x=\"1254.5\" y=\"-555\" font-family=\"Times\" font-size=\"10.00\" fill=\"#000000\">Concat</text>\n</g>\n<!-- /outputs/95&#45;&gt;/outputs/98 -->\n<g id=\"edge60\" class=\"edge\">\n<title>/outputs/95&#45;&gt;/outputs/98</title>\n<path fill=\"none\" stroke=\"#000000\" d=\"M1202.0799,-519.4742C1211.8665,-525.0665 1223.0742,-531.471 1233.505,-537.4314\"/>\n<polygon fill=\"#000000\" stroke=\"#000000\" points=\"1231.9972,-540.6009 1242.4161,-542.5235 1235.4702,-534.5232 1231.9972,-540.6009\"/>\n</g>\n<!-- /outputs/96 -->\n<g id=\"node66\" class=\"node\">\n<title>/outputs/96</title>\n<polygon fill=\"#e8e8e8\" stroke=\"#000000\" points=\"1202,-630 1148,-630 1148,-594 1202,-594 1202,-630\"/>\n<text text-anchor=\"start\" x=\"1165\" y=\"-609\" font-family=\"Times\" font-size=\"10.00\" fill=\"#000000\">Slice</text>\n</g>\n<!-- /outputs/96&#45;&gt;/outputs/98 -->\n<g id=\"edge61\" class=\"edge\">\n<title>/outputs/96&#45;&gt;/outputs/98</title>\n<path fill=\"none\" stroke=\"#000000\" d=\"M1202.0799,-596.5258C1211.8665,-590.9335 1223.0742,-584.529 1233.505,-578.5686\"/>\n<polygon fill=\"#000000\" stroke=\"#000000\" points=\"1235.4702,-581.4768 1242.4161,-573.4765 1231.9972,-575.3991 1235.4702,-581.4768\"/>\n</g>\n<!-- /outputs/97 -->\n<g id=\"node67\" class=\"node\">\n<title>/outputs/97</title>\n<polygon fill=\"#e8e8e8\" stroke=\"#000000\" points=\"1202,-576 1148,-576 1148,-540 1202,-540 1202,-576\"/>\n<text text-anchor=\"start\" x=\"1165\" y=\"-555\" font-family=\"Times\" font-size=\"10.00\" fill=\"#000000\">Slice</text>\n</g>\n<!-- /outputs/97&#45;&gt;/outputs/98 -->\n<g id=\"edge62\" class=\"edge\">\n<title>/outputs/97&#45;&gt;/outputs/98</title>\n<path fill=\"none\" stroke=\"#000000\" d=\"M1202.0799,-558C1211.471,-558 1222.1709,-558 1232.237,-558\"/>\n<polygon fill=\"#000000\" stroke=\"#000000\" points=\"1232.4162,-561.5001 1242.4161,-558 1232.4161,-554.5001 1232.4162,-561.5001\"/>\n</g>\n<!-- /outputs/112 -->\n<g id=\"node79\" class=\"node\">\n<title>/outputs/112</title>\n<polygon fill=\"#e8e8e8\" stroke=\"#000000\" points=\"1398,-576 1337,-576 1337,-540 1398,-540 1398,-576\"/>\n<text text-anchor=\"start\" x=\"1345.5\" y=\"-555\" font-family=\"Times\" font-size=\"10.00\" fill=\"#000000\">Unsqueeze</text>\n</g>\n<!-- /outputs/98&#45;&gt;/outputs/112 -->\n<g id=\"edge63\" class=\"edge\">\n<title>/outputs/98&#45;&gt;/outputs/112</title>\n<path fill=\"none\" stroke=\"#000000\" d=\"M1296.5384,-558C1305.7891,-558 1316.3565,-558 1326.46,-558\"/>\n<polygon fill=\"#000000\" stroke=\"#000000\" points=\"1326.7464,-561.5001 1336.7464,-558 1326.7463,-554.5001 1326.7464,-561.5001\"/>\n</g>\n<!-- /outputs/99 -->\n<g id=\"node69\" class=\"node\">\n<title>/outputs/99</title>\n<polygon fill=\"#e8e8e8\" stroke=\"#000000\" points=\"1202,-90 1148,-90 1148,-54 1202,-54 1202,-90\"/>\n<text text-anchor=\"start\" x=\"1165\" y=\"-69\" font-family=\"Times\" font-size=\"10.00\" fill=\"#000000\">Slice</text>\n</g>\n<!-- /outputs/102 -->\n<g id=\"node72\" class=\"node\">\n<title>/outputs/102</title>\n<polygon fill=\"#e8e8e8\" stroke=\"#000000\" points=\"1296.5,-117 1242.5,-117 1242.5,-81 1296.5,-81 1296.5,-117\"/>\n<text text-anchor=\"start\" x=\"1254.5\" y=\"-96\" font-family=\"Times\" font-size=\"10.00\" fill=\"#000000\">Concat</text>\n</g>\n<!-- /outputs/99&#45;&gt;/outputs/102 -->\n<g id=\"edge64\" class=\"edge\">\n<title>/outputs/99&#45;&gt;/outputs/102</title>\n<path fill=\"none\" stroke=\"#000000\" d=\"M1202.0799,-79.7371C1211.5699,-82.4485 1222.3963,-85.5418 1232.5546,-88.4442\"/>\n<polygon fill=\"#000000\" stroke=\"#000000\" points=\"1231.8393,-91.8798 1242.4161,-91.2618 1233.7624,-85.1491 1231.8393,-91.8798\"/>\n</g>\n<!-- /outputs/100 -->\n<g id=\"node70\" class=\"node\">\n<title>/outputs/100</title>\n<polygon fill=\"#e8e8e8\" stroke=\"#000000\" points=\"1202,-36 1148,-36 1148,0 1202,0 1202,-36\"/>\n<text text-anchor=\"start\" x=\"1165\" y=\"-15\" font-family=\"Times\" font-size=\"10.00\" fill=\"#000000\">Slice</text>\n</g>\n<!-- /outputs/100&#45;&gt;/outputs/102 -->\n<g id=\"edge65\" class=\"edge\">\n<title>/outputs/100&#45;&gt;/outputs/102</title>\n<path fill=\"none\" stroke=\"#000000\" d=\"M1196.4435,-36.3802C1209.5844,-47.6438 1226.5669,-62.2002 1240.8506,-74.4434\"/>\n<polygon fill=\"#000000\" stroke=\"#000000\" points=\"1238.5965,-77.1211 1248.4669,-80.9716 1243.1521,-71.8063 1238.5965,-77.1211\"/>\n</g>\n<!-- /outputs/101 -->\n<g id=\"node71\" class=\"node\">\n<title>/outputs/101</title>\n<polygon fill=\"#e8e8e8\" stroke=\"#000000\" points=\"1202,-144 1148,-144 1148,-108 1202,-108 1202,-144\"/>\n<text text-anchor=\"start\" x=\"1165\" y=\"-123\" font-family=\"Times\" font-size=\"10.00\" fill=\"#000000\">Slice</text>\n</g>\n<!-- /outputs/101&#45;&gt;/outputs/102 -->\n<g id=\"edge66\" class=\"edge\">\n<title>/outputs/101&#45;&gt;/outputs/102</title>\n<path fill=\"none\" stroke=\"#000000\" d=\"M1202.0799,-118.2629C1211.5699,-115.5515 1222.3963,-112.4582 1232.5546,-109.5558\"/>\n<polygon fill=\"#000000\" stroke=\"#000000\" points=\"1233.7624,-112.8509 1242.4161,-106.7382 1231.8393,-106.1202 1233.7624,-112.8509\"/>\n</g>\n<!-- /outputs/113 -->\n<g id=\"node80\" class=\"node\">\n<title>/outputs/113</title>\n<polygon fill=\"#e8e8e8\" stroke=\"#000000\" points=\"1398,-171 1337,-171 1337,-135 1398,-135 1398,-171\"/>\n<text text-anchor=\"start\" x=\"1345.5\" y=\"-150\" font-family=\"Times\" font-size=\"10.00\" fill=\"#000000\">Unsqueeze</text>\n</g>\n<!-- /outputs/102&#45;&gt;/outputs/113 -->\n<g id=\"edge67\" class=\"edge\">\n<title>/outputs/102&#45;&gt;/outputs/113</title>\n<path fill=\"none\" stroke=\"#000000\" d=\"M1296.5384,-113.8987C1306.1786,-119.2106 1317.2487,-125.3105 1327.7337,-131.0879\"/>\n<polygon fill=\"#000000\" stroke=\"#000000\" points=\"1326.2989,-134.2935 1336.7464,-136.0541 1329.6771,-128.1626 1326.2989,-134.2935\"/>\n</g>\n<!-- /outputs/103 -->\n<g id=\"node73\" class=\"node\">\n<title>/outputs/103</title>\n<polygon fill=\"#e8e8e8\" stroke=\"#000000\" points=\"1202,-1131 1148,-1131 1148,-1095 1202,-1095 1202,-1131\"/>\n<text text-anchor=\"start\" x=\"1165\" y=\"-1110\" font-family=\"Times\" font-size=\"10.00\" fill=\"#000000\">Slice</text>\n</g>\n<!-- 10372949434983287164 -->\n<g id=\"node136\" class=\"node\">\n<title>10372949434983287164</title>\n<polygon fill=\"#e8e8e8\" stroke=\"#000000\" points=\"1296.5,-1267 1242.5,-1267 1242.5,-1223 1296.5,-1223 1296.5,-1267\"/>\n<text text-anchor=\"start\" x=\"1254.5\" y=\"-1251\" font-family=\"Times\" font-size=\"10.00\" fill=\"#000000\">Concat</text>\n<text text-anchor=\"start\" x=\"1277.5\" y=\"-1230\" font-family=\"Times\" font-size=\"10.00\" fill=\"#000000\">x3</text>\n</g>\n<!-- /outputs/103&#45;&gt;10372949434983287164 -->\n<g id=\"edge135\" class=\"edge\">\n<title>/outputs/103&#45;&gt;10372949434983287164</title>\n<path fill=\"none\" stroke=\"#000000\" d=\"M1194.1402,-1131.0978C1196.8818,-1133.9833 1199.5872,-1137.0064 1202,-1140 1220.9197,-1163.4745 1239.2111,-1192.4456 1251.9693,-1214.0057\"/>\n<polygon fill=\"#000000\" stroke=\"#000000\" points=\"1249.0154,-1215.888 1257.084,-1222.7545 1255.0585,-1212.3551 1249.0154,-1215.888\"/>\n</g>\n<!-- /outputs/104 -->\n<g id=\"node74\" class=\"node\">\n<title>/outputs/104</title>\n<polygon fill=\"#e8e8e8\" stroke=\"#000000\" points=\"1202,-1401 1148,-1401 1148,-1365 1202,-1365 1202,-1401\"/>\n<text text-anchor=\"start\" x=\"1165\" y=\"-1380\" font-family=\"Times\" font-size=\"10.00\" fill=\"#000000\">Slice</text>\n</g>\n<!-- /outputs/104&#45;&gt;10372949434983287164 -->\n<g id=\"edge136\" class=\"edge\">\n<title>/outputs/104&#45;&gt;10372949434983287164</title>\n<path fill=\"none\" stroke=\"#000000\" d=\"M1194.2077,-1364.9558C1196.94,-1362.0629 1199.6248,-1359.0235 1202,-1356 1221.8381,-1330.7469 1240.4893,-1299.2478 1253.1373,-1276.2623\"/>\n<polygon fill=\"#000000\" stroke=\"#000000\" points=\"1256.3157,-1277.7435 1258.0106,-1267.2851 1250.1637,-1274.4038 1256.3157,-1277.7435\"/>\n</g>\n<!-- /outputs/105 -->\n<g id=\"node75\" class=\"node\">\n<title>/outputs/105</title>\n<polygon fill=\"#e8e8e8\" stroke=\"#000000\" points=\"1202,-1347 1148,-1347 1148,-1311 1202,-1311 1202,-1347\"/>\n<text text-anchor=\"start\" x=\"1165\" y=\"-1326\" font-family=\"Times\" font-size=\"10.00\" fill=\"#000000\">Slice</text>\n</g>\n<!-- /outputs/105&#45;&gt;10372949434983287164 -->\n<g id=\"edge137\" class=\"edge\">\n<title>/outputs/105&#45;&gt;10372949434983287164</title>\n<path fill=\"none\" stroke=\"#000000\" d=\"M1195.5051,-1310.7733C1207.5756,-1300.0439 1223.1181,-1286.2283 1236.8403,-1274.0309\"/>\n<polygon fill=\"#000000\" stroke=\"#000000\" points=\"1239.5205,-1276.3313 1244.6693,-1267.0717 1234.8699,-1271.0995 1239.5205,-1276.3313\"/>\n</g>\n<!-- /outputs/107 -->\n<g id=\"node76\" class=\"node\">\n<title>/outputs/107</title>\n<polygon fill=\"#e8e8e8\" stroke=\"#000000\" points=\"1202,-1293 1148,-1293 1148,-1257 1202,-1257 1202,-1293\"/>\n<text text-anchor=\"start\" x=\"1165\" y=\"-1272\" font-family=\"Times\" font-size=\"10.00\" fill=\"#000000\">Slice</text>\n</g>\n<!-- /outputs/107&#45;&gt;10372949434983287164 -->\n<g id=\"edge132\" class=\"edge\">\n<title>/outputs/107&#45;&gt;10372949434983287164</title>\n<path fill=\"none\" stroke=\"#000000\" d=\"M1202.0799,-1266.4032C1211.6688,-1263.3591 1222.622,-1259.8819 1232.8719,-1256.628\"/>\n<polygon fill=\"#000000\" stroke=\"#000000\" points=\"1233.9439,-1259.9598 1242.4161,-1253.5981 1231.8258,-1253.288 1233.9439,-1259.9598\"/>\n</g>\n<!-- /outputs/108 -->\n<g id=\"node77\" class=\"node\">\n<title>/outputs/108</title>\n<polygon fill=\"#e8e8e8\" stroke=\"#000000\" points=\"1202,-1239 1148,-1239 1148,-1203 1202,-1203 1202,-1239\"/>\n<text text-anchor=\"start\" x=\"1165\" y=\"-1218\" font-family=\"Times\" font-size=\"10.00\" fill=\"#000000\">Slice</text>\n</g>\n<!-- /outputs/108&#45;&gt;10372949434983287164 -->\n<g id=\"edge133\" class=\"edge\">\n<title>/outputs/108&#45;&gt;10372949434983287164</title>\n<path fill=\"none\" stroke=\"#000000\" d=\"M1202.0799,-1227.8774C1211.5699,-1230.2876 1222.3963,-1233.0371 1232.5546,-1235.6171\"/>\n<polygon fill=\"#000000\" stroke=\"#000000\" points=\"1231.8623,-1239.0523 1242.4161,-1238.1216 1233.5854,-1232.2676 1231.8623,-1239.0523\"/>\n</g>\n<!-- /outputs/109 -->\n<g id=\"node78\" class=\"node\">\n<title>/outputs/109</title>\n<polygon fill=\"#e8e8e8\" stroke=\"#000000\" points=\"1202,-1185 1148,-1185 1148,-1149 1202,-1149 1202,-1185\"/>\n<text text-anchor=\"start\" x=\"1165\" y=\"-1164\" font-family=\"Times\" font-size=\"10.00\" fill=\"#000000\">Slice</text>\n</g>\n<!-- /outputs/109&#45;&gt;10372949434983287164 -->\n<g id=\"edge134\" class=\"edge\">\n<title>/outputs/109&#45;&gt;10372949434983287164</title>\n<path fill=\"none\" stroke=\"#000000\" d=\"M1196.9177,-1185.0908C1208.0994,-1194.3201 1221.9683,-1205.7675 1234.5778,-1216.1753\"/>\n<polygon fill=\"#000000\" stroke=\"#000000\" points=\"1232.7011,-1219.1645 1242.6413,-1222.8309 1237.157,-1213.7659 1232.7011,-1219.1645\"/>\n</g>\n<!-- /outputs/135 -->\n<g id=\"node99\" class=\"node\">\n<title>/outputs/135</title>\n<polygon fill=\"#e8e8e8\" stroke=\"#000000\" points=\"1489,-576 1435,-576 1435,-540 1489,-540 1489,-576\"/>\n<text text-anchor=\"start\" x=\"1447\" y=\"-555\" font-family=\"Times\" font-size=\"10.00\" fill=\"#000000\">Concat</text>\n</g>\n<!-- /outputs/112&#45;&gt;/outputs/135 -->\n<g id=\"edge68\" class=\"edge\">\n<title>/outputs/112&#45;&gt;/outputs/135</title>\n<path fill=\"none\" stroke=\"#000000\" d=\"M1398.1814,-558C1406.7033,-558 1416.0485,-558 1424.8957,-558\"/>\n<polygon fill=\"#000000\" stroke=\"#000000\" points=\"1424.9735,-561.5001 1434.9735,-558 1424.9734,-554.5001 1424.9735,-561.5001\"/>\n</g>\n<!-- /outputs/136 -->\n<g id=\"node100\" class=\"node\">\n<title>/outputs/136</title>\n<polygon fill=\"#e8e8e8\" stroke=\"#000000\" points=\"1489,-252 1435,-252 1435,-216 1489,-216 1489,-252\"/>\n<text text-anchor=\"start\" x=\"1447\" y=\"-231\" font-family=\"Times\" font-size=\"10.00\" fill=\"#000000\">Concat</text>\n</g>\n<!-- /outputs/113&#45;&gt;/outputs/136 -->\n<g id=\"edge69\" class=\"edge\">\n<title>/outputs/113&#45;&gt;/outputs/136</title>\n<path fill=\"none\" stroke=\"#000000\" d=\"M1388.9435,-171.3802C1402.0844,-182.6438 1419.0669,-197.2002 1433.3506,-209.4434\"/>\n<polygon fill=\"#000000\" stroke=\"#000000\" points=\"1431.0965,-212.1211 1440.9669,-215.9716 1435.6521,-206.8063 1431.0965,-212.1211\"/>\n</g>\n<!-- /outputs/114 -->\n<g id=\"node81\" class=\"node\">\n<title>/outputs/114</title>\n<polygon fill=\"#e8e8e8\" stroke=\"#000000\" points=\"1398,-1263 1337,-1263 1337,-1227 1398,-1227 1398,-1263\"/>\n<text text-anchor=\"start\" x=\"1345.5\" y=\"-1242\" font-family=\"Times\" font-size=\"10.00\" fill=\"#000000\">Unsqueeze</text>\n</g>\n<!-- /outputs/137 -->\n<g id=\"node101\" class=\"node\">\n<title>/outputs/137</title>\n<polygon fill=\"#e8e8e8\" stroke=\"#000000\" points=\"1489,-1263 1435,-1263 1435,-1227 1489,-1227 1489,-1263\"/>\n<text text-anchor=\"start\" x=\"1447\" y=\"-1242\" font-family=\"Times\" font-size=\"10.00\" fill=\"#000000\">Concat</text>\n</g>\n<!-- /outputs/114&#45;&gt;/outputs/137 -->\n<g id=\"edge70\" class=\"edge\">\n<title>/outputs/114&#45;&gt;/outputs/137</title>\n<path fill=\"none\" stroke=\"#000000\" d=\"M1398.1814,-1245C1406.7033,-1245 1416.0485,-1245 1424.8957,-1245\"/>\n<polygon fill=\"#000000\" stroke=\"#000000\" points=\"1424.9735,-1248.5001 1434.9735,-1245 1424.9734,-1241.5001 1424.9735,-1248.5001\"/>\n</g>\n<!-- /outputs/115 -->\n<g id=\"node82\" class=\"node\">\n<title>/outputs/115</title>\n<polygon fill=\"#e8e8e8\" stroke=\"#000000\" points=\"1202,-360 1148,-360 1148,-324 1202,-324 1202,-360\"/>\n<text text-anchor=\"start\" x=\"1165\" y=\"-339\" font-family=\"Times\" font-size=\"10.00\" fill=\"#000000\">Slice</text>\n</g>\n<!-- /outputs/118 -->\n<g id=\"node85\" class=\"node\">\n<title>/outputs/118</title>\n<polygon fill=\"#e8e8e8\" stroke=\"#000000\" points=\"1296.5,-441 1242.5,-441 1242.5,-405 1296.5,-405 1296.5,-441\"/>\n<text text-anchor=\"start\" x=\"1254.5\" y=\"-420\" font-family=\"Times\" font-size=\"10.00\" fill=\"#000000\">Concat</text>\n</g>\n<!-- /outputs/115&#45;&gt;/outputs/118 -->\n<g id=\"edge71\" class=\"edge\">\n<title>/outputs/115&#45;&gt;/outputs/118</title>\n<path fill=\"none\" stroke=\"#000000\" d=\"M1196.4435,-360.3802C1209.5844,-371.6438 1226.5669,-386.2002 1240.8506,-398.4434\"/>\n<polygon fill=\"#000000\" stroke=\"#000000\" points=\"1238.5965,-401.1211 1248.4669,-404.9716 1243.1521,-395.8063 1238.5965,-401.1211\"/>\n</g>\n<!-- /outputs/116 -->\n<g id=\"node83\" class=\"node\">\n<title>/outputs/116</title>\n<polygon fill=\"#e8e8e8\" stroke=\"#000000\" points=\"1202,-468 1148,-468 1148,-432 1202,-432 1202,-468\"/>\n<text text-anchor=\"start\" x=\"1165\" y=\"-447\" font-family=\"Times\" font-size=\"10.00\" fill=\"#000000\">Slice</text>\n</g>\n<!-- /outputs/116&#45;&gt;/outputs/118 -->\n<g id=\"edge72\" class=\"edge\">\n<title>/outputs/116&#45;&gt;/outputs/118</title>\n<path fill=\"none\" stroke=\"#000000\" d=\"M1202.0799,-442.2629C1211.5699,-439.5515 1222.3963,-436.4582 1232.5546,-433.5558\"/>\n<polygon fill=\"#000000\" stroke=\"#000000\" points=\"1233.7624,-436.8509 1242.4161,-430.7382 1231.8393,-430.1202 1233.7624,-436.8509\"/>\n</g>\n<!-- /outputs/117 -->\n<g id=\"node84\" class=\"node\">\n<title>/outputs/117</title>\n<polygon fill=\"#e8e8e8\" stroke=\"#000000\" points=\"1202,-414 1148,-414 1148,-378 1202,-378 1202,-414\"/>\n<text text-anchor=\"start\" x=\"1165\" y=\"-393\" font-family=\"Times\" font-size=\"10.00\" fill=\"#000000\">Slice</text>\n</g>\n<!-- /outputs/117&#45;&gt;/outputs/118 -->\n<g id=\"edge73\" class=\"edge\">\n<title>/outputs/117&#45;&gt;/outputs/118</title>\n<path fill=\"none\" stroke=\"#000000\" d=\"M1202.0799,-403.7371C1211.5699,-406.4485 1222.3963,-409.5418 1232.5546,-412.4442\"/>\n<polygon fill=\"#000000\" stroke=\"#000000\" points=\"1231.8393,-415.8798 1242.4161,-415.2618 1233.7624,-409.1491 1231.8393,-415.8798\"/>\n</g>\n<!-- /outputs/132 -->\n<g id=\"node96\" class=\"node\">\n<title>/outputs/132</title>\n<polygon fill=\"#e8e8e8\" stroke=\"#000000\" points=\"1398,-509 1337,-509 1337,-473 1398,-473 1398,-509\"/>\n<text text-anchor=\"start\" x=\"1345.5\" y=\"-488\" font-family=\"Times\" font-size=\"10.00\" fill=\"#000000\">Unsqueeze</text>\n</g>\n<!-- /outputs/118&#45;&gt;/outputs/132 -->\n<g id=\"edge74\" class=\"edge\">\n<title>/outputs/118&#45;&gt;/outputs/132</title>\n<path fill=\"none\" stroke=\"#000000\" d=\"M1295.5049,-441.0442C1307.0231,-449.0365 1320.7337,-458.5499 1333.0842,-467.1196\"/>\n<polygon fill=\"#000000\" stroke=\"#000000\" points=\"1331.1624,-470.0462 1341.3736,-472.8715 1335.153,-464.295 1331.1624,-470.0462\"/>\n</g>\n<!-- /outputs/119 -->\n<g id=\"node86\" class=\"node\">\n<title>/outputs/119</title>\n<polygon fill=\"#e8e8e8\" stroke=\"#000000\" points=\"1202,-252 1148,-252 1148,-216 1202,-216 1202,-252\"/>\n<text text-anchor=\"start\" x=\"1165\" y=\"-231\" font-family=\"Times\" font-size=\"10.00\" fill=\"#000000\">Slice</text>\n</g>\n<!-- /outputs/122 -->\n<g id=\"node89\" class=\"node\">\n<title>/outputs/122</title>\n<polygon fill=\"#e8e8e8\" stroke=\"#000000\" points=\"1296.5,-252 1242.5,-252 1242.5,-216 1296.5,-216 1296.5,-252\"/>\n<text text-anchor=\"start\" x=\"1254.5\" y=\"-231\" font-family=\"Times\" font-size=\"10.00\" fill=\"#000000\">Concat</text>\n</g>\n<!-- /outputs/119&#45;&gt;/outputs/122 -->\n<g id=\"edge75\" class=\"edge\">\n<title>/outputs/119&#45;&gt;/outputs/122</title>\n<path fill=\"none\" stroke=\"#000000\" d=\"M1202.0799,-234C1211.471,-234 1222.1709,-234 1232.237,-234\"/>\n<polygon fill=\"#000000\" stroke=\"#000000\" points=\"1232.4162,-237.5001 1242.4161,-234 1232.4161,-230.5001 1232.4162,-237.5001\"/>\n</g>\n<!-- /outputs/120 -->\n<g id=\"node87\" class=\"node\">\n<title>/outputs/120</title>\n<polygon fill=\"#e8e8e8\" stroke=\"#000000\" points=\"1202,-198 1148,-198 1148,-162 1202,-162 1202,-198\"/>\n<text text-anchor=\"start\" x=\"1165\" y=\"-177\" font-family=\"Times\" font-size=\"10.00\" fill=\"#000000\">Slice</text>\n</g>\n<!-- /outputs/120&#45;&gt;/outputs/122 -->\n<g id=\"edge76\" class=\"edge\">\n<title>/outputs/120&#45;&gt;/outputs/122</title>\n<path fill=\"none\" stroke=\"#000000\" d=\"M1202.0799,-195.4742C1211.8665,-201.0665 1223.0742,-207.471 1233.505,-213.4314\"/>\n<polygon fill=\"#000000\" stroke=\"#000000\" points=\"1231.9972,-216.6009 1242.4161,-218.5235 1235.4702,-210.5232 1231.9972,-216.6009\"/>\n</g>\n<!-- /outputs/121 -->\n<g id=\"node88\" class=\"node\">\n<title>/outputs/121</title>\n<polygon fill=\"#e8e8e8\" stroke=\"#000000\" points=\"1202,-306 1148,-306 1148,-270 1202,-270 1202,-306\"/>\n<text text-anchor=\"start\" x=\"1165\" y=\"-285\" font-family=\"Times\" font-size=\"10.00\" fill=\"#000000\">Slice</text>\n</g>\n<!-- /outputs/121&#45;&gt;/outputs/122 -->\n<g id=\"edge77\" class=\"edge\">\n<title>/outputs/121&#45;&gt;/outputs/122</title>\n<path fill=\"none\" stroke=\"#000000\" d=\"M1202.0799,-272.5258C1211.8665,-266.9335 1223.0742,-260.529 1233.505,-254.5686\"/>\n<polygon fill=\"#000000\" stroke=\"#000000\" points=\"1235.4702,-257.4768 1242.4161,-249.4765 1231.9972,-251.3991 1235.4702,-257.4768\"/>\n</g>\n<!-- /outputs/133 -->\n<g id=\"node97\" class=\"node\">\n<title>/outputs/133</title>\n<polygon fill=\"#e8e8e8\" stroke=\"#000000\" points=\"1398,-252 1337,-252 1337,-216 1398,-216 1398,-252\"/>\n<text text-anchor=\"start\" x=\"1345.5\" y=\"-231\" font-family=\"Times\" font-size=\"10.00\" fill=\"#000000\">Unsqueeze</text>\n</g>\n<!-- /outputs/122&#45;&gt;/outputs/133 -->\n<g id=\"edge78\" class=\"edge\">\n<title>/outputs/122&#45;&gt;/outputs/133</title>\n<path fill=\"none\" stroke=\"#000000\" d=\"M1296.5384,-234C1305.7891,-234 1316.3565,-234 1326.46,-234\"/>\n<polygon fill=\"#000000\" stroke=\"#000000\" points=\"1326.7464,-237.5001 1336.7464,-234 1326.7463,-230.5001 1326.7464,-237.5001\"/>\n</g>\n<!-- /outputs/123 -->\n<g id=\"node90\" class=\"node\">\n<title>/outputs/123</title>\n<polygon fill=\"#e8e8e8\" stroke=\"#000000\" points=\"1202,-1455 1148,-1455 1148,-1419 1202,-1419 1202,-1455\"/>\n<text text-anchor=\"start\" x=\"1165\" y=\"-1434\" font-family=\"Times\" font-size=\"10.00\" fill=\"#000000\">Slice</text>\n</g>\n<!-- 957416568342600015 -->\n<g id=\"node137\" class=\"node\">\n<title>957416568342600015</title>\n<polygon fill=\"#e8e8e8\" stroke=\"#000000\" points=\"1296.5,-1567 1242.5,-1567 1242.5,-1523 1296.5,-1523 1296.5,-1567\"/>\n<text text-anchor=\"start\" x=\"1254.5\" y=\"-1551\" font-family=\"Times\" font-size=\"10.00\" fill=\"#000000\">Concat</text>\n<text text-anchor=\"start\" x=\"1277.5\" y=\"-1530\" font-family=\"Times\" font-size=\"10.00\" fill=\"#000000\">x3</text>\n</g>\n<!-- /outputs/123&#45;&gt;957416568342600015 -->\n<g id=\"edge142\" class=\"edge\">\n<title>/outputs/123&#45;&gt;957416568342600015</title>\n<path fill=\"none\" stroke=\"#000000\" d=\"M1193.5291,-1455.0808C1196.4098,-1458.0195 1199.3178,-1461.0629 1202,-1464 1216.8937,-1480.3091 1232.7424,-1499.2379 1245.3375,-1514.6941\"/>\n<polygon fill=\"#000000\" stroke=\"#000000\" points=\"1242.9588,-1517.318 1251.9733,-1522.8849 1248.3979,-1512.9116 1242.9588,-1517.318\"/>\n</g>\n<!-- /outputs/124 -->\n<g id=\"node91\" class=\"node\">\n<title>/outputs/124</title>\n<polygon fill=\"#e8e8e8\" stroke=\"#000000\" points=\"1202,-1725 1148,-1725 1148,-1689 1202,-1689 1202,-1725\"/>\n<text text-anchor=\"start\" x=\"1165\" y=\"-1704\" font-family=\"Times\" font-size=\"10.00\" fill=\"#000000\">Slice</text>\n</g>\n<!-- /outputs/124&#45;&gt;957416568342600015 -->\n<g id=\"edge143\" class=\"edge\">\n<title>/outputs/124&#45;&gt;957416568342600015</title>\n<path fill=\"none\" stroke=\"#000000\" d=\"M1194.7147,-1688.8251C1197.3164,-1685.9976 1199.8294,-1683.0116 1202,-1680 1225.5739,-1647.293 1245.1935,-1605.1364 1257.0966,-1576.7032\"/>\n<polygon fill=\"#000000\" stroke=\"#000000\" points=\"1260.415,-1577.8362 1260.979,-1567.2563 1253.9405,-1575.1753 1260.415,-1577.8362\"/>\n</g>\n<!-- /outputs/125 -->\n<g id=\"node92\" class=\"node\">\n<title>/outputs/125</title>\n<polygon fill=\"#e8e8e8\" stroke=\"#000000\" points=\"1202,-1671 1148,-1671 1148,-1635 1202,-1635 1202,-1671\"/>\n<text text-anchor=\"start\" x=\"1165\" y=\"-1650\" font-family=\"Times\" font-size=\"10.00\" fill=\"#000000\">Slice</text>\n</g>\n<!-- /outputs/125&#45;&gt;957416568342600015 -->\n<g id=\"edge144\" class=\"edge\">\n<title>/outputs/125&#45;&gt;957416568342600015</title>\n<path fill=\"none\" stroke=\"#000000\" d=\"M1193.5291,-1634.9192C1196.4098,-1631.9805 1199.3178,-1628.9371 1202,-1626 1216.8937,-1609.6909 1232.7424,-1590.7621 1245.3375,-1575.3059\"/>\n<polygon fill=\"#000000\" stroke=\"#000000\" points=\"1248.3979,-1577.0884 1251.9733,-1567.1151 1242.9588,-1572.682 1248.3979,-1577.0884\"/>\n</g>\n<!-- /outputs/127 -->\n<g id=\"node93\" class=\"node\">\n<title>/outputs/127</title>\n<polygon fill=\"#e8e8e8\" stroke=\"#000000\" points=\"1202,-1617 1148,-1617 1148,-1581 1202,-1581 1202,-1617\"/>\n<text text-anchor=\"start\" x=\"1165\" y=\"-1596\" font-family=\"Times\" font-size=\"10.00\" fill=\"#000000\">Slice</text>\n</g>\n<!-- /outputs/127&#45;&gt;957416568342600015 -->\n<g id=\"edge139\" class=\"edge\">\n<title>/outputs/127&#45;&gt;957416568342600015</title>\n<path fill=\"none\" stroke=\"#000000\" d=\"M1202.0799,-1583.5258C1211.8665,-1577.9335 1223.0742,-1571.529 1233.505,-1565.5686\"/>\n<polygon fill=\"#000000\" stroke=\"#000000\" points=\"1235.4702,-1568.4768 1242.4161,-1560.4765 1231.9972,-1562.3991 1235.4702,-1568.4768\"/>\n</g>\n<!-- /outputs/128 -->\n<g id=\"node94\" class=\"node\">\n<title>/outputs/128</title>\n<polygon fill=\"#e8e8e8\" stroke=\"#000000\" points=\"1202,-1563 1148,-1563 1148,-1527 1202,-1527 1202,-1563\"/>\n<text text-anchor=\"start\" x=\"1165\" y=\"-1542\" font-family=\"Times\" font-size=\"10.00\" fill=\"#000000\">Slice</text>\n</g>\n<!-- /outputs/128&#45;&gt;957416568342600015 -->\n<g id=\"edge140\" class=\"edge\">\n<title>/outputs/128&#45;&gt;957416568342600015</title>\n<path fill=\"none\" stroke=\"#000000\" d=\"M1202.0799,-1545C1211.471,-1545 1222.1709,-1545 1232.237,-1545\"/>\n<polygon fill=\"#000000\" stroke=\"#000000\" points=\"1232.4162,-1548.5001 1242.4161,-1545 1232.4161,-1541.5001 1232.4162,-1548.5001\"/>\n</g>\n<!-- /outputs/129 -->\n<g id=\"node95\" class=\"node\">\n<title>/outputs/129</title>\n<polygon fill=\"#e8e8e8\" stroke=\"#000000\" points=\"1202,-1509 1148,-1509 1148,-1473 1202,-1473 1202,-1509\"/>\n<text text-anchor=\"start\" x=\"1165\" y=\"-1488\" font-family=\"Times\" font-size=\"10.00\" fill=\"#000000\">Slice</text>\n</g>\n<!-- /outputs/129&#45;&gt;957416568342600015 -->\n<g id=\"edge141\" class=\"edge\">\n<title>/outputs/129&#45;&gt;957416568342600015</title>\n<path fill=\"none\" stroke=\"#000000\" d=\"M1202.0799,-1506.4742C1211.8665,-1512.0665 1223.0742,-1518.471 1233.505,-1524.4314\"/>\n<polygon fill=\"#000000\" stroke=\"#000000\" points=\"1231.9972,-1527.6009 1242.4161,-1529.5235 1235.4702,-1521.5232 1231.9972,-1527.6009\"/>\n</g>\n<!-- /outputs/132&#45;&gt;/outputs/135 -->\n<g id=\"edge79\" class=\"edge\">\n<title>/outputs/132&#45;&gt;/outputs/135</title>\n<path fill=\"none\" stroke=\"#000000\" d=\"M1393.3225,-509.308C1404.0352,-516.9033 1416.6123,-525.8203 1428.0557,-533.9337\"/>\n<polygon fill=\"#000000\" stroke=\"#000000\" points=\"1426.3538,-537.0175 1436.5359,-539.9461 1430.4025,-531.3071 1426.3538,-537.0175\"/>\n</g>\n<!-- /outputs/133&#45;&gt;/outputs/136 -->\n<g id=\"edge80\" class=\"edge\">\n<title>/outputs/133&#45;&gt;/outputs/136</title>\n<path fill=\"none\" stroke=\"#000000\" d=\"M1398.1814,-234C1406.7033,-234 1416.0485,-234 1424.8957,-234\"/>\n<polygon fill=\"#000000\" stroke=\"#000000\" points=\"1424.9735,-237.5001 1434.9735,-234 1424.9734,-230.5001 1424.9735,-237.5001\"/>\n</g>\n<!-- /outputs/134 -->\n<g id=\"node98\" class=\"node\">\n<title>/outputs/134</title>\n<polygon fill=\"#e8e8e8\" stroke=\"#000000\" points=\"1398,-1361 1337,-1361 1337,-1325 1398,-1325 1398,-1361\"/>\n<text text-anchor=\"start\" x=\"1345.5\" y=\"-1340\" font-family=\"Times\" font-size=\"10.00\" fill=\"#000000\">Unsqueeze</text>\n</g>\n<!-- /outputs/134&#45;&gt;/outputs/137 -->\n<g id=\"edge81\" class=\"edge\">\n<title>/outputs/134&#45;&gt;/outputs/137</title>\n<path fill=\"none\" stroke=\"#000000\" d=\"M1385.2747,-1324.5669C1400.0187,-1309.2769 1421.1379,-1287.3755 1437.4878,-1270.4201\"/>\n<polygon fill=\"#000000\" stroke=\"#000000\" points=\"1440.2023,-1272.6472 1444.6243,-1263.0193 1435.1634,-1267.7883 1440.2023,-1272.6472\"/>\n</g>\n<!-- /outputs/135&#45;&gt;/outputs/158/159/160 -->\n<g id=\"edge82\" class=\"edge\">\n<title>/outputs/135&#45;&gt;/outputs/158/159/160</title>\n<path fill=\"none\" stroke=\"#000000\" d=\"M1466.6378,-576.2964C1481.4859,-634.8729 1527.9241,-818.0743 1545.8452,-888.7739\"/>\n<polygon fill=\"#000000\" stroke=\"#000000\" points=\"1542.5216,-889.907 1548.3715,-898.7404 1549.307,-888.187 1542.5216,-889.907\"/>\n</g>\n<!-- /outputs/136&#45;&gt;/outputs/158/159/160 -->\n<g id=\"edge83\" class=\"edge\">\n<title>/outputs/136&#45;&gt;/outputs/158/159/160</title>\n<path fill=\"none\" stroke=\"#000000\" d=\"M1464.434,-252.2686C1476.9474,-346.1874 1534.0395,-774.6924 1549.2613,-888.939\"/>\n<polygon fill=\"#000000\" stroke=\"#000000\" points=\"1545.8106,-889.5421 1550.6007,-898.9923 1552.7493,-888.6176 1545.8106,-889.5421\"/>\n</g>\n<!-- /outputs/137&#45;&gt;/outputs/158/159/160 -->\n<g id=\"edge84\" class=\"edge\">\n<title>/outputs/137&#45;&gt;/outputs/158/159/160</title>\n<path fill=\"none\" stroke=\"#000000\" d=\"M1467.0222,-1226.8981C1482.0932,-1172.5761 1527.0113,-1010.6737 1545.2118,-945.0717\"/>\n<polygon fill=\"#000000\" stroke=\"#000000\" points=\"1548.6925,-945.6177 1547.9933,-935.046 1541.9473,-943.7463 1548.6925,-945.6177\"/>\n</g>\n<!-- /outputs/148 -->\n<g id=\"node112\" class=\"node\">\n<title>/outputs/148</title>\n<polygon fill=\"#e8e8e8\" stroke=\"#000000\" points=\"1489,-776 1435,-776 1435,-740 1489,-740 1489,-776\"/>\n<text text-anchor=\"start\" x=\"1446\" y=\"-755\" font-family=\"Times\" font-size=\"10.00\" fill=\"#000000\">Expand</text>\n</g>\n<!-- /outputs/138&#45;&gt;/outputs/148 -->\n<g id=\"edge85\" class=\"edge\">\n<title>/outputs/138&#45;&gt;/outputs/148</title>\n<path fill=\"none\" stroke=\"#000000\" d=\"M705.4588,-650.4002C729.2204,-653.825 764.5368,-658 795.5,-658 795.5,-658 795.5,-658 1367.5,-658 1407.5904,-658 1435.7319,-700.9823 1450.3602,-730.5878\"/>\n<polygon fill=\"#000000\" stroke=\"#000000\" points=\"1447.2052,-732.1033 1454.6329,-739.6585 1453.5378,-729.1204 1447.2052,-732.1033\"/>\n</g>\n<!-- /outputs/157 -->\n<g id=\"node121\" class=\"node\">\n<title>/outputs/157</title>\n<polygon fill=\"#e8e8e8\" stroke=\"#000000\" points=\"1489,-985 1435,-985 1435,-949 1489,-949 1489,-985\"/>\n<text text-anchor=\"start\" x=\"1446\" y=\"-964\" font-family=\"Times\" font-size=\"10.00\" fill=\"#000000\">Expand</text>\n</g>\n<!-- /outputs/139&#45;&gt;/outputs/157 -->\n<g id=\"edge86\" class=\"edge\">\n<title>/outputs/139&#45;&gt;/outputs/157</title>\n<path fill=\"none\" stroke=\"#000000\" d=\"M561.2083,-1100.7647C589.4895,-1086.3806 635.4836,-1067 678,-1067 678,-1067 678,-1067 1367.5,-1067 1407.5904,-1067 1435.7319,-1024.0177 1450.3602,-994.4122\"/>\n<polygon fill=\"#000000\" stroke=\"#000000\" points=\"1453.5378,-995.8796 1454.6329,-985.3415 1447.2052,-992.8967 1453.5378,-995.8796\"/>\n</g>\n<!-- /outputs/142 -->\n<g id=\"node106\" class=\"node\">\n<title>/outputs/142</title>\n<polygon fill=\"#e8e8e8\" stroke=\"#000000\" points=\"1202,-830 1148,-830 1148,-794 1202,-794 1202,-830\"/>\n<text text-anchor=\"start\" x=\"1161\" y=\"-809\" font-family=\"Times\" font-size=\"10.00\" fill=\"#000000\">Gather</text>\n</g>\n<!-- /outputs/140&#45;&gt;/outputs/142 -->\n<g id=\"edge87\" class=\"edge\">\n<title>/outputs/140&#45;&gt;/outputs/142</title>\n<path fill=\"none\" stroke=\"#000000\" d=\"M1111.303,-817.5997C1119.5813,-816.872 1128.8217,-816.0596 1137.6405,-815.2844\"/>\n<polygon fill=\"#000000\" stroke=\"#000000\" points=\"1138.0612,-818.761 1147.7163,-814.3986 1137.4481,-811.7879 1138.0612,-818.761\"/>\n</g>\n<!-- /outputs/141 -->\n<g id=\"node105\" class=\"node\">\n<title>/outputs/141</title>\n<polygon fill=\"#e8e8e8\" stroke=\"#000000\" points=\"1111,-784 1057,-784 1057,-748 1111,-748 1111,-784\"/>\n<text text-anchor=\"start\" x=\"1066\" y=\"-763\" font-family=\"Times\" font-size=\"10.00\" fill=\"#000000\">Constant</text>\n</g>\n<!-- /outputs/141&#45;&gt;/outputs/142 -->\n<g id=\"edge88\" class=\"edge\">\n<title>/outputs/141&#45;&gt;/outputs/142</title>\n<path fill=\"none\" stroke=\"#000000\" d=\"M1111.303,-779.8015C1119.9412,-784.1681 1129.6271,-789.0642 1138.7882,-793.6952\"/>\n<polygon fill=\"#000000\" stroke=\"#000000\" points=\"1137.2127,-796.8205 1147.7163,-798.2082 1140.3707,-790.5732 1137.2127,-796.8205\"/>\n</g>\n<!-- /outputs/143 -->\n<g id=\"node107\" class=\"node\">\n<title>/outputs/143</title>\n<polygon fill=\"#e8e8e8\" stroke=\"#000000\" points=\"1300,-830 1239,-830 1239,-794 1300,-794 1300,-830\"/>\n<text text-anchor=\"start\" x=\"1247.5\" y=\"-809\" font-family=\"Times\" font-size=\"10.00\" fill=\"#000000\">Unsqueeze</text>\n</g>\n<!-- /outputs/142&#45;&gt;/outputs/143 -->\n<g id=\"edge89\" class=\"edge\">\n<title>/outputs/142&#45;&gt;/outputs/143</title>\n<path fill=\"none\" stroke=\"#000000\" d=\"M1202.0799,-812C1210.3121,-812 1219.5498,-812 1228.4848,-812\"/>\n<polygon fill=\"#000000\" stroke=\"#000000\" points=\"1228.7564,-815.5001 1238.7563,-812 1228.7563,-808.5001 1228.7564,-815.5001\"/>\n</g>\n<!-- /outputs/147 -->\n<g id=\"node111\" class=\"node\">\n<title>/outputs/147</title>\n<polygon fill=\"#e8e8e8\" stroke=\"#000000\" points=\"1394.5,-776 1340.5,-776 1340.5,-740 1394.5,-740 1394.5,-776\"/>\n<text text-anchor=\"start\" x=\"1352.5\" y=\"-755\" font-family=\"Times\" font-size=\"10.00\" fill=\"#000000\">Concat</text>\n</g>\n<!-- /outputs/143&#45;&gt;/outputs/147 -->\n<g id=\"edge90\" class=\"edge\">\n<title>/outputs/143&#45;&gt;/outputs/147</title>\n<path fill=\"none\" stroke=\"#000000\" d=\"M1300.2389,-795.0622C1310.0377,-789.6629 1320.9734,-783.6371 1331.1317,-778.0397\"/>\n<polygon fill=\"#000000\" stroke=\"#000000\" points=\"1333.118,-780.9414 1340.1873,-773.0499 1329.7398,-774.8105 1333.118,-780.9414\"/>\n</g>\n<!-- /outputs/144 -->\n<g id=\"node108\" class=\"node\">\n<title>/outputs/144</title>\n<polygon fill=\"#e8e8e8\" stroke=\"#000000\" points=\"1296.5,-776 1242.5,-776 1242.5,-740 1296.5,-740 1296.5,-776\"/>\n<text text-anchor=\"start\" x=\"1251.5\" y=\"-755\" font-family=\"Times\" font-size=\"10.00\" fill=\"#000000\">Constant</text>\n</g>\n<!-- /outputs/144&#45;&gt;/outputs/147 -->\n<g id=\"edge91\" class=\"edge\">\n<title>/outputs/144&#45;&gt;/outputs/147</title>\n<path fill=\"none\" stroke=\"#000000\" d=\"M1296.5384,-758C1306.8425,-758 1318.7803,-758 1329.891,-758\"/>\n<polygon fill=\"#000000\" stroke=\"#000000\" points=\"1330.2097,-761.5001 1340.2097,-758 1330.2096,-754.5001 1330.2097,-761.5001\"/>\n</g>\n<!-- /outputs/145 -->\n<g id=\"node109\" class=\"node\">\n<title>/outputs/145</title>\n<polygon fill=\"#e8e8e8\" stroke=\"#000000\" points=\"1202,-722 1148,-722 1148,-686 1202,-686 1202,-722\"/>\n<text text-anchor=\"start\" x=\"1157\" y=\"-701\" font-family=\"Times\" font-size=\"10.00\" fill=\"#000000\">Constant</text>\n</g>\n<!-- /outputs/146 -->\n<g id=\"node110\" class=\"node\">\n<title>/outputs/146</title>\n<polygon fill=\"#e8e8e8\" stroke=\"#000000\" points=\"1300,-722 1239,-722 1239,-686 1300,-686 1300,-722\"/>\n<text text-anchor=\"start\" x=\"1247.5\" y=\"-701\" font-family=\"Times\" font-size=\"10.00\" fill=\"#000000\">Unsqueeze</text>\n</g>\n<!-- /outputs/145&#45;&gt;/outputs/146 -->\n<g id=\"edge92\" class=\"edge\">\n<title>/outputs/145&#45;&gt;/outputs/146</title>\n<path fill=\"none\" stroke=\"#000000\" d=\"M1202.0799,-704C1210.3121,-704 1219.5498,-704 1228.4848,-704\"/>\n<polygon fill=\"#000000\" stroke=\"#000000\" points=\"1228.7564,-707.5001 1238.7563,-704 1228.7563,-700.5001 1228.7564,-707.5001\"/>\n</g>\n<!-- /outputs/146&#45;&gt;/outputs/147 -->\n<g id=\"edge93\" class=\"edge\">\n<title>/outputs/146&#45;&gt;/outputs/147</title>\n<path fill=\"none\" stroke=\"#000000\" d=\"M1300.2389,-720.9378C1310.0377,-726.3371 1320.9734,-732.3629 1331.1317,-737.9603\"/>\n<polygon fill=\"#000000\" stroke=\"#000000\" points=\"1329.7398,-741.1895 1340.1873,-742.9501 1333.118,-735.0586 1329.7398,-741.1895\"/>\n</g>\n<!-- /outputs/147&#45;&gt;/outputs/148 -->\n<g id=\"edge94\" class=\"edge\">\n<title>/outputs/147&#45;&gt;/outputs/148</title>\n<path fill=\"none\" stroke=\"#000000\" d=\"M1394.5799,-758C1403.971,-758 1414.6709,-758 1424.737,-758\"/>\n<polygon fill=\"#000000\" stroke=\"#000000\" points=\"1424.9162,-761.5001 1434.9161,-758 1424.9161,-754.5001 1424.9162,-761.5001\"/>\n</g>\n<!-- /outputs/148&#45;&gt;/outputs/158/159/160 -->\n<g id=\"edge95\" class=\"edge\">\n<title>/outputs/148&#45;&gt;/outputs/158/159/160</title>\n<path fill=\"none\" stroke=\"#000000\" d=\"M1472.4389,-776.2393C1488.4154,-804.1543 1519.0256,-857.6381 1537.5697,-890.0393\"/>\n<polygon fill=\"#000000\" stroke=\"#000000\" points=\"1534.6779,-892.0329 1542.6829,-898.9734 1540.7532,-888.5558 1534.6779,-892.0329\"/>\n</g>\n<!-- /outputs/151 -->\n<g id=\"node115\" class=\"node\">\n<title>/outputs/151</title>\n<polygon fill=\"#e8e8e8\" stroke=\"#000000\" points=\"1202,-1039 1148,-1039 1148,-1003 1202,-1003 1202,-1039\"/>\n<text text-anchor=\"start\" x=\"1161\" y=\"-1018\" font-family=\"Times\" font-size=\"10.00\" fill=\"#000000\">Gather</text>\n</g>\n<!-- /outputs/149&#45;&gt;/outputs/151 -->\n<g id=\"edge96\" class=\"edge\">\n<title>/outputs/149&#45;&gt;/outputs/151</title>\n<path fill=\"none\" stroke=\"#000000\" d=\"M1111.303,-983.2018C1120.0312,-988.3811 1129.829,-994.1952 1139.0744,-999.6815\"/>\n<polygon fill=\"#000000\" stroke=\"#000000\" points=\"1137.3303,-1002.7164 1147.7163,-1004.8097 1140.9025,-996.6965 1137.3303,-1002.7164\"/>\n</g>\n<!-- /outputs/150 -->\n<g id=\"node114\" class=\"node\">\n<title>/outputs/150</title>\n<polygon fill=\"#e8e8e8\" stroke=\"#000000\" points=\"1111,-1039 1057,-1039 1057,-1003 1111,-1003 1111,-1039\"/>\n<text text-anchor=\"start\" x=\"1066\" y=\"-1018\" font-family=\"Times\" font-size=\"10.00\" fill=\"#000000\">Constant</text>\n</g>\n<!-- /outputs/150&#45;&gt;/outputs/151 -->\n<g id=\"edge97\" class=\"edge\">\n<title>/outputs/150&#45;&gt;/outputs/151</title>\n<path fill=\"none\" stroke=\"#000000\" d=\"M1111.303,-1021C1119.5813,-1021 1128.8217,-1021 1137.6405,-1021\"/>\n<polygon fill=\"#000000\" stroke=\"#000000\" points=\"1137.7163,-1024.5001 1147.7163,-1021 1137.7162,-1017.5001 1137.7163,-1024.5001\"/>\n</g>\n<!-- /outputs/152 -->\n<g id=\"node116\" class=\"node\">\n<title>/outputs/152</title>\n<polygon fill=\"#e8e8e8\" stroke=\"#000000\" points=\"1300,-1039 1239,-1039 1239,-1003 1300,-1003 1300,-1039\"/>\n<text text-anchor=\"start\" x=\"1247.5\" y=\"-1018\" font-family=\"Times\" font-size=\"10.00\" fill=\"#000000\">Unsqueeze</text>\n</g>\n<!-- /outputs/151&#45;&gt;/outputs/152 -->\n<g id=\"edge98\" class=\"edge\">\n<title>/outputs/151&#45;&gt;/outputs/152</title>\n<path fill=\"none\" stroke=\"#000000\" d=\"M1202.0799,-1021C1210.3121,-1021 1219.5498,-1021 1228.4848,-1021\"/>\n<polygon fill=\"#000000\" stroke=\"#000000\" points=\"1228.7564,-1024.5001 1238.7563,-1021 1228.7563,-1017.5001 1228.7564,-1024.5001\"/>\n</g>\n<!-- /outputs/156 -->\n<g id=\"node120\" class=\"node\">\n<title>/outputs/156</title>\n<polygon fill=\"#e8e8e8\" stroke=\"#000000\" points=\"1394.5,-985 1340.5,-985 1340.5,-949 1394.5,-949 1394.5,-985\"/>\n<text text-anchor=\"start\" x=\"1352.5\" y=\"-964\" font-family=\"Times\" font-size=\"10.00\" fill=\"#000000\">Concat</text>\n</g>\n<!-- /outputs/152&#45;&gt;/outputs/156 -->\n<g id=\"edge99\" class=\"edge\">\n<title>/outputs/152&#45;&gt;/outputs/156</title>\n<path fill=\"none\" stroke=\"#000000\" d=\"M1300.2389,-1004.0622C1310.0377,-998.6629 1320.9734,-992.6371 1331.1317,-987.0397\"/>\n<polygon fill=\"#000000\" stroke=\"#000000\" points=\"1333.118,-989.9414 1340.1873,-982.0499 1329.7398,-983.8105 1333.118,-989.9414\"/>\n</g>\n<!-- /outputs/153 -->\n<g id=\"node117\" class=\"node\">\n<title>/outputs/153</title>\n<polygon fill=\"#e8e8e8\" stroke=\"#000000\" points=\"1296.5,-985 1242.5,-985 1242.5,-949 1296.5,-949 1296.5,-985\"/>\n<text text-anchor=\"start\" x=\"1251.5\" y=\"-964\" font-family=\"Times\" font-size=\"10.00\" fill=\"#000000\">Constant</text>\n</g>\n<!-- /outputs/153&#45;&gt;/outputs/156 -->\n<g id=\"edge100\" class=\"edge\">\n<title>/outputs/153&#45;&gt;/outputs/156</title>\n<path fill=\"none\" stroke=\"#000000\" d=\"M1296.5384,-967C1306.8425,-967 1318.7803,-967 1329.891,-967\"/>\n<polygon fill=\"#000000\" stroke=\"#000000\" points=\"1330.2097,-970.5001 1340.2097,-967 1330.2096,-963.5001 1330.2097,-970.5001\"/>\n</g>\n<!-- /outputs/154 -->\n<g id=\"node118\" class=\"node\">\n<title>/outputs/154</title>\n<polygon fill=\"#e8e8e8\" stroke=\"#000000\" points=\"1202,-931 1148,-931 1148,-895 1202,-895 1202,-931\"/>\n<text text-anchor=\"start\" x=\"1157\" y=\"-910\" font-family=\"Times\" font-size=\"10.00\" fill=\"#000000\">Constant</text>\n</g>\n<!-- /outputs/155 -->\n<g id=\"node119\" class=\"node\">\n<title>/outputs/155</title>\n<polygon fill=\"#e8e8e8\" stroke=\"#000000\" points=\"1300,-931 1239,-931 1239,-895 1300,-895 1300,-931\"/>\n<text text-anchor=\"start\" x=\"1247.5\" y=\"-910\" font-family=\"Times\" font-size=\"10.00\" fill=\"#000000\">Unsqueeze</text>\n</g>\n<!-- /outputs/154&#45;&gt;/outputs/155 -->\n<g id=\"edge101\" class=\"edge\">\n<title>/outputs/154&#45;&gt;/outputs/155</title>\n<path fill=\"none\" stroke=\"#000000\" d=\"M1202.0799,-913C1210.3121,-913 1219.5498,-913 1228.4848,-913\"/>\n<polygon fill=\"#000000\" stroke=\"#000000\" points=\"1228.7564,-916.5001 1238.7563,-913 1228.7563,-909.5001 1228.7564,-916.5001\"/>\n</g>\n<!-- /outputs/155&#45;&gt;/outputs/156 -->\n<g id=\"edge102\" class=\"edge\">\n<title>/outputs/155&#45;&gt;/outputs/156</title>\n<path fill=\"none\" stroke=\"#000000\" d=\"M1300.2389,-929.9378C1310.0377,-935.3371 1320.9734,-941.3629 1331.1317,-946.9603\"/>\n<polygon fill=\"#000000\" stroke=\"#000000\" points=\"1329.7398,-950.1895 1340.1873,-951.9501 1333.118,-944.0586 1329.7398,-950.1895\"/>\n</g>\n<!-- /outputs/156&#45;&gt;/outputs/157 -->\n<g id=\"edge103\" class=\"edge\">\n<title>/outputs/156&#45;&gt;/outputs/157</title>\n<path fill=\"none\" stroke=\"#000000\" d=\"M1394.5799,-967C1403.971,-967 1414.6709,-967 1424.737,-967\"/>\n<polygon fill=\"#000000\" stroke=\"#000000\" points=\"1424.9162,-970.5001 1434.9161,-967 1424.9161,-963.5001 1424.9162,-970.5001\"/>\n</g>\n<!-- /outputs/157&#45;&gt;/outputs/158/159/160 -->\n<g id=\"edge104\" class=\"edge\">\n<title>/outputs/157&#45;&gt;/outputs/158/159/160</title>\n<path fill=\"none\" stroke=\"#000000\" d=\"M1489.303,-951.9984C1497.9412,-947.2521 1507.6271,-941.9302 1516.7882,-936.8966\"/>\n<polygon fill=\"#000000\" stroke=\"#000000\" points=\"1518.6375,-939.8741 1525.7163,-931.9911 1515.2666,-933.7391 1518.6375,-939.8741\"/>\n</g>\n<!-- /outputs/158/159/160&#45;&gt;/outputs/161 -->\n<g id=\"edge105\" class=\"edge\">\n<title>/outputs/158/159/160&#45;&gt;/outputs/161</title>\n<path fill=\"none\" stroke=\"#000000\" d=\"M1555.5769,-935.123C1568.2992,-1024.5985 1624.4214,-1419.3046 1639.9854,-1528.7656\"/>\n<polygon fill=\"#000000\" stroke=\"#000000\" points=\"1636.5293,-1529.3222 1641.4022,-1538.7299 1643.4596,-1528.3368 1636.5293,-1529.3222\"/>\n</g>\n<!-- /outputs/162 -->\n<g id=\"node124\" class=\"node\">\n<title>/outputs/162</title>\n<polygon fill=\"#e8e8e8\" stroke=\"#000000\" points=\"1809,-1602 1755,-1602 1755,-1566 1809,-1566 1809,-1602\"/>\n<text text-anchor=\"start\" x=\"1772\" y=\"-1581\" font-family=\"Times\" font-size=\"10.00\" fill=\"#000000\">Slice</text>\n</g>\n<!-- /outputs/161&#45;&gt;/outputs/162 -->\n<g id=\"edge106\" class=\"edge\">\n<title>/outputs/161&#45;&gt;/outputs/162</title>\n<path fill=\"none\" stroke=\"#000000\" d=\"M1671.2644,-1562.3343C1692.339,-1566.4576 1721.734,-1572.2088 1744.9424,-1576.7496\"/>\n<polygon fill=\"#000000\" stroke=\"#000000\" points=\"1744.3063,-1580.1914 1754.7923,-1578.6768 1745.6504,-1573.3217 1744.3063,-1580.1914\"/>\n<text text-anchor=\"middle\" x=\"1713\" y=\"-1577\" font-family=\"Times\" font-size=\"10.00\" fill=\"#000000\">4x128x128</text>\n</g>\n<!-- /outputs/164 -->\n<g id=\"node126\" class=\"node\">\n<title>/outputs/164</title>\n<polygon fill=\"#e8e8e8\" stroke=\"#000000\" points=\"1809,-1548 1755,-1548 1755,-1512 1809,-1512 1809,-1548\"/>\n<text text-anchor=\"start\" x=\"1772\" y=\"-1527\" font-family=\"Times\" font-size=\"10.00\" fill=\"#000000\">Slice</text>\n</g>\n<!-- /outputs/161&#45;&gt;/outputs/164 -->\n<g id=\"edge107\" class=\"edge\">\n<title>/outputs/161&#45;&gt;/outputs/164</title>\n<path fill=\"none\" stroke=\"#000000\" d=\"M1671.2644,-1551.6657C1692.339,-1547.5424 1721.734,-1541.7912 1744.9424,-1537.2504\"/>\n<polygon fill=\"#000000\" stroke=\"#000000\" points=\"1745.6504,-1540.6783 1754.7923,-1535.3232 1744.3063,-1533.8086 1745.6504,-1540.6783\"/>\n<text text-anchor=\"middle\" x=\"1713\" y=\"-1550\" font-family=\"Times\" font-size=\"10.00\" fill=\"#000000\">4x128x128</text>\n</g>\n<!-- /outputs/163 -->\n<g id=\"node125\" class=\"node\">\n<title>/outputs/163</title>\n<polygon fill=\"#e8e8e8\" stroke=\"#000000\" points=\"1900,-1602 1846,-1602 1846,-1566 1900,-1566 1900,-1602\"/>\n<text text-anchor=\"start\" x=\"1856\" y=\"-1581\" font-family=\"Times\" font-size=\"10.00\" fill=\"#000000\">Squeeze</text>\n</g>\n<!-- /outputs/162&#45;&gt;/outputs/163 -->\n<g id=\"edge108\" class=\"edge\">\n<title>/outputs/162&#45;&gt;/outputs/163</title>\n<path fill=\"none\" stroke=\"#000000\" d=\"M1809.303,-1584C1817.5813,-1584 1826.8217,-1584 1835.6405,-1584\"/>\n<polygon fill=\"#000000\" stroke=\"#000000\" points=\"1835.7163,-1587.5001 1845.7163,-1584 1835.7162,-1580.5001 1835.7163,-1587.5001\"/>\n</g>\n<!-- /outputs/166 -->\n<g id=\"node128\" class=\"node\">\n<title>/outputs/166</title>\n<polygon fill=\"#e8e8e8\" stroke=\"#000000\" points=\"2027,-1575 1973,-1575 1973,-1539 2027,-1539 2027,-1575\"/>\n<text text-anchor=\"start\" x=\"1985\" y=\"-1554\" font-family=\"Times\" font-size=\"10.00\" fill=\"#000000\">Concat</text>\n</g>\n<!-- /outputs/163&#45;&gt;/outputs/166 -->\n<g id=\"edge109\" class=\"edge\">\n<title>/outputs/163&#45;&gt;/outputs/166</title>\n<path fill=\"none\" stroke=\"#000000\" d=\"M1900.2447,-1578.2078C1918.492,-1574.3285 1942.746,-1569.1721 1962.7693,-1564.9152\"/>\n<polygon fill=\"#000000\" stroke=\"#000000\" points=\"1963.7468,-1568.2857 1972.8004,-1562.7826 1962.2911,-1561.4387 1963.7468,-1568.2857\"/>\n<text text-anchor=\"middle\" x=\"1936.5\" y=\"-1576\" font-family=\"Times\" font-size=\"10.00\" fill=\"#000000\">128x128</text>\n</g>\n<!-- /outputs/165 -->\n<g id=\"node127\" class=\"node\">\n<title>/outputs/165</title>\n<polygon fill=\"#e8e8e8\" stroke=\"#000000\" points=\"1900,-1548 1846,-1548 1846,-1512 1900,-1512 1900,-1548\"/>\n<text text-anchor=\"start\" x=\"1856\" y=\"-1527\" font-family=\"Times\" font-size=\"10.00\" fill=\"#000000\">Squeeze</text>\n</g>\n<!-- /outputs/164&#45;&gt;/outputs/165 -->\n<g id=\"edge110\" class=\"edge\">\n<title>/outputs/164&#45;&gt;/outputs/165</title>\n<path fill=\"none\" stroke=\"#000000\" d=\"M1809.303,-1530C1817.5813,-1530 1826.8217,-1530 1835.6405,-1530\"/>\n<polygon fill=\"#000000\" stroke=\"#000000\" points=\"1835.7163,-1533.5001 1845.7163,-1530 1835.7162,-1526.5001 1835.7163,-1533.5001\"/>\n</g>\n<!-- /outputs/165&#45;&gt;/outputs/166 -->\n<g id=\"edge111\" class=\"edge\">\n<title>/outputs/165&#45;&gt;/outputs/166</title>\n<path fill=\"none\" stroke=\"#000000\" d=\"M1900.2447,-1535.7922C1918.492,-1539.6715 1942.746,-1544.8279 1962.7693,-1549.0848\"/>\n<polygon fill=\"#000000\" stroke=\"#000000\" points=\"1962.2911,-1552.5613 1972.8004,-1551.2174 1963.7468,-1545.7143 1962.2911,-1552.5613\"/>\n<text text-anchor=\"middle\" x=\"1936.5\" y=\"-1549\" font-family=\"Times\" font-size=\"10.00\" fill=\"#000000\">128x128</text>\n</g>\n<!-- /outputs/167 -->\n<g id=\"node129\" class=\"node\">\n<title>/outputs/167</title>\n<polygon fill=\"#e8e8e8\" stroke=\"#000000\" points=\"2154,-1575 2100,-1575 2100,-1539 2154,-1539 2154,-1575\"/>\n<text text-anchor=\"start\" x=\"2110\" y=\"-1554\" font-family=\"Times\" font-size=\"10.00\" fill=\"#000000\">Squeeze</text>\n</g>\n<!-- /outputs/166&#45;&gt;/outputs/167 -->\n<g id=\"edge112\" class=\"edge\">\n<title>/outputs/166&#45;&gt;/outputs/167</title>\n<path fill=\"none\" stroke=\"#000000\" d=\"M2027.2447,-1557C2045.492,-1557 2069.746,-1557 2089.7693,-1557\"/>\n<polygon fill=\"#000000\" stroke=\"#000000\" points=\"2089.8004,-1560.5001 2099.8004,-1557 2089.8003,-1553.5001 2089.8004,-1560.5001\"/>\n<text text-anchor=\"middle\" x=\"2063.5\" y=\"-1560\" font-family=\"Times\" font-size=\"10.00\" fill=\"#000000\">128x256</text>\n</g>\n<!-- /outputs/168 -->\n<g id=\"node130\" class=\"node\">\n<title>/outputs/168</title>\n<polygon fill=\"#e8e8e8\" stroke=\"#000000\" points=\"2281,-1575 2227,-1575 2227,-1539 2281,-1539 2281,-1575\"/>\n<text text-anchor=\"start\" x=\"2241\" y=\"-1554\" font-family=\"Times\" font-size=\"10.00\" fill=\"#000000\">Linear</text>\n</g>\n<!-- /outputs/167&#45;&gt;/outputs/168 -->\n<g id=\"edge113\" class=\"edge\">\n<title>/outputs/167&#45;&gt;/outputs/168</title>\n<path fill=\"none\" stroke=\"#000000\" d=\"M2154.2447,-1557C2172.492,-1557 2196.746,-1557 2216.7693,-1557\"/>\n<polygon fill=\"#000000\" stroke=\"#000000\" points=\"2216.8004,-1560.5001 2226.8004,-1557 2216.8003,-1553.5001 2216.8004,-1560.5001\"/>\n<text text-anchor=\"middle\" x=\"2190.5\" y=\"-1560\" font-family=\"Times\" font-size=\"10.00\" fill=\"#000000\">128x256</text>\n</g>\n<!-- /outputs/170 -->\n<g id=\"node132\" class=\"node\">\n<title>/outputs/170</title>\n<polygon fill=\"#e8e8e8\" stroke=\"#000000\" points=\"2398,-1537 2344,-1537 2344,-1501 2398,-1501 2398,-1537\"/>\n<text text-anchor=\"start\" x=\"2354\" y=\"-1516\" font-family=\"Times\" font-size=\"10.00\" fill=\"#000000\">Reshape</text>\n</g>\n<!-- /outputs/168&#45;&gt;/outputs/170 -->\n<g id=\"edge114\" class=\"edge\">\n<title>/outputs/168&#45;&gt;/outputs/170</title>\n<path fill=\"none\" stroke=\"#000000\" d=\"M2281.1362,-1548.1865C2296.824,-1543.0914 2316.784,-1536.6086 2333.9061,-1531.0476\"/>\n<polygon fill=\"#000000\" stroke=\"#000000\" points=\"2335.1759,-1534.3152 2343.6056,-1527.8973 2333.0135,-1527.6576 2335.1759,-1534.3152\"/>\n<text text-anchor=\"middle\" x=\"2312.5\" y=\"-1544\" font-family=\"Times\" font-size=\"10.00\" fill=\"#000000\">128x1</text>\n</g>\n<!-- /outputs/169 -->\n<g id=\"node131\" class=\"node\">\n<title>/outputs/169</title>\n<polygon fill=\"#e8e8e8\" stroke=\"#000000\" points=\"2281,-1521 2227,-1521 2227,-1485 2281,-1485 2281,-1521\"/>\n<text text-anchor=\"start\" x=\"2236\" y=\"-1500\" font-family=\"Times\" font-size=\"10.00\" fill=\"#000000\">Constant</text>\n</g>\n<!-- /outputs/169&#45;&gt;/outputs/170 -->\n<g id=\"edge115\" class=\"edge\">\n<title>/outputs/169&#45;&gt;/outputs/170</title>\n<path fill=\"none\" stroke=\"#000000\" d=\"M2281.1362,-1506.7109C2296.6773,-1508.8362 2316.4112,-1511.5349 2333.4253,-1513.8616\"/>\n<polygon fill=\"#000000\" stroke=\"#000000\" points=\"2333.2236,-1517.3665 2343.6056,-1515.2538 2334.1721,-1510.431 2333.2236,-1517.3665\"/>\n</g>\n<!-- 4937772249435845478 -->\n<g id=\"node133\" class=\"node\">\n<title>4937772249435845478</title>\n<polygon fill=\"#e8e8e8\" stroke=\"#000000\" points=\"633,-1813 579,-1813 579,-1769 633,-1769 633,-1813\"/>\n<text text-anchor=\"start\" x=\"597\" y=\"-1797\" font-family=\"Times\" font-size=\"10.00\" fill=\"#000000\">Cast</text>\n<text text-anchor=\"start\" x=\"609\" y=\"-1776\" font-family=\"Times\" font-size=\"10.00\" fill=\"#000000\">x2</text>\n</g>\n<!-- 4937772249435845478&#45;&gt;/outputs/89/90/91 -->\n<g id=\"edge116\" class=\"edge\">\n<title>4937772249435845478&#45;&gt;/outputs/89/90/91</title>\n<path fill=\"none\" stroke=\"#000000\" d=\"M627.3238,-1768.8517C629.4379,-1766.0055 631.392,-1763.025 633,-1760 727.6777,-1581.8855 745.7586,-1332.0316 749.197,-1248.4727\"/>\n<polygon fill=\"#000000\" stroke=\"#000000\" points=\"752.6951,-1248.5868 749.57,-1238.4634 745.6999,-1248.3261 752.6951,-1248.5868\"/>\n</g>\n<!-- 4937772249435845478&#45;&gt;/outputs/158/159/160 -->\n<g id=\"edge117\" class=\"edge\">\n<title>4937772249435845478&#45;&gt;/outputs/158/159/160</title>\n<path fill=\"none\" stroke=\"#000000\" d=\"M633.071,-1791C662.0134,-1791 709.25,-1791 750,-1791 750,-1791 750,-1791 1318.5,-1791 1497.8228,-1791 1543.8018,-1095.9848 1551.6551,-945.5092\"/>\n<polygon fill=\"#000000\" stroke=\"#000000\" points=\"1555.1641,-945.419 1552.1746,-935.2547 1548.1731,-945.0648 1555.1641,-945.419\"/>\n</g>\n<!-- 4917050030189248263&#45;&gt;/outputs/45 -->\n<g id=\"edge124\" class=\"edge\">\n<title>4917050030189248263&#45;&gt;/outputs/45</title>\n<path fill=\"none\" stroke=\"#000000\" d=\"M387.5384,-1397C396.7891,-1397 407.3565,-1397 417.46,-1397\"/>\n<polygon fill=\"#000000\" stroke=\"#000000\" points=\"417.7464,-1400.5001 427.7464,-1397 417.7463,-1393.5001 417.7464,-1400.5001\"/>\n</g>\n<!-- 16137686710547183666&#45;&gt;/outputs/65 -->\n<g id=\"edge131\" class=\"edge\">\n<title>16137686710547183666&#45;&gt;/outputs/65</title>\n<path fill=\"none\" stroke=\"#000000\" d=\"M387.5384,-1673.8592C399.4147,-1665.0125 413.4613,-1654.5493 425.9102,-1645.2761\"/>\n<polygon fill=\"#000000\" stroke=\"#000000\" points=\"428.2983,-1647.8615 434.2271,-1639.0808 424.1166,-1642.2478 428.2983,-1647.8615\"/>\n</g>\n<!-- 10372949434983287164&#45;&gt;/outputs/114 -->\n<g id=\"edge138\" class=\"edge\">\n<title>10372949434983287164&#45;&gt;/outputs/114</title>\n<path fill=\"none\" stroke=\"#000000\" d=\"M1296.5384,-1245C1305.7891,-1245 1316.3565,-1245 1326.46,-1245\"/>\n<polygon fill=\"#000000\" stroke=\"#000000\" points=\"1326.7464,-1248.5001 1336.7464,-1245 1326.7463,-1241.5001 1326.7464,-1248.5001\"/>\n</g>\n<!-- 957416568342600015&#45;&gt;/outputs/134 -->\n<g id=\"edge145\" class=\"edge\">\n<title>957416568342600015&#45;&gt;/outputs/134</title>\n<path fill=\"none\" stroke=\"#000000\" d=\"M1280.1743,-1522.9979C1298.2234,-1485.7947 1334.7172,-1410.5726 1354.3277,-1370.1511\"/>\n<polygon fill=\"#000000\" stroke=\"#000000\" points=\"1357.4844,-1371.6629 1358.7004,-1361.138 1351.1864,-1368.6074 1357.4844,-1371.6629\"/>\n</g>\n</g>\n</svg>\n"
          },
          "metadata": {
            "tags": []
          },
          "execution_count": 12
        }
      ]
    },
    {
      "cell_type": "markdown",
      "metadata": {
        "colab_type": "text",
        "id": "Lv9Ny9di6VcI"
      },
      "source": [
        "## Training"
      ]
    },
    {
      "cell_type": "code",
      "metadata": {
        "colab_type": "code",
        "id": "T5t1Afn4xO11",
        "colab": {}
      },
      "source": [
        "def compute_binary_accuracy(model, data_loader, device):\n",
        "    model.eval()\n",
        "    correct_pred, num_examples = 0, 0\n",
        "    with torch.no_grad():\n",
        "        for batch_idx, batch_data in enumerate(data_loader):\n",
        "            text, text_lengths = batch_data.text\n",
        "            logits = model(text, text_lengths)\n",
        "            predicted_labels = (torch.sigmoid(logits) > 0.5).long()\n",
        "            num_examples += batch_data.label.size(0)\n",
        "            correct_pred += (predicted_labels == batch_data.label.long()).sum()\n",
        "        return correct_pred.float()/num_examples * 100"
      ],
      "execution_count": 13,
      "outputs": []
    },
    {
      "cell_type": "code",
      "metadata": {
        "colab_type": "code",
        "id": "EABZM8Vo0ilB",
        "colab": {
          "base_uri": "https://localhost:8080/",
          "height": 1000
        },
        "outputId": "db469ce7-4df6-43ff-b1ca-02ebc1f837bf"
      },
      "source": [
        "start_time = time.time()\n",
        "\n",
        "for epoch in range(NUM_EPOCHS):\n",
        "    model.train()\n",
        "    for batch_idx, batch_data in enumerate(train_loader):\n",
        "        \n",
        "        text, text_lengths = batch_data.text\n",
        "        \n",
        "        ### FORWARD AND BACK PROP\n",
        "        logits = model(text, text_lengths)\n",
        "        cost = F.binary_cross_entropy_with_logits(logits, batch_data.label)\n",
        "        optimizer.zero_grad()\n",
        "        \n",
        "        cost.backward()\n",
        "        \n",
        "        ### UPDATE MODEL PARAMETERS\n",
        "        optimizer.step()\n",
        "        \n",
        "        ### LOGGING\n",
        "        if not batch_idx % 50:\n",
        "            print (f'Epoch: {epoch+1:03d}/{NUM_EPOCHS:03d} | '\n",
        "                   f'Batch {batch_idx:03d}/{len(train_loader):03d} | '\n",
        "                   f'Cost: {cost:.4f}')\n",
        "\n",
        "    with torch.set_grad_enabled(False):\n",
        "        print(f'training accuracy: '\n",
        "              f'{compute_binary_accuracy(model, train_loader, DEVICE):.2f}%'\n",
        "              f'\\nvalid accuracy: '\n",
        "              f'{compute_binary_accuracy(model, valid_loader, DEVICE):.2f}%')\n",
        "        \n",
        "    print(f'Time elapsed: {(time.time() - start_time)/60:.2f} min')\n",
        "    \n",
        "print(f'Total Training Time: {(time.time() - start_time)/60:.2f} min')\n",
        "print(f'Test accuracy: {compute_binary_accuracy(model, test_loader, DEVICE):.2f}%')"
      ],
      "execution_count": 14,
      "outputs": [
        {
          "output_type": "stream",
          "text": [
            "Epoch: 001/015 | Batch 000/157 | Cost: 0.6930\n",
            "Epoch: 001/015 | Batch 050/157 | Cost: 0.6893\n",
            "Epoch: 001/015 | Batch 100/157 | Cost: 0.6860\n",
            "Epoch: 001/015 | Batch 150/157 | Cost: 0.6839\n",
            "training accuracy: 60.40%\n",
            "valid accuracy: 59.00%\n",
            "Time elapsed: 0.34 min\n",
            "Epoch: 002/015 | Batch 000/157 | Cost: 0.6797\n",
            "Epoch: 002/015 | Batch 050/157 | Cost: 0.6449\n",
            "Epoch: 002/015 | Batch 100/157 | Cost: 0.6276\n",
            "Epoch: 002/015 | Batch 150/157 | Cost: 0.6202\n",
            "training accuracy: 71.59%\n",
            "valid accuracy: 70.32%\n",
            "Time elapsed: 0.68 min\n",
            "Epoch: 003/015 | Batch 000/157 | Cost: 0.5613\n",
            "Epoch: 003/015 | Batch 050/157 | Cost: 0.5937\n",
            "Epoch: 003/015 | Batch 100/157 | Cost: 0.5051\n",
            "Epoch: 003/015 | Batch 150/157 | Cost: 0.5579\n",
            "training accuracy: 77.43%\n",
            "valid accuracy: 75.78%\n",
            "Time elapsed: 1.02 min\n",
            "Epoch: 004/015 | Batch 000/157 | Cost: 0.5188\n",
            "Epoch: 004/015 | Batch 050/157 | Cost: 0.4607\n",
            "Epoch: 004/015 | Batch 100/157 | Cost: 0.4620\n",
            "Epoch: 004/015 | Batch 150/157 | Cost: 0.5527\n",
            "training accuracy: 80.94%\n",
            "valid accuracy: 79.00%\n",
            "Time elapsed: 1.36 min\n",
            "Epoch: 005/015 | Batch 000/157 | Cost: 0.3978\n",
            "Epoch: 005/015 | Batch 050/157 | Cost: 0.4955\n",
            "Epoch: 005/015 | Batch 100/157 | Cost: 0.3907\n",
            "Epoch: 005/015 | Batch 150/157 | Cost: 0.3318\n",
            "training accuracy: 84.12%\n",
            "valid accuracy: 80.70%\n",
            "Time elapsed: 1.70 min\n",
            "Epoch: 006/015 | Batch 000/157 | Cost: 0.4684\n",
            "Epoch: 006/015 | Batch 050/157 | Cost: 0.4021\n",
            "Epoch: 006/015 | Batch 100/157 | Cost: 0.3601\n",
            "Epoch: 006/015 | Batch 150/157 | Cost: 0.4158\n",
            "training accuracy: 83.56%\n",
            "valid accuracy: 79.82%\n",
            "Time elapsed: 2.04 min\n",
            "Epoch: 007/015 | Batch 000/157 | Cost: 0.4222\n",
            "Epoch: 007/015 | Batch 050/157 | Cost: 0.4947\n",
            "Epoch: 007/015 | Batch 100/157 | Cost: 0.3019\n",
            "Epoch: 007/015 | Batch 150/157 | Cost: 0.3517\n",
            "training accuracy: 87.10%\n",
            "valid accuracy: 82.70%\n",
            "Time elapsed: 2.37 min\n",
            "Epoch: 008/015 | Batch 000/157 | Cost: 0.2596\n",
            "Epoch: 008/015 | Batch 050/157 | Cost: 0.3287\n",
            "Epoch: 008/015 | Batch 100/157 | Cost: 0.3505\n",
            "Epoch: 008/015 | Batch 150/157 | Cost: 0.3590\n",
            "training accuracy: 87.97%\n",
            "valid accuracy: 83.38%\n",
            "Time elapsed: 2.70 min\n",
            "Epoch: 009/015 | Batch 000/157 | Cost: 0.2697\n",
            "Epoch: 009/015 | Batch 050/157 | Cost: 0.3466\n",
            "Epoch: 009/015 | Batch 100/157 | Cost: 0.2774\n",
            "Epoch: 009/015 | Batch 150/157 | Cost: 0.3556\n",
            "training accuracy: 87.97%\n",
            "valid accuracy: 82.32%\n",
            "Time elapsed: 3.03 min\n",
            "Epoch: 010/015 | Batch 000/157 | Cost: 0.3637\n",
            "Epoch: 010/015 | Batch 050/157 | Cost: 0.2678\n",
            "Epoch: 010/015 | Batch 100/157 | Cost: 0.2768\n",
            "Epoch: 010/015 | Batch 150/157 | Cost: 0.2755\n",
            "training accuracy: 87.57%\n",
            "valid accuracy: 82.04%\n",
            "Time elapsed: 3.37 min\n",
            "Epoch: 011/015 | Batch 000/157 | Cost: 0.3084\n",
            "Epoch: 011/015 | Batch 050/157 | Cost: 0.2933\n",
            "Epoch: 011/015 | Batch 100/157 | Cost: 0.2311\n",
            "Epoch: 011/015 | Batch 150/157 | Cost: 0.1909\n",
            "training accuracy: 91.29%\n",
            "valid accuracy: 85.08%\n",
            "Time elapsed: 3.70 min\n",
            "Epoch: 012/015 | Batch 000/157 | Cost: 0.1599\n",
            "Epoch: 012/015 | Batch 050/157 | Cost: 0.1780\n",
            "Epoch: 012/015 | Batch 100/157 | Cost: 0.1790\n",
            "Epoch: 012/015 | Batch 150/157 | Cost: 0.3315\n",
            "training accuracy: 91.39%\n",
            "valid accuracy: 84.56%\n",
            "Time elapsed: 4.03 min\n",
            "Epoch: 013/015 | Batch 000/157 | Cost: 0.2561\n",
            "Epoch: 013/015 | Batch 050/157 | Cost: 0.2299\n",
            "Epoch: 013/015 | Batch 100/157 | Cost: 0.1734\n",
            "Epoch: 013/015 | Batch 150/157 | Cost: 0.2315\n",
            "training accuracy: 92.21%\n",
            "valid accuracy: 85.44%\n",
            "Time elapsed: 4.36 min\n",
            "Epoch: 014/015 | Batch 000/157 | Cost: 0.1508\n",
            "Epoch: 014/015 | Batch 050/157 | Cost: 0.2642\n",
            "Epoch: 014/015 | Batch 100/157 | Cost: 0.1464\n",
            "Epoch: 014/015 | Batch 150/157 | Cost: 0.2965\n",
            "training accuracy: 91.65%\n",
            "valid accuracy: 85.26%\n",
            "Time elapsed: 4.70 min\n",
            "Epoch: 015/015 | Batch 000/157 | Cost: 0.1909\n",
            "Epoch: 015/015 | Batch 050/157 | Cost: 0.2124\n",
            "Epoch: 015/015 | Batch 100/157 | Cost: 0.2336\n",
            "Epoch: 015/015 | Batch 150/157 | Cost: 0.1954\n",
            "training accuracy: 93.93%\n",
            "valid accuracy: 85.74%\n",
            "Time elapsed: 5.03 min\n",
            "Total Training Time: 5.03 min\n",
            "Test accuracy: 85.50%\n"
          ],
          "name": "stdout"
        }
      ]
    },
    {
      "cell_type": "code",
      "metadata": {
        "colab_type": "code",
        "id": "jt55pscgFdKZ",
        "colab": {}
      },
      "source": [
        "import spacy\n",
        "nlp = spacy.load('en')\n",
        "\n",
        "def predict_sentiment(model, sentence):\n",
        "    # based on:\n",
        "    # https://github.com/bentrevett/pytorch-sentiment-analysis/blob/\n",
        "    # master/2%20-%20Upgraded%20Sentiment%20Analysis.ipynb\n",
        "    model.eval()\n",
        "    tokenized = [tok.text for tok in nlp.tokenizer(sentence)]\n",
        "    indexed = [TEXT.vocab.stoi[t] for t in tokenized]\n",
        "    length = [len(indexed)]\n",
        "    tensor = torch.LongTensor(indexed).to(DEVICE)\n",
        "    tensor = tensor.unsqueeze(1)\n",
        "    length_tensor = torch.LongTensor(length)\n",
        "    prediction = torch.sigmoid(model(tensor, length_tensor))\n",
        "    return prediction.item()"
      ],
      "execution_count": 15,
      "outputs": []
    },
    {
      "cell_type": "code",
      "metadata": {
        "colab_type": "code",
        "id": "O4__q0coFJyw",
        "colab": {
          "base_uri": "https://localhost:8080/",
          "height": 52
        },
        "outputId": "f0173eef-fe5e-4646-9558-e487d87ae154"
      },
      "source": [
        "print('Probability positive:')\n",
        "predict_sentiment(model, \"I really love this movie. This movie is so great!\")"
      ],
      "execution_count": 16,
      "outputs": [
        {
          "output_type": "stream",
          "text": [
            "Probability positive:\n"
          ],
          "name": "stdout"
        },
        {
          "output_type": "execute_result",
          "data": {
            "text/plain": [
              "0.9825106263160706"
            ]
          },
          "metadata": {
            "tags": []
          },
          "execution_count": 16
        }
      ]
    },
    {
      "cell_type": "code",
      "metadata": {
        "colab_type": "code",
        "id": "7lRusB3dF80X",
        "colab": {}
      },
      "source": [
        ""
      ],
      "execution_count": 16,
      "outputs": []
    }
  ]
}