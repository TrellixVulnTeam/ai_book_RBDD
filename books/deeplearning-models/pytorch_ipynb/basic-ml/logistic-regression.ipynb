{
  "nbformat": 4,
  "nbformat_minor": 0,
  "metadata": {
    "kernelspec": {
      "display_name": "Python 3.7.3 64-bit ('.venv': venv)",
      "language": "python",
      "name": "python37364bitvenvvenv7b03464ca52642a09f5ea3f892125398"
    },
    "language_info": {
      "codemirror_mode": {
        "name": "ipython",
        "version": 3
      },
      "file_extension": ".py",
      "mimetype": "text/x-python",
      "name": "python",
      "nbconvert_exporter": "python",
      "pygments_lexer": "ipython3",
      "version": "3.7.3-final"
    },
    "toc": {
      "nav_menu": {},
      "number_sections": true,
      "sideBar": true,
      "skip_h1_title": false,
      "title_cell": "Table of Contents",
      "title_sidebar": "Contents",
      "toc_cell": false,
      "toc_position": {},
      "toc_section_display": true,
      "toc_window_display": false
    },
    "colab": {
      "name": "logistic-regression.ipynb",
      "provenance": [],
      "include_colab_link": true
    }
  },
  "cells": [
    {
      "cell_type": "markdown",
      "metadata": {
        "id": "view-in-github",
        "colab_type": "text"
      },
      "source": [
        "<a href=\"https://colab.research.google.com/github/DeepSE/deeplearning-models/blob/master/pytorch_ipynb/basic-ml/logistic-regression.ipynb\" target=\"_parent\"><img src=\"https://colab.research.google.com/assets/colab-badge.svg\" alt=\"Open In Colab\"/></a>"
      ]
    },
    {
      "cell_type": "markdown",
      "metadata": {
        "id": "_zp9vuP-AsLd",
        "colab_type": "text"
      },
      "source": [
        "Deep Learning Models -- A collection of various deep learning architectures, models, and tips for TensorFlow and PyTorch in Jupyter Notebooks.\n",
        "- Author: Sebastian Raschka\n",
        "- GitHub Repository: https://github.com/rasbt/deeplearning-models"
      ]
    },
    {
      "cell_type": "code",
      "metadata": {
        "id": "9o7GULZOBZxX",
        "colab_type": "code",
        "colab": {}
      },
      "source": [
        "!pip install -q IPython\n",
        "!pip install -q ipykernel\n",
        "!pip install -q torch\n",
        "!pip install -q watermark\n",
        "!pip install -q matplotlib\n",
        "!pip install -q tensorwatch\n",
        "!pip install -q sklearn\n",
        "!pip install -q pandas\n",
        "!pip install -q pydot\n",
        "!pip install -q hiddenlayer\n",
        "!pip install -q graphviz"
      ],
      "execution_count": 1,
      "outputs": []
    },
    {
      "cell_type": "code",
      "metadata": {
        "tags": [],
        "id": "QJQPAzOlAsLf",
        "colab_type": "code",
        "colab": {
          "base_uri": "https://localhost:8080/",
          "height": 121
        },
        "outputId": "ada063d9-82d5-4bc8-f2ca-55bf6f8e203f"
      },
      "source": [
        "%load_ext watermark\n",
        "%watermark -a 'Sebastian Raschka' -v -p torch"
      ],
      "execution_count": 2,
      "outputs": [
        {
          "output_type": "stream",
          "text": [
            "Sebastian Raschka \n",
            "\n",
            "CPython 3.6.9\n",
            "IPython 5.5.0\n",
            "\n",
            "torch 1.5.1+cu101\n"
          ],
          "name": "stdout"
        }
      ]
    },
    {
      "cell_type": "markdown",
      "metadata": {
        "id": "TUtJ6qP9AsLm",
        "colab_type": "text"
      },
      "source": [
        "- Runs on CPU or GPU (if available)"
      ]
    },
    {
      "cell_type": "markdown",
      "metadata": {
        "id": "ohPY1L9DAsLn",
        "colab_type": "text"
      },
      "source": [
        "# Model Zoo -- Logistic Regression"
      ]
    },
    {
      "cell_type": "markdown",
      "metadata": {
        "id": "yGS_aC2cAsLo",
        "colab_type": "text"
      },
      "source": [
        "Implementation of *classic* logistic regression for binary class labels."
      ]
    },
    {
      "cell_type": "markdown",
      "metadata": {
        "id": "qUcQdQkXAsLp",
        "colab_type": "text"
      },
      "source": [
        "## Imports"
      ]
    },
    {
      "cell_type": "code",
      "metadata": {
        "id": "lIf6X212AsLq",
        "colab_type": "code",
        "colab": {}
      },
      "source": [
        "%matplotlib inline\n",
        "import matplotlib.pyplot as plt\n",
        "import numpy as np\n",
        "from io import BytesIO\n",
        "\n",
        "import torch\n",
        "import torch.nn.functional as F"
      ],
      "execution_count": 3,
      "outputs": []
    },
    {
      "cell_type": "markdown",
      "metadata": {
        "id": "HbUOSDwcAsLv",
        "colab_type": "text"
      },
      "source": [
        "## Preparing a toy dataset"
      ]
    },
    {
      "cell_type": "code",
      "metadata": {
        "id": "j2waW6yPAsLw",
        "colab_type": "code",
        "colab": {
          "base_uri": "https://localhost:8080/",
          "height": 184
        },
        "outputId": "ef7fb51a-6a64-49b0-ec4a-cbc341ebbf04"
      },
      "source": [
        "##########################\n",
        "### DATASET\n",
        "##########################\n",
        "\n",
        "ds = np.lib.DataSource()\n",
        "fp = ds.open('http://archive.ics.uci.edu/ml/machine-learning-databases/iris/iris.data')\n",
        "\n",
        "x = np.genfromtxt(BytesIO(fp.read().encode()), delimiter=',', usecols=range(2), max_rows=100)\n",
        "y = np.zeros(100)\n",
        "y[50:] = 1\n",
        "\n",
        "np.random.seed(1)\n",
        "idx = np.arange(y.shape[0])\n",
        "np.random.shuffle(idx)\n",
        "X_test, y_test = x[idx[:25]], y[idx[:25]]\n",
        "X_train, y_train = x[idx[25:]], y[idx[25:]]\n",
        "mu, std = np.mean(X_train, axis=0), np.std(X_train, axis=0)\n",
        "X_train, X_test = (X_train - mu) / std, (X_test - mu) / std\n",
        "\n",
        "fig, ax = plt.subplots(1, 2, figsize=(7, 2.5))\n",
        "ax[0].scatter(X_train[y_train == 1, 0], X_train[y_train == 1, 1])\n",
        "ax[0].scatter(X_train[y_train == 0, 0], X_train[y_train == 0, 1])\n",
        "ax[1].scatter(X_test[y_test == 1, 0], X_test[y_test == 1, 1])\n",
        "ax[1].scatter(X_test[y_test == 0, 0], X_test[y_test == 0, 1])\n",
        "plt.show()"
      ],
      "execution_count": 4,
      "outputs": [
        {
          "output_type": "display_data",
          "data": {
            "image/png": "[encoded data removed]",
            "text/plain": [
              "<Figure size 504x180 with 2 Axes>"
            ]
          },
          "metadata": {
            "tags": [],
            "needs_background": "light"
          }
        }
      ]
    },
    {
      "cell_type": "markdown",
      "metadata": {
        "id": "qZis59tPAsL1",
        "colab_type": "text"
      },
      "source": [
        "## Low-level implementation with manual gradients"
      ]
    },
    {
      "cell_type": "code",
      "metadata": {
        "id": "9XKUolctAsL2",
        "colab_type": "code",
        "colab": {}
      },
      "source": [
        "device = torch.device(\"cuda:0\" if torch.cuda.is_available() else \"cpu\")\n",
        "\n",
        "\n",
        "def custom_where(cond, x_1, x_2):\n",
        "    cond = cond*1 # Bool to int\n",
        "    return (cond * x_1) + ((1-cond) * x_2)\n",
        "\n",
        "\n",
        "class LogisticRegression1():\n",
        "    def __init__(self, num_features):\n",
        "        self.num_features = num_features\n",
        "        self.weights = torch.zeros(num_features, 1, \n",
        "                                   dtype=torch.float32, device=device)\n",
        "        self.bias = torch.zeros(1, dtype=torch.float32, device=device)\n",
        "\n",
        "    def forward(self, x):\n",
        "        linear = torch.add(torch.mm(x, self.weights), self.bias)\n",
        "        probas = self._sigmoid(linear)\n",
        "        return probas\n",
        "        \n",
        "    def backward(self, probas, y):  \n",
        "        errors = y - probas.view(-1)\n",
        "        return errors\n",
        "            \n",
        "    def predict_labels(self, x):\n",
        "        probas = self.forward(x)\n",
        "        labels = custom_where(probas >= .5, 1, 0)\n",
        "        return labels    \n",
        "            \n",
        "    def evaluate(self, x, y):\n",
        "        labels = self.predict_labels(x).float()\n",
        "        accuracy = torch.sum(labels.view(-1) == y) / y.size()[0]\n",
        "        return accuracy\n",
        "    \n",
        "    def _sigmoid(self, z):\n",
        "        return 1. / (1. + torch.exp(-z))\n",
        "    \n",
        "    def _logit_cost(self, y, proba):\n",
        "        tmp1 = torch.mm(-y.view(1, -1), torch.log(proba))\n",
        "        tmp2 = torch.mm((1 - y).view(1, -1), torch.log(1 - proba))\n",
        "        return tmp1 - tmp2\n",
        "    \n",
        "    def train(self, x, y, num_epochs, learning_rate=0.01):\n",
        "        for e in range(num_epochs):\n",
        "            \n",
        "            #### Compute outputs ####\n",
        "            probas = self.forward(x)\n",
        "            \n",
        "            #### Compute gradients ####\n",
        "            errors = self.backward(probas, y)\n",
        "            neg_grad = torch.mm(x.transpose(0, 1), errors.view(-1, 1))\n",
        "            \n",
        "            #### Update weights ####\n",
        "            self.weights += learning_rate * neg_grad\n",
        "            self.bias += learning_rate * torch.sum(errors)\n",
        "            \n",
        "            #### Logging ####\n",
        "            print('Epoch: %03d' % (e+1), end=\"\")\n",
        "            print(' | Train ACC: %.3f' % self.evaluate(x, y), end=\"\")\n",
        "            print(' | Cost: %.3f' % self._logit_cost(y, self.forward(x)))"
      ],
      "execution_count": 5,
      "outputs": []
    },
    {
      "cell_type": "code",
      "metadata": {
        "tags": [],
        "id": "mlnt9D55AsL7",
        "colab_type": "code",
        "colab": {
          "base_uri": "https://localhost:8080/",
          "height": 314
        },
        "outputId": "44bc8d4c-dafe-4124-f146-8f345f622c4c"
      },
      "source": [
        "X_train_tensor = torch.tensor(X_train, dtype=torch.float32, device=device)\n",
        "y_train_tensor = torch.tensor(y_train, dtype=torch.float32, device=device)\n",
        "\n",
        "logr = LogisticRegression1(num_features=2)\n",
        "logr.train(X_train_tensor, y_train_tensor, num_epochs=10, learning_rate=0.1)\n",
        "\n",
        "print('\\nModel parameters:')\n",
        "print('  Weights: %s' % logr.weights)\n",
        "print('  Bias: %s' % logr.bias)"
      ],
      "execution_count": 6,
      "outputs": [
        {
          "output_type": "stream",
          "text": [
            "Epoch: 001 | Train ACC: 0.000 | Cost: 5.581\n",
            "Epoch: 002 | Train ACC: 0.000 | Cost: 4.882\n",
            "Epoch: 003 | Train ACC: 1.000 | Cost: 4.381\n",
            "Epoch: 004 | Train ACC: 1.000 | Cost: 3.998\n",
            "Epoch: 005 | Train ACC: 1.000 | Cost: 3.693\n",
            "Epoch: 006 | Train ACC: 1.000 | Cost: 3.443\n",
            "Epoch: 007 | Train ACC: 1.000 | Cost: 3.232\n",
            "Epoch: 008 | Train ACC: 1.000 | Cost: 3.052\n",
            "Epoch: 009 | Train ACC: 1.000 | Cost: 2.896\n",
            "Epoch: 010 | Train ACC: 1.000 | Cost: 2.758\n",
            "\n",
            "Model parameters:\n",
            "  Weights: tensor([[ 4.2267],\n",
            "        [-2.9613]])\n",
            "  Bias: tensor([0.0994])\n"
          ],
          "name": "stdout"
        },
        {
          "output_type": "stream",
          "text": [
            "/pytorch/aten/src/ATen/native/BinaryOps.cpp:81: UserWarning: Integer division of tensors using div or / is deprecated, and in a future release div will perform true division as in Python 3. Use true_divide or floor_divide (// in Python) instead.\n"
          ],
          "name": "stderr"
        }
      ]
    },
    {
      "cell_type": "markdown",
      "metadata": {
        "id": "UFdLvASiAsMA",
        "colab_type": "text"
      },
      "source": [
        "#### Evaluating the Model"
      ]
    },
    {
      "cell_type": "code",
      "metadata": {
        "tags": [],
        "id": "d0TEqGPYAsMB",
        "colab_type": "code",
        "colab": {
          "base_uri": "https://localhost:8080/",
          "height": 35
        },
        "outputId": "8ccb519e-3f82-4a90-c466-0ca6bdb551f9"
      },
      "source": [
        "X_test_tensor = torch.tensor(X_test, dtype=torch.float32, device=device)\n",
        "y_test_tensor = torch.tensor(y_test, dtype=torch.float32, device=device)\n",
        "\n",
        "test_acc = logr.evaluate(X_test_tensor, y_test_tensor)\n",
        "print('Test set accuracy: %.2f%%' % (test_acc*100))"
      ],
      "execution_count": 7,
      "outputs": [
        {
          "output_type": "stream",
          "text": [
            "Test set accuracy: 100.00%\n"
          ],
          "name": "stdout"
        }
      ]
    },
    {
      "cell_type": "code",
      "metadata": {
        "id": "p7VHf3mOAsML",
        "colab_type": "code",
        "colab": {
          "base_uri": "https://localhost:8080/",
          "height": 211
        },
        "outputId": "b06ebf90-d36f-4c32-847f-1d8a76e8ce45"
      },
      "source": [
        "##########################\n",
        "### 2D Decision Boundary\n",
        "##########################\n",
        "\n",
        "w, b = logr.weights, logr.bias\n",
        "\n",
        "x_min = -2\n",
        "y_min = ( (-(w[0] * x_min) - b[0]) \n",
        "          / w[1] )\n",
        "\n",
        "x_max = 2\n",
        "y_max = ( (-(w[0] * x_max) - b[0]) \n",
        "          / w[1] )\n",
        "\n",
        "\n",
        "fig, ax = plt.subplots(1, 2, sharex=True, figsize=(7, 3))\n",
        "\n",
        "ax[0].plot([x_min, x_max], [y_min, y_max])\n",
        "ax[1].plot([x_min, x_max], [y_min, y_max])\n",
        "\n",
        "ax[0].scatter(X_train[y_train==0, 0], X_train[y_train==0, 1], label='class 0', marker='o')\n",
        "ax[0].scatter(X_train[y_train==1, 0], X_train[y_train==1, 1], label='class 1', marker='s')\n",
        "\n",
        "ax[1].scatter(X_test[y_test==0, 0], X_test[y_test==0, 1], label='class 0', marker='o')\n",
        "ax[1].scatter(X_test[y_test==1, 0], X_test[y_test==1, 1], label='class 1', marker='s')\n",
        "\n",
        "ax[1].legend(loc='upper left')\n",
        "plt.show()"
      ],
      "execution_count": 8,
      "outputs": [
        {
          "output_type": "display_data",
          "data": {
            "image/png": "[encoded data removed]",
            "text/plain": [
              "<Figure size 504x216 with 2 Axes>"
            ]
          },
          "metadata": {
            "tags": [],
            "needs_background": "light"
          }
        }
      ]
    },
    {
      "cell_type": "markdown",
      "metadata": {
        "id": "pcdwOVLQAsMP",
        "colab_type": "text"
      },
      "source": [
        "## Low-level implementation using autograd"
      ]
    },
    {
      "cell_type": "code",
      "metadata": {
        "id": "x6k7am1rAsMQ",
        "colab_type": "code",
        "colab": {}
      },
      "source": [
        "def custom_where(cond, x_1, x_2):\n",
        "    return (cond * x_1) + ((1-cond) * x_2)\n",
        "\n",
        "\n",
        "class LogisticRegression2():\n",
        "    def __init__(self, num_features):\n",
        "        self.num_features = num_features\n",
        "        \n",
        "        self.weights = torch.zeros(num_features, 1, \n",
        "                                   dtype=torch.float32,\n",
        "                                   device=device,\n",
        "                                   requires_grad=True) # req. for autograd!\n",
        "        self.bias = torch.zeros(1, \n",
        "                                dtype=torch.float32,\n",
        "                                device=device,\n",
        "                                requires_grad=True) # req. for autograd!\n",
        "\n",
        "    def forward(self, x):\n",
        "        linear = torch.add(torch.mm(x, self.weights), self.bias)\n",
        "        probas = self._sigmoid(linear)\n",
        "        return probas\n",
        "                    \n",
        "    def predict_labels(self, x):\n",
        "        probas = self.forward(x)\n",
        "        labels = custom_where((probas >= .5).float(), 1, 0)\n",
        "        return labels    \n",
        "            \n",
        "    def evaluate(self, x, y):\n",
        "        labels = self.predict_labels(x)\n",
        "        accuracy = (torch.sum(labels.view(-1) == y.view(-1))).float() / y.size()[0]\n",
        "        return accuracy\n",
        "    \n",
        "    def _sigmoid(self, z):\n",
        "        return 1. / (1. + torch.exp(-z))\n",
        "    \n",
        "    def _logit_cost(self, y, proba):\n",
        "        tmp1 = torch.mm(-y.view(1, -1), torch.log(proba))\n",
        "        tmp2 = torch.mm((1 - y).view(1, -1), torch.log(1 - proba))\n",
        "        return tmp1 - tmp2\n",
        "    \n",
        "    def train(self, x, y, num_epochs, learning_rate=0.01):\n",
        "        \n",
        "        for e in range(num_epochs):\n",
        "            \n",
        "            #### Compute outputs ####\n",
        "            proba = self.forward(x)\n",
        "            cost = self._logit_cost(y, proba)\n",
        "            \n",
        "            #### Compute gradients ####\n",
        "            cost.backward()\n",
        "            \n",
        "            #### Update weights ####\n",
        "            \n",
        "            tmp = self.weights.detach()\n",
        "            tmp -= learning_rate * self.weights.grad\n",
        "            \n",
        "            tmp = self.bias.detach()\n",
        "            tmp -= learning_rate * self.bias.grad\n",
        "            \n",
        "            #### Reset gradients to zero for next iteration ####\n",
        "            self.weights.grad.zero_()\n",
        "            self.bias.grad.zero_()\n",
        "    \n",
        "            #### Logging ####\n",
        "            print('Epoch: %03d' % (e+1), end=\"\")\n",
        "            print(' | Train ACC: %.3f' % self.evaluate(x, y), end=\"\")\n",
        "            print(' | Cost: %.3f' % self._logit_cost(y, self.forward(x)))\n",
        "            \n"
      ],
      "execution_count": 9,
      "outputs": []
    },
    {
      "cell_type": "code",
      "metadata": {
        "tags": [],
        "id": "TASOgZKVAsMV",
        "colab_type": "code",
        "colab": {
          "base_uri": "https://localhost:8080/",
          "height": 276
        },
        "outputId": "cdbeeb00-c821-45d1-f8b8-2053f2d09cbd"
      },
      "source": [
        "X_train_tensor = torch.tensor(X_train, dtype=torch.float32, device=device)\n",
        "y_train_tensor = torch.tensor(y_train, dtype=torch.float32, device=device)\n",
        "\n",
        "logr = LogisticRegression2(num_features=2)\n",
        "logr.train(X_train_tensor, y_train_tensor, num_epochs=10, learning_rate=0.1)\n",
        "\n",
        "print('\\nModel parameters:')\n",
        "print('  Weights: %s' % logr.weights)\n",
        "print('  Bias: %s' % logr.bias)"
      ],
      "execution_count": 10,
      "outputs": [
        {
          "output_type": "stream",
          "text": [
            "Epoch: 001 | Train ACC: 0.987 | Cost: 5.581\n",
            "Epoch: 002 | Train ACC: 0.987 | Cost: 4.882\n",
            "Epoch: 003 | Train ACC: 1.000 | Cost: 4.381\n",
            "Epoch: 004 | Train ACC: 1.000 | Cost: 3.998\n",
            "Epoch: 005 | Train ACC: 1.000 | Cost: 3.693\n",
            "Epoch: 006 | Train ACC: 1.000 | Cost: 3.443\n",
            "Epoch: 007 | Train ACC: 1.000 | Cost: 3.232\n",
            "Epoch: 008 | Train ACC: 1.000 | Cost: 3.052\n",
            "Epoch: 009 | Train ACC: 1.000 | Cost: 2.896\n",
            "Epoch: 010 | Train ACC: 1.000 | Cost: 2.758\n",
            "\n",
            "Model parameters:\n",
            "  Weights: tensor([[ 4.2267],\n",
            "        [-2.9613]], requires_grad=True)\n",
            "  Bias: tensor([0.0994], requires_grad=True)\n"
          ],
          "name": "stdout"
        }
      ]
    },
    {
      "cell_type": "markdown",
      "metadata": {
        "id": "ny4rD37TAsMa",
        "colab_type": "text"
      },
      "source": [
        "#### Evaluating the Model"
      ]
    },
    {
      "cell_type": "code",
      "metadata": {
        "tags": [],
        "id": "YWRhbDICAsMa",
        "colab_type": "code",
        "colab": {
          "base_uri": "https://localhost:8080/",
          "height": 35
        },
        "outputId": "ddb020ca-45c9-4cc8-e8a9-6c2265ce592d"
      },
      "source": [
        "X_test_tensor = torch.tensor(X_test, dtype=torch.float32, device=device)\n",
        "y_test_tensor = torch.tensor(y_test, dtype=torch.float32, device=device)\n",
        "\n",
        "test_acc = logr.evaluate(X_test_tensor, y_test_tensor)\n",
        "print('Test set accuracy: %.2f%%' % (test_acc*100))"
      ],
      "execution_count": 11,
      "outputs": [
        {
          "output_type": "stream",
          "text": [
            "Test set accuracy: 100.00%\n"
          ],
          "name": "stdout"
        }
      ]
    },
    {
      "cell_type": "code",
      "metadata": {
        "id": "Ob8uRBqPAsMf",
        "colab_type": "code",
        "colab": {
          "base_uri": "https://localhost:8080/",
          "height": 211
        },
        "outputId": "128ee7de-29ce-4861-f217-020b5d70073b"
      },
      "source": [
        "##########################\n",
        "### 2D Decision Boundary\n",
        "##########################\n",
        "\n",
        "w, b = logr.weights, logr.bias\n",
        "\n",
        "x_min = -2\n",
        "y_min = ( (-(w[0] * x_min) - b[0]) \n",
        "          / w[1] )\n",
        "\n",
        "x_max = 2\n",
        "y_max = ( (-(w[0] * x_max) - b[0]) \n",
        "          / w[1] )\n",
        "\n",
        "\n",
        "fig, ax = plt.subplots(1, 2, sharex=True, figsize=(7, 3))\n",
        "\n",
        "ax[0].plot([x_min, x_max], [y_min, y_max])\n",
        "ax[1].plot([x_min, x_max], [y_min, y_max])\n",
        "\n",
        "ax[0].scatter(X_train[y_train==0, 0], X_train[y_train==0, 1], label='class 0', marker='o')\n",
        "ax[0].scatter(X_train[y_train==1, 0], X_train[y_train==1, 1], label='class 1', marker='s')\n",
        "\n",
        "ax[1].scatter(X_test[y_test==0, 0], X_test[y_test==0, 1], label='class 0', marker='o')\n",
        "ax[1].scatter(X_test[y_test==1, 0], X_test[y_test==1, 1], label='class 1', marker='s')\n",
        "\n",
        "ax[1].legend(loc='upper left')\n",
        "plt.show()"
      ],
      "execution_count": 12,
      "outputs": [
        {
          "output_type": "display_data",
          "data": {
            "image/png": "[encoded data removed]",
            "text/plain": [
              "<Figure size 504x216 with 2 Axes>"
            ]
          },
          "metadata": {
            "tags": [],
            "needs_background": "light"
          }
        }
      ]
    },
    {
      "cell_type": "markdown",
      "metadata": {
        "id": "XaFMa20IAsMk",
        "colab_type": "text"
      },
      "source": [
        "## High-level implementation using the nn.Module API"
      ]
    },
    {
      "cell_type": "code",
      "metadata": {
        "id": "k8Eqg0MKAsMl",
        "colab_type": "code",
        "colab": {}
      },
      "source": [
        "class LogisticRegression3(torch.nn.Module):\n",
        "\n",
        "    def __init__(self, num_features):\n",
        "        super(LogisticRegression3, self).__init__()\n",
        "        self.linear = torch.nn.Linear(num_features, 1)\n",
        "        # initialize weights to zeros here,\n",
        "        # since we used zero weights in the\n",
        "        # manual approach\n",
        "        \n",
        "        self.linear.weight.detach().zero_()\n",
        "        self.linear.bias.detach().zero_()\n",
        "        # Note: the trailing underscore\n",
        "        # means \"in-place operation\" in the context\n",
        "        # of PyTorch\n",
        "        \n",
        "    def forward(self, x):\n",
        "        logits = self.linear(x)\n",
        "        probas = torch.sigmoid(logits)\n",
        "        return probas\n",
        "\n",
        "model = LogisticRegression3(num_features=2).to(device)"
      ],
      "execution_count": 13,
      "outputs": []
    },
    {
      "cell_type": "code",
      "metadata": {
        "id": "ATsNJ2CxAsMp",
        "colab_type": "code",
        "colab": {
          "base_uri": "https://localhost:8080/",
          "height": 165
        },
        "outputId": "3a874eff-d1b8-4386-e205-73d5c07438be"
      },
      "source": [
        "import hiddenlayer as hl\n",
        "hl.build_graph(model, torch.zeros([75, 2]))"
      ],
      "execution_count": 14,
      "outputs": [
        {
          "output_type": "execute_result",
          "data": {
            "text/plain": [
              "<hiddenlayer.graph.Graph at 0x7f79b88078d0>"
            ],
            "image/svg+xml": "<?xml version=\"1.0\" encoding=\"UTF-8\" standalone=\"no\"?>\n<!DOCTYPE svg PUBLIC \"-//W3C//DTD SVG 1.1//EN\"\n \"http://www.w3.org/Graphics/SVG/1.1/DTD/svg11.dtd\">\n<!-- Generated by graphviz version 2.40.1 (20161225.0304)\n -->\n<!-- Title: %3 Pages: 1 -->\n<svg width=\"310pt\" height=\"108pt\"\n viewBox=\"0.00 0.00 310.00 108.00\" xmlns=\"http://www.w3.org/2000/svg\" xmlns:xlink=\"http://www.w3.org/1999/xlink\">\n<g id=\"graph0\" class=\"graph\" transform=\"scale(1 1) rotate(0) translate(72 72)\">\n<title>%3</title>\n<polygon fill=\"#ffffff\" stroke=\"transparent\" points=\"-72,36 -72,-72 238,-72 238,36 -72,36\"/>\n<!-- /outputs/3 -->\n<g id=\"node1\" class=\"node\">\n<title>/outputs/3</title>\n<polygon fill=\"#e8e8e8\" stroke=\"#000000\" points=\"54,-36 0,-36 0,0 54,0 54,-36\"/>\n<text text-anchor=\"start\" x=\"14\" y=\"-15\" font-family=\"Times\" font-size=\"10.00\" fill=\"#000000\">Linear</text>\n</g>\n<!-- /outputs/4 -->\n<g id=\"node2\" class=\"node\">\n<title>/outputs/4</title>\n<polygon fill=\"#e8e8e8\" stroke=\"#000000\" points=\"166,-36 112,-36 112,0 166,0 166,-36\"/>\n<text text-anchor=\"start\" x=\"122\" y=\"-15\" font-family=\"Times\" font-size=\"10.00\" fill=\"#000000\">Sigmoid</text>\n</g>\n<!-- /outputs/3&#45;&gt;/outputs/4 -->\n<g id=\"edge1\" class=\"edge\">\n<title>/outputs/3&#45;&gt;/outputs/4</title>\n<path fill=\"none\" stroke=\"#000000\" d=\"M54.1121,-18C68.3143,-18 85.9303,-18 101.4272,-18\"/>\n<polygon fill=\"#000000\" stroke=\"#000000\" points=\"101.7494,-21.5001 111.7494,-18 101.7494,-14.5001 101.7494,-21.5001\"/>\n<text text-anchor=\"middle\" x=\"83\" y=\"-21\" font-family=\"Times\" font-size=\"10.00\" fill=\"#000000\">75x1</text>\n</g>\n</g>\n</svg>\n"
          },
          "metadata": {
            "tags": []
          },
          "execution_count": 14
        }
      ]
    },
    {
      "cell_type": "code",
      "metadata": {
        "id": "IaOjEACzAsMs",
        "colab_type": "code",
        "colab": {}
      },
      "source": [
        "##### Define cost function and set up optimizer #####\n",
        "cost_fn = torch.nn.BCELoss(reduction='sum')\n",
        "# average_size=False to match results in\n",
        "# manual approach, where we did not normalize\n",
        "# the cost by the batch size\n",
        "optimizer = torch.optim.SGD(model.parameters(), lr=0.1)"
      ],
      "execution_count": 15,
      "outputs": []
    },
    {
      "cell_type": "code",
      "metadata": {
        "scrolled": true,
        "tags": [],
        "id": "AFm9tlSlAsMw",
        "colab_type": "code",
        "colab": {
          "base_uri": "https://localhost:8080/",
          "height": 311
        },
        "outputId": "94f88c5e-2bf0-4744-dc52-92945c3e1e17"
      },
      "source": [
        "def comp_accuracy(label_var, pred_probas):\n",
        "    pred_labels = custom_where((pred_probas > 0.5).float(), 1, 0).view(-1)\n",
        "    acc = torch.sum(pred_labels == label_var.view(-1)).float() / label_var.size(0)\n",
        "    return acc\n",
        "\n",
        "\n",
        "num_epochs = 10\n",
        "\n",
        "X_train_tensor = torch.tensor(X_train, dtype=torch.float32, device=device)\n",
        "y_train_tensor = torch.tensor(y_train, dtype=torch.float32, device=device).view(-1, 1)\n",
        "print(X_train_tensor.shape)\n",
        "\n",
        "for epoch in range(num_epochs):\n",
        "    \n",
        "    #### Compute outputs ####\n",
        "    out = model(X_train_tensor)\n",
        "    \n",
        "    #### Compute gradients ####\n",
        "    cost = cost_fn(out, y_train_tensor)\n",
        "    optimizer.zero_grad()\n",
        "    cost.backward()\n",
        "    \n",
        "    #### Update weights ####  \n",
        "    optimizer.step()\n",
        "    \n",
        "    #### Logging ####      \n",
        "    pred_probas = model(X_train_tensor)\n",
        "    acc = comp_accuracy(y_train_tensor, pred_probas)\n",
        "    print('Epoch: %03d' % (epoch + 1), end=\"\")\n",
        "    print(' | Train ACC: %.3f' % acc, end=\"\")\n",
        "    print(' | Cost: %.3f' % cost_fn(pred_probas, y_train_tensor))\n",
        "\n",
        "\n",
        "    \n",
        "print('\\nModel parameters:')\n",
        "print('  Weights: %s' % model.linear.weight)\n",
        "print('  Bias: %s' % model.linear.bias)"
      ],
      "execution_count": 16,
      "outputs": [
        {
          "output_type": "stream",
          "text": [
            "torch.Size([75, 2])\n",
            "Epoch: 001 | Train ACC: 0.987 | Cost: 5.581\n",
            "Epoch: 002 | Train ACC: 0.987 | Cost: 4.882\n",
            "Epoch: 003 | Train ACC: 1.000 | Cost: 4.381\n",
            "Epoch: 004 | Train ACC: 1.000 | Cost: 3.998\n",
            "Epoch: 005 | Train ACC: 1.000 | Cost: 3.693\n",
            "Epoch: 006 | Train ACC: 1.000 | Cost: 3.443\n",
            "Epoch: 007 | Train ACC: 1.000 | Cost: 3.232\n",
            "Epoch: 008 | Train ACC: 1.000 | Cost: 3.052\n",
            "Epoch: 009 | Train ACC: 1.000 | Cost: 2.896\n",
            "Epoch: 010 | Train ACC: 1.000 | Cost: 2.758\n",
            "\n",
            "Model parameters:\n",
            "  Weights: Parameter containing:\n",
            "tensor([[ 4.2267, -2.9613]], requires_grad=True)\n",
            "  Bias: Parameter containing:\n",
            "tensor([0.0994], requires_grad=True)\n"
          ],
          "name": "stdout"
        }
      ]
    },
    {
      "cell_type": "markdown",
      "metadata": {
        "id": "1tfXeJUTAsM3",
        "colab_type": "text"
      },
      "source": [
        "#### Evaluating the Model"
      ]
    },
    {
      "cell_type": "code",
      "metadata": {
        "tags": [],
        "id": "SbAwApiGAsM5",
        "colab_type": "code",
        "colab": {
          "base_uri": "https://localhost:8080/",
          "height": 35
        },
        "outputId": "2c6ab791-2856-47ce-9e79-cdfa46a04505"
      },
      "source": [
        "X_test_tensor = torch.tensor(X_test, dtype=torch.float32, device=device)\n",
        "y_test_tensor = torch.tensor(y_test, dtype=torch.float32, device=device)\n",
        "\n",
        "pred_probas = model(X_test_tensor)\n",
        "test_acc = comp_accuracy(y_test_tensor, pred_probas)\n",
        "\n",
        "print('Test set accuracy: %.2f%%' % (test_acc*100))"
      ],
      "execution_count": 17,
      "outputs": [
        {
          "output_type": "stream",
          "text": [
            "Test set accuracy: 100.00%\n"
          ],
          "name": "stdout"
        }
      ]
    },
    {
      "cell_type": "code",
      "metadata": {
        "id": "oA7cdH92AsNA",
        "colab_type": "code",
        "colab": {
          "base_uri": "https://localhost:8080/",
          "height": 211
        },
        "outputId": "c2c2355b-d0a6-4df4-e4b7-7df6bc4706b9"
      },
      "source": [
        "##########################\n",
        "### 2D Decision Boundary\n",
        "##########################\n",
        "\n",
        "w, b = logr.weights, logr.bias\n",
        "\n",
        "x_min = -2\n",
        "y_min = ( (-(w[0] * x_min) - b[0]) \n",
        "          / w[1] )\n",
        "\n",
        "x_max = 2\n",
        "y_max = ( (-(w[0] * x_max) - b[0]) \n",
        "          / w[1] )\n",
        "\n",
        "\n",
        "fig, ax = plt.subplots(1, 2, sharex=True, figsize=(7, 3))\n",
        "ax[0].plot([x_min, x_max], [y_min, y_max])\n",
        "ax[1].plot([x_min, x_max], [y_min, y_max])\n",
        "\n",
        "ax[0].scatter(X_train[y_train==0, 0], X_train[y_train==0, 1], label='class 0', marker='o')\n",
        "ax[0].scatter(X_train[y_train==1, 0], X_train[y_train==1, 1], label='class 1', marker='s')\n",
        "\n",
        "ax[1].scatter(X_test[y_test==0, 0], X_test[y_test==0, 1], label='class 0', marker='o')\n",
        "ax[1].scatter(X_test[y_test==1, 0], X_test[y_test==1, 1], label='class 1', marker='s')\n",
        "\n",
        "ax[1].legend(loc='upper left')\n",
        "plt.show()"
      ],
      "execution_count": 18,
      "outputs": [
        {
          "output_type": "display_data",
          "data": {
            "image/png": "[encoded data removed]",
            "text/plain": [
              "<Figure size 504x216 with 2 Axes>"
            ]
          },
          "metadata": {
            "tags": [],
            "needs_background": "light"
          }
        }
      ]
    },
    {
      "cell_type": "code",
      "metadata": {
        "tags": [],
        "id": "vGRTgxxnAsNF",
        "colab_type": "code",
        "colab": {
          "base_uri": "https://localhost:8080/",
          "height": 69
        },
        "outputId": "726c1f71-67e7-4252-be3e-cdcf1f6a78c5"
      },
      "source": [
        "%watermark -iv"
      ],
      "execution_count": 19,
      "outputs": [
        {
          "output_type": "stream",
          "text": [
            "numpy 1.18.5\n",
            "torch 1.5.1+cu101\n",
            "\n"
          ],
          "name": "stdout"
        }
      ]
    }
  ]
}