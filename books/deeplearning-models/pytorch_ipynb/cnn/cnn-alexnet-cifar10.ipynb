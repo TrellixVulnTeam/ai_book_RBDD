{
  "nbformat": 4,
  "nbformat_minor": 0,
  "metadata": {
    "accelerator": "GPU",
    "colab": {
      "name": "convnet-vgg16.ipynb",
      "provenance": [],
      "collapsed_sections": []
    },
    "kernelspec": {
      "display_name": "Python 3",
      "language": "python",
      "name": "python3"
    },
    "language_info": {
      "codemirror_mode": {
        "name": "ipython",
        "version": 3
      },
      "file_extension": ".py",
      "mimetype": "text/x-python",
      "name": "python",
      "nbconvert_exporter": "python",
      "pygments_lexer": "ipython3",
      "version": "3.7.3"
    },
    "toc": {
      "nav_menu": {},
      "number_sections": true,
      "sideBar": true,
      "skip_h1_title": false,
      "title_cell": "Table of Contents",
      "title_sidebar": "Contents",
      "toc_cell": true,
      "toc_position": {
        "height": "calc(100% - 180px)",
        "left": "10px",
        "top": "150px",
        "width": "371px"
      },
      "toc_section_display": true,
      "toc_window_display": true
    }
  },
  "cells": [
    {
      "cell_type": "markdown",
      "metadata": {
        "colab_type": "text",
        "id": "UEBilEjLj5wY"
      },
      "source": [
        "Deep Learning Models -- A collection of various deep learning architectures, models, and tips for TensorFlow and PyTorch in Jupyter Notebooks.\n",
        "- Author: Sebastian Raschka\n",
        "- GitHub Repository: https://github.com/rasbt/deeplearning-models"
      ]
    },
    {
      "cell_type": "code",
      "metadata": {
        "id": "9G2nIyo6eA7A",
        "colab_type": "code",
        "colab": {}
      },
      "source": [
        "!pip install -q IPython\n",
        "!pip install -q ipykernel\n",
        "!pip install -q watermark\n",
        "!pip install -q matplotlib\n",
        "!pip install -q sklearn\n",
        "!pip install -q pandas\n",
        "!pip install -q pydot\n",
        "!pip install -q hiddenlayer\n",
        "!pip install -q graphviz"
      ],
      "execution_count": 11,
      "outputs": []
    },
    {
      "cell_type": "code",
      "metadata": {
        "colab_type": "code",
        "id": "GOzuY8Yvj5wb",
        "colab": {
          "base_uri": "https://localhost:8080/",
          "height": 155
        },
        "outputId": "24d4b0ac-b9bd-4c9a-a77c-92635481610d"
      },
      "source": [
        "%load_ext watermark\n",
        "%watermark -a 'Sebastian Raschka' -v -p torch"
      ],
      "execution_count": 12,
      "outputs": [
        {
          "output_type": "stream",
          "text": [
            "The watermark extension is already loaded. To reload it, use:\n",
            "  %reload_ext watermark\n",
            "Sebastian Raschka \n",
            "\n",
            "CPython 3.6.9\n",
            "IPython 5.5.0\n",
            "\n",
            "torch 1.5.1+cu101\n"
          ],
          "name": "stdout"
        }
      ]
    },
    {
      "cell_type": "markdown",
      "metadata": {
        "colab_type": "text",
        "id": "rH4XmErYj5wm"
      },
      "source": [
        "# AlexNet CIFAR-10 Classifier"
      ]
    },
    {
      "cell_type": "markdown",
      "metadata": {
        "id": "ze3pvj0Vd4eA",
        "colab_type": "text"
      },
      "source": [
        "### Network Architecture"
      ]
    },
    {
      "cell_type": "markdown",
      "metadata": {
        "id": "fEvyRRz_d4eB",
        "colab_type": "text"
      },
      "source": [
        "References\n",
        "    \n",
        "- [1] Krizhevsky, Alex, Ilya Sutskever, and Geoffrey E. Hinton. \"[Imagenet classification with deep convolutional neural networks.](https://papers.nips.cc/paper/4824-imagenet-classification-with-deep-convolutional-neural-networks.pdf)\" In Advances in Neural Information Processing Systems, pp. 1097-1105. 2012.\n"
      ]
    },
    {
      "cell_type": "markdown",
      "metadata": {
        "colab_type": "text",
        "id": "MkoGLH_Tj5wn"
      },
      "source": [
        "## Imports"
      ]
    },
    {
      "cell_type": "code",
      "metadata": {
        "colab_type": "code",
        "id": "ORj09gnrj5wp",
        "colab": {}
      },
      "source": [
        "import os\n",
        "import time\n",
        "\n",
        "import numpy as np\n",
        "import pandas as pd\n",
        "\n",
        "import torch\n",
        "import torch.nn as nn\n",
        "import torch.nn.functional as F\n",
        "from torch.utils.data import DataLoader\n",
        "from torch.utils.data.dataset import Subset\n",
        "\n",
        "from torchvision import datasets\n",
        "from torchvision import transforms\n",
        "\n",
        "import matplotlib.pyplot as plt\n",
        "from PIL import Image\n",
        "\n",
        "\n",
        "if torch.cuda.is_available():\n",
        "    torch.backends.cudnn.deterministic = True"
      ],
      "execution_count": 13,
      "outputs": []
    },
    {
      "cell_type": "markdown",
      "metadata": {
        "colab_type": "text",
        "id": "I6hghKPxj5w0"
      },
      "source": [
        "## Model Settings"
      ]
    },
    {
      "cell_type": "code",
      "metadata": {
        "colab_type": "code",
        "id": "NnT0sZIwj5wu",
        "colab": {}
      },
      "source": [
        "##########################\n",
        "### SETTINGS\n",
        "##########################\n",
        "\n",
        "# Hyperparameters\n",
        "RANDOM_SEED = 1\n",
        "LEARNING_RATE = 0.0001\n",
        "BATCH_SIZE = 256\n",
        "NUM_EPOCHS = 40\n",
        "\n",
        "# Architecture\n",
        "NUM_CLASSES = 10\n",
        "\n",
        "# Other\n",
        "DEVICE = torch.device(\"cuda\" if torch.cuda.is_available() else \"cpu\")"
      ],
      "execution_count": 14,
      "outputs": []
    },
    {
      "cell_type": "markdown",
      "metadata": {
        "id": "swagPqSUd4eJ",
        "colab_type": "text"
      },
      "source": [
        "## Dataset"
      ]
    },
    {
      "cell_type": "code",
      "metadata": {
        "id": "jmHeAjRTd4eK",
        "colab_type": "code",
        "colab": {
          "base_uri": "https://localhost:8080/",
          "height": 35
        },
        "outputId": "30682f34-ff85-4275-e16f-7d0fba809704"
      },
      "source": [
        "train_indices = torch.arange(0, 48000)\n",
        "valid_indices = torch.arange(48000, 50000)\n",
        "\n",
        "\n",
        "train_transform = transforms.Compose([transforms.Resize((70, 70)),\n",
        "                                      transforms.RandomCrop((64, 64)),\n",
        "                                      transforms.ToTensor()])\n",
        "\n",
        "test_transform = transforms.Compose([transforms.Resize((70, 70)),\n",
        "                                     transforms.CenterCrop((64, 64)),\n",
        "                                     transforms.ToTensor()])\n",
        "\n",
        "train_and_valid = datasets.CIFAR10(root='data', \n",
        "                                   train=True, \n",
        "                                   transform=train_transform,\n",
        "                                   download=True)\n",
        "\n",
        "train_dataset = Subset(train_and_valid, train_indices)\n",
        "valid_dataset = Subset(train_and_valid, valid_indices)\n",
        "test_dataset = datasets.CIFAR10(root='data', \n",
        "                                train=False, \n",
        "                                transform=test_transform,\n",
        "                                download=False)\n",
        "\n",
        "\n",
        "\n",
        "\n",
        "train_loader = DataLoader(dataset=train_dataset, \n",
        "                          batch_size=BATCH_SIZE,\n",
        "                          num_workers=4,\n",
        "                          shuffle=True)\n",
        "\n",
        "valid_loader = DataLoader(dataset=valid_dataset, \n",
        "                          batch_size=BATCH_SIZE,\n",
        "                          num_workers=4,\n",
        "                          shuffle=False)\n",
        "\n",
        "test_loader = DataLoader(dataset=test_dataset, \n",
        "                         batch_size=BATCH_SIZE,\n",
        "                         num_workers=4,\n",
        "                         shuffle=False)"
      ],
      "execution_count": 15,
      "outputs": [
        {
          "output_type": "stream",
          "text": [
            "Files already downloaded and verified\n"
          ],
          "name": "stdout"
        }
      ]
    },
    {
      "cell_type": "code",
      "metadata": {
        "id": "Qn1onaJud4eN",
        "colab_type": "code",
        "colab": {
          "base_uri": "https://localhost:8080/",
          "height": 225
        },
        "outputId": "3388049b-2f0c-4e0a-cebb-a01e705168f0"
      },
      "source": [
        "# Checking the dataset\n",
        "print('Training Set:\\n')\n",
        "for images, labels in train_loader:  \n",
        "    print('Image batch dimensions:', images.size())\n",
        "    print('Image label dimensions:', labels.size())\n",
        "    break\n",
        "    \n",
        "# Checking the dataset\n",
        "print('\\nValidation Set:')\n",
        "for images, labels in valid_loader:  \n",
        "    print('Image batch dimensions:', images.size())\n",
        "    print('Image label dimensions:', labels.size())\n",
        "    break\n",
        "\n",
        "# Checking the dataset\n",
        "print('\\nTesting Set:')\n",
        "for images, labels in train_loader:  \n",
        "    print('Image batch dimensions:', images.size())\n",
        "    print('Image label dimensions:', labels.size())\n",
        "    break"
      ],
      "execution_count": 16,
      "outputs": [
        {
          "output_type": "stream",
          "text": [
            "Training Set:\n",
            "\n",
            "Image batch dimensions: torch.Size([256, 3, 64, 64])\n",
            "Image label dimensions: torch.Size([256])\n",
            "\n",
            "Validation Set:\n",
            "Image batch dimensions: torch.Size([256, 3, 64, 64])\n",
            "Image label dimensions: torch.Size([256])\n",
            "\n",
            "Testing Set:\n",
            "Image batch dimensions: torch.Size([256, 3, 64, 64])\n",
            "Image label dimensions: torch.Size([256])\n"
          ],
          "name": "stdout"
        }
      ]
    },
    {
      "cell_type": "markdown",
      "metadata": {
        "id": "h0BL0pO8d4eP",
        "colab_type": "text"
      },
      "source": [
        "## Model"
      ]
    },
    {
      "cell_type": "code",
      "metadata": {
        "id": "bmfuK3wQd4eP",
        "colab_type": "code",
        "colab": {}
      },
      "source": [
        "##########################\n",
        "### MODEL\n",
        "##########################\n",
        "\n",
        "class AlexNet(nn.Module):\n",
        "\n",
        "    def __init__(self, num_classes):\n",
        "        super(AlexNet, self).__init__()\n",
        "        self.features = nn.Sequential(\n",
        "            nn.Conv2d(3, 64, kernel_size=11, stride=4, padding=2),\n",
        "            nn.ReLU(inplace=True),\n",
        "            nn.MaxPool2d(kernel_size=3, stride=2),\n",
        "            nn.Conv2d(64, 192, kernel_size=5, padding=2),\n",
        "            nn.ReLU(inplace=True),\n",
        "            nn.MaxPool2d(kernel_size=3, stride=2),\n",
        "            nn.Conv2d(192, 384, kernel_size=3, padding=1),\n",
        "            nn.ReLU(inplace=True),\n",
        "            nn.Conv2d(384, 256, kernel_size=3, padding=1),\n",
        "            nn.ReLU(inplace=True),\n",
        "            nn.Conv2d(256, 256, kernel_size=3, padding=1),\n",
        "            nn.ReLU(inplace=True),\n",
        "            nn.MaxPool2d(kernel_size=3, stride=2),\n",
        "        )\n",
        "        self.avgpool = nn.AdaptiveAvgPool2d((6, 6))\n",
        "        self.classifier = nn.Sequential(\n",
        "            nn.Dropout(0.5),\n",
        "            nn.Linear(256 * 6 * 6, 4096),\n",
        "            nn.ReLU(inplace=True),\n",
        "            nn.Dropout(0.5),\n",
        "            nn.Linear(4096, 4096),\n",
        "            nn.ReLU(inplace=True),\n",
        "            nn.Linear(4096, num_classes)\n",
        "        )\n",
        "\n",
        "    def forward(self, x):\n",
        "        x = self.features(x)\n",
        "        x = self.avgpool(x)\n",
        "        x = x.view(x.size(0), 256 * 6 * 6)\n",
        "        logits = self.classifier(x)\n",
        "        probas = F.softmax(logits, dim=1)\n",
        "        return logits, probas\n"
      ],
      "execution_count": 17,
      "outputs": []
    },
    {
      "cell_type": "code",
      "metadata": {
        "colab_type": "code",
        "id": "_lza9t_uj5w1",
        "colab": {}
      },
      "source": [
        "torch.manual_seed(RANDOM_SEED)\n",
        "\n",
        "model = AlexNet(NUM_CLASSES)\n",
        "model.to(DEVICE)\n",
        "\n",
        "optimizer = torch.optim.Adam(model.parameters(), lr=LEARNING_RATE)  "
      ],
      "execution_count": 18,
      "outputs": []
    },
    {
      "cell_type": "code",
      "metadata": {
        "id": "bZaYBpGhePE-",
        "colab_type": "code",
        "colab": {
          "base_uri": "https://localhost:8080/",
          "height": 408
        },
        "outputId": "7acde0fe-a620-405c-8012-90f721e675e6"
      },
      "source": [
        "import hiddenlayer as hl\n",
        "hl.build_graph(model, torch.zeros([256, 3, 64, 64]).to(DEVICE))"
      ],
      "execution_count": 19,
      "outputs": [
        {
          "output_type": "stream",
          "text": [
            "/usr/local/lib/python3.6/dist-packages/torch/onnx/symbolic_helper.py:176: UserWarning: ONNX export failed on adaptive_avg_pool2d because output size that are not factor of input size not supported\n",
            "  warnings.warn(\"ONNX export failed on \" + op + \" because \" + msg + \" not supported\")\n",
            "/usr/local/lib/python3.6/dist-packages/torch/onnx/symbolic_opset9.py:1310: UserWarning: Dropout is a training op and should not be exported in inference mode. Make sure to call eval() on the model, and to export it with param training=False.\n",
            "  warnings.warn(\"Dropout is a training op and should not be exported in inference mode. \"\n"
          ],
          "name": "stderr"
        },
        {
          "output_type": "execute_result",
          "data": {
            "text/plain": [
              "<hiddenlayer.graph.Graph at 0x7f869ff73390>"
            ],
            "image/svg+xml": "<?xml version=\"1.0\" encoding=\"UTF-8\" standalone=\"no\"?>\n<!DOCTYPE svg PUBLIC \"-//W3C//DTD SVG 1.1//EN\"\n \"http://www.w3.org/Graphics/SVG/1.1/DTD/svg11.dtd\">\n<!-- Generated by graphviz version 2.40.1 (20161225.0304)\n -->\n<!-- Title: %3 Pages: 1 -->\n<svg width=\"2711pt\" height=\"223pt\"\n viewBox=\"0.00 0.00 2711.00 223.00\" xmlns=\"http://www.w3.org/2000/svg\" xmlns:xlink=\"http://www.w3.org/1999/xlink\">\n<g id=\"graph0\" class=\"graph\" transform=\"scale(1 1) rotate(0) translate(72 187)\">\n<title>%3</title>\n<polygon fill=\"#ffffff\" stroke=\"transparent\" points=\"-72,36 -72,-187 2639,-187 2639,36 -72,36\"/>\n<!-- /outputs/19 -->\n<g id=\"node1\" class=\"node\">\n<title>/outputs/19</title>\n<polygon fill=\"#e8e8e8\" stroke=\"#000000\" points=\"265,-40 195,-40 195,-4 265,-4 265,-40\"/>\n<text text-anchor=\"start\" x=\"203\" y=\"-19\" font-family=\"Times\" font-size=\"10.00\" fill=\"#000000\">MaxPool3x3</text>\n</g>\n<!-- 4813633701811250313 -->\n<g id=\"node19\" class=\"node\">\n<title>4813633701811250313</title>\n<polygon fill=\"#e8e8e8\" stroke=\"#000000\" points=\"438,-40 354,-40 354,-4 438,-4 438,-40\"/>\n<text text-anchor=\"start\" x=\"362\" y=\"-19\" font-family=\"Times\" font-size=\"10.00\" fill=\"#000000\">Conv5x5 &gt; Relu</text>\n</g>\n<!-- /outputs/19&#45;&gt;4813633701811250313 -->\n<g id=\"edge15\" class=\"edge\">\n<title>/outputs/19&#45;&gt;4813633701811250313</title>\n<path fill=\"none\" stroke=\"#000000\" d=\"M265.2043,-22C287.9563,-22 317.9768,-22 343.518,-22\"/>\n<polygon fill=\"#000000\" stroke=\"#000000\" points=\"343.7892,-25.5001 353.7892,-22 343.7891,-18.5001 343.7892,-25.5001\"/>\n<text text-anchor=\"middle\" x=\"309.5\" y=\"-25\" font-family=\"Times\" font-size=\"10.00\" fill=\"#000000\">256x64x7x7</text>\n</g>\n<!-- /outputs/22 -->\n<g id=\"node2\" class=\"node\">\n<title>/outputs/22</title>\n<polygon fill=\"#e8e8e8\" stroke=\"#000000\" points=\"602,-40 532,-40 532,-4 602,-4 602,-40\"/>\n<text text-anchor=\"start\" x=\"540\" y=\"-19\" font-family=\"Times\" font-size=\"10.00\" fill=\"#000000\">MaxPool3x3</text>\n</g>\n<!-- 17954002912330681436 -->\n<g id=\"node22\" class=\"node\">\n<title>17954002912330681436</title>\n<polygon fill=\"#e8e8e8\" stroke=\"#000000\" points=\"780,-44 696,-44 696,0 780,0 780,-44\"/>\n<text text-anchor=\"start\" x=\"704\" y=\"-28\" font-family=\"Times\" font-size=\"10.00\" fill=\"#000000\">Conv3x3 &gt; Relu</text>\n<text text-anchor=\"start\" x=\"765\" y=\"-7\" font-family=\"Times\" font-size=\"10.00\" fill=\"#000000\">x3</text>\n</g>\n<!-- /outputs/22&#45;&gt;17954002912330681436 -->\n<g id=\"edge21\" class=\"edge\">\n<title>/outputs/22&#45;&gt;17954002912330681436</title>\n<path fill=\"none\" stroke=\"#000000\" d=\"M602.017,-22C626.1037,-22 658.5182,-22 685.6582,-22\"/>\n<polygon fill=\"#000000\" stroke=\"#000000\" points=\"685.7732,-25.5001 695.7732,-22 685.7732,-18.5001 685.7732,-25.5001\"/>\n<text text-anchor=\"middle\" x=\"649\" y=\"-25\" font-family=\"Times\" font-size=\"10.00\" fill=\"#000000\">256x192x3x3</text>\n</g>\n<!-- /outputs/29 -->\n<g id=\"node3\" class=\"node\">\n<title>/outputs/29</title>\n<polygon fill=\"#e8e8e8\" stroke=\"#000000\" points=\"944,-40 874,-40 874,-4 944,-4 944,-40\"/>\n<text text-anchor=\"start\" x=\"882\" y=\"-19\" font-family=\"Times\" font-size=\"10.00\" fill=\"#000000\">MaxPool3x3</text>\n</g>\n<!-- /outputs/31 -->\n<g id=\"node5\" class=\"node\">\n<title>/outputs/31</title>\n<polygon fill=\"#e8e8e8\" stroke=\"#000000\" points=\"1168,-67 1038,-67 1038,-31 1168,-31 1168,-67\"/>\n<text text-anchor=\"start\" x=\"1046\" y=\"-46\" font-family=\"Times\" font-size=\"10.00\" fill=\"#000000\">aten::adaptive_avg_pool2d</text>\n</g>\n<!-- /outputs/29&#45;&gt;/outputs/31 -->\n<g id=\"edge1\" class=\"edge\">\n<title>/outputs/29&#45;&gt;/outputs/31</title>\n<path fill=\"none\" stroke=\"#000000\" d=\"M944.1319,-26.8895C967.4761,-30.1384 999.0251,-34.5293 1027.8566,-38.5419\"/>\n<polygon fill=\"#000000\" stroke=\"#000000\" points=\"1027.5363,-42.031 1037.9234,-39.9429 1028.5013,-35.0978 1027.5363,-42.031\"/>\n<text text-anchor=\"middle\" x=\"991\" y=\"-40\" font-family=\"Times\" font-size=\"10.00\" fill=\"#000000\">256x256x1x1</text>\n</g>\n<!-- /outputs/30 -->\n<g id=\"node4\" class=\"node\">\n<title>/outputs/30</title>\n<polygon fill=\"#e8e8e8\" stroke=\"#000000\" points=\"936,-94 882,-94 882,-58 936,-58 936,-94\"/>\n<text text-anchor=\"start\" x=\"891\" y=\"-73\" font-family=\"Times\" font-size=\"10.00\" fill=\"#000000\">Constant</text>\n</g>\n<!-- /outputs/30&#45;&gt;/outputs/31 -->\n<g id=\"edge2\" class=\"edge\">\n<title>/outputs/30&#45;&gt;/outputs/31</title>\n<path fill=\"none\" stroke=\"#000000\" d=\"M936.384,-72.1888C960.0397,-68.8965 995.3706,-63.9794 1027.4183,-59.5191\"/>\n<polygon fill=\"#000000\" stroke=\"#000000\" points=\"1028.2671,-62.9348 1037.6891,-58.0897 1027.3021,-56.0016 1028.2671,-62.9348\"/>\n</g>\n<!-- /outputs/32 -->\n<g id=\"node6\" class=\"node\">\n<title>/outputs/32</title>\n<polygon fill=\"#e8e8e8\" stroke=\"#000000\" points=\"1316,-97 1262,-97 1262,-61 1316,-61 1316,-97\"/>\n<text text-anchor=\"start\" x=\"1277\" y=\"-76\" font-family=\"Times\" font-size=\"10.00\" fill=\"#000000\">Shape</text>\n</g>\n<!-- /outputs/31&#45;&gt;/outputs/32 -->\n<g id=\"edge3\" class=\"edge\">\n<title>/outputs/31&#45;&gt;/outputs/32</title>\n<path fill=\"none\" stroke=\"#000000\" d=\"M1168.0538,-59.4925C1195.978,-63.9965 1227.6079,-69.0981 1251.5165,-72.9543\"/>\n<polygon fill=\"#000000\" stroke=\"#000000\" points=\"1251.1566,-76.4414 1261.5863,-74.5784 1252.2712,-69.5307 1251.1566,-76.4414\"/>\n<text text-anchor=\"middle\" x=\"1215\" y=\"-73\" font-family=\"Times\" font-size=\"10.00\" fill=\"#000000\">256x256x6x6</text>\n</g>\n<!-- /outputs/39 -->\n<g id=\"node13\" class=\"node\">\n<title>/outputs/39</title>\n<polygon fill=\"#e8e8e8\" stroke=\"#000000\" points=\"1744,-63 1690,-63 1690,-27 1744,-27 1744,-63\"/>\n<text text-anchor=\"start\" x=\"1700\" y=\"-42\" font-family=\"Times\" font-size=\"10.00\" fill=\"#000000\">Reshape</text>\n</g>\n<!-- /outputs/31&#45;&gt;/outputs/39 -->\n<g id=\"edge4\" class=\"edge\">\n<title>/outputs/31&#45;&gt;/outputs/39</title>\n<path fill=\"none\" stroke=\"#000000\" d=\"M1168.3025,-40.6251C1203.9154,-36.7539 1248.8105,-33 1289,-33 1289,-33 1289,-33 1626,-33 1643.6472,-33 1663.0554,-35.2456 1679.3988,-37.7939\"/>\n<polygon fill=\"#000000\" stroke=\"#000000\" points=\"1679.2092,-41.3101 1689.6468,-39.4917 1680.3534,-34.4043 1679.2092,-41.3101\"/>\n<text text-anchor=\"middle\" x=\"1454\" y=\"-36\" font-family=\"Times\" font-size=\"10.00\" fill=\"#000000\">256x256x6x6</text>\n</g>\n<!-- /outputs/34 -->\n<g id=\"node8\" class=\"node\">\n<title>/outputs/34</title>\n<polygon fill=\"#e8e8e8\" stroke=\"#000000\" points=\"1407,-97 1353,-97 1353,-61 1407,-61 1407,-97\"/>\n<text text-anchor=\"start\" x=\"1366\" y=\"-76\" font-family=\"Times\" font-size=\"10.00\" fill=\"#000000\">Gather</text>\n</g>\n<!-- /outputs/32&#45;&gt;/outputs/34 -->\n<g id=\"edge5\" class=\"edge\">\n<title>/outputs/32&#45;&gt;/outputs/34</title>\n<path fill=\"none\" stroke=\"#000000\" d=\"M1316.303,-79C1324.5813,-79 1333.8217,-79 1342.6405,-79\"/>\n<polygon fill=\"#000000\" stroke=\"#000000\" points=\"1342.7163,-82.5001 1352.7163,-79 1342.7162,-75.5001 1342.7163,-82.5001\"/>\n</g>\n<!-- /outputs/33 -->\n<g id=\"node7\" class=\"node\">\n<title>/outputs/33</title>\n<polygon fill=\"#e8e8e8\" stroke=\"#000000\" points=\"1316,-151 1262,-151 1262,-115 1316,-115 1316,-151\"/>\n<text text-anchor=\"start\" x=\"1271\" y=\"-130\" font-family=\"Times\" font-size=\"10.00\" fill=\"#000000\">Constant</text>\n</g>\n<!-- /outputs/33&#45;&gt;/outputs/34 -->\n<g id=\"edge6\" class=\"edge\">\n<title>/outputs/33&#45;&gt;/outputs/34</title>\n<path fill=\"none\" stroke=\"#000000\" d=\"M1316.303,-116.7982C1325.0312,-111.6189 1334.829,-105.8048 1344.0744,-100.3185\"/>\n<polygon fill=\"#000000\" stroke=\"#000000\" points=\"1345.9025,-103.3035 1352.7163,-95.1903 1342.3303,-97.2836 1345.9025,-103.3035\"/>\n</g>\n<!-- /outputs/36 -->\n<g id=\"node10\" class=\"node\">\n<title>/outputs/36</title>\n<polygon fill=\"#e8e8e8\" stroke=\"#000000\" points=\"1562,-97 1501,-97 1501,-61 1562,-61 1562,-97\"/>\n<text text-anchor=\"start\" x=\"1509.5\" y=\"-76\" font-family=\"Times\" font-size=\"10.00\" fill=\"#000000\">Unsqueeze</text>\n</g>\n<!-- /outputs/34&#45;&gt;/outputs/36 -->\n<g id=\"edge7\" class=\"edge\">\n<title>/outputs/34&#45;&gt;/outputs/36</title>\n<path fill=\"none\" stroke=\"#000000\" d=\"M1407.0852,-79C1430.3025,-79 1464.097,-79 1490.6073,-79\"/>\n<polygon fill=\"#000000\" stroke=\"#000000\" points=\"1490.7376,-82.5001 1500.7376,-79 1490.7376,-75.5001 1490.7376,-82.5001\"/>\n</g>\n<!-- /outputs/35 -->\n<g id=\"node9\" class=\"node\">\n<title>/outputs/35</title>\n<polygon fill=\"#e8e8e8\" stroke=\"#000000\" points=\"1407,-151 1353,-151 1353,-115 1407,-115 1407,-151\"/>\n<text text-anchor=\"start\" x=\"1362\" y=\"-130\" font-family=\"Times\" font-size=\"10.00\" fill=\"#000000\">Constant</text>\n</g>\n<!-- /outputs/37 -->\n<g id=\"node11\" class=\"node\">\n<title>/outputs/37</title>\n<polygon fill=\"#e8e8e8\" stroke=\"#000000\" points=\"1562,-151 1501,-151 1501,-115 1562,-115 1562,-151\"/>\n<text text-anchor=\"start\" x=\"1509.5\" y=\"-130\" font-family=\"Times\" font-size=\"10.00\" fill=\"#000000\">Unsqueeze</text>\n</g>\n<!-- /outputs/35&#45;&gt;/outputs/37 -->\n<g id=\"edge8\" class=\"edge\">\n<title>/outputs/35&#45;&gt;/outputs/37</title>\n<path fill=\"none\" stroke=\"#000000\" d=\"M1407.0852,-133C1430.3025,-133 1464.097,-133 1490.6073,-133\"/>\n<polygon fill=\"#000000\" stroke=\"#000000\" points=\"1490.7376,-136.5001 1500.7376,-133 1490.7376,-129.5001 1490.7376,-136.5001\"/>\n</g>\n<!-- /outputs/38 -->\n<g id=\"node12\" class=\"node\">\n<title>/outputs/38</title>\n<polygon fill=\"#e8e8e8\" stroke=\"#000000\" points=\"1653,-97 1599,-97 1599,-61 1653,-61 1653,-97\"/>\n<text text-anchor=\"start\" x=\"1611\" y=\"-76\" font-family=\"Times\" font-size=\"10.00\" fill=\"#000000\">Concat</text>\n</g>\n<!-- /outputs/36&#45;&gt;/outputs/38 -->\n<g id=\"edge9\" class=\"edge\">\n<title>/outputs/36&#45;&gt;/outputs/38</title>\n<path fill=\"none\" stroke=\"#000000\" d=\"M1562.1814,-79C1570.7033,-79 1580.0485,-79 1588.8957,-79\"/>\n<polygon fill=\"#000000\" stroke=\"#000000\" points=\"1588.9735,-82.5001 1598.9735,-79 1588.9734,-75.5001 1588.9735,-82.5001\"/>\n</g>\n<!-- /outputs/37&#45;&gt;/outputs/38 -->\n<g id=\"edge10\" class=\"edge\">\n<title>/outputs/37&#45;&gt;/outputs/38</title>\n<path fill=\"none\" stroke=\"#000000\" d=\"M1562.1814,-115.4677C1571.0738,-110.3864 1580.8627,-104.7927 1590.0467,-99.5447\"/>\n<polygon fill=\"#000000\" stroke=\"#000000\" points=\"1592.0275,-102.444 1598.9735,-94.4437 1588.5545,-96.3663 1592.0275,-102.444\"/>\n</g>\n<!-- /outputs/38&#45;&gt;/outputs/39 -->\n<g id=\"edge11\" class=\"edge\">\n<title>/outputs/38&#45;&gt;/outputs/39</title>\n<path fill=\"none\" stroke=\"#000000\" d=\"M1653.303,-68.7989C1661.7612,-65.6387 1671.224,-62.1031 1680.215,-58.7438\"/>\n<polygon fill=\"#000000\" stroke=\"#000000\" points=\"1681.5738,-61.9726 1689.7163,-55.1939 1679.1237,-55.4153 1681.5738,-61.9726\"/>\n</g>\n<!-- /outputs/40/41 -->\n<g id=\"node14\" class=\"node\">\n<title>/outputs/40/41</title>\n<polygon fill=\"#e8e8e8\" stroke=\"#000000\" points=\"1877,-63 1823,-63 1823,-27 1877,-27 1877,-63\"/>\n<text text-anchor=\"start\" x=\"1833\" y=\"-42\" font-family=\"Times\" font-size=\"10.00\" fill=\"#000000\">Dropout</text>\n</g>\n<!-- /outputs/39&#45;&gt;/outputs/40/41 -->\n<g id=\"edge12\" class=\"edge\">\n<title>/outputs/39&#45;&gt;/outputs/40/41</title>\n<path fill=\"none\" stroke=\"#000000\" d=\"M1744.2355,-45C1763.9593,-45 1790.8628,-45 1812.5994,-45\"/>\n<polygon fill=\"#000000\" stroke=\"#000000\" points=\"1812.801,-48.5001 1822.8009,-45 1812.8009,-41.5001 1812.801,-48.5001\"/>\n<text text-anchor=\"middle\" x=\"1783.5\" y=\"-48\" font-family=\"Times\" font-size=\"10.00\" fill=\"#000000\">256x9216</text>\n</g>\n<!-- 3295757833782713099 -->\n<g id=\"node20\" class=\"node\">\n<title>3295757833782713099</title>\n<polygon fill=\"#e8e8e8\" stroke=\"#000000\" points=\"2028,-63 1956,-63 1956,-27 2028,-27 2028,-63\"/>\n<text text-anchor=\"start\" x=\"1964\" y=\"-42\" font-family=\"Times\" font-size=\"10.00\" fill=\"#000000\">Linear &gt; Relu</text>\n</g>\n<!-- /outputs/40/41&#45;&gt;3295757833782713099 -->\n<g id=\"edge17\" class=\"edge\">\n<title>/outputs/40/41&#45;&gt;3295757833782713099</title>\n<path fill=\"none\" stroke=\"#000000\" d=\"M1877.0434,-45C1896.4426,-45 1923.0598,-45 1945.7969,-45\"/>\n<polygon fill=\"#000000\" stroke=\"#000000\" points=\"1945.9308,-48.5001 1955.9307,-45 1945.9307,-41.5001 1945.9308,-48.5001\"/>\n<text text-anchor=\"middle\" x=\"1916.5\" y=\"-48\" font-family=\"Times\" font-size=\"10.00\" fill=\"#000000\">256x9216</text>\n</g>\n<!-- /outputs/44/45 -->\n<g id=\"node15\" class=\"node\">\n<title>/outputs/44/45</title>\n<polygon fill=\"#e8e8e8\" stroke=\"#000000\" points=\"2161,-63 2107,-63 2107,-27 2161,-27 2161,-63\"/>\n<text text-anchor=\"start\" x=\"2117\" y=\"-42\" font-family=\"Times\" font-size=\"10.00\" fill=\"#000000\">Dropout</text>\n</g>\n<!-- 3249489531966621551 -->\n<g id=\"node21\" class=\"node\">\n<title>3249489531966621551</title>\n<polygon fill=\"#e8e8e8\" stroke=\"#000000\" points=\"2312,-63 2240,-63 2240,-27 2312,-27 2312,-63\"/>\n<text text-anchor=\"start\" x=\"2248\" y=\"-42\" font-family=\"Times\" font-size=\"10.00\" fill=\"#000000\">Linear &gt; Relu</text>\n</g>\n<!-- /outputs/44/45&#45;&gt;3249489531966621551 -->\n<g id=\"edge19\" class=\"edge\">\n<title>/outputs/44/45&#45;&gt;3249489531966621551</title>\n<path fill=\"none\" stroke=\"#000000\" d=\"M2161.0434,-45C2180.4426,-45 2207.0598,-45 2229.7969,-45\"/>\n<polygon fill=\"#000000\" stroke=\"#000000\" points=\"2229.9308,-48.5001 2239.9307,-45 2229.9307,-41.5001 2229.9308,-48.5001\"/>\n<text text-anchor=\"middle\" x=\"2200.5\" y=\"-48\" font-family=\"Times\" font-size=\"10.00\" fill=\"#000000\">256x4096</text>\n</g>\n<!-- /outputs/48 -->\n<g id=\"node16\" class=\"node\">\n<title>/outputs/48</title>\n<polygon fill=\"#e8e8e8\" stroke=\"#000000\" points=\"2445,-63 2391,-63 2391,-27 2445,-27 2445,-63\"/>\n<text text-anchor=\"start\" x=\"2405\" y=\"-42\" font-family=\"Times\" font-size=\"10.00\" fill=\"#000000\">Linear</text>\n</g>\n<!-- /outputs/49 -->\n<g id=\"node17\" class=\"node\">\n<title>/outputs/49</title>\n<polygon fill=\"#e8e8e8\" stroke=\"#000000\" points=\"2567,-63 2513,-63 2513,-27 2567,-27 2567,-63\"/>\n<text text-anchor=\"start\" x=\"2523\" y=\"-42\" font-family=\"Times\" font-size=\"10.00\" fill=\"#000000\">Softmax</text>\n</g>\n<!-- /outputs/48&#45;&gt;/outputs/49 -->\n<g id=\"edge13\" class=\"edge\">\n<title>/outputs/48&#45;&gt;/outputs/49</title>\n<path fill=\"none\" stroke=\"#000000\" d=\"M2445.0758,-45C2462.0553,-45 2484.1767,-45 2502.7924,-45\"/>\n<polygon fill=\"#000000\" stroke=\"#000000\" points=\"2503,-48.5001 2512.9999,-45 2502.9999,-41.5001 2503,-48.5001\"/>\n<text text-anchor=\"middle\" x=\"2479\" y=\"-48\" font-family=\"Times\" font-size=\"10.00\" fill=\"#000000\">256x10</text>\n</g>\n<!-- 16847199909073694331 -->\n<g id=\"node18\" class=\"node\">\n<title>16847199909073694331</title>\n<polygon fill=\"#e8e8e8\" stroke=\"#000000\" points=\"95,-40 0,-40 0,-4 95,-4 95,-40\"/>\n<text text-anchor=\"start\" x=\"8.5\" y=\"-19\" font-family=\"Times\" font-size=\"10.00\" fill=\"#000000\">Conv11x11 &gt; Relu</text>\n</g>\n<!-- 16847199909073694331&#45;&gt;/outputs/19 -->\n<g id=\"edge14\" class=\"edge\">\n<title>16847199909073694331&#45;&gt;/outputs/19</title>\n<path fill=\"none\" stroke=\"#000000\" d=\"M95.4497,-22C123.075,-22 157.5932,-22 184.7502,-22\"/>\n<polygon fill=\"#000000\" stroke=\"#000000\" points=\"184.7683,-25.5001 194.7682,-22 184.7682,-18.5001 184.7683,-25.5001\"/>\n<text text-anchor=\"middle\" x=\"145\" y=\"-25\" font-family=\"Times\" font-size=\"10.00\" fill=\"#000000\">256x64x15x15</text>\n</g>\n<!-- 4813633701811250313&#45;&gt;/outputs/22 -->\n<g id=\"edge16\" class=\"edge\">\n<title>4813633701811250313&#45;&gt;/outputs/22</title>\n<path fill=\"none\" stroke=\"#000000\" d=\"M438.2697,-22C463.5651,-22 495.7113,-22 521.5519,-22\"/>\n<polygon fill=\"#000000\" stroke=\"#000000\" points=\"521.8392,-25.5001 531.8391,-22 521.8391,-18.5001 521.8392,-25.5001\"/>\n<text text-anchor=\"middle\" x=\"485\" y=\"-25\" font-family=\"Times\" font-size=\"10.00\" fill=\"#000000\">256x192x7x7</text>\n</g>\n<!-- 3295757833782713099&#45;&gt;/outputs/44/45 -->\n<g id=\"edge18\" class=\"edge\">\n<title>3295757833782713099&#45;&gt;/outputs/44/45</title>\n<path fill=\"none\" stroke=\"#000000\" d=\"M2028.2,-45C2049.1476,-45 2075.4645,-45 2096.6106,-45\"/>\n<polygon fill=\"#000000\" stroke=\"#000000\" points=\"2096.8349,-48.5001 2106.8349,-45 2096.8348,-41.5001 2096.8349,-48.5001\"/>\n<text text-anchor=\"middle\" x=\"2067.5\" y=\"-48\" font-family=\"Times\" font-size=\"10.00\" fill=\"#000000\">256x4096</text>\n</g>\n<!-- 3249489531966621551&#45;&gt;/outputs/48 -->\n<g id=\"edge20\" class=\"edge\">\n<title>3249489531966621551&#45;&gt;/outputs/48</title>\n<path fill=\"none\" stroke=\"#000000\" d=\"M2312.2,-45C2333.1476,-45 2359.4645,-45 2380.6106,-45\"/>\n<polygon fill=\"#000000\" stroke=\"#000000\" points=\"2380.8349,-48.5001 2390.8349,-45 2380.8348,-41.5001 2380.8349,-48.5001\"/>\n<text text-anchor=\"middle\" x=\"2351.5\" y=\"-48\" font-family=\"Times\" font-size=\"10.00\" fill=\"#000000\">256x4096</text>\n</g>\n<!-- 17954002912330681436&#45;&gt;/outputs/29 -->\n<g id=\"edge22\" class=\"edge\">\n<title>17954002912330681436&#45;&gt;/outputs/29</title>\n<path fill=\"none\" stroke=\"#000000\" d=\"M780.2697,-22C805.5651,-22 837.7113,-22 863.5519,-22\"/>\n<polygon fill=\"#000000\" stroke=\"#000000\" points=\"863.8392,-25.5001 873.8391,-22 863.8391,-18.5001 863.8392,-25.5001\"/>\n<text text-anchor=\"middle\" x=\"827\" y=\"-25\" font-family=\"Times\" font-size=\"10.00\" fill=\"#000000\">256x256x3x3</text>\n</g>\n</g>\n</svg>\n"
          },
          "metadata": {
            "tags": []
          },
          "execution_count": 19
        }
      ]
    },
    {
      "cell_type": "markdown",
      "metadata": {
        "colab_type": "text",
        "id": "RAodboScj5w6"
      },
      "source": [
        "## Training"
      ]
    },
    {
      "cell_type": "code",
      "metadata": {
        "colab_type": "code",
        "id": "Dzh3ROmRj5w7",
        "colab": {
          "base_uri": "https://localhost:8080/",
          "height": 1000
        },
        "outputId": "7d68418a-6421-4f2d-ac49-60d38201be8a"
      },
      "source": [
        "def compute_acc(model, data_loader, device):\n",
        "    correct_pred, num_examples = 0, 0\n",
        "    model.eval()\n",
        "    for i, (features, targets) in enumerate(data_loader):\n",
        "            \n",
        "        features = features.to(device)\n",
        "        targets = targets.to(device)\n",
        "\n",
        "        logits, probas = model(features)\n",
        "        _, predicted_labels = torch.max(probas, 1)\n",
        "        num_examples += targets.size(0)\n",
        "        assert predicted_labels.size() == targets.size()\n",
        "        correct_pred += (predicted_labels == targets).sum()\n",
        "    return correct_pred.float()/num_examples * 100\n",
        "    \n",
        "\n",
        "start_time = time.time()\n",
        "\n",
        "cost_list = []\n",
        "train_acc_list, valid_acc_list = [], []\n",
        "\n",
        "\n",
        "for epoch in range(NUM_EPOCHS):\n",
        "    \n",
        "    model.train()\n",
        "    for batch_idx, (features, targets) in enumerate(train_loader):\n",
        "        \n",
        "        features = features.to(DEVICE)\n",
        "        targets = targets.to(DEVICE)\n",
        "            \n",
        "        ### FORWARD AND BACK PROP\n",
        "        logits, probas = model(features)\n",
        "        cost = F.cross_entropy(logits, targets)\n",
        "        optimizer.zero_grad()\n",
        "        \n",
        "        cost.backward()\n",
        "        \n",
        "        ### UPDATE MODEL PARAMETERS\n",
        "        optimizer.step()\n",
        "        \n",
        "        #################################################\n",
        "        ### CODE ONLY FOR LOGGING BEYOND THIS POINT\n",
        "        ################################################\n",
        "        cost_list.append(cost.item())\n",
        "        if not batch_idx % 150:\n",
        "            print (f'Epoch: {epoch+1:03d}/{NUM_EPOCHS:03d} | '\n",
        "                   f'Batch {batch_idx:03d}/{len(train_loader):03d} |' \n",
        "                   f' Cost: {cost:.4f}')\n",
        "\n",
        "        \n",
        "\n",
        "    model.eval()\n",
        "    with torch.set_grad_enabled(False): # save memory during inference\n",
        "        \n",
        "        train_acc = compute_acc(model, train_loader, device=DEVICE)\n",
        "        valid_acc = compute_acc(model, valid_loader, device=DEVICE)\n",
        "        \n",
        "        print(f'Epoch: {epoch+1:03d}/{NUM_EPOCHS:03d}\\n'\n",
        "              f'Train ACC: {train_acc:.2f} | Validation ACC: {valid_acc:.2f}')\n",
        "        \n",
        "        train_acc_list.append(train_acc)\n",
        "        valid_acc_list.append(valid_acc)\n",
        "        \n",
        "    elapsed = (time.time() - start_time)/60\n",
        "    print(f'Time elapsed: {elapsed:.2f} min')\n",
        "  \n",
        "elapsed = (time.time() - start_time)/60\n",
        "print(f'Total Training Time: {elapsed:.2f} min')"
      ],
      "execution_count": 20,
      "outputs": [
        {
          "output_type": "stream",
          "text": [
            "Epoch: 001/040 | Batch 000/188 | Cost: 2.3029\n",
            "Epoch: 001/040 | Batch 150/188 | Cost: 1.7611\n",
            "Epoch: 001/040\n",
            "Train ACC: 32.21 | Validation ACC: 32.45\n",
            "Time elapsed: 0.43 min\n",
            "Epoch: 002/040 | Batch 000/188 | Cost: 1.6974\n",
            "Epoch: 002/040 | Batch 150/188 | Cost: 1.6413\n",
            "Epoch: 002/040\n",
            "Train ACC: 41.61 | Validation ACC: 39.95\n",
            "Time elapsed: 0.86 min\n",
            "Epoch: 003/040 | Batch 000/188 | Cost: 1.5619\n",
            "Epoch: 003/040 | Batch 150/188 | Cost: 1.4806\n",
            "Epoch: 003/040\n",
            "Train ACC: 52.60 | Validation ACC: 52.85\n",
            "Time elapsed: 1.30 min\n",
            "Epoch: 004/040 | Batch 000/188 | Cost: 1.3688\n",
            "Epoch: 004/040 | Batch 150/188 | Cost: 1.2667\n",
            "Epoch: 004/040\n",
            "Train ACC: 58.24 | Validation ACC: 58.40\n",
            "Time elapsed: 1.73 min\n",
            "Epoch: 005/040 | Batch 000/188 | Cost: 1.0639\n",
            "Epoch: 005/040 | Batch 150/188 | Cost: 1.1401\n",
            "Epoch: 005/040\n",
            "Train ACC: 60.57 | Validation ACC: 59.40\n",
            "Time elapsed: 2.16 min\n",
            "Epoch: 006/040 | Batch 000/188 | Cost: 1.0465\n",
            "Epoch: 006/040 | Batch 150/188 | Cost: 1.0986\n",
            "Epoch: 006/040\n",
            "Train ACC: 63.06 | Validation ACC: 61.80\n",
            "Time elapsed: 2.60 min\n",
            "Epoch: 007/040 | Batch 000/188 | Cost: 0.9800\n",
            "Epoch: 007/040 | Batch 150/188 | Cost: 1.0789\n",
            "Epoch: 007/040\n",
            "Train ACC: 66.27 | Validation ACC: 64.25\n",
            "Time elapsed: 3.04 min\n",
            "Epoch: 008/040 | Batch 000/188 | Cost: 1.0372\n",
            "Epoch: 008/040 | Batch 150/188 | Cost: 0.9276\n",
            "Epoch: 008/040\n",
            "Train ACC: 64.99 | Validation ACC: 64.55\n",
            "Time elapsed: 3.47 min\n",
            "Epoch: 009/040 | Batch 000/188 | Cost: 1.0141\n",
            "Epoch: 009/040 | Batch 150/188 | Cost: 0.8099\n",
            "Epoch: 009/040\n",
            "Train ACC: 70.65 | Validation ACC: 66.50\n",
            "Time elapsed: 3.91 min\n",
            "Epoch: 010/040 | Batch 000/188 | Cost: 0.7600\n",
            "Epoch: 010/040 | Batch 150/188 | Cost: 0.7787\n",
            "Epoch: 010/040\n",
            "Train ACC: 71.02 | Validation ACC: 65.85\n",
            "Time elapsed: 4.35 min\n",
            "Epoch: 011/040 | Batch 000/188 | Cost: 0.8431\n",
            "Epoch: 011/040 | Batch 150/188 | Cost: 0.7991\n",
            "Epoch: 011/040\n",
            "Train ACC: 70.70 | Validation ACC: 65.40\n",
            "Time elapsed: 4.78 min\n",
            "Epoch: 012/040 | Batch 000/188 | Cost: 0.7612\n",
            "Epoch: 012/040 | Batch 150/188 | Cost: 0.9599\n",
            "Epoch: 012/040\n",
            "Train ACC: 76.07 | Validation ACC: 69.00\n",
            "Time elapsed: 5.22 min\n",
            "Epoch: 013/040 | Batch 000/188 | Cost: 0.6079\n",
            "Epoch: 013/040 | Batch 150/188 | Cost: 0.6792\n",
            "Epoch: 013/040\n",
            "Train ACC: 78.28 | Validation ACC: 70.15\n",
            "Time elapsed: 5.66 min\n",
            "Epoch: 014/040 | Batch 000/188 | Cost: 0.6128\n",
            "Epoch: 014/040 | Batch 150/188 | Cost: 0.6522\n",
            "Epoch: 014/040\n",
            "Train ACC: 77.44 | Validation ACC: 69.30\n",
            "Time elapsed: 6.09 min\n",
            "Epoch: 015/040 | Batch 000/188 | Cost: 0.5693\n",
            "Epoch: 015/040 | Batch 150/188 | Cost: 0.7446\n",
            "Epoch: 015/040\n",
            "Train ACC: 77.25 | Validation ACC: 70.55\n",
            "Time elapsed: 6.54 min\n",
            "Epoch: 016/040 | Batch 000/188 | Cost: 0.8091\n",
            "Epoch: 016/040 | Batch 150/188 | Cost: 0.5905\n",
            "Epoch: 016/040\n",
            "Train ACC: 79.34 | Validation ACC: 70.65\n",
            "Time elapsed: 6.98 min\n",
            "Epoch: 017/040 | Batch 000/188 | Cost: 0.6292\n",
            "Epoch: 017/040 | Batch 150/188 | Cost: 0.5726\n",
            "Epoch: 017/040\n",
            "Train ACC: 82.61 | Validation ACC: 71.85\n",
            "Time elapsed: 7.42 min\n",
            "Epoch: 018/040 | Batch 000/188 | Cost: 0.5483\n",
            "Epoch: 018/040 | Batch 150/188 | Cost: 0.4530\n",
            "Epoch: 018/040\n",
            "Train ACC: 83.22 | Validation ACC: 72.15\n",
            "Time elapsed: 7.86 min\n",
            "Epoch: 019/040 | Batch 000/188 | Cost: 0.5313\n",
            "Epoch: 019/040 | Batch 150/188 | Cost: 0.4551\n",
            "Epoch: 019/040\n",
            "Train ACC: 85.05 | Validation ACC: 73.05\n",
            "Time elapsed: 8.29 min\n",
            "Epoch: 020/040 | Batch 000/188 | Cost: 0.4801\n",
            "Epoch: 020/040 | Batch 150/188 | Cost: 0.3646\n",
            "Epoch: 020/040\n",
            "Train ACC: 84.97 | Validation ACC: 72.85\n",
            "Time elapsed: 8.73 min\n",
            "Epoch: 021/040 | Batch 000/188 | Cost: 0.4229\n",
            "Epoch: 021/040 | Batch 150/188 | Cost: 0.4474\n",
            "Epoch: 021/040\n",
            "Train ACC: 87.07 | Validation ACC: 72.80\n",
            "Time elapsed: 9.18 min\n",
            "Epoch: 022/040 | Batch 000/188 | Cost: 0.3776\n",
            "Epoch: 022/040 | Batch 150/188 | Cost: 0.4258\n",
            "Epoch: 022/040\n",
            "Train ACC: 89.23 | Validation ACC: 72.80\n",
            "Time elapsed: 9.63 min\n",
            "Epoch: 023/040 | Batch 000/188 | Cost: 0.2967\n",
            "Epoch: 023/040 | Batch 150/188 | Cost: 0.3287\n",
            "Epoch: 023/040\n",
            "Train ACC: 88.45 | Validation ACC: 72.50\n",
            "Time elapsed: 10.07 min\n",
            "Epoch: 024/040 | Batch 000/188 | Cost: 0.3499\n",
            "Epoch: 024/040 | Batch 150/188 | Cost: 0.4624\n",
            "Epoch: 024/040\n",
            "Train ACC: 89.43 | Validation ACC: 73.95\n",
            "Time elapsed: 10.51 min\n",
            "Epoch: 025/040 | Batch 000/188 | Cost: 0.2493\n",
            "Epoch: 025/040 | Batch 150/188 | Cost: 0.3115\n",
            "Epoch: 025/040\n",
            "Train ACC: 91.94 | Validation ACC: 73.10\n",
            "Time elapsed: 10.96 min\n",
            "Epoch: 026/040 | Batch 000/188 | Cost: 0.2510\n",
            "Epoch: 026/040 | Batch 150/188 | Cost: 0.3057\n",
            "Epoch: 026/040\n",
            "Train ACC: 89.90 | Validation ACC: 72.80\n",
            "Time elapsed: 11.40 min\n",
            "Epoch: 027/040 | Batch 000/188 | Cost: 0.3399\n",
            "Epoch: 027/040 | Batch 150/188 | Cost: 0.2944\n",
            "Epoch: 027/040\n",
            "Train ACC: 92.43 | Validation ACC: 73.80\n",
            "Time elapsed: 11.85 min\n",
            "Epoch: 028/040 | Batch 000/188 | Cost: 0.2326\n",
            "Epoch: 028/040 | Batch 150/188 | Cost: 0.2142\n",
            "Epoch: 028/040\n",
            "Train ACC: 93.18 | Validation ACC: 73.35\n",
            "Time elapsed: 12.30 min\n",
            "Epoch: 029/040 | Batch 000/188 | Cost: 0.1595\n",
            "Epoch: 029/040 | Batch 150/188 | Cost: 0.1496\n",
            "Epoch: 029/040\n",
            "Train ACC: 92.75 | Validation ACC: 72.45\n",
            "Time elapsed: 12.74 min\n",
            "Epoch: 030/040 | Batch 000/188 | Cost: 0.1536\n",
            "Epoch: 030/040 | Batch 150/188 | Cost: 0.2648\n",
            "Epoch: 030/040\n",
            "Train ACC: 94.60 | Validation ACC: 74.65\n",
            "Time elapsed: 13.19 min\n",
            "Epoch: 031/040 | Batch 000/188 | Cost: 0.1446\n",
            "Epoch: 031/040 | Batch 150/188 | Cost: 0.2176\n",
            "Epoch: 031/040\n",
            "Train ACC: 95.20 | Validation ACC: 72.70\n",
            "Time elapsed: 13.63 min\n",
            "Epoch: 032/040 | Batch 000/188 | Cost: 0.1867\n",
            "Epoch: 032/040 | Batch 150/188 | Cost: 0.2059\n",
            "Epoch: 032/040\n",
            "Train ACC: 94.85 | Validation ACC: 72.20\n",
            "Time elapsed: 14.07 min\n",
            "Epoch: 033/040 | Batch 000/188 | Cost: 0.1519\n",
            "Epoch: 033/040 | Batch 150/188 | Cost: 0.1610\n",
            "Epoch: 033/040\n",
            "Train ACC: 94.45 | Validation ACC: 73.60\n",
            "Time elapsed: 14.52 min\n",
            "Epoch: 034/040 | Batch 000/188 | Cost: 0.1914\n",
            "Epoch: 034/040 | Batch 150/188 | Cost: 0.1273\n",
            "Epoch: 034/040\n",
            "Train ACC: 95.95 | Validation ACC: 74.55\n",
            "Time elapsed: 14.96 min\n",
            "Epoch: 035/040 | Batch 000/188 | Cost: 0.1706\n",
            "Epoch: 035/040 | Batch 150/188 | Cost: 0.2138\n",
            "Epoch: 035/040\n",
            "Train ACC: 95.38 | Validation ACC: 73.30\n",
            "Time elapsed: 15.40 min\n",
            "Epoch: 036/040 | Batch 000/188 | Cost: 0.1651\n",
            "Epoch: 036/040 | Batch 150/188 | Cost: 0.0744\n",
            "Epoch: 036/040\n",
            "Train ACC: 95.57 | Validation ACC: 73.40\n",
            "Time elapsed: 15.85 min\n",
            "Epoch: 037/040 | Batch 000/188 | Cost: 0.1129\n",
            "Epoch: 037/040 | Batch 150/188 | Cost: 0.1390\n",
            "Epoch: 037/040\n",
            "Train ACC: 95.49 | Validation ACC: 71.90\n",
            "Time elapsed: 16.29 min\n",
            "Epoch: 038/040 | Batch 000/188 | Cost: 0.1277\n",
            "Epoch: 038/040 | Batch 150/188 | Cost: 0.1193\n",
            "Epoch: 038/040\n",
            "Train ACC: 96.37 | Validation ACC: 73.45\n",
            "Time elapsed: 16.74 min\n",
            "Epoch: 039/040 | Batch 000/188 | Cost: 0.1258\n",
            "Epoch: 039/040 | Batch 150/188 | Cost: 0.0917\n",
            "Epoch: 039/040\n",
            "Train ACC: 96.66 | Validation ACC: 74.20\n",
            "Time elapsed: 17.18 min\n",
            "Epoch: 040/040 | Batch 000/188 | Cost: 0.1312\n",
            "Epoch: 040/040 | Batch 150/188 | Cost: 0.1471\n",
            "Epoch: 040/040\n",
            "Train ACC: 96.40 | Validation ACC: 73.70\n",
            "Time elapsed: 17.62 min\n",
            "Total Training Time: 17.62 min\n"
          ],
          "name": "stdout"
        }
      ]
    },
    {
      "cell_type": "markdown",
      "metadata": {
        "id": "zt2G8n8ld4eX",
        "colab_type": "text"
      },
      "source": [
        "## Evaluation"
      ]
    },
    {
      "cell_type": "code",
      "metadata": {
        "id": "B9rmVnmbd4eY",
        "colab_type": "code",
        "colab": {}
      },
      "source": [
        "import matplotlib.pyplot as plt\n",
        "%matplotlib inline\n"
      ],
      "execution_count": 21,
      "outputs": []
    },
    {
      "cell_type": "code",
      "metadata": {
        "id": "_pCH64Qud4ea",
        "colab_type": "code",
        "colab": {
          "base_uri": "https://localhost:8080/",
          "height": 279
        },
        "outputId": "f222b059-b833-4936-ceda-c8239a65705c"
      },
      "source": [
        "plt.plot(cost_list, label='Minibatch cost')\n",
        "plt.plot(np.convolve(cost_list, \n",
        "                     np.ones(200,)/200, mode='valid'), \n",
        "         label='Running average')\n",
        "\n",
        "plt.ylabel('Cross Entropy')\n",
        "plt.xlabel('Iteration')\n",
        "plt.legend()\n",
        "plt.show()"
      ],
      "execution_count": 22,
      "outputs": [
        {
          "output_type": "display_data",
          "data": {
            "image/png": "[encoded data removed]",
            "text/plain": [
              "<Figure size 432x288 with 1 Axes>"
            ]
          },
          "metadata": {
            "tags": [],
            "needs_background": "light"
          }
        }
      ]
    },
    {
      "cell_type": "code",
      "metadata": {
        "id": "SdPdWeJZd4ec",
        "colab_type": "code",
        "colab": {
          "base_uri": "https://localhost:8080/",
          "height": 279
        },
        "outputId": "1512f148-4486-42e1-c1cd-e4c73fd31154"
      },
      "source": [
        "plt.plot(np.arange(1, NUM_EPOCHS+1), train_acc_list, label='Training')\n",
        "plt.plot(np.arange(1, NUM_EPOCHS+1), valid_acc_list, label='Validation')\n",
        "\n",
        "plt.xlabel('Epoch')\n",
        "plt.ylabel('Accuracy')\n",
        "plt.legend()\n",
        "plt.show()"
      ],
      "execution_count": 23,
      "outputs": [
        {
          "output_type": "display_data",
          "data": {
            "image/png": "[encoded data removed]",
            "text/plain": [
              "<Figure size 432x288 with 1 Axes>"
            ]
          },
          "metadata": {
            "tags": [],
            "needs_background": "light"
          }
        }
      ]
    },
    {
      "cell_type": "code",
      "metadata": {
        "id": "Uc4YyHsnd4ef",
        "colab_type": "code",
        "colab": {
          "base_uri": "https://localhost:8080/",
          "height": 52
        },
        "outputId": "932f9376-bb07-4710-d126-53a9549e7799"
      },
      "source": [
        "with torch.set_grad_enabled(False):\n",
        "    test_acc = compute_acc(model=model,\n",
        "                           data_loader=test_loader,\n",
        "                           device=DEVICE)\n",
        "    \n",
        "    valid_acc = compute_acc(model=model,\n",
        "                            data_loader=valid_loader,\n",
        "                            device=DEVICE)\n",
        "    \n",
        "\n",
        "print(f'Validation ACC: {valid_acc:.2f}%')\n",
        "print(f'Test ACC: {test_acc:.2f}%')"
      ],
      "execution_count": 24,
      "outputs": [
        {
          "output_type": "stream",
          "text": [
            "Validation ACC: 73.30%\n",
            "Test ACC: 72.33%\n"
          ],
          "name": "stdout"
        }
      ]
    },
    {
      "cell_type": "code",
      "metadata": {
        "id": "g0ip2kUQd4eh",
        "colab_type": "code",
        "colab": {
          "base_uri": "https://localhost:8080/",
          "height": 104
        },
        "outputId": "fdd3394f-ebb2-437d-f23b-f410428058d8"
      },
      "source": [
        "%watermark -iv"
      ],
      "execution_count": 25,
      "outputs": [
        {
          "output_type": "stream",
          "text": [
            "torch     1.5.1+cu101\n",
            "PIL.Image 7.0.0\n",
            "numpy     1.18.5\n",
            "pandas    1.0.5\n",
            "\n"
          ],
          "name": "stdout"
        }
      ]
    }
  ]
}