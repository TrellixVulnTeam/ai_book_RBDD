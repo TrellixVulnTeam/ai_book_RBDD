{
  "nbformat": 4,
  "nbformat_minor": 0,
  "metadata": {
    "accelerator": "GPU",
    "colab": {
      "name": "convnet-vgg16.ipynb",
      "provenance": [],
      "collapsed_sections": []
    },
    "kernelspec": {
      "display_name": "Python 3",
      "language": "python",
      "name": "python3"
    },
    "language_info": {
      "codemirror_mode": {
        "name": "ipython",
        "version": 3
      },
      "file_extension": ".py",
      "mimetype": "text/x-python",
      "name": "python",
      "nbconvert_exporter": "python",
      "pygments_lexer": "ipython3",
      "version": "3.7.3"
    },
    "toc": {
      "nav_menu": {},
      "number_sections": true,
      "sideBar": true,
      "skip_h1_title": false,
      "title_cell": "Table of Contents",
      "title_sidebar": "Contents",
      "toc_cell": true,
      "toc_position": {
        "height": "calc(100% - 180px)",
        "left": "10px",
        "top": "150px",
        "width": "371px"
      },
      "toc_section_display": true,
      "toc_window_display": true
    },
    "widgets": {
      "application/vnd.jupyter.widget-state+json": {
        "7723a3208a9d465381ac26e7893941d1": {
          "model_module": "@jupyter-widgets/controls",
          "model_name": "HBoxModel",
          "state": {
            "_view_name": "HBoxView",
            "_dom_classes": [],
            "_model_name": "HBoxModel",
            "_view_module": "@jupyter-widgets/controls",
            "_model_module_version": "1.5.0",
            "_view_count": null,
            "_view_module_version": "1.5.0",
            "box_style": "",
            "layout": "IPY_MODEL_3e6fc63ad8334c6ea5e6aa565d9657b8",
            "_model_module": "@jupyter-widgets/controls",
            "children": [
              "IPY_MODEL_56802b3cce3b493ba43f1042b95e1ffb",
              "IPY_MODEL_47b8f2f55aeb44888ba030f9b7f3d774"
            ]
          }
        },
        "3e6fc63ad8334c6ea5e6aa565d9657b8": {
          "model_module": "@jupyter-widgets/base",
          "model_name": "LayoutModel",
          "state": {
            "_view_name": "LayoutView",
            "grid_template_rows": null,
            "right": null,
            "justify_content": null,
            "_view_module": "@jupyter-widgets/base",
            "overflow": null,
            "_model_module_version": "1.2.0",
            "_view_count": null,
            "flex_flow": null,
            "width": null,
            "min_width": null,
            "border": null,
            "align_items": null,
            "bottom": null,
            "_model_module": "@jupyter-widgets/base",
            "top": null,
            "grid_column": null,
            "overflow_y": null,
            "overflow_x": null,
            "grid_auto_flow": null,
            "grid_area": null,
            "grid_template_columns": null,
            "flex": null,
            "_model_name": "LayoutModel",
            "justify_items": null,
            "grid_row": null,
            "max_height": null,
            "align_content": null,
            "visibility": null,
            "align_self": null,
            "height": null,
            "min_height": null,
            "padding": null,
            "grid_auto_rows": null,
            "grid_gap": null,
            "max_width": null,
            "order": null,
            "_view_module_version": "1.2.0",
            "grid_template_areas": null,
            "object_position": null,
            "object_fit": null,
            "grid_auto_columns": null,
            "margin": null,
            "display": null,
            "left": null
          }
        },
        "56802b3cce3b493ba43f1042b95e1ffb": {
          "model_module": "@jupyter-widgets/controls",
          "model_name": "FloatProgressModel",
          "state": {
            "_view_name": "ProgressView",
            "style": "IPY_MODEL_e98f54c0450c471e8734d19bb1104640",
            "_dom_classes": [],
            "description": "",
            "_model_name": "FloatProgressModel",
            "bar_style": "info",
            "max": 1,
            "_view_module": "@jupyter-widgets/controls",
            "_model_module_version": "1.5.0",
            "value": 1,
            "_view_count": null,
            "_view_module_version": "1.5.0",
            "orientation": "horizontal",
            "min": 0,
            "description_tooltip": null,
            "_model_module": "@jupyter-widgets/controls",
            "layout": "IPY_MODEL_8bd8923e4bc8451dae60aac48c4e0757"
          }
        },
        "47b8f2f55aeb44888ba030f9b7f3d774": {
          "model_module": "@jupyter-widgets/controls",
          "model_name": "HTMLModel",
          "state": {
            "_view_name": "HTMLView",
            "style": "IPY_MODEL_3f725512db87467481332e29ca984708",
            "_dom_classes": [],
            "description": "",
            "_model_name": "HTMLModel",
            "placeholder": "​",
            "_view_module": "@jupyter-widgets/controls",
            "_model_module_version": "1.5.0",
            "value": " 170500096/? [00:30&lt;00:00, 14197892.40it/s]",
            "_view_count": null,
            "_view_module_version": "1.5.0",
            "description_tooltip": null,
            "_model_module": "@jupyter-widgets/controls",
            "layout": "IPY_MODEL_d6f96e66b105484e8643d61239b6cceb"
          }
        },
        "e98f54c0450c471e8734d19bb1104640": {
          "model_module": "@jupyter-widgets/controls",
          "model_name": "ProgressStyleModel",
          "state": {
            "_view_name": "StyleView",
            "_model_name": "ProgressStyleModel",
            "description_width": "initial",
            "_view_module": "@jupyter-widgets/base",
            "_model_module_version": "1.5.0",
            "_view_count": null,
            "_view_module_version": "1.2.0",
            "bar_color": null,
            "_model_module": "@jupyter-widgets/controls"
          }
        },
        "8bd8923e4bc8451dae60aac48c4e0757": {
          "model_module": "@jupyter-widgets/base",
          "model_name": "LayoutModel",
          "state": {
            "_view_name": "LayoutView",
            "grid_template_rows": null,
            "right": null,
            "justify_content": null,
            "_view_module": "@jupyter-widgets/base",
            "overflow": null,
            "_model_module_version": "1.2.0",
            "_view_count": null,
            "flex_flow": null,
            "width": null,
            "min_width": null,
            "border": null,
            "align_items": null,
            "bottom": null,
            "_model_module": "@jupyter-widgets/base",
            "top": null,
            "grid_column": null,
            "overflow_y": null,
            "overflow_x": null,
            "grid_auto_flow": null,
            "grid_area": null,
            "grid_template_columns": null,
            "flex": null,
            "_model_name": "LayoutModel",
            "justify_items": null,
            "grid_row": null,
            "max_height": null,
            "align_content": null,
            "visibility": null,
            "align_self": null,
            "height": null,
            "min_height": null,
            "padding": null,
            "grid_auto_rows": null,
            "grid_gap": null,
            "max_width": null,
            "order": null,
            "_view_module_version": "1.2.0",
            "grid_template_areas": null,
            "object_position": null,
            "object_fit": null,
            "grid_auto_columns": null,
            "margin": null,
            "display": null,
            "left": null
          }
        },
        "3f725512db87467481332e29ca984708": {
          "model_module": "@jupyter-widgets/controls",
          "model_name": "DescriptionStyleModel",
          "state": {
            "_view_name": "StyleView",
            "_model_name": "DescriptionStyleModel",
            "description_width": "",
            "_view_module": "@jupyter-widgets/base",
            "_model_module_version": "1.5.0",
            "_view_count": null,
            "_view_module_version": "1.2.0",
            "_model_module": "@jupyter-widgets/controls"
          }
        },
        "d6f96e66b105484e8643d61239b6cceb": {
          "model_module": "@jupyter-widgets/base",
          "model_name": "LayoutModel",
          "state": {
            "_view_name": "LayoutView",
            "grid_template_rows": null,
            "right": null,
            "justify_content": null,
            "_view_module": "@jupyter-widgets/base",
            "overflow": null,
            "_model_module_version": "1.2.0",
            "_view_count": null,
            "flex_flow": null,
            "width": null,
            "min_width": null,
            "border": null,
            "align_items": null,
            "bottom": null,
            "_model_module": "@jupyter-widgets/base",
            "top": null,
            "grid_column": null,
            "overflow_y": null,
            "overflow_x": null,
            "grid_auto_flow": null,
            "grid_area": null,
            "grid_template_columns": null,
            "flex": null,
            "_model_name": "LayoutModel",
            "justify_items": null,
            "grid_row": null,
            "max_height": null,
            "align_content": null,
            "visibility": null,
            "align_self": null,
            "height": null,
            "min_height": null,
            "padding": null,
            "grid_auto_rows": null,
            "grid_gap": null,
            "max_width": null,
            "order": null,
            "_view_module_version": "1.2.0",
            "grid_template_areas": null,
            "object_position": null,
            "object_fit": null,
            "grid_auto_columns": null,
            "margin": null,
            "display": null,
            "left": null
          }
        }
      }
    }
  },
  "cells": [
    {
      "cell_type": "markdown",
      "metadata": {
        "colab_type": "text",
        "id": "UEBilEjLj5wY"
      },
      "source": [
        "Deep Learning Models -- A collection of various deep learning architectures, models, and tips for TensorFlow and PyTorch in Jupyter Notebooks.\n",
        "- Author: Sebastian Raschka\n",
        "- GitHub Repository: https://github.com/rasbt/deeplearning-models"
      ]
    },
    {
      "cell_type": "code",
      "metadata": {
        "id": "5Er9B0HL_OSe",
        "colab_type": "code",
        "colab": {}
      },
      "source": [
        "!pip install -q IPython\n",
        "!pip install -q ipykernel\n",
        "!pip install -q watermark\n",
        "!pip install -q matplotlib\n",
        "!pip install -q sklearn\n",
        "!pip install -q pandas\n",
        "!pip install -q pydot\n",
        "!pip install -q hiddenlayer\n",
        "!pip install -q graphviz"
      ],
      "execution_count": 2,
      "outputs": []
    },
    {
      "cell_type": "code",
      "metadata": {
        "colab_type": "code",
        "id": "GOzuY8Yvj5wb",
        "colab": {
          "base_uri": "https://localhost:8080/",
          "height": 121
        },
        "outputId": "c7e4bbcc-dac7-4611-c9e8-8f95addd51ee"
      },
      "source": [
        "%load_ext watermark\n",
        "%watermark -a 'Sebastian Raschka' -v -p torch"
      ],
      "execution_count": 3,
      "outputs": [
        {
          "output_type": "stream",
          "text": [
            "Sebastian Raschka \n",
            "\n",
            "CPython 3.6.9\n",
            "IPython 5.5.0\n",
            "\n",
            "torch 1.5.1+cu101\n"
          ],
          "name": "stdout"
        }
      ]
    },
    {
      "cell_type": "markdown",
      "metadata": {
        "colab_type": "text",
        "id": "rH4XmErYj5wm"
      },
      "source": [
        "# LeNet-5 CIFAR10 Classifier"
      ]
    },
    {
      "cell_type": "markdown",
      "metadata": {
        "id": "SH2YWBSv_GLG",
        "colab_type": "text"
      },
      "source": [
        "This notebook implements the classic LeNet-5 convolutional network [1] and applies it to the CIFAR10 object classification dataset. The basic architecture is shown in the figure below:\n",
        "\n",
        "![](https://github.com/DeepSE/deeplearning-models/blob/master/pytorch_ipynb/images/lenet/lenet-5_1.jpg?raw=1)"
      ]
    },
    {
      "cell_type": "markdown",
      "metadata": {
        "id": "tnlJyZl-_GLG",
        "colab_type": "text"
      },
      "source": [
        "\n",
        "\n",
        "LeNet-5 is commonly regarded as the pioneer of convolutional neural networks, consisting of a very simple architecture (by modern standards). In total, LeNet-5 consists of only 7 layers. 3 out of these 7 layers are convolutional layers (C1, C3, C5), which are connected by two average pooling layers (S2 & S4). The penultimate layer is a fully connexted layer (F6), which is followed by the final output layer. The additional details are summarized below:\n",
        "\n",
        "- All convolutional layers use 5x5 kernels with stride 1.\n",
        "- The two average pooling (subsampling) layers are 2x2 pixels wide with stride 1.\n",
        "- Throughrout the network, tanh sigmoid activation functions are used. (**In this notebook, we replace these with ReLU activations**)\n",
        "- The output layer uses 10 custom Euclidean Radial Basis Function neurons for the output layer. (**In this notebook, we replace these with softmax activations**)\n",
        "\n",
        "**Please note that the original architecture was applied to MNIST-like grayscale images (1 color channel). CIFAR10 has 3 color-channels. I found that using the regular architecture results in very poor performance on CIFAR10 (approx. 50% ACC). Hence, I am multiplying the number of kernels by a factor of 3 (according to the 3 color channels) in each layer, which improves is a little bit (approx. 60% Acc).**\n",
        "\n",
        "### References\n",
        "\n",
        "- [1] Y. LeCun, L. Bottou, Y. Bengio, and P. Haffner. Gradient-based learning applied to document recognition. Proceedings of the IEEE, november 1998."
      ]
    },
    {
      "cell_type": "markdown",
      "metadata": {
        "colab_type": "text",
        "id": "MkoGLH_Tj5wn"
      },
      "source": [
        "## Imports"
      ]
    },
    {
      "cell_type": "code",
      "metadata": {
        "colab_type": "code",
        "id": "ORj09gnrj5wp",
        "colab": {}
      },
      "source": [
        "import os\n",
        "import time\n",
        "\n",
        "import numpy as np\n",
        "import pandas as pd\n",
        "\n",
        "import torch\n",
        "import torch.nn as nn\n",
        "import torch.nn.functional as F\n",
        "from torch.utils.data import DataLoader\n",
        "\n",
        "from torchvision import datasets\n",
        "from torchvision import transforms\n",
        "\n",
        "import matplotlib.pyplot as plt\n",
        "from PIL import Image\n",
        "\n",
        "\n",
        "if torch.cuda.is_available():\n",
        "    torch.backends.cudnn.deterministic = True"
      ],
      "execution_count": 4,
      "outputs": []
    },
    {
      "cell_type": "markdown",
      "metadata": {
        "colab_type": "text",
        "id": "I6hghKPxj5w0"
      },
      "source": [
        "## Model Settings"
      ]
    },
    {
      "cell_type": "code",
      "metadata": {
        "colab_type": "code",
        "id": "NnT0sZIwj5wu",
        "colab": {}
      },
      "source": [
        "##########################\n",
        "### SETTINGS\n",
        "##########################\n",
        "\n",
        "# Hyperparameters\n",
        "RANDOM_SEED = 1\n",
        "LEARNING_RATE = 0.001\n",
        "BATCH_SIZE = 128\n",
        "NUM_EPOCHS = 10\n",
        "\n",
        "# Architecture\n",
        "NUM_FEATURES = 32*32\n",
        "NUM_CLASSES = 10\n",
        "\n",
        "# Other\n",
        "DEVICE = torch.device(\"cuda\" if torch.cuda.is_available() else \"cpu\")\n",
        "GRAYSCALE = False"
      ],
      "execution_count": 5,
      "outputs": []
    },
    {
      "cell_type": "markdown",
      "metadata": {
        "id": "gzgmScO5_GLN",
        "colab_type": "text"
      },
      "source": [
        "### MNIST Dataset"
      ]
    },
    {
      "cell_type": "code",
      "metadata": {
        "id": "TkCRAR8S_GLO",
        "colab_type": "code",
        "colab": {
          "base_uri": "https://localhost:8080/",
          "height": 153,
          "referenced_widgets": [
            "7723a3208a9d465381ac26e7893941d1",
            "3e6fc63ad8334c6ea5e6aa565d9657b8",
            "56802b3cce3b493ba43f1042b95e1ffb",
            "47b8f2f55aeb44888ba030f9b7f3d774",
            "e98f54c0450c471e8734d19bb1104640",
            "8bd8923e4bc8451dae60aac48c4e0757",
            "3f725512db87467481332e29ca984708",
            "d6f96e66b105484e8643d61239b6cceb"
          ]
        },
        "outputId": "a1a66a8d-3cb2-4113-81c6-b21570576f56"
      },
      "source": [
        "##########################\n",
        "### CIFAR-10 Dataset\n",
        "##########################\n",
        "\n",
        "\n",
        "# Note transforms.ToTensor() scales input images\n",
        "# to 0-1 range\n",
        "train_dataset = datasets.CIFAR10(root='data', \n",
        "                                 train=True, \n",
        "                                 transform=transforms.ToTensor(),\n",
        "                                 download=True)\n",
        "\n",
        "test_dataset = datasets.CIFAR10(root='data', \n",
        "                                train=False, \n",
        "                                transform=transforms.ToTensor())\n",
        "\n",
        "\n",
        "train_loader = DataLoader(dataset=train_dataset, \n",
        "                          batch_size=BATCH_SIZE, \n",
        "                          num_workers=8,\n",
        "                          shuffle=True)\n",
        "\n",
        "test_loader = DataLoader(dataset=test_dataset, \n",
        "                         batch_size=BATCH_SIZE,\n",
        "                         num_workers=8,\n",
        "                         shuffle=False)\n",
        "\n",
        "# Checking the dataset\n",
        "for images, labels in train_loader:  \n",
        "    print('Image batch dimensions:', images.shape)\n",
        "    print('Image label dimensions:', labels.shape)\n",
        "    break\n",
        "\n",
        "# Checking the dataset\n",
        "for images, labels in train_loader:  \n",
        "    print('Image batch dimensions:', images.shape)\n",
        "    print('Image label dimensions:', labels.shape)\n",
        "    break"
      ],
      "execution_count": 6,
      "outputs": [
        {
          "output_type": "stream",
          "text": [
            "Downloading https://www.cs.toronto.edu/~kriz/cifar-10-python.tar.gz to data/cifar-10-python.tar.gz\n"
          ],
          "name": "stdout"
        },
        {
          "output_type": "display_data",
          "data": {
            "application/vnd.jupyter.widget-view+json": {
              "model_id": "7723a3208a9d465381ac26e7893941d1",
              "version_minor": 0,
              "version_major": 2
            },
            "text/plain": [
              "HBox(children=(FloatProgress(value=1.0, bar_style='info', max=1.0), HTML(value='')))"
            ]
          },
          "metadata": {
            "tags": []
          }
        },
        {
          "output_type": "stream",
          "text": [
            "Extracting data/cifar-10-python.tar.gz to data\n",
            "Image batch dimensions: torch.Size([128, 3, 32, 32])\n",
            "Image label dimensions: torch.Size([128])\n",
            "Image batch dimensions: torch.Size([128, 3, 32, 32])\n",
            "Image label dimensions: torch.Size([128])\n"
          ],
          "name": "stdout"
        }
      ]
    },
    {
      "cell_type": "code",
      "metadata": {
        "id": "WWlMU9PC_GLQ",
        "colab_type": "code",
        "colab": {
          "base_uri": "https://localhost:8080/",
          "height": 52
        },
        "outputId": "e0c1d71f-cf91-437b-e7da-e8ebbdb8de59"
      },
      "source": [
        "device = torch.device(DEVICE)\n",
        "torch.manual_seed(0)\n",
        "\n",
        "for epoch in range(2):\n",
        "\n",
        "    for batch_idx, (x, y) in enumerate(train_loader):\n",
        "        \n",
        "        print('Epoch:', epoch+1, end='')\n",
        "        print(' | Batch index:', batch_idx, end='')\n",
        "        print(' | Batch size:', y.size()[0])\n",
        "        \n",
        "        x = x.to(device)\n",
        "        y = y.to(device)\n",
        "        break"
      ],
      "execution_count": 7,
      "outputs": [
        {
          "output_type": "stream",
          "text": [
            "Epoch: 1 | Batch index: 0 | Batch size: 128\n",
            "Epoch: 2 | Batch index: 0 | Batch size: 128\n"
          ],
          "name": "stdout"
        }
      ]
    },
    {
      "cell_type": "code",
      "metadata": {
        "id": "hXsOUVje_GLT",
        "colab_type": "code",
        "colab": {}
      },
      "source": [
        "##########################\n",
        "### MODEL\n",
        "##########################\n",
        "\n",
        "\n",
        "class LeNet5(nn.Module):\n",
        "\n",
        "    def __init__(self, num_classes, grayscale=False):\n",
        "        super(LeNet5, self).__init__()\n",
        "        \n",
        "        self.grayscale = grayscale\n",
        "        self.num_classes = num_classes\n",
        "\n",
        "        if self.grayscale:\n",
        "            in_channels = 1\n",
        "        else:\n",
        "            in_channels = 3\n",
        "\n",
        "        self.features = nn.Sequential(\n",
        "            \n",
        "            nn.Conv2d(in_channels, 6*in_channels, kernel_size=5),\n",
        "            nn.Tanh(),\n",
        "            nn.MaxPool2d(kernel_size=2),\n",
        "            nn.Conv2d(6*in_channels, 16*in_channels, kernel_size=5),\n",
        "            nn.Tanh(),\n",
        "            nn.MaxPool2d(kernel_size=2)\n",
        "        )\n",
        "\n",
        "        self.classifier = nn.Sequential(\n",
        "            nn.Linear(16*5*5*in_channels, 120*in_channels),\n",
        "            nn.Tanh(),\n",
        "            nn.Linear(120*in_channels, 84*in_channels),\n",
        "            nn.Tanh(),\n",
        "            nn.Linear(84*in_channels, num_classes),\n",
        "        )\n",
        "\n",
        "\n",
        "    def forward(self, x):\n",
        "        x = self.features(x)\n",
        "        x = torch.flatten(x, 1)\n",
        "        logits = self.classifier(x)\n",
        "        probas = F.softmax(logits, dim=1)\n",
        "        return logits, probas"
      ],
      "execution_count": 8,
      "outputs": []
    },
    {
      "cell_type": "code",
      "metadata": {
        "colab_type": "code",
        "id": "_lza9t_uj5w1",
        "colab": {}
      },
      "source": [
        "torch.manual_seed(RANDOM_SEED)\n",
        "\n",
        "model = LeNet5(NUM_CLASSES, GRAYSCALE)\n",
        "model.to(DEVICE)\n",
        "\n",
        "optimizer = torch.optim.Adam(model.parameters(), lr=LEARNING_RATE)  "
      ],
      "execution_count": 9,
      "outputs": []
    },
    {
      "cell_type": "code",
      "metadata": {
        "id": "p3p4xpj6_4bj",
        "colab_type": "code",
        "colab": {
          "base_uri": "https://localhost:8080/",
          "height": 185
        },
        "outputId": "21fef432-f553-46ce-edf5-d89353baf41e"
      },
      "source": [
        "import hiddenlayer as hl\n",
        "hl.build_graph(model, torch.zeros([256, 3, 32, 32]).to(DEVICE))"
      ],
      "execution_count": 10,
      "outputs": [
        {
          "output_type": "execute_result",
          "data": {
            "text/plain": [
              "<hiddenlayer.graph.Graph at 0x7f89b11962e8>"
            ],
            "image/svg+xml": "<?xml version=\"1.0\" encoding=\"UTF-8\" standalone=\"no\"?>\n<!DOCTYPE svg PUBLIC \"-//W3C//DTD SVG 1.1//EN\"\n \"http://www.w3.org/Graphics/SVG/1.1/DTD/svg11.dtd\">\n<!-- Generated by graphviz version 2.40.1 (20161225.0304)\n -->\n<!-- Title: %3 Pages: 1 -->\n<svg width=\"1908pt\" height=\"108pt\"\n viewBox=\"0.00 0.00 1908.00 108.00\" xmlns=\"http://www.w3.org/2000/svg\" xmlns:xlink=\"http://www.w3.org/1999/xlink\">\n<g id=\"graph0\" class=\"graph\" transform=\"scale(1 1) rotate(0) translate(72 72)\">\n<title>%3</title>\n<polygon fill=\"#ffffff\" stroke=\"transparent\" points=\"-72,36 -72,-72 1836,-72 1836,36 -72,36\"/>\n<!-- /outputs/11 -->\n<g id=\"node1\" class=\"node\">\n<title>/outputs/11</title>\n<polygon fill=\"#e8e8e8\" stroke=\"#000000\" points=\"55,-36 0,-36 0,0 55,0 55,-36\"/>\n<text text-anchor=\"start\" x=\"8.5\" y=\"-15\" font-family=\"Times\" font-size=\"10.00\" fill=\"#000000\">Conv5x5</text>\n</g>\n<!-- /outputs/12 -->\n<g id=\"node2\" class=\"node\">\n<title>/outputs/12</title>\n<polygon fill=\"#e8e8e8\" stroke=\"#000000\" points=\"209,-36 155,-36 155,0 209,0 209,-36\"/>\n<text text-anchor=\"start\" x=\"172\" y=\"-15\" font-family=\"Times\" font-size=\"10.00\" fill=\"#000000\">Tanh</text>\n</g>\n<!-- /outputs/11&#45;&gt;/outputs/12 -->\n<g id=\"edge1\" class=\"edge\">\n<title>/outputs/11&#45;&gt;/outputs/12</title>\n<path fill=\"none\" stroke=\"#000000\" d=\"M55.1215,-18C80.1348,-18 117.1865,-18 144.8004,-18\"/>\n<polygon fill=\"#000000\" stroke=\"#000000\" points=\"144.8768,-21.5001 154.8768,-18 144.8767,-14.5001 144.8768,-21.5001\"/>\n<text text-anchor=\"middle\" x=\"105\" y=\"-21\" font-family=\"Times\" font-size=\"10.00\" fill=\"#000000\">256x18x28x28</text>\n</g>\n<!-- /outputs/13 -->\n<g id=\"node3\" class=\"node\">\n<title>/outputs/13</title>\n<polygon fill=\"#e8e8e8\" stroke=\"#000000\" points=\"379,-36 309,-36 309,0 379,0 379,-36\"/>\n<text text-anchor=\"start\" x=\"317\" y=\"-15\" font-family=\"Times\" font-size=\"10.00\" fill=\"#000000\">MaxPool2x2</text>\n</g>\n<!-- /outputs/12&#45;&gt;/outputs/13 -->\n<g id=\"edge2\" class=\"edge\">\n<title>/outputs/12&#45;&gt;/outputs/13</title>\n<path fill=\"none\" stroke=\"#000000\" d=\"M209.1152,-18C233.5025,-18 269.8163,-18 298.6234,-18\"/>\n<polygon fill=\"#000000\" stroke=\"#000000\" points=\"298.8609,-21.5001 308.8609,-18 298.8609,-14.5001 298.8609,-21.5001\"/>\n<text text-anchor=\"middle\" x=\"259\" y=\"-21\" font-family=\"Times\" font-size=\"10.00\" fill=\"#000000\">256x18x28x28</text>\n</g>\n<!-- /outputs/14 -->\n<g id=\"node4\" class=\"node\">\n<title>/outputs/14</title>\n<polygon fill=\"#e8e8e8\" stroke=\"#000000\" points=\"534,-36 479,-36 479,0 534,0 534,-36\"/>\n<text text-anchor=\"start\" x=\"487.5\" y=\"-15\" font-family=\"Times\" font-size=\"10.00\" fill=\"#000000\">Conv5x5</text>\n</g>\n<!-- /outputs/13&#45;&gt;/outputs/14 -->\n<g id=\"edge3\" class=\"edge\">\n<title>/outputs/13&#45;&gt;/outputs/14</title>\n<path fill=\"none\" stroke=\"#000000\" d=\"M379.2601,-18C405.63,-18 441.6368,-18 468.6181,-18\"/>\n<polygon fill=\"#000000\" stroke=\"#000000\" points=\"468.8421,-21.5001 478.842,-18 468.842,-14.5001 468.8421,-21.5001\"/>\n<text text-anchor=\"middle\" x=\"429\" y=\"-21\" font-family=\"Times\" font-size=\"10.00\" fill=\"#000000\">256x18x14x14</text>\n</g>\n<!-- /outputs/15 -->\n<g id=\"node5\" class=\"node\">\n<title>/outputs/15</title>\n<polygon fill=\"#e8e8e8\" stroke=\"#000000\" points=\"688,-36 634,-36 634,0 688,0 688,-36\"/>\n<text text-anchor=\"start\" x=\"651\" y=\"-15\" font-family=\"Times\" font-size=\"10.00\" fill=\"#000000\">Tanh</text>\n</g>\n<!-- /outputs/14&#45;&gt;/outputs/15 -->\n<g id=\"edge4\" class=\"edge\">\n<title>/outputs/14&#45;&gt;/outputs/15</title>\n<path fill=\"none\" stroke=\"#000000\" d=\"M534.1215,-18C559.1348,-18 596.1865,-18 623.8004,-18\"/>\n<polygon fill=\"#000000\" stroke=\"#000000\" points=\"623.8768,-21.5001 633.8768,-18 623.8767,-14.5001 623.8768,-21.5001\"/>\n<text text-anchor=\"middle\" x=\"584\" y=\"-21\" font-family=\"Times\" font-size=\"10.00\" fill=\"#000000\">256x48x10x10</text>\n</g>\n<!-- /outputs/16 -->\n<g id=\"node6\" class=\"node\">\n<title>/outputs/16</title>\n<polygon fill=\"#e8e8e8\" stroke=\"#000000\" points=\"858,-36 788,-36 788,0 858,0 858,-36\"/>\n<text text-anchor=\"start\" x=\"796\" y=\"-15\" font-family=\"Times\" font-size=\"10.00\" fill=\"#000000\">MaxPool2x2</text>\n</g>\n<!-- /outputs/15&#45;&gt;/outputs/16 -->\n<g id=\"edge5\" class=\"edge\">\n<title>/outputs/15&#45;&gt;/outputs/16</title>\n<path fill=\"none\" stroke=\"#000000\" d=\"M688.1152,-18C712.5025,-18 748.8163,-18 777.6234,-18\"/>\n<polygon fill=\"#000000\" stroke=\"#000000\" points=\"777.8609,-21.5001 787.8609,-18 777.8609,-14.5001 777.8609,-21.5001\"/>\n<text text-anchor=\"middle\" x=\"738\" y=\"-21\" font-family=\"Times\" font-size=\"10.00\" fill=\"#000000\">256x48x10x10</text>\n</g>\n<!-- /outputs/17 -->\n<g id=\"node7\" class=\"node\">\n<title>/outputs/17</title>\n<polygon fill=\"#e8e8e8\" stroke=\"#000000\" points=\"1001,-36 947,-36 947,0 1001,0 1001,-36\"/>\n<text text-anchor=\"start\" x=\"960\" y=\"-15\" font-family=\"Times\" font-size=\"10.00\" fill=\"#000000\">Flatten</text>\n</g>\n<!-- /outputs/16&#45;&gt;/outputs/17 -->\n<g id=\"edge6\" class=\"edge\">\n<title>/outputs/16&#45;&gt;/outputs/17</title>\n<path fill=\"none\" stroke=\"#000000\" d=\"M858.022,-18C881.5486,-18 912.5202,-18 936.5391,-18\"/>\n<polygon fill=\"#000000\" stroke=\"#000000\" points=\"936.6988,-21.5001 946.6988,-18 936.6987,-14.5001 936.6988,-21.5001\"/>\n<text text-anchor=\"middle\" x=\"902.5\" y=\"-21\" font-family=\"Times\" font-size=\"10.00\" fill=\"#000000\">256x48x5x5</text>\n</g>\n<!-- /outputs/18 -->\n<g id=\"node8\" class=\"node\">\n<title>/outputs/18</title>\n<polygon fill=\"#e8e8e8\" stroke=\"#000000\" points=\"1134,-36 1080,-36 1080,0 1134,0 1134,-36\"/>\n<text text-anchor=\"start\" x=\"1094\" y=\"-15\" font-family=\"Times\" font-size=\"10.00\" fill=\"#000000\">Linear</text>\n</g>\n<!-- /outputs/17&#45;&gt;/outputs/18 -->\n<g id=\"edge7\" class=\"edge\">\n<title>/outputs/17&#45;&gt;/outputs/18</title>\n<path fill=\"none\" stroke=\"#000000\" d=\"M1001.2355,-18C1020.9593,-18 1047.8628,-18 1069.5994,-18\"/>\n<polygon fill=\"#000000\" stroke=\"#000000\" points=\"1069.801,-21.5001 1079.8009,-18 1069.8009,-14.5001 1069.801,-21.5001\"/>\n<text text-anchor=\"middle\" x=\"1040.5\" y=\"-21\" font-family=\"Times\" font-size=\"10.00\" fill=\"#000000\">256x1200</text>\n</g>\n<!-- /outputs/19 -->\n<g id=\"node9\" class=\"node\">\n<title>/outputs/19</title>\n<polygon fill=\"#e8e8e8\" stroke=\"#000000\" points=\"1261,-36 1207,-36 1207,0 1261,0 1261,-36\"/>\n<text text-anchor=\"start\" x=\"1224\" y=\"-15\" font-family=\"Times\" font-size=\"10.00\" fill=\"#000000\">Tanh</text>\n</g>\n<!-- /outputs/18&#45;&gt;/outputs/19 -->\n<g id=\"edge8\" class=\"edge\">\n<title>/outputs/18&#45;&gt;/outputs/19</title>\n<path fill=\"none\" stroke=\"#000000\" d=\"M1134.2447,-18C1152.492,-18 1176.746,-18 1196.7693,-18\"/>\n<polygon fill=\"#000000\" stroke=\"#000000\" points=\"1196.8004,-21.5001 1206.8004,-18 1196.8003,-14.5001 1196.8004,-21.5001\"/>\n<text text-anchor=\"middle\" x=\"1170.5\" y=\"-21\" font-family=\"Times\" font-size=\"10.00\" fill=\"#000000\">256x360</text>\n</g>\n<!-- /outputs/20 -->\n<g id=\"node10\" class=\"node\">\n<title>/outputs/20</title>\n<polygon fill=\"#e8e8e8\" stroke=\"#000000\" points=\"1388,-36 1334,-36 1334,0 1388,0 1388,-36\"/>\n<text text-anchor=\"start\" x=\"1348\" y=\"-15\" font-family=\"Times\" font-size=\"10.00\" fill=\"#000000\">Linear</text>\n</g>\n<!-- /outputs/19&#45;&gt;/outputs/20 -->\n<g id=\"edge9\" class=\"edge\">\n<title>/outputs/19&#45;&gt;/outputs/20</title>\n<path fill=\"none\" stroke=\"#000000\" d=\"M1261.2447,-18C1279.492,-18 1303.746,-18 1323.7693,-18\"/>\n<polygon fill=\"#000000\" stroke=\"#000000\" points=\"1323.8004,-21.5001 1333.8004,-18 1323.8003,-14.5001 1323.8004,-21.5001\"/>\n<text text-anchor=\"middle\" x=\"1297.5\" y=\"-21\" font-family=\"Times\" font-size=\"10.00\" fill=\"#000000\">256x360</text>\n</g>\n<!-- /outputs/21 -->\n<g id=\"node11\" class=\"node\">\n<title>/outputs/21</title>\n<polygon fill=\"#e8e8e8\" stroke=\"#000000\" points=\"1515,-36 1461,-36 1461,0 1515,0 1515,-36\"/>\n<text text-anchor=\"start\" x=\"1478\" y=\"-15\" font-family=\"Times\" font-size=\"10.00\" fill=\"#000000\">Tanh</text>\n</g>\n<!-- /outputs/20&#45;&gt;/outputs/21 -->\n<g id=\"edge10\" class=\"edge\">\n<title>/outputs/20&#45;&gt;/outputs/21</title>\n<path fill=\"none\" stroke=\"#000000\" d=\"M1388.2447,-18C1406.492,-18 1430.746,-18 1450.7693,-18\"/>\n<polygon fill=\"#000000\" stroke=\"#000000\" points=\"1450.8004,-21.5001 1460.8004,-18 1450.8003,-14.5001 1450.8004,-21.5001\"/>\n<text text-anchor=\"middle\" x=\"1424.5\" y=\"-21\" font-family=\"Times\" font-size=\"10.00\" fill=\"#000000\">256x252</text>\n</g>\n<!-- /outputs/22 -->\n<g id=\"node12\" class=\"node\">\n<title>/outputs/22</title>\n<polygon fill=\"#e8e8e8\" stroke=\"#000000\" points=\"1642,-36 1588,-36 1588,0 1642,0 1642,-36\"/>\n<text text-anchor=\"start\" x=\"1602\" y=\"-15\" font-family=\"Times\" font-size=\"10.00\" fill=\"#000000\">Linear</text>\n</g>\n<!-- /outputs/21&#45;&gt;/outputs/22 -->\n<g id=\"edge11\" class=\"edge\">\n<title>/outputs/21&#45;&gt;/outputs/22</title>\n<path fill=\"none\" stroke=\"#000000\" d=\"M1515.2447,-18C1533.492,-18 1557.746,-18 1577.7693,-18\"/>\n<polygon fill=\"#000000\" stroke=\"#000000\" points=\"1577.8004,-21.5001 1587.8004,-18 1577.8003,-14.5001 1577.8004,-21.5001\"/>\n<text text-anchor=\"middle\" x=\"1551.5\" y=\"-21\" font-family=\"Times\" font-size=\"10.00\" fill=\"#000000\">256x252</text>\n</g>\n<!-- /outputs/23 -->\n<g id=\"node13\" class=\"node\">\n<title>/outputs/23</title>\n<polygon fill=\"#e8e8e8\" stroke=\"#000000\" points=\"1764,-36 1710,-36 1710,0 1764,0 1764,-36\"/>\n<text text-anchor=\"start\" x=\"1720\" y=\"-15\" font-family=\"Times\" font-size=\"10.00\" fill=\"#000000\">Softmax</text>\n</g>\n<!-- /outputs/22&#45;&gt;/outputs/23 -->\n<g id=\"edge12\" class=\"edge\">\n<title>/outputs/22&#45;&gt;/outputs/23</title>\n<path fill=\"none\" stroke=\"#000000\" d=\"M1642.0758,-18C1659.0553,-18 1681.1767,-18 1699.7924,-18\"/>\n<polygon fill=\"#000000\" stroke=\"#000000\" points=\"1700,-21.5001 1709.9999,-18 1699.9999,-14.5001 1700,-21.5001\"/>\n<text text-anchor=\"middle\" x=\"1676\" y=\"-21\" font-family=\"Times\" font-size=\"10.00\" fill=\"#000000\">256x10</text>\n</g>\n</g>\n</svg>\n"
          },
          "metadata": {
            "tags": []
          },
          "execution_count": 10
        }
      ]
    },
    {
      "cell_type": "markdown",
      "metadata": {
        "colab_type": "text",
        "id": "RAodboScj5w6"
      },
      "source": [
        "## Training"
      ]
    },
    {
      "cell_type": "code",
      "metadata": {
        "colab_type": "code",
        "id": "Dzh3ROmRj5w7",
        "colab": {
          "base_uri": "https://localhost:8080/",
          "height": 1000
        },
        "outputId": "5747e8a4-89fb-4900-deed-7bc256394305"
      },
      "source": [
        "def compute_accuracy(model, data_loader, device):\n",
        "    correct_pred, num_examples = 0, 0\n",
        "    for i, (features, targets) in enumerate(data_loader):\n",
        "            \n",
        "        features = features.to(device)\n",
        "        targets = targets.to(device)\n",
        "\n",
        "        logits, probas = model(features)\n",
        "        _, predicted_labels = torch.max(probas, 1)\n",
        "        num_examples += targets.size(0)\n",
        "        correct_pred += (predicted_labels == targets).sum()\n",
        "    return correct_pred.float()/num_examples * 100\n",
        "    \n",
        "\n",
        "start_time = time.time()\n",
        "for epoch in range(NUM_EPOCHS):\n",
        "    \n",
        "    model.train()\n",
        "    for batch_idx, (features, targets) in enumerate(train_loader):\n",
        "        \n",
        "        features = features.to(DEVICE)\n",
        "        targets = targets.to(DEVICE)\n",
        "            \n",
        "        ### FORWARD AND BACK PROP\n",
        "        logits, probas = model(features)\n",
        "        cost = F.cross_entropy(logits, targets)\n",
        "        optimizer.zero_grad()\n",
        "        \n",
        "        cost.backward()\n",
        "        \n",
        "        ### UPDATE MODEL PARAMETERS\n",
        "        optimizer.step()\n",
        "        \n",
        "        ### LOGGING\n",
        "        if not batch_idx % 50:\n",
        "            print ('Epoch: %03d/%03d | Batch %04d/%04d | Cost: %.4f' \n",
        "                   %(epoch+1, NUM_EPOCHS, batch_idx, \n",
        "                     len(train_loader), cost))\n",
        "\n",
        "        \n",
        "\n",
        "    model.eval()\n",
        "    with torch.set_grad_enabled(False): # save memory during inference\n",
        "        print('Epoch: %03d/%03d | Train: %.3f%%' % (\n",
        "              epoch+1, NUM_EPOCHS, \n",
        "              compute_accuracy(model, train_loader, device=DEVICE)))\n",
        "        \n",
        "    print('Time elapsed: %.2f min' % ((time.time() - start_time)/60))\n",
        "    \n",
        "print('Total Training Time: %.2f min' % ((time.time() - start_time)/60))"
      ],
      "execution_count": 11,
      "outputs": [
        {
          "output_type": "stream",
          "text": [
            "Epoch: 001/010 | Batch 0000/0391 | Cost: 2.3068\n",
            "Epoch: 001/010 | Batch 0050/0391 | Cost: 1.8193\n",
            "Epoch: 001/010 | Batch 0100/0391 | Cost: 1.6463\n",
            "Epoch: 001/010 | Batch 0150/0391 | Cost: 1.5756\n",
            "Epoch: 001/010 | Batch 0200/0391 | Cost: 1.4029\n",
            "Epoch: 001/010 | Batch 0250/0391 | Cost: 1.3118\n",
            "Epoch: 001/010 | Batch 0300/0391 | Cost: 1.3301\n",
            "Epoch: 001/010 | Batch 0350/0391 | Cost: 1.2877\n",
            "Epoch: 001/010 | Train: 54.556%\n",
            "Time elapsed: 0.21 min\n",
            "Epoch: 002/010 | Batch 0000/0391 | Cost: 1.4057\n",
            "Epoch: 002/010 | Batch 0050/0391 | Cost: 1.2842\n",
            "Epoch: 002/010 | Batch 0100/0391 | Cost: 1.2604\n",
            "Epoch: 002/010 | Batch 0150/0391 | Cost: 1.3171\n",
            "Epoch: 002/010 | Batch 0200/0391 | Cost: 1.2911\n",
            "Epoch: 002/010 | Batch 0250/0391 | Cost: 1.3559\n",
            "Epoch: 002/010 | Batch 0300/0391 | Cost: 1.2006\n",
            "Epoch: 002/010 | Batch 0350/0391 | Cost: 1.1475\n",
            "Epoch: 002/010 | Train: 60.400%\n",
            "Time elapsed: 0.40 min\n",
            "Epoch: 003/010 | Batch 0000/0391 | Cost: 1.1226\n",
            "Epoch: 003/010 | Batch 0050/0391 | Cost: 1.1907\n",
            "Epoch: 003/010 | Batch 0100/0391 | Cost: 1.3042\n",
            "Epoch: 003/010 | Batch 0150/0391 | Cost: 1.0265\n",
            "Epoch: 003/010 | Batch 0200/0391 | Cost: 1.0250\n",
            "Epoch: 003/010 | Batch 0250/0391 | Cost: 0.8002\n",
            "Epoch: 003/010 | Batch 0300/0391 | Cost: 1.0646\n",
            "Epoch: 003/010 | Batch 0350/0391 | Cost: 1.1073\n",
            "Epoch: 003/010 | Train: 64.508%\n",
            "Time elapsed: 0.60 min\n",
            "Epoch: 004/010 | Batch 0000/0391 | Cost: 1.1400\n",
            "Epoch: 004/010 | Batch 0050/0391 | Cost: 1.0820\n",
            "Epoch: 004/010 | Batch 0100/0391 | Cost: 1.0441\n",
            "Epoch: 004/010 | Batch 0150/0391 | Cost: 0.9813\n",
            "Epoch: 004/010 | Batch 0200/0391 | Cost: 0.8517\n",
            "Epoch: 004/010 | Batch 0250/0391 | Cost: 1.1391\n",
            "Epoch: 004/010 | Batch 0300/0391 | Cost: 0.8319\n",
            "Epoch: 004/010 | Batch 0350/0391 | Cost: 1.1703\n",
            "Epoch: 004/010 | Train: 66.998%\n",
            "Time elapsed: 0.80 min\n",
            "Epoch: 005/010 | Batch 0000/0391 | Cost: 1.1105\n",
            "Epoch: 005/010 | Batch 0050/0391 | Cost: 0.8523\n",
            "Epoch: 005/010 | Batch 0100/0391 | Cost: 0.8925\n",
            "Epoch: 005/010 | Batch 0150/0391 | Cost: 0.9221\n",
            "Epoch: 005/010 | Batch 0200/0391 | Cost: 0.9364\n",
            "Epoch: 005/010 | Batch 0250/0391 | Cost: 1.0560\n",
            "Epoch: 005/010 | Batch 0300/0391 | Cost: 0.9475\n",
            "Epoch: 005/010 | Batch 0350/0391 | Cost: 0.9106\n",
            "Epoch: 005/010 | Train: 71.436%\n",
            "Time elapsed: 1.00 min\n",
            "Epoch: 006/010 | Batch 0000/0391 | Cost: 0.7030\n",
            "Epoch: 006/010 | Batch 0050/0391 | Cost: 0.6964\n",
            "Epoch: 006/010 | Batch 0100/0391 | Cost: 0.6762\n",
            "Epoch: 006/010 | Batch 0150/0391 | Cost: 0.8225\n",
            "Epoch: 006/010 | Batch 0200/0391 | Cost: 0.7917\n",
            "Epoch: 006/010 | Batch 0250/0391 | Cost: 0.9656\n",
            "Epoch: 006/010 | Batch 0300/0391 | Cost: 0.7744\n",
            "Epoch: 006/010 | Batch 0350/0391 | Cost: 0.9550\n",
            "Epoch: 006/010 | Train: 73.936%\n",
            "Time elapsed: 1.20 min\n",
            "Epoch: 007/010 | Batch 0000/0391 | Cost: 0.8845\n",
            "Epoch: 007/010 | Batch 0050/0391 | Cost: 0.8262\n",
            "Epoch: 007/010 | Batch 0100/0391 | Cost: 0.6914\n",
            "Epoch: 007/010 | Batch 0150/0391 | Cost: 0.6263\n",
            "Epoch: 007/010 | Batch 0200/0391 | Cost: 0.6429\n",
            "Epoch: 007/010 | Batch 0250/0391 | Cost: 0.6364\n",
            "Epoch: 007/010 | Batch 0300/0391 | Cost: 0.7388\n",
            "Epoch: 007/010 | Batch 0350/0391 | Cost: 0.7845\n",
            "Epoch: 007/010 | Train: 77.926%\n",
            "Time elapsed: 1.39 min\n",
            "Epoch: 008/010 | Batch 0000/0391 | Cost: 0.5141\n",
            "Epoch: 008/010 | Batch 0050/0391 | Cost: 0.5971\n",
            "Epoch: 008/010 | Batch 0100/0391 | Cost: 0.6044\n",
            "Epoch: 008/010 | Batch 0150/0391 | Cost: 0.6753\n",
            "Epoch: 008/010 | Batch 0200/0391 | Cost: 0.5792\n",
            "Epoch: 008/010 | Batch 0250/0391 | Cost: 0.6234\n",
            "Epoch: 008/010 | Batch 0300/0391 | Cost: 0.5937\n",
            "Epoch: 008/010 | Batch 0350/0391 | Cost: 0.8088\n",
            "Epoch: 008/010 | Train: 82.222%\n",
            "Time elapsed: 1.59 min\n",
            "Epoch: 009/010 | Batch 0000/0391 | Cost: 0.4917\n",
            "Epoch: 009/010 | Batch 0050/0391 | Cost: 0.4628\n",
            "Epoch: 009/010 | Batch 0100/0391 | Cost: 0.6500\n",
            "Epoch: 009/010 | Batch 0150/0391 | Cost: 0.5149\n",
            "Epoch: 009/010 | Batch 0200/0391 | Cost: 0.6313\n",
            "Epoch: 009/010 | Batch 0250/0391 | Cost: 0.7330\n",
            "Epoch: 009/010 | Batch 0300/0391 | Cost: 0.5880\n",
            "Epoch: 009/010 | Batch 0350/0391 | Cost: 0.6244\n",
            "Epoch: 009/010 | Train: 85.024%\n",
            "Time elapsed: 1.78 min\n",
            "Epoch: 010/010 | Batch 0000/0391 | Cost: 0.4817\n",
            "Epoch: 010/010 | Batch 0050/0391 | Cost: 0.3867\n",
            "Epoch: 010/010 | Batch 0100/0391 | Cost: 0.4881\n",
            "Epoch: 010/010 | Batch 0150/0391 | Cost: 0.4456\n",
            "Epoch: 010/010 | Batch 0200/0391 | Cost: 0.5672\n",
            "Epoch: 010/010 | Batch 0250/0391 | Cost: 0.4253\n",
            "Epoch: 010/010 | Batch 0300/0391 | Cost: 0.5051\n",
            "Epoch: 010/010 | Batch 0350/0391 | Cost: 0.5122\n",
            "Epoch: 010/010 | Train: 88.598%\n",
            "Time elapsed: 1.97 min\n",
            "Total Training Time: 1.97 min\n"
          ],
          "name": "stdout"
        }
      ]
    },
    {
      "cell_type": "markdown",
      "metadata": {
        "colab_type": "text",
        "id": "paaeEQHQj5xC"
      },
      "source": [
        "## Evaluation"
      ]
    },
    {
      "cell_type": "code",
      "metadata": {
        "colab_type": "code",
        "id": "gzQMWKq5j5xE",
        "colab": {
          "base_uri": "https://localhost:8080/",
          "height": 35
        },
        "outputId": "b7255303-a039-436f-92be-ec776f6369d4"
      },
      "source": [
        "with torch.set_grad_enabled(False): # save memory during inference\n",
        "    print('Test accuracy: %.2f%%' % (compute_accuracy(model, test_loader, device=DEVICE)))"
      ],
      "execution_count": 12,
      "outputs": [
        {
          "output_type": "stream",
          "text": [
            "Test accuracy: 67.30%\n"
          ],
          "name": "stdout"
        }
      ]
    },
    {
      "cell_type": "code",
      "metadata": {
        "id": "8RKp1h-T_GLf",
        "colab_type": "code",
        "colab": {
          "base_uri": "https://localhost:8080/",
          "height": 104
        },
        "outputId": "bf08ba79-3afa-43b1-f6c7-595b82bc2eed"
      },
      "source": [
        "%watermark -iv"
      ],
      "execution_count": 13,
      "outputs": [
        {
          "output_type": "stream",
          "text": [
            "numpy     1.18.5\n",
            "torch     1.5.1+cu101\n",
            "PIL.Image 7.0.0\n",
            "pandas    1.0.5\n",
            "\n"
          ],
          "name": "stdout"
        }
      ]
    }
  ]
}