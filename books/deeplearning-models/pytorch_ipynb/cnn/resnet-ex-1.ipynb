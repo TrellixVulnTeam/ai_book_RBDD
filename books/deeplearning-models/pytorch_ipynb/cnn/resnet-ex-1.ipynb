{
  "nbformat": 4,
  "nbformat_minor": 0,
  "metadata": {
    "kernelspec": {
      "display_name": "Python 3",
      "language": "python",
      "name": "python3"
    },
    "language_info": {
      "codemirror_mode": {
        "name": "ipython",
        "version": 3
      },
      "file_extension": ".py",
      "mimetype": "text/x-python",
      "name": "python",
      "nbconvert_exporter": "python",
      "pygments_lexer": "ipython3",
      "version": "3.7.1"
    },
    "toc": {
      "nav_menu": {},
      "number_sections": true,
      "sideBar": true,
      "skip_h1_title": false,
      "title_cell": "Table of Contents",
      "title_sidebar": "Contents",
      "toc_cell": false,
      "toc_position": {},
      "toc_section_display": true,
      "toc_window_display": true
    },
    "colab": {
      "name": "resnet-ex-1.ipynb",
      "provenance": []
    },
    "widgets": {
      "application/vnd.jupyter.widget-state+json": {
        "e22553b9add74417b21ace2fd910467b": {
          "model_module": "@jupyter-widgets/controls",
          "model_name": "HBoxModel",
          "state": {
            "_view_name": "HBoxView",
            "_dom_classes": [],
            "_model_name": "HBoxModel",
            "_view_module": "@jupyter-widgets/controls",
            "_model_module_version": "1.5.0",
            "_view_count": null,
            "_view_module_version": "1.5.0",
            "box_style": "",
            "layout": "IPY_MODEL_abea5510a6cc4635b79d09a31c3afa98",
            "_model_module": "@jupyter-widgets/controls",
            "children": [
              "IPY_MODEL_3f835978dfdd47afb17beefd0997de22",
              "IPY_MODEL_1d2d8cbbbdcd432085146362775cf972"
            ]
          }
        },
        "abea5510a6cc4635b79d09a31c3afa98": {
          "model_module": "@jupyter-widgets/base",
          "model_name": "LayoutModel",
          "state": {
            "_view_name": "LayoutView",
            "grid_template_rows": null,
            "right": null,
            "justify_content": null,
            "_view_module": "@jupyter-widgets/base",
            "overflow": null,
            "_model_module_version": "1.2.0",
            "_view_count": null,
            "flex_flow": null,
            "width": null,
            "min_width": null,
            "border": null,
            "align_items": null,
            "bottom": null,
            "_model_module": "@jupyter-widgets/base",
            "top": null,
            "grid_column": null,
            "overflow_y": null,
            "overflow_x": null,
            "grid_auto_flow": null,
            "grid_area": null,
            "grid_template_columns": null,
            "flex": null,
            "_model_name": "LayoutModel",
            "justify_items": null,
            "grid_row": null,
            "max_height": null,
            "align_content": null,
            "visibility": null,
            "align_self": null,
            "height": null,
            "min_height": null,
            "padding": null,
            "grid_auto_rows": null,
            "grid_gap": null,
            "max_width": null,
            "order": null,
            "_view_module_version": "1.2.0",
            "grid_template_areas": null,
            "object_position": null,
            "object_fit": null,
            "grid_auto_columns": null,
            "margin": null,
            "display": null,
            "left": null
          }
        },
        "3f835978dfdd47afb17beefd0997de22": {
          "model_module": "@jupyter-widgets/controls",
          "model_name": "FloatProgressModel",
          "state": {
            "_view_name": "ProgressView",
            "style": "IPY_MODEL_cce61ca043014bdaa2a75267cc9aae88",
            "_dom_classes": [],
            "description": "",
            "_model_name": "FloatProgressModel",
            "bar_style": "info",
            "max": 1,
            "_view_module": "@jupyter-widgets/controls",
            "_model_module_version": "1.5.0",
            "value": 1,
            "_view_count": null,
            "_view_module_version": "1.5.0",
            "orientation": "horizontal",
            "min": 0,
            "description_tooltip": null,
            "_model_module": "@jupyter-widgets/controls",
            "layout": "IPY_MODEL_1f3ee198a13b4c5daf02f0ccbac104bb"
          }
        },
        "1d2d8cbbbdcd432085146362775cf972": {
          "model_module": "@jupyter-widgets/controls",
          "model_name": "HTMLModel",
          "state": {
            "_view_name": "HTMLView",
            "style": "IPY_MODEL_b361a7562d994afaa12f84763a2e985d",
            "_dom_classes": [],
            "description": "",
            "_model_name": "HTMLModel",
            "placeholder": "​",
            "_view_module": "@jupyter-widgets/controls",
            "_model_module_version": "1.5.0",
            "value": " 9920512/? [00:20&lt;00:00, 9993367.97it/s]",
            "_view_count": null,
            "_view_module_version": "1.5.0",
            "description_tooltip": null,
            "_model_module": "@jupyter-widgets/controls",
            "layout": "IPY_MODEL_e8ef099295db488180374f1645e579c1"
          }
        },
        "cce61ca043014bdaa2a75267cc9aae88": {
          "model_module": "@jupyter-widgets/controls",
          "model_name": "ProgressStyleModel",
          "state": {
            "_view_name": "StyleView",
            "_model_name": "ProgressStyleModel",
            "description_width": "initial",
            "_view_module": "@jupyter-widgets/base",
            "_model_module_version": "1.5.0",
            "_view_count": null,
            "_view_module_version": "1.2.0",
            "bar_color": null,
            "_model_module": "@jupyter-widgets/controls"
          }
        },
        "1f3ee198a13b4c5daf02f0ccbac104bb": {
          "model_module": "@jupyter-widgets/base",
          "model_name": "LayoutModel",
          "state": {
            "_view_name": "LayoutView",
            "grid_template_rows": null,
            "right": null,
            "justify_content": null,
            "_view_module": "@jupyter-widgets/base",
            "overflow": null,
            "_model_module_version": "1.2.0",
            "_view_count": null,
            "flex_flow": null,
            "width": null,
            "min_width": null,
            "border": null,
            "align_items": null,
            "bottom": null,
            "_model_module": "@jupyter-widgets/base",
            "top": null,
            "grid_column": null,
            "overflow_y": null,
            "overflow_x": null,
            "grid_auto_flow": null,
            "grid_area": null,
            "grid_template_columns": null,
            "flex": null,
            "_model_name": "LayoutModel",
            "justify_items": null,
            "grid_row": null,
            "max_height": null,
            "align_content": null,
            "visibility": null,
            "align_self": null,
            "height": null,
            "min_height": null,
            "padding": null,
            "grid_auto_rows": null,
            "grid_gap": null,
            "max_width": null,
            "order": null,
            "_view_module_version": "1.2.0",
            "grid_template_areas": null,
            "object_position": null,
            "object_fit": null,
            "grid_auto_columns": null,
            "margin": null,
            "display": null,
            "left": null
          }
        },
        "b361a7562d994afaa12f84763a2e985d": {
          "model_module": "@jupyter-widgets/controls",
          "model_name": "DescriptionStyleModel",
          "state": {
            "_view_name": "StyleView",
            "_model_name": "DescriptionStyleModel",
            "description_width": "",
            "_view_module": "@jupyter-widgets/base",
            "_model_module_version": "1.5.0",
            "_view_count": null,
            "_view_module_version": "1.2.0",
            "_model_module": "@jupyter-widgets/controls"
          }
        },
        "e8ef099295db488180374f1645e579c1": {
          "model_module": "@jupyter-widgets/base",
          "model_name": "LayoutModel",
          "state": {
            "_view_name": "LayoutView",
            "grid_template_rows": null,
            "right": null,
            "justify_content": null,
            "_view_module": "@jupyter-widgets/base",
            "overflow": null,
            "_model_module_version": "1.2.0",
            "_view_count": null,
            "flex_flow": null,
            "width": null,
            "min_width": null,
            "border": null,
            "align_items": null,
            "bottom": null,
            "_model_module": "@jupyter-widgets/base",
            "top": null,
            "grid_column": null,
            "overflow_y": null,
            "overflow_x": null,
            "grid_auto_flow": null,
            "grid_area": null,
            "grid_template_columns": null,
            "flex": null,
            "_model_name": "LayoutModel",
            "justify_items": null,
            "grid_row": null,
            "max_height": null,
            "align_content": null,
            "visibility": null,
            "align_self": null,
            "height": null,
            "min_height": null,
            "padding": null,
            "grid_auto_rows": null,
            "grid_gap": null,
            "max_width": null,
            "order": null,
            "_view_module_version": "1.2.0",
            "grid_template_areas": null,
            "object_position": null,
            "object_fit": null,
            "grid_auto_columns": null,
            "margin": null,
            "display": null,
            "left": null
          }
        },
        "48d21f0bb19843e6b54b4f9e06fa7f96": {
          "model_module": "@jupyter-widgets/controls",
          "model_name": "HBoxModel",
          "state": {
            "_view_name": "HBoxView",
            "_dom_classes": [],
            "_model_name": "HBoxModel",
            "_view_module": "@jupyter-widgets/controls",
            "_model_module_version": "1.5.0",
            "_view_count": null,
            "_view_module_version": "1.5.0",
            "box_style": "",
            "layout": "IPY_MODEL_7767e051607447e4a4e77069822a027e",
            "_model_module": "@jupyter-widgets/controls",
            "children": [
              "IPY_MODEL_97a576029c324fbdbcc3065f92c9cba4",
              "IPY_MODEL_183e324ff7ed442893c89d08e65e2a76"
            ]
          }
        },
        "7767e051607447e4a4e77069822a027e": {
          "model_module": "@jupyter-widgets/base",
          "model_name": "LayoutModel",
          "state": {
            "_view_name": "LayoutView",
            "grid_template_rows": null,
            "right": null,
            "justify_content": null,
            "_view_module": "@jupyter-widgets/base",
            "overflow": null,
            "_model_module_version": "1.2.0",
            "_view_count": null,
            "flex_flow": null,
            "width": null,
            "min_width": null,
            "border": null,
            "align_items": null,
            "bottom": null,
            "_model_module": "@jupyter-widgets/base",
            "top": null,
            "grid_column": null,
            "overflow_y": null,
            "overflow_x": null,
            "grid_auto_flow": null,
            "grid_area": null,
            "grid_template_columns": null,
            "flex": null,
            "_model_name": "LayoutModel",
            "justify_items": null,
            "grid_row": null,
            "max_height": null,
            "align_content": null,
            "visibility": null,
            "align_self": null,
            "height": null,
            "min_height": null,
            "padding": null,
            "grid_auto_rows": null,
            "grid_gap": null,
            "max_width": null,
            "order": null,
            "_view_module_version": "1.2.0",
            "grid_template_areas": null,
            "object_position": null,
            "object_fit": null,
            "grid_auto_columns": null,
            "margin": null,
            "display": null,
            "left": null
          }
        },
        "97a576029c324fbdbcc3065f92c9cba4": {
          "model_module": "@jupyter-widgets/controls",
          "model_name": "FloatProgressModel",
          "state": {
            "_view_name": "ProgressView",
            "style": "IPY_MODEL_2b5560c131f94a2f83be8b399c8ccb37",
            "_dom_classes": [],
            "description": "",
            "_model_name": "FloatProgressModel",
            "bar_style": "success",
            "max": 1,
            "_view_module": "@jupyter-widgets/controls",
            "_model_module_version": "1.5.0",
            "value": 1,
            "_view_count": null,
            "_view_module_version": "1.5.0",
            "orientation": "horizontal",
            "min": 0,
            "description_tooltip": null,
            "_model_module": "@jupyter-widgets/controls",
            "layout": "IPY_MODEL_ea2dbd2359f3405ab7ec0d3616b6815e"
          }
        },
        "183e324ff7ed442893c89d08e65e2a76": {
          "model_module": "@jupyter-widgets/controls",
          "model_name": "HTMLModel",
          "state": {
            "_view_name": "HTMLView",
            "style": "IPY_MODEL_95beac7ae520411f8f8cfb0219796164",
            "_dom_classes": [],
            "description": "",
            "_model_name": "HTMLModel",
            "placeholder": "​",
            "_view_module": "@jupyter-widgets/controls",
            "_model_module_version": "1.5.0",
            "value": " 32768/? [00:00&lt;00:00, 58445.51it/s]",
            "_view_count": null,
            "_view_module_version": "1.5.0",
            "description_tooltip": null,
            "_model_module": "@jupyter-widgets/controls",
            "layout": "IPY_MODEL_89187ae506ca4868b63d912c40b49654"
          }
        },
        "2b5560c131f94a2f83be8b399c8ccb37": {
          "model_module": "@jupyter-widgets/controls",
          "model_name": "ProgressStyleModel",
          "state": {
            "_view_name": "StyleView",
            "_model_name": "ProgressStyleModel",
            "description_width": "initial",
            "_view_module": "@jupyter-widgets/base",
            "_model_module_version": "1.5.0",
            "_view_count": null,
            "_view_module_version": "1.2.0",
            "bar_color": null,
            "_model_module": "@jupyter-widgets/controls"
          }
        },
        "ea2dbd2359f3405ab7ec0d3616b6815e": {
          "model_module": "@jupyter-widgets/base",
          "model_name": "LayoutModel",
          "state": {
            "_view_name": "LayoutView",
            "grid_template_rows": null,
            "right": null,
            "justify_content": null,
            "_view_module": "@jupyter-widgets/base",
            "overflow": null,
            "_model_module_version": "1.2.0",
            "_view_count": null,
            "flex_flow": null,
            "width": null,
            "min_width": null,
            "border": null,
            "align_items": null,
            "bottom": null,
            "_model_module": "@jupyter-widgets/base",
            "top": null,
            "grid_column": null,
            "overflow_y": null,
            "overflow_x": null,
            "grid_auto_flow": null,
            "grid_area": null,
            "grid_template_columns": null,
            "flex": null,
            "_model_name": "LayoutModel",
            "justify_items": null,
            "grid_row": null,
            "max_height": null,
            "align_content": null,
            "visibility": null,
            "align_self": null,
            "height": null,
            "min_height": null,
            "padding": null,
            "grid_auto_rows": null,
            "grid_gap": null,
            "max_width": null,
            "order": null,
            "_view_module_version": "1.2.0",
            "grid_template_areas": null,
            "object_position": null,
            "object_fit": null,
            "grid_auto_columns": null,
            "margin": null,
            "display": null,
            "left": null
          }
        },
        "95beac7ae520411f8f8cfb0219796164": {
          "model_module": "@jupyter-widgets/controls",
          "model_name": "DescriptionStyleModel",
          "state": {
            "_view_name": "StyleView",
            "_model_name": "DescriptionStyleModel",
            "description_width": "",
            "_view_module": "@jupyter-widgets/base",
            "_model_module_version": "1.5.0",
            "_view_count": null,
            "_view_module_version": "1.2.0",
            "_model_module": "@jupyter-widgets/controls"
          }
        },
        "89187ae506ca4868b63d912c40b49654": {
          "model_module": "@jupyter-widgets/base",
          "model_name": "LayoutModel",
          "state": {
            "_view_name": "LayoutView",
            "grid_template_rows": null,
            "right": null,
            "justify_content": null,
            "_view_module": "@jupyter-widgets/base",
            "overflow": null,
            "_model_module_version": "1.2.0",
            "_view_count": null,
            "flex_flow": null,
            "width": null,
            "min_width": null,
            "border": null,
            "align_items": null,
            "bottom": null,
            "_model_module": "@jupyter-widgets/base",
            "top": null,
            "grid_column": null,
            "overflow_y": null,
            "overflow_x": null,
            "grid_auto_flow": null,
            "grid_area": null,
            "grid_template_columns": null,
            "flex": null,
            "_model_name": "LayoutModel",
            "justify_items": null,
            "grid_row": null,
            "max_height": null,
            "align_content": null,
            "visibility": null,
            "align_self": null,
            "height": null,
            "min_height": null,
            "padding": null,
            "grid_auto_rows": null,
            "grid_gap": null,
            "max_width": null,
            "order": null,
            "_view_module_version": "1.2.0",
            "grid_template_areas": null,
            "object_position": null,
            "object_fit": null,
            "grid_auto_columns": null,
            "margin": null,
            "display": null,
            "left": null
          }
        },
        "ad52121c6dd245eeba2ee69fdfcc4069": {
          "model_module": "@jupyter-widgets/controls",
          "model_name": "HBoxModel",
          "state": {
            "_view_name": "HBoxView",
            "_dom_classes": [],
            "_model_name": "HBoxModel",
            "_view_module": "@jupyter-widgets/controls",
            "_model_module_version": "1.5.0",
            "_view_count": null,
            "_view_module_version": "1.5.0",
            "box_style": "",
            "layout": "IPY_MODEL_e410a40ca04742cd82633375ac9184e5",
            "_model_module": "@jupyter-widgets/controls",
            "children": [
              "IPY_MODEL_234f3621b2214c44a4cfd63fd6fc54f5",
              "IPY_MODEL_cc9673167d9c4b11bc7cf5fbfaf2ec1f"
            ]
          }
        },
        "e410a40ca04742cd82633375ac9184e5": {
          "model_module": "@jupyter-widgets/base",
          "model_name": "LayoutModel",
          "state": {
            "_view_name": "LayoutView",
            "grid_template_rows": null,
            "right": null,
            "justify_content": null,
            "_view_module": "@jupyter-widgets/base",
            "overflow": null,
            "_model_module_version": "1.2.0",
            "_view_count": null,
            "flex_flow": null,
            "width": null,
            "min_width": null,
            "border": null,
            "align_items": null,
            "bottom": null,
            "_model_module": "@jupyter-widgets/base",
            "top": null,
            "grid_column": null,
            "overflow_y": null,
            "overflow_x": null,
            "grid_auto_flow": null,
            "grid_area": null,
            "grid_template_columns": null,
            "flex": null,
            "_model_name": "LayoutModel",
            "justify_items": null,
            "grid_row": null,
            "max_height": null,
            "align_content": null,
            "visibility": null,
            "align_self": null,
            "height": null,
            "min_height": null,
            "padding": null,
            "grid_auto_rows": null,
            "grid_gap": null,
            "max_width": null,
            "order": null,
            "_view_module_version": "1.2.0",
            "grid_template_areas": null,
            "object_position": null,
            "object_fit": null,
            "grid_auto_columns": null,
            "margin": null,
            "display": null,
            "left": null
          }
        },
        "234f3621b2214c44a4cfd63fd6fc54f5": {
          "model_module": "@jupyter-widgets/controls",
          "model_name": "FloatProgressModel",
          "state": {
            "_view_name": "ProgressView",
            "style": "IPY_MODEL_b65df4517bc74578a683c60a30b4f4f3",
            "_dom_classes": [],
            "description": "",
            "_model_name": "FloatProgressModel",
            "bar_style": "success",
            "max": 1,
            "_view_module": "@jupyter-widgets/controls",
            "_model_module_version": "1.5.0",
            "value": 1,
            "_view_count": null,
            "_view_module_version": "1.5.0",
            "orientation": "horizontal",
            "min": 0,
            "description_tooltip": null,
            "_model_module": "@jupyter-widgets/controls",
            "layout": "IPY_MODEL_96b781f8e2874157937a544d175d6c7d"
          }
        },
        "cc9673167d9c4b11bc7cf5fbfaf2ec1f": {
          "model_module": "@jupyter-widgets/controls",
          "model_name": "HTMLModel",
          "state": {
            "_view_name": "HTMLView",
            "style": "IPY_MODEL_545aecbd432544b98edd021857c53166",
            "_dom_classes": [],
            "description": "",
            "_model_name": "HTMLModel",
            "placeholder": "​",
            "_view_module": "@jupyter-widgets/controls",
            "_model_module_version": "1.5.0",
            "value": " 1654784/? [00:00&lt;00:00, 3540972.43it/s]",
            "_view_count": null,
            "_view_module_version": "1.5.0",
            "description_tooltip": null,
            "_model_module": "@jupyter-widgets/controls",
            "layout": "IPY_MODEL_3b370cddbf814b4c8dd4ea25905ddd28"
          }
        },
        "b65df4517bc74578a683c60a30b4f4f3": {
          "model_module": "@jupyter-widgets/controls",
          "model_name": "ProgressStyleModel",
          "state": {
            "_view_name": "StyleView",
            "_model_name": "ProgressStyleModel",
            "description_width": "initial",
            "_view_module": "@jupyter-widgets/base",
            "_model_module_version": "1.5.0",
            "_view_count": null,
            "_view_module_version": "1.2.0",
            "bar_color": null,
            "_model_module": "@jupyter-widgets/controls"
          }
        },
        "96b781f8e2874157937a544d175d6c7d": {
          "model_module": "@jupyter-widgets/base",
          "model_name": "LayoutModel",
          "state": {
            "_view_name": "LayoutView",
            "grid_template_rows": null,
            "right": null,
            "justify_content": null,
            "_view_module": "@jupyter-widgets/base",
            "overflow": null,
            "_model_module_version": "1.2.0",
            "_view_count": null,
            "flex_flow": null,
            "width": null,
            "min_width": null,
            "border": null,
            "align_items": null,
            "bottom": null,
            "_model_module": "@jupyter-widgets/base",
            "top": null,
            "grid_column": null,
            "overflow_y": null,
            "overflow_x": null,
            "grid_auto_flow": null,
            "grid_area": null,
            "grid_template_columns": null,
            "flex": null,
            "_model_name": "LayoutModel",
            "justify_items": null,
            "grid_row": null,
            "max_height": null,
            "align_content": null,
            "visibility": null,
            "align_self": null,
            "height": null,
            "min_height": null,
            "padding": null,
            "grid_auto_rows": null,
            "grid_gap": null,
            "max_width": null,
            "order": null,
            "_view_module_version": "1.2.0",
            "grid_template_areas": null,
            "object_position": null,
            "object_fit": null,
            "grid_auto_columns": null,
            "margin": null,
            "display": null,
            "left": null
          }
        },
        "545aecbd432544b98edd021857c53166": {
          "model_module": "@jupyter-widgets/controls",
          "model_name": "DescriptionStyleModel",
          "state": {
            "_view_name": "StyleView",
            "_model_name": "DescriptionStyleModel",
            "description_width": "",
            "_view_module": "@jupyter-widgets/base",
            "_model_module_version": "1.5.0",
            "_view_count": null,
            "_view_module_version": "1.2.0",
            "_model_module": "@jupyter-widgets/controls"
          }
        },
        "3b370cddbf814b4c8dd4ea25905ddd28": {
          "model_module": "@jupyter-widgets/base",
          "model_name": "LayoutModel",
          "state": {
            "_view_name": "LayoutView",
            "grid_template_rows": null,
            "right": null,
            "justify_content": null,
            "_view_module": "@jupyter-widgets/base",
            "overflow": null,
            "_model_module_version": "1.2.0",
            "_view_count": null,
            "flex_flow": null,
            "width": null,
            "min_width": null,
            "border": null,
            "align_items": null,
            "bottom": null,
            "_model_module": "@jupyter-widgets/base",
            "top": null,
            "grid_column": null,
            "overflow_y": null,
            "overflow_x": null,
            "grid_auto_flow": null,
            "grid_area": null,
            "grid_template_columns": null,
            "flex": null,
            "_model_name": "LayoutModel",
            "justify_items": null,
            "grid_row": null,
            "max_height": null,
            "align_content": null,
            "visibility": null,
            "align_self": null,
            "height": null,
            "min_height": null,
            "padding": null,
            "grid_auto_rows": null,
            "grid_gap": null,
            "max_width": null,
            "order": null,
            "_view_module_version": "1.2.0",
            "grid_template_areas": null,
            "object_position": null,
            "object_fit": null,
            "grid_auto_columns": null,
            "margin": null,
            "display": null,
            "left": null
          }
        },
        "52b29b0c51444611acfef8423cbc4c5c": {
          "model_module": "@jupyter-widgets/controls",
          "model_name": "HBoxModel",
          "state": {
            "_view_name": "HBoxView",
            "_dom_classes": [],
            "_model_name": "HBoxModel",
            "_view_module": "@jupyter-widgets/controls",
            "_model_module_version": "1.5.0",
            "_view_count": null,
            "_view_module_version": "1.5.0",
            "box_style": "",
            "layout": "IPY_MODEL_651bd4d681384680a1854970d30f7c35",
            "_model_module": "@jupyter-widgets/controls",
            "children": [
              "IPY_MODEL_98b5d542b31a47f2a1288e8736f33c87",
              "IPY_MODEL_f106fee844a14fcbba25ec4a7152538e"
            ]
          }
        },
        "651bd4d681384680a1854970d30f7c35": {
          "model_module": "@jupyter-widgets/base",
          "model_name": "LayoutModel",
          "state": {
            "_view_name": "LayoutView",
            "grid_template_rows": null,
            "right": null,
            "justify_content": null,
            "_view_module": "@jupyter-widgets/base",
            "overflow": null,
            "_model_module_version": "1.2.0",
            "_view_count": null,
            "flex_flow": null,
            "width": null,
            "min_width": null,
            "border": null,
            "align_items": null,
            "bottom": null,
            "_model_module": "@jupyter-widgets/base",
            "top": null,
            "grid_column": null,
            "overflow_y": null,
            "overflow_x": null,
            "grid_auto_flow": null,
            "grid_area": null,
            "grid_template_columns": null,
            "flex": null,
            "_model_name": "LayoutModel",
            "justify_items": null,
            "grid_row": null,
            "max_height": null,
            "align_content": null,
            "visibility": null,
            "align_self": null,
            "height": null,
            "min_height": null,
            "padding": null,
            "grid_auto_rows": null,
            "grid_gap": null,
            "max_width": null,
            "order": null,
            "_view_module_version": "1.2.0",
            "grid_template_areas": null,
            "object_position": null,
            "object_fit": null,
            "grid_auto_columns": null,
            "margin": null,
            "display": null,
            "left": null
          }
        },
        "98b5d542b31a47f2a1288e8736f33c87": {
          "model_module": "@jupyter-widgets/controls",
          "model_name": "FloatProgressModel",
          "state": {
            "_view_name": "ProgressView",
            "style": "IPY_MODEL_c1a500982a484ae295922198bc12c8a4",
            "_dom_classes": [],
            "description": "",
            "_model_name": "FloatProgressModel",
            "bar_style": "success",
            "max": 1,
            "_view_module": "@jupyter-widgets/controls",
            "_model_module_version": "1.5.0",
            "value": 1,
            "_view_count": null,
            "_view_module_version": "1.5.0",
            "orientation": "horizontal",
            "min": 0,
            "description_tooltip": null,
            "_model_module": "@jupyter-widgets/controls",
            "layout": "IPY_MODEL_db0d1fbea9ac46cd935edfc1e58102f1"
          }
        },
        "f106fee844a14fcbba25ec4a7152538e": {
          "model_module": "@jupyter-widgets/controls",
          "model_name": "HTMLModel",
          "state": {
            "_view_name": "HTMLView",
            "style": "IPY_MODEL_49f1516dbeac4fb197d1bc8575bc022f",
            "_dom_classes": [],
            "description": "",
            "_model_name": "HTMLModel",
            "placeholder": "​",
            "_view_module": "@jupyter-widgets/controls",
            "_model_module_version": "1.5.0",
            "value": " 8192/? [00:00&lt;00:00, 39881.72it/s]",
            "_view_count": null,
            "_view_module_version": "1.5.0",
            "description_tooltip": null,
            "_model_module": "@jupyter-widgets/controls",
            "layout": "IPY_MODEL_8bb20e3c020f483b8f38707ccbedd1d5"
          }
        },
        "c1a500982a484ae295922198bc12c8a4": {
          "model_module": "@jupyter-widgets/controls",
          "model_name": "ProgressStyleModel",
          "state": {
            "_view_name": "StyleView",
            "_model_name": "ProgressStyleModel",
            "description_width": "initial",
            "_view_module": "@jupyter-widgets/base",
            "_model_module_version": "1.5.0",
            "_view_count": null,
            "_view_module_version": "1.2.0",
            "bar_color": null,
            "_model_module": "@jupyter-widgets/controls"
          }
        },
        "db0d1fbea9ac46cd935edfc1e58102f1": {
          "model_module": "@jupyter-widgets/base",
          "model_name": "LayoutModel",
          "state": {
            "_view_name": "LayoutView",
            "grid_template_rows": null,
            "right": null,
            "justify_content": null,
            "_view_module": "@jupyter-widgets/base",
            "overflow": null,
            "_model_module_version": "1.2.0",
            "_view_count": null,
            "flex_flow": null,
            "width": null,
            "min_width": null,
            "border": null,
            "align_items": null,
            "bottom": null,
            "_model_module": "@jupyter-widgets/base",
            "top": null,
            "grid_column": null,
            "overflow_y": null,
            "overflow_x": null,
            "grid_auto_flow": null,
            "grid_area": null,
            "grid_template_columns": null,
            "flex": null,
            "_model_name": "LayoutModel",
            "justify_items": null,
            "grid_row": null,
            "max_height": null,
            "align_content": null,
            "visibility": null,
            "align_self": null,
            "height": null,
            "min_height": null,
            "padding": null,
            "grid_auto_rows": null,
            "grid_gap": null,
            "max_width": null,
            "order": null,
            "_view_module_version": "1.2.0",
            "grid_template_areas": null,
            "object_position": null,
            "object_fit": null,
            "grid_auto_columns": null,
            "margin": null,
            "display": null,
            "left": null
          }
        },
        "49f1516dbeac4fb197d1bc8575bc022f": {
          "model_module": "@jupyter-widgets/controls",
          "model_name": "DescriptionStyleModel",
          "state": {
            "_view_name": "StyleView",
            "_model_name": "DescriptionStyleModel",
            "description_width": "",
            "_view_module": "@jupyter-widgets/base",
            "_model_module_version": "1.5.0",
            "_view_count": null,
            "_view_module_version": "1.2.0",
            "_model_module": "@jupyter-widgets/controls"
          }
        },
        "8bb20e3c020f483b8f38707ccbedd1d5": {
          "model_module": "@jupyter-widgets/base",
          "model_name": "LayoutModel",
          "state": {
            "_view_name": "LayoutView",
            "grid_template_rows": null,
            "right": null,
            "justify_content": null,
            "_view_module": "@jupyter-widgets/base",
            "overflow": null,
            "_model_module_version": "1.2.0",
            "_view_count": null,
            "flex_flow": null,
            "width": null,
            "min_width": null,
            "border": null,
            "align_items": null,
            "bottom": null,
            "_model_module": "@jupyter-widgets/base",
            "top": null,
            "grid_column": null,
            "overflow_y": null,
            "overflow_x": null,
            "grid_auto_flow": null,
            "grid_area": null,
            "grid_template_columns": null,
            "flex": null,
            "_model_name": "LayoutModel",
            "justify_items": null,
            "grid_row": null,
            "max_height": null,
            "align_content": null,
            "visibility": null,
            "align_self": null,
            "height": null,
            "min_height": null,
            "padding": null,
            "grid_auto_rows": null,
            "grid_gap": null,
            "max_width": null,
            "order": null,
            "_view_module_version": "1.2.0",
            "grid_template_areas": null,
            "object_position": null,
            "object_fit": null,
            "grid_auto_columns": null,
            "margin": null,
            "display": null,
            "left": null
          }
        }
      }
    }
  },
  "cells": [
    {
      "cell_type": "markdown",
      "metadata": {
        "id": "tlKVrbcYHwXi",
        "colab_type": "text"
      },
      "source": [
        "Deep Learning Models -- A collection of various deep learning architectures, models, and tips for TensorFlow and PyTorch in Jupyter Notebooks.\n",
        "- Author: Sebastian Raschka\n",
        "- GitHub Repository: https://github.com/rasbt/deeplearning-models"
      ]
    },
    {
      "cell_type": "code",
      "metadata": {
        "id": "odektL1sH6VE",
        "colab_type": "code",
        "colab": {}
      },
      "source": [
        "!pip install -q IPython\n",
        "!pip install -q ipykernel\n",
        "!pip install -q watermark\n",
        "!pip install -q matplotlib\n",
        "!pip install -q sklearn\n",
        "!pip install -q pandas\n",
        "!pip install -q pydot\n",
        "!pip install -q hiddenlayer\n",
        "!pip install -q graphviz"
      ],
      "execution_count": 1,
      "outputs": []
    },
    {
      "cell_type": "code",
      "metadata": {
        "id": "02GEHpAzHwXk",
        "colab_type": "code",
        "colab": {
          "base_uri": "https://localhost:8080/",
          "height": 121
        },
        "outputId": "8914bd10-a6af-4ee6-aae5-248b4e55c6c3"
      },
      "source": [
        "%load_ext watermark\n",
        "%watermark -a 'Sebastian Raschka' -v -p torch"
      ],
      "execution_count": 2,
      "outputs": [
        {
          "output_type": "stream",
          "text": [
            "Sebastian Raschka \n",
            "\n",
            "CPython 3.6.9\n",
            "IPython 5.5.0\n",
            "\n",
            "torch 1.5.1+cu101\n"
          ],
          "name": "stdout"
        }
      ]
    },
    {
      "cell_type": "markdown",
      "metadata": {
        "id": "dNcI4Ku3HwXo",
        "colab_type": "text"
      },
      "source": [
        "- Runs on CPU or GPU (if available)"
      ]
    },
    {
      "cell_type": "markdown",
      "metadata": {
        "id": "5OlyKEoWHwXp",
        "colab_type": "text"
      },
      "source": [
        "# Model Zoo -- Convolutional ResNet and Residual Blocks"
      ]
    },
    {
      "cell_type": "markdown",
      "metadata": {
        "id": "LuSxDgJRHwXq",
        "colab_type": "text"
      },
      "source": [
        "Please note that this example does not implement a really deep ResNet as described in literature but rather illustrates how the residual blocks described in He et al. [1] can be implemented in PyTorch.\n",
        "\n",
        "- [1] He, Kaiming, et al. \"Deep residual learning for image recognition.\" *Proceedings of the IEEE conference on computer vision and pattern recognition*. 2016."
      ]
    },
    {
      "cell_type": "markdown",
      "metadata": {
        "id": "7ArbHA9PHwXq",
        "colab_type": "text"
      },
      "source": [
        "## Imports"
      ]
    },
    {
      "cell_type": "code",
      "metadata": {
        "id": "TKvcqcwXHwXr",
        "colab_type": "code",
        "colab": {}
      },
      "source": [
        "import time\n",
        "import numpy as np\n",
        "import torch\n",
        "import torch.nn.functional as F\n",
        "from torch.utils.data import DataLoader\n",
        "from torchvision import datasets\n",
        "from torchvision import transforms\n",
        "\n",
        "\n",
        "if torch.cuda.is_available():\n",
        "    torch.backends.cudnn.deterministic = True"
      ],
      "execution_count": 3,
      "outputs": []
    },
    {
      "cell_type": "markdown",
      "metadata": {
        "id": "Q2NJ_ZwJHwXu",
        "colab_type": "text"
      },
      "source": [
        "## Settings and Dataset"
      ]
    },
    {
      "cell_type": "code",
      "metadata": {
        "id": "sYwZQ6FxHwXv",
        "colab_type": "code",
        "colab": {
          "base_uri": "https://localhost:8080/",
          "height": 441,
          "referenced_widgets": [
            "e22553b9add74417b21ace2fd910467b",
            "abea5510a6cc4635b79d09a31c3afa98",
            "3f835978dfdd47afb17beefd0997de22",
            "1d2d8cbbbdcd432085146362775cf972",
            "cce61ca043014bdaa2a75267cc9aae88",
            "1f3ee198a13b4c5daf02f0ccbac104bb",
            "b361a7562d994afaa12f84763a2e985d",
            "e8ef099295db488180374f1645e579c1",
            "48d21f0bb19843e6b54b4f9e06fa7f96",
            "7767e051607447e4a4e77069822a027e",
            "97a576029c324fbdbcc3065f92c9cba4",
            "183e324ff7ed442893c89d08e65e2a76",
            "2b5560c131f94a2f83be8b399c8ccb37",
            "ea2dbd2359f3405ab7ec0d3616b6815e",
            "95beac7ae520411f8f8cfb0219796164",
            "89187ae506ca4868b63d912c40b49654",
            "ad52121c6dd245eeba2ee69fdfcc4069",
            "e410a40ca04742cd82633375ac9184e5",
            "234f3621b2214c44a4cfd63fd6fc54f5",
            "cc9673167d9c4b11bc7cf5fbfaf2ec1f",
            "b65df4517bc74578a683c60a30b4f4f3",
            "96b781f8e2874157937a544d175d6c7d",
            "545aecbd432544b98edd021857c53166",
            "3b370cddbf814b4c8dd4ea25905ddd28",
            "52b29b0c51444611acfef8423cbc4c5c",
            "651bd4d681384680a1854970d30f7c35",
            "98b5d542b31a47f2a1288e8736f33c87",
            "f106fee844a14fcbba25ec4a7152538e",
            "c1a500982a484ae295922198bc12c8a4",
            "db0d1fbea9ac46cd935edfc1e58102f1",
            "49f1516dbeac4fb197d1bc8575bc022f",
            "8bb20e3c020f483b8f38707ccbedd1d5"
          ]
        },
        "outputId": "3f18221d-d9a8-49e3-f584-058c30a2a10b"
      },
      "source": [
        "##########################\n",
        "### SETTINGS\n",
        "##########################\n",
        "\n",
        "# Device\n",
        "device = torch.device(\"cuda\" if torch.cuda.is_available() else \"cpu\")\n",
        "\n",
        "# Hyperparameters\n",
        "random_seed = 123\n",
        "learning_rate = 0.01\n",
        "num_epochs = 10\n",
        "batch_size = 128\n",
        "\n",
        "# Architecture\n",
        "num_classes = 10\n",
        "\n",
        "\n",
        "##########################\n",
        "### MNIST DATASET\n",
        "##########################\n",
        "\n",
        "# Note transforms.ToTensor() scales input images\n",
        "# to 0-1 range\n",
        "train_dataset = datasets.MNIST(root='data', \n",
        "                               train=True, \n",
        "                               transform=transforms.ToTensor(),\n",
        "                               download=True)\n",
        "\n",
        "test_dataset = datasets.MNIST(root='data', \n",
        "                              train=False, \n",
        "                              transform=transforms.ToTensor())\n",
        "\n",
        "\n",
        "train_loader = DataLoader(dataset=train_dataset, \n",
        "                          batch_size=batch_size, \n",
        "                          shuffle=True)\n",
        "\n",
        "test_loader = DataLoader(dataset=test_dataset, \n",
        "                         batch_size=batch_size, \n",
        "                         shuffle=False)\n",
        "\n",
        "# Checking the dataset\n",
        "for images, labels in train_loader:  \n",
        "    print('Image batch dimensions:', images.shape)\n",
        "    print('Image label dimensions:', labels.shape)\n",
        "    break"
      ],
      "execution_count": 4,
      "outputs": [
        {
          "output_type": "stream",
          "text": [
            "Downloading http://yann.lecun.com/exdb/mnist/train-images-idx3-ubyte.gz to data/MNIST/raw/train-images-idx3-ubyte.gz\n"
          ],
          "name": "stdout"
        },
        {
          "output_type": "display_data",
          "data": {
            "application/vnd.jupyter.widget-view+json": {
              "model_id": "e22553b9add74417b21ace2fd910467b",
              "version_minor": 0,
              "version_major": 2
            },
            "text/plain": [
              "HBox(children=(FloatProgress(value=1.0, bar_style='info', max=1.0), HTML(value='')))"
            ]
          },
          "metadata": {
            "tags": []
          }
        },
        {
          "output_type": "stream",
          "text": [
            "Extracting data/MNIST/raw/train-images-idx3-ubyte.gz to data/MNIST/raw\n",
            "Downloading http://yann.lecun.com/exdb/mnist/train-labels-idx1-ubyte.gz to data/MNIST/raw/train-labels-idx1-ubyte.gz\n"
          ],
          "name": "stdout"
        },
        {
          "output_type": "display_data",
          "data": {
            "application/vnd.jupyter.widget-view+json": {
              "model_id": "48d21f0bb19843e6b54b4f9e06fa7f96",
              "version_minor": 0,
              "version_major": 2
            },
            "text/plain": [
              "HBox(children=(FloatProgress(value=1.0, bar_style='info', max=1.0), HTML(value='')))"
            ]
          },
          "metadata": {
            "tags": []
          }
        },
        {
          "output_type": "stream",
          "text": [
            "Extracting data/MNIST/raw/train-labels-idx1-ubyte.gz to data/MNIST/raw\n",
            "Downloading http://yann.lecun.com/exdb/mnist/t10k-images-idx3-ubyte.gz to data/MNIST/raw/t10k-images-idx3-ubyte.gz\n"
          ],
          "name": "stdout"
        },
        {
          "output_type": "display_data",
          "data": {
            "application/vnd.jupyter.widget-view+json": {
              "model_id": "ad52121c6dd245eeba2ee69fdfcc4069",
              "version_minor": 0,
              "version_major": 2
            },
            "text/plain": [
              "HBox(children=(FloatProgress(value=1.0, bar_style='info', max=1.0), HTML(value='')))"
            ]
          },
          "metadata": {
            "tags": []
          }
        },
        {
          "output_type": "stream",
          "text": [
            "Extracting data/MNIST/raw/t10k-images-idx3-ubyte.gz to data/MNIST/raw\n",
            "Downloading http://yann.lecun.com/exdb/mnist/t10k-labels-idx1-ubyte.gz to data/MNIST/raw/t10k-labels-idx1-ubyte.gz\n"
          ],
          "name": "stdout"
        },
        {
          "output_type": "display_data",
          "data": {
            "application/vnd.jupyter.widget-view+json": {
              "model_id": "52b29b0c51444611acfef8423cbc4c5c",
              "version_minor": 0,
              "version_major": 2
            },
            "text/plain": [
              "HBox(children=(FloatProgress(value=1.0, bar_style='info', max=1.0), HTML(value='')))"
            ]
          },
          "metadata": {
            "tags": []
          }
        },
        {
          "output_type": "stream",
          "text": [
            "Extracting data/MNIST/raw/t10k-labels-idx1-ubyte.gz to data/MNIST/raw\n",
            "Processing...\n",
            "Done!\n",
            "\n",
            "\n",
            "\n",
            "Image batch dimensions: torch.Size([128, 1, 28, 28])\n",
            "Image label dimensions: torch.Size([128])\n"
          ],
          "name": "stdout"
        },
        {
          "output_type": "stream",
          "text": [
            "/pytorch/torch/csrc/utils/tensor_numpy.cpp:141: UserWarning: The given NumPy array is not writeable, and PyTorch does not support non-writeable tensors. This means you can write to the underlying (supposedly non-writeable) NumPy array using the tensor. You may want to copy the array to protect its data or make it writeable before converting it to a tensor. This type of warning will be suppressed for the rest of this program.\n"
          ],
          "name": "stderr"
        }
      ]
    },
    {
      "cell_type": "markdown",
      "metadata": {
        "id": "TgDMZSn9HwXx",
        "colab_type": "text"
      },
      "source": [
        "## ResNet with identity blocks"
      ]
    },
    {
      "cell_type": "markdown",
      "metadata": {
        "id": "OhQMpz45HwXy",
        "colab_type": "text"
      },
      "source": [
        "The following code implements the residual blocks with skip connections such that the input passed via the shortcut matches the dimensions of the main path's output, which allows the network to learn identity functions. Such a residual block is illustrated below:\n",
        "\n",
        "![](https://github.com/DeepSE/deeplearning-models/blob/master/pytorch_ipynb/images/resnets/resnet-ex-1-1.png?raw=1)"
      ]
    },
    {
      "cell_type": "code",
      "metadata": {
        "id": "nR02x-HBHwX0",
        "colab_type": "code",
        "colab": {}
      },
      "source": [
        "##########################\n",
        "### MODEL\n",
        "##########################\n",
        "\n",
        "\n",
        "\n",
        "class ConvNet(torch.nn.Module):\n",
        "\n",
        "    def __init__(self, num_classes):\n",
        "        super(ConvNet, self).__init__()\n",
        "        \n",
        "        #########################\n",
        "        ### 1st residual block\n",
        "        #########################\n",
        "        # 28x28x1 => 28x28x4\n",
        "        self.conv_1 = torch.nn.Conv2d(in_channels=1,\n",
        "                                      out_channels=4,\n",
        "                                      kernel_size=(1, 1),\n",
        "                                      stride=(1, 1),\n",
        "                                      padding=0)\n",
        "        self.conv_1_bn = torch.nn.BatchNorm2d(4)\n",
        "                                    \n",
        "        # 28x28x4 => 28x28x1\n",
        "        self.conv_2 = torch.nn.Conv2d(in_channels=4,\n",
        "                                      out_channels=1,\n",
        "                                      kernel_size=(3, 3),\n",
        "                                      stride=(1, 1),\n",
        "                                      padding=1)   \n",
        "        self.conv_2_bn = torch.nn.BatchNorm2d(1)\n",
        "        \n",
        "        \n",
        "        #########################\n",
        "        ### 2nd residual block\n",
        "        #########################\n",
        "        # 28x28x1 => 28x28x4\n",
        "        self.conv_3 = torch.nn.Conv2d(in_channels=1,\n",
        "                                      out_channels=4,\n",
        "                                      kernel_size=(1, 1),\n",
        "                                      stride=(1, 1),\n",
        "                                      padding=0)\n",
        "        self.conv_3_bn = torch.nn.BatchNorm2d(4)\n",
        "                                    \n",
        "        # 28x28x4 => 28x28x1\n",
        "        self.conv_4 = torch.nn.Conv2d(in_channels=4,\n",
        "                                      out_channels=1,\n",
        "                                      kernel_size=(3, 3),\n",
        "                                      stride=(1, 1),\n",
        "                                      padding=1)   \n",
        "        self.conv_4_bn = torch.nn.BatchNorm2d(1)\n",
        "\n",
        "        #########################\n",
        "        ### Fully connected\n",
        "        #########################        \n",
        "        self.linear_1 = torch.nn.Linear(28*28*1, num_classes)\n",
        "\n",
        "        \n",
        "    def forward(self, x):\n",
        "        \n",
        "        #########################\n",
        "        ### 1st residual block\n",
        "        #########################\n",
        "        shortcut = x\n",
        "        \n",
        "        out = self.conv_1(x)\n",
        "        out = self.conv_1_bn(out)\n",
        "        out = F.relu(out)\n",
        "\n",
        "        out = self.conv_2(out)\n",
        "        out = self.conv_2_bn(out)\n",
        "        \n",
        "        out += shortcut\n",
        "        out = F.relu(out)\n",
        "        \n",
        "        #########################\n",
        "        ### 2nd residual block\n",
        "        #########################\n",
        "        \n",
        "        shortcut = out\n",
        "        \n",
        "        out = self.conv_3(out)\n",
        "        out = self.conv_3_bn(out)\n",
        "        out = F.relu(out)\n",
        "\n",
        "        out = self.conv_4(out)\n",
        "        out = self.conv_4_bn(out)\n",
        "        \n",
        "        out += shortcut\n",
        "        out = F.relu(out)\n",
        "        \n",
        "        #########################\n",
        "        ### Fully connected\n",
        "        #########################   \n",
        "        logits = self.linear_1(out.view(-1, 28*28*1))\n",
        "        probas = F.softmax(logits, dim=1)\n",
        "        return logits, probas\n",
        "\n",
        "    \n",
        "torch.manual_seed(random_seed)\n",
        "model = ConvNet(num_classes=num_classes)\n",
        "model = model.to(device)\n",
        "    \n",
        "optimizer = torch.optim.Adam(model.parameters(), lr=learning_rate)  "
      ],
      "execution_count": 5,
      "outputs": []
    },
    {
      "cell_type": "code",
      "metadata": {
        "id": "lBlNbIYdH0Vl",
        "colab_type": "code",
        "colab": {
          "base_uri": "https://localhost:8080/",
          "height": 288
        },
        "outputId": "eb2c3357-ac22-413c-c817-e961a76d99b4"
      },
      "source": [
        "import hiddenlayer as hl\n",
        "hl.build_graph(model, torch.zeros([128, 1, 28, 28]).to(device))"
      ],
      "execution_count": 7,
      "outputs": [
        {
          "output_type": "execute_result",
          "data": {
            "text/plain": [
              "<hiddenlayer.graph.Graph at 0x7f0e3bee6940>"
            ],
            "image/svg+xml": "<?xml version=\"1.0\" encoding=\"UTF-8\" standalone=\"no\"?>\n<!DOCTYPE svg PUBLIC \"-//W3C//DTD SVG 1.1//EN\"\n \"http://www.w3.org/Graphics/SVG/1.1/DTD/svg11.dtd\">\n<!-- Generated by graphviz version 2.40.1 (20161225.0304)\n -->\n<!-- Title: %3 Pages: 1 -->\n<svg width=\"1813pt\" height=\"185pt\"\n viewBox=\"0.00 0.00 1813.00 185.00\" xmlns=\"http://www.w3.org/2000/svg\" xmlns:xlink=\"http://www.w3.org/1999/xlink\">\n<g id=\"graph0\" class=\"graph\" transform=\"scale(1 1) rotate(0) translate(72 149)\">\n<title>%3</title>\n<polygon fill=\"#ffffff\" stroke=\"transparent\" points=\"-72,36 -72,-149 1741,-149 1741,36 -72,36\"/>\n<!-- /outputs/44 -->\n<g id=\"node1\" class=\"node\">\n<title>/outputs/44</title>\n<polygon fill=\"#e8e8e8\" stroke=\"#000000\" points=\"441,-59 387,-59 387,-23 441,-23 441,-59\"/>\n<text text-anchor=\"start\" x=\"405\" y=\"-38\" font-family=\"Times\" font-size=\"10.00\" fill=\"#000000\">Add</text>\n</g>\n<!-- /outputs/45 -->\n<g id=\"node2\" class=\"node\">\n<title>/outputs/45</title>\n<polygon fill=\"#e8e8e8\" stroke=\"#000000\" points=\"589,-59 535,-59 535,-23 589,-23 589,-59\"/>\n<text text-anchor=\"start\" x=\"552\" y=\"-38\" font-family=\"Times\" font-size=\"10.00\" fill=\"#000000\">Relu</text>\n</g>\n<!-- /outputs/44&#45;&gt;/outputs/45 -->\n<g id=\"edge1\" class=\"edge\">\n<title>/outputs/44&#45;&gt;/outputs/45</title>\n<path fill=\"none\" stroke=\"#000000\" d=\"M441.1455,-41C464.5424,-41 498.5551,-41 524.5413,-41\"/>\n<polygon fill=\"#000000\" stroke=\"#000000\" points=\"524.7764,-44.5001 534.7764,-41 524.7764,-37.5001 524.7764,-44.5001\"/>\n<text text-anchor=\"middle\" x=\"488\" y=\"-44\" font-family=\"Times\" font-size=\"10.00\" fill=\"#000000\">128x1x28x28</text>\n</g>\n<!-- /outputs/59 -->\n<g id=\"node3\" class=\"node\">\n<title>/outputs/59</title>\n<polygon fill=\"#e8e8e8\" stroke=\"#000000\" points=\"1124,-59 1070,-59 1070,-23 1124,-23 1124,-59\"/>\n<text text-anchor=\"start\" x=\"1088\" y=\"-38\" font-family=\"Times\" font-size=\"10.00\" fill=\"#000000\">Add</text>\n</g>\n<!-- /outputs/45&#45;&gt;/outputs/59 -->\n<g id=\"edge2\" class=\"edge\">\n<title>/outputs/45&#45;&gt;/outputs/59</title>\n<path fill=\"none\" stroke=\"#000000\" d=\"M589.4765,-47.3887C595.2345,-48.4755 601.2915,-49.4347 607,-50 632.6523,-52.5401 639.2223,-50.0666 665,-50 837.0017,-49.5556 880.5443,-61.7015 1052,-48 1054.5516,-47.7961 1057.1775,-47.5318 1059.8181,-47.2257\"/>\n<polygon fill=\"#000000\" stroke=\"#000000\" points=\"1060.4992,-50.666 1069.9497,-45.8768 1059.5753,-43.7272 1060.4992,-50.666\"/>\n<text text-anchor=\"middle\" x=\"870\" y=\"-57\" font-family=\"Times\" font-size=\"10.00\" fill=\"#000000\">128x1x28x28</text>\n</g>\n<!-- 11892924257913836280 -->\n<g id=\"node10\" class=\"node\">\n<title>11892924257913836280</title>\n<polygon fill=\"#e8e8e8\" stroke=\"#000000\" points=\"823,-36 683,-36 683,0 823,0 823,-36\"/>\n<text text-anchor=\"start\" x=\"691\" y=\"-15\" font-family=\"Times\" font-size=\"10.00\" fill=\"#000000\">Conv1x1 &gt; BatchNorm &gt; Relu</text>\n</g>\n<!-- /outputs/45&#45;&gt;11892924257913836280 -->\n<g id=\"edge8\" class=\"edge\">\n<title>/outputs/45&#45;&gt;11892924257913836280</title>\n<path fill=\"none\" stroke=\"#000000\" d=\"M589.3656,-37.7047C611.2368,-35.071 643.0563,-31.2393 672.8335,-27.6536\"/>\n<polygon fill=\"#000000\" stroke=\"#000000\" points=\"673.3265,-31.1196 682.8363,-26.449 672.4895,-24.1698 673.3265,-31.1196\"/>\n<text text-anchor=\"middle\" x=\"636\" y=\"-39\" font-family=\"Times\" font-size=\"10.00\" fill=\"#000000\">128x1x28x28</text>\n</g>\n<!-- /outputs/60 -->\n<g id=\"node4\" class=\"node\">\n<title>/outputs/60</title>\n<polygon fill=\"#e8e8e8\" stroke=\"#000000\" points=\"1272,-59 1218,-59 1218,-23 1272,-23 1272,-59\"/>\n<text text-anchor=\"start\" x=\"1235\" y=\"-38\" font-family=\"Times\" font-size=\"10.00\" fill=\"#000000\">Relu</text>\n</g>\n<!-- /outputs/59&#45;&gt;/outputs/60 -->\n<g id=\"edge3\" class=\"edge\">\n<title>/outputs/59&#45;&gt;/outputs/60</title>\n<path fill=\"none\" stroke=\"#000000\" d=\"M1124.1455,-41C1147.5424,-41 1181.5551,-41 1207.5413,-41\"/>\n<polygon fill=\"#000000\" stroke=\"#000000\" points=\"1207.7764,-44.5001 1217.7764,-41 1207.7764,-37.5001 1207.7764,-44.5001\"/>\n<text text-anchor=\"middle\" x=\"1171\" y=\"-44\" font-family=\"Times\" font-size=\"10.00\" fill=\"#000000\">128x1x28x28</text>\n</g>\n<!-- /outputs/62 -->\n<g id=\"node6\" class=\"node\">\n<title>/outputs/62</title>\n<polygon fill=\"#e8e8e8\" stroke=\"#000000\" points=\"1420,-86 1366,-86 1366,-50 1420,-50 1420,-86\"/>\n<text text-anchor=\"start\" x=\"1376\" y=\"-65\" font-family=\"Times\" font-size=\"10.00\" fill=\"#000000\">Reshape</text>\n</g>\n<!-- /outputs/60&#45;&gt;/outputs/62 -->\n<g id=\"edge4\" class=\"edge\">\n<title>/outputs/60&#45;&gt;/outputs/62</title>\n<path fill=\"none\" stroke=\"#000000\" d=\"M1272.1455,-45.9522C1295.6464,-50.2395 1329.8577,-56.4808 1355.8873,-61.2294\"/>\n<polygon fill=\"#000000\" stroke=\"#000000\" points=\"1355.3106,-64.6819 1365.7764,-63.0335 1356.567,-57.7956 1355.3106,-64.6819\"/>\n<text text-anchor=\"middle\" x=\"1319\" y=\"-62\" font-family=\"Times\" font-size=\"10.00\" fill=\"#000000\">128x1x28x28</text>\n</g>\n<!-- /outputs/61 -->\n<g id=\"node5\" class=\"node\">\n<title>/outputs/61</title>\n<polygon fill=\"#e8e8e8\" stroke=\"#000000\" points=\"1272,-113 1218,-113 1218,-77 1272,-77 1272,-113\"/>\n<text text-anchor=\"start\" x=\"1227\" y=\"-92\" font-family=\"Times\" font-size=\"10.00\" fill=\"#000000\">Constant</text>\n</g>\n<!-- /outputs/61&#45;&gt;/outputs/62 -->\n<g id=\"edge5\" class=\"edge\">\n<title>/outputs/61&#45;&gt;/outputs/62</title>\n<path fill=\"none\" stroke=\"#000000\" d=\"M1272.1455,-90.0478C1295.6464,-85.7605 1329.8577,-79.5192 1355.8873,-74.7706\"/>\n<polygon fill=\"#000000\" stroke=\"#000000\" points=\"1356.567,-78.2044 1365.7764,-72.9665 1355.3106,-71.3181 1356.567,-78.2044\"/>\n</g>\n<!-- /outputs/63 -->\n<g id=\"node7\" class=\"node\">\n<title>/outputs/63</title>\n<polygon fill=\"#e8e8e8\" stroke=\"#000000\" points=\"1547,-86 1493,-86 1493,-50 1547,-50 1547,-86\"/>\n<text text-anchor=\"start\" x=\"1507\" y=\"-65\" font-family=\"Times\" font-size=\"10.00\" fill=\"#000000\">Linear</text>\n</g>\n<!-- /outputs/62&#45;&gt;/outputs/63 -->\n<g id=\"edge6\" class=\"edge\">\n<title>/outputs/62&#45;&gt;/outputs/63</title>\n<path fill=\"none\" stroke=\"#000000\" d=\"M1420.2447,-68C1438.492,-68 1462.746,-68 1482.7693,-68\"/>\n<polygon fill=\"#000000\" stroke=\"#000000\" points=\"1482.8004,-71.5001 1492.8004,-68 1482.8003,-64.5001 1482.8004,-71.5001\"/>\n<text text-anchor=\"middle\" x=\"1456.5\" y=\"-71\" font-family=\"Times\" font-size=\"10.00\" fill=\"#000000\">128x784</text>\n</g>\n<!-- /outputs/64 -->\n<g id=\"node8\" class=\"node\">\n<title>/outputs/64</title>\n<polygon fill=\"#e8e8e8\" stroke=\"#000000\" points=\"1669,-86 1615,-86 1615,-50 1669,-50 1669,-86\"/>\n<text text-anchor=\"start\" x=\"1625\" y=\"-65\" font-family=\"Times\" font-size=\"10.00\" fill=\"#000000\">Softmax</text>\n</g>\n<!-- /outputs/63&#45;&gt;/outputs/64 -->\n<g id=\"edge7\" class=\"edge\">\n<title>/outputs/63&#45;&gt;/outputs/64</title>\n<path fill=\"none\" stroke=\"#000000\" d=\"M1547.0758,-68C1564.0553,-68 1586.1767,-68 1604.7924,-68\"/>\n<polygon fill=\"#000000\" stroke=\"#000000\" points=\"1605,-71.5001 1614.9999,-68 1604.9999,-64.5001 1605,-71.5001\"/>\n<text text-anchor=\"middle\" x=\"1581\" y=\"-71\" font-family=\"Times\" font-size=\"10.00\" fill=\"#000000\">128x10</text>\n</g>\n<!-- 2643940150924624656 -->\n<g id=\"node9\" class=\"node\">\n<title>2643940150924624656</title>\n<polygon fill=\"#e8e8e8\" stroke=\"#000000\" points=\"140,-59 0,-59 0,-23 140,-23 140,-59\"/>\n<text text-anchor=\"start\" x=\"8\" y=\"-38\" font-family=\"Times\" font-size=\"10.00\" fill=\"#000000\">Conv1x1 &gt; BatchNorm &gt; Relu</text>\n</g>\n<!-- 11089637624373389325 -->\n<g id=\"node11\" class=\"node\">\n<title>11089637624373389325</title>\n<polygon fill=\"#e8e8e8\" stroke=\"#000000\" points=\"345,-59 234,-59 234,-23 345,-23 345,-59\"/>\n<text text-anchor=\"start\" x=\"242.5\" y=\"-38\" font-family=\"Times\" font-size=\"10.00\" fill=\"#000000\">Conv3x3 &gt; BatchNorm</text>\n</g>\n<!-- 2643940150924624656&#45;&gt;11089637624373389325 -->\n<g id=\"edge9\" class=\"edge\">\n<title>2643940150924624656&#45;&gt;11089637624373389325</title>\n<path fill=\"none\" stroke=\"#000000\" d=\"M140.0547,-41C166.8591,-41 197.3145,-41 223.7071,-41\"/>\n<polygon fill=\"#000000\" stroke=\"#000000\" points=\"223.9846,-44.5001 233.9846,-41 223.9845,-37.5001 223.9846,-44.5001\"/>\n<text text-anchor=\"middle\" x=\"187\" y=\"-44\" font-family=\"Times\" font-size=\"10.00\" fill=\"#000000\">128x4x28x28</text>\n</g>\n<!-- 4288602134580613701 -->\n<g id=\"node12\" class=\"node\">\n<title>4288602134580613701</title>\n<polygon fill=\"#e8e8e8\" stroke=\"#000000\" points=\"1028,-36 917,-36 917,0 1028,0 1028,-36\"/>\n<text text-anchor=\"start\" x=\"925.5\" y=\"-15\" font-family=\"Times\" font-size=\"10.00\" fill=\"#000000\">Conv3x3 &gt; BatchNorm</text>\n</g>\n<!-- 11892924257913836280&#45;&gt;4288602134580613701 -->\n<g id=\"edge11\" class=\"edge\">\n<title>11892924257913836280&#45;&gt;4288602134580613701</title>\n<path fill=\"none\" stroke=\"#000000\" d=\"M823.0547,-18C849.8591,-18 880.3145,-18 906.7071,-18\"/>\n<polygon fill=\"#000000\" stroke=\"#000000\" points=\"906.9846,-21.5001 916.9846,-18 906.9845,-14.5001 906.9846,-21.5001\"/>\n<text text-anchor=\"middle\" x=\"870\" y=\"-21\" font-family=\"Times\" font-size=\"10.00\" fill=\"#000000\">128x4x28x28</text>\n</g>\n<!-- 11089637624373389325&#45;&gt;/outputs/44 -->\n<g id=\"edge10\" class=\"edge\">\n<title>11089637624373389325&#45;&gt;/outputs/44</title>\n<path fill=\"none\" stroke=\"#000000\" d=\"M345.1954,-41C355.8457,-41 366.7549,-41 376.6571,-41\"/>\n<polygon fill=\"#000000\" stroke=\"#000000\" points=\"376.947,-44.5001 386.947,-41 376.947,-37.5001 376.947,-44.5001\"/>\n<text text-anchor=\"middle\" x=\"366\" y=\"-44\" font-family=\"Times\" font-size=\"10.00\" fill=\"#000000\">1</text>\n</g>\n<!-- 4288602134580613701&#45;&gt;/outputs/59 -->\n<g id=\"edge12\" class=\"edge\">\n<title>4288602134580613701&#45;&gt;/outputs/59</title>\n<path fill=\"none\" stroke=\"#000000\" d=\"M1028.1954,-28.2891C1038.959,-30.2776 1049.987,-32.3149 1059.9728,-34.1596\"/>\n<polygon fill=\"#000000\" stroke=\"#000000\" points=\"1059.4775,-37.6273 1069.947,-36.0023 1060.7492,-30.7438 1059.4775,-37.6273\"/>\n<text text-anchor=\"middle\" x=\"1049\" y=\"-36\" font-family=\"Times\" font-size=\"10.00\" fill=\"#000000\">1</text>\n</g>\n</g>\n</svg>\n"
          },
          "metadata": {
            "tags": []
          },
          "execution_count": 7
        }
      ]
    },
    {
      "cell_type": "markdown",
      "metadata": {
        "id": "Tu36TpRUHwX2",
        "colab_type": "text"
      },
      "source": [
        "### Training"
      ]
    },
    {
      "cell_type": "code",
      "metadata": {
        "id": "tYkYwPZCHwX2",
        "colab_type": "code",
        "colab": {
          "base_uri": "https://localhost:8080/",
          "height": 1000
        },
        "outputId": "11b8970c-0931-4573-ca2b-4a7005362c0f"
      },
      "source": [
        "def compute_accuracy(model, data_loader):\n",
        "    correct_pred, num_examples = 0, 0\n",
        "    for i, (features, targets) in enumerate(data_loader):            \n",
        "        features = features.to(device)\n",
        "        targets = targets.to(device)\n",
        "        logits, probas = model(features)\n",
        "        _, predicted_labels = torch.max(probas, 1)\n",
        "        num_examples += targets.size(0)\n",
        "        correct_pred += (predicted_labels == targets).sum()\n",
        "    return correct_pred.float()/num_examples * 100\n",
        "\n",
        "\n",
        "start_time = time.time()\n",
        "for epoch in range(num_epochs):\n",
        "    model = model.train()\n",
        "    for batch_idx, (features, targets) in enumerate(train_loader):\n",
        "        \n",
        "        features = features.to(device)\n",
        "        targets = targets.to(device)\n",
        "        \n",
        "        ### FORWARD AND BACK PROP\n",
        "        logits, probas = model(features)\n",
        "        cost = F.cross_entropy(logits, targets)\n",
        "        optimizer.zero_grad()\n",
        "        \n",
        "        cost.backward()\n",
        "        \n",
        "        ### UPDATE MODEL PARAMETERS\n",
        "        optimizer.step()\n",
        "        \n",
        "        ### LOGGING\n",
        "        if not batch_idx % 50:\n",
        "            print ('Epoch: %03d/%03d | Batch %03d/%03d | Cost: %.4f' \n",
        "                   %(epoch+1, num_epochs, batch_idx, \n",
        "                     len(train_loader), cost))\n",
        "\n",
        "    model = model.eval() # eval mode to prevent upd. batchnorm params during inference\n",
        "    with torch.set_grad_enabled(False): # save memory during inference\n",
        "        print('Epoch: %03d/%03d training accuracy: %.2f%%' % (\n",
        "              epoch+1, num_epochs, \n",
        "              compute_accuracy(model, train_loader)))\n",
        "\n",
        "    print('Time elapsed: %.2f min' % ((time.time() - start_time)/60))\n",
        "    \n",
        "print('Total Training Time: %.2f min' % ((time.time() - start_time)/60))"
      ],
      "execution_count": 8,
      "outputs": [
        {
          "output_type": "stream",
          "text": [
            "Epoch: 001/010 | Batch 000/469 | Cost: 2.6090\n",
            "Epoch: 001/010 | Batch 050/469 | Cost: 0.4669\n",
            "Epoch: 001/010 | Batch 100/469 | Cost: 0.4385\n",
            "Epoch: 001/010 | Batch 150/469 | Cost: 0.2819\n",
            "Epoch: 001/010 | Batch 200/469 | Cost: 0.3329\n",
            "Epoch: 001/010 | Batch 250/469 | Cost: 0.2268\n",
            "Epoch: 001/010 | Batch 300/469 | Cost: 0.2387\n",
            "Epoch: 001/010 | Batch 350/469 | Cost: 0.3111\n",
            "Epoch: 001/010 | Batch 400/469 | Cost: 0.4359\n",
            "Epoch: 001/010 | Batch 450/469 | Cost: 0.3192\n",
            "Epoch: 001/010 training accuracy: 91.40%\n",
            "Time elapsed: 0.76 min\n",
            "Epoch: 002/010 | Batch 000/469 | Cost: 0.2191\n",
            "Epoch: 002/010 | Batch 050/469 | Cost: 0.3838\n",
            "Epoch: 002/010 | Batch 100/469 | Cost: 0.1736\n",
            "Epoch: 002/010 | Batch 150/469 | Cost: 0.3366\n",
            "Epoch: 002/010 | Batch 200/469 | Cost: 0.2308\n",
            "Epoch: 002/010 | Batch 250/469 | Cost: 0.3821\n",
            "Epoch: 002/010 | Batch 300/469 | Cost: 0.2225\n",
            "Epoch: 002/010 | Batch 350/469 | Cost: 0.2468\n",
            "Epoch: 002/010 | Batch 400/469 | Cost: 0.3760\n",
            "Epoch: 002/010 | Batch 450/469 | Cost: 0.3445\n",
            "Epoch: 002/010 training accuracy: 92.56%\n",
            "Time elapsed: 1.52 min\n",
            "Epoch: 003/010 | Batch 000/469 | Cost: 0.2237\n",
            "Epoch: 003/010 | Batch 050/469 | Cost: 0.2166\n",
            "Epoch: 003/010 | Batch 100/469 | Cost: 0.1838\n",
            "Epoch: 003/010 | Batch 150/469 | Cost: 0.2607\n",
            "Epoch: 003/010 | Batch 200/469 | Cost: 0.3885\n",
            "Epoch: 003/010 | Batch 250/469 | Cost: 0.3113\n",
            "Epoch: 003/010 | Batch 300/469 | Cost: 0.2140\n",
            "Epoch: 003/010 | Batch 350/469 | Cost: 0.3867\n",
            "Epoch: 003/010 | Batch 400/469 | Cost: 0.3675\n",
            "Epoch: 003/010 | Batch 450/469 | Cost: 0.3566\n",
            "Epoch: 003/010 training accuracy: 92.32%\n",
            "Time elapsed: 2.27 min\n",
            "Epoch: 004/010 | Batch 000/469 | Cost: 0.1816\n",
            "Epoch: 004/010 | Batch 050/469 | Cost: 0.2530\n",
            "Epoch: 004/010 | Batch 100/469 | Cost: 0.2131\n",
            "Epoch: 004/010 | Batch 150/469 | Cost: 0.4142\n",
            "Epoch: 004/010 | Batch 200/469 | Cost: 0.2837\n",
            "Epoch: 004/010 | Batch 250/469 | Cost: 0.3922\n",
            "Epoch: 004/010 | Batch 300/469 | Cost: 0.2847\n",
            "Epoch: 004/010 | Batch 350/469 | Cost: 0.2298\n",
            "Epoch: 004/010 | Batch 400/469 | Cost: 0.3973\n",
            "Epoch: 004/010 | Batch 450/469 | Cost: 0.3467\n",
            "Epoch: 004/010 training accuracy: 92.61%\n",
            "Time elapsed: 3.03 min\n",
            "Epoch: 005/010 | Batch 000/469 | Cost: 0.3412\n",
            "Epoch: 005/010 | Batch 050/469 | Cost: 0.1736\n",
            "Epoch: 005/010 | Batch 100/469 | Cost: 0.2035\n",
            "Epoch: 005/010 | Batch 150/469 | Cost: 0.2361\n",
            "Epoch: 005/010 | Batch 200/469 | Cost: 0.1304\n",
            "Epoch: 005/010 | Batch 250/469 | Cost: 0.1795\n",
            "Epoch: 005/010 | Batch 300/469 | Cost: 0.1935\n",
            "Epoch: 005/010 | Batch 350/469 | Cost: 0.3282\n",
            "Epoch: 005/010 | Batch 400/469 | Cost: 0.3631\n",
            "Epoch: 005/010 | Batch 450/469 | Cost: 0.1659\n",
            "Epoch: 005/010 training accuracy: 93.09%\n",
            "Time elapsed: 3.78 min\n",
            "Epoch: 006/010 | Batch 000/469 | Cost: 0.2144\n",
            "Epoch: 006/010 | Batch 050/469 | Cost: 0.1882\n",
            "Epoch: 006/010 | Batch 100/469 | Cost: 0.1846\n",
            "Epoch: 006/010 | Batch 150/469 | Cost: 0.2396\n",
            "Epoch: 006/010 | Batch 200/469 | Cost: 0.3289\n",
            "Epoch: 006/010 | Batch 250/469 | Cost: 0.1959\n",
            "Epoch: 006/010 | Batch 300/469 | Cost: 0.2806\n",
            "Epoch: 006/010 | Batch 350/469 | Cost: 0.2981\n",
            "Epoch: 006/010 | Batch 400/469 | Cost: 0.1551\n",
            "Epoch: 006/010 | Batch 450/469 | Cost: 0.2390\n",
            "Epoch: 006/010 training accuracy: 93.19%\n",
            "Time elapsed: 4.52 min\n",
            "Epoch: 007/010 | Batch 000/469 | Cost: 0.2103\n",
            "Epoch: 007/010 | Batch 050/469 | Cost: 0.2129\n",
            "Epoch: 007/010 | Batch 100/469 | Cost: 0.2238\n",
            "Epoch: 007/010 | Batch 150/469 | Cost: 0.2708\n",
            "Epoch: 007/010 | Batch 200/469 | Cost: 0.2287\n",
            "Epoch: 007/010 | Batch 250/469 | Cost: 0.2651\n",
            "Epoch: 007/010 | Batch 300/469 | Cost: 0.1884\n",
            "Epoch: 007/010 | Batch 350/469 | Cost: 0.2628\n",
            "Epoch: 007/010 | Batch 400/469 | Cost: 0.2305\n",
            "Epoch: 007/010 | Batch 450/469 | Cost: 0.2297\n",
            "Epoch: 007/010 training accuracy: 93.39%\n",
            "Time elapsed: 5.27 min\n",
            "Epoch: 008/010 | Batch 000/469 | Cost: 0.1705\n",
            "Epoch: 008/010 | Batch 050/469 | Cost: 0.2482\n",
            "Epoch: 008/010 | Batch 100/469 | Cost: 0.2576\n",
            "Epoch: 008/010 | Batch 150/469 | Cost: 0.4670\n",
            "Epoch: 008/010 | Batch 200/469 | Cost: 0.1699\n",
            "Epoch: 008/010 | Batch 250/469 | Cost: 0.2394\n",
            "Epoch: 008/010 | Batch 300/469 | Cost: 0.3056\n",
            "Epoch: 008/010 | Batch 350/469 | Cost: 0.3601\n",
            "Epoch: 008/010 | Batch 400/469 | Cost: 0.3070\n",
            "Epoch: 008/010 | Batch 450/469 | Cost: 0.1562\n",
            "Epoch: 008/010 training accuracy: 93.44%\n",
            "Time elapsed: 6.02 min\n",
            "Epoch: 009/010 | Batch 000/469 | Cost: 0.3577\n",
            "Epoch: 009/010 | Batch 050/469 | Cost: 0.1393\n",
            "Epoch: 009/010 | Batch 100/469 | Cost: 0.2761\n",
            "Epoch: 009/010 | Batch 150/469 | Cost: 0.4010\n",
            "Epoch: 009/010 | Batch 200/469 | Cost: 0.2186\n",
            "Epoch: 009/010 | Batch 250/469 | Cost: 0.2362\n",
            "Epoch: 009/010 | Batch 300/469 | Cost: 0.2823\n",
            "Epoch: 009/010 | Batch 350/469 | Cost: 0.1855\n",
            "Epoch: 009/010 | Batch 400/469 | Cost: 0.1956\n",
            "Epoch: 009/010 | Batch 450/469 | Cost: 0.2246\n",
            "Epoch: 009/010 training accuracy: 92.82%\n",
            "Time elapsed: 6.76 min\n",
            "Epoch: 010/010 | Batch 000/469 | Cost: 0.2205\n",
            "Epoch: 010/010 | Batch 050/469 | Cost: 0.1768\n",
            "Epoch: 010/010 | Batch 100/469 | Cost: 0.1465\n",
            "Epoch: 010/010 | Batch 150/469 | Cost: 0.2584\n",
            "Epoch: 010/010 | Batch 200/469 | Cost: 0.2356\n",
            "Epoch: 010/010 | Batch 250/469 | Cost: 0.1647\n",
            "Epoch: 010/010 | Batch 300/469 | Cost: 0.3941\n",
            "Epoch: 010/010 | Batch 350/469 | Cost: 0.1505\n",
            "Epoch: 010/010 | Batch 400/469 | Cost: 0.2125\n",
            "Epoch: 010/010 | Batch 450/469 | Cost: 0.2448\n",
            "Epoch: 010/010 training accuracy: 93.52%\n",
            "Time elapsed: 7.51 min\n",
            "Total Training Time: 7.51 min\n"
          ],
          "name": "stdout"
        }
      ]
    },
    {
      "cell_type": "markdown",
      "metadata": {
        "id": "_-kby60VHwX5",
        "colab_type": "text"
      },
      "source": [
        "### Evaluation"
      ]
    },
    {
      "cell_type": "code",
      "metadata": {
        "id": "YQsv_wBHHwX6",
        "colab_type": "code",
        "colab": {
          "base_uri": "https://localhost:8080/",
          "height": 35
        },
        "outputId": "32855085-5edd-4cbb-b7c6-93bfc2244d08"
      },
      "source": [
        "print('Test accuracy: %.2f%%' % (compute_accuracy(model, test_loader)))"
      ],
      "execution_count": 9,
      "outputs": [
        {
          "output_type": "stream",
          "text": [
            "Test accuracy: 92.11%\n"
          ],
          "name": "stdout"
        }
      ]
    },
    {
      "cell_type": "markdown",
      "metadata": {
        "id": "uAeDE9K_HwX8",
        "colab_type": "text"
      },
      "source": [
        "## ResNet with convolutional blocks for resizing"
      ]
    },
    {
      "cell_type": "markdown",
      "metadata": {
        "id": "W9W_pRwHHwX8",
        "colab_type": "text"
      },
      "source": [
        "The following code implements the residual blocks with skip connections such that the input passed via the shortcut matches is resized to dimensions of the main path's output. Such a residual block is illustrated below:\n",
        "\n",
        "![](https://github.com/DeepSE/deeplearning-models/blob/master/pytorch_ipynb/images/resnets/resnet-ex-1-2.png?raw=1)"
      ]
    },
    {
      "cell_type": "code",
      "metadata": {
        "id": "qZHBWc7UHwX9",
        "colab_type": "code",
        "colab": {}
      },
      "source": [
        "##########################\n",
        "### MODEL\n",
        "##########################\n",
        "\n",
        "\n",
        "\n",
        "class ConvNet(torch.nn.Module):\n",
        "\n",
        "    def __init__(self, num_classes):\n",
        "        super(ConvNet, self).__init__()\n",
        "        \n",
        "        #########################\n",
        "        ### 1st residual block\n",
        "        #########################\n",
        "        # 28x28x1 => 14x14x4 \n",
        "        self.conv_1 = torch.nn.Conv2d(in_channels=1,\n",
        "                                      out_channels=4,\n",
        "                                      kernel_size=(3, 3),\n",
        "                                      stride=(2, 2),\n",
        "                                      padding=1)\n",
        "        self.conv_1_bn = torch.nn.BatchNorm2d(4)\n",
        "                                    \n",
        "        # 14x14x4 => 14x14x8\n",
        "        self.conv_2 = torch.nn.Conv2d(in_channels=4,\n",
        "                                      out_channels=8,\n",
        "                                      kernel_size=(1, 1),\n",
        "                                      stride=(1, 1),\n",
        "                                      padding=0)   \n",
        "        self.conv_2_bn = torch.nn.BatchNorm2d(8)\n",
        "        \n",
        "        # 28x28x1 => 14x14x8\n",
        "        self.conv_shortcut_1 = torch.nn.Conv2d(in_channels=1,\n",
        "                                               out_channels=8,\n",
        "                                               kernel_size=(1, 1),\n",
        "                                               stride=(2, 2),\n",
        "                                               padding=0)   \n",
        "        self.conv_shortcut_1_bn = torch.nn.BatchNorm2d(8)\n",
        "        \n",
        "        #########################\n",
        "        ### 2nd residual block\n",
        "        #########################\n",
        "        # 14x14x8 => 7x7x16 \n",
        "        self.conv_3 = torch.nn.Conv2d(in_channels=8,\n",
        "                                      out_channels=16,\n",
        "                                      kernel_size=(3, 3),\n",
        "                                      stride=(2, 2),\n",
        "                                      padding=1)\n",
        "        self.conv_3_bn = torch.nn.BatchNorm2d(16)\n",
        "                                    \n",
        "        # 7x7x16 => 7x7x32\n",
        "        self.conv_4 = torch.nn.Conv2d(in_channels=16,\n",
        "                                      out_channels=32,\n",
        "                                      kernel_size=(1, 1),\n",
        "                                      stride=(1, 1),\n",
        "                                      padding=0)   \n",
        "        self.conv_4_bn = torch.nn.BatchNorm2d(32)\n",
        "        \n",
        "        # 14x14x8 => 7x7x32 \n",
        "        self.conv_shortcut_2 = torch.nn.Conv2d(in_channels=8,\n",
        "                                               out_channels=32,\n",
        "                                               kernel_size=(1, 1),\n",
        "                                               stride=(2, 2),\n",
        "                                               padding=0)   \n",
        "        self.conv_shortcut_2_bn = torch.nn.BatchNorm2d(32)\n",
        "\n",
        "        #########################\n",
        "        ### Fully connected\n",
        "        #########################        \n",
        "        self.linear_1 = torch.nn.Linear(7*7*32, num_classes)\n",
        "\n",
        "        \n",
        "    def forward(self, x):\n",
        "        \n",
        "        #########################\n",
        "        ### 1st residual block\n",
        "        #########################\n",
        "        shortcut = x\n",
        "        \n",
        "        out = self.conv_1(x) # 28x28x1 => 14x14x4 \n",
        "        out = self.conv_1_bn(out)\n",
        "        out = F.relu(out)\n",
        "\n",
        "        out = self.conv_2(out) # 14x14x4 => 714x14x8\n",
        "        out = self.conv_2_bn(out)\n",
        "        \n",
        "        # match up dimensions using a linear function (no relu)\n",
        "        shortcut = self.conv_shortcut_1(shortcut)\n",
        "        shortcut = self.conv_shortcut_1_bn(shortcut)\n",
        "        \n",
        "        out += shortcut\n",
        "        out = F.relu(out)\n",
        "        \n",
        "        #########################\n",
        "        ### 2nd residual block\n",
        "        #########################\n",
        "        \n",
        "        shortcut = out\n",
        "        \n",
        "        out = self.conv_3(out) # 14x14x8 => 7x7x16 \n",
        "        out = self.conv_3_bn(out)\n",
        "        out = F.relu(out)\n",
        "\n",
        "        out = self.conv_4(out) # 7x7x16 => 7x7x32\n",
        "        out = self.conv_4_bn(out)\n",
        "        \n",
        "        # match up dimensions using a linear function (no relu)\n",
        "        shortcut = self.conv_shortcut_2(shortcut)\n",
        "        shortcut = self.conv_shortcut_2_bn(shortcut)\n",
        "        \n",
        "        out += shortcut\n",
        "        out = F.relu(out)\n",
        "        \n",
        "        #########################\n",
        "        ### Fully connected\n",
        "        #########################   \n",
        "        logits = self.linear_1(out.view(-1, 7*7*32))\n",
        "        probas = F.softmax(logits, dim=1)\n",
        "        return logits, probas\n",
        "\n",
        "    \n",
        "torch.manual_seed(random_seed)\n",
        "model = ConvNet(num_classes=num_classes)\n",
        "model = model.to(device)\n",
        "\n",
        "optimizer = torch.optim.Adam(model.parameters(), lr=learning_rate)  "
      ],
      "execution_count": 10,
      "outputs": []
    },
    {
      "cell_type": "code",
      "metadata": {
        "id": "biFiXzbNIDbH",
        "colab_type": "code",
        "colab": {
          "base_uri": "https://localhost:8080/",
          "height": 279
        },
        "outputId": "c44effb7-f804-448b-e8cf-35605922f8db"
      },
      "source": [
        "import hiddenlayer as hl\n",
        "hl.build_graph(model, torch.zeros([128, 1, 28, 28]).to(device))"
      ],
      "execution_count": 12,
      "outputs": [
        {
          "output_type": "execute_result",
          "data": {
            "text/plain": [
              "<hiddenlayer.graph.Graph at 0x7f0e3bc3c048>"
            ],
            "image/svg+xml": "<?xml version=\"1.0\" encoding=\"UTF-8\" standalone=\"no\"?>\n<!DOCTYPE svg PUBLIC \"-//W3C//DTD SVG 1.1//EN\"\n \"http://www.w3.org/Graphics/SVG/1.1/DTD/svg11.dtd\">\n<!-- Generated by graphviz version 2.40.1 (20161225.0304)\n -->\n<!-- Title: %3 Pages: 1 -->\n<svg width=\"1867pt\" height=\"178pt\"\n viewBox=\"0.00 0.00 1867.00 178.00\" xmlns=\"http://www.w3.org/2000/svg\" xmlns:xlink=\"http://www.w3.org/1999/xlink\">\n<g id=\"graph0\" class=\"graph\" transform=\"scale(1 1) rotate(0) translate(72 142)\">\n<title>%3</title>\n<polygon fill=\"#ffffff\" stroke=\"transparent\" points=\"-72,36 -72,-142 1795,-142 1795,36 -72,36\"/>\n<!-- /outputs/64 -->\n<g id=\"node1\" class=\"node\">\n<title>/outputs/64</title>\n<polygon fill=\"#e8e8e8\" stroke=\"#000000\" points=\"441,-53 387,-53 387,-17 441,-17 441,-53\"/>\n<text text-anchor=\"start\" x=\"405\" y=\"-32\" font-family=\"Times\" font-size=\"10.00\" fill=\"#000000\">Add</text>\n</g>\n<!-- /outputs/65 -->\n<g id=\"node2\" class=\"node\">\n<title>/outputs/65</title>\n<polygon fill=\"#e8e8e8\" stroke=\"#000000\" points=\"589,-53 535,-53 535,-17 589,-17 589,-53\"/>\n<text text-anchor=\"start\" x=\"552\" y=\"-32\" font-family=\"Times\" font-size=\"10.00\" fill=\"#000000\">Relu</text>\n</g>\n<!-- /outputs/64&#45;&gt;/outputs/65 -->\n<g id=\"edge1\" class=\"edge\">\n<title>/outputs/64&#45;&gt;/outputs/65</title>\n<path fill=\"none\" stroke=\"#000000\" d=\"M441.1455,-35C464.5424,-35 498.5551,-35 524.5413,-35\"/>\n<polygon fill=\"#000000\" stroke=\"#000000\" points=\"524.7764,-38.5001 534.7764,-35 524.7764,-31.5001 524.7764,-38.5001\"/>\n<text text-anchor=\"middle\" x=\"488\" y=\"-38\" font-family=\"Times\" font-size=\"10.00\" fill=\"#000000\">128x8x14x14</text>\n</g>\n<!-- 16573788067748470263 -->\n<g id=\"node10\" class=\"node\">\n<title>16573788067748470263</title>\n<polygon fill=\"#e8e8e8\" stroke=\"#000000\" points=\"823,-82 683,-82 683,-46 823,-46 823,-82\"/>\n<text text-anchor=\"start\" x=\"691\" y=\"-61\" font-family=\"Times\" font-size=\"10.00\" fill=\"#000000\">Conv3x3 &gt; BatchNorm &gt; Relu</text>\n</g>\n<!-- /outputs/65&#45;&gt;16573788067748470263 -->\n<g id=\"edge7\" class=\"edge\">\n<title>/outputs/65&#45;&gt;16573788067748470263</title>\n<path fill=\"none\" stroke=\"#000000\" d=\"M589.3656,-39.155C611.2368,-42.4757 643.0563,-47.307 672.8335,-51.8281\"/>\n<polygon fill=\"#000000\" stroke=\"#000000\" points=\"672.4242,-55.306 682.8363,-53.3469 673.475,-48.3853 672.4242,-55.306\"/>\n<text text-anchor=\"middle\" x=\"636\" y=\"-54\" font-family=\"Times\" font-size=\"10.00\" fill=\"#000000\">128x8x14x14</text>\n</g>\n<!-- 17638246962928449065 -->\n<g id=\"node14\" class=\"node\">\n<title>17638246962928449065</title>\n<polygon fill=\"#e8e8e8\" stroke=\"#000000\" points=\"952,-36 841,-36 841,0 952,0 952,-36\"/>\n<text text-anchor=\"start\" x=\"849.5\" y=\"-15\" font-family=\"Times\" font-size=\"10.00\" fill=\"#000000\">Conv1x1 &gt; BatchNorm</text>\n</g>\n<!-- /outputs/65&#45;&gt;17638246962928449065 -->\n<g id=\"edge13\" class=\"edge\">\n<title>/outputs/65&#45;&gt;17638246962928449065</title>\n<path fill=\"none\" stroke=\"#000000\" d=\"M589.0616,-30.253C594.9579,-29.3693 601.1753,-28.5516 607,-28 683.5135,-20.7538 771.8445,-18.5954 830.6162,-18.0326\"/>\n<polygon fill=\"#000000\" stroke=\"#000000\" points=\"830.9031,-21.5304 840.8738,-17.9477 830.8451,-14.5307 830.9031,-21.5304\"/>\n<text text-anchor=\"middle\" x=\"636\" y=\"-31\" font-family=\"Times\" font-size=\"10.00\" fill=\"#000000\">128x8x14x14</text>\n</g>\n<!-- /outputs/85 -->\n<g id=\"node3\" class=\"node\">\n<title>/outputs/85</title>\n<polygon fill=\"#e8e8e8\" stroke=\"#000000\" points=\"1182,-52 1128,-52 1128,-16 1182,-16 1182,-52\"/>\n<text text-anchor=\"start\" x=\"1146\" y=\"-31\" font-family=\"Times\" font-size=\"10.00\" fill=\"#000000\">Add</text>\n</g>\n<!-- /outputs/86 -->\n<g id=\"node4\" class=\"node\">\n<title>/outputs/86</title>\n<polygon fill=\"#e8e8e8\" stroke=\"#000000\" points=\"1325,-52 1271,-52 1271,-16 1325,-16 1325,-52\"/>\n<text text-anchor=\"start\" x=\"1288\" y=\"-31\" font-family=\"Times\" font-size=\"10.00\" fill=\"#000000\">Relu</text>\n</g>\n<!-- /outputs/85&#45;&gt;/outputs/86 -->\n<g id=\"edge2\" class=\"edge\">\n<title>/outputs/85&#45;&gt;/outputs/86</title>\n<path fill=\"none\" stroke=\"#000000\" d=\"M1182.2338,-34C1204.4983,-34 1236.2039,-34 1260.8066,-34\"/>\n<polygon fill=\"#000000\" stroke=\"#000000\" points=\"1260.8676,-37.5001 1270.8676,-34 1260.8676,-30.5001 1260.8676,-37.5001\"/>\n<text text-anchor=\"middle\" x=\"1226.5\" y=\"-37\" font-family=\"Times\" font-size=\"10.00\" fill=\"#000000\">128x32x7x7</text>\n</g>\n<!-- /outputs/88 -->\n<g id=\"node6\" class=\"node\">\n<title>/outputs/88</title>\n<polygon fill=\"#e8e8e8\" stroke=\"#000000\" points=\"1468,-79 1414,-79 1414,-43 1468,-43 1468,-79\"/>\n<text text-anchor=\"start\" x=\"1424\" y=\"-58\" font-family=\"Times\" font-size=\"10.00\" fill=\"#000000\">Reshape</text>\n</g>\n<!-- /outputs/86&#45;&gt;/outputs/88 -->\n<g id=\"edge3\" class=\"edge\">\n<title>/outputs/86&#45;&gt;/outputs/88</title>\n<path fill=\"none\" stroke=\"#000000\" d=\"M1325.2338,-39.142C1347.4983,-43.3458 1379.2039,-49.3322 1403.8066,-53.9775\"/>\n<polygon fill=\"#000000\" stroke=\"#000000\" points=\"1403.3918,-57.4609 1413.8676,-55.8771 1404.6906,-50.5825 1403.3918,-57.4609\"/>\n<text text-anchor=\"middle\" x=\"1369.5\" y=\"-56\" font-family=\"Times\" font-size=\"10.00\" fill=\"#000000\">128x32x7x7</text>\n</g>\n<!-- /outputs/87 -->\n<g id=\"node5\" class=\"node\">\n<title>/outputs/87</title>\n<polygon fill=\"#e8e8e8\" stroke=\"#000000\" points=\"1325,-106 1271,-106 1271,-70 1325,-70 1325,-106\"/>\n<text text-anchor=\"start\" x=\"1280\" y=\"-85\" font-family=\"Times\" font-size=\"10.00\" fill=\"#000000\">Constant</text>\n</g>\n<!-- /outputs/87&#45;&gt;/outputs/88 -->\n<g id=\"edge4\" class=\"edge\">\n<title>/outputs/87&#45;&gt;/outputs/88</title>\n<path fill=\"none\" stroke=\"#000000\" d=\"M1325.2338,-82.858C1347.4983,-78.6542 1379.2039,-72.6678 1403.8066,-68.0225\"/>\n<polygon fill=\"#000000\" stroke=\"#000000\" points=\"1404.6906,-71.4175 1413.8676,-66.1229 1403.3918,-64.5391 1404.6906,-71.4175\"/>\n</g>\n<!-- /outputs/89 -->\n<g id=\"node7\" class=\"node\">\n<title>/outputs/89</title>\n<polygon fill=\"#e8e8e8\" stroke=\"#000000\" points=\"1601,-79 1547,-79 1547,-43 1601,-43 1601,-79\"/>\n<text text-anchor=\"start\" x=\"1561\" y=\"-58\" font-family=\"Times\" font-size=\"10.00\" fill=\"#000000\">Linear</text>\n</g>\n<!-- /outputs/88&#45;&gt;/outputs/89 -->\n<g id=\"edge5\" class=\"edge\">\n<title>/outputs/88&#45;&gt;/outputs/89</title>\n<path fill=\"none\" stroke=\"#000000\" d=\"M1468.2355,-61C1487.9593,-61 1514.8628,-61 1536.5994,-61\"/>\n<polygon fill=\"#000000\" stroke=\"#000000\" points=\"1536.801,-64.5001 1546.8009,-61 1536.8009,-57.5001 1536.801,-64.5001\"/>\n<text text-anchor=\"middle\" x=\"1507.5\" y=\"-64\" font-family=\"Times\" font-size=\"10.00\" fill=\"#000000\">128x1568</text>\n</g>\n<!-- /outputs/90 -->\n<g id=\"node8\" class=\"node\">\n<title>/outputs/90</title>\n<polygon fill=\"#e8e8e8\" stroke=\"#000000\" points=\"1723,-79 1669,-79 1669,-43 1723,-43 1723,-79\"/>\n<text text-anchor=\"start\" x=\"1679\" y=\"-58\" font-family=\"Times\" font-size=\"10.00\" fill=\"#000000\">Softmax</text>\n</g>\n<!-- /outputs/89&#45;&gt;/outputs/90 -->\n<g id=\"edge6\" class=\"edge\">\n<title>/outputs/89&#45;&gt;/outputs/90</title>\n<path fill=\"none\" stroke=\"#000000\" d=\"M1601.0758,-61C1618.0553,-61 1640.1767,-61 1658.7924,-61\"/>\n<polygon fill=\"#000000\" stroke=\"#000000\" points=\"1659,-64.5001 1668.9999,-61 1658.9999,-57.5001 1659,-64.5001\"/>\n<text text-anchor=\"middle\" x=\"1635\" y=\"-64\" font-family=\"Times\" font-size=\"10.00\" fill=\"#000000\">128x10</text>\n</g>\n<!-- 14314628781513994281 -->\n<g id=\"node9\" class=\"node\">\n<title>14314628781513994281</title>\n<polygon fill=\"#e8e8e8\" stroke=\"#000000\" points=\"140,-90 0,-90 0,-54 140,-54 140,-90\"/>\n<text text-anchor=\"start\" x=\"8\" y=\"-69\" font-family=\"Times\" font-size=\"10.00\" fill=\"#000000\">Conv3x3 &gt; BatchNorm &gt; Relu</text>\n</g>\n<!-- 6747668231763711320 -->\n<g id=\"node11\" class=\"node\">\n<title>6747668231763711320</title>\n<polygon fill=\"#e8e8e8\" stroke=\"#000000\" points=\"345,-90 234,-90 234,-54 345,-54 345,-90\"/>\n<text text-anchor=\"start\" x=\"242.5\" y=\"-69\" font-family=\"Times\" font-size=\"10.00\" fill=\"#000000\">Conv1x1 &gt; BatchNorm</text>\n</g>\n<!-- 14314628781513994281&#45;&gt;6747668231763711320 -->\n<g id=\"edge8\" class=\"edge\">\n<title>14314628781513994281&#45;&gt;6747668231763711320</title>\n<path fill=\"none\" stroke=\"#000000\" d=\"M140.0547,-72C166.8591,-72 197.3145,-72 223.7071,-72\"/>\n<polygon fill=\"#000000\" stroke=\"#000000\" points=\"223.9846,-75.5001 233.9846,-72 223.9845,-68.5001 223.9846,-75.5001\"/>\n<text text-anchor=\"middle\" x=\"187\" y=\"-75\" font-family=\"Times\" font-size=\"10.00\" fill=\"#000000\">128x4x14x14</text>\n</g>\n<!-- 6402084473877979606 -->\n<g id=\"node13\" class=\"node\">\n<title>6402084473877979606</title>\n<polygon fill=\"#e8e8e8\" stroke=\"#000000\" points=\"1081,-83 970,-83 970,-47 1081,-47 1081,-83\"/>\n<text text-anchor=\"start\" x=\"978.5\" y=\"-62\" font-family=\"Times\" font-size=\"10.00\" fill=\"#000000\">Conv1x1 &gt; BatchNorm</text>\n</g>\n<!-- 16573788067748470263&#45;&gt;6402084473877979606 -->\n<g id=\"edge11\" class=\"edge\">\n<title>16573788067748470263&#45;&gt;6402084473877979606</title>\n<path fill=\"none\" stroke=\"#000000\" d=\"M823.1755,-64.2575C865.1889,-64.4117 918.2618,-64.6065 959.5086,-64.7578\"/>\n<polygon fill=\"#000000\" stroke=\"#000000\" points=\"959.7135,-68.2585 969.7263,-64.7953 959.7392,-61.2586 959.7135,-68.2585\"/>\n<text text-anchor=\"middle\" x=\"896.5\" y=\"-68\" font-family=\"Times\" font-size=\"10.00\" fill=\"#000000\">128x16x7x7</text>\n</g>\n<!-- 6747668231763711320&#45;&gt;/outputs/64 -->\n<g id=\"edge9\" class=\"edge\">\n<title>6747668231763711320&#45;&gt;/outputs/64</title>\n<path fill=\"none\" stroke=\"#000000\" d=\"M345.1954,-55.448C356.0723,-52.2155 367.2192,-48.9027 377.2878,-45.9105\"/>\n<polygon fill=\"#000000\" stroke=\"#000000\" points=\"378.3584,-49.2436 386.947,-43.0399 376.3643,-42.5337 378.3584,-49.2436\"/>\n<text text-anchor=\"middle\" x=\"366\" y=\"-53\" font-family=\"Times\" font-size=\"10.00\" fill=\"#000000\">8</text>\n</g>\n<!-- 343355333726426504 -->\n<g id=\"node12\" class=\"node\">\n<title>343355333726426504</title>\n<polygon fill=\"#e8e8e8\" stroke=\"#000000\" points=\"345,-36 234,-36 234,0 345,0 345,-36\"/>\n<text text-anchor=\"start\" x=\"242.5\" y=\"-15\" font-family=\"Times\" font-size=\"10.00\" fill=\"#000000\">Conv1x1 &gt; BatchNorm</text>\n</g>\n<!-- 343355333726426504&#45;&gt;/outputs/64 -->\n<g id=\"edge10\" class=\"edge\">\n<title>343355333726426504&#45;&gt;/outputs/64</title>\n<path fill=\"none\" stroke=\"#000000\" d=\"M345.1954,-25.605C355.959,-27.0747 366.987,-28.5806 376.9728,-29.9441\"/>\n<polygon fill=\"#000000\" stroke=\"#000000\" points=\"376.5654,-33.4208 386.947,-31.306 377.5125,-26.4852 376.5654,-33.4208\"/>\n<text text-anchor=\"middle\" x=\"366\" y=\"-32\" font-family=\"Times\" font-size=\"10.00\" fill=\"#000000\">8</text>\n</g>\n<!-- 6402084473877979606&#45;&gt;/outputs/85 -->\n<g id=\"edge12\" class=\"edge\">\n<title>6402084473877979606&#45;&gt;/outputs/85</title>\n<path fill=\"none\" stroke=\"#000000\" d=\"M1081.1712,-51.6733C1093.5578,-48.7082 1106.3966,-45.6348 1117.8258,-42.8988\"/>\n<polygon fill=\"#000000\" stroke=\"#000000\" points=\"1118.9619,-46.2259 1127.8723,-40.4939 1117.3322,-39.4182 1118.9619,-46.2259\"/>\n<text text-anchor=\"middle\" x=\"1104.5\" y=\"-50\" font-family=\"Times\" font-size=\"10.00\" fill=\"#000000\">32</text>\n</g>\n<!-- 17638246962928449065&#45;&gt;/outputs/85 -->\n<g id=\"edge14\" class=\"edge\">\n<title>17638246962928449065&#45;&gt;/outputs/85</title>\n<path fill=\"none\" stroke=\"#000000\" d=\"M952.2485,-20.0576C988.8708,-21.5723 1037.8171,-23.9059 1081,-27 1093.046,-27.8631 1106.1741,-29.0306 1117.9834,-30.1647\"/>\n<polygon fill=\"#000000\" stroke=\"#000000\" points=\"1117.6672,-33.6504 1127.9614,-31.1442 1118.3512,-26.6839 1117.6672,-33.6504\"/>\n<text text-anchor=\"middle\" x=\"1025.5\" y=\"-30\" font-family=\"Times\" font-size=\"10.00\" fill=\"#000000\">32</text>\n</g>\n</g>\n</svg>\n"
          },
          "metadata": {
            "tags": []
          },
          "execution_count": 12
        }
      ]
    },
    {
      "cell_type": "markdown",
      "metadata": {
        "id": "z-CD5Ad7HwX_",
        "colab_type": "text"
      },
      "source": [
        "### Training"
      ]
    },
    {
      "cell_type": "code",
      "metadata": {
        "id": "YfBrmBFAHwX_",
        "colab_type": "code",
        "colab": {
          "base_uri": "https://localhost:8080/",
          "height": 1000
        },
        "outputId": "2b2698b7-7ad4-4001-ff93-fb3b72e3a4de"
      },
      "source": [
        "def compute_accuracy(model, data_loader):\n",
        "    correct_pred, num_examples = 0, 0\n",
        "    for i, (features, targets) in enumerate(data_loader):            \n",
        "        features = features.to(device)\n",
        "        targets = targets.to(device)\n",
        "        logits, probas = model(features)\n",
        "        _, predicted_labels = torch.max(probas, 1)\n",
        "        num_examples += targets.size(0)\n",
        "        correct_pred += (predicted_labels == targets).sum()\n",
        "    return correct_pred.float()/num_examples * 100\n",
        "    \n",
        "\n",
        "for epoch in range(num_epochs):\n",
        "    model = model.train()\n",
        "    for batch_idx, (features, targets) in enumerate(train_loader):\n",
        "        \n",
        "        features = features.to(device)\n",
        "        targets = targets.to(device)\n",
        "            \n",
        "        ### FORWARD AND BACK PROP\n",
        "        logits, probas = model(features)\n",
        "        cost = F.cross_entropy(logits, targets)\n",
        "        optimizer.zero_grad()\n",
        "        \n",
        "        cost.backward()\n",
        "        \n",
        "        ### UPDATE MODEL PARAMETERS\n",
        "        optimizer.step()\n",
        "        \n",
        "        ### LOGGING\n",
        "        if not batch_idx % 50:\n",
        "            print ('Epoch: %03d/%03d | Batch %03d/%03d | Cost: %.4f' \n",
        "                   %(epoch+1, num_epochs, batch_idx, \n",
        "                     len(train_loader), cost))\n",
        "\n",
        "    model = model.eval() # eval mode to prevent upd. batchnorm params during inference\n",
        "    with torch.set_grad_enabled(False): # save memory during inference\n",
        "        print('Epoch: %03d/%03d training accuracy: %.2f%%' % (\n",
        "              epoch+1, num_epochs, \n",
        "              compute_accuracy(model, train_loader)))"
      ],
      "execution_count": 13,
      "outputs": [
        {
          "output_type": "stream",
          "text": [
            "Epoch: 001/010 | Batch 000/469 | Cost: 2.3909\n",
            "Epoch: 001/010 | Batch 050/469 | Cost: 0.4003\n",
            "Epoch: 001/010 | Batch 100/469 | Cost: 0.2683\n",
            "Epoch: 001/010 | Batch 150/469 | Cost: 0.1820\n",
            "Epoch: 001/010 | Batch 200/469 | Cost: 0.1185\n",
            "Epoch: 001/010 | Batch 250/469 | Cost: 0.0833\n",
            "Epoch: 001/010 | Batch 300/469 | Cost: 0.0884\n",
            "Epoch: 001/010 | Batch 350/469 | Cost: 0.0383\n",
            "Epoch: 001/010 | Batch 400/469 | Cost: 0.0925\n",
            "Epoch: 001/010 | Batch 450/469 | Cost: 0.0253\n",
            "Epoch: 001/010 training accuracy: 97.77%\n",
            "Epoch: 002/010 | Batch 000/469 | Cost: 0.1370\n",
            "Epoch: 002/010 | Batch 050/469 | Cost: 0.0231\n",
            "Epoch: 002/010 | Batch 100/469 | Cost: 0.0535\n",
            "Epoch: 002/010 | Batch 150/469 | Cost: 0.0244\n",
            "Epoch: 002/010 | Batch 200/469 | Cost: 0.1072\n",
            "Epoch: 002/010 | Batch 250/469 | Cost: 0.0215\n",
            "Epoch: 002/010 | Batch 300/469 | Cost: 0.0249\n",
            "Epoch: 002/010 | Batch 350/469 | Cost: 0.0180\n",
            "Epoch: 002/010 | Batch 400/469 | Cost: 0.0399\n",
            "Epoch: 002/010 | Batch 450/469 | Cost: 0.0521\n",
            "Epoch: 002/010 training accuracy: 98.37%\n",
            "Epoch: 003/010 | Batch 000/469 | Cost: 0.0313\n",
            "Epoch: 003/010 | Batch 050/469 | Cost: 0.0573\n",
            "Epoch: 003/010 | Batch 100/469 | Cost: 0.0416\n",
            "Epoch: 003/010 | Batch 150/469 | Cost: 0.0565\n",
            "Epoch: 003/010 | Batch 200/469 | Cost: 0.0377\n",
            "Epoch: 003/010 | Batch 250/469 | Cost: 0.0786\n",
            "Epoch: 003/010 | Batch 300/469 | Cost: 0.0834\n",
            "Epoch: 003/010 | Batch 350/469 | Cost: 0.0781\n",
            "Epoch: 003/010 | Batch 400/469 | Cost: 0.1542\n",
            "Epoch: 003/010 | Batch 450/469 | Cost: 0.0142\n",
            "Epoch: 003/010 training accuracy: 98.47%\n",
            "Epoch: 004/010 | Batch 000/469 | Cost: 0.0110\n",
            "Epoch: 004/010 | Batch 050/469 | Cost: 0.0701\n",
            "Epoch: 004/010 | Batch 100/469 | Cost: 0.0510\n",
            "Epoch: 004/010 | Batch 150/469 | Cost: 0.0104\n",
            "Epoch: 004/010 | Batch 200/469 | Cost: 0.0497\n",
            "Epoch: 004/010 | Batch 250/469 | Cost: 0.0397\n",
            "Epoch: 004/010 | Batch 300/469 | Cost: 0.0448\n",
            "Epoch: 004/010 | Batch 350/469 | Cost: 0.0332\n",
            "Epoch: 004/010 | Batch 400/469 | Cost: 0.0146\n",
            "Epoch: 004/010 | Batch 450/469 | Cost: 0.0444\n",
            "Epoch: 004/010 training accuracy: 98.70%\n",
            "Epoch: 005/010 | Batch 000/469 | Cost: 0.0235\n",
            "Epoch: 005/010 | Batch 050/469 | Cost: 0.0655\n",
            "Epoch: 005/010 | Batch 100/469 | Cost: 0.0124\n",
            "Epoch: 005/010 | Batch 150/469 | Cost: 0.0532\n",
            "Epoch: 005/010 | Batch 200/469 | Cost: 0.0375\n",
            "Epoch: 005/010 | Batch 250/469 | Cost: 0.0193\n",
            "Epoch: 005/010 | Batch 300/469 | Cost: 0.1028\n",
            "Epoch: 005/010 | Batch 350/469 | Cost: 0.1197\n",
            "Epoch: 005/010 | Batch 400/469 | Cost: 0.0707\n",
            "Epoch: 005/010 | Batch 450/469 | Cost: 0.0801\n",
            "Epoch: 005/010 training accuracy: 98.65%\n",
            "Epoch: 006/010 | Batch 000/469 | Cost: 0.0167\n",
            "Epoch: 006/010 | Batch 050/469 | Cost: 0.0833\n",
            "Epoch: 006/010 | Batch 100/469 | Cost: 0.0727\n",
            "Epoch: 006/010 | Batch 150/469 | Cost: 0.0327\n",
            "Epoch: 006/010 | Batch 200/469 | Cost: 0.0160\n",
            "Epoch: 006/010 | Batch 250/469 | Cost: 0.0164\n",
            "Epoch: 006/010 | Batch 300/469 | Cost: 0.0925\n",
            "Epoch: 006/010 | Batch 350/469 | Cost: 0.0511\n",
            "Epoch: 006/010 | Batch 400/469 | Cost: 0.0540\n",
            "Epoch: 006/010 | Batch 450/469 | Cost: 0.0477\n",
            "Epoch: 006/010 training accuracy: 98.43%\n",
            "Epoch: 007/010 | Batch 000/469 | Cost: 0.0123\n",
            "Epoch: 007/010 | Batch 050/469 | Cost: 0.0273\n",
            "Epoch: 007/010 | Batch 100/469 | Cost: 0.0525\n",
            "Epoch: 007/010 | Batch 150/469 | Cost: 0.0099\n",
            "Epoch: 007/010 | Batch 200/469 | Cost: 0.0288\n",
            "Epoch: 007/010 | Batch 250/469 | Cost: 0.0470\n",
            "Epoch: 007/010 | Batch 300/469 | Cost: 0.0711\n",
            "Epoch: 007/010 | Batch 350/469 | Cost: 0.0591\n",
            "Epoch: 007/010 | Batch 400/469 | Cost: 0.0876\n",
            "Epoch: 007/010 | Batch 450/469 | Cost: 0.0743\n",
            "Epoch: 007/010 training accuracy: 99.07%\n",
            "Epoch: 008/010 | Batch 000/469 | Cost: 0.0191\n",
            "Epoch: 008/010 | Batch 050/469 | Cost: 0.0094\n",
            "Epoch: 008/010 | Batch 100/469 | Cost: 0.0294\n",
            "Epoch: 008/010 | Batch 150/469 | Cost: 0.0626\n",
            "Epoch: 008/010 | Batch 200/469 | Cost: 0.0167\n",
            "Epoch: 008/010 | Batch 250/469 | Cost: 0.0373\n",
            "Epoch: 008/010 | Batch 300/469 | Cost: 0.0331\n",
            "Epoch: 008/010 | Batch 350/469 | Cost: 0.0361\n",
            "Epoch: 008/010 | Batch 400/469 | Cost: 0.0715\n",
            "Epoch: 008/010 | Batch 450/469 | Cost: 0.0738\n",
            "Epoch: 008/010 training accuracy: 99.20%\n",
            "Epoch: 009/010 | Batch 000/469 | Cost: 0.0333\n",
            "Epoch: 009/010 | Batch 050/469 | Cost: 0.0454\n",
            "Epoch: 009/010 | Batch 100/469 | Cost: 0.0207\n",
            "Epoch: 009/010 | Batch 150/469 | Cost: 0.0088\n",
            "Epoch: 009/010 | Batch 200/469 | Cost: 0.0134\n",
            "Epoch: 009/010 | Batch 250/469 | Cost: 0.0225\n",
            "Epoch: 009/010 | Batch 300/469 | Cost: 0.0159\n",
            "Epoch: 009/010 | Batch 350/469 | Cost: 0.0748\n",
            "Epoch: 009/010 | Batch 400/469 | Cost: 0.0823\n",
            "Epoch: 009/010 | Batch 450/469 | Cost: 0.0383\n",
            "Epoch: 009/010 training accuracy: 99.35%\n",
            "Epoch: 010/010 | Batch 000/469 | Cost: 0.0036\n",
            "Epoch: 010/010 | Batch 050/469 | Cost: 0.0301\n",
            "Epoch: 010/010 | Batch 100/469 | Cost: 0.0071\n",
            "Epoch: 010/010 | Batch 150/469 | Cost: 0.0025\n",
            "Epoch: 010/010 | Batch 200/469 | Cost: 0.0027\n",
            "Epoch: 010/010 | Batch 250/469 | Cost: 0.0258\n",
            "Epoch: 010/010 | Batch 300/469 | Cost: 0.0315\n",
            "Epoch: 010/010 | Batch 350/469 | Cost: 0.0051\n",
            "Epoch: 010/010 | Batch 400/469 | Cost: 0.0283\n",
            "Epoch: 010/010 | Batch 450/469 | Cost: 0.0352\n",
            "Epoch: 010/010 training accuracy: 99.16%\n"
          ],
          "name": "stdout"
        }
      ]
    },
    {
      "cell_type": "markdown",
      "metadata": {
        "id": "NEUz5DQ0HwYC",
        "colab_type": "text"
      },
      "source": [
        "### Evaluation"
      ]
    },
    {
      "cell_type": "code",
      "metadata": {
        "id": "zdtRZZTgHwYC",
        "colab_type": "code",
        "colab": {
          "base_uri": "https://localhost:8080/",
          "height": 35
        },
        "outputId": "7745702a-1d7f-4d6b-907f-30c18a594d4a"
      },
      "source": [
        "print('Test accuracy: %.2f%%' % (compute_accuracy(model, test_loader)))"
      ],
      "execution_count": 14,
      "outputs": [
        {
          "output_type": "stream",
          "text": [
            "Test accuracy: 98.26%\n"
          ],
          "name": "stdout"
        }
      ]
    },
    {
      "cell_type": "markdown",
      "metadata": {
        "id": "dypciljOHwYF",
        "colab_type": "text"
      },
      "source": [
        "## ResNet with convolutional blocks for resizing (using a helper class)"
      ]
    },
    {
      "cell_type": "markdown",
      "metadata": {
        "id": "h1UTspHMHwYG",
        "colab_type": "text"
      },
      "source": [
        "This is the same network as above but uses a `ResidualBlock` helper class."
      ]
    },
    {
      "cell_type": "code",
      "metadata": {
        "id": "PohmB12IHwYG",
        "colab_type": "code",
        "colab": {}
      },
      "source": [
        "class ResidualBlock(torch.nn.Module):\n",
        "\n",
        "    def __init__(self, channels):\n",
        "        \n",
        "        super(ResidualBlock, self).__init__()\n",
        "        self.conv_1 = torch.nn.Conv2d(in_channels=channels[0],\n",
        "                                      out_channels=channels[1],\n",
        "                                      kernel_size=(3, 3),\n",
        "                                      stride=(2, 2),\n",
        "                                      padding=1)\n",
        "        self.conv_1_bn = torch.nn.BatchNorm2d(channels[1])\n",
        "                                    \n",
        "        self.conv_2 = torch.nn.Conv2d(in_channels=channels[1],\n",
        "                                      out_channels=channels[2],\n",
        "                                      kernel_size=(1, 1),\n",
        "                                      stride=(1, 1),\n",
        "                                      padding=0)   \n",
        "        self.conv_2_bn = torch.nn.BatchNorm2d(channels[2])\n",
        "\n",
        "        self.conv_shortcut_1 = torch.nn.Conv2d(in_channels=channels[0],\n",
        "                                               out_channels=channels[2],\n",
        "                                               kernel_size=(1, 1),\n",
        "                                               stride=(2, 2),\n",
        "                                               padding=0)   \n",
        "        self.conv_shortcut_1_bn = torch.nn.BatchNorm2d(channels[2])\n",
        "\n",
        "    def forward(self, x):\n",
        "        shortcut = x\n",
        "        \n",
        "        out = self.conv_1(x)\n",
        "        out = self.conv_1_bn(out)\n",
        "        out = F.relu(out)\n",
        "\n",
        "        out = self.conv_2(out)\n",
        "        out = self.conv_2_bn(out)\n",
        "        \n",
        "        # match up dimensions using a linear function (no relu)\n",
        "        shortcut = self.conv_shortcut_1(shortcut)\n",
        "        shortcut = self.conv_shortcut_1_bn(shortcut)\n",
        "        \n",
        "        out += shortcut\n",
        "        out = F.relu(out)\n",
        "\n",
        "        return out"
      ],
      "execution_count": 15,
      "outputs": []
    },
    {
      "cell_type": "code",
      "metadata": {
        "id": "eqnplZomHwYI",
        "colab_type": "code",
        "colab": {}
      },
      "source": [
        "##########################\n",
        "### MODEL\n",
        "##########################\n",
        "\n",
        "\n",
        "\n",
        "class ConvNet(torch.nn.Module):\n",
        "\n",
        "    def __init__(self, num_classes):\n",
        "        super(ConvNet, self).__init__()\n",
        "        \n",
        "        self.residual_block_1 = ResidualBlock(channels=[1, 4, 8])\n",
        "        self.residual_block_2 = ResidualBlock(channels=[8, 16, 32])\n",
        "    \n",
        "        self.linear_1 = torch.nn.Linear(7*7*32, num_classes)\n",
        "\n",
        "        \n",
        "    def forward(self, x):\n",
        "\n",
        "        out = self.residual_block_1.forward(x)\n",
        "        out = self.residual_block_2.forward(out)\n",
        "         \n",
        "        logits = self.linear_1(out.view(-1, 7*7*32))\n",
        "        probas = F.softmax(logits, dim=1)\n",
        "        return logits, probas\n",
        "\n",
        "    \n",
        "torch.manual_seed(random_seed)\n",
        "model = ConvNet(num_classes=num_classes)\n",
        "\n",
        "model.to(device)\n",
        "optimizer = torch.optim.Adam(model.parameters(), lr=learning_rate)  "
      ],
      "execution_count": 16,
      "outputs": []
    },
    {
      "cell_type": "code",
      "metadata": {
        "id": "VU9AVo-lM9nJ",
        "colab_type": "code",
        "colab": {
          "base_uri": "https://localhost:8080/",
          "height": 279
        },
        "outputId": "776707cd-c12c-49c0-ebc7-80a7ebfb0f60"
      },
      "source": [
        "import hiddenlayer as hl\n",
        "hl.build_graph(model, torch.zeros([128, 1, 28, 28]).to(device))"
      ],
      "execution_count": 18,
      "outputs": [
        {
          "output_type": "execute_result",
          "data": {
            "text/plain": [
              "<hiddenlayer.graph.Graph at 0x7f0e39e25e10>"
            ],
            "image/svg+xml": "<?xml version=\"1.0\" encoding=\"UTF-8\" standalone=\"no\"?>\n<!DOCTYPE svg PUBLIC \"-//W3C//DTD SVG 1.1//EN\"\n \"http://www.w3.org/Graphics/SVG/1.1/DTD/svg11.dtd\">\n<!-- Generated by graphviz version 2.40.1 (20161225.0304)\n -->\n<!-- Title: %3 Pages: 1 -->\n<svg width=\"1867pt\" height=\"178pt\"\n viewBox=\"0.00 0.00 1867.00 178.00\" xmlns=\"http://www.w3.org/2000/svg\" xmlns:xlink=\"http://www.w3.org/1999/xlink\">\n<g id=\"graph0\" class=\"graph\" transform=\"scale(1 1) rotate(0) translate(72 142)\">\n<title>%3</title>\n<polygon fill=\"#ffffff\" stroke=\"transparent\" points=\"-72,36 -72,-142 1795,-142 1795,36 -72,36\"/>\n<!-- /outputs/64 -->\n<g id=\"node1\" class=\"node\">\n<title>/outputs/64</title>\n<polygon fill=\"#e8e8e8\" stroke=\"#000000\" points=\"441,-53 387,-53 387,-17 441,-17 441,-53\"/>\n<text text-anchor=\"start\" x=\"405\" y=\"-32\" font-family=\"Times\" font-size=\"10.00\" fill=\"#000000\">Add</text>\n</g>\n<!-- /outputs/65 -->\n<g id=\"node2\" class=\"node\">\n<title>/outputs/65</title>\n<polygon fill=\"#e8e8e8\" stroke=\"#000000\" points=\"589,-53 535,-53 535,-17 589,-17 589,-53\"/>\n<text text-anchor=\"start\" x=\"552\" y=\"-32\" font-family=\"Times\" font-size=\"10.00\" fill=\"#000000\">Relu</text>\n</g>\n<!-- /outputs/64&#45;&gt;/outputs/65 -->\n<g id=\"edge1\" class=\"edge\">\n<title>/outputs/64&#45;&gt;/outputs/65</title>\n<path fill=\"none\" stroke=\"#000000\" d=\"M441.1455,-35C464.5424,-35 498.5551,-35 524.5413,-35\"/>\n<polygon fill=\"#000000\" stroke=\"#000000\" points=\"524.7764,-38.5001 534.7764,-35 524.7764,-31.5001 524.7764,-38.5001\"/>\n<text text-anchor=\"middle\" x=\"488\" y=\"-38\" font-family=\"Times\" font-size=\"10.00\" fill=\"#000000\">128x8x14x14</text>\n</g>\n<!-- 14660104741315996416 -->\n<g id=\"node10\" class=\"node\">\n<title>14660104741315996416</title>\n<polygon fill=\"#e8e8e8\" stroke=\"#000000\" points=\"823,-82 683,-82 683,-46 823,-46 823,-82\"/>\n<text text-anchor=\"start\" x=\"691\" y=\"-61\" font-family=\"Times\" font-size=\"10.00\" fill=\"#000000\">Conv3x3 &gt; BatchNorm &gt; Relu</text>\n</g>\n<!-- /outputs/65&#45;&gt;14660104741315996416 -->\n<g id=\"edge7\" class=\"edge\">\n<title>/outputs/65&#45;&gt;14660104741315996416</title>\n<path fill=\"none\" stroke=\"#000000\" d=\"M589.3656,-39.155C611.2368,-42.4757 643.0563,-47.307 672.8335,-51.8281\"/>\n<polygon fill=\"#000000\" stroke=\"#000000\" points=\"672.4242,-55.306 682.8363,-53.3469 673.475,-48.3853 672.4242,-55.306\"/>\n<text text-anchor=\"middle\" x=\"636\" y=\"-54\" font-family=\"Times\" font-size=\"10.00\" fill=\"#000000\">128x8x14x14</text>\n</g>\n<!-- 16107251623319298872 -->\n<g id=\"node14\" class=\"node\">\n<title>16107251623319298872</title>\n<polygon fill=\"#e8e8e8\" stroke=\"#000000\" points=\"952,-36 841,-36 841,0 952,0 952,-36\"/>\n<text text-anchor=\"start\" x=\"849.5\" y=\"-15\" font-family=\"Times\" font-size=\"10.00\" fill=\"#000000\">Conv1x1 &gt; BatchNorm</text>\n</g>\n<!-- /outputs/65&#45;&gt;16107251623319298872 -->\n<g id=\"edge13\" class=\"edge\">\n<title>/outputs/65&#45;&gt;16107251623319298872</title>\n<path fill=\"none\" stroke=\"#000000\" d=\"M589.0616,-30.253C594.9579,-29.3693 601.1753,-28.5516 607,-28 683.5135,-20.7538 771.8445,-18.5954 830.6162,-18.0326\"/>\n<polygon fill=\"#000000\" stroke=\"#000000\" points=\"830.9031,-21.5304 840.8738,-17.9477 830.8451,-14.5307 830.9031,-21.5304\"/>\n<text text-anchor=\"middle\" x=\"636\" y=\"-31\" font-family=\"Times\" font-size=\"10.00\" fill=\"#000000\">128x8x14x14</text>\n</g>\n<!-- /outputs/85 -->\n<g id=\"node3\" class=\"node\">\n<title>/outputs/85</title>\n<polygon fill=\"#e8e8e8\" stroke=\"#000000\" points=\"1182,-52 1128,-52 1128,-16 1182,-16 1182,-52\"/>\n<text text-anchor=\"start\" x=\"1146\" y=\"-31\" font-family=\"Times\" font-size=\"10.00\" fill=\"#000000\">Add</text>\n</g>\n<!-- /outputs/86 -->\n<g id=\"node4\" class=\"node\">\n<title>/outputs/86</title>\n<polygon fill=\"#e8e8e8\" stroke=\"#000000\" points=\"1325,-52 1271,-52 1271,-16 1325,-16 1325,-52\"/>\n<text text-anchor=\"start\" x=\"1288\" y=\"-31\" font-family=\"Times\" font-size=\"10.00\" fill=\"#000000\">Relu</text>\n</g>\n<!-- /outputs/85&#45;&gt;/outputs/86 -->\n<g id=\"edge2\" class=\"edge\">\n<title>/outputs/85&#45;&gt;/outputs/86</title>\n<path fill=\"none\" stroke=\"#000000\" d=\"M1182.2338,-34C1204.4983,-34 1236.2039,-34 1260.8066,-34\"/>\n<polygon fill=\"#000000\" stroke=\"#000000\" points=\"1260.8676,-37.5001 1270.8676,-34 1260.8676,-30.5001 1260.8676,-37.5001\"/>\n<text text-anchor=\"middle\" x=\"1226.5\" y=\"-37\" font-family=\"Times\" font-size=\"10.00\" fill=\"#000000\">128x32x7x7</text>\n</g>\n<!-- /outputs/88 -->\n<g id=\"node6\" class=\"node\">\n<title>/outputs/88</title>\n<polygon fill=\"#e8e8e8\" stroke=\"#000000\" points=\"1468,-79 1414,-79 1414,-43 1468,-43 1468,-79\"/>\n<text text-anchor=\"start\" x=\"1424\" y=\"-58\" font-family=\"Times\" font-size=\"10.00\" fill=\"#000000\">Reshape</text>\n</g>\n<!-- /outputs/86&#45;&gt;/outputs/88 -->\n<g id=\"edge3\" class=\"edge\">\n<title>/outputs/86&#45;&gt;/outputs/88</title>\n<path fill=\"none\" stroke=\"#000000\" d=\"M1325.2338,-39.142C1347.4983,-43.3458 1379.2039,-49.3322 1403.8066,-53.9775\"/>\n<polygon fill=\"#000000\" stroke=\"#000000\" points=\"1403.3918,-57.4609 1413.8676,-55.8771 1404.6906,-50.5825 1403.3918,-57.4609\"/>\n<text text-anchor=\"middle\" x=\"1369.5\" y=\"-56\" font-family=\"Times\" font-size=\"10.00\" fill=\"#000000\">128x32x7x7</text>\n</g>\n<!-- /outputs/87 -->\n<g id=\"node5\" class=\"node\">\n<title>/outputs/87</title>\n<polygon fill=\"#e8e8e8\" stroke=\"#000000\" points=\"1325,-106 1271,-106 1271,-70 1325,-70 1325,-106\"/>\n<text text-anchor=\"start\" x=\"1280\" y=\"-85\" font-family=\"Times\" font-size=\"10.00\" fill=\"#000000\">Constant</text>\n</g>\n<!-- /outputs/87&#45;&gt;/outputs/88 -->\n<g id=\"edge4\" class=\"edge\">\n<title>/outputs/87&#45;&gt;/outputs/88</title>\n<path fill=\"none\" stroke=\"#000000\" d=\"M1325.2338,-82.858C1347.4983,-78.6542 1379.2039,-72.6678 1403.8066,-68.0225\"/>\n<polygon fill=\"#000000\" stroke=\"#000000\" points=\"1404.6906,-71.4175 1413.8676,-66.1229 1403.3918,-64.5391 1404.6906,-71.4175\"/>\n</g>\n<!-- /outputs/89 -->\n<g id=\"node7\" class=\"node\">\n<title>/outputs/89</title>\n<polygon fill=\"#e8e8e8\" stroke=\"#000000\" points=\"1601,-79 1547,-79 1547,-43 1601,-43 1601,-79\"/>\n<text text-anchor=\"start\" x=\"1561\" y=\"-58\" font-family=\"Times\" font-size=\"10.00\" fill=\"#000000\">Linear</text>\n</g>\n<!-- /outputs/88&#45;&gt;/outputs/89 -->\n<g id=\"edge5\" class=\"edge\">\n<title>/outputs/88&#45;&gt;/outputs/89</title>\n<path fill=\"none\" stroke=\"#000000\" d=\"M1468.2355,-61C1487.9593,-61 1514.8628,-61 1536.5994,-61\"/>\n<polygon fill=\"#000000\" stroke=\"#000000\" points=\"1536.801,-64.5001 1546.8009,-61 1536.8009,-57.5001 1536.801,-64.5001\"/>\n<text text-anchor=\"middle\" x=\"1507.5\" y=\"-64\" font-family=\"Times\" font-size=\"10.00\" fill=\"#000000\">128x1568</text>\n</g>\n<!-- /outputs/90 -->\n<g id=\"node8\" class=\"node\">\n<title>/outputs/90</title>\n<polygon fill=\"#e8e8e8\" stroke=\"#000000\" points=\"1723,-79 1669,-79 1669,-43 1723,-43 1723,-79\"/>\n<text text-anchor=\"start\" x=\"1679\" y=\"-58\" font-family=\"Times\" font-size=\"10.00\" fill=\"#000000\">Softmax</text>\n</g>\n<!-- /outputs/89&#45;&gt;/outputs/90 -->\n<g id=\"edge6\" class=\"edge\">\n<title>/outputs/89&#45;&gt;/outputs/90</title>\n<path fill=\"none\" stroke=\"#000000\" d=\"M1601.0758,-61C1618.0553,-61 1640.1767,-61 1658.7924,-61\"/>\n<polygon fill=\"#000000\" stroke=\"#000000\" points=\"1659,-64.5001 1668.9999,-61 1658.9999,-57.5001 1659,-64.5001\"/>\n<text text-anchor=\"middle\" x=\"1635\" y=\"-64\" font-family=\"Times\" font-size=\"10.00\" fill=\"#000000\">128x10</text>\n</g>\n<!-- 13997915314213046651 -->\n<g id=\"node9\" class=\"node\">\n<title>13997915314213046651</title>\n<polygon fill=\"#e8e8e8\" stroke=\"#000000\" points=\"140,-90 0,-90 0,-54 140,-54 140,-90\"/>\n<text text-anchor=\"start\" x=\"8\" y=\"-69\" font-family=\"Times\" font-size=\"10.00\" fill=\"#000000\">Conv3x3 &gt; BatchNorm &gt; Relu</text>\n</g>\n<!-- 8864830710408283837 -->\n<g id=\"node11\" class=\"node\">\n<title>8864830710408283837</title>\n<polygon fill=\"#e8e8e8\" stroke=\"#000000\" points=\"345,-90 234,-90 234,-54 345,-54 345,-90\"/>\n<text text-anchor=\"start\" x=\"242.5\" y=\"-69\" font-family=\"Times\" font-size=\"10.00\" fill=\"#000000\">Conv1x1 &gt; BatchNorm</text>\n</g>\n<!-- 13997915314213046651&#45;&gt;8864830710408283837 -->\n<g id=\"edge8\" class=\"edge\">\n<title>13997915314213046651&#45;&gt;8864830710408283837</title>\n<path fill=\"none\" stroke=\"#000000\" d=\"M140.0547,-72C166.8591,-72 197.3145,-72 223.7071,-72\"/>\n<polygon fill=\"#000000\" stroke=\"#000000\" points=\"223.9846,-75.5001 233.9846,-72 223.9845,-68.5001 223.9846,-75.5001\"/>\n<text text-anchor=\"middle\" x=\"187\" y=\"-75\" font-family=\"Times\" font-size=\"10.00\" fill=\"#000000\">128x4x14x14</text>\n</g>\n<!-- 4402219456291800627 -->\n<g id=\"node13\" class=\"node\">\n<title>4402219456291800627</title>\n<polygon fill=\"#e8e8e8\" stroke=\"#000000\" points=\"1081,-83 970,-83 970,-47 1081,-47 1081,-83\"/>\n<text text-anchor=\"start\" x=\"978.5\" y=\"-62\" font-family=\"Times\" font-size=\"10.00\" fill=\"#000000\">Conv1x1 &gt; BatchNorm</text>\n</g>\n<!-- 14660104741315996416&#45;&gt;4402219456291800627 -->\n<g id=\"edge11\" class=\"edge\">\n<title>14660104741315996416&#45;&gt;4402219456291800627</title>\n<path fill=\"none\" stroke=\"#000000\" d=\"M823.1755,-64.2575C865.1889,-64.4117 918.2618,-64.6065 959.5086,-64.7578\"/>\n<polygon fill=\"#000000\" stroke=\"#000000\" points=\"959.7135,-68.2585 969.7263,-64.7953 959.7392,-61.2586 959.7135,-68.2585\"/>\n<text text-anchor=\"middle\" x=\"896.5\" y=\"-68\" font-family=\"Times\" font-size=\"10.00\" fill=\"#000000\">128x16x7x7</text>\n</g>\n<!-- 8864830710408283837&#45;&gt;/outputs/64 -->\n<g id=\"edge9\" class=\"edge\">\n<title>8864830710408283837&#45;&gt;/outputs/64</title>\n<path fill=\"none\" stroke=\"#000000\" d=\"M345.1954,-55.448C356.0723,-52.2155 367.2192,-48.9027 377.2878,-45.9105\"/>\n<polygon fill=\"#000000\" stroke=\"#000000\" points=\"378.3584,-49.2436 386.947,-43.0399 376.3643,-42.5337 378.3584,-49.2436\"/>\n<text text-anchor=\"middle\" x=\"366\" y=\"-53\" font-family=\"Times\" font-size=\"10.00\" fill=\"#000000\">8</text>\n</g>\n<!-- 4158406939103139198 -->\n<g id=\"node12\" class=\"node\">\n<title>4158406939103139198</title>\n<polygon fill=\"#e8e8e8\" stroke=\"#000000\" points=\"345,-36 234,-36 234,0 345,0 345,-36\"/>\n<text text-anchor=\"start\" x=\"242.5\" y=\"-15\" font-family=\"Times\" font-size=\"10.00\" fill=\"#000000\">Conv1x1 &gt; BatchNorm</text>\n</g>\n<!-- 4158406939103139198&#45;&gt;/outputs/64 -->\n<g id=\"edge10\" class=\"edge\">\n<title>4158406939103139198&#45;&gt;/outputs/64</title>\n<path fill=\"none\" stroke=\"#000000\" d=\"M345.1954,-25.605C355.959,-27.0747 366.987,-28.5806 376.9728,-29.9441\"/>\n<polygon fill=\"#000000\" stroke=\"#000000\" points=\"376.5654,-33.4208 386.947,-31.306 377.5125,-26.4852 376.5654,-33.4208\"/>\n<text text-anchor=\"middle\" x=\"366\" y=\"-32\" font-family=\"Times\" font-size=\"10.00\" fill=\"#000000\">8</text>\n</g>\n<!-- 4402219456291800627&#45;&gt;/outputs/85 -->\n<g id=\"edge12\" class=\"edge\">\n<title>4402219456291800627&#45;&gt;/outputs/85</title>\n<path fill=\"none\" stroke=\"#000000\" d=\"M1081.1712,-51.6733C1093.5578,-48.7082 1106.3966,-45.6348 1117.8258,-42.8988\"/>\n<polygon fill=\"#000000\" stroke=\"#000000\" points=\"1118.9619,-46.2259 1127.8723,-40.4939 1117.3322,-39.4182 1118.9619,-46.2259\"/>\n<text text-anchor=\"middle\" x=\"1104.5\" y=\"-50\" font-family=\"Times\" font-size=\"10.00\" fill=\"#000000\">32</text>\n</g>\n<!-- 16107251623319298872&#45;&gt;/outputs/85 -->\n<g id=\"edge14\" class=\"edge\">\n<title>16107251623319298872&#45;&gt;/outputs/85</title>\n<path fill=\"none\" stroke=\"#000000\" d=\"M952.2485,-20.0576C988.8708,-21.5723 1037.8171,-23.9059 1081,-27 1093.046,-27.8631 1106.1741,-29.0306 1117.9834,-30.1647\"/>\n<polygon fill=\"#000000\" stroke=\"#000000\" points=\"1117.6672,-33.6504 1127.9614,-31.1442 1118.3512,-26.6839 1117.6672,-33.6504\"/>\n<text text-anchor=\"middle\" x=\"1025.5\" y=\"-30\" font-family=\"Times\" font-size=\"10.00\" fill=\"#000000\">32</text>\n</g>\n</g>\n</svg>\n"
          },
          "metadata": {
            "tags": []
          },
          "execution_count": 18
        }
      ]
    },
    {
      "cell_type": "markdown",
      "metadata": {
        "id": "IUALYNEuHwYK",
        "colab_type": "text"
      },
      "source": [
        "### Training"
      ]
    },
    {
      "cell_type": "code",
      "metadata": {
        "id": "Sr5L76AQHwYK",
        "colab_type": "code",
        "colab": {
          "base_uri": "https://localhost:8080/",
          "height": 1000
        },
        "outputId": "8f449299-c187-4e9d-c95f-9676eb956b51"
      },
      "source": [
        "def compute_accuracy(model, data_loader):\n",
        "    correct_pred, num_examples = 0, 0\n",
        "    for i, (features, targets) in enumerate(data_loader):            \n",
        "        features = features.to(device)\n",
        "        targets = targets.to(device)\n",
        "        logits, probas = model(features)\n",
        "        _, predicted_labels = torch.max(probas, 1)\n",
        "        num_examples += targets.size(0)\n",
        "        correct_pred += (predicted_labels == targets).sum()\n",
        "    return correct_pred.float()/num_examples * 100\n",
        "    \n",
        "\n",
        "for epoch in range(num_epochs):\n",
        "    model = model.train()\n",
        "    for batch_idx, (features, targets) in enumerate(train_loader):\n",
        "        \n",
        "        features = features.to(device)\n",
        "        targets = targets.to(device)\n",
        "            \n",
        "        ### FORWARD AND BACK PROP\n",
        "        logits, probas = model(features)\n",
        "        cost = F.cross_entropy(logits, targets)\n",
        "        optimizer.zero_grad()\n",
        "        \n",
        "        cost.backward()\n",
        "        \n",
        "        ### UPDATE MODEL PARAMETERS\n",
        "        optimizer.step()\n",
        "        \n",
        "        ### LOGGING\n",
        "        if not batch_idx % 50:\n",
        "            print ('Epoch: %03d/%03d | Batch %03d/%03d | Cost: %.4f' \n",
        "                   %(epoch+1, num_epochs, batch_idx, \n",
        "                     len(train_dataset)//batch_size, cost))\n",
        "\n",
        "    model = model.eval() # eval mode to prevent upd. batchnorm params during inference\n",
        "    with torch.set_grad_enabled(False): # save memory during inference\n",
        "        print('Epoch: %03d/%03d training accuracy: %.2f%%' % (\n",
        "              epoch+1, num_epochs, \n",
        "              compute_accuracy(model, train_loader)))"
      ],
      "execution_count": 19,
      "outputs": [
        {
          "output_type": "stream",
          "text": [
            "Epoch: 001/010 | Batch 000/468 | Cost: 0.0125\n",
            "Epoch: 001/010 | Batch 050/468 | Cost: 0.0768\n",
            "Epoch: 001/010 | Batch 100/468 | Cost: 0.0672\n",
            "Epoch: 001/010 | Batch 150/468 | Cost: 0.0391\n",
            "Epoch: 001/010 | Batch 200/468 | Cost: 0.0432\n",
            "Epoch: 001/010 | Batch 250/468 | Cost: 0.0469\n",
            "Epoch: 001/010 | Batch 300/468 | Cost: 0.0487\n",
            "Epoch: 001/010 | Batch 350/468 | Cost: 0.0604\n",
            "Epoch: 001/010 | Batch 400/468 | Cost: 0.0381\n",
            "Epoch: 001/010 | Batch 450/468 | Cost: 0.0105\n",
            "Epoch: 001/010 training accuracy: 98.49%\n",
            "Epoch: 002/010 | Batch 000/468 | Cost: 0.0434\n",
            "Epoch: 002/010 | Batch 050/468 | Cost: 0.0735\n",
            "Epoch: 002/010 | Batch 100/468 | Cost: 0.0339\n",
            "Epoch: 002/010 | Batch 150/468 | Cost: 0.0281\n",
            "Epoch: 002/010 | Batch 200/468 | Cost: 0.0101\n",
            "Epoch: 002/010 | Batch 250/468 | Cost: 0.0378\n",
            "Epoch: 002/010 | Batch 300/468 | Cost: 0.0542\n",
            "Epoch: 002/010 | Batch 350/468 | Cost: 0.1047\n",
            "Epoch: 002/010 | Batch 400/468 | Cost: 0.0349\n",
            "Epoch: 002/010 | Batch 450/468 | Cost: 0.0425\n",
            "Epoch: 002/010 training accuracy: 98.25%\n",
            "Epoch: 003/010 | Batch 000/468 | Cost: 0.0333\n",
            "Epoch: 003/010 | Batch 050/468 | Cost: 0.0101\n",
            "Epoch: 003/010 | Batch 100/468 | Cost: 0.0238\n",
            "Epoch: 003/010 | Batch 150/468 | Cost: 0.0084\n",
            "Epoch: 003/010 | Batch 200/468 | Cost: 0.0403\n",
            "Epoch: 003/010 | Batch 250/468 | Cost: 0.0244\n",
            "Epoch: 003/010 | Batch 300/468 | Cost: 0.0175\n",
            "Epoch: 003/010 | Batch 350/468 | Cost: 0.0552\n",
            "Epoch: 003/010 | Batch 400/468 | Cost: 0.0524\n",
            "Epoch: 003/010 | Batch 450/468 | Cost: 0.0283\n",
            "Epoch: 003/010 training accuracy: 98.77%\n",
            "Epoch: 004/010 | Batch 000/468 | Cost: 0.0571\n",
            "Epoch: 004/010 | Batch 050/468 | Cost: 0.0247\n",
            "Epoch: 004/010 | Batch 100/468 | Cost: 0.0063\n",
            "Epoch: 004/010 | Batch 150/468 | Cost: 0.0197\n",
            "Epoch: 004/010 | Batch 200/468 | Cost: 0.0911\n",
            "Epoch: 004/010 | Batch 250/468 | Cost: 0.0340\n",
            "Epoch: 004/010 | Batch 300/468 | Cost: 0.0947\n",
            "Epoch: 004/010 | Batch 350/468 | Cost: 0.0354\n",
            "Epoch: 004/010 | Batch 400/468 | Cost: 0.0612\n",
            "Epoch: 004/010 | Batch 450/468 | Cost: 0.0101\n",
            "Epoch: 004/010 training accuracy: 98.67%\n",
            "Epoch: 005/010 | Batch 000/468 | Cost: 0.0700\n",
            "Epoch: 005/010 | Batch 050/468 | Cost: 0.0258\n",
            "Epoch: 005/010 | Batch 100/468 | Cost: 0.0062\n",
            "Epoch: 005/010 | Batch 150/468 | Cost: 0.0051\n",
            "Epoch: 005/010 | Batch 200/468 | Cost: 0.0842\n",
            "Epoch: 005/010 | Batch 250/468 | Cost: 0.0033\n",
            "Epoch: 005/010 | Batch 300/468 | Cost: 0.0056\n",
            "Epoch: 005/010 | Batch 350/468 | Cost: 0.0129\n",
            "Epoch: 005/010 | Batch 400/468 | Cost: 0.0482\n",
            "Epoch: 005/010 | Batch 450/468 | Cost: 0.0140\n",
            "Epoch: 005/010 training accuracy: 98.98%\n",
            "Epoch: 006/010 | Batch 000/468 | Cost: 0.0193\n",
            "Epoch: 006/010 | Batch 050/468 | Cost: 0.0146\n",
            "Epoch: 006/010 | Batch 100/468 | Cost: 0.0182\n",
            "Epoch: 006/010 | Batch 150/468 | Cost: 0.0208\n",
            "Epoch: 006/010 | Batch 200/468 | Cost: 0.1260\n",
            "Epoch: 006/010 | Batch 250/468 | Cost: 0.0353\n",
            "Epoch: 006/010 | Batch 300/468 | Cost: 0.0408\n",
            "Epoch: 006/010 | Batch 350/468 | Cost: 0.0398\n",
            "Epoch: 006/010 | Batch 400/468 | Cost: 0.0268\n",
            "Epoch: 006/010 | Batch 450/468 | Cost: 0.0160\n",
            "Epoch: 006/010 training accuracy: 99.03%\n",
            "Epoch: 007/010 | Batch 000/468 | Cost: 0.0332\n",
            "Epoch: 007/010 | Batch 050/468 | Cost: 0.0073\n",
            "Epoch: 007/010 | Batch 100/468 | Cost: 0.1342\n",
            "Epoch: 007/010 | Batch 150/468 | Cost: 0.0025\n",
            "Epoch: 007/010 | Batch 200/468 | Cost: 0.0265\n",
            "Epoch: 007/010 | Batch 250/468 | Cost: 0.0060\n",
            "Epoch: 007/010 | Batch 300/468 | Cost: 0.0411\n",
            "Epoch: 007/010 | Batch 350/468 | Cost: 0.0041\n",
            "Epoch: 007/010 | Batch 400/468 | Cost: 0.0300\n",
            "Epoch: 007/010 | Batch 450/468 | Cost: 0.0163\n",
            "Epoch: 007/010 training accuracy: 98.96%\n",
            "Epoch: 008/010 | Batch 000/468 | Cost: 0.0151\n",
            "Epoch: 008/010 | Batch 050/468 | Cost: 0.0777\n",
            "Epoch: 008/010 | Batch 100/468 | Cost: 0.0511\n",
            "Epoch: 008/010 | Batch 150/468 | Cost: 0.0359\n",
            "Epoch: 008/010 | Batch 200/468 | Cost: 0.0503\n",
            "Epoch: 008/010 | Batch 250/468 | Cost: 0.0336\n",
            "Epoch: 008/010 | Batch 300/468 | Cost: 0.0089\n",
            "Epoch: 008/010 | Batch 350/468 | Cost: 0.0490\n",
            "Epoch: 008/010 | Batch 400/468 | Cost: 0.0656\n",
            "Epoch: 008/010 | Batch 450/468 | Cost: 0.0038\n",
            "Epoch: 008/010 training accuracy: 99.18%\n",
            "Epoch: 009/010 | Batch 000/468 | Cost: 0.0077\n",
            "Epoch: 009/010 | Batch 050/468 | Cost: 0.0248\n",
            "Epoch: 009/010 | Batch 100/468 | Cost: 0.0234\n",
            "Epoch: 009/010 | Batch 150/468 | Cost: 0.0522\n",
            "Epoch: 009/010 | Batch 200/468 | Cost: 0.0206\n",
            "Epoch: 009/010 | Batch 250/468 | Cost: 0.0031\n",
            "Epoch: 009/010 | Batch 300/468 | Cost: 0.0327\n",
            "Epoch: 009/010 | Batch 350/468 | Cost: 0.0827\n",
            "Epoch: 009/010 | Batch 400/468 | Cost: 0.0362\n",
            "Epoch: 009/010 | Batch 450/468 | Cost: 0.0006\n",
            "Epoch: 009/010 training accuracy: 99.30%\n",
            "Epoch: 010/010 | Batch 000/468 | Cost: 0.0313\n",
            "Epoch: 010/010 | Batch 050/468 | Cost: 0.0057\n",
            "Epoch: 010/010 | Batch 100/468 | Cost: 0.0121\n",
            "Epoch: 010/010 | Batch 150/468 | Cost: 0.0068\n",
            "Epoch: 010/010 | Batch 200/468 | Cost: 0.0162\n",
            "Epoch: 010/010 | Batch 250/468 | Cost: 0.0042\n",
            "Epoch: 010/010 | Batch 300/468 | Cost: 0.0019\n",
            "Epoch: 010/010 | Batch 350/468 | Cost: 0.0419\n",
            "Epoch: 010/010 | Batch 400/468 | Cost: 0.0055\n",
            "Epoch: 010/010 | Batch 450/468 | Cost: 0.0076\n",
            "Epoch: 010/010 training accuracy: 99.29%\n"
          ],
          "name": "stdout"
        }
      ]
    },
    {
      "cell_type": "markdown",
      "metadata": {
        "id": "J_TF2SVJHwYN",
        "colab_type": "text"
      },
      "source": [
        "### Evaluation"
      ]
    },
    {
      "cell_type": "code",
      "metadata": {
        "id": "OBjR0_jnHwYN",
        "colab_type": "code",
        "colab": {
          "base_uri": "https://localhost:8080/",
          "height": 35
        },
        "outputId": "6e4fc34f-1cea-4dc6-dd37-105099941a90"
      },
      "source": [
        "print('Test accuracy: %.2f%%' % (compute_accuracy(model, test_loader)))"
      ],
      "execution_count": 20,
      "outputs": [
        {
          "output_type": "stream",
          "text": [
            "Test accuracy: 98.17%\n"
          ],
          "name": "stdout"
        }
      ]
    },
    {
      "cell_type": "code",
      "metadata": {
        "id": "e-xXq0I3HwYP",
        "colab_type": "code",
        "colab": {
          "base_uri": "https://localhost:8080/",
          "height": 69
        },
        "outputId": "1d6b3f36-cdfb-417d-e4e3-8548e4f29aa4"
      },
      "source": [
        "%watermark -iv"
      ],
      "execution_count": 21,
      "outputs": [
        {
          "output_type": "stream",
          "text": [
            "torch 1.5.1+cu101\n",
            "numpy 1.18.5\n",
            "\n"
          ],
          "name": "stdout"
        }
      ]
    }
  ]
}