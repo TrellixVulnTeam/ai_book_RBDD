{
  "nbformat": 4,
  "nbformat_minor": 0,
  "metadata": {
    "accelerator": "GPU",
    "colab": {
      "name": "convnet-vgg16.ipynb",
      "provenance": [],
      "collapsed_sections": []
    },
    "kernelspec": {
      "display_name": "Python 3",
      "language": "python",
      "name": "python3"
    },
    "language_info": {
      "codemirror_mode": {
        "name": "ipython",
        "version": 3
      },
      "file_extension": ".py",
      "mimetype": "text/x-python",
      "name": "python",
      "nbconvert_exporter": "python",
      "pygments_lexer": "ipython3",
      "version": "3.7.3"
    },
    "toc": {
      "nav_menu": {},
      "number_sections": true,
      "sideBar": true,
      "skip_h1_title": false,
      "title_cell": "Table of Contents",
      "title_sidebar": "Contents",
      "toc_cell": true,
      "toc_position": {
        "height": "calc(100% - 180px)",
        "left": "10px",
        "top": "150px",
        "width": "371px"
      },
      "toc_section_display": true,
      "toc_window_display": true
    }
  },
  "cells": [
    {
      "cell_type": "markdown",
      "metadata": {
        "colab_type": "text",
        "id": "UEBilEjLj5wY"
      },
      "source": [
        "Deep Learning Models -- A collection of various deep learning architectures, models, and tips for TensorFlow and PyTorch in Jupyter Notebooks.\n",
        "- Author: Sebastian Raschka\n",
        "- GitHub Repository: https://github.com/rasbt/deeplearning-models"
      ]
    },
    {
      "cell_type": "code",
      "metadata": {
        "id": "vD5Yd8QdbjLu",
        "colab_type": "code",
        "colab": {}
      },
      "source": [
        "!pip install -q IPython\n",
        "!pip install -q ipykernel\n",
        "!pip install -q watermark\n",
        "!pip install -q matplotlib\n",
        "!pip install -q sklearn\n",
        "!pip install -q pandas\n",
        "!pip install -q pydot\n",
        "!pip install -q hiddenlayer\n",
        "!pip install -q graphviz"
      ],
      "execution_count": 8,
      "outputs": []
    },
    {
      "cell_type": "code",
      "metadata": {
        "colab_type": "code",
        "id": "GOzuY8Yvj5wb",
        "colab": {
          "base_uri": "https://localhost:8080/",
          "height": 155
        },
        "outputId": "d2b1a65d-d2ed-45b3-88a7-f0a8da497364"
      },
      "source": [
        "%load_ext watermark\n",
        "%watermark -a 'Sebastian Raschka' -v -p torch"
      ],
      "execution_count": 9,
      "outputs": [
        {
          "output_type": "stream",
          "text": [
            "The watermark extension is already loaded. To reload it, use:\n",
            "  %reload_ext watermark\n",
            "Sebastian Raschka \n",
            "\n",
            "CPython 3.6.9\n",
            "IPython 5.5.0\n",
            "\n",
            "torch 1.5.1+cu101\n"
          ],
          "name": "stdout"
        }
      ]
    },
    {
      "cell_type": "markdown",
      "metadata": {
        "colab_type": "text",
        "id": "rH4XmErYj5wm"
      },
      "source": [
        "# LeNet-5 MNIST Digits Classifier"
      ]
    },
    {
      "cell_type": "markdown",
      "metadata": {
        "id": "KZ13j6-wbgap",
        "colab_type": "text"
      },
      "source": [
        "This notebook implements the classic LeNet-5 convolutional network [1] and applies it to MNIST digit classification. The basic architecture is shown in the figure below:\n",
        "\n",
        "![](https://github.com/DeepSE/deeplearning-models/blob/master/pytorch_ipynb/images/lenet/lenet-5_1.jpg?raw=1)"
      ]
    },
    {
      "cell_type": "markdown",
      "metadata": {
        "id": "W56oRydEbgaq",
        "colab_type": "text"
      },
      "source": [
        "\n",
        "\n",
        "LeNet-5 is commonly regarded as the pioneer of convolutional neural networks, consisting of a very simple architecture (by modern standards). In total, LeNet-5 consists of only 7 layers. 3 out of these 7 layers are convolutional layers (C1, C3, C5), which are connected by two average pooling layers (S2 & S4). The penultimate layer is a fully connexted layer (F6), which is followed by the final output layer. The additional details are summarized below:\n",
        "\n",
        "- All convolutional layers use 5x5 kernels with stride 1.\n",
        "- The two average pooling (subsampling) layers are 2x2 pixels wide with stride 1.\n",
        "- Throughrout the network, tanh sigmoid activation functions are used. (**In this notebook, we replace these with ReLU activations**)\n",
        "- The output layer uses 10 custom Euclidean Radial Basis Function neurons for the output layer. (**In this notebook, we replace these with softmax activations**)\n",
        "- The input size is 32x32; here, we rescale the MNIST images from 28x28 to 32x32 to match this input dimension. Alternatively, we would have to change the \n",
        "achieve error rate below 1% on the MNIST data set, which was very close to the state of the art at the time (produced by a boosted ensemble of three LeNet-4 networks).\n",
        "\n",
        "\n",
        "### References\n",
        "\n",
        "- [1] Y. LeCun, L. Bottou, Y. Bengio, and P. Haffner. Gradient-based learning applied to document recognition. Proceedings of the IEEE, november 1998."
      ]
    },
    {
      "cell_type": "markdown",
      "metadata": {
        "colab_type": "text",
        "id": "MkoGLH_Tj5wn"
      },
      "source": [
        "## Imports"
      ]
    },
    {
      "cell_type": "code",
      "metadata": {
        "colab_type": "code",
        "id": "ORj09gnrj5wp",
        "colab": {}
      },
      "source": [
        "import os\n",
        "import time\n",
        "\n",
        "import numpy as np\n",
        "import pandas as pd\n",
        "\n",
        "import torch\n",
        "import torch.nn as nn\n",
        "import torch.nn.functional as F\n",
        "from torch.utils.data import DataLoader\n",
        "\n",
        "from torchvision import datasets\n",
        "from torchvision import transforms\n",
        "\n",
        "import matplotlib.pyplot as plt\n",
        "from PIL import Image\n",
        "\n",
        "\n",
        "if torch.cuda.is_available():\n",
        "    torch.backends.cudnn.deterministic = True"
      ],
      "execution_count": 10,
      "outputs": []
    },
    {
      "cell_type": "markdown",
      "metadata": {
        "colab_type": "text",
        "id": "I6hghKPxj5w0"
      },
      "source": [
        "## Model Settings"
      ]
    },
    {
      "cell_type": "code",
      "metadata": {
        "colab_type": "code",
        "id": "NnT0sZIwj5wu",
        "colab": {}
      },
      "source": [
        "##########################\n",
        "### SETTINGS\n",
        "##########################\n",
        "\n",
        "# Hyperparameters\n",
        "RANDOM_SEED = 1\n",
        "LEARNING_RATE = 0.001\n",
        "BATCH_SIZE = 128\n",
        "NUM_EPOCHS = 10\n",
        "\n",
        "# Architecture\n",
        "NUM_FEATURES = 32*32\n",
        "NUM_CLASSES = 10\n",
        "\n",
        "# Other\n",
        "DEVICE = torch.device(\"cuda\" if torch.cuda.is_available() else \"cpu\")\n",
        "GRAYSCALE = True"
      ],
      "execution_count": 11,
      "outputs": []
    },
    {
      "cell_type": "markdown",
      "metadata": {
        "id": "nqGHxsLYbgax",
        "colab_type": "text"
      },
      "source": [
        "### MNIST Dataset"
      ]
    },
    {
      "cell_type": "code",
      "metadata": {
        "id": "GrXDcKY_bgax",
        "colab_type": "code",
        "colab": {
          "base_uri": "https://localhost:8080/",
          "height": 52
        },
        "outputId": "0550f902-18ce-4afa-9017-535593f837b1"
      },
      "source": [
        "##########################\n",
        "### MNIST DATASET\n",
        "##########################\n",
        "\n",
        "resize_transform = transforms.Compose([transforms.Resize((32, 32)),\n",
        "                                       transforms.ToTensor()])\n",
        "\n",
        "# Note transforms.ToTensor() scales input images\n",
        "# to 0-1 range\n",
        "train_dataset = datasets.MNIST(root='data', \n",
        "                               train=True, \n",
        "                               transform=resize_transform,\n",
        "                               download=True)\n",
        "\n",
        "test_dataset = datasets.MNIST(root='data', \n",
        "                              train=False, \n",
        "                              transform=resize_transform)\n",
        "\n",
        "\n",
        "train_loader = DataLoader(dataset=train_dataset, \n",
        "                          batch_size=BATCH_SIZE, \n",
        "                          shuffle=True)\n",
        "\n",
        "test_loader = DataLoader(dataset=test_dataset, \n",
        "                         batch_size=BATCH_SIZE, \n",
        "                         shuffle=False)\n",
        "\n",
        "# Checking the dataset\n",
        "for images, labels in train_loader:  \n",
        "    print('Image batch dimensions:', images.shape)\n",
        "    print('Image label dimensions:', labels.shape)\n",
        "    break"
      ],
      "execution_count": 12,
      "outputs": [
        {
          "output_type": "stream",
          "text": [
            "Image batch dimensions: torch.Size([128, 1, 32, 32])\n",
            "Image label dimensions: torch.Size([128])\n"
          ],
          "name": "stdout"
        }
      ]
    },
    {
      "cell_type": "code",
      "metadata": {
        "id": "0I2z-IQObga0",
        "colab_type": "code",
        "colab": {
          "base_uri": "https://localhost:8080/",
          "height": 52
        },
        "outputId": "34983c6b-134f-4870-9dd1-67f462baea89"
      },
      "source": [
        "device = torch.device(DEVICE)\n",
        "torch.manual_seed(0)\n",
        "\n",
        "for epoch in range(2):\n",
        "\n",
        "    for batch_idx, (x, y) in enumerate(train_loader):\n",
        "        \n",
        "        print('Epoch:', epoch+1, end='')\n",
        "        print(' | Batch index:', batch_idx, end='')\n",
        "        print(' | Batch size:', y.size()[0])\n",
        "        \n",
        "        x = x.to(device)\n",
        "        y = y.to(device)\n",
        "        break"
      ],
      "execution_count": 13,
      "outputs": [
        {
          "output_type": "stream",
          "text": [
            "Epoch: 1 | Batch index: 0 | Batch size: 128\n",
            "Epoch: 2 | Batch index: 0 | Batch size: 128\n"
          ],
          "name": "stdout"
        }
      ]
    },
    {
      "cell_type": "code",
      "metadata": {
        "id": "zPD2Colubga2",
        "colab_type": "code",
        "colab": {}
      },
      "source": [
        "##########################\n",
        "### MODEL\n",
        "##########################\n",
        "\n",
        "\n",
        "class LeNet5(nn.Module):\n",
        "\n",
        "    def __init__(self, num_classes, grayscale=False):\n",
        "        super(LeNet5, self).__init__()\n",
        "        \n",
        "        self.grayscale = grayscale\n",
        "        self.num_classes = num_classes\n",
        "\n",
        "        if self.grayscale:\n",
        "            in_channels = 1\n",
        "        else:\n",
        "            in_channels = 3\n",
        "\n",
        "        self.features = nn.Sequential(\n",
        "            \n",
        "            nn.Conv2d(in_channels, 6, kernel_size=5),\n",
        "            nn.Tanh(),\n",
        "            nn.MaxPool2d(kernel_size=2),\n",
        "            nn.Conv2d(6, 16, kernel_size=5),\n",
        "            nn.Tanh(),\n",
        "            nn.MaxPool2d(kernel_size=2)\n",
        "        )\n",
        "\n",
        "        self.classifier = nn.Sequential(\n",
        "            nn.Linear(16*5*5, 120),\n",
        "            nn.Tanh(),\n",
        "            nn.Linear(120, 84),\n",
        "            nn.Tanh(),\n",
        "            nn.Linear(84, num_classes),\n",
        "        )\n",
        "\n",
        "\n",
        "    def forward(self, x):\n",
        "        x = self.features(x)\n",
        "        x = torch.flatten(x, 1)\n",
        "        logits = self.classifier(x)\n",
        "        probas = F.softmax(logits, dim=1)\n",
        "        return logits, probas"
      ],
      "execution_count": 14,
      "outputs": []
    },
    {
      "cell_type": "code",
      "metadata": {
        "colab_type": "code",
        "id": "_lza9t_uj5w1",
        "colab": {}
      },
      "source": [
        "torch.manual_seed(RANDOM_SEED)\n",
        "\n",
        "model = LeNet5(NUM_CLASSES, GRAYSCALE)\n",
        "model.to(DEVICE)\n",
        "\n",
        "optimizer = torch.optim.Adam(model.parameters(), lr=LEARNING_RATE)  "
      ],
      "execution_count": 15,
      "outputs": []
    },
    {
      "cell_type": "code",
      "metadata": {
        "id": "SsCKIE-3bssZ",
        "colab_type": "code",
        "colab": {
          "base_uri": "https://localhost:8080/",
          "height": 185
        },
        "outputId": "33cab188-b78e-4979-c524-bc34d80c9ace"
      },
      "source": [
        "import hiddenlayer as hl\n",
        "hl.build_graph(model, torch.zeros([128, 1, 32, 32]).to(device))"
      ],
      "execution_count": 16,
      "outputs": [
        {
          "output_type": "execute_result",
          "data": {
            "text/plain": [
              "<hiddenlayer.graph.Graph at 0x7fec03390f98>"
            ],
            "image/svg+xml": "<?xml version=\"1.0\" encoding=\"UTF-8\" standalone=\"no\"?>\n<!DOCTYPE svg PUBLIC \"-//W3C//DTD SVG 1.1//EN\"\n \"http://www.w3.org/Graphics/SVG/1.1/DTD/svg11.dtd\">\n<!-- Generated by graphviz version 2.40.1 (20161225.0304)\n -->\n<!-- Title: %3 Pages: 1 -->\n<svg width=\"1874pt\" height=\"108pt\"\n viewBox=\"0.00 0.00 1874.00 108.00\" xmlns=\"http://www.w3.org/2000/svg\" xmlns:xlink=\"http://www.w3.org/1999/xlink\">\n<g id=\"graph0\" class=\"graph\" transform=\"scale(1 1) rotate(0) translate(72 72)\">\n<title>%3</title>\n<polygon fill=\"#ffffff\" stroke=\"transparent\" points=\"-72,36 -72,-72 1802,-72 1802,36 -72,36\"/>\n<!-- /outputs/11 -->\n<g id=\"node1\" class=\"node\">\n<title>/outputs/11</title>\n<polygon fill=\"#e8e8e8\" stroke=\"#000000\" points=\"55,-36 0,-36 0,0 55,0 55,-36\"/>\n<text text-anchor=\"start\" x=\"8.5\" y=\"-15\" font-family=\"Times\" font-size=\"10.00\" fill=\"#000000\">Conv5x5</text>\n</g>\n<!-- /outputs/12 -->\n<g id=\"node2\" class=\"node\">\n<title>/outputs/12</title>\n<polygon fill=\"#e8e8e8\" stroke=\"#000000\" points=\"203,-36 149,-36 149,0 203,0 203,-36\"/>\n<text text-anchor=\"start\" x=\"166\" y=\"-15\" font-family=\"Times\" font-size=\"10.00\" fill=\"#000000\">Tanh</text>\n</g>\n<!-- /outputs/11&#45;&gt;/outputs/12 -->\n<g id=\"edge1\" class=\"edge\">\n<title>/outputs/11&#45;&gt;/outputs/12</title>\n<path fill=\"none\" stroke=\"#000000\" d=\"M55.0837,-18C78.6004,-18 112.6203,-18 138.5884,-18\"/>\n<polygon fill=\"#000000\" stroke=\"#000000\" points=\"138.8148,-21.5001 148.8148,-18 138.8148,-14.5001 138.8148,-21.5001\"/>\n<text text-anchor=\"middle\" x=\"102\" y=\"-21\" font-family=\"Times\" font-size=\"10.00\" fill=\"#000000\">128x6x28x28</text>\n</g>\n<!-- /outputs/13 -->\n<g id=\"node3\" class=\"node\">\n<title>/outputs/13</title>\n<polygon fill=\"#e8e8e8\" stroke=\"#000000\" points=\"367,-36 297,-36 297,0 367,0 367,-36\"/>\n<text text-anchor=\"start\" x=\"305\" y=\"-15\" font-family=\"Times\" font-size=\"10.00\" fill=\"#000000\">MaxPool2x2</text>\n</g>\n<!-- /outputs/12&#45;&gt;/outputs/13 -->\n<g id=\"edge2\" class=\"edge\">\n<title>/outputs/12&#45;&gt;/outputs/13</title>\n<path fill=\"none\" stroke=\"#000000\" d=\"M203.1731,-18C226.2401,-18 259.8114,-18 286.9005,-18\"/>\n<polygon fill=\"#000000\" stroke=\"#000000\" points=\"286.9298,-21.5001 296.9298,-18 286.9298,-14.5001 286.9298,-21.5001\"/>\n<text text-anchor=\"middle\" x=\"250\" y=\"-21\" font-family=\"Times\" font-size=\"10.00\" fill=\"#000000\">128x6x28x28</text>\n</g>\n<!-- /outputs/14 -->\n<g id=\"node4\" class=\"node\">\n<title>/outputs/14</title>\n<polygon fill=\"#e8e8e8\" stroke=\"#000000\" points=\"516,-36 461,-36 461,0 516,0 516,-36\"/>\n<text text-anchor=\"start\" x=\"469.5\" y=\"-15\" font-family=\"Times\" font-size=\"10.00\" fill=\"#000000\">Conv5x5</text>\n</g>\n<!-- /outputs/13&#45;&gt;/outputs/14 -->\n<g id=\"edge3\" class=\"edge\">\n<title>/outputs/13&#45;&gt;/outputs/14</title>\n<path fill=\"none\" stroke=\"#000000\" d=\"M367.1217,-18C391.9926,-18 425.317,-18 450.7558,-18\"/>\n<polygon fill=\"#000000\" stroke=\"#000000\" points=\"450.7787,-21.5001 460.7786,-18 450.7786,-14.5001 450.7787,-21.5001\"/>\n<text text-anchor=\"middle\" x=\"414\" y=\"-21\" font-family=\"Times\" font-size=\"10.00\" fill=\"#000000\">128x6x14x14</text>\n</g>\n<!-- /outputs/15 -->\n<g id=\"node5\" class=\"node\">\n<title>/outputs/15</title>\n<polygon fill=\"#e8e8e8\" stroke=\"#000000\" points=\"670,-36 616,-36 616,0 670,0 670,-36\"/>\n<text text-anchor=\"start\" x=\"633\" y=\"-15\" font-family=\"Times\" font-size=\"10.00\" fill=\"#000000\">Tanh</text>\n</g>\n<!-- /outputs/14&#45;&gt;/outputs/15 -->\n<g id=\"edge4\" class=\"edge\">\n<title>/outputs/14&#45;&gt;/outputs/15</title>\n<path fill=\"none\" stroke=\"#000000\" d=\"M516.1215,-18C541.1348,-18 578.1865,-18 605.8004,-18\"/>\n<polygon fill=\"#000000\" stroke=\"#000000\" points=\"605.8768,-21.5001 615.8768,-18 605.8767,-14.5001 605.8768,-21.5001\"/>\n<text text-anchor=\"middle\" x=\"566\" y=\"-21\" font-family=\"Times\" font-size=\"10.00\" fill=\"#000000\">128x16x10x10</text>\n</g>\n<!-- /outputs/16 -->\n<g id=\"node6\" class=\"node\">\n<title>/outputs/16</title>\n<polygon fill=\"#e8e8e8\" stroke=\"#000000\" points=\"840,-36 770,-36 770,0 840,0 840,-36\"/>\n<text text-anchor=\"start\" x=\"778\" y=\"-15\" font-family=\"Times\" font-size=\"10.00\" fill=\"#000000\">MaxPool2x2</text>\n</g>\n<!-- /outputs/15&#45;&gt;/outputs/16 -->\n<g id=\"edge5\" class=\"edge\">\n<title>/outputs/15&#45;&gt;/outputs/16</title>\n<path fill=\"none\" stroke=\"#000000\" d=\"M670.1152,-18C694.5025,-18 730.8163,-18 759.6234,-18\"/>\n<polygon fill=\"#000000\" stroke=\"#000000\" points=\"759.8609,-21.5001 769.8609,-18 759.8609,-14.5001 759.8609,-21.5001\"/>\n<text text-anchor=\"middle\" x=\"720\" y=\"-21\" font-family=\"Times\" font-size=\"10.00\" fill=\"#000000\">128x16x10x10</text>\n</g>\n<!-- /outputs/17 -->\n<g id=\"node7\" class=\"node\">\n<title>/outputs/17</title>\n<polygon fill=\"#e8e8e8\" stroke=\"#000000\" points=\"983,-36 929,-36 929,0 983,0 983,-36\"/>\n<text text-anchor=\"start\" x=\"942\" y=\"-15\" font-family=\"Times\" font-size=\"10.00\" fill=\"#000000\">Flatten</text>\n</g>\n<!-- /outputs/16&#45;&gt;/outputs/17 -->\n<g id=\"edge6\" class=\"edge\">\n<title>/outputs/16&#45;&gt;/outputs/17</title>\n<path fill=\"none\" stroke=\"#000000\" d=\"M840.022,-18C863.5486,-18 894.5202,-18 918.5391,-18\"/>\n<polygon fill=\"#000000\" stroke=\"#000000\" points=\"918.6988,-21.5001 928.6988,-18 918.6987,-14.5001 918.6988,-21.5001\"/>\n<text text-anchor=\"middle\" x=\"884.5\" y=\"-21\" font-family=\"Times\" font-size=\"10.00\" fill=\"#000000\">128x16x5x5</text>\n</g>\n<!-- /outputs/18 -->\n<g id=\"node8\" class=\"node\">\n<title>/outputs/18</title>\n<polygon fill=\"#e8e8e8\" stroke=\"#000000\" points=\"1110,-36 1056,-36 1056,0 1110,0 1110,-36\"/>\n<text text-anchor=\"start\" x=\"1070\" y=\"-15\" font-family=\"Times\" font-size=\"10.00\" fill=\"#000000\">Linear</text>\n</g>\n<!-- /outputs/17&#45;&gt;/outputs/18 -->\n<g id=\"edge7\" class=\"edge\">\n<title>/outputs/17&#45;&gt;/outputs/18</title>\n<path fill=\"none\" stroke=\"#000000\" d=\"M983.2447,-18C1001.492,-18 1025.746,-18 1045.7693,-18\"/>\n<polygon fill=\"#000000\" stroke=\"#000000\" points=\"1045.8004,-21.5001 1055.8004,-18 1045.8003,-14.5001 1045.8004,-21.5001\"/>\n<text text-anchor=\"middle\" x=\"1019.5\" y=\"-21\" font-family=\"Times\" font-size=\"10.00\" fill=\"#000000\">128x400</text>\n</g>\n<!-- /outputs/19 -->\n<g id=\"node9\" class=\"node\">\n<title>/outputs/19</title>\n<polygon fill=\"#e8e8e8\" stroke=\"#000000\" points=\"1237,-36 1183,-36 1183,0 1237,0 1237,-36\"/>\n<text text-anchor=\"start\" x=\"1200\" y=\"-15\" font-family=\"Times\" font-size=\"10.00\" fill=\"#000000\">Tanh</text>\n</g>\n<!-- /outputs/18&#45;&gt;/outputs/19 -->\n<g id=\"edge8\" class=\"edge\">\n<title>/outputs/18&#45;&gt;/outputs/19</title>\n<path fill=\"none\" stroke=\"#000000\" d=\"M1110.2447,-18C1128.492,-18 1152.746,-18 1172.7693,-18\"/>\n<polygon fill=\"#000000\" stroke=\"#000000\" points=\"1172.8004,-21.5001 1182.8004,-18 1172.8003,-14.5001 1172.8004,-21.5001\"/>\n<text text-anchor=\"middle\" x=\"1146.5\" y=\"-21\" font-family=\"Times\" font-size=\"10.00\" fill=\"#000000\">128x120</text>\n</g>\n<!-- /outputs/20 -->\n<g id=\"node10\" class=\"node\">\n<title>/outputs/20</title>\n<polygon fill=\"#e8e8e8\" stroke=\"#000000\" points=\"1364,-36 1310,-36 1310,0 1364,0 1364,-36\"/>\n<text text-anchor=\"start\" x=\"1324\" y=\"-15\" font-family=\"Times\" font-size=\"10.00\" fill=\"#000000\">Linear</text>\n</g>\n<!-- /outputs/19&#45;&gt;/outputs/20 -->\n<g id=\"edge9\" class=\"edge\">\n<title>/outputs/19&#45;&gt;/outputs/20</title>\n<path fill=\"none\" stroke=\"#000000\" d=\"M1237.2447,-18C1255.492,-18 1279.746,-18 1299.7693,-18\"/>\n<polygon fill=\"#000000\" stroke=\"#000000\" points=\"1299.8004,-21.5001 1309.8004,-18 1299.8003,-14.5001 1299.8004,-21.5001\"/>\n<text text-anchor=\"middle\" x=\"1273.5\" y=\"-21\" font-family=\"Times\" font-size=\"10.00\" fill=\"#000000\">128x120</text>\n</g>\n<!-- /outputs/21 -->\n<g id=\"node11\" class=\"node\">\n<title>/outputs/21</title>\n<polygon fill=\"#e8e8e8\" stroke=\"#000000\" points=\"1486,-36 1432,-36 1432,0 1486,0 1486,-36\"/>\n<text text-anchor=\"start\" x=\"1449\" y=\"-15\" font-family=\"Times\" font-size=\"10.00\" fill=\"#000000\">Tanh</text>\n</g>\n<!-- /outputs/20&#45;&gt;/outputs/21 -->\n<g id=\"edge10\" class=\"edge\">\n<title>/outputs/20&#45;&gt;/outputs/21</title>\n<path fill=\"none\" stroke=\"#000000\" d=\"M1364.0758,-18C1381.0553,-18 1403.1767,-18 1421.7924,-18\"/>\n<polygon fill=\"#000000\" stroke=\"#000000\" points=\"1422,-21.5001 1431.9999,-18 1421.9999,-14.5001 1422,-21.5001\"/>\n<text text-anchor=\"middle\" x=\"1398\" y=\"-21\" font-family=\"Times\" font-size=\"10.00\" fill=\"#000000\">128x84</text>\n</g>\n<!-- /outputs/22 -->\n<g id=\"node12\" class=\"node\">\n<title>/outputs/22</title>\n<polygon fill=\"#e8e8e8\" stroke=\"#000000\" points=\"1608,-36 1554,-36 1554,0 1608,0 1608,-36\"/>\n<text text-anchor=\"start\" x=\"1568\" y=\"-15\" font-family=\"Times\" font-size=\"10.00\" fill=\"#000000\">Linear</text>\n</g>\n<!-- /outputs/21&#45;&gt;/outputs/22 -->\n<g id=\"edge11\" class=\"edge\">\n<title>/outputs/21&#45;&gt;/outputs/22</title>\n<path fill=\"none\" stroke=\"#000000\" d=\"M1486.0758,-18C1503.0553,-18 1525.1767,-18 1543.7924,-18\"/>\n<polygon fill=\"#000000\" stroke=\"#000000\" points=\"1544,-21.5001 1553.9999,-18 1543.9999,-14.5001 1544,-21.5001\"/>\n<text text-anchor=\"middle\" x=\"1520\" y=\"-21\" font-family=\"Times\" font-size=\"10.00\" fill=\"#000000\">128x84</text>\n</g>\n<!-- /outputs/23 -->\n<g id=\"node13\" class=\"node\">\n<title>/outputs/23</title>\n<polygon fill=\"#e8e8e8\" stroke=\"#000000\" points=\"1730,-36 1676,-36 1676,0 1730,0 1730,-36\"/>\n<text text-anchor=\"start\" x=\"1686\" y=\"-15\" font-family=\"Times\" font-size=\"10.00\" fill=\"#000000\">Softmax</text>\n</g>\n<!-- /outputs/22&#45;&gt;/outputs/23 -->\n<g id=\"edge12\" class=\"edge\">\n<title>/outputs/22&#45;&gt;/outputs/23</title>\n<path fill=\"none\" stroke=\"#000000\" d=\"M1608.0758,-18C1625.0553,-18 1647.1767,-18 1665.7924,-18\"/>\n<polygon fill=\"#000000\" stroke=\"#000000\" points=\"1666,-21.5001 1675.9999,-18 1665.9999,-14.5001 1666,-21.5001\"/>\n<text text-anchor=\"middle\" x=\"1642\" y=\"-21\" font-family=\"Times\" font-size=\"10.00\" fill=\"#000000\">128x10</text>\n</g>\n</g>\n</svg>\n"
          },
          "metadata": {
            "tags": []
          },
          "execution_count": 16
        }
      ]
    },
    {
      "cell_type": "markdown",
      "metadata": {
        "colab_type": "text",
        "id": "RAodboScj5w6"
      },
      "source": [
        "## Training"
      ]
    },
    {
      "cell_type": "code",
      "metadata": {
        "colab_type": "code",
        "id": "Dzh3ROmRj5w7",
        "colab": {
          "base_uri": "https://localhost:8080/",
          "height": 1000
        },
        "outputId": "325158bc-5f09-4fd9-99e7-7c867cfa976d"
      },
      "source": [
        "def compute_accuracy(model, data_loader, device):\n",
        "    correct_pred, num_examples = 0, 0\n",
        "    for i, (features, targets) in enumerate(data_loader):\n",
        "            \n",
        "        features = features.to(device)\n",
        "        targets = targets.to(device)\n",
        "\n",
        "        logits, probas = model(features)\n",
        "        _, predicted_labels = torch.max(probas, 1)\n",
        "        num_examples += targets.size(0)\n",
        "        correct_pred += (predicted_labels == targets).sum()\n",
        "    return correct_pred.float()/num_examples * 100\n",
        "    \n",
        "\n",
        "start_time = time.time()\n",
        "for epoch in range(NUM_EPOCHS):\n",
        "    \n",
        "    model.train()\n",
        "    for batch_idx, (features, targets) in enumerate(train_loader):\n",
        "        \n",
        "        features = features.to(DEVICE)\n",
        "        targets = targets.to(DEVICE)\n",
        "            \n",
        "        ### FORWARD AND BACK PROP\n",
        "        logits, probas = model(features)\n",
        "        cost = F.cross_entropy(logits, targets)\n",
        "        optimizer.zero_grad()\n",
        "        \n",
        "        cost.backward()\n",
        "        \n",
        "        ### UPDATE MODEL PARAMETERS\n",
        "        optimizer.step()\n",
        "        \n",
        "        ### LOGGING\n",
        "        if not batch_idx % 50:\n",
        "            print ('Epoch: %03d/%03d | Batch %04d/%04d | Cost: %.4f' \n",
        "                   %(epoch+1, NUM_EPOCHS, batch_idx, \n",
        "                     len(train_loader), cost))\n",
        "\n",
        "        \n",
        "\n",
        "    model.eval()\n",
        "    with torch.set_grad_enabled(False): # save memory during inference\n",
        "        print('Epoch: %03d/%03d | Train: %.3f%%' % (\n",
        "              epoch+1, NUM_EPOCHS, \n",
        "              compute_accuracy(model, train_loader, device=DEVICE)))\n",
        "        \n",
        "    print('Time elapsed: %.2f min' % ((time.time() - start_time)/60))\n",
        "    \n",
        "print('Total Training Time: %.2f min' % ((time.time() - start_time)/60))"
      ],
      "execution_count": 17,
      "outputs": [
        {
          "output_type": "stream",
          "text": [
            "Epoch: 001/010 | Batch 0000/0469 | Cost: 2.3055\n",
            "Epoch: 001/010 | Batch 0050/0469 | Cost: 0.5465\n",
            "Epoch: 001/010 | Batch 0100/0469 | Cost: 0.3708\n",
            "Epoch: 001/010 | Batch 0150/0469 | Cost: 0.3408\n",
            "Epoch: 001/010 | Batch 0200/0469 | Cost: 0.1298\n",
            "Epoch: 001/010 | Batch 0250/0469 | Cost: 0.1857\n",
            "Epoch: 001/010 | Batch 0300/0469 | Cost: 0.0940\n",
            "Epoch: 001/010 | Batch 0350/0469 | Cost: 0.1851\n",
            "Epoch: 001/010 | Batch 0400/0469 | Cost: 0.1424\n",
            "Epoch: 001/010 | Batch 0450/0469 | Cost: 0.0622\n",
            "Epoch: 001/010 | Train: 96.660%\n",
            "Time elapsed: 0.19 min\n",
            "Epoch: 002/010 | Batch 0000/0469 | Cost: 0.0661\n",
            "Epoch: 002/010 | Batch 0050/0469 | Cost: 0.1021\n",
            "Epoch: 002/010 | Batch 0100/0469 | Cost: 0.0811\n",
            "Epoch: 002/010 | Batch 0150/0469 | Cost: 0.1708\n",
            "Epoch: 002/010 | Batch 0200/0469 | Cost: 0.0639\n",
            "Epoch: 002/010 | Batch 0250/0469 | Cost: 0.0768\n",
            "Epoch: 002/010 | Batch 0300/0469 | Cost: 0.0424\n",
            "Epoch: 002/010 | Batch 0350/0469 | Cost: 0.0944\n",
            "Epoch: 002/010 | Batch 0400/0469 | Cost: 0.0303\n",
            "Epoch: 002/010 | Batch 0450/0469 | Cost: 0.0687\n",
            "Epoch: 002/010 | Train: 98.228%\n",
            "Time elapsed: 0.37 min\n",
            "Epoch: 003/010 | Batch 0000/0469 | Cost: 0.0859\n",
            "Epoch: 003/010 | Batch 0050/0469 | Cost: 0.0320\n",
            "Epoch: 003/010 | Batch 0100/0469 | Cost: 0.0312\n",
            "Epoch: 003/010 | Batch 0150/0469 | Cost: 0.0588\n",
            "Epoch: 003/010 | Batch 0200/0469 | Cost: 0.0503\n",
            "Epoch: 003/010 | Batch 0250/0469 | Cost: 0.0484\n",
            "Epoch: 003/010 | Batch 0300/0469 | Cost: 0.0493\n",
            "Epoch: 003/010 | Batch 0350/0469 | Cost: 0.1142\n",
            "Epoch: 003/010 | Batch 0400/0469 | Cost: 0.0166\n",
            "Epoch: 003/010 | Batch 0450/0469 | Cost: 0.0300\n",
            "Epoch: 003/010 | Train: 98.742%\n",
            "Time elapsed: 0.56 min\n",
            "Epoch: 004/010 | Batch 0000/0469 | Cost: 0.1137\n",
            "Epoch: 004/010 | Batch 0050/0469 | Cost: 0.0244\n",
            "Epoch: 004/010 | Batch 0100/0469 | Cost: 0.0169\n",
            "Epoch: 004/010 | Batch 0150/0469 | Cost: 0.0103\n",
            "Epoch: 004/010 | Batch 0200/0469 | Cost: 0.0486\n",
            "Epoch: 004/010 | Batch 0250/0469 | Cost: 0.0435\n",
            "Epoch: 004/010 | Batch 0300/0469 | Cost: 0.0154\n",
            "Epoch: 004/010 | Batch 0350/0469 | Cost: 0.0602\n",
            "Epoch: 004/010 | Batch 0400/0469 | Cost: 0.0333\n",
            "Epoch: 004/010 | Batch 0450/0469 | Cost: 0.1404\n",
            "Epoch: 004/010 | Train: 98.900%\n",
            "Time elapsed: 0.75 min\n",
            "Epoch: 005/010 | Batch 0000/0469 | Cost: 0.0128\n",
            "Epoch: 005/010 | Batch 0050/0469 | Cost: 0.0533\n",
            "Epoch: 005/010 | Batch 0100/0469 | Cost: 0.0491\n",
            "Epoch: 005/010 | Batch 0150/0469 | Cost: 0.0052\n",
            "Epoch: 005/010 | Batch 0200/0469 | Cost: 0.0456\n",
            "Epoch: 005/010 | Batch 0250/0469 | Cost: 0.0046\n",
            "Epoch: 005/010 | Batch 0300/0469 | Cost: 0.0513\n",
            "Epoch: 005/010 | Batch 0350/0469 | Cost: 0.0696\n",
            "Epoch: 005/010 | Batch 0400/0469 | Cost: 0.0772\n",
            "Epoch: 005/010 | Batch 0450/0469 | Cost: 0.0186\n",
            "Epoch: 005/010 | Train: 99.383%\n",
            "Time elapsed: 0.93 min\n",
            "Epoch: 006/010 | Batch 0000/0469 | Cost: 0.0357\n",
            "Epoch: 006/010 | Batch 0050/0469 | Cost: 0.0069\n",
            "Epoch: 006/010 | Batch 0100/0469 | Cost: 0.0158\n",
            "Epoch: 006/010 | Batch 0150/0469 | Cost: 0.0710\n",
            "Epoch: 006/010 | Batch 0200/0469 | Cost: 0.0097\n",
            "Epoch: 006/010 | Batch 0250/0469 | Cost: 0.0364\n",
            "Epoch: 006/010 | Batch 0300/0469 | Cost: 0.0043\n",
            "Epoch: 006/010 | Batch 0350/0469 | Cost: 0.0227\n",
            "Epoch: 006/010 | Batch 0400/0469 | Cost: 0.0093\n",
            "Epoch: 006/010 | Batch 0450/0469 | Cost: 0.0924\n",
            "Epoch: 006/010 | Train: 99.445%\n",
            "Time elapsed: 1.12 min\n",
            "Epoch: 007/010 | Batch 0000/0469 | Cost: 0.0091\n",
            "Epoch: 007/010 | Batch 0050/0469 | Cost: 0.0074\n",
            "Epoch: 007/010 | Batch 0100/0469 | Cost: 0.0052\n",
            "Epoch: 007/010 | Batch 0150/0469 | Cost: 0.0106\n",
            "Epoch: 007/010 | Batch 0200/0469 | Cost: 0.0277\n",
            "Epoch: 007/010 | Batch 0250/0469 | Cost: 0.0222\n",
            "Epoch: 007/010 | Batch 0300/0469 | Cost: 0.0284\n",
            "Epoch: 007/010 | Batch 0350/0469 | Cost: 0.0064\n",
            "Epoch: 007/010 | Batch 0400/0469 | Cost: 0.0231\n",
            "Epoch: 007/010 | Batch 0450/0469 | Cost: 0.0030\n",
            "Epoch: 007/010 | Train: 99.568%\n",
            "Time elapsed: 1.31 min\n",
            "Epoch: 008/010 | Batch 0000/0469 | Cost: 0.0032\n",
            "Epoch: 008/010 | Batch 0050/0469 | Cost: 0.0060\n",
            "Epoch: 008/010 | Batch 0100/0469 | Cost: 0.0035\n",
            "Epoch: 008/010 | Batch 0150/0469 | Cost: 0.0079\n",
            "Epoch: 008/010 | Batch 0200/0469 | Cost: 0.0293\n",
            "Epoch: 008/010 | Batch 0250/0469 | Cost: 0.0188\n",
            "Epoch: 008/010 | Batch 0300/0469 | Cost: 0.0048\n",
            "Epoch: 008/010 | Batch 0350/0469 | Cost: 0.0091\n",
            "Epoch: 008/010 | Batch 0400/0469 | Cost: 0.0166\n",
            "Epoch: 008/010 | Batch 0450/0469 | Cost: 0.0083\n",
            "Epoch: 008/010 | Train: 99.750%\n",
            "Time elapsed: 1.50 min\n",
            "Epoch: 009/010 | Batch 0000/0469 | Cost: 0.0017\n",
            "Epoch: 009/010 | Batch 0050/0469 | Cost: 0.0049\n",
            "Epoch: 009/010 | Batch 0100/0469 | Cost: 0.0067\n",
            "Epoch: 009/010 | Batch 0150/0469 | Cost: 0.0008\n",
            "Epoch: 009/010 | Batch 0200/0469 | Cost: 0.0137\n",
            "Epoch: 009/010 | Batch 0250/0469 | Cost: 0.0136\n",
            "Epoch: 009/010 | Batch 0300/0469 | Cost: 0.0031\n",
            "Epoch: 009/010 | Batch 0350/0469 | Cost: 0.0038\n",
            "Epoch: 009/010 | Batch 0400/0469 | Cost: 0.0059\n",
            "Epoch: 009/010 | Batch 0450/0469 | Cost: 0.0009\n",
            "Epoch: 009/010 | Train: 99.782%\n",
            "Time elapsed: 1.69 min\n",
            "Epoch: 010/010 | Batch 0000/0469 | Cost: 0.0047\n",
            "Epoch: 010/010 | Batch 0050/0469 | Cost: 0.0339\n",
            "Epoch: 010/010 | Batch 0100/0469 | Cost: 0.0058\n",
            "Epoch: 010/010 | Batch 0150/0469 | Cost: 0.0185\n",
            "Epoch: 010/010 | Batch 0200/0469 | Cost: 0.0123\n",
            "Epoch: 010/010 | Batch 0250/0469 | Cost: 0.0188\n",
            "Epoch: 010/010 | Batch 0300/0469 | Cost: 0.0094\n",
            "Epoch: 010/010 | Batch 0350/0469 | Cost: 0.0065\n",
            "Epoch: 010/010 | Batch 0400/0469 | Cost: 0.0028\n",
            "Epoch: 010/010 | Batch 0450/0469 | Cost: 0.0095\n",
            "Epoch: 010/010 | Train: 99.850%\n",
            "Time elapsed: 1.87 min\n",
            "Total Training Time: 1.87 min\n"
          ],
          "name": "stdout"
        }
      ]
    },
    {
      "cell_type": "markdown",
      "metadata": {
        "colab_type": "text",
        "id": "paaeEQHQj5xC"
      },
      "source": [
        "## Evaluation"
      ]
    },
    {
      "cell_type": "code",
      "metadata": {
        "colab_type": "code",
        "id": "gzQMWKq5j5xE",
        "colab": {
          "base_uri": "https://localhost:8080/",
          "height": 35
        },
        "outputId": "d29dd2e1-3b5c-47f1-e75a-4cca0b643a4a"
      },
      "source": [
        "with torch.set_grad_enabled(False): # save memory during inference\n",
        "    print('Test accuracy: %.2f%%' % (compute_accuracy(model, test_loader, device=DEVICE)))"
      ],
      "execution_count": 18,
      "outputs": [
        {
          "output_type": "stream",
          "text": [
            "Test accuracy: 98.86%\n"
          ],
          "name": "stdout"
        }
      ]
    },
    {
      "cell_type": "code",
      "metadata": {
        "id": "Zyk2AnqHbgbB",
        "colab_type": "code",
        "colab": {
          "base_uri": "https://localhost:8080/",
          "height": 266
        },
        "outputId": "5ac02079-5293-4c16-fde3-dce63ebc1343"
      },
      "source": [
        "for batch_idx, (features, targets) in enumerate(test_loader):\n",
        "\n",
        "    features = features\n",
        "    targets = targets\n",
        "    break\n",
        "    \n",
        "    \n",
        "nhwc_img = np.transpose(features[0], axes=(1, 2, 0))\n",
        "nhw_img = np.squeeze(nhwc_img.numpy(), axis=2)\n",
        "plt.imshow(nhw_img, cmap='Greys');"
      ],
      "execution_count": 19,
      "outputs": [
        {
          "output_type": "display_data",
          "data": {
            "image/png": "[encoded data removed]",
            "text/plain": [
              "<Figure size 432x288 with 1 Axes>"
            ]
          },
          "metadata": {
            "tags": [],
            "needs_background": "light"
          }
        }
      ]
    },
    {
      "cell_type": "code",
      "metadata": {
        "id": "0_CBz0VUbgbE",
        "colab_type": "code",
        "colab": {
          "base_uri": "https://localhost:8080/",
          "height": 35
        },
        "outputId": "c8733a47-ad4d-454f-f605-312c7b246c0f"
      },
      "source": [
        "model.eval()\n",
        "logits, probas = model(features.to(device)[0, None])\n",
        "print('Probability 7 %.2f%%' % (probas[0][7]*100))"
      ],
      "execution_count": 20,
      "outputs": [
        {
          "output_type": "stream",
          "text": [
            "Probability 7 100.00%\n"
          ],
          "name": "stdout"
        }
      ]
    },
    {
      "cell_type": "code",
      "metadata": {
        "id": "50V6aybobgbG",
        "colab_type": "code",
        "colab": {
          "base_uri": "https://localhost:8080/",
          "height": 104
        },
        "outputId": "be6678ea-1a6e-46ea-fd2b-915af91ca9a0"
      },
      "source": [
        "%watermark -iv"
      ],
      "execution_count": 21,
      "outputs": [
        {
          "output_type": "stream",
          "text": [
            "PIL.Image 7.0.0\n",
            "torch     1.5.1+cu101\n",
            "numpy     1.18.5\n",
            "pandas    1.0.5\n",
            "\n"
          ],
          "name": "stdout"
        }
      ]
    }
  ]
}