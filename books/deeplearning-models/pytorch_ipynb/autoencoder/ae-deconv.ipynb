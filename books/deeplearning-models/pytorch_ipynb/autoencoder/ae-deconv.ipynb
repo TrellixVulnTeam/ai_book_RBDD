{
  "nbformat": 4,
  "nbformat_minor": 0,
  "metadata": {
    "kernelspec": {
      "display_name": "Python 3",
      "language": "python",
      "name": "python3"
    },
    "language_info": {
      "codemirror_mode": {
        "name": "ipython",
        "version": 3
      },
      "file_extension": ".py",
      "mimetype": "text/x-python",
      "name": "python",
      "nbconvert_exporter": "python",
      "pygments_lexer": "ipython3",
      "version": "3.7.3"
    },
    "toc": {
      "nav_menu": {},
      "number_sections": true,
      "sideBar": true,
      "skip_h1_title": false,
      "title_cell": "Table of Contents",
      "title_sidebar": "Contents",
      "toc_cell": false,
      "toc_position": {},
      "toc_section_display": true,
      "toc_window_display": false
    },
    "colab": {
      "name": "ae-deconv.ipynb",
      "provenance": []
    },
    "accelerator": "GPU",
    "widgets": {
      "application/vnd.jupyter.widget-state+json": {
        "f83d6086ac41447288afc953e934369a": {
          "model_module": "@jupyter-widgets/controls",
          "model_name": "HBoxModel",
          "state": {
            "_view_name": "HBoxView",
            "_dom_classes": [],
            "_model_name": "HBoxModel",
            "_view_module": "@jupyter-widgets/controls",
            "_model_module_version": "1.5.0",
            "_view_count": null,
            "_view_module_version": "1.5.0",
            "box_style": "",
            "layout": "IPY_MODEL_ca2f3f25d0c542a0a4d9ed135a765cb0",
            "_model_module": "@jupyter-widgets/controls",
            "children": [
              "IPY_MODEL_466567b563db4f68b046cdd5b9c1b687",
              "IPY_MODEL_232abe97c9ce4a769583e9512b883c84"
            ]
          }
        },
        "ca2f3f25d0c542a0a4d9ed135a765cb0": {
          "model_module": "@jupyter-widgets/base",
          "model_name": "LayoutModel",
          "state": {
            "_view_name": "LayoutView",
            "grid_template_rows": null,
            "right": null,
            "justify_content": null,
            "_view_module": "@jupyter-widgets/base",
            "overflow": null,
            "_model_module_version": "1.2.0",
            "_view_count": null,
            "flex_flow": null,
            "width": null,
            "min_width": null,
            "border": null,
            "align_items": null,
            "bottom": null,
            "_model_module": "@jupyter-widgets/base",
            "top": null,
            "grid_column": null,
            "overflow_y": null,
            "overflow_x": null,
            "grid_auto_flow": null,
            "grid_area": null,
            "grid_template_columns": null,
            "flex": null,
            "_model_name": "LayoutModel",
            "justify_items": null,
            "grid_row": null,
            "max_height": null,
            "align_content": null,
            "visibility": null,
            "align_self": null,
            "height": null,
            "min_height": null,
            "padding": null,
            "grid_auto_rows": null,
            "grid_gap": null,
            "max_width": null,
            "order": null,
            "_view_module_version": "1.2.0",
            "grid_template_areas": null,
            "object_position": null,
            "object_fit": null,
            "grid_auto_columns": null,
            "margin": null,
            "display": null,
            "left": null
          }
        },
        "466567b563db4f68b046cdd5b9c1b687": {
          "model_module": "@jupyter-widgets/controls",
          "model_name": "FloatProgressModel",
          "state": {
            "_view_name": "ProgressView",
            "style": "IPY_MODEL_e8d9e6087b894fcb90e5d873e98330da",
            "_dom_classes": [],
            "description": "",
            "_model_name": "FloatProgressModel",
            "bar_style": "info",
            "max": 1,
            "_view_module": "@jupyter-widgets/controls",
            "_model_module_version": "1.5.0",
            "value": 1,
            "_view_count": null,
            "_view_module_version": "1.5.0",
            "orientation": "horizontal",
            "min": 0,
            "description_tooltip": null,
            "_model_module": "@jupyter-widgets/controls",
            "layout": "IPY_MODEL_8e118bf7aa4045528bf8e20532747ff8"
          }
        },
        "232abe97c9ce4a769583e9512b883c84": {
          "model_module": "@jupyter-widgets/controls",
          "model_name": "HTMLModel",
          "state": {
            "_view_name": "HTMLView",
            "style": "IPY_MODEL_030de0dcb6ad4574bf006f0a27eee90a",
            "_dom_classes": [],
            "description": "",
            "_model_name": "HTMLModel",
            "placeholder": "​",
            "_view_module": "@jupyter-widgets/controls",
            "_model_module_version": "1.5.0",
            "value": " 9920512/? [00:20&lt;00:00, 15904957.43it/s]",
            "_view_count": null,
            "_view_module_version": "1.5.0",
            "description_tooltip": null,
            "_model_module": "@jupyter-widgets/controls",
            "layout": "IPY_MODEL_d72b42e1b8954a909da0cebafb2aa386"
          }
        },
        "e8d9e6087b894fcb90e5d873e98330da": {
          "model_module": "@jupyter-widgets/controls",
          "model_name": "ProgressStyleModel",
          "state": {
            "_view_name": "StyleView",
            "_model_name": "ProgressStyleModel",
            "description_width": "initial",
            "_view_module": "@jupyter-widgets/base",
            "_model_module_version": "1.5.0",
            "_view_count": null,
            "_view_module_version": "1.2.0",
            "bar_color": null,
            "_model_module": "@jupyter-widgets/controls"
          }
        },
        "8e118bf7aa4045528bf8e20532747ff8": {
          "model_module": "@jupyter-widgets/base",
          "model_name": "LayoutModel",
          "state": {
            "_view_name": "LayoutView",
            "grid_template_rows": null,
            "right": null,
            "justify_content": null,
            "_view_module": "@jupyter-widgets/base",
            "overflow": null,
            "_model_module_version": "1.2.0",
            "_view_count": null,
            "flex_flow": null,
            "width": null,
            "min_width": null,
            "border": null,
            "align_items": null,
            "bottom": null,
            "_model_module": "@jupyter-widgets/base",
            "top": null,
            "grid_column": null,
            "overflow_y": null,
            "overflow_x": null,
            "grid_auto_flow": null,
            "grid_area": null,
            "grid_template_columns": null,
            "flex": null,
            "_model_name": "LayoutModel",
            "justify_items": null,
            "grid_row": null,
            "max_height": null,
            "align_content": null,
            "visibility": null,
            "align_self": null,
            "height": null,
            "min_height": null,
            "padding": null,
            "grid_auto_rows": null,
            "grid_gap": null,
            "max_width": null,
            "order": null,
            "_view_module_version": "1.2.0",
            "grid_template_areas": null,
            "object_position": null,
            "object_fit": null,
            "grid_auto_columns": null,
            "margin": null,
            "display": null,
            "left": null
          }
        },
        "030de0dcb6ad4574bf006f0a27eee90a": {
          "model_module": "@jupyter-widgets/controls",
          "model_name": "DescriptionStyleModel",
          "state": {
            "_view_name": "StyleView",
            "_model_name": "DescriptionStyleModel",
            "description_width": "",
            "_view_module": "@jupyter-widgets/base",
            "_model_module_version": "1.5.0",
            "_view_count": null,
            "_view_module_version": "1.2.0",
            "_model_module": "@jupyter-widgets/controls"
          }
        },
        "d72b42e1b8954a909da0cebafb2aa386": {
          "model_module": "@jupyter-widgets/base",
          "model_name": "LayoutModel",
          "state": {
            "_view_name": "LayoutView",
            "grid_template_rows": null,
            "right": null,
            "justify_content": null,
            "_view_module": "@jupyter-widgets/base",
            "overflow": null,
            "_model_module_version": "1.2.0",
            "_view_count": null,
            "flex_flow": null,
            "width": null,
            "min_width": null,
            "border": null,
            "align_items": null,
            "bottom": null,
            "_model_module": "@jupyter-widgets/base",
            "top": null,
            "grid_column": null,
            "overflow_y": null,
            "overflow_x": null,
            "grid_auto_flow": null,
            "grid_area": null,
            "grid_template_columns": null,
            "flex": null,
            "_model_name": "LayoutModel",
            "justify_items": null,
            "grid_row": null,
            "max_height": null,
            "align_content": null,
            "visibility": null,
            "align_self": null,
            "height": null,
            "min_height": null,
            "padding": null,
            "grid_auto_rows": null,
            "grid_gap": null,
            "max_width": null,
            "order": null,
            "_view_module_version": "1.2.0",
            "grid_template_areas": null,
            "object_position": null,
            "object_fit": null,
            "grid_auto_columns": null,
            "margin": null,
            "display": null,
            "left": null
          }
        },
        "fe3f3159ae3d47efb532cc4cecf95088": {
          "model_module": "@jupyter-widgets/controls",
          "model_name": "HBoxModel",
          "state": {
            "_view_name": "HBoxView",
            "_dom_classes": [],
            "_model_name": "HBoxModel",
            "_view_module": "@jupyter-widgets/controls",
            "_model_module_version": "1.5.0",
            "_view_count": null,
            "_view_module_version": "1.5.0",
            "box_style": "",
            "layout": "IPY_MODEL_774ef873edb34f3ead6ea328e9be5cfa",
            "_model_module": "@jupyter-widgets/controls",
            "children": [
              "IPY_MODEL_b0fb332d9e4544f0b89a7b0f27653483",
              "IPY_MODEL_120549c8cd054deca5d10e98cb56b392"
            ]
          }
        },
        "774ef873edb34f3ead6ea328e9be5cfa": {
          "model_module": "@jupyter-widgets/base",
          "model_name": "LayoutModel",
          "state": {
            "_view_name": "LayoutView",
            "grid_template_rows": null,
            "right": null,
            "justify_content": null,
            "_view_module": "@jupyter-widgets/base",
            "overflow": null,
            "_model_module_version": "1.2.0",
            "_view_count": null,
            "flex_flow": null,
            "width": null,
            "min_width": null,
            "border": null,
            "align_items": null,
            "bottom": null,
            "_model_module": "@jupyter-widgets/base",
            "top": null,
            "grid_column": null,
            "overflow_y": null,
            "overflow_x": null,
            "grid_auto_flow": null,
            "grid_area": null,
            "grid_template_columns": null,
            "flex": null,
            "_model_name": "LayoutModel",
            "justify_items": null,
            "grid_row": null,
            "max_height": null,
            "align_content": null,
            "visibility": null,
            "align_self": null,
            "height": null,
            "min_height": null,
            "padding": null,
            "grid_auto_rows": null,
            "grid_gap": null,
            "max_width": null,
            "order": null,
            "_view_module_version": "1.2.0",
            "grid_template_areas": null,
            "object_position": null,
            "object_fit": null,
            "grid_auto_columns": null,
            "margin": null,
            "display": null,
            "left": null
          }
        },
        "b0fb332d9e4544f0b89a7b0f27653483": {
          "model_module": "@jupyter-widgets/controls",
          "model_name": "FloatProgressModel",
          "state": {
            "_view_name": "ProgressView",
            "style": "IPY_MODEL_27279d1817844e3d857846ba6fa60b50",
            "_dom_classes": [],
            "description": "",
            "_model_name": "FloatProgressModel",
            "bar_style": "success",
            "max": 1,
            "_view_module": "@jupyter-widgets/controls",
            "_model_module_version": "1.5.0",
            "value": 1,
            "_view_count": null,
            "_view_module_version": "1.5.0",
            "orientation": "horizontal",
            "min": 0,
            "description_tooltip": null,
            "_model_module": "@jupyter-widgets/controls",
            "layout": "IPY_MODEL_5879e91439484d0c9ebf3c60d267b339"
          }
        },
        "120549c8cd054deca5d10e98cb56b392": {
          "model_module": "@jupyter-widgets/controls",
          "model_name": "HTMLModel",
          "state": {
            "_view_name": "HTMLView",
            "style": "IPY_MODEL_b6ab336798764e2287c6cf3fb7690f88",
            "_dom_classes": [],
            "description": "",
            "_model_name": "HTMLModel",
            "placeholder": "​",
            "_view_module": "@jupyter-widgets/controls",
            "_model_module_version": "1.5.0",
            "value": " 32768/? [00:00&lt;00:00, 55217.03it/s]",
            "_view_count": null,
            "_view_module_version": "1.5.0",
            "description_tooltip": null,
            "_model_module": "@jupyter-widgets/controls",
            "layout": "IPY_MODEL_bbbd93cc6ab644889f817f0d2779794a"
          }
        },
        "27279d1817844e3d857846ba6fa60b50": {
          "model_module": "@jupyter-widgets/controls",
          "model_name": "ProgressStyleModel",
          "state": {
            "_view_name": "StyleView",
            "_model_name": "ProgressStyleModel",
            "description_width": "initial",
            "_view_module": "@jupyter-widgets/base",
            "_model_module_version": "1.5.0",
            "_view_count": null,
            "_view_module_version": "1.2.0",
            "bar_color": null,
            "_model_module": "@jupyter-widgets/controls"
          }
        },
        "5879e91439484d0c9ebf3c60d267b339": {
          "model_module": "@jupyter-widgets/base",
          "model_name": "LayoutModel",
          "state": {
            "_view_name": "LayoutView",
            "grid_template_rows": null,
            "right": null,
            "justify_content": null,
            "_view_module": "@jupyter-widgets/base",
            "overflow": null,
            "_model_module_version": "1.2.0",
            "_view_count": null,
            "flex_flow": null,
            "width": null,
            "min_width": null,
            "border": null,
            "align_items": null,
            "bottom": null,
            "_model_module": "@jupyter-widgets/base",
            "top": null,
            "grid_column": null,
            "overflow_y": null,
            "overflow_x": null,
            "grid_auto_flow": null,
            "grid_area": null,
            "grid_template_columns": null,
            "flex": null,
            "_model_name": "LayoutModel",
            "justify_items": null,
            "grid_row": null,
            "max_height": null,
            "align_content": null,
            "visibility": null,
            "align_self": null,
            "height": null,
            "min_height": null,
            "padding": null,
            "grid_auto_rows": null,
            "grid_gap": null,
            "max_width": null,
            "order": null,
            "_view_module_version": "1.2.0",
            "grid_template_areas": null,
            "object_position": null,
            "object_fit": null,
            "grid_auto_columns": null,
            "margin": null,
            "display": null,
            "left": null
          }
        },
        "b6ab336798764e2287c6cf3fb7690f88": {
          "model_module": "@jupyter-widgets/controls",
          "model_name": "DescriptionStyleModel",
          "state": {
            "_view_name": "StyleView",
            "_model_name": "DescriptionStyleModel",
            "description_width": "",
            "_view_module": "@jupyter-widgets/base",
            "_model_module_version": "1.5.0",
            "_view_count": null,
            "_view_module_version": "1.2.0",
            "_model_module": "@jupyter-widgets/controls"
          }
        },
        "bbbd93cc6ab644889f817f0d2779794a": {
          "model_module": "@jupyter-widgets/base",
          "model_name": "LayoutModel",
          "state": {
            "_view_name": "LayoutView",
            "grid_template_rows": null,
            "right": null,
            "justify_content": null,
            "_view_module": "@jupyter-widgets/base",
            "overflow": null,
            "_model_module_version": "1.2.0",
            "_view_count": null,
            "flex_flow": null,
            "width": null,
            "min_width": null,
            "border": null,
            "align_items": null,
            "bottom": null,
            "_model_module": "@jupyter-widgets/base",
            "top": null,
            "grid_column": null,
            "overflow_y": null,
            "overflow_x": null,
            "grid_auto_flow": null,
            "grid_area": null,
            "grid_template_columns": null,
            "flex": null,
            "_model_name": "LayoutModel",
            "justify_items": null,
            "grid_row": null,
            "max_height": null,
            "align_content": null,
            "visibility": null,
            "align_self": null,
            "height": null,
            "min_height": null,
            "padding": null,
            "grid_auto_rows": null,
            "grid_gap": null,
            "max_width": null,
            "order": null,
            "_view_module_version": "1.2.0",
            "grid_template_areas": null,
            "object_position": null,
            "object_fit": null,
            "grid_auto_columns": null,
            "margin": null,
            "display": null,
            "left": null
          }
        },
        "ab87cbcd0dab4691875c009561b4b3ca": {
          "model_module": "@jupyter-widgets/controls",
          "model_name": "HBoxModel",
          "state": {
            "_view_name": "HBoxView",
            "_dom_classes": [],
            "_model_name": "HBoxModel",
            "_view_module": "@jupyter-widgets/controls",
            "_model_module_version": "1.5.0",
            "_view_count": null,
            "_view_module_version": "1.5.0",
            "box_style": "",
            "layout": "IPY_MODEL_9ef62a2348074729b35ffecdba92f3a2",
            "_model_module": "@jupyter-widgets/controls",
            "children": [
              "IPY_MODEL_8521c8dc8ca9443fa61207fa45497c13",
              "IPY_MODEL_0ec6a110b9524616b44dc3f008f0f296"
            ]
          }
        },
        "9ef62a2348074729b35ffecdba92f3a2": {
          "model_module": "@jupyter-widgets/base",
          "model_name": "LayoutModel",
          "state": {
            "_view_name": "LayoutView",
            "grid_template_rows": null,
            "right": null,
            "justify_content": null,
            "_view_module": "@jupyter-widgets/base",
            "overflow": null,
            "_model_module_version": "1.2.0",
            "_view_count": null,
            "flex_flow": null,
            "width": null,
            "min_width": null,
            "border": null,
            "align_items": null,
            "bottom": null,
            "_model_module": "@jupyter-widgets/base",
            "top": null,
            "grid_column": null,
            "overflow_y": null,
            "overflow_x": null,
            "grid_auto_flow": null,
            "grid_area": null,
            "grid_template_columns": null,
            "flex": null,
            "_model_name": "LayoutModel",
            "justify_items": null,
            "grid_row": null,
            "max_height": null,
            "align_content": null,
            "visibility": null,
            "align_self": null,
            "height": null,
            "min_height": null,
            "padding": null,
            "grid_auto_rows": null,
            "grid_gap": null,
            "max_width": null,
            "order": null,
            "_view_module_version": "1.2.0",
            "grid_template_areas": null,
            "object_position": null,
            "object_fit": null,
            "grid_auto_columns": null,
            "margin": null,
            "display": null,
            "left": null
          }
        },
        "8521c8dc8ca9443fa61207fa45497c13": {
          "model_module": "@jupyter-widgets/controls",
          "model_name": "FloatProgressModel",
          "state": {
            "_view_name": "ProgressView",
            "style": "IPY_MODEL_24ddf34b9c304a9693d362bbdd41f73c",
            "_dom_classes": [],
            "description": "",
            "_model_name": "FloatProgressModel",
            "bar_style": "success",
            "max": 1,
            "_view_module": "@jupyter-widgets/controls",
            "_model_module_version": "1.5.0",
            "value": 1,
            "_view_count": null,
            "_view_module_version": "1.5.0",
            "orientation": "horizontal",
            "min": 0,
            "description_tooltip": null,
            "_model_module": "@jupyter-widgets/controls",
            "layout": "IPY_MODEL_2ac1e3f0016e42a1b4dd0dd0ece739d5"
          }
        },
        "0ec6a110b9524616b44dc3f008f0f296": {
          "model_module": "@jupyter-widgets/controls",
          "model_name": "HTMLModel",
          "state": {
            "_view_name": "HTMLView",
            "style": "IPY_MODEL_dbef235a1e6348f9b7b50a3348fb8f97",
            "_dom_classes": [],
            "description": "",
            "_model_name": "HTMLModel",
            "placeholder": "​",
            "_view_module": "@jupyter-widgets/controls",
            "_model_module_version": "1.5.0",
            "value": " 1654784/? [00:00&lt;00:00, 3729756.81it/s]",
            "_view_count": null,
            "_view_module_version": "1.5.0",
            "description_tooltip": null,
            "_model_module": "@jupyter-widgets/controls",
            "layout": "IPY_MODEL_7483fb3f0ec845349ce58a66c4e50040"
          }
        },
        "24ddf34b9c304a9693d362bbdd41f73c": {
          "model_module": "@jupyter-widgets/controls",
          "model_name": "ProgressStyleModel",
          "state": {
            "_view_name": "StyleView",
            "_model_name": "ProgressStyleModel",
            "description_width": "initial",
            "_view_module": "@jupyter-widgets/base",
            "_model_module_version": "1.5.0",
            "_view_count": null,
            "_view_module_version": "1.2.0",
            "bar_color": null,
            "_model_module": "@jupyter-widgets/controls"
          }
        },
        "2ac1e3f0016e42a1b4dd0dd0ece739d5": {
          "model_module": "@jupyter-widgets/base",
          "model_name": "LayoutModel",
          "state": {
            "_view_name": "LayoutView",
            "grid_template_rows": null,
            "right": null,
            "justify_content": null,
            "_view_module": "@jupyter-widgets/base",
            "overflow": null,
            "_model_module_version": "1.2.0",
            "_view_count": null,
            "flex_flow": null,
            "width": null,
            "min_width": null,
            "border": null,
            "align_items": null,
            "bottom": null,
            "_model_module": "@jupyter-widgets/base",
            "top": null,
            "grid_column": null,
            "overflow_y": null,
            "overflow_x": null,
            "grid_auto_flow": null,
            "grid_area": null,
            "grid_template_columns": null,
            "flex": null,
            "_model_name": "LayoutModel",
            "justify_items": null,
            "grid_row": null,
            "max_height": null,
            "align_content": null,
            "visibility": null,
            "align_self": null,
            "height": null,
            "min_height": null,
            "padding": null,
            "grid_auto_rows": null,
            "grid_gap": null,
            "max_width": null,
            "order": null,
            "_view_module_version": "1.2.0",
            "grid_template_areas": null,
            "object_position": null,
            "object_fit": null,
            "grid_auto_columns": null,
            "margin": null,
            "display": null,
            "left": null
          }
        },
        "dbef235a1e6348f9b7b50a3348fb8f97": {
          "model_module": "@jupyter-widgets/controls",
          "model_name": "DescriptionStyleModel",
          "state": {
            "_view_name": "StyleView",
            "_model_name": "DescriptionStyleModel",
            "description_width": "",
            "_view_module": "@jupyter-widgets/base",
            "_model_module_version": "1.5.0",
            "_view_count": null,
            "_view_module_version": "1.2.0",
            "_model_module": "@jupyter-widgets/controls"
          }
        },
        "7483fb3f0ec845349ce58a66c4e50040": {
          "model_module": "@jupyter-widgets/base",
          "model_name": "LayoutModel",
          "state": {
            "_view_name": "LayoutView",
            "grid_template_rows": null,
            "right": null,
            "justify_content": null,
            "_view_module": "@jupyter-widgets/base",
            "overflow": null,
            "_model_module_version": "1.2.0",
            "_view_count": null,
            "flex_flow": null,
            "width": null,
            "min_width": null,
            "border": null,
            "align_items": null,
            "bottom": null,
            "_model_module": "@jupyter-widgets/base",
            "top": null,
            "grid_column": null,
            "overflow_y": null,
            "overflow_x": null,
            "grid_auto_flow": null,
            "grid_area": null,
            "grid_template_columns": null,
            "flex": null,
            "_model_name": "LayoutModel",
            "justify_items": null,
            "grid_row": null,
            "max_height": null,
            "align_content": null,
            "visibility": null,
            "align_self": null,
            "height": null,
            "min_height": null,
            "padding": null,
            "grid_auto_rows": null,
            "grid_gap": null,
            "max_width": null,
            "order": null,
            "_view_module_version": "1.2.0",
            "grid_template_areas": null,
            "object_position": null,
            "object_fit": null,
            "grid_auto_columns": null,
            "margin": null,
            "display": null,
            "left": null
          }
        },
        "715d684351c64038b5fb137b1a6f014a": {
          "model_module": "@jupyter-widgets/controls",
          "model_name": "HBoxModel",
          "state": {
            "_view_name": "HBoxView",
            "_dom_classes": [],
            "_model_name": "HBoxModel",
            "_view_module": "@jupyter-widgets/controls",
            "_model_module_version": "1.5.0",
            "_view_count": null,
            "_view_module_version": "1.5.0",
            "box_style": "",
            "layout": "IPY_MODEL_7d9615c431284a4cb073367418a72c3c",
            "_model_module": "@jupyter-widgets/controls",
            "children": [
              "IPY_MODEL_525839d8e1404df5b35880b87b805ef4",
              "IPY_MODEL_80ddc1b91ea6415e810ee2abe061b40a"
            ]
          }
        },
        "7d9615c431284a4cb073367418a72c3c": {
          "model_module": "@jupyter-widgets/base",
          "model_name": "LayoutModel",
          "state": {
            "_view_name": "LayoutView",
            "grid_template_rows": null,
            "right": null,
            "justify_content": null,
            "_view_module": "@jupyter-widgets/base",
            "overflow": null,
            "_model_module_version": "1.2.0",
            "_view_count": null,
            "flex_flow": null,
            "width": null,
            "min_width": null,
            "border": null,
            "align_items": null,
            "bottom": null,
            "_model_module": "@jupyter-widgets/base",
            "top": null,
            "grid_column": null,
            "overflow_y": null,
            "overflow_x": null,
            "grid_auto_flow": null,
            "grid_area": null,
            "grid_template_columns": null,
            "flex": null,
            "_model_name": "LayoutModel",
            "justify_items": null,
            "grid_row": null,
            "max_height": null,
            "align_content": null,
            "visibility": null,
            "align_self": null,
            "height": null,
            "min_height": null,
            "padding": null,
            "grid_auto_rows": null,
            "grid_gap": null,
            "max_width": null,
            "order": null,
            "_view_module_version": "1.2.0",
            "grid_template_areas": null,
            "object_position": null,
            "object_fit": null,
            "grid_auto_columns": null,
            "margin": null,
            "display": null,
            "left": null
          }
        },
        "525839d8e1404df5b35880b87b805ef4": {
          "model_module": "@jupyter-widgets/controls",
          "model_name": "FloatProgressModel",
          "state": {
            "_view_name": "ProgressView",
            "style": "IPY_MODEL_17f6dbfa5e22435e962889896ba0547d",
            "_dom_classes": [],
            "description": "",
            "_model_name": "FloatProgressModel",
            "bar_style": "success",
            "max": 1,
            "_view_module": "@jupyter-widgets/controls",
            "_model_module_version": "1.5.0",
            "value": 1,
            "_view_count": null,
            "_view_module_version": "1.5.0",
            "orientation": "horizontal",
            "min": 0,
            "description_tooltip": null,
            "_model_module": "@jupyter-widgets/controls",
            "layout": "IPY_MODEL_cef65317f8b348849df32df43908c382"
          }
        },
        "80ddc1b91ea6415e810ee2abe061b40a": {
          "model_module": "@jupyter-widgets/controls",
          "model_name": "HTMLModel",
          "state": {
            "_view_name": "HTMLView",
            "style": "IPY_MODEL_e76511727e5747f88fa014b2d952974d",
            "_dom_classes": [],
            "description": "",
            "_model_name": "HTMLModel",
            "placeholder": "​",
            "_view_module": "@jupyter-widgets/controls",
            "_model_module_version": "1.5.0",
            "value": " 8192/? [00:00&lt;00:00, 43602.23it/s]",
            "_view_count": null,
            "_view_module_version": "1.5.0",
            "description_tooltip": null,
            "_model_module": "@jupyter-widgets/controls",
            "layout": "IPY_MODEL_0e66e77dc2d84f07ac0c5066f7ad4eee"
          }
        },
        "17f6dbfa5e22435e962889896ba0547d": {
          "model_module": "@jupyter-widgets/controls",
          "model_name": "ProgressStyleModel",
          "state": {
            "_view_name": "StyleView",
            "_model_name": "ProgressStyleModel",
            "description_width": "initial",
            "_view_module": "@jupyter-widgets/base",
            "_model_module_version": "1.5.0",
            "_view_count": null,
            "_view_module_version": "1.2.0",
            "bar_color": null,
            "_model_module": "@jupyter-widgets/controls"
          }
        },
        "cef65317f8b348849df32df43908c382": {
          "model_module": "@jupyter-widgets/base",
          "model_name": "LayoutModel",
          "state": {
            "_view_name": "LayoutView",
            "grid_template_rows": null,
            "right": null,
            "justify_content": null,
            "_view_module": "@jupyter-widgets/base",
            "overflow": null,
            "_model_module_version": "1.2.0",
            "_view_count": null,
            "flex_flow": null,
            "width": null,
            "min_width": null,
            "border": null,
            "align_items": null,
            "bottom": null,
            "_model_module": "@jupyter-widgets/base",
            "top": null,
            "grid_column": null,
            "overflow_y": null,
            "overflow_x": null,
            "grid_auto_flow": null,
            "grid_area": null,
            "grid_template_columns": null,
            "flex": null,
            "_model_name": "LayoutModel",
            "justify_items": null,
            "grid_row": null,
            "max_height": null,
            "align_content": null,
            "visibility": null,
            "align_self": null,
            "height": null,
            "min_height": null,
            "padding": null,
            "grid_auto_rows": null,
            "grid_gap": null,
            "max_width": null,
            "order": null,
            "_view_module_version": "1.2.0",
            "grid_template_areas": null,
            "object_position": null,
            "object_fit": null,
            "grid_auto_columns": null,
            "margin": null,
            "display": null,
            "left": null
          }
        },
        "e76511727e5747f88fa014b2d952974d": {
          "model_module": "@jupyter-widgets/controls",
          "model_name": "DescriptionStyleModel",
          "state": {
            "_view_name": "StyleView",
            "_model_name": "DescriptionStyleModel",
            "description_width": "",
            "_view_module": "@jupyter-widgets/base",
            "_model_module_version": "1.5.0",
            "_view_count": null,
            "_view_module_version": "1.2.0",
            "_model_module": "@jupyter-widgets/controls"
          }
        },
        "0e66e77dc2d84f07ac0c5066f7ad4eee": {
          "model_module": "@jupyter-widgets/base",
          "model_name": "LayoutModel",
          "state": {
            "_view_name": "LayoutView",
            "grid_template_rows": null,
            "right": null,
            "justify_content": null,
            "_view_module": "@jupyter-widgets/base",
            "overflow": null,
            "_model_module_version": "1.2.0",
            "_view_count": null,
            "flex_flow": null,
            "width": null,
            "min_width": null,
            "border": null,
            "align_items": null,
            "bottom": null,
            "_model_module": "@jupyter-widgets/base",
            "top": null,
            "grid_column": null,
            "overflow_y": null,
            "overflow_x": null,
            "grid_auto_flow": null,
            "grid_area": null,
            "grid_template_columns": null,
            "flex": null,
            "_model_name": "LayoutModel",
            "justify_items": null,
            "grid_row": null,
            "max_height": null,
            "align_content": null,
            "visibility": null,
            "align_self": null,
            "height": null,
            "min_height": null,
            "padding": null,
            "grid_auto_rows": null,
            "grid_gap": null,
            "max_width": null,
            "order": null,
            "_view_module_version": "1.2.0",
            "grid_template_areas": null,
            "object_position": null,
            "object_fit": null,
            "grid_auto_columns": null,
            "margin": null,
            "display": null,
            "left": null
          }
        }
      }
    }
  },
  "cells": [
    {
      "cell_type": "markdown",
      "metadata": {
        "id": "3TCV5QxXp9ls",
        "colab_type": "text"
      },
      "source": [
        "Deep Learning Models -- A collection of various deep learning architectures, models, and tips for TensorFlow and PyTorch in Jupyter Notebooks.\n",
        "- Author: Sebastian Raschka\n",
        "- GitHub Repository: https://github.com/rasbt/deeplearning-models"
      ]
    },
    {
      "cell_type": "code",
      "metadata": {
        "id": "9vZuR53-qA6M",
        "colab_type": "code",
        "colab": {}
      },
      "source": [
        "!pip install -q IPython\n",
        "!pip install -q ipykernel\n",
        "!pip install -q watermark\n",
        "!pip install -q matplotlib\n",
        "!pip install -q sklearn\n",
        "!pip install -q pandas\n",
        "!pip install -q pydot\n",
        "!pip install -q hiddenlayer\n",
        "!pip install -q graphviz"
      ],
      "execution_count": 1,
      "outputs": []
    },
    {
      "cell_type": "code",
      "metadata": {
        "id": "mrvBxHK1p9lt",
        "colab_type": "code",
        "colab": {
          "base_uri": "https://localhost:8080/",
          "height": 121
        },
        "outputId": "ea72f594-dc9d-4476-b138-e03c6de56a14"
      },
      "source": [
        "%load_ext watermark\n",
        "%watermark -a 'Sebastian Raschka' -v -p torch"
      ],
      "execution_count": 2,
      "outputs": [
        {
          "output_type": "stream",
          "text": [
            "Sebastian Raschka \n",
            "\n",
            "CPython 3.6.9\n",
            "IPython 5.5.0\n",
            "\n",
            "torch 1.5.1+cu101\n"
          ],
          "name": "stdout"
        }
      ]
    },
    {
      "cell_type": "markdown",
      "metadata": {
        "id": "g9sXzSnCp9lx",
        "colab_type": "text"
      },
      "source": [
        "- Runs on CPU or GPU (if available)"
      ]
    },
    {
      "cell_type": "markdown",
      "metadata": {
        "id": "INbyB9J2p9ly",
        "colab_type": "text"
      },
      "source": [
        "# Convolutional Autoencoder with Deconvolutions"
      ]
    },
    {
      "cell_type": "markdown",
      "metadata": {
        "id": "y3Bky3c0p9ly",
        "colab_type": "text"
      },
      "source": [
        "A convolutional autoencoder using deconvolutional layers that compresses 768-pixel MNIST images down to a 7x7x8 (392 pixel) representation."
      ]
    },
    {
      "cell_type": "markdown",
      "metadata": {
        "id": "hqcvCicwp9lz",
        "colab_type": "text"
      },
      "source": [
        "## Imports"
      ]
    },
    {
      "cell_type": "code",
      "metadata": {
        "id": "BNBilqAtp9lz",
        "colab_type": "code",
        "colab": {}
      },
      "source": [
        "import time\n",
        "import numpy as np\n",
        "import torch\n",
        "import torch.nn.functional as F\n",
        "from torch.utils.data import DataLoader\n",
        "from torchvision import datasets\n",
        "from torchvision import transforms\n",
        "\n",
        "\n",
        "if torch.cuda.is_available():\n",
        "    torch.backends.cudnn.deterministic = True"
      ],
      "execution_count": 3,
      "outputs": []
    },
    {
      "cell_type": "code",
      "metadata": {
        "id": "WS488b5Lp9l1",
        "colab_type": "code",
        "colab": {
          "base_uri": "https://localhost:8080/",
          "height": 458,
          "referenced_widgets": [
            "f83d6086ac41447288afc953e934369a",
            "ca2f3f25d0c542a0a4d9ed135a765cb0",
            "466567b563db4f68b046cdd5b9c1b687",
            "232abe97c9ce4a769583e9512b883c84",
            "e8d9e6087b894fcb90e5d873e98330da",
            "8e118bf7aa4045528bf8e20532747ff8",
            "030de0dcb6ad4574bf006f0a27eee90a",
            "d72b42e1b8954a909da0cebafb2aa386",
            "fe3f3159ae3d47efb532cc4cecf95088",
            "774ef873edb34f3ead6ea328e9be5cfa",
            "b0fb332d9e4544f0b89a7b0f27653483",
            "120549c8cd054deca5d10e98cb56b392",
            "27279d1817844e3d857846ba6fa60b50",
            "5879e91439484d0c9ebf3c60d267b339",
            "b6ab336798764e2287c6cf3fb7690f88",
            "bbbd93cc6ab644889f817f0d2779794a",
            "ab87cbcd0dab4691875c009561b4b3ca",
            "9ef62a2348074729b35ffecdba92f3a2",
            "8521c8dc8ca9443fa61207fa45497c13",
            "0ec6a110b9524616b44dc3f008f0f296",
            "24ddf34b9c304a9693d362bbdd41f73c",
            "2ac1e3f0016e42a1b4dd0dd0ece739d5",
            "dbef235a1e6348f9b7b50a3348fb8f97",
            "7483fb3f0ec845349ce58a66c4e50040",
            "715d684351c64038b5fb137b1a6f014a",
            "7d9615c431284a4cb073367418a72c3c",
            "525839d8e1404df5b35880b87b805ef4",
            "80ddc1b91ea6415e810ee2abe061b40a",
            "17f6dbfa5e22435e962889896ba0547d",
            "cef65317f8b348849df32df43908c382",
            "e76511727e5747f88fa014b2d952974d",
            "0e66e77dc2d84f07ac0c5066f7ad4eee"
          ]
        },
        "outputId": "201a2928-102b-487d-a33c-7d88ad368804"
      },
      "source": [
        "##########################\n",
        "### SETTINGS\n",
        "##########################\n",
        "\n",
        "# Device\n",
        "device = torch.device(\"cuda\" if torch.cuda.is_available() else \"cpu\")\n",
        "print('Device:', device)\n",
        "\n",
        "# Hyperparameters\n",
        "random_seed = 456\n",
        "learning_rate = 0.005\n",
        "num_epochs = 10\n",
        "batch_size = 128\n",
        "\n",
        "\n",
        "##########################\n",
        "### MNIST DATASET\n",
        "##########################\n",
        "\n",
        "# Note transforms.ToTensor() scales input images\n",
        "# to 0-1 range\n",
        "train_dataset = datasets.MNIST(root='data', \n",
        "                               train=True, \n",
        "                               transform=transforms.ToTensor(),\n",
        "                               download=True)\n",
        "\n",
        "test_dataset = datasets.MNIST(root='data', \n",
        "                              train=False, \n",
        "                              transform=transforms.ToTensor())\n",
        "\n",
        "\n",
        "train_loader = DataLoader(dataset=train_dataset, \n",
        "                          batch_size=batch_size, \n",
        "                          shuffle=True)\n",
        "\n",
        "test_loader = DataLoader(dataset=test_dataset, \n",
        "                         batch_size=batch_size, \n",
        "                         shuffle=False)\n",
        "\n",
        "# Checking the dataset\n",
        "for images, labels in train_loader:  \n",
        "    print('Image batch dimensions:', images.shape)\n",
        "    print('Image label dimensions:', labels.shape)\n",
        "    break"
      ],
      "execution_count": 4,
      "outputs": [
        {
          "output_type": "stream",
          "text": [
            "Device: cuda\n",
            "Downloading http://yann.lecun.com/exdb/mnist/train-images-idx3-ubyte.gz to data/MNIST/raw/train-images-idx3-ubyte.gz\n"
          ],
          "name": "stdout"
        },
        {
          "output_type": "display_data",
          "data": {
            "application/vnd.jupyter.widget-view+json": {
              "model_id": "f83d6086ac41447288afc953e934369a",
              "version_minor": 0,
              "version_major": 2
            },
            "text/plain": [
              "HBox(children=(FloatProgress(value=1.0, bar_style='info', max=1.0), HTML(value='')))"
            ]
          },
          "metadata": {
            "tags": []
          }
        },
        {
          "output_type": "stream",
          "text": [
            "Extracting data/MNIST/raw/train-images-idx3-ubyte.gz to data/MNIST/raw\n",
            "Downloading http://yann.lecun.com/exdb/mnist/train-labels-idx1-ubyte.gz to data/MNIST/raw/train-labels-idx1-ubyte.gz\n"
          ],
          "name": "stdout"
        },
        {
          "output_type": "display_data",
          "data": {
            "application/vnd.jupyter.widget-view+json": {
              "model_id": "fe3f3159ae3d47efb532cc4cecf95088",
              "version_minor": 0,
              "version_major": 2
            },
            "text/plain": [
              "HBox(children=(FloatProgress(value=1.0, bar_style='info', max=1.0), HTML(value='')))"
            ]
          },
          "metadata": {
            "tags": []
          }
        },
        {
          "output_type": "stream",
          "text": [
            "Extracting data/MNIST/raw/train-labels-idx1-ubyte.gz to data/MNIST/raw\n",
            "Downloading http://yann.lecun.com/exdb/mnist/t10k-images-idx3-ubyte.gz to data/MNIST/raw/t10k-images-idx3-ubyte.gz\n"
          ],
          "name": "stdout"
        },
        {
          "output_type": "display_data",
          "data": {
            "application/vnd.jupyter.widget-view+json": {
              "model_id": "ab87cbcd0dab4691875c009561b4b3ca",
              "version_minor": 0,
              "version_major": 2
            },
            "text/plain": [
              "HBox(children=(FloatProgress(value=1.0, bar_style='info', max=1.0), HTML(value='')))"
            ]
          },
          "metadata": {
            "tags": []
          }
        },
        {
          "output_type": "stream",
          "text": [
            "Extracting data/MNIST/raw/t10k-images-idx3-ubyte.gz to data/MNIST/raw\n",
            "Downloading http://yann.lecun.com/exdb/mnist/t10k-labels-idx1-ubyte.gz to data/MNIST/raw/t10k-labels-idx1-ubyte.gz\n"
          ],
          "name": "stdout"
        },
        {
          "output_type": "display_data",
          "data": {
            "application/vnd.jupyter.widget-view+json": {
              "model_id": "715d684351c64038b5fb137b1a6f014a",
              "version_minor": 0,
              "version_major": 2
            },
            "text/plain": [
              "HBox(children=(FloatProgress(value=1.0, bar_style='info', max=1.0), HTML(value='')))"
            ]
          },
          "metadata": {
            "tags": []
          }
        },
        {
          "output_type": "stream",
          "text": [
            "Extracting data/MNIST/raw/t10k-labels-idx1-ubyte.gz to data/MNIST/raw\n",
            "Processing...\n",
            "Done!\n",
            "\n",
            "\n",
            "\n",
            "Image batch dimensions: torch.Size([128, 1, 28, 28])\n",
            "Image label dimensions: torch.Size([128])\n"
          ],
          "name": "stdout"
        },
        {
          "output_type": "stream",
          "text": [
            "/pytorch/torch/csrc/utils/tensor_numpy.cpp:141: UserWarning: The given NumPy array is not writeable, and PyTorch does not support non-writeable tensors. This means you can write to the underlying (supposedly non-writeable) NumPy array using the tensor. You may want to copy the array to protect its data or make it writeable before converting it to a tensor. This type of warning will be suppressed for the rest of this program.\n"
          ],
          "name": "stderr"
        }
      ]
    },
    {
      "cell_type": "markdown",
      "metadata": {
        "id": "RgxSF7TUp9l4",
        "colab_type": "text"
      },
      "source": [
        "## Model"
      ]
    },
    {
      "cell_type": "code",
      "metadata": {
        "id": "pvMdChWwp9l5",
        "colab_type": "code",
        "colab": {}
      },
      "source": [
        "##########################\n",
        "### MODEL\n",
        "##########################\n",
        "\n",
        "\n",
        "class ConvolutionalAutoencoder(torch.nn.Module):\n",
        "\n",
        "    def __init__(self):\n",
        "        super(ConvolutionalAutoencoder, self).__init__()\n",
        "        \n",
        "        # calculate same padding:\n",
        "        # (w - k + 2*p)/s + 1 = o\n",
        "        # => p = (s(o-1) - w + k)/2\n",
        "        \n",
        "        ### ENCODER\n",
        "        \n",
        "        # 28x28x1 => 28x28x4\n",
        "        self.conv_1 = torch.nn.Conv2d(in_channels=1,\n",
        "                                      out_channels=4,\n",
        "                                      kernel_size=(3, 3),\n",
        "                                      stride=(1, 1),\n",
        "                                      # (1(28-1) - 28 + 3) / 2 = 1\n",
        "                                      padding=1) \n",
        "        # 28x28x4 => 14x14x4                              \n",
        "        self.pool_1 = torch.nn.MaxPool2d(kernel_size=(2, 2),\n",
        "                                         stride=(2, 2),\n",
        "                                         # (2(14-1) - 28 + 2) / 2 = 0\n",
        "                                         padding=0)                                       \n",
        "        # 14x14x4 => 14x14x8\n",
        "        self.conv_2 = torch.nn.Conv2d(in_channels=4,\n",
        "                                      out_channels=8,\n",
        "                                      kernel_size=(3, 3),\n",
        "                                      stride=(1, 1),\n",
        "                                      # (1(14-1) - 14 + 3) / 2 = 1\n",
        "                                      padding=1)                 \n",
        "        # 14x14x8 => 7x7x8                             \n",
        "        self.pool_2 = torch.nn.MaxPool2d(kernel_size=(2, 2),\n",
        "                                         stride=(2, 2),\n",
        "                                         # (2(7-1) - 14 + 2) / 2 = 0\n",
        "                                         padding=0)\n",
        "        \n",
        "        ### DECODER\n",
        "                                         \n",
        "        # 7x7x8 => 15x15x4                          \n",
        "        self.deconv_1 = torch.nn.ConvTranspose2d(in_channels=8,\n",
        "                                                 out_channels=4,\n",
        "                                                 kernel_size=(3, 3),\n",
        "                                                 stride=(2, 2),\n",
        "                                                 padding=0)\n",
        "        \n",
        "        # 15x15x4  => 31x31x1                           \n",
        "        self.deconv_2 = torch.nn.ConvTranspose2d(in_channels=4,\n",
        "                                                 out_channels=1,\n",
        "                                                 kernel_size=(3, 3),\n",
        "                                                 stride=(2, 2),\n",
        "                                                 padding=0)\n",
        "        \n",
        "    def forward(self, x):\n",
        "        \n",
        "        ### ENCODER\n",
        "        x = self.conv_1(x)\n",
        "        x = F.leaky_relu(x)\n",
        "        x = self.pool_1(x)\n",
        "        x = self.conv_2(x)\n",
        "        x = F.leaky_relu(x)\n",
        "        x = self.pool_2(x)\n",
        "        \n",
        "        ### DECODER\n",
        "        x = self.deconv_1(x)\n",
        "        x = F.leaky_relu(x)\n",
        "        x = self.deconv_2(x)\n",
        "        x = F.leaky_relu(x)\n",
        "        logits = x[:, :, 2:30, 2:30]\n",
        "        probas = torch.sigmoid(logits)\n",
        "        return logits, probas\n",
        "\n",
        "    \n",
        "torch.manual_seed(random_seed)\n",
        "model = ConvolutionalAutoencoder()\n",
        "model = model.to(device)\n",
        "\n",
        "optimizer = torch.optim.Adam(model.parameters(), lr=learning_rate)  "
      ],
      "execution_count": 5,
      "outputs": []
    },
    {
      "cell_type": "code",
      "metadata": {
        "id": "JNuniJJ5qEj2",
        "colab_type": "code",
        "colab": {
          "base_uri": "https://localhost:8080/",
          "height": 196
        },
        "outputId": "cf28ae84-b829-4b21-8622-c5169374fa89"
      },
      "source": [
        "import hiddenlayer as hl\n",
        "hl.build_graph(model, torch.zeros([64, 1, 28, 28]).to(device))"
      ],
      "execution_count": 8,
      "outputs": [
        {
          "output_type": "execute_result",
          "data": {
            "text/plain": [
              "<hiddenlayer.graph.Graph at 0x7f733c182dd8>"
            ],
            "image/svg+xml": "<?xml version=\"1.0\" encoding=\"UTF-8\" standalone=\"no\"?>\n<!DOCTYPE svg PUBLIC \"-//W3C//DTD SVG 1.1//EN\"\n \"http://www.w3.org/Graphics/SVG/1.1/DTD/svg11.dtd\">\n<!-- Generated by graphviz version 2.40.1 (20161225.0304)\n -->\n<!-- Title: %3 Pages: 1 -->\n<svg width=\"1911pt\" height=\"116pt\"\n viewBox=\"0.00 0.00 1911.00 116.00\" xmlns=\"http://www.w3.org/2000/svg\" xmlns:xlink=\"http://www.w3.org/1999/xlink\">\n<g id=\"graph0\" class=\"graph\" transform=\"scale(1 1) rotate(0) translate(72 80)\">\n<title>%3</title>\n<polygon fill=\"#ffffff\" stroke=\"transparent\" points=\"-72,36 -72,-80 1839,-80 1839,36 -72,36\"/>\n<!-- /outputs/9 -->\n<g id=\"node1\" class=\"node\">\n<title>/outputs/9</title>\n<polygon fill=\"#e8e8e8\" stroke=\"#000000\" points=\"55,-40 0,-40 0,-4 55,-4 55,-40\"/>\n<text text-anchor=\"start\" x=\"8.5\" y=\"-19\" font-family=\"Times\" font-size=\"10.00\" fill=\"#000000\">Conv3x3</text>\n</g>\n<!-- /outputs/10 -->\n<g id=\"node2\" class=\"node\">\n<title>/outputs/10</title>\n<polygon fill=\"#e8e8e8\" stroke=\"#000000\" points=\"206,-40 144,-40 144,-4 206,-4 206,-40\"/>\n<text text-anchor=\"start\" x=\"152\" y=\"-19\" font-family=\"Times\" font-size=\"10.00\" fill=\"#000000\">LeakyRelu</text>\n</g>\n<!-- /outputs/9&#45;&gt;/outputs/10 -->\n<g id=\"edge1\" class=\"edge\">\n<title>/outputs/9&#45;&gt;/outputs/10</title>\n<path fill=\"none\" stroke=\"#000000\" d=\"M55.2436,-22C77.2957,-22 108.4849,-22 133.5055,-22\"/>\n<polygon fill=\"#000000\" stroke=\"#000000\" points=\"133.8064,-25.5001 143.8064,-22 133.8064,-18.5001 133.8064,-25.5001\"/>\n<text text-anchor=\"middle\" x=\"99.5\" y=\"-25\" font-family=\"Times\" font-size=\"10.00\" fill=\"#000000\">64x4x28x28</text>\n</g>\n<!-- /outputs/11 -->\n<g id=\"node3\" class=\"node\">\n<title>/outputs/11</title>\n<polygon fill=\"#e8e8e8\" stroke=\"#000000\" points=\"365,-40 295,-40 295,-4 365,-4 365,-40\"/>\n<text text-anchor=\"start\" x=\"303\" y=\"-19\" font-family=\"Times\" font-size=\"10.00\" fill=\"#000000\">MaxPool2x2</text>\n</g>\n<!-- /outputs/10&#45;&gt;/outputs/11 -->\n<g id=\"edge2\" class=\"edge\">\n<title>/outputs/10&#45;&gt;/outputs/11</title>\n<path fill=\"none\" stroke=\"#000000\" d=\"M206.3666,-22C228.9135,-22 259.651,-22 284.8367,-22\"/>\n<polygon fill=\"#000000\" stroke=\"#000000\" points=\"284.8947,-25.5001 294.8947,-22 284.8947,-18.5001 284.8947,-25.5001\"/>\n<text text-anchor=\"middle\" x=\"250.5\" y=\"-25\" font-family=\"Times\" font-size=\"10.00\" fill=\"#000000\">64x4x28x28</text>\n</g>\n<!-- /outputs/12 -->\n<g id=\"node4\" class=\"node\">\n<title>/outputs/12</title>\n<polygon fill=\"#e8e8e8\" stroke=\"#000000\" points=\"509,-40 454,-40 454,-4 509,-4 509,-40\"/>\n<text text-anchor=\"start\" x=\"462.5\" y=\"-19\" font-family=\"Times\" font-size=\"10.00\" fill=\"#000000\">Conv3x3</text>\n</g>\n<!-- /outputs/11&#45;&gt;/outputs/12 -->\n<g id=\"edge3\" class=\"edge\">\n<title>/outputs/11&#45;&gt;/outputs/12</title>\n<path fill=\"none\" stroke=\"#000000\" d=\"M365.1379,-22C388.5901,-22 419.416,-22 443.4478,-22\"/>\n<polygon fill=\"#000000\" stroke=\"#000000\" points=\"443.6244,-25.5001 453.6243,-22 443.6243,-18.5001 443.6244,-25.5001\"/>\n<text text-anchor=\"middle\" x=\"409.5\" y=\"-25\" font-family=\"Times\" font-size=\"10.00\" fill=\"#000000\">64x4x14x14</text>\n</g>\n<!-- /outputs/13 -->\n<g id=\"node5\" class=\"node\">\n<title>/outputs/13</title>\n<polygon fill=\"#e8e8e8\" stroke=\"#000000\" points=\"660,-40 598,-40 598,-4 660,-4 660,-40\"/>\n<text text-anchor=\"start\" x=\"606\" y=\"-19\" font-family=\"Times\" font-size=\"10.00\" fill=\"#000000\">LeakyRelu</text>\n</g>\n<!-- /outputs/12&#45;&gt;/outputs/13 -->\n<g id=\"edge4\" class=\"edge\">\n<title>/outputs/12&#45;&gt;/outputs/13</title>\n<path fill=\"none\" stroke=\"#000000\" d=\"M509.2436,-22C531.2957,-22 562.4849,-22 587.5055,-22\"/>\n<polygon fill=\"#000000\" stroke=\"#000000\" points=\"587.8064,-25.5001 597.8064,-22 587.8064,-18.5001 587.8064,-25.5001\"/>\n<text text-anchor=\"middle\" x=\"553.5\" y=\"-25\" font-family=\"Times\" font-size=\"10.00\" fill=\"#000000\">64x8x14x14</text>\n</g>\n<!-- /outputs/14 -->\n<g id=\"node6\" class=\"node\">\n<title>/outputs/14</title>\n<polygon fill=\"#e8e8e8\" stroke=\"#000000\" points=\"819,-40 749,-40 749,-4 819,-4 819,-40\"/>\n<text text-anchor=\"start\" x=\"757\" y=\"-19\" font-family=\"Times\" font-size=\"10.00\" fill=\"#000000\">MaxPool2x2</text>\n</g>\n<!-- /outputs/13&#45;&gt;/outputs/14 -->\n<g id=\"edge5\" class=\"edge\">\n<title>/outputs/13&#45;&gt;/outputs/14</title>\n<path fill=\"none\" stroke=\"#000000\" d=\"M660.3666,-22C682.9135,-22 713.651,-22 738.8367,-22\"/>\n<polygon fill=\"#000000\" stroke=\"#000000\" points=\"738.8947,-25.5001 748.8947,-22 738.8947,-18.5001 738.8947,-25.5001\"/>\n<text text-anchor=\"middle\" x=\"704.5\" y=\"-25\" font-family=\"Times\" font-size=\"10.00\" fill=\"#000000\">64x8x14x14</text>\n</g>\n<!-- /outputs/15 -->\n<g id=\"node7\" class=\"node\">\n<title>/outputs/15</title>\n<polygon fill=\"#e8e8e8\" stroke=\"#000000\" points=\"994,-40 898,-40 898,-4 994,-4 994,-40\"/>\n<text text-anchor=\"start\" x=\"906\" y=\"-19\" font-family=\"Times\" font-size=\"10.00\" fill=\"#000000\">ConvTranspose3x3</text>\n</g>\n<!-- /outputs/14&#45;&gt;/outputs/15 -->\n<g id=\"edge6\" class=\"edge\">\n<title>/outputs/14&#45;&gt;/outputs/15</title>\n<path fill=\"none\" stroke=\"#000000\" d=\"M819.1516,-22C839.0841,-22 864.5397,-22 887.4087,-22\"/>\n<polygon fill=\"#000000\" stroke=\"#000000\" points=\"887.7049,-25.5001 897.7049,-22 887.7048,-18.5001 887.7049,-25.5001\"/>\n<text text-anchor=\"middle\" x=\"858.5\" y=\"-25\" font-family=\"Times\" font-size=\"10.00\" fill=\"#000000\">64x8x7x7</text>\n</g>\n<!-- /outputs/16 -->\n<g id=\"node8\" class=\"node\">\n<title>/outputs/16</title>\n<polygon fill=\"#e8e8e8\" stroke=\"#000000\" points=\"1145,-40 1083,-40 1083,-4 1145,-4 1145,-40\"/>\n<text text-anchor=\"start\" x=\"1091\" y=\"-19\" font-family=\"Times\" font-size=\"10.00\" fill=\"#000000\">LeakyRelu</text>\n</g>\n<!-- /outputs/15&#45;&gt;/outputs/16 -->\n<g id=\"edge7\" class=\"edge\">\n<title>/outputs/15&#45;&gt;/outputs/16</title>\n<path fill=\"none\" stroke=\"#000000\" d=\"M994.1421,-22C1018.9737,-22 1048.9522,-22 1072.7157,-22\"/>\n<polygon fill=\"#000000\" stroke=\"#000000\" points=\"1072.8203,-25.5001 1082.8203,-22 1072.8203,-18.5001 1072.8203,-25.5001\"/>\n<text text-anchor=\"middle\" x=\"1038.5\" y=\"-25\" font-family=\"Times\" font-size=\"10.00\" fill=\"#000000\">64x4x15x15</text>\n</g>\n<!-- /outputs/17 -->\n<g id=\"node9\" class=\"node\">\n<title>/outputs/17</title>\n<polygon fill=\"#e8e8e8\" stroke=\"#000000\" points=\"1330,-40 1234,-40 1234,-4 1330,-4 1330,-40\"/>\n<text text-anchor=\"start\" x=\"1242\" y=\"-19\" font-family=\"Times\" font-size=\"10.00\" fill=\"#000000\">ConvTranspose3x3</text>\n</g>\n<!-- /outputs/16&#45;&gt;/outputs/17 -->\n<g id=\"edge8\" class=\"edge\">\n<title>/outputs/16&#45;&gt;/outputs/17</title>\n<path fill=\"none\" stroke=\"#000000\" d=\"M1145.2058,-22C1167.1538,-22 1197.1887,-22 1223.5247,-22\"/>\n<polygon fill=\"#000000\" stroke=\"#000000\" points=\"1223.7894,-25.5001 1233.7894,-22 1223.7893,-18.5001 1223.7894,-25.5001\"/>\n<text text-anchor=\"middle\" x=\"1189.5\" y=\"-25\" font-family=\"Times\" font-size=\"10.00\" fill=\"#000000\">64x4x15x15</text>\n</g>\n<!-- /outputs/18 -->\n<g id=\"node10\" class=\"node\">\n<title>/outputs/18</title>\n<polygon fill=\"#e8e8e8\" stroke=\"#000000\" points=\"1481,-40 1419,-40 1419,-4 1481,-4 1481,-40\"/>\n<text text-anchor=\"start\" x=\"1427\" y=\"-19\" font-family=\"Times\" font-size=\"10.00\" fill=\"#000000\">LeakyRelu</text>\n</g>\n<!-- /outputs/17&#45;&gt;/outputs/18 -->\n<g id=\"edge9\" class=\"edge\">\n<title>/outputs/17&#45;&gt;/outputs/18</title>\n<path fill=\"none\" stroke=\"#000000\" d=\"M1330.1421,-22C1354.9737,-22 1384.9522,-22 1408.7157,-22\"/>\n<polygon fill=\"#000000\" stroke=\"#000000\" points=\"1408.8203,-25.5001 1418.8203,-22 1408.8203,-18.5001 1408.8203,-25.5001\"/>\n<text text-anchor=\"middle\" x=\"1374.5\" y=\"-25\" font-family=\"Times\" font-size=\"10.00\" fill=\"#000000\">64x1x31x31</text>\n</g>\n<!-- 12378150096364769113 -->\n<g id=\"node12\" class=\"node\">\n<title>12378150096364769113</title>\n<polygon fill=\"#e8e8e8\" stroke=\"#000000\" points=\"1624,-44 1570,-44 1570,0 1624,0 1624,-44\"/>\n<text text-anchor=\"start\" x=\"1587\" y=\"-28\" font-family=\"Times\" font-size=\"10.00\" fill=\"#000000\">Slice</text>\n<text text-anchor=\"start\" x=\"1601\" y=\"-7\" font-family=\"Times\" font-size=\"10.00\" fill=\"#000000\">x2</text>\n</g>\n<!-- /outputs/18&#45;&gt;12378150096364769113 -->\n<g id=\"edge10\" class=\"edge\">\n<title>/outputs/18&#45;&gt;12378150096364769113</title>\n<path fill=\"none\" stroke=\"#000000\" d=\"M1481.1749,-22C1504.0802,-22 1535.3045,-22 1559.562,-22\"/>\n<polygon fill=\"#000000\" stroke=\"#000000\" points=\"1559.8238,-25.5001 1569.8237,-22 1559.8237,-18.5001 1559.8238,-25.5001\"/>\n<text text-anchor=\"middle\" x=\"1525.5\" y=\"-25\" font-family=\"Times\" font-size=\"10.00\" fill=\"#000000\">64x1x31x31</text>\n</g>\n<!-- /outputs/21 -->\n<g id=\"node11\" class=\"node\">\n<title>/outputs/21</title>\n<polygon fill=\"#e8e8e8\" stroke=\"#000000\" points=\"1767,-40 1713,-40 1713,-4 1767,-4 1767,-40\"/>\n<text text-anchor=\"start\" x=\"1723\" y=\"-19\" font-family=\"Times\" font-size=\"10.00\" fill=\"#000000\">Sigmoid</text>\n</g>\n<!-- 12378150096364769113&#45;&gt;/outputs/21 -->\n<g id=\"edge11\" class=\"edge\">\n<title>12378150096364769113&#45;&gt;/outputs/21</title>\n<path fill=\"none\" stroke=\"#000000\" d=\"M1624.2338,-22C1646.4983,-22 1678.2039,-22 1702.8066,-22\"/>\n<polygon fill=\"#000000\" stroke=\"#000000\" points=\"1702.8676,-25.5001 1712.8676,-22 1702.8676,-18.5001 1702.8676,-25.5001\"/>\n<text text-anchor=\"middle\" x=\"1668.5\" y=\"-25\" font-family=\"Times\" font-size=\"10.00\" fill=\"#000000\">64x1x28x28</text>\n</g>\n</g>\n</svg>\n"
          },
          "metadata": {
            "tags": []
          },
          "execution_count": 8
        }
      ]
    },
    {
      "cell_type": "markdown",
      "metadata": {
        "id": "1avgfaJ9p9l7",
        "colab_type": "text"
      },
      "source": [
        "## Training"
      ]
    },
    {
      "cell_type": "code",
      "metadata": {
        "id": "YggKl-SZp9l7",
        "colab_type": "code",
        "colab": {
          "base_uri": "https://localhost:8080/",
          "height": 1000
        },
        "outputId": "1f1bde0b-7b5a-4939-fc50-d83e10a00f5c"
      },
      "source": [
        "start_time = time.time()\n",
        "for epoch in range(num_epochs):\n",
        "    for batch_idx, (features, targets) in enumerate(train_loader):\n",
        "        \n",
        "        # don't need labels, only the images (features)\n",
        "        features = features.to(device)\n",
        "\n",
        "        ### FORWARD AND BACK PROP\n",
        "        logits, decoded = model(features)\n",
        "        cost = F.binary_cross_entropy_with_logits(logits, features)\n",
        "        optimizer.zero_grad()\n",
        "        \n",
        "        cost.backward()\n",
        "        \n",
        "        ### UPDATE MODEL PARAMETERS\n",
        "        optimizer.step()\n",
        "        \n",
        "        ### LOGGING\n",
        "        if not batch_idx % 50:\n",
        "            print ('Epoch: %03d/%03d | Batch %03d/%03d | Cost: %.4f' \n",
        "                   %(epoch+1, num_epochs, batch_idx, \n",
        "                     len(train_dataset)//batch_size, cost))\n",
        "            \n",
        "    print('Time elapsed: %.2f min' % ((time.time() - start_time)/60))\n",
        "    \n",
        "print('Total Training Time: %.2f min' % ((time.time() - start_time)/60))"
      ],
      "execution_count": 9,
      "outputs": [
        {
          "output_type": "stream",
          "text": [
            "Epoch: 001/010 | Batch 000/468 | Cost: 0.7191\n",
            "Epoch: 001/010 | Batch 050/468 | Cost: 0.6911\n",
            "Epoch: 001/010 | Batch 100/468 | Cost: 0.5953\n",
            "Epoch: 001/010 | Batch 150/468 | Cost: 0.3566\n",
            "Epoch: 001/010 | Batch 200/468 | Cost: 0.3053\n",
            "Epoch: 001/010 | Batch 250/468 | Cost: 0.2508\n",
            "Epoch: 001/010 | Batch 300/468 | Cost: 0.2113\n",
            "Epoch: 001/010 | Batch 350/468 | Cost: 0.1807\n",
            "Epoch: 001/010 | Batch 400/468 | Cost: 0.1593\n",
            "Epoch: 001/010 | Batch 450/468 | Cost: 0.1541\n",
            "Time elapsed: 0.08 min\n",
            "Epoch: 002/010 | Batch 000/468 | Cost: 0.1450\n",
            "Epoch: 002/010 | Batch 050/468 | Cost: 0.1385\n",
            "Epoch: 002/010 | Batch 100/468 | Cost: 0.1379\n",
            "Epoch: 002/010 | Batch 150/468 | Cost: 0.1279\n",
            "Epoch: 002/010 | Batch 200/468 | Cost: 0.1288\n",
            "Epoch: 002/010 | Batch 250/468 | Cost: 0.1234\n",
            "Epoch: 002/010 | Batch 300/468 | Cost: 0.1216\n",
            "Epoch: 002/010 | Batch 350/468 | Cost: 0.1237\n",
            "Epoch: 002/010 | Batch 400/468 | Cost: 0.1238\n",
            "Epoch: 002/010 | Batch 450/468 | Cost: 0.1182\n",
            "Time elapsed: 0.16 min\n",
            "Epoch: 003/010 | Batch 000/468 | Cost: 0.1184\n",
            "Epoch: 003/010 | Batch 050/468 | Cost: 0.1191\n",
            "Epoch: 003/010 | Batch 100/468 | Cost: 0.1197\n",
            "Epoch: 003/010 | Batch 150/468 | Cost: 0.1146\n",
            "Epoch: 003/010 | Batch 200/468 | Cost: 0.1095\n",
            "Epoch: 003/010 | Batch 250/468 | Cost: 0.1124\n",
            "Epoch: 003/010 | Batch 300/468 | Cost: 0.1083\n",
            "Epoch: 003/010 | Batch 350/468 | Cost: 0.1148\n",
            "Epoch: 003/010 | Batch 400/468 | Cost: 0.1128\n",
            "Epoch: 003/010 | Batch 450/468 | Cost: 0.1053\n",
            "Time elapsed: 0.24 min\n",
            "Epoch: 004/010 | Batch 000/468 | Cost: 0.1102\n",
            "Epoch: 004/010 | Batch 050/468 | Cost: 0.1114\n",
            "Epoch: 004/010 | Batch 100/468 | Cost: 0.1029\n",
            "Epoch: 004/010 | Batch 150/468 | Cost: 0.1082\n",
            "Epoch: 004/010 | Batch 200/468 | Cost: 0.1088\n",
            "Epoch: 004/010 | Batch 250/468 | Cost: 0.1084\n",
            "Epoch: 004/010 | Batch 300/468 | Cost: 0.1091\n",
            "Epoch: 004/010 | Batch 350/468 | Cost: 0.1079\n",
            "Epoch: 004/010 | Batch 400/468 | Cost: 0.1022\n",
            "Epoch: 004/010 | Batch 450/468 | Cost: 0.1073\n",
            "Time elapsed: 0.32 min\n",
            "Epoch: 005/010 | Batch 000/468 | Cost: 0.1035\n",
            "Epoch: 005/010 | Batch 050/468 | Cost: 0.1017\n",
            "Epoch: 005/010 | Batch 100/468 | Cost: 0.1012\n",
            "Epoch: 005/010 | Batch 150/468 | Cost: 0.1051\n",
            "Epoch: 005/010 | Batch 200/468 | Cost: 0.1051\n",
            "Epoch: 005/010 | Batch 250/468 | Cost: 0.1042\n",
            "Epoch: 005/010 | Batch 300/468 | Cost: 0.1065\n",
            "Epoch: 005/010 | Batch 350/468 | Cost: 0.1048\n",
            "Epoch: 005/010 | Batch 400/468 | Cost: 0.1016\n",
            "Epoch: 005/010 | Batch 450/468 | Cost: 0.1063\n",
            "Time elapsed: 0.40 min\n",
            "Epoch: 006/010 | Batch 000/468 | Cost: 0.1036\n",
            "Epoch: 006/010 | Batch 050/468 | Cost: 0.0967\n",
            "Epoch: 006/010 | Batch 100/468 | Cost: 0.1030\n",
            "Epoch: 006/010 | Batch 150/468 | Cost: 0.1052\n",
            "Epoch: 006/010 | Batch 200/468 | Cost: 0.1033\n",
            "Epoch: 006/010 | Batch 250/468 | Cost: 0.1007\n",
            "Epoch: 006/010 | Batch 300/468 | Cost: 0.0983\n",
            "Epoch: 006/010 | Batch 350/468 | Cost: 0.1006\n",
            "Epoch: 006/010 | Batch 400/468 | Cost: 0.1012\n",
            "Epoch: 006/010 | Batch 450/468 | Cost: 0.1041\n",
            "Time elapsed: 0.47 min\n",
            "Epoch: 007/010 | Batch 000/468 | Cost: 0.0985\n",
            "Epoch: 007/010 | Batch 050/468 | Cost: 0.0972\n",
            "Epoch: 007/010 | Batch 100/468 | Cost: 0.0997\n",
            "Epoch: 007/010 | Batch 150/468 | Cost: 0.1018\n",
            "Epoch: 007/010 | Batch 200/468 | Cost: 0.1009\n",
            "Epoch: 007/010 | Batch 250/468 | Cost: 0.0934\n",
            "Epoch: 007/010 | Batch 300/468 | Cost: 0.0966\n",
            "Epoch: 007/010 | Batch 350/468 | Cost: 0.1011\n",
            "Epoch: 007/010 | Batch 400/468 | Cost: 0.0991\n",
            "Epoch: 007/010 | Batch 450/468 | Cost: 0.0982\n",
            "Time elapsed: 0.55 min\n",
            "Epoch: 008/010 | Batch 000/468 | Cost: 0.1003\n",
            "Epoch: 008/010 | Batch 050/468 | Cost: 0.0994\n",
            "Epoch: 008/010 | Batch 100/468 | Cost: 0.0982\n",
            "Epoch: 008/010 | Batch 150/468 | Cost: 0.0961\n",
            "Epoch: 008/010 | Batch 200/468 | Cost: 0.0975\n",
            "Epoch: 008/010 | Batch 250/468 | Cost: 0.0952\n",
            "Epoch: 008/010 | Batch 300/468 | Cost: 0.0951\n",
            "Epoch: 008/010 | Batch 350/468 | Cost: 0.0921\n",
            "Epoch: 008/010 | Batch 400/468 | Cost: 0.0981\n",
            "Epoch: 008/010 | Batch 450/468 | Cost: 0.0960\n",
            "Time elapsed: 0.63 min\n",
            "Epoch: 009/010 | Batch 000/468 | Cost: 0.0975\n",
            "Epoch: 009/010 | Batch 050/468 | Cost: 0.0947\n",
            "Epoch: 009/010 | Batch 100/468 | Cost: 0.0993\n",
            "Epoch: 009/010 | Batch 150/468 | Cost: 0.0966\n",
            "Epoch: 009/010 | Batch 200/468 | Cost: 0.0961\n",
            "Epoch: 009/010 | Batch 250/468 | Cost: 0.0955\n",
            "Epoch: 009/010 | Batch 300/468 | Cost: 0.0938\n",
            "Epoch: 009/010 | Batch 350/468 | Cost: 0.0979\n",
            "Epoch: 009/010 | Batch 400/468 | Cost: 0.0957\n",
            "Epoch: 009/010 | Batch 450/468 | Cost: 0.0967\n",
            "Time elapsed: 0.71 min\n",
            "Epoch: 010/010 | Batch 000/468 | Cost: 0.0965\n",
            "Epoch: 010/010 | Batch 050/468 | Cost: 0.0958\n",
            "Epoch: 010/010 | Batch 100/468 | Cost: 0.0957\n",
            "Epoch: 010/010 | Batch 150/468 | Cost: 0.0940\n",
            "Epoch: 010/010 | Batch 200/468 | Cost: 0.0973\n",
            "Epoch: 010/010 | Batch 250/468 | Cost: 0.0949\n",
            "Epoch: 010/010 | Batch 300/468 | Cost: 0.0990\n",
            "Epoch: 010/010 | Batch 350/468 | Cost: 0.0899\n",
            "Epoch: 010/010 | Batch 400/468 | Cost: 0.0955\n",
            "Epoch: 010/010 | Batch 450/468 | Cost: 0.0954\n",
            "Time elapsed: 0.79 min\n",
            "Total Training Time: 0.79 min\n"
          ],
          "name": "stdout"
        }
      ]
    },
    {
      "cell_type": "markdown",
      "metadata": {
        "id": "EHYthVI2p9l9",
        "colab_type": "text"
      },
      "source": [
        "## Evaluation"
      ]
    },
    {
      "cell_type": "code",
      "metadata": {
        "id": "kxLtpiElp9l-",
        "colab_type": "code",
        "colab": {
          "base_uri": "https://localhost:8080/",
          "height": 187
        },
        "outputId": "cf80945e-7ed6-4a02-c231-15f4b033aca8"
      },
      "source": [
        "%matplotlib inline\n",
        "import matplotlib.pyplot as plt\n",
        "\n",
        "##########################\n",
        "### VISUALIZATION\n",
        "##########################\n",
        "\n",
        "n_images = 15\n",
        "image_width = 28\n",
        "\n",
        "fig, axes = plt.subplots(nrows=2, ncols=n_images, \n",
        "                         sharex=True, sharey=True, figsize=(20, 2.5))\n",
        "orig_images = features[:n_images]\n",
        "decoded_images = decoded[:n_images]\n",
        "\n",
        "for i in range(n_images):\n",
        "    for ax, img in zip(axes, [orig_images, decoded_images]):\n",
        "        curr_img = img[i].detach().to(torch.device('cpu'))\n",
        "        ax[i].imshow(curr_img.view((image_width, image_width)), cmap='binary')"
      ],
      "execution_count": 10,
      "outputs": [
        {
          "output_type": "display_data",
          "data": {
            "image/png": "[encoded data removed]",
            "text/plain": [
              "<Figure size 1440x180 with 30 Axes>"
            ]
          },
          "metadata": {
            "tags": [],
            "needs_background": "light"
          }
        }
      ]
    },
    {
      "cell_type": "code",
      "metadata": {
        "id": "V66Lgc2Xp9mB",
        "colab_type": "code",
        "colab": {
          "base_uri": "https://localhost:8080/",
          "height": 69
        },
        "outputId": "b9b90ec8-dd8a-451e-b8ba-8f77929a0f26"
      },
      "source": [
        "%watermark -iv"
      ],
      "execution_count": 11,
      "outputs": [
        {
          "output_type": "stream",
          "text": [
            "torch 1.5.1+cu101\n",
            "numpy 1.18.5\n",
            "\n"
          ],
          "name": "stdout"
        }
      ]
    }
  ]
}