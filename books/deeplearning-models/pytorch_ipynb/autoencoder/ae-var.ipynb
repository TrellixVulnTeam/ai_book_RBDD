{
  "nbformat": 4,
  "nbformat_minor": 0,
  "metadata": {
    "kernelspec": {
      "display_name": "Python 3",
      "language": "python",
      "name": "python3"
    },
    "language_info": {
      "codemirror_mode": {
        "name": "ipython",
        "version": 3
      },
      "file_extension": ".py",
      "mimetype": "text/x-python",
      "name": "python",
      "nbconvert_exporter": "python",
      "pygments_lexer": "ipython3",
      "version": "3.7.1"
    },
    "toc": {
      "nav_menu": {},
      "number_sections": true,
      "sideBar": true,
      "skip_h1_title": false,
      "title_cell": "Table of Contents",
      "title_sidebar": "Contents",
      "toc_cell": false,
      "toc_position": {},
      "toc_section_display": true,
      "toc_window_display": false
    },
    "colab": {
      "name": "ae-var.ipynb",
      "provenance": []
    },
    "accelerator": "GPU",
    "widgets": {
      "application/vnd.jupyter.widget-state+json": {
        "987908edb3b042119cd1bf7c0387178a": {
          "model_module": "@jupyter-widgets/controls",
          "model_name": "HBoxModel",
          "state": {
            "_view_name": "HBoxView",
            "_dom_classes": [],
            "_model_name": "HBoxModel",
            "_view_module": "@jupyter-widgets/controls",
            "_model_module_version": "1.5.0",
            "_view_count": null,
            "_view_module_version": "1.5.0",
            "box_style": "",
            "layout": "IPY_MODEL_75a3d90c6869473c885349979837ef66",
            "_model_module": "@jupyter-widgets/controls",
            "children": [
              "IPY_MODEL_bcb770ab06ce4d52a387c90f66ce7782",
              "IPY_MODEL_c65a4ecdf49347e08b6513772a3d5f85"
            ]
          }
        },
        "75a3d90c6869473c885349979837ef66": {
          "model_module": "@jupyter-widgets/base",
          "model_name": "LayoutModel",
          "state": {
            "_view_name": "LayoutView",
            "grid_template_rows": null,
            "right": null,
            "justify_content": null,
            "_view_module": "@jupyter-widgets/base",
            "overflow": null,
            "_model_module_version": "1.2.0",
            "_view_count": null,
            "flex_flow": null,
            "width": null,
            "min_width": null,
            "border": null,
            "align_items": null,
            "bottom": null,
            "_model_module": "@jupyter-widgets/base",
            "top": null,
            "grid_column": null,
            "overflow_y": null,
            "overflow_x": null,
            "grid_auto_flow": null,
            "grid_area": null,
            "grid_template_columns": null,
            "flex": null,
            "_model_name": "LayoutModel",
            "justify_items": null,
            "grid_row": null,
            "max_height": null,
            "align_content": null,
            "visibility": null,
            "align_self": null,
            "height": null,
            "min_height": null,
            "padding": null,
            "grid_auto_rows": null,
            "grid_gap": null,
            "max_width": null,
            "order": null,
            "_view_module_version": "1.2.0",
            "grid_template_areas": null,
            "object_position": null,
            "object_fit": null,
            "grid_auto_columns": null,
            "margin": null,
            "display": null,
            "left": null
          }
        },
        "bcb770ab06ce4d52a387c90f66ce7782": {
          "model_module": "@jupyter-widgets/controls",
          "model_name": "FloatProgressModel",
          "state": {
            "_view_name": "ProgressView",
            "style": "IPY_MODEL_2677288080064c1d80bc29067925b2c0",
            "_dom_classes": [],
            "description": "",
            "_model_name": "FloatProgressModel",
            "bar_style": "info",
            "max": 1,
            "_view_module": "@jupyter-widgets/controls",
            "_model_module_version": "1.5.0",
            "value": 1,
            "_view_count": null,
            "_view_module_version": "1.5.0",
            "orientation": "horizontal",
            "min": 0,
            "description_tooltip": null,
            "_model_module": "@jupyter-widgets/controls",
            "layout": "IPY_MODEL_108990a822374fffac0bf02985274618"
          }
        },
        "c65a4ecdf49347e08b6513772a3d5f85": {
          "model_module": "@jupyter-widgets/controls",
          "model_name": "HTMLModel",
          "state": {
            "_view_name": "HTMLView",
            "style": "IPY_MODEL_477aa91e88a7407e845d19f5a42fdc7e",
            "_dom_classes": [],
            "description": "",
            "_model_name": "HTMLModel",
            "placeholder": "​",
            "_view_module": "@jupyter-widgets/controls",
            "_model_module_version": "1.5.0",
            "value": " 9920512/? [00:20&lt;00:00, 15889994.76it/s]",
            "_view_count": null,
            "_view_module_version": "1.5.0",
            "description_tooltip": null,
            "_model_module": "@jupyter-widgets/controls",
            "layout": "IPY_MODEL_cee1836dfb704e0bb6479cccc1bb171a"
          }
        },
        "2677288080064c1d80bc29067925b2c0": {
          "model_module": "@jupyter-widgets/controls",
          "model_name": "ProgressStyleModel",
          "state": {
            "_view_name": "StyleView",
            "_model_name": "ProgressStyleModel",
            "description_width": "initial",
            "_view_module": "@jupyter-widgets/base",
            "_model_module_version": "1.5.0",
            "_view_count": null,
            "_view_module_version": "1.2.0",
            "bar_color": null,
            "_model_module": "@jupyter-widgets/controls"
          }
        },
        "108990a822374fffac0bf02985274618": {
          "model_module": "@jupyter-widgets/base",
          "model_name": "LayoutModel",
          "state": {
            "_view_name": "LayoutView",
            "grid_template_rows": null,
            "right": null,
            "justify_content": null,
            "_view_module": "@jupyter-widgets/base",
            "overflow": null,
            "_model_module_version": "1.2.0",
            "_view_count": null,
            "flex_flow": null,
            "width": null,
            "min_width": null,
            "border": null,
            "align_items": null,
            "bottom": null,
            "_model_module": "@jupyter-widgets/base",
            "top": null,
            "grid_column": null,
            "overflow_y": null,
            "overflow_x": null,
            "grid_auto_flow": null,
            "grid_area": null,
            "grid_template_columns": null,
            "flex": null,
            "_model_name": "LayoutModel",
            "justify_items": null,
            "grid_row": null,
            "max_height": null,
            "align_content": null,
            "visibility": null,
            "align_self": null,
            "height": null,
            "min_height": null,
            "padding": null,
            "grid_auto_rows": null,
            "grid_gap": null,
            "max_width": null,
            "order": null,
            "_view_module_version": "1.2.0",
            "grid_template_areas": null,
            "object_position": null,
            "object_fit": null,
            "grid_auto_columns": null,
            "margin": null,
            "display": null,
            "left": null
          }
        },
        "477aa91e88a7407e845d19f5a42fdc7e": {
          "model_module": "@jupyter-widgets/controls",
          "model_name": "DescriptionStyleModel",
          "state": {
            "_view_name": "StyleView",
            "_model_name": "DescriptionStyleModel",
            "description_width": "",
            "_view_module": "@jupyter-widgets/base",
            "_model_module_version": "1.5.0",
            "_view_count": null,
            "_view_module_version": "1.2.0",
            "_model_module": "@jupyter-widgets/controls"
          }
        },
        "cee1836dfb704e0bb6479cccc1bb171a": {
          "model_module": "@jupyter-widgets/base",
          "model_name": "LayoutModel",
          "state": {
            "_view_name": "LayoutView",
            "grid_template_rows": null,
            "right": null,
            "justify_content": null,
            "_view_module": "@jupyter-widgets/base",
            "overflow": null,
            "_model_module_version": "1.2.0",
            "_view_count": null,
            "flex_flow": null,
            "width": null,
            "min_width": null,
            "border": null,
            "align_items": null,
            "bottom": null,
            "_model_module": "@jupyter-widgets/base",
            "top": null,
            "grid_column": null,
            "overflow_y": null,
            "overflow_x": null,
            "grid_auto_flow": null,
            "grid_area": null,
            "grid_template_columns": null,
            "flex": null,
            "_model_name": "LayoutModel",
            "justify_items": null,
            "grid_row": null,
            "max_height": null,
            "align_content": null,
            "visibility": null,
            "align_self": null,
            "height": null,
            "min_height": null,
            "padding": null,
            "grid_auto_rows": null,
            "grid_gap": null,
            "max_width": null,
            "order": null,
            "_view_module_version": "1.2.0",
            "grid_template_areas": null,
            "object_position": null,
            "object_fit": null,
            "grid_auto_columns": null,
            "margin": null,
            "display": null,
            "left": null
          }
        },
        "765ab4ea38174c488a32846d2b536ee3": {
          "model_module": "@jupyter-widgets/controls",
          "model_name": "HBoxModel",
          "state": {
            "_view_name": "HBoxView",
            "_dom_classes": [],
            "_model_name": "HBoxModel",
            "_view_module": "@jupyter-widgets/controls",
            "_model_module_version": "1.5.0",
            "_view_count": null,
            "_view_module_version": "1.5.0",
            "box_style": "",
            "layout": "IPY_MODEL_323e2189e3f24eb49ecdf47633edd875",
            "_model_module": "@jupyter-widgets/controls",
            "children": [
              "IPY_MODEL_c9034b3daf0d49a7a30bdff976fdac5e",
              "IPY_MODEL_dc9ca6880add4f4c9cd511683121410b"
            ]
          }
        },
        "323e2189e3f24eb49ecdf47633edd875": {
          "model_module": "@jupyter-widgets/base",
          "model_name": "LayoutModel",
          "state": {
            "_view_name": "LayoutView",
            "grid_template_rows": null,
            "right": null,
            "justify_content": null,
            "_view_module": "@jupyter-widgets/base",
            "overflow": null,
            "_model_module_version": "1.2.0",
            "_view_count": null,
            "flex_flow": null,
            "width": null,
            "min_width": null,
            "border": null,
            "align_items": null,
            "bottom": null,
            "_model_module": "@jupyter-widgets/base",
            "top": null,
            "grid_column": null,
            "overflow_y": null,
            "overflow_x": null,
            "grid_auto_flow": null,
            "grid_area": null,
            "grid_template_columns": null,
            "flex": null,
            "_model_name": "LayoutModel",
            "justify_items": null,
            "grid_row": null,
            "max_height": null,
            "align_content": null,
            "visibility": null,
            "align_self": null,
            "height": null,
            "min_height": null,
            "padding": null,
            "grid_auto_rows": null,
            "grid_gap": null,
            "max_width": null,
            "order": null,
            "_view_module_version": "1.2.0",
            "grid_template_areas": null,
            "object_position": null,
            "object_fit": null,
            "grid_auto_columns": null,
            "margin": null,
            "display": null,
            "left": null
          }
        },
        "c9034b3daf0d49a7a30bdff976fdac5e": {
          "model_module": "@jupyter-widgets/controls",
          "model_name": "FloatProgressModel",
          "state": {
            "_view_name": "ProgressView",
            "style": "IPY_MODEL_2f45577d95e942ffa54b98de1d67a19a",
            "_dom_classes": [],
            "description": "",
            "_model_name": "FloatProgressModel",
            "bar_style": "success",
            "max": 1,
            "_view_module": "@jupyter-widgets/controls",
            "_model_module_version": "1.5.0",
            "value": 1,
            "_view_count": null,
            "_view_module_version": "1.5.0",
            "orientation": "horizontal",
            "min": 0,
            "description_tooltip": null,
            "_model_module": "@jupyter-widgets/controls",
            "layout": "IPY_MODEL_3fbe4b40a78a40f5bbb2ccb22b5ba065"
          }
        },
        "dc9ca6880add4f4c9cd511683121410b": {
          "model_module": "@jupyter-widgets/controls",
          "model_name": "HTMLModel",
          "state": {
            "_view_name": "HTMLView",
            "style": "IPY_MODEL_dba83de346bd4303ba9bb8b5b93ead95",
            "_dom_classes": [],
            "description": "",
            "_model_name": "HTMLModel",
            "placeholder": "​",
            "_view_module": "@jupyter-widgets/controls",
            "_model_module_version": "1.5.0",
            "value": " 32768/? [00:00&lt;00:00, 64143.36it/s]",
            "_view_count": null,
            "_view_module_version": "1.5.0",
            "description_tooltip": null,
            "_model_module": "@jupyter-widgets/controls",
            "layout": "IPY_MODEL_c1da29d0fdd84b1c8d089eeb67cc1c30"
          }
        },
        "2f45577d95e942ffa54b98de1d67a19a": {
          "model_module": "@jupyter-widgets/controls",
          "model_name": "ProgressStyleModel",
          "state": {
            "_view_name": "StyleView",
            "_model_name": "ProgressStyleModel",
            "description_width": "initial",
            "_view_module": "@jupyter-widgets/base",
            "_model_module_version": "1.5.0",
            "_view_count": null,
            "_view_module_version": "1.2.0",
            "bar_color": null,
            "_model_module": "@jupyter-widgets/controls"
          }
        },
        "3fbe4b40a78a40f5bbb2ccb22b5ba065": {
          "model_module": "@jupyter-widgets/base",
          "model_name": "LayoutModel",
          "state": {
            "_view_name": "LayoutView",
            "grid_template_rows": null,
            "right": null,
            "justify_content": null,
            "_view_module": "@jupyter-widgets/base",
            "overflow": null,
            "_model_module_version": "1.2.0",
            "_view_count": null,
            "flex_flow": null,
            "width": null,
            "min_width": null,
            "border": null,
            "align_items": null,
            "bottom": null,
            "_model_module": "@jupyter-widgets/base",
            "top": null,
            "grid_column": null,
            "overflow_y": null,
            "overflow_x": null,
            "grid_auto_flow": null,
            "grid_area": null,
            "grid_template_columns": null,
            "flex": null,
            "_model_name": "LayoutModel",
            "justify_items": null,
            "grid_row": null,
            "max_height": null,
            "align_content": null,
            "visibility": null,
            "align_self": null,
            "height": null,
            "min_height": null,
            "padding": null,
            "grid_auto_rows": null,
            "grid_gap": null,
            "max_width": null,
            "order": null,
            "_view_module_version": "1.2.0",
            "grid_template_areas": null,
            "object_position": null,
            "object_fit": null,
            "grid_auto_columns": null,
            "margin": null,
            "display": null,
            "left": null
          }
        },
        "dba83de346bd4303ba9bb8b5b93ead95": {
          "model_module": "@jupyter-widgets/controls",
          "model_name": "DescriptionStyleModel",
          "state": {
            "_view_name": "StyleView",
            "_model_name": "DescriptionStyleModel",
            "description_width": "",
            "_view_module": "@jupyter-widgets/base",
            "_model_module_version": "1.5.0",
            "_view_count": null,
            "_view_module_version": "1.2.0",
            "_model_module": "@jupyter-widgets/controls"
          }
        },
        "c1da29d0fdd84b1c8d089eeb67cc1c30": {
          "model_module": "@jupyter-widgets/base",
          "model_name": "LayoutModel",
          "state": {
            "_view_name": "LayoutView",
            "grid_template_rows": null,
            "right": null,
            "justify_content": null,
            "_view_module": "@jupyter-widgets/base",
            "overflow": null,
            "_model_module_version": "1.2.0",
            "_view_count": null,
            "flex_flow": null,
            "width": null,
            "min_width": null,
            "border": null,
            "align_items": null,
            "bottom": null,
            "_model_module": "@jupyter-widgets/base",
            "top": null,
            "grid_column": null,
            "overflow_y": null,
            "overflow_x": null,
            "grid_auto_flow": null,
            "grid_area": null,
            "grid_template_columns": null,
            "flex": null,
            "_model_name": "LayoutModel",
            "justify_items": null,
            "grid_row": null,
            "max_height": null,
            "align_content": null,
            "visibility": null,
            "align_self": null,
            "height": null,
            "min_height": null,
            "padding": null,
            "grid_auto_rows": null,
            "grid_gap": null,
            "max_width": null,
            "order": null,
            "_view_module_version": "1.2.0",
            "grid_template_areas": null,
            "object_position": null,
            "object_fit": null,
            "grid_auto_columns": null,
            "margin": null,
            "display": null,
            "left": null
          }
        },
        "a62daf5e83a94091a33afb825e6e7859": {
          "model_module": "@jupyter-widgets/controls",
          "model_name": "HBoxModel",
          "state": {
            "_view_name": "HBoxView",
            "_dom_classes": [],
            "_model_name": "HBoxModel",
            "_view_module": "@jupyter-widgets/controls",
            "_model_module_version": "1.5.0",
            "_view_count": null,
            "_view_module_version": "1.5.0",
            "box_style": "",
            "layout": "IPY_MODEL_f2ae2a52f888437297f8e4cc67c7194d",
            "_model_module": "@jupyter-widgets/controls",
            "children": [
              "IPY_MODEL_23459e6b62a6489c908f1ed11ce38c24",
              "IPY_MODEL_c477cc9296534c0f8436b9548e5607ca"
            ]
          }
        },
        "f2ae2a52f888437297f8e4cc67c7194d": {
          "model_module": "@jupyter-widgets/base",
          "model_name": "LayoutModel",
          "state": {
            "_view_name": "LayoutView",
            "grid_template_rows": null,
            "right": null,
            "justify_content": null,
            "_view_module": "@jupyter-widgets/base",
            "overflow": null,
            "_model_module_version": "1.2.0",
            "_view_count": null,
            "flex_flow": null,
            "width": null,
            "min_width": null,
            "border": null,
            "align_items": null,
            "bottom": null,
            "_model_module": "@jupyter-widgets/base",
            "top": null,
            "grid_column": null,
            "overflow_y": null,
            "overflow_x": null,
            "grid_auto_flow": null,
            "grid_area": null,
            "grid_template_columns": null,
            "flex": null,
            "_model_name": "LayoutModel",
            "justify_items": null,
            "grid_row": null,
            "max_height": null,
            "align_content": null,
            "visibility": null,
            "align_self": null,
            "height": null,
            "min_height": null,
            "padding": null,
            "grid_auto_rows": null,
            "grid_gap": null,
            "max_width": null,
            "order": null,
            "_view_module_version": "1.2.0",
            "grid_template_areas": null,
            "object_position": null,
            "object_fit": null,
            "grid_auto_columns": null,
            "margin": null,
            "display": null,
            "left": null
          }
        },
        "23459e6b62a6489c908f1ed11ce38c24": {
          "model_module": "@jupyter-widgets/controls",
          "model_name": "FloatProgressModel",
          "state": {
            "_view_name": "ProgressView",
            "style": "IPY_MODEL_c0018627ae724236a97c93caff5c6a3f",
            "_dom_classes": [],
            "description": "",
            "_model_name": "FloatProgressModel",
            "bar_style": "success",
            "max": 1,
            "_view_module": "@jupyter-widgets/controls",
            "_model_module_version": "1.5.0",
            "value": 1,
            "_view_count": null,
            "_view_module_version": "1.5.0",
            "orientation": "horizontal",
            "min": 0,
            "description_tooltip": null,
            "_model_module": "@jupyter-widgets/controls",
            "layout": "IPY_MODEL_a02e43ebd0fc4bb6b06c6724faf67aa4"
          }
        },
        "c477cc9296534c0f8436b9548e5607ca": {
          "model_module": "@jupyter-widgets/controls",
          "model_name": "HTMLModel",
          "state": {
            "_view_name": "HTMLView",
            "style": "IPY_MODEL_f5df395fc1ee4bdbba5157dbf740c4f0",
            "_dom_classes": [],
            "description": "",
            "_model_name": "HTMLModel",
            "placeholder": "​",
            "_view_module": "@jupyter-widgets/controls",
            "_model_module_version": "1.5.0",
            "value": " 1654784/? [00:00&lt;00:00, 3955309.95it/s]",
            "_view_count": null,
            "_view_module_version": "1.5.0",
            "description_tooltip": null,
            "_model_module": "@jupyter-widgets/controls",
            "layout": "IPY_MODEL_a432ed44daa94266a8a5ff6ee58b5f97"
          }
        },
        "c0018627ae724236a97c93caff5c6a3f": {
          "model_module": "@jupyter-widgets/controls",
          "model_name": "ProgressStyleModel",
          "state": {
            "_view_name": "StyleView",
            "_model_name": "ProgressStyleModel",
            "description_width": "initial",
            "_view_module": "@jupyter-widgets/base",
            "_model_module_version": "1.5.0",
            "_view_count": null,
            "_view_module_version": "1.2.0",
            "bar_color": null,
            "_model_module": "@jupyter-widgets/controls"
          }
        },
        "a02e43ebd0fc4bb6b06c6724faf67aa4": {
          "model_module": "@jupyter-widgets/base",
          "model_name": "LayoutModel",
          "state": {
            "_view_name": "LayoutView",
            "grid_template_rows": null,
            "right": null,
            "justify_content": null,
            "_view_module": "@jupyter-widgets/base",
            "overflow": null,
            "_model_module_version": "1.2.0",
            "_view_count": null,
            "flex_flow": null,
            "width": null,
            "min_width": null,
            "border": null,
            "align_items": null,
            "bottom": null,
            "_model_module": "@jupyter-widgets/base",
            "top": null,
            "grid_column": null,
            "overflow_y": null,
            "overflow_x": null,
            "grid_auto_flow": null,
            "grid_area": null,
            "grid_template_columns": null,
            "flex": null,
            "_model_name": "LayoutModel",
            "justify_items": null,
            "grid_row": null,
            "max_height": null,
            "align_content": null,
            "visibility": null,
            "align_self": null,
            "height": null,
            "min_height": null,
            "padding": null,
            "grid_auto_rows": null,
            "grid_gap": null,
            "max_width": null,
            "order": null,
            "_view_module_version": "1.2.0",
            "grid_template_areas": null,
            "object_position": null,
            "object_fit": null,
            "grid_auto_columns": null,
            "margin": null,
            "display": null,
            "left": null
          }
        },
        "f5df395fc1ee4bdbba5157dbf740c4f0": {
          "model_module": "@jupyter-widgets/controls",
          "model_name": "DescriptionStyleModel",
          "state": {
            "_view_name": "StyleView",
            "_model_name": "DescriptionStyleModel",
            "description_width": "",
            "_view_module": "@jupyter-widgets/base",
            "_model_module_version": "1.5.0",
            "_view_count": null,
            "_view_module_version": "1.2.0",
            "_model_module": "@jupyter-widgets/controls"
          }
        },
        "a432ed44daa94266a8a5ff6ee58b5f97": {
          "model_module": "@jupyter-widgets/base",
          "model_name": "LayoutModel",
          "state": {
            "_view_name": "LayoutView",
            "grid_template_rows": null,
            "right": null,
            "justify_content": null,
            "_view_module": "@jupyter-widgets/base",
            "overflow": null,
            "_model_module_version": "1.2.0",
            "_view_count": null,
            "flex_flow": null,
            "width": null,
            "min_width": null,
            "border": null,
            "align_items": null,
            "bottom": null,
            "_model_module": "@jupyter-widgets/base",
            "top": null,
            "grid_column": null,
            "overflow_y": null,
            "overflow_x": null,
            "grid_auto_flow": null,
            "grid_area": null,
            "grid_template_columns": null,
            "flex": null,
            "_model_name": "LayoutModel",
            "justify_items": null,
            "grid_row": null,
            "max_height": null,
            "align_content": null,
            "visibility": null,
            "align_self": null,
            "height": null,
            "min_height": null,
            "padding": null,
            "grid_auto_rows": null,
            "grid_gap": null,
            "max_width": null,
            "order": null,
            "_view_module_version": "1.2.0",
            "grid_template_areas": null,
            "object_position": null,
            "object_fit": null,
            "grid_auto_columns": null,
            "margin": null,
            "display": null,
            "left": null
          }
        },
        "f4445c94eac946e8ae5260a0d7e76e30": {
          "model_module": "@jupyter-widgets/controls",
          "model_name": "HBoxModel",
          "state": {
            "_view_name": "HBoxView",
            "_dom_classes": [],
            "_model_name": "HBoxModel",
            "_view_module": "@jupyter-widgets/controls",
            "_model_module_version": "1.5.0",
            "_view_count": null,
            "_view_module_version": "1.5.0",
            "box_style": "",
            "layout": "IPY_MODEL_edc170199ab74c72aa14885eb653f3bb",
            "_model_module": "@jupyter-widgets/controls",
            "children": [
              "IPY_MODEL_8068707b7dff476a94d20323a3f0a9b4",
              "IPY_MODEL_07b694f0a5a0436fb82d722bbd1e15f8"
            ]
          }
        },
        "edc170199ab74c72aa14885eb653f3bb": {
          "model_module": "@jupyter-widgets/base",
          "model_name": "LayoutModel",
          "state": {
            "_view_name": "LayoutView",
            "grid_template_rows": null,
            "right": null,
            "justify_content": null,
            "_view_module": "@jupyter-widgets/base",
            "overflow": null,
            "_model_module_version": "1.2.0",
            "_view_count": null,
            "flex_flow": null,
            "width": null,
            "min_width": null,
            "border": null,
            "align_items": null,
            "bottom": null,
            "_model_module": "@jupyter-widgets/base",
            "top": null,
            "grid_column": null,
            "overflow_y": null,
            "overflow_x": null,
            "grid_auto_flow": null,
            "grid_area": null,
            "grid_template_columns": null,
            "flex": null,
            "_model_name": "LayoutModel",
            "justify_items": null,
            "grid_row": null,
            "max_height": null,
            "align_content": null,
            "visibility": null,
            "align_self": null,
            "height": null,
            "min_height": null,
            "padding": null,
            "grid_auto_rows": null,
            "grid_gap": null,
            "max_width": null,
            "order": null,
            "_view_module_version": "1.2.0",
            "grid_template_areas": null,
            "object_position": null,
            "object_fit": null,
            "grid_auto_columns": null,
            "margin": null,
            "display": null,
            "left": null
          }
        },
        "8068707b7dff476a94d20323a3f0a9b4": {
          "model_module": "@jupyter-widgets/controls",
          "model_name": "FloatProgressModel",
          "state": {
            "_view_name": "ProgressView",
            "style": "IPY_MODEL_a3f1c8b695af4048910963eac1f107cc",
            "_dom_classes": [],
            "description": "",
            "_model_name": "FloatProgressModel",
            "bar_style": "success",
            "max": 1,
            "_view_module": "@jupyter-widgets/controls",
            "_model_module_version": "1.5.0",
            "value": 1,
            "_view_count": null,
            "_view_module_version": "1.5.0",
            "orientation": "horizontal",
            "min": 0,
            "description_tooltip": null,
            "_model_module": "@jupyter-widgets/controls",
            "layout": "IPY_MODEL_72e9f33bc73945399a839ff5094ce8b4"
          }
        },
        "07b694f0a5a0436fb82d722bbd1e15f8": {
          "model_module": "@jupyter-widgets/controls",
          "model_name": "HTMLModel",
          "state": {
            "_view_name": "HTMLView",
            "style": "IPY_MODEL_37ef921d424e44e5b45b84cc8eddebd2",
            "_dom_classes": [],
            "description": "",
            "_model_name": "HTMLModel",
            "placeholder": "​",
            "_view_module": "@jupyter-widgets/controls",
            "_model_module_version": "1.5.0",
            "value": " 8192/? [00:00&lt;00:00, 46526.77it/s]",
            "_view_count": null,
            "_view_module_version": "1.5.0",
            "description_tooltip": null,
            "_model_module": "@jupyter-widgets/controls",
            "layout": "IPY_MODEL_cd81d3cf512644a497a96065787a2740"
          }
        },
        "a3f1c8b695af4048910963eac1f107cc": {
          "model_module": "@jupyter-widgets/controls",
          "model_name": "ProgressStyleModel",
          "state": {
            "_view_name": "StyleView",
            "_model_name": "ProgressStyleModel",
            "description_width": "initial",
            "_view_module": "@jupyter-widgets/base",
            "_model_module_version": "1.5.0",
            "_view_count": null,
            "_view_module_version": "1.2.0",
            "bar_color": null,
            "_model_module": "@jupyter-widgets/controls"
          }
        },
        "72e9f33bc73945399a839ff5094ce8b4": {
          "model_module": "@jupyter-widgets/base",
          "model_name": "LayoutModel",
          "state": {
            "_view_name": "LayoutView",
            "grid_template_rows": null,
            "right": null,
            "justify_content": null,
            "_view_module": "@jupyter-widgets/base",
            "overflow": null,
            "_model_module_version": "1.2.0",
            "_view_count": null,
            "flex_flow": null,
            "width": null,
            "min_width": null,
            "border": null,
            "align_items": null,
            "bottom": null,
            "_model_module": "@jupyter-widgets/base",
            "top": null,
            "grid_column": null,
            "overflow_y": null,
            "overflow_x": null,
            "grid_auto_flow": null,
            "grid_area": null,
            "grid_template_columns": null,
            "flex": null,
            "_model_name": "LayoutModel",
            "justify_items": null,
            "grid_row": null,
            "max_height": null,
            "align_content": null,
            "visibility": null,
            "align_self": null,
            "height": null,
            "min_height": null,
            "padding": null,
            "grid_auto_rows": null,
            "grid_gap": null,
            "max_width": null,
            "order": null,
            "_view_module_version": "1.2.0",
            "grid_template_areas": null,
            "object_position": null,
            "object_fit": null,
            "grid_auto_columns": null,
            "margin": null,
            "display": null,
            "left": null
          }
        },
        "37ef921d424e44e5b45b84cc8eddebd2": {
          "model_module": "@jupyter-widgets/controls",
          "model_name": "DescriptionStyleModel",
          "state": {
            "_view_name": "StyleView",
            "_model_name": "DescriptionStyleModel",
            "description_width": "",
            "_view_module": "@jupyter-widgets/base",
            "_model_module_version": "1.5.0",
            "_view_count": null,
            "_view_module_version": "1.2.0",
            "_model_module": "@jupyter-widgets/controls"
          }
        },
        "cd81d3cf512644a497a96065787a2740": {
          "model_module": "@jupyter-widgets/base",
          "model_name": "LayoutModel",
          "state": {
            "_view_name": "LayoutView",
            "grid_template_rows": null,
            "right": null,
            "justify_content": null,
            "_view_module": "@jupyter-widgets/base",
            "overflow": null,
            "_model_module_version": "1.2.0",
            "_view_count": null,
            "flex_flow": null,
            "width": null,
            "min_width": null,
            "border": null,
            "align_items": null,
            "bottom": null,
            "_model_module": "@jupyter-widgets/base",
            "top": null,
            "grid_column": null,
            "overflow_y": null,
            "overflow_x": null,
            "grid_auto_flow": null,
            "grid_area": null,
            "grid_template_columns": null,
            "flex": null,
            "_model_name": "LayoutModel",
            "justify_items": null,
            "grid_row": null,
            "max_height": null,
            "align_content": null,
            "visibility": null,
            "align_self": null,
            "height": null,
            "min_height": null,
            "padding": null,
            "grid_auto_rows": null,
            "grid_gap": null,
            "max_width": null,
            "order": null,
            "_view_module_version": "1.2.0",
            "grid_template_areas": null,
            "object_position": null,
            "object_fit": null,
            "grid_auto_columns": null,
            "margin": null,
            "display": null,
            "left": null
          }
        }
      }
    }
  },
  "cells": [
    {
      "cell_type": "markdown",
      "metadata": {
        "id": "SbIiSaj9rofy",
        "colab_type": "text"
      },
      "source": [
        "Deep Learning Models -- A collection of various deep learning architectures, models, and tips for TensorFlow and PyTorch in Jupyter Notebooks.\n",
        "- Author: Sebastian Raschka\n",
        "- GitHub Repository: https://github.com/rasbt/deeplearning-models"
      ]
    },
    {
      "cell_type": "code",
      "metadata": {
        "id": "ABeK6Fhpr2Vo",
        "colab_type": "code",
        "colab": {}
      },
      "source": [
        "!pip install -q IPython\n",
        "!pip install -q ipykernel\n",
        "!pip install -q watermark\n",
        "!pip install -q matplotlib\n",
        "!pip install -q sklearn\n",
        "!pip install -q pandas\n",
        "!pip install -q pydot\n",
        "!pip install -q hiddenlayer\n",
        "!pip install -q graphviz"
      ],
      "execution_count": 1,
      "outputs": []
    },
    {
      "cell_type": "code",
      "metadata": {
        "id": "SxRfakeWrofz",
        "colab_type": "code",
        "colab": {
          "base_uri": "https://localhost:8080/",
          "height": 121
        },
        "outputId": "af296c6d-f884-4366-c312-31ce5ba76b33"
      },
      "source": [
        "%load_ext watermark\n",
        "%watermark -a 'Sebastian Raschka' -v -p torch"
      ],
      "execution_count": 2,
      "outputs": [
        {
          "output_type": "stream",
          "text": [
            "Sebastian Raschka \n",
            "\n",
            "CPython 3.6.9\n",
            "IPython 5.5.0\n",
            "\n",
            "torch 1.5.1+cu101\n"
          ],
          "name": "stdout"
        }
      ]
    },
    {
      "cell_type": "markdown",
      "metadata": {
        "id": "WPtjWr7hrof4",
        "colab_type": "text"
      },
      "source": [
        "- Runs on CPU or GPU (if available)"
      ]
    },
    {
      "cell_type": "markdown",
      "metadata": {
        "id": "IYUYd54Grof5",
        "colab_type": "text"
      },
      "source": [
        "# Model Zoo -- Variational Autoencoder"
      ]
    },
    {
      "cell_type": "markdown",
      "metadata": {
        "id": "AU8ey_NNrof6",
        "colab_type": "text"
      },
      "source": [
        "A simple variational autoencoder that compresses 768-pixel MNIST images down to a 15-pixel latent vector representation."
      ]
    },
    {
      "cell_type": "markdown",
      "metadata": {
        "id": "h-nN32tVrof6",
        "colab_type": "text"
      },
      "source": [
        "## Imports"
      ]
    },
    {
      "cell_type": "code",
      "metadata": {
        "id": "JmrZMQqBrof7",
        "colab_type": "code",
        "colab": {}
      },
      "source": [
        "import time\n",
        "import numpy as np\n",
        "import torch\n",
        "import torch.nn.functional as F\n",
        "from torch.utils.data import DataLoader\n",
        "from torchvision import datasets\n",
        "from torchvision import transforms\n",
        "\n",
        "\n",
        "if torch.cuda.is_available():\n",
        "    torch.backends.cudnn.deterministic = True"
      ],
      "execution_count": 3,
      "outputs": []
    },
    {
      "cell_type": "code",
      "metadata": {
        "id": "E0qdTJyprof_",
        "colab_type": "code",
        "colab": {
          "base_uri": "https://localhost:8080/",
          "height": 458,
          "referenced_widgets": [
            "987908edb3b042119cd1bf7c0387178a",
            "75a3d90c6869473c885349979837ef66",
            "bcb770ab06ce4d52a387c90f66ce7782",
            "c65a4ecdf49347e08b6513772a3d5f85",
            "2677288080064c1d80bc29067925b2c0",
            "108990a822374fffac0bf02985274618",
            "477aa91e88a7407e845d19f5a42fdc7e",
            "cee1836dfb704e0bb6479cccc1bb171a",
            "765ab4ea38174c488a32846d2b536ee3",
            "323e2189e3f24eb49ecdf47633edd875",
            "c9034b3daf0d49a7a30bdff976fdac5e",
            "dc9ca6880add4f4c9cd511683121410b",
            "2f45577d95e942ffa54b98de1d67a19a",
            "3fbe4b40a78a40f5bbb2ccb22b5ba065",
            "dba83de346bd4303ba9bb8b5b93ead95",
            "c1da29d0fdd84b1c8d089eeb67cc1c30",
            "a62daf5e83a94091a33afb825e6e7859",
            "f2ae2a52f888437297f8e4cc67c7194d",
            "23459e6b62a6489c908f1ed11ce38c24",
            "c477cc9296534c0f8436b9548e5607ca",
            "c0018627ae724236a97c93caff5c6a3f",
            "a02e43ebd0fc4bb6b06c6724faf67aa4",
            "f5df395fc1ee4bdbba5157dbf740c4f0",
            "a432ed44daa94266a8a5ff6ee58b5f97",
            "f4445c94eac946e8ae5260a0d7e76e30",
            "edc170199ab74c72aa14885eb653f3bb",
            "8068707b7dff476a94d20323a3f0a9b4",
            "07b694f0a5a0436fb82d722bbd1e15f8",
            "a3f1c8b695af4048910963eac1f107cc",
            "72e9f33bc73945399a839ff5094ce8b4",
            "37ef921d424e44e5b45b84cc8eddebd2",
            "cd81d3cf512644a497a96065787a2740"
          ]
        },
        "outputId": "58928c0c-5a14-4ee4-9bdb-818a6fa8a98e"
      },
      "source": [
        "##########################\n",
        "### SETTINGS\n",
        "##########################\n",
        "\n",
        "# Device\n",
        "device = torch.device(\"cuda\" if torch.cuda.is_available() else \"cpu\")\n",
        "print('Device:', device)\n",
        "\n",
        "# Hyperparameters\n",
        "random_seed = 0\n",
        "learning_rate = 0.001\n",
        "num_epochs = 50\n",
        "batch_size = 128\n",
        "\n",
        "# Architecture\n",
        "num_features = 784\n",
        "num_hidden_1 = 500\n",
        "num_latent = 15\n",
        "\n",
        "\n",
        "##########################\n",
        "### MNIST DATASET\n",
        "##########################\n",
        "\n",
        "# Note transforms.ToTensor() scales input images\n",
        "# to 0-1 range\n",
        "train_dataset = datasets.MNIST(root='data', \n",
        "                               train=True, \n",
        "                               transform=transforms.ToTensor(),\n",
        "                               download=True)\n",
        "\n",
        "test_dataset = datasets.MNIST(root='data', \n",
        "                              train=False, \n",
        "                              transform=transforms.ToTensor())\n",
        "\n",
        "\n",
        "train_loader = DataLoader(dataset=train_dataset, \n",
        "                          batch_size=batch_size, \n",
        "                          shuffle=True)\n",
        "\n",
        "test_loader = DataLoader(dataset=test_dataset, \n",
        "                         batch_size=batch_size, \n",
        "                         shuffle=False)\n",
        "\n",
        "# Checking the dataset\n",
        "for images, labels in train_loader:  \n",
        "    print('Image batch dimensions:', images.shape)\n",
        "    print('Image label dimensions:', labels.shape)\n",
        "    break"
      ],
      "execution_count": 4,
      "outputs": [
        {
          "output_type": "stream",
          "text": [
            "Device: cuda\n",
            "Downloading http://yann.lecun.com/exdb/mnist/train-images-idx3-ubyte.gz to data/MNIST/raw/train-images-idx3-ubyte.gz\n"
          ],
          "name": "stdout"
        },
        {
          "output_type": "display_data",
          "data": {
            "application/vnd.jupyter.widget-view+json": {
              "model_id": "987908edb3b042119cd1bf7c0387178a",
              "version_minor": 0,
              "version_major": 2
            },
            "text/plain": [
              "HBox(children=(FloatProgress(value=1.0, bar_style='info', max=1.0), HTML(value='')))"
            ]
          },
          "metadata": {
            "tags": []
          }
        },
        {
          "output_type": "stream",
          "text": [
            "Extracting data/MNIST/raw/train-images-idx3-ubyte.gz to data/MNIST/raw\n",
            "Downloading http://yann.lecun.com/exdb/mnist/train-labels-idx1-ubyte.gz to data/MNIST/raw/train-labels-idx1-ubyte.gz\n"
          ],
          "name": "stdout"
        },
        {
          "output_type": "display_data",
          "data": {
            "application/vnd.jupyter.widget-view+json": {
              "model_id": "765ab4ea38174c488a32846d2b536ee3",
              "version_minor": 0,
              "version_major": 2
            },
            "text/plain": [
              "HBox(children=(FloatProgress(value=1.0, bar_style='info', max=1.0), HTML(value='')))"
            ]
          },
          "metadata": {
            "tags": []
          }
        },
        {
          "output_type": "stream",
          "text": [
            "Extracting data/MNIST/raw/train-labels-idx1-ubyte.gz to data/MNIST/raw\n",
            "Downloading http://yann.lecun.com/exdb/mnist/t10k-images-idx3-ubyte.gz to data/MNIST/raw/t10k-images-idx3-ubyte.gz\n"
          ],
          "name": "stdout"
        },
        {
          "output_type": "display_data",
          "data": {
            "application/vnd.jupyter.widget-view+json": {
              "model_id": "a62daf5e83a94091a33afb825e6e7859",
              "version_minor": 0,
              "version_major": 2
            },
            "text/plain": [
              "HBox(children=(FloatProgress(value=1.0, bar_style='info', max=1.0), HTML(value='')))"
            ]
          },
          "metadata": {
            "tags": []
          }
        },
        {
          "output_type": "stream",
          "text": [
            "Extracting data/MNIST/raw/t10k-images-idx3-ubyte.gz to data/MNIST/raw\n",
            "Downloading http://yann.lecun.com/exdb/mnist/t10k-labels-idx1-ubyte.gz to data/MNIST/raw/t10k-labels-idx1-ubyte.gz\n"
          ],
          "name": "stdout"
        },
        {
          "output_type": "display_data",
          "data": {
            "application/vnd.jupyter.widget-view+json": {
              "model_id": "f4445c94eac946e8ae5260a0d7e76e30",
              "version_minor": 0,
              "version_major": 2
            },
            "text/plain": [
              "HBox(children=(FloatProgress(value=1.0, bar_style='info', max=1.0), HTML(value='')))"
            ]
          },
          "metadata": {
            "tags": []
          }
        },
        {
          "output_type": "stream",
          "text": [
            "Extracting data/MNIST/raw/t10k-labels-idx1-ubyte.gz to data/MNIST/raw\n",
            "Processing...\n",
            "Done!\n",
            "\n",
            "\n",
            "\n",
            "Image batch dimensions: torch.Size([128, 1, 28, 28])\n",
            "Image label dimensions: torch.Size([128])\n"
          ],
          "name": "stdout"
        },
        {
          "output_type": "stream",
          "text": [
            "/pytorch/torch/csrc/utils/tensor_numpy.cpp:141: UserWarning: The given NumPy array is not writeable, and PyTorch does not support non-writeable tensors. This means you can write to the underlying (supposedly non-writeable) NumPy array using the tensor. You may want to copy the array to protect its data or make it writeable before converting it to a tensor. This type of warning will be suppressed for the rest of this program.\n"
          ],
          "name": "stderr"
        }
      ]
    },
    {
      "cell_type": "markdown",
      "metadata": {
        "id": "eIXXs51ZrogC",
        "colab_type": "text"
      },
      "source": [
        "## Model"
      ]
    },
    {
      "cell_type": "code",
      "metadata": {
        "id": "1dPvN5PvrogC",
        "colab_type": "code",
        "colab": {}
      },
      "source": [
        "##########################\n",
        "### MODEL\n",
        "##########################\n",
        "\n",
        "class VariationalAutoencoder(torch.nn.Module):\n",
        "\n",
        "    def __init__(self, num_features, num_hidden_1, num_latent):\n",
        "        super(VariationalAutoencoder, self).__init__()\n",
        "        \n",
        "        ### ENCODER\n",
        "        self.hidden_1 = torch.nn.Linear(num_features, num_hidden_1)\n",
        "        self.z_mean = torch.nn.Linear(num_hidden_1, num_latent)\n",
        "        # in the original paper (Kingma & Welling 2015, we use\n",
        "        # have a z_mean and z_var, but the problem is that\n",
        "        # the z_var can be negative, which would cause issues\n",
        "        # in the log later. Hence we assume that latent vector\n",
        "        # has a z_mean and z_log_var component, and when we need\n",
        "        # the regular variance or std_dev, we simply use \n",
        "        # an exponential function\n",
        "        self.z_log_var = torch.nn.Linear(num_hidden_1, num_latent)\n",
        "        \n",
        "        \n",
        "        ### DECODER\n",
        "        self.linear_3 = torch.nn.Linear(num_latent, num_hidden_1)\n",
        "        self.linear_4 = torch.nn.Linear(num_hidden_1, num_features)\n",
        "\n",
        "    def reparameterize(self, z_mu, z_log_var):\n",
        "        # Sample epsilon from standard normal distribution\n",
        "        eps = torch.randn(z_mu.size(0), z_mu.size(1)).to(device)\n",
        "        # note that log(x^2) = 2*log(x); hence divide by 2 to get std_dev\n",
        "        # i.e., std_dev = exp(log(std_dev^2)/2) = exp(log(var)/2)\n",
        "        z = z_mu + eps * torch.exp(z_log_var/2.) \n",
        "        return z\n",
        "        \n",
        "    def encoder(self, features):\n",
        "        x = self.hidden_1(features)\n",
        "        x = F.leaky_relu(x, negative_slope=0.0001)\n",
        "        z_mean = self.z_mean(x)\n",
        "        z_log_var = self.z_log_var(x)\n",
        "        encoded = self.reparameterize(z_mean, z_log_var)\n",
        "        return z_mean, z_log_var, encoded\n",
        "    \n",
        "    def decoder(self, encoded):\n",
        "        x = self.linear_3(encoded)\n",
        "        x = F.leaky_relu(x, negative_slope=0.0001)\n",
        "        x = self.linear_4(x)\n",
        "        decoded = torch.sigmoid(x)\n",
        "        return decoded\n",
        "\n",
        "    def forward(self, features):\n",
        "        \n",
        "        z_mean, z_log_var, encoded = self.encoder(features)\n",
        "        decoded = self.decoder(encoded)\n",
        "        \n",
        "        return z_mean, z_log_var, encoded, decoded\n",
        "\n",
        "    \n",
        "torch.manual_seed(random_seed)\n",
        "model = VariationalAutoencoder(num_features,\n",
        "                               num_hidden_1,\n",
        "                               num_latent)\n",
        "model = model.to(device)\n",
        "    \n",
        "optimizer = torch.optim.Adam(model.parameters(), lr=learning_rate)  "
      ],
      "execution_count": 5,
      "outputs": []
    },
    {
      "cell_type": "code",
      "metadata": {
        "id": "_u7DPhSwr5mi",
        "colab_type": "code",
        "colab": {
          "base_uri": "https://localhost:8080/",
          "height": 525
        },
        "outputId": "3ab45a55-cafa-4d68-bef9-4547a632bf26"
      },
      "source": [
        "import hiddenlayer as hl\n",
        "hl.build_graph(model, torch.zeros([64, 28*28]).to(device))"
      ],
      "execution_count": 7,
      "outputs": [
        {
          "output_type": "execute_result",
          "data": {
            "text/plain": [
              "<hiddenlayer.graph.Graph at 0x7f1e4299e1d0>"
            ],
            "image/svg+xml": "<?xml version=\"1.0\" encoding=\"UTF-8\" standalone=\"no\"?>\n<!DOCTYPE svg PUBLIC \"-//W3C//DTD SVG 1.1//EN\"\n \"http://www.w3.org/Graphics/SVG/1.1/DTD/svg11.dtd\">\n<!-- Generated by graphviz version 2.40.1 (20161225.0304)\n -->\n<!-- Title: %3 Pages: 1 -->\n<svg width=\"2056pt\" height=\"363pt\"\n viewBox=\"0.00 0.00 2056.00 363.00\" xmlns=\"http://www.w3.org/2000/svg\" xmlns:xlink=\"http://www.w3.org/1999/xlink\">\n<g id=\"graph0\" class=\"graph\" transform=\"scale(1 1) rotate(0) translate(72 327)\">\n<title>%3</title>\n<polygon fill=\"#ffffff\" stroke=\"transparent\" points=\"-72,36 -72,-327 1984,-327 1984,36 -72,36\"/>\n<!-- /outputs/11 -->\n<g id=\"node1\" class=\"node\">\n<title>/outputs/11</title>\n<polygon fill=\"#e8e8e8\" stroke=\"#000000\" points=\"54,-168 0,-168 0,-132 54,-132 54,-168\"/>\n<text text-anchor=\"start\" x=\"14\" y=\"-147\" font-family=\"Times\" font-size=\"10.00\" fill=\"#000000\">Linear</text>\n</g>\n<!-- /outputs/12 -->\n<g id=\"node2\" class=\"node\">\n<title>/outputs/12</title>\n<polygon fill=\"#e8e8e8\" stroke=\"#000000\" points=\"184,-168 122,-168 122,-132 184,-132 184,-168\"/>\n<text text-anchor=\"start\" x=\"130\" y=\"-147\" font-family=\"Times\" font-size=\"10.00\" fill=\"#000000\">LeakyRelu</text>\n</g>\n<!-- /outputs/11&#45;&gt;/outputs/12 -->\n<g id=\"edge1\" class=\"edge\">\n<title>/outputs/11&#45;&gt;/outputs/12</title>\n<path fill=\"none\" stroke=\"#000000\" d=\"M54.0302,-150C70.7474,-150 92.5464,-150 111.4294,-150\"/>\n<polygon fill=\"#000000\" stroke=\"#000000\" points=\"111.5692,-153.5001 121.5692,-150 111.5692,-146.5001 111.5692,-153.5001\"/>\n<text text-anchor=\"middle\" x=\"88\" y=\"-153\" font-family=\"Times\" font-size=\"10.00\" fill=\"#000000\">64x500</text>\n</g>\n<!-- /outputs/13 -->\n<g id=\"node3\" class=\"node\">\n<title>/outputs/13</title>\n<polygon fill=\"#e8e8e8\" stroke=\"#000000\" points=\"306,-199 252,-199 252,-163 306,-163 306,-199\"/>\n<text text-anchor=\"start\" x=\"266\" y=\"-178\" font-family=\"Times\" font-size=\"10.00\" fill=\"#000000\">Linear</text>\n</g>\n<!-- /outputs/12&#45;&gt;/outputs/13 -->\n<g id=\"edge2\" class=\"edge\">\n<title>/outputs/12&#45;&gt;/outputs/13</title>\n<path fill=\"none\" stroke=\"#000000\" d=\"M184.1461,-157.6629C201.6088,-161.9593 223.5027,-167.3459 241.8549,-171.8611\"/>\n<polygon fill=\"#000000\" stroke=\"#000000\" points=\"241.089,-175.277 251.6356,-174.2675 242.7614,-168.4797 241.089,-175.277\"/>\n<text text-anchor=\"middle\" x=\"218\" y=\"-172\" font-family=\"Times\" font-size=\"10.00\" fill=\"#000000\">64x500</text>\n</g>\n<!-- /outputs/14 -->\n<g id=\"node4\" class=\"node\">\n<title>/outputs/14</title>\n<polygon fill=\"#e8e8e8\" stroke=\"#000000\" points=\"306,-138 252,-138 252,-102 306,-102 306,-138\"/>\n<text text-anchor=\"start\" x=\"266\" y=\"-117\" font-family=\"Times\" font-size=\"10.00\" fill=\"#000000\">Linear</text>\n</g>\n<!-- /outputs/12&#45;&gt;/outputs/14 -->\n<g id=\"edge3\" class=\"edge\">\n<title>/outputs/12&#45;&gt;/outputs/14</title>\n<path fill=\"none\" stroke=\"#000000\" d=\"M184.1461,-142.5843C201.6088,-138.4265 223.5027,-133.2136 241.8549,-128.8441\"/>\n<polygon fill=\"#000000\" stroke=\"#000000\" points=\"242.7182,-132.2364 251.6356,-126.5153 241.0968,-125.4268 242.7182,-132.2364\"/>\n<text text-anchor=\"middle\" x=\"218\" y=\"-141\" font-family=\"Times\" font-size=\"10.00\" fill=\"#000000\">64x500</text>\n</g>\n<!-- /outputs/15 -->\n<g id=\"node5\" class=\"node\">\n<title>/outputs/15</title>\n<polygon fill=\"#e8e8e8\" stroke=\"#000000\" points=\"423,-252 369,-252 369,-216 423,-216 423,-252\"/>\n<text text-anchor=\"start\" x=\"384\" y=\"-231\" font-family=\"Times\" font-size=\"10.00\" fill=\"#000000\">Shape</text>\n</g>\n<!-- /outputs/13&#45;&gt;/outputs/15 -->\n<g id=\"edge4\" class=\"edge\">\n<title>/outputs/13&#45;&gt;/outputs/15</title>\n<path fill=\"none\" stroke=\"#000000\" d=\"M306.1362,-193.2925C321.9706,-200.4653 342.1574,-209.6098 359.3854,-217.4139\"/>\n<polygon fill=\"#000000\" stroke=\"#000000\" points=\"358.0524,-220.6524 368.6056,-221.5906 360.9409,-214.2761 358.0524,-220.6524\"/>\n<text text-anchor=\"middle\" x=\"337.5\" y=\"-215\" font-family=\"Times\" font-size=\"10.00\" fill=\"#000000\">64x15</text>\n</g>\n<!-- /outputs/18 -->\n<g id=\"node8\" class=\"node\">\n<title>/outputs/18</title>\n<polygon fill=\"#e8e8e8\" stroke=\"#000000\" points=\"423,-144 369,-144 369,-108 423,-108 423,-144\"/>\n<text text-anchor=\"start\" x=\"384\" y=\"-123\" font-family=\"Times\" font-size=\"10.00\" fill=\"#000000\">Shape</text>\n</g>\n<!-- /outputs/13&#45;&gt;/outputs/18 -->\n<g id=\"edge5\" class=\"edge\">\n<title>/outputs/13&#45;&gt;/outputs/18</title>\n<path fill=\"none\" stroke=\"#000000\" d=\"M306.1362,-168.2437C321.9706,-160.8002 342.1574,-151.3106 359.3854,-143.212\"/>\n<polygon fill=\"#000000\" stroke=\"#000000\" points=\"361.0447,-146.2995 368.6056,-138.8777 358.0667,-139.9645 361.0447,-146.2995\"/>\n<text text-anchor=\"middle\" x=\"337.5\" y=\"-161\" font-family=\"Times\" font-size=\"10.00\" fill=\"#000000\">64x15</text>\n</g>\n<!-- /outputs/31 -->\n<g id=\"node21\" class=\"node\">\n<title>/outputs/31</title>\n<polygon fill=\"#e8e8e8\" stroke=\"#000000\" points=\"1421,-248 1367,-248 1367,-212 1421,-212 1421,-248\"/>\n<text text-anchor=\"start\" x=\"1385\" y=\"-227\" font-family=\"Times\" font-size=\"10.00\" fill=\"#000000\">Add</text>\n</g>\n<!-- /outputs/13&#45;&gt;/outputs/31 -->\n<g id=\"edge6\" class=\"edge\">\n<title>/outputs/13&#45;&gt;/outputs/31</title>\n<path fill=\"none\" stroke=\"#000000\" d=\"M289.3584,-199.1581C307.1708,-227.7386 346.5083,-280 396,-280 396,-280 396,-280 1277,-280 1306.5103,-280 1337.083,-266.3836 1359.5729,-253.3622\"/>\n<polygon fill=\"#000000\" stroke=\"#000000\" points=\"1361.6267,-256.211 1368.3845,-248.0511 1358.0131,-250.2158 1361.6267,-256.211\"/>\n<text text-anchor=\"middle\" x=\"813.5\" y=\"-283\" font-family=\"Times\" font-size=\"10.00\" fill=\"#000000\">64x15</text>\n</g>\n<!-- /outputs/28 -->\n<g id=\"node18\" class=\"node\">\n<title>/outputs/28</title>\n<polygon fill=\"#e8e8e8\" stroke=\"#000000\" points=\"423,-36 369,-36 369,0 423,0 423,-36\"/>\n<text text-anchor=\"start\" x=\"388\" y=\"-15\" font-family=\"Times\" font-size=\"10.00\" fill=\"#000000\">Div</text>\n</g>\n<!-- /outputs/14&#45;&gt;/outputs/28 -->\n<g id=\"edge7\" class=\"edge\">\n<title>/outputs/14&#45;&gt;/outputs/28</title>\n<path fill=\"none\" stroke=\"#000000\" d=\"M299.6479,-101.9992C318.4953,-85.5682 346.5288,-61.1287 367.505,-42.8418\"/>\n<polygon fill=\"#000000\" stroke=\"#000000\" points=\"369.9272,-45.3735 375.1649,-36.1639 365.3272,-40.0971 369.9272,-45.3735\"/>\n<text text-anchor=\"middle\" x=\"337.5\" y=\"-82\" font-family=\"Times\" font-size=\"10.00\" fill=\"#000000\">64x15</text>\n</g>\n<!-- /outputs/17 -->\n<g id=\"node7\" class=\"node\">\n<title>/outputs/17</title>\n<polygon fill=\"#e8e8e8\" stroke=\"#000000\" points=\"540,-198 486,-198 486,-162 540,-162 540,-198\"/>\n<text text-anchor=\"start\" x=\"499\" y=\"-177\" font-family=\"Times\" font-size=\"10.00\" fill=\"#000000\">Gather</text>\n</g>\n<!-- /outputs/15&#45;&gt;/outputs/17 -->\n<g id=\"edge8\" class=\"edge\">\n<title>/outputs/15&#45;&gt;/outputs/17</title>\n<path fill=\"none\" stroke=\"#000000\" d=\"M423.1362,-221.4756C438.9706,-214.1674 459.1574,-204.8504 476.3854,-196.8991\"/>\n<polygon fill=\"#000000\" stroke=\"#000000\" points=\"477.9928,-200.0121 485.6056,-192.6436 475.0593,-193.6563 477.9928,-200.0121\"/>\n</g>\n<!-- /outputs/16 -->\n<g id=\"node6\" class=\"node\">\n<title>/outputs/16</title>\n<polygon fill=\"#e8e8e8\" stroke=\"#000000\" points=\"423,-198 369,-198 369,-162 423,-162 423,-198\"/>\n<text text-anchor=\"start\" x=\"378\" y=\"-177\" font-family=\"Times\" font-size=\"10.00\" fill=\"#000000\">Constant</text>\n</g>\n<!-- /outputs/16&#45;&gt;/outputs/17 -->\n<g id=\"edge9\" class=\"edge\">\n<title>/outputs/16&#45;&gt;/outputs/17</title>\n<path fill=\"none\" stroke=\"#000000\" d=\"M423.1362,-180C438.6773,-180 458.4112,-180 475.4253,-180\"/>\n<polygon fill=\"#000000\" stroke=\"#000000\" points=\"475.6057,-183.5001 485.6056,-180 475.6056,-176.5001 475.6057,-183.5001\"/>\n</g>\n<!-- /outputs/21 -->\n<g id=\"node11\" class=\"node\">\n<title>/outputs/21</title>\n<polygon fill=\"#e8e8e8\" stroke=\"#000000\" points=\"691,-198 630,-198 630,-162 691,-162 691,-198\"/>\n<text text-anchor=\"start\" x=\"638.5\" y=\"-177\" font-family=\"Times\" font-size=\"10.00\" fill=\"#000000\">Unsqueeze</text>\n</g>\n<!-- /outputs/17&#45;&gt;/outputs/21 -->\n<g id=\"edge10\" class=\"edge\">\n<title>/outputs/17&#45;&gt;/outputs/21</title>\n<path fill=\"none\" stroke=\"#000000\" d=\"M540.0538,-180C562.3483,-180 594.3145,-180 619.7134,-180\"/>\n<polygon fill=\"#000000\" stroke=\"#000000\" points=\"619.7952,-183.5001 629.7951,-180 619.7951,-176.5001 619.7952,-183.5001\"/>\n</g>\n<!-- /outputs/20 -->\n<g id=\"node10\" class=\"node\">\n<title>/outputs/20</title>\n<polygon fill=\"#e8e8e8\" stroke=\"#000000\" points=\"540,-144 486,-144 486,-108 540,-108 540,-144\"/>\n<text text-anchor=\"start\" x=\"499\" y=\"-123\" font-family=\"Times\" font-size=\"10.00\" fill=\"#000000\">Gather</text>\n</g>\n<!-- /outputs/18&#45;&gt;/outputs/20 -->\n<g id=\"edge11\" class=\"edge\">\n<title>/outputs/18&#45;&gt;/outputs/20</title>\n<path fill=\"none\" stroke=\"#000000\" d=\"M423.1362,-126C438.6773,-126 458.4112,-126 475.4253,-126\"/>\n<polygon fill=\"#000000\" stroke=\"#000000\" points=\"475.6057,-129.5001 485.6056,-126 475.6056,-122.5001 475.6057,-129.5001\"/>\n</g>\n<!-- /outputs/19 -->\n<g id=\"node9\" class=\"node\">\n<title>/outputs/19</title>\n<polygon fill=\"#e8e8e8\" stroke=\"#000000\" points=\"423,-90 369,-90 369,-54 423,-54 423,-90\"/>\n<text text-anchor=\"start\" x=\"378\" y=\"-69\" font-family=\"Times\" font-size=\"10.00\" fill=\"#000000\">Constant</text>\n</g>\n<!-- /outputs/19&#45;&gt;/outputs/20 -->\n<g id=\"edge12\" class=\"edge\">\n<title>/outputs/19&#45;&gt;/outputs/20</title>\n<path fill=\"none\" stroke=\"#000000\" d=\"M423.1362,-84.5244C438.9706,-91.8326 459.1574,-101.1496 476.3854,-109.1009\"/>\n<polygon fill=\"#000000\" stroke=\"#000000\" points=\"475.0593,-112.3437 485.6056,-113.3564 477.9928,-105.9879 475.0593,-112.3437\"/>\n</g>\n<!-- /outputs/22 -->\n<g id=\"node12\" class=\"node\">\n<title>/outputs/22</title>\n<polygon fill=\"#e8e8e8\" stroke=\"#000000\" points=\"691,-144 630,-144 630,-108 691,-108 691,-144\"/>\n<text text-anchor=\"start\" x=\"638.5\" y=\"-123\" font-family=\"Times\" font-size=\"10.00\" fill=\"#000000\">Unsqueeze</text>\n</g>\n<!-- /outputs/20&#45;&gt;/outputs/22 -->\n<g id=\"edge13\" class=\"edge\">\n<title>/outputs/20&#45;&gt;/outputs/22</title>\n<path fill=\"none\" stroke=\"#000000\" d=\"M540.0538,-126C562.3483,-126 594.3145,-126 619.7134,-126\"/>\n<polygon fill=\"#000000\" stroke=\"#000000\" points=\"619.7952,-129.5001 629.7951,-126 619.7951,-122.5001 619.7952,-129.5001\"/>\n</g>\n<!-- /outputs/23 -->\n<g id=\"node13\" class=\"node\">\n<title>/outputs/23</title>\n<polygon fill=\"#e8e8e8\" stroke=\"#000000\" points=\"782,-168 728,-168 728,-132 782,-132 782,-168\"/>\n<text text-anchor=\"start\" x=\"740\" y=\"-147\" font-family=\"Times\" font-size=\"10.00\" fill=\"#000000\">Concat</text>\n</g>\n<!-- /outputs/21&#45;&gt;/outputs/23 -->\n<g id=\"edge14\" class=\"edge\">\n<title>/outputs/21&#45;&gt;/outputs/23</title>\n<path fill=\"none\" stroke=\"#000000\" d=\"M691.1814,-170.2599C699.796,-167.5251 709.2518,-164.5232 718.184,-161.6876\"/>\n<polygon fill=\"#000000\" stroke=\"#000000\" points=\"719.5013,-164.9416 727.9735,-158.5799 717.3832,-158.2698 719.5013,-164.9416\"/>\n</g>\n<!-- /outputs/22&#45;&gt;/outputs/23 -->\n<g id=\"edge15\" class=\"edge\">\n<title>/outputs/22&#45;&gt;/outputs/23</title>\n<path fill=\"none\" stroke=\"#000000\" d=\"M691.1814,-133.7921C699.796,-135.9799 709.2518,-138.3814 718.184,-140.6499\"/>\n<polygon fill=\"#000000\" stroke=\"#000000\" points=\"717.4196,-144.0668 727.9735,-143.1361 719.1427,-137.2822 717.4196,-144.0668\"/>\n</g>\n<!-- /outputs/24 -->\n<g id=\"node14\" class=\"node\">\n<title>/outputs/24</title>\n<polygon fill=\"#e8e8e8\" stroke=\"#000000\" points=\"933,-168 845,-168 845,-132 933,-132 933,-168\"/>\n<text text-anchor=\"start\" x=\"853\" y=\"-147\" font-family=\"Times\" font-size=\"10.00\" fill=\"#000000\">ConstantOfShape</text>\n</g>\n<!-- /outputs/23&#45;&gt;/outputs/24 -->\n<g id=\"edge16\" class=\"edge\">\n<title>/outputs/23&#45;&gt;/outputs/24</title>\n<path fill=\"none\" stroke=\"#000000\" d=\"M782.1169,-150C797.2103,-150 816.5493,-150 834.618,-150\"/>\n<polygon fill=\"#000000\" stroke=\"#000000\" points=\"834.7782,-153.5001 844.7782,-150 834.7781,-146.5001 834.7782,-153.5001\"/>\n</g>\n<!-- /outputs/25 -->\n<g id=\"node15\" class=\"node\">\n<title>/outputs/25</title>\n<polygon fill=\"#e8e8e8\" stroke=\"#000000\" points=\"1070,-168 970,-168 970,-132 1070,-132 1070,-168\"/>\n<text text-anchor=\"start\" x=\"978\" y=\"-147\" font-family=\"Times\" font-size=\"10.00\" fill=\"#000000\">RandomNormalLike</text>\n</g>\n<!-- /outputs/24&#45;&gt;/outputs/25 -->\n<g id=\"edge17\" class=\"edge\">\n<title>/outputs/24&#45;&gt;/outputs/25</title>\n<path fill=\"none\" stroke=\"#000000\" d=\"M933.3506,-150C941.78,-150 950.7329,-150 959.5623,-150\"/>\n<polygon fill=\"#000000\" stroke=\"#000000\" points=\"959.832,-153.5001 969.8319,-150 959.8319,-146.5001 959.832,-153.5001\"/>\n</g>\n<!-- /outputs/26 -->\n<g id=\"node16\" class=\"node\">\n<title>/outputs/26</title>\n<polygon fill=\"#e8e8e8\" stroke=\"#000000\" points=\"1187,-168 1133,-168 1133,-132 1187,-132 1187,-168\"/>\n<text text-anchor=\"start\" x=\"1151\" y=\"-147\" font-family=\"Times\" font-size=\"10.00\" fill=\"#000000\">Cast</text>\n</g>\n<!-- /outputs/25&#45;&gt;/outputs/26 -->\n<g id=\"edge18\" class=\"edge\">\n<title>/outputs/25&#45;&gt;/outputs/26</title>\n<path fill=\"none\" stroke=\"#000000\" d=\"M1070.1478,-150C1087.5254,-150 1106.6826,-150 1122.8277,-150\"/>\n<polygon fill=\"#000000\" stroke=\"#000000\" points=\"1122.9535,-153.5001 1132.9535,-150 1122.9534,-146.5001 1122.9535,-153.5001\"/>\n<text text-anchor=\"middle\" x=\"1101.5\" y=\"-153\" font-family=\"Times\" font-size=\"10.00\" fill=\"#000000\">64x15</text>\n</g>\n<!-- /outputs/30 -->\n<g id=\"node20\" class=\"node\">\n<title>/outputs/30</title>\n<polygon fill=\"#e8e8e8\" stroke=\"#000000\" points=\"1304,-168 1250,-168 1250,-132 1304,-132 1304,-168\"/>\n<text text-anchor=\"start\" x=\"1268\" y=\"-147\" font-family=\"Times\" font-size=\"10.00\" fill=\"#000000\">Mul</text>\n</g>\n<!-- /outputs/26&#45;&gt;/outputs/30 -->\n<g id=\"edge19\" class=\"edge\">\n<title>/outputs/26&#45;&gt;/outputs/30</title>\n<path fill=\"none\" stroke=\"#000000\" d=\"M1187.1362,-150C1202.6773,-150 1222.4112,-150 1239.4253,-150\"/>\n<polygon fill=\"#000000\" stroke=\"#000000\" points=\"1239.6057,-153.5001 1249.6056,-150 1239.6056,-146.5001 1239.6057,-153.5001\"/>\n<text text-anchor=\"middle\" x=\"1218.5\" y=\"-153\" font-family=\"Times\" font-size=\"10.00\" fill=\"#000000\">64x15</text>\n</g>\n<!-- /outputs/27 -->\n<g id=\"node17\" class=\"node\">\n<title>/outputs/27</title>\n<polygon fill=\"#e8e8e8\" stroke=\"#000000\" points=\"306,-36 252,-36 252,0 306,0 306,-36\"/>\n<text text-anchor=\"start\" x=\"261\" y=\"-15\" font-family=\"Times\" font-size=\"10.00\" fill=\"#000000\">Constant</text>\n</g>\n<!-- /outputs/27&#45;&gt;/outputs/28 -->\n<g id=\"edge20\" class=\"edge\">\n<title>/outputs/27&#45;&gt;/outputs/28</title>\n<path fill=\"none\" stroke=\"#000000\" d=\"M306.1362,-18C321.6773,-18 341.4112,-18 358.4253,-18\"/>\n<polygon fill=\"#000000\" stroke=\"#000000\" points=\"358.6057,-21.5001 368.6056,-18 358.6056,-14.5001 358.6057,-21.5001\"/>\n</g>\n<!-- /outputs/29 -->\n<g id=\"node19\" class=\"node\">\n<title>/outputs/29</title>\n<polygon fill=\"#e8e8e8\" stroke=\"#000000\" points=\"612,-52 558,-52 558,-16 612,-16 612,-52\"/>\n<text text-anchor=\"start\" x=\"577\" y=\"-31\" font-family=\"Times\" font-size=\"10.00\" fill=\"#000000\">Exp</text>\n</g>\n<!-- /outputs/28&#45;&gt;/outputs/29 -->\n<g id=\"edge21\" class=\"edge\">\n<title>/outputs/28&#45;&gt;/outputs/29</title>\n<path fill=\"none\" stroke=\"#000000\" d=\"M423.0791,-20.2924C455.78,-23.0607 510.9555,-27.7317 547.6758,-30.8403\"/>\n<polygon fill=\"#000000\" stroke=\"#000000\" points=\"547.7115,-34.3557 557.9711,-31.7118 548.3021,-27.3807 547.7115,-34.3557\"/>\n<text text-anchor=\"middle\" x=\"454.5\" y=\"-27\" font-family=\"Times\" font-size=\"10.00\" fill=\"#000000\">64x15</text>\n</g>\n<!-- /outputs/29&#45;&gt;/outputs/30 -->\n<g id=\"edge22\" class=\"edge\">\n<title>/outputs/29&#45;&gt;/outputs/30</title>\n<path fill=\"none\" stroke=\"#000000\" d=\"M612.2071,-44.8423C637.1112,-53.7818 675.1972,-65 709.5,-65 709.5,-65 709.5,-65 1160,-65 1200.6028,-65 1236.5972,-98.9203 1257.6025,-123.9051\"/>\n<polygon fill=\"#000000\" stroke=\"#000000\" points=\"1255.1232,-126.4049 1264.1365,-131.9737 1260.5632,-121.9996 1255.1232,-126.4049\"/>\n<text text-anchor=\"middle\" x=\"889\" y=\"-68\" font-family=\"Times\" font-size=\"10.00\" fill=\"#000000\">64x15</text>\n</g>\n<!-- /outputs/30&#45;&gt;/outputs/31 -->\n<g id=\"edge23\" class=\"edge\">\n<title>/outputs/30&#45;&gt;/outputs/31</title>\n<path fill=\"none\" stroke=\"#000000\" d=\"M1303.5491,-168.1532C1320.0042,-179.4046 1341.3245,-193.9826 1359.1326,-206.1591\"/>\n<polygon fill=\"#000000\" stroke=\"#000000\" points=\"1357.3256,-209.1634 1367.556,-211.9186 1361.2767,-203.3851 1357.3256,-209.1634\"/>\n<text text-anchor=\"middle\" x=\"1335.5\" y=\"-200\" font-family=\"Times\" font-size=\"10.00\" fill=\"#000000\">64x15</text>\n</g>\n<!-- /outputs/32 -->\n<g id=\"node22\" class=\"node\">\n<title>/outputs/32</title>\n<polygon fill=\"#e8e8e8\" stroke=\"#000000\" points=\"1538,-248 1484,-248 1484,-212 1538,-212 1538,-248\"/>\n<text text-anchor=\"start\" x=\"1498\" y=\"-227\" font-family=\"Times\" font-size=\"10.00\" fill=\"#000000\">Linear</text>\n</g>\n<!-- /outputs/31&#45;&gt;/outputs/32 -->\n<g id=\"edge24\" class=\"edge\">\n<title>/outputs/31&#45;&gt;/outputs/32</title>\n<path fill=\"none\" stroke=\"#000000\" d=\"M1421.1362,-230C1436.6773,-230 1456.4112,-230 1473.4253,-230\"/>\n<polygon fill=\"#000000\" stroke=\"#000000\" points=\"1473.6057,-233.5001 1483.6056,-230 1473.6056,-226.5001 1473.6057,-233.5001\"/>\n<text text-anchor=\"middle\" x=\"1452.5\" y=\"-233\" font-family=\"Times\" font-size=\"10.00\" fill=\"#000000\">64x15</text>\n</g>\n<!-- /outputs/33 -->\n<g id=\"node23\" class=\"node\">\n<title>/outputs/33</title>\n<polygon fill=\"#e8e8e8\" stroke=\"#000000\" points=\"1668,-248 1606,-248 1606,-212 1668,-212 1668,-248\"/>\n<text text-anchor=\"start\" x=\"1614\" y=\"-227\" font-family=\"Times\" font-size=\"10.00\" fill=\"#000000\">LeakyRelu</text>\n</g>\n<!-- /outputs/32&#45;&gt;/outputs/33 -->\n<g id=\"edge25\" class=\"edge\">\n<title>/outputs/32&#45;&gt;/outputs/33</title>\n<path fill=\"none\" stroke=\"#000000\" d=\"M1538.0302,-230C1554.7474,-230 1576.5464,-230 1595.4294,-230\"/>\n<polygon fill=\"#000000\" stroke=\"#000000\" points=\"1595.5692,-233.5001 1605.5692,-230 1595.5692,-226.5001 1595.5692,-233.5001\"/>\n<text text-anchor=\"middle\" x=\"1572\" y=\"-233\" font-family=\"Times\" font-size=\"10.00\" fill=\"#000000\">64x500</text>\n</g>\n<!-- /outputs/34 -->\n<g id=\"node24\" class=\"node\">\n<title>/outputs/34</title>\n<polygon fill=\"#e8e8e8\" stroke=\"#000000\" points=\"1790,-248 1736,-248 1736,-212 1790,-212 1790,-248\"/>\n<text text-anchor=\"start\" x=\"1750\" y=\"-227\" font-family=\"Times\" font-size=\"10.00\" fill=\"#000000\">Linear</text>\n</g>\n<!-- /outputs/33&#45;&gt;/outputs/34 -->\n<g id=\"edge26\" class=\"edge\">\n<title>/outputs/33&#45;&gt;/outputs/34</title>\n<path fill=\"none\" stroke=\"#000000\" d=\"M1668.1461,-230C1685.528,-230 1707.3001,-230 1725.5998,-230\"/>\n<polygon fill=\"#000000\" stroke=\"#000000\" points=\"1725.6356,-233.5001 1735.6356,-230 1725.6356,-226.5001 1725.6356,-233.5001\"/>\n<text text-anchor=\"middle\" x=\"1702\" y=\"-233\" font-family=\"Times\" font-size=\"10.00\" fill=\"#000000\">64x500</text>\n</g>\n<!-- /outputs/35 -->\n<g id=\"node25\" class=\"node\">\n<title>/outputs/35</title>\n<polygon fill=\"#e8e8e8\" stroke=\"#000000\" points=\"1912,-248 1858,-248 1858,-212 1912,-212 1912,-248\"/>\n<text text-anchor=\"start\" x=\"1868\" y=\"-227\" font-family=\"Times\" font-size=\"10.00\" fill=\"#000000\">Sigmoid</text>\n</g>\n<!-- /outputs/34&#45;&gt;/outputs/35 -->\n<g id=\"edge27\" class=\"edge\">\n<title>/outputs/34&#45;&gt;/outputs/35</title>\n<path fill=\"none\" stroke=\"#000000\" d=\"M1790.0758,-230C1807.0553,-230 1829.1767,-230 1847.7924,-230\"/>\n<polygon fill=\"#000000\" stroke=\"#000000\" points=\"1848,-233.5001 1857.9999,-230 1847.9999,-226.5001 1848,-233.5001\"/>\n<text text-anchor=\"middle\" x=\"1824\" y=\"-233\" font-family=\"Times\" font-size=\"10.00\" fill=\"#000000\">64x784</text>\n</g>\n</g>\n</svg>\n"
          },
          "metadata": {
            "tags": []
          },
          "execution_count": 7
        }
      ]
    },
    {
      "cell_type": "markdown",
      "metadata": {
        "id": "uFAgM_JzrogF",
        "colab_type": "text"
      },
      "source": [
        "## Training"
      ]
    },
    {
      "cell_type": "code",
      "metadata": {
        "id": "fZZhYKjCrogF",
        "colab_type": "code",
        "colab": {
          "base_uri": "https://localhost:8080/",
          "height": 1000
        },
        "outputId": "72f57616-0b33-4280-ac7c-bffa838b8fde"
      },
      "source": [
        "start_time = time.time()\n",
        "for epoch in range(num_epochs):\n",
        "    for batch_idx, (features, targets) in enumerate(train_loader):\n",
        "        \n",
        "        # don't need labels, only the images (features)\n",
        "        features = features.view(-1, 28*28).to(device)\n",
        "\n",
        "        ### FORWARD AND BACK PROP\n",
        "        z_mean, z_log_var, encoded, decoded = model(features)\n",
        "\n",
        "        # cost = reconstruction loss + Kullback-Leibler divergence\n",
        "        kl_divergence = (0.5 * (z_mean**2 + \n",
        "                                torch.exp(z_log_var) - z_log_var - 1)).sum()\n",
        "        pixelwise_bce = F.binary_cross_entropy(decoded, features, reduction='sum')\n",
        "        cost = kl_divergence + pixelwise_bce\n",
        "        \n",
        "        optimizer.zero_grad()\n",
        "        cost.backward()\n",
        "        \n",
        "        ### UPDATE MODEL PARAMETERS\n",
        "        optimizer.step()\n",
        "        \n",
        "        ### LOGGING\n",
        "        if not batch_idx % 50:\n",
        "            print ('Epoch: %03d/%03d | Batch %03d/%03d | Cost: %.4f' \n",
        "                   %(epoch+1, num_epochs, batch_idx, \n",
        "                     len(train_loader), cost))\n",
        "            \n",
        "    print('Time elapsed: %.2f min' % ((time.time() - start_time)/60))\n",
        "    \n",
        "print('Total Training Time: %.2f min' % ((time.time() - start_time)/60))"
      ],
      "execution_count": 8,
      "outputs": [
        {
          "output_type": "stream",
          "text": [
            "Epoch: 001/050 | Batch 000/469 | Cost: 70443.2812\n",
            "Epoch: 001/050 | Batch 050/469 | Cost: 25646.6152\n",
            "Epoch: 001/050 | Batch 100/469 | Cost: 22675.6543\n",
            "Epoch: 001/050 | Batch 150/469 | Cost: 21040.0508\n",
            "Epoch: 001/050 | Batch 200/469 | Cost: 18658.3965\n",
            "Epoch: 001/050 | Batch 250/469 | Cost: 18261.5547\n",
            "Epoch: 001/050 | Batch 300/469 | Cost: 17159.7578\n",
            "Epoch: 001/050 | Batch 350/469 | Cost: 16626.3789\n",
            "Epoch: 001/050 | Batch 400/469 | Cost: 16242.2822\n",
            "Epoch: 001/050 | Batch 450/469 | Cost: 16031.7402\n",
            "Time elapsed: 0.08 min\n",
            "Epoch: 002/050 | Batch 000/469 | Cost: 16119.2520\n",
            "Epoch: 002/050 | Batch 050/469 | Cost: 15046.7422\n",
            "Epoch: 002/050 | Batch 100/469 | Cost: 15041.7783\n",
            "Epoch: 002/050 | Batch 150/469 | Cost: 15789.0312\n",
            "Epoch: 002/050 | Batch 200/469 | Cost: 15216.3721\n",
            "Epoch: 002/050 | Batch 250/469 | Cost: 15343.6836\n",
            "Epoch: 002/050 | Batch 300/469 | Cost: 14331.3262\n",
            "Epoch: 002/050 | Batch 350/469 | Cost: 15028.4297\n",
            "Epoch: 002/050 | Batch 400/469 | Cost: 15308.2383\n",
            "Epoch: 002/050 | Batch 450/469 | Cost: 15349.7080\n",
            "Time elapsed: 0.16 min\n",
            "Epoch: 003/050 | Batch 000/469 | Cost: 15465.7461\n",
            "Epoch: 003/050 | Batch 050/469 | Cost: 14485.6963\n",
            "Epoch: 003/050 | Batch 100/469 | Cost: 13884.2568\n",
            "Epoch: 003/050 | Batch 150/469 | Cost: 14423.0117\n",
            "Epoch: 003/050 | Batch 200/469 | Cost: 14358.3584\n",
            "Epoch: 003/050 | Batch 250/469 | Cost: 14764.0049\n",
            "Epoch: 003/050 | Batch 300/469 | Cost: 14697.1484\n",
            "Epoch: 003/050 | Batch 350/469 | Cost: 13757.5742\n",
            "Epoch: 003/050 | Batch 400/469 | Cost: 14337.0156\n",
            "Epoch: 003/050 | Batch 450/469 | Cost: 14261.0215\n",
            "Time elapsed: 0.24 min\n",
            "Epoch: 004/050 | Batch 000/469 | Cost: 14623.7666\n",
            "Epoch: 004/050 | Batch 050/469 | Cost: 14813.2246\n",
            "Epoch: 004/050 | Batch 100/469 | Cost: 14134.6055\n",
            "Epoch: 004/050 | Batch 150/469 | Cost: 13825.5186\n",
            "Epoch: 004/050 | Batch 200/469 | Cost: 14493.6084\n",
            "Epoch: 004/050 | Batch 250/469 | Cost: 13967.4570\n",
            "Epoch: 004/050 | Batch 300/469 | Cost: 13964.9189\n",
            "Epoch: 004/050 | Batch 350/469 | Cost: 14168.6523\n",
            "Epoch: 004/050 | Batch 400/469 | Cost: 14392.8203\n",
            "Epoch: 004/050 | Batch 450/469 | Cost: 14859.8760\n",
            "Time elapsed: 0.32 min\n",
            "Epoch: 005/050 | Batch 000/469 | Cost: 14004.3428\n",
            "Epoch: 005/050 | Batch 050/469 | Cost: 14274.0156\n",
            "Epoch: 005/050 | Batch 100/469 | Cost: 13721.9307\n",
            "Epoch: 005/050 | Batch 150/469 | Cost: 13436.0059\n",
            "Epoch: 005/050 | Batch 200/469 | Cost: 13813.9229\n",
            "Epoch: 005/050 | Batch 250/469 | Cost: 14247.0938\n",
            "Epoch: 005/050 | Batch 300/469 | Cost: 14133.1846\n",
            "Epoch: 005/050 | Batch 350/469 | Cost: 13740.9248\n",
            "Epoch: 005/050 | Batch 400/469 | Cost: 13854.6953\n",
            "Epoch: 005/050 | Batch 450/469 | Cost: 13830.8926\n",
            "Time elapsed: 0.40 min\n",
            "Epoch: 006/050 | Batch 000/469 | Cost: 14378.7734\n",
            "Epoch: 006/050 | Batch 050/469 | Cost: 14219.0762\n",
            "Epoch: 006/050 | Batch 100/469 | Cost: 13444.4922\n",
            "Epoch: 006/050 | Batch 150/469 | Cost: 14020.5645\n",
            "Epoch: 006/050 | Batch 200/469 | Cost: 13969.3809\n",
            "Epoch: 006/050 | Batch 250/469 | Cost: 13852.8584\n",
            "Epoch: 006/050 | Batch 300/469 | Cost: 13841.2344\n",
            "Epoch: 006/050 | Batch 350/469 | Cost: 14399.4961\n",
            "Epoch: 006/050 | Batch 400/469 | Cost: 13671.7432\n",
            "Epoch: 006/050 | Batch 450/469 | Cost: 13806.7734\n",
            "Time elapsed: 0.47 min\n",
            "Epoch: 007/050 | Batch 000/469 | Cost: 13793.0342\n",
            "Epoch: 007/050 | Batch 050/469 | Cost: 14337.8379\n",
            "Epoch: 007/050 | Batch 100/469 | Cost: 13755.6445\n",
            "Epoch: 007/050 | Batch 150/469 | Cost: 13484.4629\n",
            "Epoch: 007/050 | Batch 200/469 | Cost: 14152.1602\n",
            "Epoch: 007/050 | Batch 250/469 | Cost: 13980.9580\n",
            "Epoch: 007/050 | Batch 300/469 | Cost: 13933.7021\n",
            "Epoch: 007/050 | Batch 350/469 | Cost: 13730.6982\n",
            "Epoch: 007/050 | Batch 400/469 | Cost: 14428.5635\n",
            "Epoch: 007/050 | Batch 450/469 | Cost: 14042.4131\n",
            "Time elapsed: 0.55 min\n",
            "Epoch: 008/050 | Batch 000/469 | Cost: 13487.1133\n",
            "Epoch: 008/050 | Batch 050/469 | Cost: 13715.2637\n",
            "Epoch: 008/050 | Batch 100/469 | Cost: 13937.4570\n",
            "Epoch: 008/050 | Batch 150/469 | Cost: 13887.6504\n",
            "Epoch: 008/050 | Batch 200/469 | Cost: 13367.9160\n",
            "Epoch: 008/050 | Batch 250/469 | Cost: 13214.7109\n",
            "Epoch: 008/050 | Batch 300/469 | Cost: 13612.4980\n",
            "Epoch: 008/050 | Batch 350/469 | Cost: 13978.3633\n",
            "Epoch: 008/050 | Batch 400/469 | Cost: 13490.1621\n",
            "Epoch: 008/050 | Batch 450/469 | Cost: 13653.8105\n",
            "Time elapsed: 0.63 min\n",
            "Epoch: 009/050 | Batch 000/469 | Cost: 13525.4102\n",
            "Epoch: 009/050 | Batch 050/469 | Cost: 13898.6309\n",
            "Epoch: 009/050 | Batch 100/469 | Cost: 13697.1299\n",
            "Epoch: 009/050 | Batch 150/469 | Cost: 13672.0244\n",
            "Epoch: 009/050 | Batch 200/469 | Cost: 14051.8105\n",
            "Epoch: 009/050 | Batch 250/469 | Cost: 14276.6357\n",
            "Epoch: 009/050 | Batch 300/469 | Cost: 13776.3447\n",
            "Epoch: 009/050 | Batch 350/469 | Cost: 13909.4297\n",
            "Epoch: 009/050 | Batch 400/469 | Cost: 13272.4648\n",
            "Epoch: 009/050 | Batch 450/469 | Cost: 13947.8906\n",
            "Time elapsed: 0.71 min\n",
            "Epoch: 010/050 | Batch 000/469 | Cost: 13400.7080\n",
            "Epoch: 010/050 | Batch 050/469 | Cost: 13839.2402\n",
            "Epoch: 010/050 | Batch 100/469 | Cost: 14090.8516\n",
            "Epoch: 010/050 | Batch 150/469 | Cost: 13853.9375\n",
            "Epoch: 010/050 | Batch 200/469 | Cost: 13327.9219\n",
            "Epoch: 010/050 | Batch 250/469 | Cost: 13938.2041\n",
            "Epoch: 010/050 | Batch 300/469 | Cost: 13626.6973\n",
            "Epoch: 010/050 | Batch 350/469 | Cost: 13569.4648\n",
            "Epoch: 010/050 | Batch 400/469 | Cost: 13393.4893\n",
            "Epoch: 010/050 | Batch 450/469 | Cost: 13345.6689\n",
            "Time elapsed: 0.79 min\n",
            "Epoch: 011/050 | Batch 000/469 | Cost: 13804.7363\n",
            "Epoch: 011/050 | Batch 050/469 | Cost: 14387.3369\n",
            "Epoch: 011/050 | Batch 100/469 | Cost: 14027.7812\n",
            "Epoch: 011/050 | Batch 150/469 | Cost: 13452.9570\n",
            "Epoch: 011/050 | Batch 200/469 | Cost: 14071.4238\n",
            "Epoch: 011/050 | Batch 250/469 | Cost: 13448.6201\n",
            "Epoch: 011/050 | Batch 300/469 | Cost: 13580.6738\n",
            "Epoch: 011/050 | Batch 350/469 | Cost: 13523.5244\n",
            "Epoch: 011/050 | Batch 400/469 | Cost: 13584.3252\n",
            "Epoch: 011/050 | Batch 450/469 | Cost: 13444.0771\n",
            "Time elapsed: 0.87 min\n",
            "Epoch: 012/050 | Batch 000/469 | Cost: 13604.1484\n",
            "Epoch: 012/050 | Batch 050/469 | Cost: 13499.2168\n",
            "Epoch: 012/050 | Batch 100/469 | Cost: 12979.8955\n",
            "Epoch: 012/050 | Batch 150/469 | Cost: 13774.0459\n",
            "Epoch: 012/050 | Batch 200/469 | Cost: 13447.8877\n",
            "Epoch: 012/050 | Batch 250/469 | Cost: 13841.4258\n",
            "Epoch: 012/050 | Batch 300/469 | Cost: 13678.8301\n",
            "Epoch: 012/050 | Batch 350/469 | Cost: 13459.5820\n",
            "Epoch: 012/050 | Batch 400/469 | Cost: 13459.3789\n",
            "Epoch: 012/050 | Batch 450/469 | Cost: 13396.2734\n",
            "Time elapsed: 0.95 min\n",
            "Epoch: 013/050 | Batch 000/469 | Cost: 13428.4893\n",
            "Epoch: 013/050 | Batch 050/469 | Cost: 13470.3418\n",
            "Epoch: 013/050 | Batch 100/469 | Cost: 13512.0312\n",
            "Epoch: 013/050 | Batch 150/469 | Cost: 13604.3154\n",
            "Epoch: 013/050 | Batch 200/469 | Cost: 13508.6875\n",
            "Epoch: 013/050 | Batch 250/469 | Cost: 13356.8037\n",
            "Epoch: 013/050 | Batch 300/469 | Cost: 13590.5752\n",
            "Epoch: 013/050 | Batch 350/469 | Cost: 13615.0488\n",
            "Epoch: 013/050 | Batch 400/469 | Cost: 13682.6309\n",
            "Epoch: 013/050 | Batch 450/469 | Cost: 13600.4053\n",
            "Time elapsed: 1.03 min\n",
            "Epoch: 014/050 | Batch 000/469 | Cost: 13483.4082\n",
            "Epoch: 014/050 | Batch 050/469 | Cost: 12945.9941\n",
            "Epoch: 014/050 | Batch 100/469 | Cost: 13892.5332\n",
            "Epoch: 014/050 | Batch 150/469 | Cost: 13412.4697\n",
            "Epoch: 014/050 | Batch 200/469 | Cost: 13177.2734\n",
            "Epoch: 014/050 | Batch 250/469 | Cost: 12953.7695\n",
            "Epoch: 014/050 | Batch 300/469 | Cost: 13248.6064\n",
            "Epoch: 014/050 | Batch 350/469 | Cost: 13616.8691\n",
            "Epoch: 014/050 | Batch 400/469 | Cost: 13805.8652\n",
            "Epoch: 014/050 | Batch 450/469 | Cost: 13187.8193\n",
            "Time elapsed: 1.11 min\n",
            "Epoch: 015/050 | Batch 000/469 | Cost: 12938.7891\n",
            "Epoch: 015/050 | Batch 050/469 | Cost: 12860.0098\n",
            "Epoch: 015/050 | Batch 100/469 | Cost: 13310.8125\n",
            "Epoch: 015/050 | Batch 150/469 | Cost: 12992.6465\n",
            "Epoch: 015/050 | Batch 200/469 | Cost: 12602.0791\n",
            "Epoch: 015/050 | Batch 250/469 | Cost: 13313.5410\n",
            "Epoch: 015/050 | Batch 300/469 | Cost: 13338.6406\n",
            "Epoch: 015/050 | Batch 350/469 | Cost: 13617.9385\n",
            "Epoch: 015/050 | Batch 400/469 | Cost: 13259.7305\n",
            "Epoch: 015/050 | Batch 450/469 | Cost: 13985.5537\n",
            "Time elapsed: 1.19 min\n",
            "Epoch: 016/050 | Batch 000/469 | Cost: 13200.1680\n",
            "Epoch: 016/050 | Batch 050/469 | Cost: 13001.4648\n",
            "Epoch: 016/050 | Batch 100/469 | Cost: 13860.3643\n",
            "Epoch: 016/050 | Batch 150/469 | Cost: 12834.6963\n",
            "Epoch: 016/050 | Batch 200/469 | Cost: 13052.7051\n",
            "Epoch: 016/050 | Batch 250/469 | Cost: 13622.4795\n",
            "Epoch: 016/050 | Batch 300/469 | Cost: 13091.0479\n",
            "Epoch: 016/050 | Batch 350/469 | Cost: 13694.1152\n",
            "Epoch: 016/050 | Batch 400/469 | Cost: 13137.7500\n",
            "Epoch: 016/050 | Batch 450/469 | Cost: 13413.4551\n",
            "Time elapsed: 1.27 min\n",
            "Epoch: 017/050 | Batch 000/469 | Cost: 13823.2676\n",
            "Epoch: 017/050 | Batch 050/469 | Cost: 13772.1562\n",
            "Epoch: 017/050 | Batch 100/469 | Cost: 12814.5303\n",
            "Epoch: 017/050 | Batch 150/469 | Cost: 13607.1641\n",
            "Epoch: 017/050 | Batch 200/469 | Cost: 13421.7070\n",
            "Epoch: 017/050 | Batch 250/469 | Cost: 13902.8320\n",
            "Epoch: 017/050 | Batch 300/469 | Cost: 13151.3047\n",
            "Epoch: 017/050 | Batch 350/469 | Cost: 12825.0859\n",
            "Epoch: 017/050 | Batch 400/469 | Cost: 13144.0117\n",
            "Epoch: 017/050 | Batch 450/469 | Cost: 13138.5176\n",
            "Time elapsed: 1.35 min\n",
            "Epoch: 018/050 | Batch 000/469 | Cost: 12891.8232\n",
            "Epoch: 018/050 | Batch 050/469 | Cost: 13417.1445\n",
            "Epoch: 018/050 | Batch 100/469 | Cost: 13225.2832\n",
            "Epoch: 018/050 | Batch 150/469 | Cost: 13629.5137\n",
            "Epoch: 018/050 | Batch 200/469 | Cost: 13709.5586\n",
            "Epoch: 018/050 | Batch 250/469 | Cost: 13401.4287\n",
            "Epoch: 018/050 | Batch 300/469 | Cost: 13473.0635\n",
            "Epoch: 018/050 | Batch 350/469 | Cost: 13704.3945\n",
            "Epoch: 018/050 | Batch 400/469 | Cost: 13290.6982\n",
            "Epoch: 018/050 | Batch 450/469 | Cost: 13148.2090\n",
            "Time elapsed: 1.43 min\n",
            "Epoch: 019/050 | Batch 000/469 | Cost: 13416.6963\n",
            "Epoch: 019/050 | Batch 050/469 | Cost: 13087.0020\n",
            "Epoch: 019/050 | Batch 100/469 | Cost: 13228.7637\n",
            "Epoch: 019/050 | Batch 150/469 | Cost: 12930.8828\n",
            "Epoch: 019/050 | Batch 200/469 | Cost: 13738.2393\n",
            "Epoch: 019/050 | Batch 250/469 | Cost: 13053.7812\n",
            "Epoch: 019/050 | Batch 300/469 | Cost: 13070.0254\n",
            "Epoch: 019/050 | Batch 350/469 | Cost: 13195.7852\n",
            "Epoch: 019/050 | Batch 400/469 | Cost: 13180.3799\n",
            "Epoch: 019/050 | Batch 450/469 | Cost: 13339.6338\n",
            "Time elapsed: 1.51 min\n",
            "Epoch: 020/050 | Batch 000/469 | Cost: 12833.9453\n",
            "Epoch: 020/050 | Batch 050/469 | Cost: 13018.8447\n",
            "Epoch: 020/050 | Batch 100/469 | Cost: 13135.8447\n",
            "Epoch: 020/050 | Batch 150/469 | Cost: 13187.5840\n",
            "Epoch: 020/050 | Batch 200/469 | Cost: 13190.9570\n",
            "Epoch: 020/050 | Batch 250/469 | Cost: 12993.4971\n",
            "Epoch: 020/050 | Batch 300/469 | Cost: 12967.0566\n",
            "Epoch: 020/050 | Batch 350/469 | Cost: 12961.1309\n",
            "Epoch: 020/050 | Batch 400/469 | Cost: 13326.6562\n",
            "Epoch: 020/050 | Batch 450/469 | Cost: 13279.3496\n",
            "Time elapsed: 1.59 min\n",
            "Epoch: 021/050 | Batch 000/469 | Cost: 13611.1982\n",
            "Epoch: 021/050 | Batch 050/469 | Cost: 13346.2969\n",
            "Epoch: 021/050 | Batch 100/469 | Cost: 13042.6582\n",
            "Epoch: 021/050 | Batch 150/469 | Cost: 13160.9854\n",
            "Epoch: 021/050 | Batch 200/469 | Cost: 13418.6250\n",
            "Epoch: 021/050 | Batch 250/469 | Cost: 12930.6738\n",
            "Epoch: 021/050 | Batch 300/469 | Cost: 13459.0527\n",
            "Epoch: 021/050 | Batch 350/469 | Cost: 12557.6133\n",
            "Epoch: 021/050 | Batch 400/469 | Cost: 13158.1348\n",
            "Epoch: 021/050 | Batch 450/469 | Cost: 13740.1260\n",
            "Time elapsed: 1.67 min\n",
            "Epoch: 022/050 | Batch 000/469 | Cost: 13786.2588\n",
            "Epoch: 022/050 | Batch 050/469 | Cost: 13386.8887\n",
            "Epoch: 022/050 | Batch 100/469 | Cost: 13066.2305\n",
            "Epoch: 022/050 | Batch 150/469 | Cost: 12834.6260\n",
            "Epoch: 022/050 | Batch 200/469 | Cost: 13257.6426\n",
            "Epoch: 022/050 | Batch 250/469 | Cost: 13581.3369\n",
            "Epoch: 022/050 | Batch 300/469 | Cost: 13550.9219\n",
            "Epoch: 022/050 | Batch 350/469 | Cost: 13321.2715\n",
            "Epoch: 022/050 | Batch 400/469 | Cost: 13419.6855\n",
            "Epoch: 022/050 | Batch 450/469 | Cost: 13632.7061\n",
            "Time elapsed: 1.75 min\n",
            "Epoch: 023/050 | Batch 000/469 | Cost: 13306.8535\n",
            "Epoch: 023/050 | Batch 050/469 | Cost: 12969.8848\n",
            "Epoch: 023/050 | Batch 100/469 | Cost: 12851.0645\n",
            "Epoch: 023/050 | Batch 150/469 | Cost: 13139.0049\n",
            "Epoch: 023/050 | Batch 200/469 | Cost: 12694.7842\n",
            "Epoch: 023/050 | Batch 250/469 | Cost: 13409.4238\n",
            "Epoch: 023/050 | Batch 300/469 | Cost: 13765.3477\n",
            "Epoch: 023/050 | Batch 350/469 | Cost: 13090.5254\n",
            "Epoch: 023/050 | Batch 400/469 | Cost: 12827.0977\n",
            "Epoch: 023/050 | Batch 450/469 | Cost: 13844.9082\n",
            "Time elapsed: 1.83 min\n",
            "Epoch: 024/050 | Batch 000/469 | Cost: 13187.4004\n",
            "Epoch: 024/050 | Batch 050/469 | Cost: 13315.0723\n",
            "Epoch: 024/050 | Batch 100/469 | Cost: 13450.6221\n",
            "Epoch: 024/050 | Batch 150/469 | Cost: 13223.9102\n",
            "Epoch: 024/050 | Batch 200/469 | Cost: 13427.8525\n",
            "Epoch: 024/050 | Batch 250/469 | Cost: 13629.4375\n",
            "Epoch: 024/050 | Batch 300/469 | Cost: 13780.6699\n",
            "Epoch: 024/050 | Batch 350/469 | Cost: 12930.5146\n",
            "Epoch: 024/050 | Batch 400/469 | Cost: 13166.2861\n",
            "Epoch: 024/050 | Batch 450/469 | Cost: 13357.4814\n",
            "Time elapsed: 1.90 min\n",
            "Epoch: 025/050 | Batch 000/469 | Cost: 13187.6113\n",
            "Epoch: 025/050 | Batch 050/469 | Cost: 13196.3174\n",
            "Epoch: 025/050 | Batch 100/469 | Cost: 13003.4248\n",
            "Epoch: 025/050 | Batch 150/469 | Cost: 12991.8926\n",
            "Epoch: 025/050 | Batch 200/469 | Cost: 12733.5625\n",
            "Epoch: 025/050 | Batch 250/469 | Cost: 12967.9805\n",
            "Epoch: 025/050 | Batch 300/469 | Cost: 13698.4424\n",
            "Epoch: 025/050 | Batch 350/469 | Cost: 13335.7344\n",
            "Epoch: 025/050 | Batch 400/469 | Cost: 13193.5156\n",
            "Epoch: 025/050 | Batch 450/469 | Cost: 13062.2090\n",
            "Time elapsed: 1.98 min\n",
            "Epoch: 026/050 | Batch 000/469 | Cost: 12712.8369\n",
            "Epoch: 026/050 | Batch 050/469 | Cost: 13065.1992\n",
            "Epoch: 026/050 | Batch 100/469 | Cost: 13170.0684\n",
            "Epoch: 026/050 | Batch 150/469 | Cost: 13255.6621\n",
            "Epoch: 026/050 | Batch 200/469 | Cost: 12639.7070\n",
            "Epoch: 026/050 | Batch 250/469 | Cost: 12748.2734\n",
            "Epoch: 026/050 | Batch 300/469 | Cost: 13160.2979\n",
            "Epoch: 026/050 | Batch 350/469 | Cost: 13001.8340\n",
            "Epoch: 026/050 | Batch 400/469 | Cost: 13450.8066\n",
            "Epoch: 026/050 | Batch 450/469 | Cost: 13113.9561\n",
            "Time elapsed: 2.06 min\n",
            "Epoch: 027/050 | Batch 000/469 | Cost: 13030.5234\n",
            "Epoch: 027/050 | Batch 050/469 | Cost: 13051.0957\n",
            "Epoch: 027/050 | Batch 100/469 | Cost: 13587.2480\n",
            "Epoch: 027/050 | Batch 150/469 | Cost: 13495.5176\n",
            "Epoch: 027/050 | Batch 200/469 | Cost: 12946.8008\n",
            "Epoch: 027/050 | Batch 250/469 | Cost: 12801.5410\n",
            "Epoch: 027/050 | Batch 300/469 | Cost: 13488.2148\n",
            "Epoch: 027/050 | Batch 350/469 | Cost: 12964.0879\n",
            "Epoch: 027/050 | Batch 400/469 | Cost: 12722.9570\n",
            "Epoch: 027/050 | Batch 450/469 | Cost: 12446.2793\n",
            "Time elapsed: 2.14 min\n",
            "Epoch: 028/050 | Batch 000/469 | Cost: 12675.1387\n",
            "Epoch: 028/050 | Batch 050/469 | Cost: 12794.4473\n",
            "Epoch: 028/050 | Batch 100/469 | Cost: 12896.1201\n",
            "Epoch: 028/050 | Batch 150/469 | Cost: 12759.4619\n",
            "Epoch: 028/050 | Batch 200/469 | Cost: 13613.9609\n",
            "Epoch: 028/050 | Batch 250/469 | Cost: 13036.6973\n",
            "Epoch: 028/050 | Batch 300/469 | Cost: 13301.6992\n",
            "Epoch: 028/050 | Batch 350/469 | Cost: 13168.0840\n",
            "Epoch: 028/050 | Batch 400/469 | Cost: 13593.6055\n",
            "Epoch: 028/050 | Batch 450/469 | Cost: 13192.4717\n",
            "Time elapsed: 2.22 min\n",
            "Epoch: 029/050 | Batch 000/469 | Cost: 13097.9844\n",
            "Epoch: 029/050 | Batch 050/469 | Cost: 13793.1748\n",
            "Epoch: 029/050 | Batch 100/469 | Cost: 13272.7559\n",
            "Epoch: 029/050 | Batch 150/469 | Cost: 12786.3262\n",
            "Epoch: 029/050 | Batch 200/469 | Cost: 13031.9053\n",
            "Epoch: 029/050 | Batch 250/469 | Cost: 13635.3340\n",
            "Epoch: 029/050 | Batch 300/469 | Cost: 12968.9111\n",
            "Epoch: 029/050 | Batch 350/469 | Cost: 13274.7695\n",
            "Epoch: 029/050 | Batch 400/469 | Cost: 13538.4551\n",
            "Epoch: 029/050 | Batch 450/469 | Cost: 12736.7354\n",
            "Time elapsed: 2.31 min\n",
            "Epoch: 030/050 | Batch 000/469 | Cost: 12970.3623\n",
            "Epoch: 030/050 | Batch 050/469 | Cost: 13243.3076\n",
            "Epoch: 030/050 | Batch 100/469 | Cost: 13441.6523\n",
            "Epoch: 030/050 | Batch 150/469 | Cost: 13474.8936\n",
            "Epoch: 030/050 | Batch 200/469 | Cost: 12531.0488\n",
            "Epoch: 030/050 | Batch 250/469 | Cost: 12972.6201\n",
            "Epoch: 030/050 | Batch 300/469 | Cost: 12985.4609\n",
            "Epoch: 030/050 | Batch 350/469 | Cost: 13436.3428\n",
            "Epoch: 030/050 | Batch 400/469 | Cost: 12916.8320\n",
            "Epoch: 030/050 | Batch 450/469 | Cost: 13030.5928\n",
            "Time elapsed: 2.38 min\n",
            "Epoch: 031/050 | Batch 000/469 | Cost: 13401.1963\n",
            "Epoch: 031/050 | Batch 050/469 | Cost: 12941.0088\n",
            "Epoch: 031/050 | Batch 100/469 | Cost: 12693.0273\n",
            "Epoch: 031/050 | Batch 150/469 | Cost: 13572.4688\n",
            "Epoch: 031/050 | Batch 200/469 | Cost: 13250.0508\n",
            "Epoch: 031/050 | Batch 250/469 | Cost: 13124.1621\n",
            "Epoch: 031/050 | Batch 300/469 | Cost: 12790.2275\n",
            "Epoch: 031/050 | Batch 350/469 | Cost: 12790.4238\n",
            "Epoch: 031/050 | Batch 400/469 | Cost: 13310.1377\n",
            "Epoch: 031/050 | Batch 450/469 | Cost: 12623.4932\n",
            "Time elapsed: 2.46 min\n",
            "Epoch: 032/050 | Batch 000/469 | Cost: 13017.1475\n",
            "Epoch: 032/050 | Batch 050/469 | Cost: 12980.5166\n",
            "Epoch: 032/050 | Batch 100/469 | Cost: 12855.2988\n",
            "Epoch: 032/050 | Batch 150/469 | Cost: 13163.1582\n",
            "Epoch: 032/050 | Batch 200/469 | Cost: 13003.6777\n",
            "Epoch: 032/050 | Batch 250/469 | Cost: 13458.6387\n",
            "Epoch: 032/050 | Batch 300/469 | Cost: 12077.2725\n",
            "Epoch: 032/050 | Batch 350/469 | Cost: 12796.2852\n",
            "Epoch: 032/050 | Batch 400/469 | Cost: 13397.4062\n",
            "Epoch: 032/050 | Batch 450/469 | Cost: 13377.3750\n",
            "Time elapsed: 2.54 min\n",
            "Epoch: 033/050 | Batch 000/469 | Cost: 12922.4785\n",
            "Epoch: 033/050 | Batch 050/469 | Cost: 13811.8740\n",
            "Epoch: 033/050 | Batch 100/469 | Cost: 12734.7812\n",
            "Epoch: 033/050 | Batch 150/469 | Cost: 12868.6680\n",
            "Epoch: 033/050 | Batch 200/469 | Cost: 12681.9180\n",
            "Epoch: 033/050 | Batch 250/469 | Cost: 13227.8828\n",
            "Epoch: 033/050 | Batch 300/469 | Cost: 12913.0684\n",
            "Epoch: 033/050 | Batch 350/469 | Cost: 13047.9502\n",
            "Epoch: 033/050 | Batch 400/469 | Cost: 12811.0410\n",
            "Epoch: 033/050 | Batch 450/469 | Cost: 12742.1055\n",
            "Time elapsed: 2.62 min\n",
            "Epoch: 034/050 | Batch 000/469 | Cost: 12564.6445\n",
            "Epoch: 034/050 | Batch 050/469 | Cost: 13339.2734\n",
            "Epoch: 034/050 | Batch 100/469 | Cost: 13070.0811\n",
            "Epoch: 034/050 | Batch 150/469 | Cost: 12702.5010\n",
            "Epoch: 034/050 | Batch 200/469 | Cost: 13414.7695\n",
            "Epoch: 034/050 | Batch 250/469 | Cost: 12952.6680\n",
            "Epoch: 034/050 | Batch 300/469 | Cost: 12091.8379\n",
            "Epoch: 034/050 | Batch 350/469 | Cost: 13047.9502\n",
            "Epoch: 034/050 | Batch 400/469 | Cost: 12951.2285\n",
            "Epoch: 034/050 | Batch 450/469 | Cost: 12990.5215\n",
            "Time elapsed: 2.70 min\n",
            "Epoch: 035/050 | Batch 000/469 | Cost: 12940.6396\n",
            "Epoch: 035/050 | Batch 050/469 | Cost: 12790.4521\n",
            "Epoch: 035/050 | Batch 100/469 | Cost: 13320.6182\n",
            "Epoch: 035/050 | Batch 150/469 | Cost: 12592.4424\n",
            "Epoch: 035/050 | Batch 200/469 | Cost: 13092.8721\n",
            "Epoch: 035/050 | Batch 250/469 | Cost: 13156.7197\n",
            "Epoch: 035/050 | Batch 300/469 | Cost: 13194.3486\n",
            "Epoch: 035/050 | Batch 350/469 | Cost: 13168.8496\n",
            "Epoch: 035/050 | Batch 400/469 | Cost: 13138.1504\n",
            "Epoch: 035/050 | Batch 450/469 | Cost: 12781.1719\n",
            "Time elapsed: 2.78 min\n",
            "Epoch: 036/050 | Batch 000/469 | Cost: 13472.9170\n",
            "Epoch: 036/050 | Batch 050/469 | Cost: 12862.2598\n",
            "Epoch: 036/050 | Batch 100/469 | Cost: 13179.7617\n",
            "Epoch: 036/050 | Batch 150/469 | Cost: 12894.8848\n",
            "Epoch: 036/050 | Batch 200/469 | Cost: 13028.0986\n",
            "Epoch: 036/050 | Batch 250/469 | Cost: 12651.5039\n",
            "Epoch: 036/050 | Batch 300/469 | Cost: 13061.4541\n",
            "Epoch: 036/050 | Batch 350/469 | Cost: 12927.2422\n",
            "Epoch: 036/050 | Batch 400/469 | Cost: 13121.2949\n",
            "Epoch: 036/050 | Batch 450/469 | Cost: 13164.8447\n",
            "Time elapsed: 2.86 min\n",
            "Epoch: 037/050 | Batch 000/469 | Cost: 13114.4150\n",
            "Epoch: 037/050 | Batch 050/469 | Cost: 12803.2715\n",
            "Epoch: 037/050 | Batch 100/469 | Cost: 12683.3154\n",
            "Epoch: 037/050 | Batch 150/469 | Cost: 12880.6543\n",
            "Epoch: 037/050 | Batch 200/469 | Cost: 12809.9033\n",
            "Epoch: 037/050 | Batch 250/469 | Cost: 12829.1777\n",
            "Epoch: 037/050 | Batch 300/469 | Cost: 13620.2070\n",
            "Epoch: 037/050 | Batch 350/469 | Cost: 12757.0439\n",
            "Epoch: 037/050 | Batch 400/469 | Cost: 12840.3301\n",
            "Epoch: 037/050 | Batch 450/469 | Cost: 12841.0117\n",
            "Time elapsed: 2.94 min\n",
            "Epoch: 038/050 | Batch 000/469 | Cost: 13238.0938\n",
            "Epoch: 038/050 | Batch 050/469 | Cost: 13296.3828\n",
            "Epoch: 038/050 | Batch 100/469 | Cost: 12920.6699\n",
            "Epoch: 038/050 | Batch 150/469 | Cost: 13331.8613\n",
            "Epoch: 038/050 | Batch 200/469 | Cost: 13274.6543\n",
            "Epoch: 038/050 | Batch 250/469 | Cost: 13029.5137\n",
            "Epoch: 038/050 | Batch 300/469 | Cost: 12972.2441\n",
            "Epoch: 038/050 | Batch 350/469 | Cost: 13483.5391\n",
            "Epoch: 038/050 | Batch 400/469 | Cost: 12960.6270\n",
            "Epoch: 038/050 | Batch 450/469 | Cost: 13414.6699\n",
            "Time elapsed: 3.02 min\n",
            "Epoch: 039/050 | Batch 000/469 | Cost: 13151.3711\n",
            "Epoch: 039/050 | Batch 050/469 | Cost: 13120.9756\n",
            "Epoch: 039/050 | Batch 100/469 | Cost: 13434.2676\n",
            "Epoch: 039/050 | Batch 150/469 | Cost: 12829.7783\n",
            "Epoch: 039/050 | Batch 200/469 | Cost: 12187.9121\n",
            "Epoch: 039/050 | Batch 250/469 | Cost: 13217.1309\n",
            "Epoch: 039/050 | Batch 300/469 | Cost: 12768.2314\n",
            "Epoch: 039/050 | Batch 350/469 | Cost: 12958.9072\n",
            "Epoch: 039/050 | Batch 400/469 | Cost: 12736.4023\n",
            "Epoch: 039/050 | Batch 450/469 | Cost: 13253.7764\n",
            "Time elapsed: 3.10 min\n",
            "Epoch: 040/050 | Batch 000/469 | Cost: 12948.5615\n",
            "Epoch: 040/050 | Batch 050/469 | Cost: 13683.2168\n",
            "Epoch: 040/050 | Batch 100/469 | Cost: 12656.4785\n",
            "Epoch: 040/050 | Batch 150/469 | Cost: 12241.5518\n",
            "Epoch: 040/050 | Batch 200/469 | Cost: 13683.0635\n",
            "Epoch: 040/050 | Batch 250/469 | Cost: 12336.1406\n",
            "Epoch: 040/050 | Batch 300/469 | Cost: 13591.6445\n",
            "Epoch: 040/050 | Batch 350/469 | Cost: 12830.5391\n",
            "Epoch: 040/050 | Batch 400/469 | Cost: 12828.1953\n",
            "Epoch: 040/050 | Batch 450/469 | Cost: 12622.6074\n",
            "Time elapsed: 3.18 min\n",
            "Epoch: 041/050 | Batch 000/469 | Cost: 13127.9502\n",
            "Epoch: 041/050 | Batch 050/469 | Cost: 12794.2158\n",
            "Epoch: 041/050 | Batch 100/469 | Cost: 12778.4434\n",
            "Epoch: 041/050 | Batch 150/469 | Cost: 12704.9473\n",
            "Epoch: 041/050 | Batch 200/469 | Cost: 13042.9648\n",
            "Epoch: 041/050 | Batch 250/469 | Cost: 12968.1436\n",
            "Epoch: 041/050 | Batch 300/469 | Cost: 13018.4590\n",
            "Epoch: 041/050 | Batch 350/469 | Cost: 12975.2900\n",
            "Epoch: 041/050 | Batch 400/469 | Cost: 12943.5820\n",
            "Epoch: 041/050 | Batch 450/469 | Cost: 13377.5107\n",
            "Time elapsed: 3.26 min\n",
            "Epoch: 042/050 | Batch 000/469 | Cost: 13397.8105\n",
            "Epoch: 042/050 | Batch 050/469 | Cost: 12821.2178\n",
            "Epoch: 042/050 | Batch 100/469 | Cost: 12754.1816\n",
            "Epoch: 042/050 | Batch 150/469 | Cost: 13217.6553\n",
            "Epoch: 042/050 | Batch 200/469 | Cost: 12829.2070\n",
            "Epoch: 042/050 | Batch 250/469 | Cost: 13365.4219\n",
            "Epoch: 042/050 | Batch 300/469 | Cost: 12579.0039\n",
            "Epoch: 042/050 | Batch 350/469 | Cost: 13188.7373\n",
            "Epoch: 042/050 | Batch 400/469 | Cost: 12663.9834\n",
            "Epoch: 042/050 | Batch 450/469 | Cost: 12790.5449\n",
            "Time elapsed: 3.34 min\n",
            "Epoch: 043/050 | Batch 000/469 | Cost: 13146.4980\n",
            "Epoch: 043/050 | Batch 050/469 | Cost: 13208.8506\n",
            "Epoch: 043/050 | Batch 100/469 | Cost: 13270.3496\n",
            "Epoch: 043/050 | Batch 150/469 | Cost: 13192.0547\n",
            "Epoch: 043/050 | Batch 200/469 | Cost: 12577.1035\n",
            "Epoch: 043/050 | Batch 250/469 | Cost: 12833.6387\n",
            "Epoch: 043/050 | Batch 300/469 | Cost: 13143.4473\n",
            "Epoch: 043/050 | Batch 350/469 | Cost: 12833.9180\n",
            "Epoch: 043/050 | Batch 400/469 | Cost: 13020.2207\n",
            "Epoch: 043/050 | Batch 450/469 | Cost: 12967.7070\n",
            "Time elapsed: 3.42 min\n",
            "Epoch: 044/050 | Batch 000/469 | Cost: 13169.7930\n",
            "Epoch: 044/050 | Batch 050/469 | Cost: 12986.5088\n",
            "Epoch: 044/050 | Batch 100/469 | Cost: 12946.3643\n",
            "Epoch: 044/050 | Batch 150/469 | Cost: 12737.8848\n",
            "Epoch: 044/050 | Batch 200/469 | Cost: 13117.5957\n",
            "Epoch: 044/050 | Batch 250/469 | Cost: 12543.8916\n",
            "Epoch: 044/050 | Batch 300/469 | Cost: 13238.2334\n",
            "Epoch: 044/050 | Batch 350/469 | Cost: 12938.8105\n",
            "Epoch: 044/050 | Batch 400/469 | Cost: 12939.4766\n",
            "Epoch: 044/050 | Batch 450/469 | Cost: 13159.6094\n",
            "Time elapsed: 3.50 min\n",
            "Epoch: 045/050 | Batch 000/469 | Cost: 12727.9922\n",
            "Epoch: 045/050 | Batch 050/469 | Cost: 12720.7734\n",
            "Epoch: 045/050 | Batch 100/469 | Cost: 12903.1025\n",
            "Epoch: 045/050 | Batch 150/469 | Cost: 12903.2148\n",
            "Epoch: 045/050 | Batch 200/469 | Cost: 13160.6133\n",
            "Epoch: 045/050 | Batch 250/469 | Cost: 13294.0898\n",
            "Epoch: 045/050 | Batch 300/469 | Cost: 12128.1973\n",
            "Epoch: 045/050 | Batch 350/469 | Cost: 12938.3926\n",
            "Epoch: 045/050 | Batch 400/469 | Cost: 13041.4316\n",
            "Epoch: 045/050 | Batch 450/469 | Cost: 12976.7754\n",
            "Time elapsed: 3.58 min\n",
            "Epoch: 046/050 | Batch 000/469 | Cost: 12462.3467\n",
            "Epoch: 046/050 | Batch 050/469 | Cost: 12762.1406\n",
            "Epoch: 046/050 | Batch 100/469 | Cost: 12813.0029\n",
            "Epoch: 046/050 | Batch 150/469 | Cost: 12709.6826\n",
            "Epoch: 046/050 | Batch 200/469 | Cost: 13119.1816\n",
            "Epoch: 046/050 | Batch 250/469 | Cost: 12339.3398\n",
            "Epoch: 046/050 | Batch 300/469 | Cost: 13293.0283\n",
            "Epoch: 046/050 | Batch 350/469 | Cost: 13314.0449\n",
            "Epoch: 046/050 | Batch 400/469 | Cost: 12647.0771\n",
            "Epoch: 046/050 | Batch 450/469 | Cost: 12933.5840\n",
            "Time elapsed: 3.66 min\n",
            "Epoch: 047/050 | Batch 000/469 | Cost: 12833.0840\n",
            "Epoch: 047/050 | Batch 050/469 | Cost: 12493.2930\n",
            "Epoch: 047/050 | Batch 100/469 | Cost: 13348.7432\n",
            "Epoch: 047/050 | Batch 150/469 | Cost: 12713.2354\n",
            "Epoch: 047/050 | Batch 200/469 | Cost: 12822.6943\n",
            "Epoch: 047/050 | Batch 250/469 | Cost: 13133.5225\n",
            "Epoch: 047/050 | Batch 300/469 | Cost: 13042.4590\n",
            "Epoch: 047/050 | Batch 350/469 | Cost: 12645.9219\n",
            "Epoch: 047/050 | Batch 400/469 | Cost: 13221.2637\n",
            "Epoch: 047/050 | Batch 450/469 | Cost: 13429.8955\n",
            "Time elapsed: 3.74 min\n",
            "Epoch: 048/050 | Batch 000/469 | Cost: 13167.0430\n",
            "Epoch: 048/050 | Batch 050/469 | Cost: 12566.9062\n",
            "Epoch: 048/050 | Batch 100/469 | Cost: 12582.6553\n",
            "Epoch: 048/050 | Batch 150/469 | Cost: 12920.5156\n",
            "Epoch: 048/050 | Batch 200/469 | Cost: 13405.5645\n",
            "Epoch: 048/050 | Batch 250/469 | Cost: 12894.8672\n",
            "Epoch: 048/050 | Batch 300/469 | Cost: 12913.5820\n",
            "Epoch: 048/050 | Batch 350/469 | Cost: 12547.1680\n",
            "Epoch: 048/050 | Batch 400/469 | Cost: 12809.6523\n",
            "Epoch: 048/050 | Batch 450/469 | Cost: 12675.9365\n",
            "Time elapsed: 3.82 min\n",
            "Epoch: 049/050 | Batch 000/469 | Cost: 12679.9863\n",
            "Epoch: 049/050 | Batch 050/469 | Cost: 13143.8711\n",
            "Epoch: 049/050 | Batch 100/469 | Cost: 13304.4209\n",
            "Epoch: 049/050 | Batch 150/469 | Cost: 13045.5117\n",
            "Epoch: 049/050 | Batch 200/469 | Cost: 13006.0635\n",
            "Epoch: 049/050 | Batch 250/469 | Cost: 13239.9668\n",
            "Epoch: 049/050 | Batch 300/469 | Cost: 13432.0156\n",
            "Epoch: 049/050 | Batch 350/469 | Cost: 12786.9336\n",
            "Epoch: 049/050 | Batch 400/469 | Cost: 12674.9980\n",
            "Epoch: 049/050 | Batch 450/469 | Cost: 13340.7969\n",
            "Time elapsed: 3.90 min\n",
            "Epoch: 050/050 | Batch 000/469 | Cost: 13133.9512\n",
            "Epoch: 050/050 | Batch 050/469 | Cost: 12441.0957\n",
            "Epoch: 050/050 | Batch 100/469 | Cost: 13009.4971\n",
            "Epoch: 050/050 | Batch 150/469 | Cost: 12782.0752\n",
            "Epoch: 050/050 | Batch 200/469 | Cost: 12276.2500\n",
            "Epoch: 050/050 | Batch 250/469 | Cost: 13541.0840\n",
            "Epoch: 050/050 | Batch 300/469 | Cost: 12766.8154\n",
            "Epoch: 050/050 | Batch 350/469 | Cost: 12310.9111\n",
            "Epoch: 050/050 | Batch 400/469 | Cost: 12694.2275\n",
            "Epoch: 050/050 | Batch 450/469 | Cost: 12702.7148\n",
            "Time elapsed: 3.98 min\n",
            "Total Training Time: 3.98 min\n"
          ],
          "name": "stdout"
        }
      ]
    },
    {
      "cell_type": "markdown",
      "metadata": {
        "id": "goAg_NsUrogI",
        "colab_type": "text"
      },
      "source": [
        "# Evaluation"
      ]
    },
    {
      "cell_type": "markdown",
      "metadata": {
        "id": "SsoXpUJirogJ",
        "colab_type": "text"
      },
      "source": [
        "### Reconstruction"
      ]
    },
    {
      "cell_type": "code",
      "metadata": {
        "id": "TOP8Ow0ArogJ",
        "colab_type": "code",
        "colab": {
          "base_uri": "https://localhost:8080/",
          "height": 187
        },
        "outputId": "9da8a984-ee6d-4629-eb56-9628bdf0aa4f"
      },
      "source": [
        "%matplotlib inline\n",
        "import matplotlib.pyplot as plt\n",
        "\n",
        "##########################\n",
        "### VISUALIZATION\n",
        "##########################\n",
        "\n",
        "n_images = 15\n",
        "image_width = 28\n",
        "\n",
        "fig, axes = plt.subplots(nrows=2, ncols=n_images, \n",
        "                         sharex=True, sharey=True, figsize=(20, 2.5))\n",
        "orig_images = features[:n_images]\n",
        "decoded_images = decoded[:n_images]\n",
        "\n",
        "for i in range(n_images):\n",
        "    for ax, img in zip(axes, [orig_images, decoded_images]):\n",
        "        curr_img = img[i].detach().to(torch.device('cpu'))\n",
        "        ax[i].imshow(curr_img.view((image_width, image_width)), cmap='binary')"
      ],
      "execution_count": 9,
      "outputs": [
        {
          "output_type": "display_data",
          "data": {
            "image/png": "[encoded data removed]",
            "text/plain": [
              "<Figure size 1440x180 with 30 Axes>"
            ]
          },
          "metadata": {
            "tags": [],
            "needs_background": "light"
          }
        }
      ]
    },
    {
      "cell_type": "markdown",
      "metadata": {
        "id": "6sdp9lYCrogM",
        "colab_type": "text"
      },
      "source": [
        "### Generate new images"
      ]
    },
    {
      "cell_type": "code",
      "metadata": {
        "id": "klm_ofOerogN",
        "colab_type": "code",
        "colab": {
          "base_uri": "https://localhost:8080/",
          "height": 827
        },
        "outputId": "92ef35ca-3e6f-43fd-be11-72970b20681e"
      },
      "source": [
        "for i in range(10):\n",
        "\n",
        "    ##########################\n",
        "    ### RANDOM SAMPLE\n",
        "    ##########################    \n",
        "    \n",
        "    n_images = 10\n",
        "    rand_features = torch.randn(n_images, num_latent).to(device)\n",
        "    new_images = model.decoder(rand_features)\n",
        "\n",
        "    ##########################\n",
        "    ### VISUALIZATION\n",
        "    ##########################\n",
        "\n",
        "    image_width = 28\n",
        "\n",
        "    fig, axes = plt.subplots(nrows=1, ncols=n_images, figsize=(10, 2.5), sharey=True)\n",
        "    decoded_images = new_images[:n_images]\n",
        "\n",
        "    for ax, img in zip(axes, decoded_images):\n",
        "        curr_img = img.detach().to(torch.device('cpu'))\n",
        "        ax.imshow(curr_img.view((image_width, image_width)), cmap='binary')\n",
        "        \n",
        "    plt.show()"
      ],
      "execution_count": 10,
      "outputs": [
        {
          "output_type": "display_data",
          "data": {
            "image/png": "[encoded data removed]",
            "text/plain": [
              "<Figure size 720x180 with 10 Axes>"
            ]
          },
          "metadata": {
            "tags": [],
            "needs_background": "light"
          }
        },
        {
          "output_type": "display_data",
          "data": {
            "image/png": "[encoded data removed]",
            "text/plain": [
              "<Figure size 720x180 with 10 Axes>"
            ]
          },
          "metadata": {
            "tags": [],
            "needs_background": "light"
          }
        },
        {
          "output_type": "display_data",
          "data": {
            "image/png": "[encoded data removed]",
            "text/plain": [
              "<Figure size 720x180 with 10 Axes>"
            ]
          },
          "metadata": {
            "tags": [],
            "needs_background": "light"
          }
        },
        {
          "output_type": "display_data",
          "data": {
            "image/png": "[encoded data removed]",
            "text/plain": [
              "<Figure size 720x180 with 10 Axes>"
            ]
          },
          "metadata": {
            "tags": [],
            "needs_background": "light"
          }
        },
        {
          "output_type": "display_data",
          "data": {
            "image/png": "[encoded data removed]",
            "text/plain": [
              "<Figure size 720x180 with 10 Axes>"
            ]
          },
          "metadata": {
            "tags": [],
            "needs_background": "light"
          }
        },
        {
          "output_type": "display_data",
          "data": {
            "image/png": "[encoded data removed]",
            "text/plain": [
              "<Figure size 720x180 with 10 Axes>"
            ]
          },
          "metadata": {
            "tags": [],
            "needs_background": "light"
          }
        },
        {
          "output_type": "display_data",
          "data": {
            "image/png": "[encoded data removed]",
            "text/plain": [
              "<Figure size 720x180 with 10 Axes>"
            ]
          },
          "metadata": {
            "tags": [],
            "needs_background": "light"
          }
        },
        {
          "output_type": "display_data",
          "data": {
            "image/png": "[encoded data removed]",
            "text/plain": [
              "<Figure size 720x180 with 10 Axes>"
            ]
          },
          "metadata": {
            "tags": [],
            "needs_background": "light"
          }
        },
        {
          "output_type": "display_data",
          "data": {
            "image/png": "[encoded data removed]",
            "text/plain": [
              "<Figure size 720x180 with 10 Axes>"
            ]
          },
          "metadata": {
            "tags": [],
            "needs_background": "light"
          }
        },
        {
          "output_type": "display_data",
          "data": {
            "image/png": "[encoded data removed]",
            "text/plain": [
              "<Figure size 720x180 with 10 Axes>"
            ]
          },
          "metadata": {
            "tags": [],
            "needs_background": "light"
          }
        }
      ]
    },
    {
      "cell_type": "code",
      "metadata": {
        "id": "f5rZ1LsdrogP",
        "colab_type": "code",
        "colab": {
          "base_uri": "https://localhost:8080/",
          "height": 69
        },
        "outputId": "c23b192b-a08f-4954-9946-bc67fc48c8f2"
      },
      "source": [
        "%watermark -iv"
      ],
      "execution_count": 11,
      "outputs": [
        {
          "output_type": "stream",
          "text": [
            "torch 1.5.1+cu101\n",
            "numpy 1.18.5\n",
            "\n"
          ],
          "name": "stdout"
        }
      ]
    }
  ]
}