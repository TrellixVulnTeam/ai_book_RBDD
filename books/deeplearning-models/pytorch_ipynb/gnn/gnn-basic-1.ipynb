{
  "nbformat": 4,
  "nbformat_minor": 0,
  "metadata": {
    "kernelspec": {
      "display_name": "Python 3",
      "language": "python",
      "name": "python3"
    },
    "language_info": {
      "codemirror_mode": {
        "name": "ipython",
        "version": 3
      },
      "file_extension": ".py",
      "mimetype": "text/x-python",
      "name": "python",
      "nbconvert_exporter": "python",
      "pygments_lexer": "ipython3",
      "version": "3.7.3"
    },
    "toc": {
      "nav_menu": {},
      "number_sections": true,
      "sideBar": true,
      "skip_h1_title": false,
      "title_cell": "Table of Contents",
      "title_sidebar": "Contents",
      "toc_cell": false,
      "toc_position": {},
      "toc_section_display": true,
      "toc_window_display": false
    },
    "colab": {
      "name": "gnn-basic-1.ipynb",
      "provenance": []
    },
    "widgets": {
      "application/vnd.jupyter.widget-state+json": {
        "5de85fbdb36e4d4ab4139ec79d1f9ee6": {
          "model_module": "@jupyter-widgets/controls",
          "model_name": "HBoxModel",
          "state": {
            "_view_name": "HBoxView",
            "_dom_classes": [],
            "_model_name": "HBoxModel",
            "_view_module": "@jupyter-widgets/controls",
            "_model_module_version": "1.5.0",
            "_view_count": null,
            "_view_module_version": "1.5.0",
            "box_style": "",
            "layout": "IPY_MODEL_03db9b100d8d442ea59fdf309f0fd8dd",
            "_model_module": "@jupyter-widgets/controls",
            "children": [
              "IPY_MODEL_9de989fa2066499999c9896765e06da6",
              "IPY_MODEL_f23fcbf3decd4e92a232636ca058f66c"
            ]
          }
        },
        "03db9b100d8d442ea59fdf309f0fd8dd": {
          "model_module": "@jupyter-widgets/base",
          "model_name": "LayoutModel",
          "state": {
            "_view_name": "LayoutView",
            "grid_template_rows": null,
            "right": null,
            "justify_content": null,
            "_view_module": "@jupyter-widgets/base",
            "overflow": null,
            "_model_module_version": "1.2.0",
            "_view_count": null,
            "flex_flow": null,
            "width": null,
            "min_width": null,
            "border": null,
            "align_items": null,
            "bottom": null,
            "_model_module": "@jupyter-widgets/base",
            "top": null,
            "grid_column": null,
            "overflow_y": null,
            "overflow_x": null,
            "grid_auto_flow": null,
            "grid_area": null,
            "grid_template_columns": null,
            "flex": null,
            "_model_name": "LayoutModel",
            "justify_items": null,
            "grid_row": null,
            "max_height": null,
            "align_content": null,
            "visibility": null,
            "align_self": null,
            "height": null,
            "min_height": null,
            "padding": null,
            "grid_auto_rows": null,
            "grid_gap": null,
            "max_width": null,
            "order": null,
            "_view_module_version": "1.2.0",
            "grid_template_areas": null,
            "object_position": null,
            "object_fit": null,
            "grid_auto_columns": null,
            "margin": null,
            "display": null,
            "left": null
          }
        },
        "9de989fa2066499999c9896765e06da6": {
          "model_module": "@jupyter-widgets/controls",
          "model_name": "FloatProgressModel",
          "state": {
            "_view_name": "ProgressView",
            "style": "IPY_MODEL_5113ba0ed98d4cad9b938cccffb8e7b0",
            "_dom_classes": [],
            "description": "",
            "_model_name": "FloatProgressModel",
            "bar_style": "success",
            "max": 1,
            "_view_module": "@jupyter-widgets/controls",
            "_model_module_version": "1.5.0",
            "value": 1,
            "_view_count": null,
            "_view_module_version": "1.5.0",
            "orientation": "horizontal",
            "min": 0,
            "description_tooltip": null,
            "_model_module": "@jupyter-widgets/controls",
            "layout": "IPY_MODEL_2c378adbdfd34c0db55e7ff8d8dc4fb1"
          }
        },
        "f23fcbf3decd4e92a232636ca058f66c": {
          "model_module": "@jupyter-widgets/controls",
          "model_name": "HTMLModel",
          "state": {
            "_view_name": "HTMLView",
            "style": "IPY_MODEL_65c323cfadc4470aa8805911e73fbcee",
            "_dom_classes": [],
            "description": "",
            "_model_name": "HTMLModel",
            "placeholder": "​",
            "_view_module": "@jupyter-widgets/controls",
            "_model_module_version": "1.5.0",
            "value": " 9920512/? [00:02&lt;00:00, 4166257.55it/s]",
            "_view_count": null,
            "_view_module_version": "1.5.0",
            "description_tooltip": null,
            "_model_module": "@jupyter-widgets/controls",
            "layout": "IPY_MODEL_502021ba036c421bbe8fa7d8648716b0"
          }
        },
        "5113ba0ed98d4cad9b938cccffb8e7b0": {
          "model_module": "@jupyter-widgets/controls",
          "model_name": "ProgressStyleModel",
          "state": {
            "_view_name": "StyleView",
            "_model_name": "ProgressStyleModel",
            "description_width": "initial",
            "_view_module": "@jupyter-widgets/base",
            "_model_module_version": "1.5.0",
            "_view_count": null,
            "_view_module_version": "1.2.0",
            "bar_color": null,
            "_model_module": "@jupyter-widgets/controls"
          }
        },
        "2c378adbdfd34c0db55e7ff8d8dc4fb1": {
          "model_module": "@jupyter-widgets/base",
          "model_name": "LayoutModel",
          "state": {
            "_view_name": "LayoutView",
            "grid_template_rows": null,
            "right": null,
            "justify_content": null,
            "_view_module": "@jupyter-widgets/base",
            "overflow": null,
            "_model_module_version": "1.2.0",
            "_view_count": null,
            "flex_flow": null,
            "width": null,
            "min_width": null,
            "border": null,
            "align_items": null,
            "bottom": null,
            "_model_module": "@jupyter-widgets/base",
            "top": null,
            "grid_column": null,
            "overflow_y": null,
            "overflow_x": null,
            "grid_auto_flow": null,
            "grid_area": null,
            "grid_template_columns": null,
            "flex": null,
            "_model_name": "LayoutModel",
            "justify_items": null,
            "grid_row": null,
            "max_height": null,
            "align_content": null,
            "visibility": null,
            "align_self": null,
            "height": null,
            "min_height": null,
            "padding": null,
            "grid_auto_rows": null,
            "grid_gap": null,
            "max_width": null,
            "order": null,
            "_view_module_version": "1.2.0",
            "grid_template_areas": null,
            "object_position": null,
            "object_fit": null,
            "grid_auto_columns": null,
            "margin": null,
            "display": null,
            "left": null
          }
        },
        "65c323cfadc4470aa8805911e73fbcee": {
          "model_module": "@jupyter-widgets/controls",
          "model_name": "DescriptionStyleModel",
          "state": {
            "_view_name": "StyleView",
            "_model_name": "DescriptionStyleModel",
            "description_width": "",
            "_view_module": "@jupyter-widgets/base",
            "_model_module_version": "1.5.0",
            "_view_count": null,
            "_view_module_version": "1.2.0",
            "_model_module": "@jupyter-widgets/controls"
          }
        },
        "502021ba036c421bbe8fa7d8648716b0": {
          "model_module": "@jupyter-widgets/base",
          "model_name": "LayoutModel",
          "state": {
            "_view_name": "LayoutView",
            "grid_template_rows": null,
            "right": null,
            "justify_content": null,
            "_view_module": "@jupyter-widgets/base",
            "overflow": null,
            "_model_module_version": "1.2.0",
            "_view_count": null,
            "flex_flow": null,
            "width": null,
            "min_width": null,
            "border": null,
            "align_items": null,
            "bottom": null,
            "_model_module": "@jupyter-widgets/base",
            "top": null,
            "grid_column": null,
            "overflow_y": null,
            "overflow_x": null,
            "grid_auto_flow": null,
            "grid_area": null,
            "grid_template_columns": null,
            "flex": null,
            "_model_name": "LayoutModel",
            "justify_items": null,
            "grid_row": null,
            "max_height": null,
            "align_content": null,
            "visibility": null,
            "align_self": null,
            "height": null,
            "min_height": null,
            "padding": null,
            "grid_auto_rows": null,
            "grid_gap": null,
            "max_width": null,
            "order": null,
            "_view_module_version": "1.2.0",
            "grid_template_areas": null,
            "object_position": null,
            "object_fit": null,
            "grid_auto_columns": null,
            "margin": null,
            "display": null,
            "left": null
          }
        },
        "c4f65f8418064785b61bf68091d462fc": {
          "model_module": "@jupyter-widgets/controls",
          "model_name": "HBoxModel",
          "state": {
            "_view_name": "HBoxView",
            "_dom_classes": [],
            "_model_name": "HBoxModel",
            "_view_module": "@jupyter-widgets/controls",
            "_model_module_version": "1.5.0",
            "_view_count": null,
            "_view_module_version": "1.5.0",
            "box_style": "",
            "layout": "IPY_MODEL_ee92f6f5814c4c8d84989efbff3e262d",
            "_model_module": "@jupyter-widgets/controls",
            "children": [
              "IPY_MODEL_cb5339a352e640ee9f3439a0965f8952",
              "IPY_MODEL_478a968d6b2a495781f5c7f26ecac4f1"
            ]
          }
        },
        "ee92f6f5814c4c8d84989efbff3e262d": {
          "model_module": "@jupyter-widgets/base",
          "model_name": "LayoutModel",
          "state": {
            "_view_name": "LayoutView",
            "grid_template_rows": null,
            "right": null,
            "justify_content": null,
            "_view_module": "@jupyter-widgets/base",
            "overflow": null,
            "_model_module_version": "1.2.0",
            "_view_count": null,
            "flex_flow": null,
            "width": null,
            "min_width": null,
            "border": null,
            "align_items": null,
            "bottom": null,
            "_model_module": "@jupyter-widgets/base",
            "top": null,
            "grid_column": null,
            "overflow_y": null,
            "overflow_x": null,
            "grid_auto_flow": null,
            "grid_area": null,
            "grid_template_columns": null,
            "flex": null,
            "_model_name": "LayoutModel",
            "justify_items": null,
            "grid_row": null,
            "max_height": null,
            "align_content": null,
            "visibility": null,
            "align_self": null,
            "height": null,
            "min_height": null,
            "padding": null,
            "grid_auto_rows": null,
            "grid_gap": null,
            "max_width": null,
            "order": null,
            "_view_module_version": "1.2.0",
            "grid_template_areas": null,
            "object_position": null,
            "object_fit": null,
            "grid_auto_columns": null,
            "margin": null,
            "display": null,
            "left": null
          }
        },
        "cb5339a352e640ee9f3439a0965f8952": {
          "model_module": "@jupyter-widgets/controls",
          "model_name": "FloatProgressModel",
          "state": {
            "_view_name": "ProgressView",
            "style": "IPY_MODEL_3576d748087645f7b25e8f779f9b70b4",
            "_dom_classes": [],
            "description": "",
            "_model_name": "FloatProgressModel",
            "bar_style": "success",
            "max": 1,
            "_view_module": "@jupyter-widgets/controls",
            "_model_module_version": "1.5.0",
            "value": 1,
            "_view_count": null,
            "_view_module_version": "1.5.0",
            "orientation": "horizontal",
            "min": 0,
            "description_tooltip": null,
            "_model_module": "@jupyter-widgets/controls",
            "layout": "IPY_MODEL_568ff4d60f3040fc875473963595ab5a"
          }
        },
        "478a968d6b2a495781f5c7f26ecac4f1": {
          "model_module": "@jupyter-widgets/controls",
          "model_name": "HTMLModel",
          "state": {
            "_view_name": "HTMLView",
            "style": "IPY_MODEL_53ab531e4bca4161a9481c13fe744aa0",
            "_dom_classes": [],
            "description": "",
            "_model_name": "HTMLModel",
            "placeholder": "​",
            "_view_module": "@jupyter-widgets/controls",
            "_model_module_version": "1.5.0",
            "value": " 32768/? [00:01&lt;00:00, 19535.70it/s]",
            "_view_count": null,
            "_view_module_version": "1.5.0",
            "description_tooltip": null,
            "_model_module": "@jupyter-widgets/controls",
            "layout": "IPY_MODEL_9805845e4f8f4bb1aa6aa61914efa3b9"
          }
        },
        "3576d748087645f7b25e8f779f9b70b4": {
          "model_module": "@jupyter-widgets/controls",
          "model_name": "ProgressStyleModel",
          "state": {
            "_view_name": "StyleView",
            "_model_name": "ProgressStyleModel",
            "description_width": "initial",
            "_view_module": "@jupyter-widgets/base",
            "_model_module_version": "1.5.0",
            "_view_count": null,
            "_view_module_version": "1.2.0",
            "bar_color": null,
            "_model_module": "@jupyter-widgets/controls"
          }
        },
        "568ff4d60f3040fc875473963595ab5a": {
          "model_module": "@jupyter-widgets/base",
          "model_name": "LayoutModel",
          "state": {
            "_view_name": "LayoutView",
            "grid_template_rows": null,
            "right": null,
            "justify_content": null,
            "_view_module": "@jupyter-widgets/base",
            "overflow": null,
            "_model_module_version": "1.2.0",
            "_view_count": null,
            "flex_flow": null,
            "width": null,
            "min_width": null,
            "border": null,
            "align_items": null,
            "bottom": null,
            "_model_module": "@jupyter-widgets/base",
            "top": null,
            "grid_column": null,
            "overflow_y": null,
            "overflow_x": null,
            "grid_auto_flow": null,
            "grid_area": null,
            "grid_template_columns": null,
            "flex": null,
            "_model_name": "LayoutModel",
            "justify_items": null,
            "grid_row": null,
            "max_height": null,
            "align_content": null,
            "visibility": null,
            "align_self": null,
            "height": null,
            "min_height": null,
            "padding": null,
            "grid_auto_rows": null,
            "grid_gap": null,
            "max_width": null,
            "order": null,
            "_view_module_version": "1.2.0",
            "grid_template_areas": null,
            "object_position": null,
            "object_fit": null,
            "grid_auto_columns": null,
            "margin": null,
            "display": null,
            "left": null
          }
        },
        "53ab531e4bca4161a9481c13fe744aa0": {
          "model_module": "@jupyter-widgets/controls",
          "model_name": "DescriptionStyleModel",
          "state": {
            "_view_name": "StyleView",
            "_model_name": "DescriptionStyleModel",
            "description_width": "",
            "_view_module": "@jupyter-widgets/base",
            "_model_module_version": "1.5.0",
            "_view_count": null,
            "_view_module_version": "1.2.0",
            "_model_module": "@jupyter-widgets/controls"
          }
        },
        "9805845e4f8f4bb1aa6aa61914efa3b9": {
          "model_module": "@jupyter-widgets/base",
          "model_name": "LayoutModel",
          "state": {
            "_view_name": "LayoutView",
            "grid_template_rows": null,
            "right": null,
            "justify_content": null,
            "_view_module": "@jupyter-widgets/base",
            "overflow": null,
            "_model_module_version": "1.2.0",
            "_view_count": null,
            "flex_flow": null,
            "width": null,
            "min_width": null,
            "border": null,
            "align_items": null,
            "bottom": null,
            "_model_module": "@jupyter-widgets/base",
            "top": null,
            "grid_column": null,
            "overflow_y": null,
            "overflow_x": null,
            "grid_auto_flow": null,
            "grid_area": null,
            "grid_template_columns": null,
            "flex": null,
            "_model_name": "LayoutModel",
            "justify_items": null,
            "grid_row": null,
            "max_height": null,
            "align_content": null,
            "visibility": null,
            "align_self": null,
            "height": null,
            "min_height": null,
            "padding": null,
            "grid_auto_rows": null,
            "grid_gap": null,
            "max_width": null,
            "order": null,
            "_view_module_version": "1.2.0",
            "grid_template_areas": null,
            "object_position": null,
            "object_fit": null,
            "grid_auto_columns": null,
            "margin": null,
            "display": null,
            "left": null
          }
        },
        "101e5af3363d46efa9f2abbd2b670d77": {
          "model_module": "@jupyter-widgets/controls",
          "model_name": "HBoxModel",
          "state": {
            "_view_name": "HBoxView",
            "_dom_classes": [],
            "_model_name": "HBoxModel",
            "_view_module": "@jupyter-widgets/controls",
            "_model_module_version": "1.5.0",
            "_view_count": null,
            "_view_module_version": "1.5.0",
            "box_style": "",
            "layout": "IPY_MODEL_4e8e1a0047c14a12bcfdbb40fa2ef8d7",
            "_model_module": "@jupyter-widgets/controls",
            "children": [
              "IPY_MODEL_beb7eac70a8d4a928b5565c2a74289fb",
              "IPY_MODEL_2fe0d3b38c444e2dabf97200622a52cb"
            ]
          }
        },
        "4e8e1a0047c14a12bcfdbb40fa2ef8d7": {
          "model_module": "@jupyter-widgets/base",
          "model_name": "LayoutModel",
          "state": {
            "_view_name": "LayoutView",
            "grid_template_rows": null,
            "right": null,
            "justify_content": null,
            "_view_module": "@jupyter-widgets/base",
            "overflow": null,
            "_model_module_version": "1.2.0",
            "_view_count": null,
            "flex_flow": null,
            "width": null,
            "min_width": null,
            "border": null,
            "align_items": null,
            "bottom": null,
            "_model_module": "@jupyter-widgets/base",
            "top": null,
            "grid_column": null,
            "overflow_y": null,
            "overflow_x": null,
            "grid_auto_flow": null,
            "grid_area": null,
            "grid_template_columns": null,
            "flex": null,
            "_model_name": "LayoutModel",
            "justify_items": null,
            "grid_row": null,
            "max_height": null,
            "align_content": null,
            "visibility": null,
            "align_self": null,
            "height": null,
            "min_height": null,
            "padding": null,
            "grid_auto_rows": null,
            "grid_gap": null,
            "max_width": null,
            "order": null,
            "_view_module_version": "1.2.0",
            "grid_template_areas": null,
            "object_position": null,
            "object_fit": null,
            "grid_auto_columns": null,
            "margin": null,
            "display": null,
            "left": null
          }
        },
        "beb7eac70a8d4a928b5565c2a74289fb": {
          "model_module": "@jupyter-widgets/controls",
          "model_name": "FloatProgressModel",
          "state": {
            "_view_name": "ProgressView",
            "style": "IPY_MODEL_9fe6e2c30862406db2b6ca08f1d48e64",
            "_dom_classes": [],
            "description": "",
            "_model_name": "FloatProgressModel",
            "bar_style": "success",
            "max": 1,
            "_view_module": "@jupyter-widgets/controls",
            "_model_module_version": "1.5.0",
            "value": 1,
            "_view_count": null,
            "_view_module_version": "1.5.0",
            "orientation": "horizontal",
            "min": 0,
            "description_tooltip": null,
            "_model_module": "@jupyter-widgets/controls",
            "layout": "IPY_MODEL_58edac9b2d1c4ae8b9932bdb326b44ab"
          }
        },
        "2fe0d3b38c444e2dabf97200622a52cb": {
          "model_module": "@jupyter-widgets/controls",
          "model_name": "HTMLModel",
          "state": {
            "_view_name": "HTMLView",
            "style": "IPY_MODEL_21bce81c299f4ab5ba2b213715de129d",
            "_dom_classes": [],
            "description": "",
            "_model_name": "HTMLModel",
            "placeholder": "​",
            "_view_module": "@jupyter-widgets/controls",
            "_model_module_version": "1.5.0",
            "value": " 1654784/? [00:00&lt;00:00, 1657086.92it/s]",
            "_view_count": null,
            "_view_module_version": "1.5.0",
            "description_tooltip": null,
            "_model_module": "@jupyter-widgets/controls",
            "layout": "IPY_MODEL_482de32533684ceeb05796006ef7fc1e"
          }
        },
        "9fe6e2c30862406db2b6ca08f1d48e64": {
          "model_module": "@jupyter-widgets/controls",
          "model_name": "ProgressStyleModel",
          "state": {
            "_view_name": "StyleView",
            "_model_name": "ProgressStyleModel",
            "description_width": "initial",
            "_view_module": "@jupyter-widgets/base",
            "_model_module_version": "1.5.0",
            "_view_count": null,
            "_view_module_version": "1.2.0",
            "bar_color": null,
            "_model_module": "@jupyter-widgets/controls"
          }
        },
        "58edac9b2d1c4ae8b9932bdb326b44ab": {
          "model_module": "@jupyter-widgets/base",
          "model_name": "LayoutModel",
          "state": {
            "_view_name": "LayoutView",
            "grid_template_rows": null,
            "right": null,
            "justify_content": null,
            "_view_module": "@jupyter-widgets/base",
            "overflow": null,
            "_model_module_version": "1.2.0",
            "_view_count": null,
            "flex_flow": null,
            "width": null,
            "min_width": null,
            "border": null,
            "align_items": null,
            "bottom": null,
            "_model_module": "@jupyter-widgets/base",
            "top": null,
            "grid_column": null,
            "overflow_y": null,
            "overflow_x": null,
            "grid_auto_flow": null,
            "grid_area": null,
            "grid_template_columns": null,
            "flex": null,
            "_model_name": "LayoutModel",
            "justify_items": null,
            "grid_row": null,
            "max_height": null,
            "align_content": null,
            "visibility": null,
            "align_self": null,
            "height": null,
            "min_height": null,
            "padding": null,
            "grid_auto_rows": null,
            "grid_gap": null,
            "max_width": null,
            "order": null,
            "_view_module_version": "1.2.0",
            "grid_template_areas": null,
            "object_position": null,
            "object_fit": null,
            "grid_auto_columns": null,
            "margin": null,
            "display": null,
            "left": null
          }
        },
        "21bce81c299f4ab5ba2b213715de129d": {
          "model_module": "@jupyter-widgets/controls",
          "model_name": "DescriptionStyleModel",
          "state": {
            "_view_name": "StyleView",
            "_model_name": "DescriptionStyleModel",
            "description_width": "",
            "_view_module": "@jupyter-widgets/base",
            "_model_module_version": "1.5.0",
            "_view_count": null,
            "_view_module_version": "1.2.0",
            "_model_module": "@jupyter-widgets/controls"
          }
        },
        "482de32533684ceeb05796006ef7fc1e": {
          "model_module": "@jupyter-widgets/base",
          "model_name": "LayoutModel",
          "state": {
            "_view_name": "LayoutView",
            "grid_template_rows": null,
            "right": null,
            "justify_content": null,
            "_view_module": "@jupyter-widgets/base",
            "overflow": null,
            "_model_module_version": "1.2.0",
            "_view_count": null,
            "flex_flow": null,
            "width": null,
            "min_width": null,
            "border": null,
            "align_items": null,
            "bottom": null,
            "_model_module": "@jupyter-widgets/base",
            "top": null,
            "grid_column": null,
            "overflow_y": null,
            "overflow_x": null,
            "grid_auto_flow": null,
            "grid_area": null,
            "grid_template_columns": null,
            "flex": null,
            "_model_name": "LayoutModel",
            "justify_items": null,
            "grid_row": null,
            "max_height": null,
            "align_content": null,
            "visibility": null,
            "align_self": null,
            "height": null,
            "min_height": null,
            "padding": null,
            "grid_auto_rows": null,
            "grid_gap": null,
            "max_width": null,
            "order": null,
            "_view_module_version": "1.2.0",
            "grid_template_areas": null,
            "object_position": null,
            "object_fit": null,
            "grid_auto_columns": null,
            "margin": null,
            "display": null,
            "left": null
          }
        },
        "c446c24a8e6e4a56aecf41011b4ca05e": {
          "model_module": "@jupyter-widgets/controls",
          "model_name": "HBoxModel",
          "state": {
            "_view_name": "HBoxView",
            "_dom_classes": [],
            "_model_name": "HBoxModel",
            "_view_module": "@jupyter-widgets/controls",
            "_model_module_version": "1.5.0",
            "_view_count": null,
            "_view_module_version": "1.5.0",
            "box_style": "",
            "layout": "IPY_MODEL_2cb09781e1d8492ca144ece72f239328",
            "_model_module": "@jupyter-widgets/controls",
            "children": [
              "IPY_MODEL_eb3143c7f311440f8c675b62f1a340db",
              "IPY_MODEL_0785c61b9e9845b9a285ee0c3dc77db8"
            ]
          }
        },
        "2cb09781e1d8492ca144ece72f239328": {
          "model_module": "@jupyter-widgets/base",
          "model_name": "LayoutModel",
          "state": {
            "_view_name": "LayoutView",
            "grid_template_rows": null,
            "right": null,
            "justify_content": null,
            "_view_module": "@jupyter-widgets/base",
            "overflow": null,
            "_model_module_version": "1.2.0",
            "_view_count": null,
            "flex_flow": null,
            "width": null,
            "min_width": null,
            "border": null,
            "align_items": null,
            "bottom": null,
            "_model_module": "@jupyter-widgets/base",
            "top": null,
            "grid_column": null,
            "overflow_y": null,
            "overflow_x": null,
            "grid_auto_flow": null,
            "grid_area": null,
            "grid_template_columns": null,
            "flex": null,
            "_model_name": "LayoutModel",
            "justify_items": null,
            "grid_row": null,
            "max_height": null,
            "align_content": null,
            "visibility": null,
            "align_self": null,
            "height": null,
            "min_height": null,
            "padding": null,
            "grid_auto_rows": null,
            "grid_gap": null,
            "max_width": null,
            "order": null,
            "_view_module_version": "1.2.0",
            "grid_template_areas": null,
            "object_position": null,
            "object_fit": null,
            "grid_auto_columns": null,
            "margin": null,
            "display": null,
            "left": null
          }
        },
        "eb3143c7f311440f8c675b62f1a340db": {
          "model_module": "@jupyter-widgets/controls",
          "model_name": "FloatProgressModel",
          "state": {
            "_view_name": "ProgressView",
            "style": "IPY_MODEL_d7fca899bd2149a1b23d3cf936e5d5e7",
            "_dom_classes": [],
            "description": "",
            "_model_name": "FloatProgressModel",
            "bar_style": "success",
            "max": 1,
            "_view_module": "@jupyter-widgets/controls",
            "_model_module_version": "1.5.0",
            "value": 1,
            "_view_count": null,
            "_view_module_version": "1.5.0",
            "orientation": "horizontal",
            "min": 0,
            "description_tooltip": null,
            "_model_module": "@jupyter-widgets/controls",
            "layout": "IPY_MODEL_2f405188dd454d76a187229d109dc433"
          }
        },
        "0785c61b9e9845b9a285ee0c3dc77db8": {
          "model_module": "@jupyter-widgets/controls",
          "model_name": "HTMLModel",
          "state": {
            "_view_name": "HTMLView",
            "style": "IPY_MODEL_062a9a47c81346a39f7b0a1cbded3589",
            "_dom_classes": [],
            "description": "",
            "_model_name": "HTMLModel",
            "placeholder": "​",
            "_view_module": "@jupyter-widgets/controls",
            "_model_module_version": "1.5.0",
            "value": " 8192/? [00:00&lt;00:00, 11290.95it/s]",
            "_view_count": null,
            "_view_module_version": "1.5.0",
            "description_tooltip": null,
            "_model_module": "@jupyter-widgets/controls",
            "layout": "IPY_MODEL_5d190926df93477ca3002dceb15a1cdb"
          }
        },
        "d7fca899bd2149a1b23d3cf936e5d5e7": {
          "model_module": "@jupyter-widgets/controls",
          "model_name": "ProgressStyleModel",
          "state": {
            "_view_name": "StyleView",
            "_model_name": "ProgressStyleModel",
            "description_width": "initial",
            "_view_module": "@jupyter-widgets/base",
            "_model_module_version": "1.5.0",
            "_view_count": null,
            "_view_module_version": "1.2.0",
            "bar_color": null,
            "_model_module": "@jupyter-widgets/controls"
          }
        },
        "2f405188dd454d76a187229d109dc433": {
          "model_module": "@jupyter-widgets/base",
          "model_name": "LayoutModel",
          "state": {
            "_view_name": "LayoutView",
            "grid_template_rows": null,
            "right": null,
            "justify_content": null,
            "_view_module": "@jupyter-widgets/base",
            "overflow": null,
            "_model_module_version": "1.2.0",
            "_view_count": null,
            "flex_flow": null,
            "width": null,
            "min_width": null,
            "border": null,
            "align_items": null,
            "bottom": null,
            "_model_module": "@jupyter-widgets/base",
            "top": null,
            "grid_column": null,
            "overflow_y": null,
            "overflow_x": null,
            "grid_auto_flow": null,
            "grid_area": null,
            "grid_template_columns": null,
            "flex": null,
            "_model_name": "LayoutModel",
            "justify_items": null,
            "grid_row": null,
            "max_height": null,
            "align_content": null,
            "visibility": null,
            "align_self": null,
            "height": null,
            "min_height": null,
            "padding": null,
            "grid_auto_rows": null,
            "grid_gap": null,
            "max_width": null,
            "order": null,
            "_view_module_version": "1.2.0",
            "grid_template_areas": null,
            "object_position": null,
            "object_fit": null,
            "grid_auto_columns": null,
            "margin": null,
            "display": null,
            "left": null
          }
        },
        "062a9a47c81346a39f7b0a1cbded3589": {
          "model_module": "@jupyter-widgets/controls",
          "model_name": "DescriptionStyleModel",
          "state": {
            "_view_name": "StyleView",
            "_model_name": "DescriptionStyleModel",
            "description_width": "",
            "_view_module": "@jupyter-widgets/base",
            "_model_module_version": "1.5.0",
            "_view_count": null,
            "_view_module_version": "1.2.0",
            "_model_module": "@jupyter-widgets/controls"
          }
        },
        "5d190926df93477ca3002dceb15a1cdb": {
          "model_module": "@jupyter-widgets/base",
          "model_name": "LayoutModel",
          "state": {
            "_view_name": "LayoutView",
            "grid_template_rows": null,
            "right": null,
            "justify_content": null,
            "_view_module": "@jupyter-widgets/base",
            "overflow": null,
            "_model_module_version": "1.2.0",
            "_view_count": null,
            "flex_flow": null,
            "width": null,
            "min_width": null,
            "border": null,
            "align_items": null,
            "bottom": null,
            "_model_module": "@jupyter-widgets/base",
            "top": null,
            "grid_column": null,
            "overflow_y": null,
            "overflow_x": null,
            "grid_auto_flow": null,
            "grid_area": null,
            "grid_template_columns": null,
            "flex": null,
            "_model_name": "LayoutModel",
            "justify_items": null,
            "grid_row": null,
            "max_height": null,
            "align_content": null,
            "visibility": null,
            "align_self": null,
            "height": null,
            "min_height": null,
            "padding": null,
            "grid_auto_rows": null,
            "grid_gap": null,
            "max_width": null,
            "order": null,
            "_view_module_version": "1.2.0",
            "grid_template_areas": null,
            "object_position": null,
            "object_fit": null,
            "grid_auto_columns": null,
            "margin": null,
            "display": null,
            "left": null
          }
        }
      }
    }
  },
  "cells": [
    {
      "cell_type": "markdown",
      "metadata": {
        "id": "ytlRR9PggzcW",
        "colab_type": "text"
      },
      "source": [
        "Deep Learning Models -- A collection of various deep learning architectures, models, and tips for TensorFlow and PyTorch in Jupyter Notebooks.\n",
        "- Author: Sebastian Raschka\n",
        "- GitHub Repository: https://github.com/rasbt/deeplearning-models"
      ]
    },
    {
      "cell_type": "code",
      "metadata": {
        "id": "fBsqxqTWg4IZ",
        "colab_type": "code",
        "colab": {}
      },
      "source": [
        "!pip install -q IPython\n",
        "!pip install -q ipykernel\n",
        "!pip install -q watermark\n",
        "!pip install -q matplotlib\n",
        "!pip install -q sklearn\n",
        "!pip install -q pandas\n",
        "!pip install -q pydot\n",
        "!pip install -q hiddenlayer\n",
        "!pip install -q graphviz"
      ],
      "execution_count": 1,
      "outputs": []
    },
    {
      "cell_type": "code",
      "metadata": {
        "id": "hqi8NBepgzcX",
        "colab_type": "code",
        "colab": {
          "base_uri": "https://localhost:8080/",
          "height": 121
        },
        "outputId": "12740e47-464c-4cb1-9669-8f894bf0a04f"
      },
      "source": [
        "%load_ext watermark\n",
        "%watermark -a 'Sebastian Raschka' -v -p torch"
      ],
      "execution_count": 2,
      "outputs": [
        {
          "output_type": "stream",
          "text": [
            "Sebastian Raschka \n",
            "\n",
            "CPython 3.6.9\n",
            "IPython 5.5.0\n",
            "\n",
            "torch 1.5.1+cu101\n"
          ],
          "name": "stdout"
        }
      ]
    },
    {
      "cell_type": "markdown",
      "metadata": {
        "id": "tuI2Whw9gzcb",
        "colab_type": "text"
      },
      "source": [
        "- Runs on CPU or GPU (if available)"
      ]
    },
    {
      "cell_type": "markdown",
      "metadata": {
        "id": "BVeM3Vzngzcc",
        "colab_type": "text"
      },
      "source": [
        "# Most Basic Graph Neural Network with Gaussian Filter on MNIST"
      ]
    },
    {
      "cell_type": "markdown",
      "metadata": {
        "id": "gNc64y-igzcc",
        "colab_type": "text"
      },
      "source": [
        "Implementing a very basic graph neural network (GNN) using a Gaussian filter. \n",
        "\n",
        "Here, the 28x28 image of a digit in MNIST represents the graph, where each pixel (i.e., cell in the grid) represents a particular node. The feature of that node is simply the pixel intensity in range [0, 1]. \n",
        "\n",
        "Here, the adjacency matrix of the pixels is basically just determined by their neighborhood pixels. Using a Gaussian filter, we connect pixels based on their Euclidean distance in the grid.\n",
        "\n",
        "Using this adjacency matrix $A$, we can compute the output of a layer as \n",
        "\n",
        "$$X^{(l+1)}=A X^{(l)} W^{(l)}.$$\n",
        "\n",
        "Here, $A$ is the $N \\times N$ adjacency matrix, and $X$ is the $N \\times C$ feature matrix (a  2D coordinate array, where $N$ is the total number of pixels -- $28 \\times 28 = 784$ in MNIST). $W$ is the weight matrix of shape $N \\times P$, where $P$ would represent the number of classes if we have only a single hidden layer.\n",
        "\n",
        "\n",
        "\n",
        "- Inspired by and based on Boris Knyazev's tutorial at https://medium.com/@BorisAKnyazev/tutorial-on-graph-neural-networks-for-computer-vision-and-beyond-part-1-3d9fada3b80d."
      ]
    },
    {
      "cell_type": "markdown",
      "metadata": {
        "id": "ZCAse0bXgzcd",
        "colab_type": "text"
      },
      "source": [
        "## Imports"
      ]
    },
    {
      "cell_type": "code",
      "metadata": {
        "id": "bftLyW_Ogzcd",
        "colab_type": "code",
        "colab": {}
      },
      "source": [
        "import time\n",
        "import numpy as np\n",
        "from scipy.spatial.distance import cdist\n",
        "import torch\n",
        "import torch.nn as nn\n",
        "import torch.nn.functional as F\n",
        "from torchvision import datasets\n",
        "from torchvision import transforms\n",
        "from torch.utils.data import DataLoader\n",
        "from torch.utils.data.dataset import Subset\n",
        "\n",
        "\n",
        "if torch.cuda.is_available():\n",
        "    torch.backends.cudnn.deterministic = True"
      ],
      "execution_count": 3,
      "outputs": []
    },
    {
      "cell_type": "code",
      "metadata": {
        "id": "u0-P1wBTgzcg",
        "colab_type": "code",
        "colab": {}
      },
      "source": [
        "%matplotlib inline\n",
        "import matplotlib.pyplot as plt"
      ],
      "execution_count": 4,
      "outputs": []
    },
    {
      "cell_type": "markdown",
      "metadata": {
        "id": "bH7QFlT5gzci",
        "colab_type": "text"
      },
      "source": [
        "## Settings and Dataset"
      ]
    },
    {
      "cell_type": "code",
      "metadata": {
        "id": "L4diEfrNgzci",
        "colab_type": "code",
        "colab": {}
      },
      "source": [
        "##########################\n",
        "### SETTINGS\n",
        "##########################\n",
        "\n",
        "# Device\n",
        "DEVICE = torch.device(\"cuda\" if torch.cuda.is_available() else \"cpu\")\n",
        "\n",
        "# Hyperparameters\n",
        "RANDOM_SEED = 1\n",
        "LEARNING_RATE = 0.05\n",
        "NUM_EPOCHS = 20\n",
        "BATCH_SIZE = 128\n",
        "IMG_SIZE = 28\n",
        "\n",
        "# Architecture\n",
        "NUM_CLASSES = 10"
      ],
      "execution_count": 5,
      "outputs": []
    },
    {
      "cell_type": "markdown",
      "metadata": {
        "id": "sfurloA6gzcl",
        "colab_type": "text"
      },
      "source": [
        "## MNIST Dataset"
      ]
    },
    {
      "cell_type": "code",
      "metadata": {
        "id": "QwS08vrUgzcl",
        "colab_type": "code",
        "colab": {
          "base_uri": "https://localhost:8080/",
          "height": 424,
          "referenced_widgets": [
            "5de85fbdb36e4d4ab4139ec79d1f9ee6",
            "03db9b100d8d442ea59fdf309f0fd8dd",
            "9de989fa2066499999c9896765e06da6",
            "f23fcbf3decd4e92a232636ca058f66c",
            "5113ba0ed98d4cad9b938cccffb8e7b0",
            "2c378adbdfd34c0db55e7ff8d8dc4fb1",
            "65c323cfadc4470aa8805911e73fbcee",
            "502021ba036c421bbe8fa7d8648716b0",
            "c4f65f8418064785b61bf68091d462fc",
            "ee92f6f5814c4c8d84989efbff3e262d",
            "cb5339a352e640ee9f3439a0965f8952",
            "478a968d6b2a495781f5c7f26ecac4f1",
            "3576d748087645f7b25e8f779f9b70b4",
            "568ff4d60f3040fc875473963595ab5a",
            "53ab531e4bca4161a9481c13fe744aa0",
            "9805845e4f8f4bb1aa6aa61914efa3b9",
            "101e5af3363d46efa9f2abbd2b670d77",
            "4e8e1a0047c14a12bcfdbb40fa2ef8d7",
            "beb7eac70a8d4a928b5565c2a74289fb",
            "2fe0d3b38c444e2dabf97200622a52cb",
            "9fe6e2c30862406db2b6ca08f1d48e64",
            "58edac9b2d1c4ae8b9932bdb326b44ab",
            "21bce81c299f4ab5ba2b213715de129d",
            "482de32533684ceeb05796006ef7fc1e",
            "c446c24a8e6e4a56aecf41011b4ca05e",
            "2cb09781e1d8492ca144ece72f239328",
            "eb3143c7f311440f8c675b62f1a340db",
            "0785c61b9e9845b9a285ee0c3dc77db8",
            "d7fca899bd2149a1b23d3cf936e5d5e7",
            "2f405188dd454d76a187229d109dc433",
            "062a9a47c81346a39f7b0a1cbded3589",
            "5d190926df93477ca3002dceb15a1cdb"
          ]
        },
        "outputId": "39a9ae4b-3f08-46ab-bda1-cc5b6a39caa9"
      },
      "source": [
        "train_indices = torch.arange(0, 59000)\n",
        "valid_indices = torch.arange(59000, 60000)\n",
        "\n",
        "custom_transform = transforms.Compose([transforms.ToTensor()])\n",
        "\n",
        "\n",
        "train_and_valid = datasets.MNIST(root='data', \n",
        "                                 train=True, \n",
        "                                 transform=custom_transform,\n",
        "                                 download=True)\n",
        "\n",
        "test_dataset = datasets.MNIST(root='data', \n",
        "                              train=False, \n",
        "                              transform=custom_transform,\n",
        "                              download=True)\n",
        "\n",
        "train_dataset = Subset(train_and_valid, train_indices)\n",
        "valid_dataset = Subset(train_and_valid, valid_indices)\n",
        "\n",
        "train_loader = DataLoader(dataset=train_dataset, \n",
        "                          batch_size=BATCH_SIZE,\n",
        "                          num_workers=4,\n",
        "                          shuffle=True)\n",
        "\n",
        "valid_loader = DataLoader(dataset=valid_dataset, \n",
        "                          batch_size=BATCH_SIZE,\n",
        "                          num_workers=4,\n",
        "                          shuffle=False)\n",
        "\n",
        "test_loader = DataLoader(dataset=test_dataset, \n",
        "                         batch_size=BATCH_SIZE,\n",
        "                         num_workers=4,\n",
        "                         shuffle=False)\n",
        "\n",
        "# Checking the dataset\n",
        "for images, labels in train_loader:  \n",
        "    print('Image batch dimensions:', images.shape)\n",
        "    print('Image label dimensions:', labels.shape)\n",
        "    break"
      ],
      "execution_count": 6,
      "outputs": [
        {
          "output_type": "stream",
          "text": [
            "Downloading http://yann.lecun.com/exdb/mnist/train-images-idx3-ubyte.gz to data/MNIST/raw/train-images-idx3-ubyte.gz\n"
          ],
          "name": "stdout"
        },
        {
          "output_type": "display_data",
          "data": {
            "application/vnd.jupyter.widget-view+json": {
              "model_id": "5de85fbdb36e4d4ab4139ec79d1f9ee6",
              "version_minor": 0,
              "version_major": 2
            },
            "text/plain": [
              "HBox(children=(FloatProgress(value=1.0, bar_style='info', max=1.0), HTML(value='')))"
            ]
          },
          "metadata": {
            "tags": []
          }
        },
        {
          "output_type": "stream",
          "text": [
            "Extracting data/MNIST/raw/train-images-idx3-ubyte.gz to data/MNIST/raw\n",
            "Downloading http://yann.lecun.com/exdb/mnist/train-labels-idx1-ubyte.gz to data/MNIST/raw/train-labels-idx1-ubyte.gz\n"
          ],
          "name": "stdout"
        },
        {
          "output_type": "display_data",
          "data": {
            "application/vnd.jupyter.widget-view+json": {
              "model_id": "c4f65f8418064785b61bf68091d462fc",
              "version_minor": 0,
              "version_major": 2
            },
            "text/plain": [
              "HBox(children=(FloatProgress(value=1.0, bar_style='info', max=1.0), HTML(value='')))"
            ]
          },
          "metadata": {
            "tags": []
          }
        },
        {
          "output_type": "stream",
          "text": [
            "Extracting data/MNIST/raw/train-labels-idx1-ubyte.gz to data/MNIST/raw\n",
            "Downloading http://yann.lecun.com/exdb/mnist/t10k-images-idx3-ubyte.gz to data/MNIST/raw/t10k-images-idx3-ubyte.gz\n"
          ],
          "name": "stdout"
        },
        {
          "output_type": "display_data",
          "data": {
            "application/vnd.jupyter.widget-view+json": {
              "model_id": "101e5af3363d46efa9f2abbd2b670d77",
              "version_minor": 0,
              "version_major": 2
            },
            "text/plain": [
              "HBox(children=(FloatProgress(value=1.0, bar_style='info', max=1.0), HTML(value='')))"
            ]
          },
          "metadata": {
            "tags": []
          }
        },
        {
          "output_type": "stream",
          "text": [
            "Extracting data/MNIST/raw/t10k-images-idx3-ubyte.gz to data/MNIST/raw\n",
            "Downloading http://yann.lecun.com/exdb/mnist/t10k-labels-idx1-ubyte.gz to data/MNIST/raw/t10k-labels-idx1-ubyte.gz\n"
          ],
          "name": "stdout"
        },
        {
          "output_type": "display_data",
          "data": {
            "application/vnd.jupyter.widget-view+json": {
              "model_id": "c446c24a8e6e4a56aecf41011b4ca05e",
              "version_minor": 0,
              "version_major": 2
            },
            "text/plain": [
              "HBox(children=(FloatProgress(value=1.0, bar_style='info', max=1.0), HTML(value='')))"
            ]
          },
          "metadata": {
            "tags": []
          }
        },
        {
          "output_type": "stream",
          "text": [
            "Extracting data/MNIST/raw/t10k-labels-idx1-ubyte.gz to data/MNIST/raw\n",
            "Processing...\n",
            "Done!\n",
            "\n",
            "\n"
          ],
          "name": "stdout"
        },
        {
          "output_type": "stream",
          "text": [
            "/pytorch/torch/csrc/utils/tensor_numpy.cpp:141: UserWarning: The given NumPy array is not writeable, and PyTorch does not support non-writeable tensors. This means you can write to the underlying (supposedly non-writeable) NumPy array using the tensor. You may want to copy the array to protect its data or make it writeable before converting it to a tensor. This type of warning will be suppressed for the rest of this program.\n"
          ],
          "name": "stderr"
        },
        {
          "output_type": "stream",
          "text": [
            "Image batch dimensions: torch.Size([128, 1, 28, 28])\n",
            "Image label dimensions: torch.Size([128])\n"
          ],
          "name": "stdout"
        }
      ]
    },
    {
      "cell_type": "markdown",
      "metadata": {
        "id": "mHMkmyPDgzco",
        "colab_type": "text"
      },
      "source": [
        "## Model"
      ]
    },
    {
      "cell_type": "code",
      "metadata": {
        "id": "ASSfbiRzgzco",
        "colab_type": "code",
        "colab": {}
      },
      "source": [
        "def precompute_adjacency_matrix(img_size):\n",
        "    col, row = np.meshgrid(np.arange(img_size), np.arange(img_size))\n",
        "    \n",
        "    # N = img_size^2\n",
        "    # construct 2D coordinate array (shape N x 2) and normalize\n",
        "    # in range [0, 1]\n",
        "    coord = np.stack((col, row), axis=2).reshape(-1, 2) / img_size\n",
        "\n",
        "    # compute pairwise distance matrix (N x N)\n",
        "    dist = cdist(coord, coord, metric='euclidean')\n",
        "    \n",
        "    # Apply Gaussian filter\n",
        "    sigma = 0.05 * np.pi\n",
        "    A = np.exp(- dist / sigma ** 2)\n",
        "    A[A < 0.01] = 0\n",
        "    A = torch.from_numpy(A).float()\n",
        "\n",
        "    # Normalization as per (Kipf & Welling, ICLR 2017)\n",
        "    D = A.sum(1)  # nodes degree (N,)\n",
        "    D_hat = (D + 1e-5) ** (-0.5)\n",
        "    A_hat = D_hat.view(-1, 1) * A * D_hat.view(1, -1)  # N,N\n",
        "    \n",
        "    return A_hat"
      ],
      "execution_count": 7,
      "outputs": []
    },
    {
      "cell_type": "code",
      "metadata": {
        "id": "REtoDFYRgzcs",
        "colab_type": "code",
        "colab": {
          "base_uri": "https://localhost:8080/",
          "height": 304
        },
        "outputId": "070f1910-dc0f-4fd4-9f38-501c5d3ffb63"
      },
      "source": [
        "plt.imshow(precompute_adjacency_matrix(28));"
      ],
      "execution_count": 8,
      "outputs": [
        {
          "output_type": "display_data",
          "data": {
            "image/png": "[encoded data removed]",
            "text/plain": [
              "<Figure size 432x288 with 1 Axes>"
            ]
          },
          "metadata": {
            "tags": [],
            "needs_background": "light"
          }
        },
        {
          "output_type": "stream",
          "text": [
            "\n",
            "\n"
          ],
          "name": "stdout"
        }
      ]
    },
    {
      "cell_type": "code",
      "metadata": {
        "id": "bkznEufcgzcu",
        "colab_type": "code",
        "colab": {}
      },
      "source": [
        "##########################\n",
        "### MODEL\n",
        "##########################\n",
        "\n",
        "        \n",
        "\n",
        "class GraphNet(nn.Module):\n",
        "    def __init__(self, img_size=28, num_classes=10):\n",
        "        super(GraphNet, self).__init__()\n",
        "        \n",
        "        n_rows = img_size**2\n",
        "        self.fc = nn.Linear(n_rows, num_classes, bias=False)\n",
        "\n",
        "        A = precompute_adjacency_matrix(img_size)\n",
        "        self.register_buffer('A', A)\n",
        "\n",
        "        \n",
        "\n",
        "    def forward(self, x):\n",
        "        \n",
        "        B = x.size(0) # Batch size\n",
        "\n",
        "        ### Reshape Adjacency Matrix\n",
        "        # [N, N] Adj. matrix -> [1, N, N] Adj tensor where N = HxW\n",
        "        A_tensor = self.A.unsqueeze(0)\n",
        "        # [1, N, N] Adj tensor -> [B, N, N] tensor\n",
        "        A_tensor = self.A.expand(B, -1, -1)\n",
        "        \n",
        "        ### Reshape inputs\n",
        "        # [B, C, H, W] => [B, H*W, 1]\n",
        "        x_reshape = x.view(B, -1, 1)\n",
        "        \n",
        "        # bmm = batch matrix product to sum the neighbor features\n",
        "        # Input: [B, N, N] x [B, N, 1]\n",
        "        # Output: [B, N]\n",
        "        avg_neighbor_features = (torch.bmm(A_tensor, x_reshape).view(B, -1))\n",
        "        \n",
        "        logits = self.fc(avg_neighbor_features)\n",
        "        probas = F.softmax(logits, dim=1)\n",
        "        return logits, probas"
      ],
      "execution_count": 9,
      "outputs": []
    },
    {
      "cell_type": "code",
      "metadata": {
        "id": "rRFbFWlkgzcw",
        "colab_type": "code",
        "colab": {}
      },
      "source": [
        "torch.manual_seed(RANDOM_SEED)\n",
        "model = GraphNet(img_size=IMG_SIZE, num_classes=NUM_CLASSES)\n",
        "\n",
        "model = model.to(DEVICE)\n",
        "\n",
        "optimizer = torch.optim.SGD(model.parameters(), lr=LEARNING_RATE)  "
      ],
      "execution_count": 10,
      "outputs": []
    },
    {
      "cell_type": "code",
      "metadata": {
        "id": "nTRExg4UhARX",
        "colab_type": "code",
        "colab": {
          "base_uri": "https://localhost:8080/",
          "height": 689
        },
        "outputId": "5d1f01a5-8c29-42ae-8f7b-1d93eb536a70"
      },
      "source": [
        "import hiddenlayer as hl\n",
        "hl.build_graph(model, torch.zeros([128, 1, 28, 28]).to(DEVICE))"
      ],
      "execution_count": 11,
      "outputs": [
        {
          "output_type": "execute_result",
          "data": {
            "text/plain": [
              "<hiddenlayer.graph.Graph at 0x7f03ca43ff60>"
            ],
            "image/svg+xml": "<?xml version=\"1.0\" encoding=\"UTF-8\" standalone=\"no\"?>\n<!DOCTYPE svg PUBLIC \"-//W3C//DTD SVG 1.1//EN\"\n \"http://www.w3.org/Graphics/SVG/1.1/DTD/svg11.dtd\">\n<!-- Generated by graphviz version 2.40.1 (20161225.0304)\n -->\n<!-- Title: %3 Pages: 1 -->\n<svg width=\"1788pt\" height=\"486pt\"\n viewBox=\"0.00 0.00 1788.00 486.00\" xmlns=\"http://www.w3.org/2000/svg\" xmlns:xlink=\"http://www.w3.org/1999/xlink\">\n<g id=\"graph0\" class=\"graph\" transform=\"scale(1 1) rotate(0) translate(72 450)\">\n<title>%3</title>\n<polygon fill=\"#ffffff\" stroke=\"transparent\" points=\"-72,36 -72,-450 1716,-450 1716,36 -72,36\"/>\n<!-- /outputs/3 -->\n<g id=\"node1\" class=\"node\">\n<title>/outputs/3</title>\n<polygon fill=\"#e8e8e8\" stroke=\"#000000\" points=\"54,-279 0,-279 0,-243 54,-243 54,-279\"/>\n<text text-anchor=\"start\" x=\"15\" y=\"-258\" font-family=\"Times\" font-size=\"10.00\" fill=\"#000000\">Shape</text>\n</g>\n<!-- /outputs/5 -->\n<g id=\"node3\" class=\"node\">\n<title>/outputs/5</title>\n<polygon fill=\"#e8e8e8\" stroke=\"#000000\" points=\"145,-252 91,-252 91,-216 145,-216 145,-252\"/>\n<text text-anchor=\"start\" x=\"104\" y=\"-231\" font-family=\"Times\" font-size=\"10.00\" fill=\"#000000\">Gather</text>\n</g>\n<!-- /outputs/3&#45;&gt;/outputs/5 -->\n<g id=\"edge1\" class=\"edge\">\n<title>/outputs/3&#45;&gt;/outputs/5</title>\n<path fill=\"none\" stroke=\"#000000\" d=\"M54.303,-252.8991C62.6713,-250.4162 72.0227,-247.6416 80.9279,-244.9994\"/>\n<polygon fill=\"#000000\" stroke=\"#000000\" points=\"82.1249,-248.2951 90.7163,-242.0952 80.1338,-241.5843 82.1249,-248.2951\"/>\n</g>\n<!-- /outputs/4 -->\n<g id=\"node2\" class=\"node\">\n<title>/outputs/4</title>\n<polygon fill=\"#e8e8e8\" stroke=\"#000000\" points=\"54,-225 0,-225 0,-189 54,-189 54,-225\"/>\n<text text-anchor=\"start\" x=\"9\" y=\"-204\" font-family=\"Times\" font-size=\"10.00\" fill=\"#000000\">Constant</text>\n</g>\n<!-- /outputs/4&#45;&gt;/outputs/5 -->\n<g id=\"edge2\" class=\"edge\">\n<title>/outputs/4&#45;&gt;/outputs/5</title>\n<path fill=\"none\" stroke=\"#000000\" d=\"M54.303,-215.1009C62.6713,-217.5838 72.0227,-220.3584 80.9279,-223.0006\"/>\n<polygon fill=\"#000000\" stroke=\"#000000\" points=\"80.1338,-226.4157 90.7163,-225.9048 82.1249,-219.7049 80.1338,-226.4157\"/>\n</g>\n<!-- /outputs/8 -->\n<g id=\"node6\" class=\"node\">\n<title>/outputs/8</title>\n<polygon fill=\"#e8e8e8\" stroke=\"#000000\" points=\"243,-198 182,-198 182,-162 243,-162 243,-198\"/>\n<text text-anchor=\"start\" x=\"190.5\" y=\"-177\" font-family=\"Times\" font-size=\"10.00\" fill=\"#000000\">Unsqueeze</text>\n</g>\n<!-- /outputs/5&#45;&gt;/outputs/8 -->\n<g id=\"edge3\" class=\"edge\">\n<title>/outputs/5&#45;&gt;/outputs/8</title>\n<path fill=\"none\" stroke=\"#000000\" d=\"M145.0799,-218.5258C153.7595,-213.566 163.5569,-207.9675 172.9387,-202.6064\"/>\n<polygon fill=\"#000000\" stroke=\"#000000\" points=\"174.8104,-205.5681 181.7563,-197.5678 171.3374,-199.4904 174.8104,-205.5681\"/>\n</g>\n<!-- /outputs/23 -->\n<g id=\"node21\" class=\"node\">\n<title>/outputs/23</title>\n<polygon fill=\"#e8e8e8\" stroke=\"#000000\" points=\"243,-252 182,-252 182,-216 243,-216 243,-252\"/>\n<text text-anchor=\"start\" x=\"190.5\" y=\"-231\" font-family=\"Times\" font-size=\"10.00\" fill=\"#000000\">Unsqueeze</text>\n</g>\n<!-- /outputs/5&#45;&gt;/outputs/23 -->\n<g id=\"edge4\" class=\"edge\">\n<title>/outputs/5&#45;&gt;/outputs/23</title>\n<path fill=\"none\" stroke=\"#000000\" d=\"M145.0799,-234C153.3121,-234 162.5498,-234 171.4848,-234\"/>\n<polygon fill=\"#000000\" stroke=\"#000000\" points=\"171.7564,-237.5001 181.7563,-234 171.7563,-230.5001 171.7564,-237.5001\"/>\n</g>\n<!-- /outputs/30 -->\n<g id=\"node28\" class=\"node\">\n<title>/outputs/30</title>\n<polygon fill=\"#e8e8e8\" stroke=\"#000000\" points=\"243,-306 182,-306 182,-270 243,-270 243,-306\"/>\n<text text-anchor=\"start\" x=\"190.5\" y=\"-285\" font-family=\"Times\" font-size=\"10.00\" fill=\"#000000\">Unsqueeze</text>\n</g>\n<!-- /outputs/5&#45;&gt;/outputs/30 -->\n<g id=\"edge5\" class=\"edge\">\n<title>/outputs/5&#45;&gt;/outputs/30</title>\n<path fill=\"none\" stroke=\"#000000\" d=\"M145.0799,-249.4742C153.7595,-254.434 163.5569,-260.0325 172.9387,-265.3936\"/>\n<polygon fill=\"#000000\" stroke=\"#000000\" points=\"171.3374,-268.5096 181.7563,-270.4322 174.8104,-262.4319 171.3374,-268.5096\"/>\n</g>\n<!-- /outputs/6 -->\n<g id=\"node4\" class=\"node\">\n<title>/outputs/6</title>\n<polygon fill=\"#e8e8e8\" stroke=\"#000000\" points=\"145,-36 91,-36 91,0 145,0 145,-36\"/>\n<text text-anchor=\"start\" x=\"100\" y=\"-15\" font-family=\"Times\" font-size=\"10.00\" fill=\"#000000\">Constant</text>\n</g>\n<!-- /outputs/9 -->\n<g id=\"node7\" class=\"node\">\n<title>/outputs/9</title>\n<polygon fill=\"#e8e8e8\" stroke=\"#000000\" points=\"243,-36 182,-36 182,0 243,0 243,-36\"/>\n<text text-anchor=\"start\" x=\"190.5\" y=\"-15\" font-family=\"Times\" font-size=\"10.00\" fill=\"#000000\">Unsqueeze</text>\n</g>\n<!-- /outputs/6&#45;&gt;/outputs/9 -->\n<g id=\"edge6\" class=\"edge\">\n<title>/outputs/6&#45;&gt;/outputs/9</title>\n<path fill=\"none\" stroke=\"#000000\" d=\"M145.0799,-18C153.3121,-18 162.5498,-18 171.4848,-18\"/>\n<polygon fill=\"#000000\" stroke=\"#000000\" points=\"171.7564,-21.5001 181.7563,-18 171.7563,-14.5001 171.7564,-21.5001\"/>\n</g>\n<!-- /outputs/7 -->\n<g id=\"node5\" class=\"node\">\n<title>/outputs/7</title>\n<polygon fill=\"#e8e8e8\" stroke=\"#000000\" points=\"145,-90 91,-90 91,-54 145,-54 145,-90\"/>\n<text text-anchor=\"start\" x=\"100\" y=\"-69\" font-family=\"Times\" font-size=\"10.00\" fill=\"#000000\">Constant</text>\n</g>\n<!-- /outputs/10 -->\n<g id=\"node8\" class=\"node\">\n<title>/outputs/10</title>\n<polygon fill=\"#e8e8e8\" stroke=\"#000000\" points=\"243,-90 182,-90 182,-54 243,-54 243,-90\"/>\n<text text-anchor=\"start\" x=\"190.5\" y=\"-69\" font-family=\"Times\" font-size=\"10.00\" fill=\"#000000\">Unsqueeze</text>\n</g>\n<!-- /outputs/7&#45;&gt;/outputs/10 -->\n<g id=\"edge7\" class=\"edge\">\n<title>/outputs/7&#45;&gt;/outputs/10</title>\n<path fill=\"none\" stroke=\"#000000\" d=\"M145.0799,-72C153.3121,-72 162.5498,-72 171.4848,-72\"/>\n<polygon fill=\"#000000\" stroke=\"#000000\" points=\"171.7564,-75.5001 181.7563,-72 171.7563,-68.5001 171.7564,-75.5001\"/>\n</g>\n<!-- /outputs/11 -->\n<g id=\"node9\" class=\"node\">\n<title>/outputs/11</title>\n<polygon fill=\"#e8e8e8\" stroke=\"#000000\" points=\"334,-91 280,-91 280,-55 334,-55 334,-91\"/>\n<text text-anchor=\"start\" x=\"292\" y=\"-70\" font-family=\"Times\" font-size=\"10.00\" fill=\"#000000\">Concat</text>\n</g>\n<!-- /outputs/8&#45;&gt;/outputs/11 -->\n<g id=\"edge8\" class=\"edge\">\n<title>/outputs/8&#45;&gt;/outputs/11</title>\n<path fill=\"none\" stroke=\"#000000\" d=\"M234.4361,-161.7248C237.4241,-158.912 240.3655,-155.9568 243,-153 262.1111,-131.5512 261.5496,-122.0197 280,-100 280.3858,-99.5395 280.7782,-99.0778 281.1761,-98.6155\"/>\n<polygon fill=\"#000000\" stroke=\"#000000\" points=\"283.8051,-100.9269 287.9614,-91.1813 278.6349,-96.208 283.8051,-100.9269\"/>\n</g>\n<!-- /outputs/9&#45;&gt;/outputs/11 -->\n<g id=\"edge9\" class=\"edge\">\n<title>/outputs/9&#45;&gt;/outputs/11</title>\n<path fill=\"none\" stroke=\"#000000\" d=\"M243.1814,-35.8569C252.0738,-41.0324 261.8627,-46.7296 271.0467,-52.0748\"/>\n<polygon fill=\"#000000\" stroke=\"#000000\" points=\"269.5701,-55.265 279.9735,-57.2703 273.0913,-49.2151 269.5701,-55.265\"/>\n</g>\n<!-- /outputs/10&#45;&gt;/outputs/11 -->\n<g id=\"edge10\" class=\"edge\">\n<title>/outputs/10&#45;&gt;/outputs/11</title>\n<path fill=\"none\" stroke=\"#000000\" d=\"M243.1814,-72.3247C251.7033,-72.4149 261.0485,-72.5137 269.8957,-72.6074\"/>\n<polygon fill=\"#000000\" stroke=\"#000000\" points=\"269.937,-76.1079 279.9735,-72.714 270.0111,-69.1083 269.937,-76.1079\"/>\n</g>\n<!-- /outputs/13 -->\n<g id=\"node11\" class=\"node\">\n<title>/outputs/13</title>\n<polygon fill=\"#e8e8e8\" stroke=\"#000000\" points=\"425,-145 371,-145 371,-109 425,-109 425,-145\"/>\n<text text-anchor=\"start\" x=\"381\" y=\"-124\" font-family=\"Times\" font-size=\"10.00\" fill=\"#000000\">Reshape</text>\n</g>\n<!-- /outputs/11&#45;&gt;/outputs/13 -->\n<g id=\"edge11\" class=\"edge\">\n<title>/outputs/11&#45;&gt;/outputs/13</title>\n<path fill=\"none\" stroke=\"#000000\" d=\"M334.303,-89.2018C343.0312,-94.3811 352.829,-100.1952 362.0744,-105.6815\"/>\n<polygon fill=\"#000000\" stroke=\"#000000\" points=\"360.3303,-108.7164 370.7163,-110.8097 363.9025,-102.6965 360.3303,-108.7164\"/>\n</g>\n<!-- /outputs/12 -->\n<g id=\"node10\" class=\"node\">\n<title>/outputs/12</title>\n<polygon fill=\"#e8e8e8\" stroke=\"#000000\" points=\"334,-145 280,-145 280,-109 334,-109 334,-145\"/>\n<text text-anchor=\"start\" x=\"289\" y=\"-124\" font-family=\"Times\" font-size=\"10.00\" fill=\"#000000\">Constant</text>\n</g>\n<!-- /outputs/12&#45;&gt;/outputs/13 -->\n<g id=\"edge12\" class=\"edge\">\n<title>/outputs/12&#45;&gt;/outputs/13</title>\n<path fill=\"none\" stroke=\"#000000\" d=\"M334.303,-127C342.5813,-127 351.8217,-127 360.6405,-127\"/>\n<polygon fill=\"#000000\" stroke=\"#000000\" points=\"360.7163,-130.5001 370.7163,-127 360.7162,-123.5001 360.7163,-130.5001\"/>\n</g>\n<!-- /outputs/14 -->\n<g id=\"node12\" class=\"node\">\n<title>/outputs/14</title>\n<polygon fill=\"#e8e8e8\" stroke=\"#000000\" points=\"569,-158 515,-158 515,-122 569,-122 569,-158\"/>\n<text text-anchor=\"start\" x=\"530\" y=\"-137\" font-family=\"Times\" font-size=\"10.00\" fill=\"#000000\">Shape</text>\n</g>\n<!-- /outputs/13&#45;&gt;/outputs/14 -->\n<g id=\"edge13\" class=\"edge\">\n<title>/outputs/13&#45;&gt;/outputs/14</title>\n<path fill=\"none\" stroke=\"#000000\" d=\"M425.0853,-129.4452C447.4695,-131.466 479.4971,-134.3574 504.3725,-136.6031\"/>\n<polygon fill=\"#000000\" stroke=\"#000000\" points=\"504.2723,-140.1082 514.5466,-137.5216 504.9018,-133.1365 504.2723,-140.1082\"/>\n</g>\n<!-- /outputs/18 -->\n<g id=\"node16\" class=\"node\">\n<title>/outputs/18</title>\n<polygon fill=\"#e8e8e8\" stroke=\"#000000\" points=\"923,-119 869,-119 869,-83 923,-83 923,-119\"/>\n<text text-anchor=\"start\" x=\"884\" y=\"-98\" font-family=\"Times\" font-size=\"10.00\" fill=\"#000000\">Equal</text>\n</g>\n<!-- /outputs/13&#45;&gt;/outputs/18 -->\n<g id=\"edge14\" class=\"edge\">\n<title>/outputs/13&#45;&gt;/outputs/18</title>\n<path fill=\"none\" stroke=\"#000000\" d=\"M416.2141,-108.8468C441.9197,-85.2434 491.3798,-47 542,-47 542,-47 542,-47 758,-47 794.6362,-47 833.2145,-63.7089 860.2382,-78.5378\"/>\n<polygon fill=\"#000000\" stroke=\"#000000\" points=\"858.5143,-81.5837 868.9403,-83.4677 861.9648,-75.4932 858.5143,-81.5837\"/>\n</g>\n<!-- /outputs/19 -->\n<g id=\"node17\" class=\"node\">\n<title>/outputs/19</title>\n<polygon fill=\"#e8e8e8\" stroke=\"#000000\" points=\"1014,-187 960,-187 960,-151 1014,-151 1014,-187\"/>\n<text text-anchor=\"start\" x=\"974\" y=\"-166\" font-family=\"Times\" font-size=\"10.00\" fill=\"#000000\">Where</text>\n</g>\n<!-- /outputs/13&#45;&gt;/outputs/19 -->\n<g id=\"edge15\" class=\"edge\">\n<title>/outputs/13&#45;&gt;/outputs/19</title>\n<path fill=\"none\" stroke=\"#000000\" d=\"M420.9706,-145.0348C448.221,-164.5762 495.7987,-193 542,-193 542,-193 542,-193 896,-193 914.131,-193 933.6421,-188.4905 949.9301,-183.3809\"/>\n<polygon fill=\"#000000\" stroke=\"#000000\" points=\"951.2317,-186.6365 959.6141,-180.1569 949.0205,-179.9949 951.2317,-186.6365\"/>\n</g>\n<!-- /outputs/15 -->\n<g id=\"node13\" class=\"node\">\n<title>/outputs/15</title>\n<polygon fill=\"#e8e8e8\" stroke=\"#000000\" points=\"694,-165 606,-165 606,-129 694,-129 694,-165\"/>\n<text text-anchor=\"start\" x=\"614\" y=\"-144\" font-family=\"Times\" font-size=\"10.00\" fill=\"#000000\">ConstantOfShape</text>\n</g>\n<!-- /outputs/14&#45;&gt;/outputs/15 -->\n<g id=\"edge16\" class=\"edge\">\n<title>/outputs/14&#45;&gt;/outputs/15</title>\n<path fill=\"none\" stroke=\"#000000\" d=\"M569.253,-141.7664C577.4214,-142.2958 586.6822,-142.8961 595.9452,-143.4964\"/>\n<polygon fill=\"#000000\" stroke=\"#000000\" points=\"595.7402,-146.9904 605.9457,-144.1446 596.1931,-140.0051 595.7402,-146.9904\"/>\n</g>\n<!-- /outputs/17 -->\n<g id=\"node15\" class=\"node\">\n<title>/outputs/17</title>\n<polygon fill=\"#e8e8e8\" stroke=\"#000000\" points=\"785,-119 731,-119 731,-83 785,-83 785,-119\"/>\n<text text-anchor=\"start\" x=\"749\" y=\"-98\" font-family=\"Times\" font-size=\"10.00\" fill=\"#000000\">Mul</text>\n</g>\n<!-- /outputs/15&#45;&gt;/outputs/17 -->\n<g id=\"edge17\" class=\"edge\">\n<title>/outputs/15&#45;&gt;/outputs/17</title>\n<path fill=\"none\" stroke=\"#000000\" d=\"M692.3745,-128.9516C702.0236,-124.8418 712.1927,-120.5105 721.5687,-116.517\"/>\n<polygon fill=\"#000000\" stroke=\"#000000\" points=\"723.1687,-119.6399 730.9974,-112.5011 720.4256,-113.1997 723.1687,-119.6399\"/>\n</g>\n<!-- /outputs/15&#45;&gt;/outputs/19 -->\n<g id=\"edge18\" class=\"edge\">\n<title>/outputs/15&#45;&gt;/outputs/19</title>\n<path fill=\"none\" stroke=\"#000000\" d=\"M694.0569,-149.8761C760.845,-154.2362 886.5675,-162.4436 949.3432,-166.5417\"/>\n<polygon fill=\"#000000\" stroke=\"#000000\" points=\"949.3758,-170.0512 959.5826,-167.2101 949.8319,-163.0661 949.3758,-170.0512\"/>\n</g>\n<!-- /outputs/16 -->\n<g id=\"node14\" class=\"node\">\n<title>/outputs/16</title>\n<polygon fill=\"#e8e8e8\" stroke=\"#000000\" points=\"677,-111 623,-111 623,-75 677,-75 677,-111\"/>\n<text text-anchor=\"start\" x=\"632\" y=\"-90\" font-family=\"Times\" font-size=\"10.00\" fill=\"#000000\">Constant</text>\n</g>\n<!-- /outputs/16&#45;&gt;/outputs/17 -->\n<g id=\"edge19\" class=\"edge\">\n<title>/outputs/16&#45;&gt;/outputs/17</title>\n<path fill=\"none\" stroke=\"#000000\" d=\"M677.253,-95.0187C690.4273,-95.9946 706.4432,-97.181 720.7267,-98.239\"/>\n<polygon fill=\"#000000\" stroke=\"#000000\" points=\"720.5245,-101.7335 730.7558,-98.9819 721.0417,-94.7527 720.5245,-101.7335\"/>\n</g>\n<!-- /outputs/17&#45;&gt;/outputs/18 -->\n<g id=\"edge20\" class=\"edge\">\n<title>/outputs/17&#45;&gt;/outputs/18</title>\n<path fill=\"none\" stroke=\"#000000\" d=\"M785.2644,-101C806.2445,-101 835.4706,-101 858.6299,-101\"/>\n<polygon fill=\"#000000\" stroke=\"#000000\" points=\"858.7923,-104.5001 868.7923,-101 858.7922,-97.5001 858.7923,-104.5001\"/>\n</g>\n<!-- /outputs/18&#45;&gt;/outputs/19 -->\n<g id=\"edge21\" class=\"edge\">\n<title>/outputs/18&#45;&gt;/outputs/19</title>\n<path fill=\"none\" stroke=\"#000000\" d=\"M920.3863,-119.2228C930.8746,-127.0602 943.2861,-136.3347 954.5363,-144.7414\"/>\n<polygon fill=\"#000000\" stroke=\"#000000\" points=\"952.7563,-147.7805 962.8619,-150.9627 956.9464,-142.1731 952.7563,-147.7805\"/>\n</g>\n<!-- /outputs/20 -->\n<g id=\"node18\" class=\"node\">\n<title>/outputs/20</title>\n<polygon fill=\"#e8e8e8\" stroke=\"#000000\" points=\"1105,-206 1051,-206 1051,-170 1105,-170 1105,-206\"/>\n<text text-anchor=\"start\" x=\"1062\" y=\"-185\" font-family=\"Times\" font-size=\"10.00\" fill=\"#000000\">Expand</text>\n</g>\n<!-- /outputs/19&#45;&gt;/outputs/20 -->\n<g id=\"edge22\" class=\"edge\">\n<title>/outputs/19&#45;&gt;/outputs/20</title>\n<path fill=\"none\" stroke=\"#000000\" d=\"M1014.303,-174.7006C1022.5813,-176.4291 1031.8217,-178.3584 1040.6405,-180.1997\"/>\n<polygon fill=\"#000000\" stroke=\"#000000\" points=\"1040.212,-183.6856 1050.7163,-182.3034 1041.6427,-176.8334 1040.212,-183.6856\"/>\n</g>\n<!-- /outputs/28 -->\n<g id=\"node26\" class=\"node\">\n<title>/outputs/28</title>\n<polygon fill=\"#e8e8e8\" stroke=\"#000000\" points=\"1253,-252 1199,-252 1199,-216 1253,-216 1253,-252\"/>\n<text text-anchor=\"start\" x=\"1209\" y=\"-231\" font-family=\"Times\" font-size=\"10.00\" fill=\"#000000\">MatMul</text>\n</g>\n<!-- /outputs/20&#45;&gt;/outputs/28 -->\n<g id=\"edge23\" class=\"edge\">\n<title>/outputs/20&#45;&gt;/outputs/28</title>\n<path fill=\"none\" stroke=\"#000000\" d=\"M1105.3016,-191.2451C1126.432,-194.3055 1156.1796,-199.824 1181,-209 1183.8422,-210.0508 1186.721,-211.2617 1189.5767,-212.5721\"/>\n<polygon fill=\"#000000\" stroke=\"#000000\" points=\"1188.0327,-215.7131 1198.5465,-217.0209 1191.143,-209.442 1188.0327,-215.7131\"/>\n<text text-anchor=\"middle\" x=\"1152\" y=\"-212\" font-family=\"Times\" font-size=\"10.00\" fill=\"#000000\">128x784x784</text>\n</g>\n<!-- /outputs/21 -->\n<g id=\"node19\" class=\"node\">\n<title>/outputs/21</title>\n<polygon fill=\"#e8e8e8\" stroke=\"#000000\" points=\"145,-144 91,-144 91,-108 145,-108 145,-144\"/>\n<text text-anchor=\"start\" x=\"100\" y=\"-123\" font-family=\"Times\" font-size=\"10.00\" fill=\"#000000\">Constant</text>\n</g>\n<!-- /outputs/24 -->\n<g id=\"node22\" class=\"node\">\n<title>/outputs/24</title>\n<polygon fill=\"#e8e8e8\" stroke=\"#000000\" points=\"243,-144 182,-144 182,-108 243,-108 243,-144\"/>\n<text text-anchor=\"start\" x=\"190.5\" y=\"-123\" font-family=\"Times\" font-size=\"10.00\" fill=\"#000000\">Unsqueeze</text>\n</g>\n<!-- /outputs/21&#45;&gt;/outputs/24 -->\n<g id=\"edge24\" class=\"edge\">\n<title>/outputs/21&#45;&gt;/outputs/24</title>\n<path fill=\"none\" stroke=\"#000000\" d=\"M145.0799,-126C153.3121,-126 162.5498,-126 171.4848,-126\"/>\n<polygon fill=\"#000000\" stroke=\"#000000\" points=\"171.7564,-129.5001 181.7563,-126 171.7563,-122.5001 171.7564,-129.5001\"/>\n</g>\n<!-- /outputs/22 -->\n<g id=\"node20\" class=\"node\">\n<title>/outputs/22</title>\n<polygon fill=\"#e8e8e8\" stroke=\"#000000\" points=\"145,-360 91,-360 91,-324 145,-324 145,-360\"/>\n<text text-anchor=\"start\" x=\"100\" y=\"-339\" font-family=\"Times\" font-size=\"10.00\" fill=\"#000000\">Constant</text>\n</g>\n<!-- /outputs/25 -->\n<g id=\"node23\" class=\"node\">\n<title>/outputs/25</title>\n<polygon fill=\"#e8e8e8\" stroke=\"#000000\" points=\"243,-360 182,-360 182,-324 243,-324 243,-360\"/>\n<text text-anchor=\"start\" x=\"190.5\" y=\"-339\" font-family=\"Times\" font-size=\"10.00\" fill=\"#000000\">Unsqueeze</text>\n</g>\n<!-- /outputs/22&#45;&gt;/outputs/25 -->\n<g id=\"edge25\" class=\"edge\">\n<title>/outputs/22&#45;&gt;/outputs/25</title>\n<path fill=\"none\" stroke=\"#000000\" d=\"M145.0799,-342C153.3121,-342 162.5498,-342 171.4848,-342\"/>\n<polygon fill=\"#000000\" stroke=\"#000000\" points=\"171.7564,-345.5001 181.7563,-342 171.7563,-338.5001 171.7564,-345.5001\"/>\n</g>\n<!-- /outputs/26 -->\n<g id=\"node24\" class=\"node\">\n<title>/outputs/26</title>\n<polygon fill=\"#e8e8e8\" stroke=\"#000000\" points=\"334,-252 280,-252 280,-216 334,-216 334,-252\"/>\n<text text-anchor=\"start\" x=\"292\" y=\"-231\" font-family=\"Times\" font-size=\"10.00\" fill=\"#000000\">Concat</text>\n</g>\n<!-- /outputs/23&#45;&gt;/outputs/26 -->\n<g id=\"edge26\" class=\"edge\">\n<title>/outputs/23&#45;&gt;/outputs/26</title>\n<path fill=\"none\" stroke=\"#000000\" d=\"M243.1814,-234C251.7033,-234 261.0485,-234 269.8957,-234\"/>\n<polygon fill=\"#000000\" stroke=\"#000000\" points=\"269.9735,-237.5001 279.9735,-234 269.9734,-230.5001 269.9735,-237.5001\"/>\n</g>\n<!-- /outputs/24&#45;&gt;/outputs/26 -->\n<g id=\"edge27\" class=\"edge\">\n<title>/outputs/24&#45;&gt;/outputs/26</title>\n<path fill=\"none\" stroke=\"#000000\" d=\"M233.9552,-144.1218C237.0751,-147.004 240.1819,-150.0197 243,-153 259.3581,-170.2993 275.973,-191.4563 288.1732,-207.8089\"/>\n<polygon fill=\"#000000\" stroke=\"#000000\" points=\"285.3723,-209.9079 294.126,-215.8765 291.0049,-205.7518 285.3723,-209.9079\"/>\n</g>\n<!-- /outputs/25&#45;&gt;/outputs/26 -->\n<g id=\"edge28\" class=\"edge\">\n<title>/outputs/25&#45;&gt;/outputs/26</title>\n<path fill=\"none\" stroke=\"#000000\" d=\"M234.4598,-323.7458C237.4443,-320.93 240.3784,-317.9683 243,-315 262.2591,-293.1939 261.4126,-283.3814 280,-261 280.3838,-260.5378 280.7743,-260.0746 281.1705,-259.6108\"/>\n<polygon fill=\"#000000\" stroke=\"#000000\" points=\"283.8041,-261.917 287.9382,-252.162 278.6231,-257.2098 283.8041,-261.917\"/>\n</g>\n<!-- /outputs/27 -->\n<g id=\"node25\" class=\"node\">\n<title>/outputs/27</title>\n<polygon fill=\"#e8e8e8\" stroke=\"#000000\" points=\"497,-252 443,-252 443,-216 497,-216 497,-252\"/>\n<text text-anchor=\"start\" x=\"453\" y=\"-231\" font-family=\"Times\" font-size=\"10.00\" fill=\"#000000\">Reshape</text>\n</g>\n<!-- /outputs/26&#45;&gt;/outputs/27 -->\n<g id=\"edge29\" class=\"edge\">\n<title>/outputs/26&#45;&gt;/outputs/27</title>\n<path fill=\"none\" stroke=\"#000000\" d=\"M334.2825,-234C361.279,-234 402.801,-234 432.8089,-234\"/>\n<polygon fill=\"#000000\" stroke=\"#000000\" points=\"432.9002,-237.5001 442.9002,-234 432.9001,-230.5001 432.9002,-237.5001\"/>\n</g>\n<!-- /outputs/27&#45;&gt;/outputs/28 -->\n<g id=\"edge30\" class=\"edge\">\n<title>/outputs/27&#45;&gt;/outputs/28</title>\n<path fill=\"none\" stroke=\"#000000\" d=\"M497.0681,-234C520.8835,-234 556.4931,-234 587.5,-234 587.5,-234 587.5,-234 1078,-234 1115.8095,-234 1159.0522,-234 1188.9898,-234\"/>\n<polygon fill=\"#000000\" stroke=\"#000000\" points=\"1188.9935,-237.5001 1198.9934,-234 1188.9934,-230.5001 1188.9935,-237.5001\"/>\n<text text-anchor=\"middle\" x=\"827\" y=\"-237\" font-family=\"Times\" font-size=\"10.00\" fill=\"#000000\">128x784x1</text>\n</g>\n<!-- /outputs/33 -->\n<g id=\"node31\" class=\"node\">\n<title>/outputs/33</title>\n<polygon fill=\"#e8e8e8\" stroke=\"#000000\" points=\"1393,-284 1339,-284 1339,-248 1393,-248 1393,-284\"/>\n<text text-anchor=\"start\" x=\"1349\" y=\"-263\" font-family=\"Times\" font-size=\"10.00\" fill=\"#000000\">Reshape</text>\n</g>\n<!-- /outputs/28&#45;&gt;/outputs/33 -->\n<g id=\"edge31\" class=\"edge\">\n<title>/outputs/28&#45;&gt;/outputs/33</title>\n<path fill=\"none\" stroke=\"#000000\" d=\"M1253.3258,-240.2459C1274.8142,-245.1575 1304.9786,-252.0522 1328.6897,-257.4719\"/>\n<polygon fill=\"#000000\" stroke=\"#000000\" points=\"1328.2147,-260.9535 1338.7432,-259.7699 1329.7745,-254.1295 1328.2147,-260.9535\"/>\n<text text-anchor=\"middle\" x=\"1295\" y=\"-257\" font-family=\"Times\" font-size=\"10.00\" fill=\"#000000\">128x784x1</text>\n</g>\n<!-- /outputs/29 -->\n<g id=\"node27\" class=\"node\">\n<title>/outputs/29</title>\n<polygon fill=\"#e8e8e8\" stroke=\"#000000\" points=\"145,-414 91,-414 91,-378 145,-378 145,-414\"/>\n<text text-anchor=\"start\" x=\"100\" y=\"-393\" font-family=\"Times\" font-size=\"10.00\" fill=\"#000000\">Constant</text>\n</g>\n<!-- /outputs/31 -->\n<g id=\"node29\" class=\"node\">\n<title>/outputs/31</title>\n<polygon fill=\"#e8e8e8\" stroke=\"#000000\" points=\"243,-414 182,-414 182,-378 243,-378 243,-414\"/>\n<text text-anchor=\"start\" x=\"190.5\" y=\"-393\" font-family=\"Times\" font-size=\"10.00\" fill=\"#000000\">Unsqueeze</text>\n</g>\n<!-- /outputs/29&#45;&gt;/outputs/31 -->\n<g id=\"edge32\" class=\"edge\">\n<title>/outputs/29&#45;&gt;/outputs/31</title>\n<path fill=\"none\" stroke=\"#000000\" d=\"M145.0799,-396C153.3121,-396 162.5498,-396 171.4848,-396\"/>\n<polygon fill=\"#000000\" stroke=\"#000000\" points=\"171.7564,-399.5001 181.7563,-396 171.7563,-392.5001 171.7564,-399.5001\"/>\n</g>\n<!-- /outputs/32 -->\n<g id=\"node30\" class=\"node\">\n<title>/outputs/32</title>\n<polygon fill=\"#e8e8e8\" stroke=\"#000000\" points=\"334,-306 280,-306 280,-270 334,-270 334,-306\"/>\n<text text-anchor=\"start\" x=\"292\" y=\"-285\" font-family=\"Times\" font-size=\"10.00\" fill=\"#000000\">Concat</text>\n</g>\n<!-- /outputs/30&#45;&gt;/outputs/32 -->\n<g id=\"edge33\" class=\"edge\">\n<title>/outputs/30&#45;&gt;/outputs/32</title>\n<path fill=\"none\" stroke=\"#000000\" d=\"M243.1814,-288C251.7033,-288 261.0485,-288 269.8957,-288\"/>\n<polygon fill=\"#000000\" stroke=\"#000000\" points=\"269.9735,-291.5001 279.9735,-288 269.9734,-284.5001 269.9735,-291.5001\"/>\n</g>\n<!-- /outputs/31&#45;&gt;/outputs/32 -->\n<g id=\"edge34\" class=\"edge\">\n<title>/outputs/31&#45;&gt;/outputs/32</title>\n<path fill=\"none\" stroke=\"#000000\" d=\"M233.9552,-377.8782C237.0751,-374.996 240.1819,-371.9803 243,-369 259.3581,-351.7007 275.973,-330.5437 288.1732,-314.1911\"/>\n<polygon fill=\"#000000\" stroke=\"#000000\" points=\"291.0049,-316.2482 294.126,-306.1235 285.3723,-312.0921 291.0049,-316.2482\"/>\n</g>\n<!-- /outputs/32&#45;&gt;/outputs/33 -->\n<g id=\"edge35\" class=\"edge\">\n<title>/outputs/32&#45;&gt;/outputs/33</title>\n<path fill=\"none\" stroke=\"#000000\" d=\"M334.063,-286.1873C352.1547,-285.1289 376.4931,-284 398,-284 398,-284 398,-284 1226,-284 1260.9847,-284 1300.4883,-278.4022 1328.591,-273.45\"/>\n<polygon fill=\"#000000\" stroke=\"#000000\" points=\"1329.559,-276.8314 1338.7703,-271.5966 1328.305,-269.9446 1329.559,-276.8314\"/>\n</g>\n<!-- /outputs/35 -->\n<g id=\"node33\" class=\"node\">\n<title>/outputs/35</title>\n<polygon fill=\"#e8e8e8\" stroke=\"#000000\" points=\"1522,-247 1468,-247 1468,-211 1522,-211 1522,-247\"/>\n<text text-anchor=\"start\" x=\"1478\" y=\"-226\" font-family=\"Times\" font-size=\"10.00\" fill=\"#000000\">MatMul</text>\n</g>\n<!-- /outputs/33&#45;&gt;/outputs/35 -->\n<g id=\"edge36\" class=\"edge\">\n<title>/outputs/33&#45;&gt;/outputs/35</title>\n<path fill=\"none\" stroke=\"#000000\" d=\"M1393.0426,-258.2436C1411.963,-252.8168 1437.4641,-245.5025 1458.2292,-239.5467\"/>\n<polygon fill=\"#000000\" stroke=\"#000000\" points=\"1459.3455,-242.8677 1467.993,-236.7462 1457.4156,-236.139 1459.3455,-242.8677\"/>\n<text text-anchor=\"middle\" x=\"1431.5\" y=\"-254\" font-family=\"Times\" font-size=\"10.00\" fill=\"#000000\">128x784</text>\n</g>\n<!-- /outputs/34 -->\n<g id=\"node32\" class=\"node\">\n<title>/outputs/34</title>\n<polygon fill=\"#e8e8e8\" stroke=\"#000000\" points=\"1395,-230 1337,-230 1337,-194 1395,-194 1395,-230\"/>\n<text text-anchor=\"start\" x=\"1345\" y=\"-209\" font-family=\"Times\" font-size=\"10.00\" fill=\"#000000\">Transpose</text>\n</g>\n<!-- /outputs/34&#45;&gt;/outputs/35 -->\n<g id=\"edge37\" class=\"edge\">\n<title>/outputs/34&#45;&gt;/outputs/35</title>\n<path fill=\"none\" stroke=\"#000000\" d=\"M1395.1582,-215.8013C1411.3193,-217.9125 1431.7736,-220.5915 1450,-223 1452.5297,-223.3343 1455.1392,-223.68 1457.768,-224.0288\"/>\n<polygon fill=\"#000000\" stroke=\"#000000\" points=\"1457.4997,-227.5239 1467.8739,-225.3727 1458.4225,-220.585 1457.4997,-227.5239\"/>\n<text text-anchor=\"middle\" x=\"1431.5\" y=\"-226\" font-family=\"Times\" font-size=\"10.00\" fill=\"#000000\">784x10</text>\n</g>\n<!-- /outputs/36 -->\n<g id=\"node34\" class=\"node\">\n<title>/outputs/36</title>\n<polygon fill=\"#e8e8e8\" stroke=\"#000000\" points=\"1644,-247 1590,-247 1590,-211 1644,-211 1644,-247\"/>\n<text text-anchor=\"start\" x=\"1600\" y=\"-226\" font-family=\"Times\" font-size=\"10.00\" fill=\"#000000\">Softmax</text>\n</g>\n<!-- /outputs/35&#45;&gt;/outputs/36 -->\n<g id=\"edge38\" class=\"edge\">\n<title>/outputs/35&#45;&gt;/outputs/36</title>\n<path fill=\"none\" stroke=\"#000000\" d=\"M1522.0758,-229C1539.0553,-229 1561.1767,-229 1579.7924,-229\"/>\n<polygon fill=\"#000000\" stroke=\"#000000\" points=\"1580,-232.5001 1589.9999,-229 1579.9999,-225.5001 1580,-232.5001\"/>\n<text text-anchor=\"middle\" x=\"1556\" y=\"-232\" font-family=\"Times\" font-size=\"10.00\" fill=\"#000000\">128x10</text>\n</g>\n</g>\n</svg>\n"
          },
          "metadata": {
            "tags": []
          },
          "execution_count": 11
        }
      ]
    },
    {
      "cell_type": "markdown",
      "metadata": {
        "id": "54RiJNC_gzcy",
        "colab_type": "text"
      },
      "source": [
        "## Training"
      ]
    },
    {
      "cell_type": "code",
      "metadata": {
        "id": "Z30YoxJKgzcz",
        "colab_type": "code",
        "colab": {
          "base_uri": "https://localhost:8080/",
          "height": 1000
        },
        "outputId": "5b77c41c-3e37-4672-886d-a1dada68c612"
      },
      "source": [
        "def compute_acc(model, data_loader, device):\n",
        "    correct_pred, num_examples = 0, 0\n",
        "    for features, targets in data_loader:\n",
        "        features = features.to(device)\n",
        "        targets = targets.to(device)\n",
        "        logits, probas = model(features)\n",
        "        _, predicted_labels = torch.max(probas, 1)\n",
        "        num_examples += targets.size(0)\n",
        "        correct_pred += (predicted_labels == targets).sum()\n",
        "    return correct_pred.float()/num_examples * 100\n",
        "    \n",
        "\n",
        "start_time = time.time()\n",
        "\n",
        "cost_list = []\n",
        "train_acc_list, valid_acc_list = [], []\n",
        "\n",
        "\n",
        "for epoch in range(NUM_EPOCHS):\n",
        "    \n",
        "    model.train()\n",
        "    for batch_idx, (features, targets) in enumerate(train_loader):\n",
        "        \n",
        "        features = features.to(DEVICE)\n",
        "        targets = targets.to(DEVICE)\n",
        "            \n",
        "        ### FORWARD AND BACK PROP\n",
        "        logits, probas = model(features)\n",
        "        cost = F.cross_entropy(logits, targets)\n",
        "        optimizer.zero_grad()\n",
        "        \n",
        "        cost.backward()\n",
        "        \n",
        "        ### UPDATE MODEL PARAMETERS\n",
        "        optimizer.step()\n",
        "        \n",
        "        #################################################\n",
        "        ### CODE ONLY FOR LOGGING BEYOND THIS POINT\n",
        "        ################################################\n",
        "        cost_list.append(cost.item())\n",
        "        if not batch_idx % 150:\n",
        "            print (f'Epoch: {epoch+1:03d}/{NUM_EPOCHS:03d} | '\n",
        "                   f'Batch {batch_idx:03d}/{len(train_loader):03d} |' \n",
        "                   f' Cost: {cost:.4f}')\n",
        "\n",
        "        \n",
        "\n",
        "    model.eval()\n",
        "    with torch.set_grad_enabled(False): # save memory during inference\n",
        "        \n",
        "        train_acc = compute_acc(model, train_loader, device=DEVICE)\n",
        "        valid_acc = compute_acc(model, valid_loader, device=DEVICE)\n",
        "        \n",
        "        print(f'Epoch: {epoch+1:03d}/{NUM_EPOCHS:03d}\\n'\n",
        "              f'Train ACC: {train_acc:.2f} | Validation ACC: {valid_acc:.2f}')\n",
        "        \n",
        "        train_acc_list.append(train_acc)\n",
        "        valid_acc_list.append(valid_acc)\n",
        "        \n",
        "    elapsed = (time.time() - start_time)/60\n",
        "    print(f'Time elapsed: {elapsed:.2f} min')\n",
        "  \n",
        "elapsed = (time.time() - start_time)/60\n",
        "print(f'Total Training Time: {elapsed:.2f} min')"
      ],
      "execution_count": 12,
      "outputs": [
        {
          "output_type": "stream",
          "text": [
            "Epoch: 001/020 | Batch 000/461 | Cost: 2.2677\n",
            "Epoch: 001/020 | Batch 150/461 | Cost: 0.8999\n",
            "Epoch: 001/020 | Batch 300/461 | Cost: 0.6701\n",
            "Epoch: 001/020 | Batch 450/461 | Cost: 0.4905\n",
            "Epoch: 001/020\n",
            "Train ACC: 87.02 | Validation ACC: 92.40\n",
            "Time elapsed: 0.64 min\n",
            "Epoch: 002/020 | Batch 000/461 | Cost: 0.5868\n",
            "Epoch: 002/020 | Batch 150/461 | Cost: 0.4526\n",
            "Epoch: 002/020 | Batch 300/461 | Cost: 0.4192\n",
            "Epoch: 002/020 | Batch 450/461 | Cost: 0.3647\n",
            "Epoch: 002/020\n",
            "Train ACC: 88.25 | Validation ACC: 92.60\n",
            "Time elapsed: 1.27 min\n",
            "Epoch: 003/020 | Batch 000/461 | Cost: 0.4316\n",
            "Epoch: 003/020 | Batch 150/461 | Cost: 0.4165\n",
            "Epoch: 003/020 | Batch 300/461 | Cost: 0.4130\n",
            "Epoch: 003/020 | Batch 450/461 | Cost: 0.3991\n",
            "Epoch: 003/020\n",
            "Train ACC: 88.80 | Validation ACC: 93.30\n",
            "Time elapsed: 1.90 min\n",
            "Epoch: 004/020 | Batch 000/461 | Cost: 0.3537\n",
            "Epoch: 004/020 | Batch 150/461 | Cost: 0.3460\n",
            "Epoch: 004/020 | Batch 300/461 | Cost: 0.4011\n",
            "Epoch: 004/020 | Batch 450/461 | Cost: 0.4666\n",
            "Epoch: 004/020\n",
            "Train ACC: 89.34 | Validation ACC: 93.40\n",
            "Time elapsed: 2.53 min\n",
            "Epoch: 005/020 | Batch 000/461 | Cost: 0.4523\n",
            "Epoch: 005/020 | Batch 150/461 | Cost: 0.4006\n",
            "Epoch: 005/020 | Batch 300/461 | Cost: 0.4396\n",
            "Epoch: 005/020 | Batch 450/461 | Cost: 0.4509\n",
            "Epoch: 005/020\n",
            "Train ACC: 89.65 | Validation ACC: 93.40\n",
            "Time elapsed: 3.16 min\n",
            "Epoch: 006/020 | Batch 000/461 | Cost: 0.3381\n",
            "Epoch: 006/020 | Batch 150/461 | Cost: 0.3627\n",
            "Epoch: 006/020 | Batch 300/461 | Cost: 0.2736\n",
            "Epoch: 006/020 | Batch 450/461 | Cost: 0.3932\n",
            "Epoch: 006/020\n",
            "Train ACC: 89.85 | Validation ACC: 93.50\n",
            "Time elapsed: 3.79 min\n",
            "Epoch: 007/020 | Batch 000/461 | Cost: 0.4984\n",
            "Epoch: 007/020 | Batch 150/461 | Cost: 0.3718\n",
            "Epoch: 007/020 | Batch 300/461 | Cost: 0.2903\n",
            "Epoch: 007/020 | Batch 450/461 | Cost: 0.4040\n",
            "Epoch: 007/020\n",
            "Train ACC: 90.02 | Validation ACC: 93.50\n",
            "Time elapsed: 4.42 min\n",
            "Epoch: 008/020 | Batch 000/461 | Cost: 0.5250\n",
            "Epoch: 008/020 | Batch 150/461 | Cost: 0.3481\n",
            "Epoch: 008/020 | Batch 300/461 | Cost: 0.3838\n",
            "Epoch: 008/020 | Batch 450/461 | Cost: 0.4789\n",
            "Epoch: 008/020\n",
            "Train ACC: 90.14 | Validation ACC: 93.90\n",
            "Time elapsed: 5.05 min\n",
            "Epoch: 009/020 | Batch 000/461 | Cost: 0.3028\n",
            "Epoch: 009/020 | Batch 150/461 | Cost: 0.3982\n",
            "Epoch: 009/020 | Batch 300/461 | Cost: 0.4042\n",
            "Epoch: 009/020 | Batch 450/461 | Cost: 0.5471\n",
            "Epoch: 009/020\n",
            "Train ACC: 90.26 | Validation ACC: 93.90\n",
            "Time elapsed: 5.68 min\n",
            "Epoch: 010/020 | Batch 000/461 | Cost: 0.2279\n",
            "Epoch: 010/020 | Batch 150/461 | Cost: 0.2992\n",
            "Epoch: 010/020 | Batch 300/461 | Cost: 0.4507\n",
            "Epoch: 010/020 | Batch 450/461 | Cost: 0.2165\n",
            "Epoch: 010/020\n",
            "Train ACC: 90.40 | Validation ACC: 93.90\n",
            "Time elapsed: 6.31 min\n",
            "Epoch: 011/020 | Batch 000/461 | Cost: 0.5089\n",
            "Epoch: 011/020 | Batch 150/461 | Cost: 0.2480\n",
            "Epoch: 011/020 | Batch 300/461 | Cost: 0.3782\n",
            "Epoch: 011/020 | Batch 450/461 | Cost: 0.3228\n",
            "Epoch: 011/020\n",
            "Train ACC: 90.47 | Validation ACC: 93.40\n",
            "Time elapsed: 6.94 min\n",
            "Epoch: 012/020 | Batch 000/461 | Cost: 0.2597\n",
            "Epoch: 012/020 | Batch 150/461 | Cost: 0.2955\n",
            "Epoch: 012/020 | Batch 300/461 | Cost: 0.2243\n",
            "Epoch: 012/020 | Batch 450/461 | Cost: 0.2967\n",
            "Epoch: 012/020\n",
            "Train ACC: 90.58 | Validation ACC: 93.60\n",
            "Time elapsed: 7.57 min\n",
            "Epoch: 013/020 | Batch 000/461 | Cost: 0.3367\n",
            "Epoch: 013/020 | Batch 150/461 | Cost: 0.3696\n",
            "Epoch: 013/020 | Batch 300/461 | Cost: 0.2744\n",
            "Epoch: 013/020 | Batch 450/461 | Cost: 0.4097\n",
            "Epoch: 013/020\n",
            "Train ACC: 90.65 | Validation ACC: 93.80\n",
            "Time elapsed: 8.20 min\n",
            "Epoch: 014/020 | Batch 000/461 | Cost: 0.2629\n",
            "Epoch: 014/020 | Batch 150/461 | Cost: 0.3282\n",
            "Epoch: 014/020 | Batch 300/461 | Cost: 0.2407\n",
            "Epoch: 014/020 | Batch 450/461 | Cost: 0.2714\n",
            "Epoch: 014/020\n",
            "Train ACC: 90.66 | Validation ACC: 93.80\n",
            "Time elapsed: 8.84 min\n",
            "Epoch: 015/020 | Batch 000/461 | Cost: 0.2497\n",
            "Epoch: 015/020 | Batch 150/461 | Cost: 0.3774\n",
            "Epoch: 015/020 | Batch 300/461 | Cost: 0.3405\n",
            "Epoch: 015/020 | Batch 450/461 | Cost: 0.4727\n",
            "Epoch: 015/020\n",
            "Train ACC: 90.81 | Validation ACC: 93.90\n",
            "Time elapsed: 9.47 min\n",
            "Epoch: 016/020 | Batch 000/461 | Cost: 0.4100\n",
            "Epoch: 016/020 | Batch 150/461 | Cost: 0.3284\n",
            "Epoch: 016/020 | Batch 300/461 | Cost: 0.3974\n",
            "Epoch: 016/020 | Batch 450/461 | Cost: 0.2978\n",
            "Epoch: 016/020\n",
            "Train ACC: 90.86 | Validation ACC: 93.90\n",
            "Time elapsed: 10.10 min\n",
            "Epoch: 017/020 | Batch 000/461 | Cost: 0.2101\n",
            "Epoch: 017/020 | Batch 150/461 | Cost: 0.3024\n",
            "Epoch: 017/020 | Batch 300/461 | Cost: 0.2714\n",
            "Epoch: 017/020 | Batch 450/461 | Cost: 0.2259\n",
            "Epoch: 017/020\n",
            "Train ACC: 90.91 | Validation ACC: 93.90\n",
            "Time elapsed: 10.73 min\n",
            "Epoch: 018/020 | Batch 000/461 | Cost: 0.3154\n",
            "Epoch: 018/020 | Batch 150/461 | Cost: 0.2534\n",
            "Epoch: 018/020 | Batch 300/461 | Cost: 0.3008\n",
            "Epoch: 018/020 | Batch 450/461 | Cost: 0.2815\n",
            "Epoch: 018/020\n",
            "Train ACC: 90.98 | Validation ACC: 93.90\n",
            "Time elapsed: 11.37 min\n",
            "Epoch: 019/020 | Batch 000/461 | Cost: 0.2850\n",
            "Epoch: 019/020 | Batch 150/461 | Cost: 0.2086\n",
            "Epoch: 019/020 | Batch 300/461 | Cost: 0.4104\n",
            "Epoch: 019/020 | Batch 450/461 | Cost: 0.2749\n",
            "Epoch: 019/020\n",
            "Train ACC: 90.94 | Validation ACC: 94.00\n",
            "Time elapsed: 12.00 min\n",
            "Epoch: 020/020 | Batch 000/461 | Cost: 0.4211\n",
            "Epoch: 020/020 | Batch 150/461 | Cost: 0.2129\n",
            "Epoch: 020/020 | Batch 300/461 | Cost: 0.2256\n",
            "Epoch: 020/020 | Batch 450/461 | Cost: 0.5096\n",
            "Epoch: 020/020\n",
            "Train ACC: 91.02 | Validation ACC: 94.30\n",
            "Time elapsed: 12.63 min\n",
            "Total Training Time: 12.63 min\n"
          ],
          "name": "stdout"
        }
      ]
    },
    {
      "cell_type": "markdown",
      "metadata": {
        "id": "6t7_i5yUgzc1",
        "colab_type": "text"
      },
      "source": [
        "## Evaluation"
      ]
    },
    {
      "cell_type": "code",
      "metadata": {
        "id": "yZ_O6Sukgzc1",
        "colab_type": "code",
        "colab": {
          "base_uri": "https://localhost:8080/",
          "height": 279
        },
        "outputId": "35a01150-f0f0-4263-b129-0686ffd16711"
      },
      "source": [
        "plt.plot(cost_list, label='Minibatch cost')\n",
        "plt.plot(np.convolve(cost_list, \n",
        "                     np.ones(200,)/200, mode='valid'), \n",
        "         label='Running average')\n",
        "\n",
        "plt.ylabel('Cross Entropy')\n",
        "plt.xlabel('Iteration')\n",
        "plt.legend()\n",
        "plt.show()"
      ],
      "execution_count": 13,
      "outputs": [
        {
          "output_type": "display_data",
          "data": {
            "image/png": "[encoded data removed]",
            "text/plain": [
              "<Figure size 432x288 with 1 Axes>"
            ]
          },
          "metadata": {
            "tags": [],
            "needs_background": "light"
          }
        }
      ]
    },
    {
      "cell_type": "code",
      "metadata": {
        "id": "_G-ii1Ktgzc3",
        "colab_type": "code",
        "colab": {
          "base_uri": "https://localhost:8080/",
          "height": 279
        },
        "outputId": "7cdd08ce-6a54-491a-a8cf-d0d528817a30"
      },
      "source": [
        "plt.plot(np.arange(1, NUM_EPOCHS+1), train_acc_list, label='Training')\n",
        "plt.plot(np.arange(1, NUM_EPOCHS+1), valid_acc_list, label='Validation')\n",
        "\n",
        "plt.xlabel('Epoch')\n",
        "plt.ylabel('Accuracy')\n",
        "plt.legend()\n",
        "plt.show()"
      ],
      "execution_count": 14,
      "outputs": [
        {
          "output_type": "display_data",
          "data": {
            "image/png": "[encoded data removed]",
            "text/plain": [
              "<Figure size 432x288 with 1 Axes>"
            ]
          },
          "metadata": {
            "tags": [],
            "needs_background": "light"
          }
        }
      ]
    },
    {
      "cell_type": "code",
      "metadata": {
        "id": "zeTFBOtlgzc5",
        "colab_type": "code",
        "colab": {
          "base_uri": "https://localhost:8080/",
          "height": 52
        },
        "outputId": "4516d28b-5026-48b1-e041-8cd0802b28a0"
      },
      "source": [
        "with torch.set_grad_enabled(False):\n",
        "    test_acc = compute_acc(model=model,\n",
        "                           data_loader=test_loader,\n",
        "                           device=DEVICE)\n",
        "    \n",
        "    valid_acc = compute_acc(model=model,\n",
        "                            data_loader=valid_loader,\n",
        "                            device=DEVICE)\n",
        "    \n",
        "\n",
        "print(f'Validation ACC: {valid_acc:.2f}%')\n",
        "print(f'Test ACC: {test_acc:.2f}%')"
      ],
      "execution_count": 15,
      "outputs": [
        {
          "output_type": "stream",
          "text": [
            "Validation ACC: 94.30%\n",
            "Test ACC: 91.63%\n"
          ],
          "name": "stdout"
        }
      ]
    },
    {
      "cell_type": "code",
      "metadata": {
        "id": "dghQX5GLgzc8",
        "colab_type": "code",
        "colab": {
          "base_uri": "https://localhost:8080/",
          "height": 69
        },
        "outputId": "e7db0c66-2db0-497c-b792-593ad558e4ae"
      },
      "source": [
        "%watermark -iv"
      ],
      "execution_count": 16,
      "outputs": [
        {
          "output_type": "stream",
          "text": [
            "numpy 1.18.5\n",
            "torch 1.5.1+cu101\n",
            "\n"
          ],
          "name": "stdout"
        }
      ]
    }
  ]
}