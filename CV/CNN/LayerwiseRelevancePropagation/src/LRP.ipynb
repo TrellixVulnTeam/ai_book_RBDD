{
  "nbformat": 4,
  "nbformat_minor": 0,
  "metadata": {
    "colab": {
      "name": "LRP.ipynb",
      "provenance": []
    },
    "kernelspec": {
      "name": "python3",
      "display_name": "Python 3"
    }
  },
  "cells": [
    {
      "cell_type": "code",
      "metadata": {
        "id": "m38_dSArSGT1",
        "colab_type": "code",
        "colab": {
          "base_uri": "https://localhost:8080/",
          "height": 34
        },
        "outputId": "4aa0f7e4-4910-4991-90c7-b6defbffc471"
      },
      "source": [
        "%tensorflow_version 1.x"
      ],
      "execution_count": 1,
      "outputs": [
        {
          "output_type": "stream",
          "text": [
            "TensorFlow 1.x selected.\n"
          ],
          "name": "stdout"
        }
      ]
    },
    {
      "cell_type": "code",
      "metadata": {
        "id": "Pymzhh8JSNmr",
        "colab_type": "code",
        "colab": {
          "base_uri": "https://localhost:8080/",
          "height": 938
        },
        "outputId": "708a94eb-aac2-4e3a-c022-7235e2123656"
      },
      "source": [
        "import numpy as np\n",
        "import matplotlib.pyplot as plt\n",
        "%matplotlib inline\n",
        "import tensorflow as tf\n",
        "import tensorflow.contrib.slim as slim\n",
        "from tensorflow.examples.tutorials.mnist import input_data\n",
        "\n",
        "# extracting MNIST Dataset\n",
        "mnist = input_data.read_data_sets(\"MNIST_data/\", one_hot=True)\n",
        "\n",
        "# construct CNN\n",
        "# set models tf.reset_default_graph()\n",
        "x = tf.placeholder(tf.float32, [None, 784],name=\"x-in\")\n",
        "true_y = tf.placeholder(tf.float32, [None, 10],name=\"y-in\")\n",
        "keep_prob = tf.placeholder(\"float\")\n",
        "x_image = tf.reshape(x,[-1,28,28,1])\n",
        "\n",
        "# layer 1\n",
        "hidden_1 = slim.conv2d(x_image,5,[5,5])\n",
        "pool_1 = slim.max_pool2d(hidden_1,[2,2])\n",
        "\n",
        "# layer 2\n",
        "hidden_2 = slim.conv2d(pool_1,5,[5,5])\n",
        "pool_2 = slim.max_pool2d(hidden_2,[2,2])\n",
        "\n",
        "# layer 3\n",
        "hidden_3 = slim.conv2d(pool_2,20,[5,5])\n",
        "hidden_3 = slim.dropout(hidden_3,keep_prob)\n",
        "\n",
        "out_y = slim.fully_connected(slim.flatten(hidden_3), 10, activation_fn=tf.nn.softmax)\n",
        "\n",
        "cross_entropy = -tf.reduce_sum(true_y*tf.log(out_y))\n",
        "correct_prediction = tf.equal(tf.argmax(out_y,1), tf.argmax(true_y,1))\n",
        "accuracy = tf.reduce_mean(tf.cast(correct_prediction, \"float\"))\n",
        "train_step = tf.train.AdamOptimizer(1e-4).minimize(cross_entropy)\n",
        "\n",
        "# learning\n",
        "batchSize = 50\n",
        "sess = tf.Session()\n",
        "init = tf.global_variables_initializer()\n",
        "sess.run(init)\n",
        "\n",
        "for i in range(1000):\n",
        "    batch = mnist.train.next_batch(batchSize)\n",
        "    sess.run(train_step, feed_dict={x:batch[0],true_y:batch[1], keep_prob:0.5})\n",
        "    if i % 100 == 0 and i != 0:\n",
        "        trainAccuracy = sess.run(accuracy, feed_dict={x:batch[0], true_y:batch[1], keep_prob:1.0})\n",
        "        print(\"step %d, training accuracy %g\"%(i, trainAccuracy))\n",
        "\n",
        "# print Accuracy\n",
        "print('Accuracy: {:.2%}'.format(sess.run(accuracy, feed_dict={x: mnist.test.images, true_y: mnist.test.labels, keep_prob: 1.0})))\n"
      ],
      "execution_count": 2,
      "outputs": [
        {
          "output_type": "stream",
          "text": [
            "WARNING:tensorflow:\n",
            "The TensorFlow contrib module will not be included in TensorFlow 2.0.\n",
            "For more information, please see:\n",
            "  * https://github.com/tensorflow/community/blob/master/rfcs/20180907-contrib-sunset.md\n",
            "  * https://github.com/tensorflow/addons\n",
            "  * https://github.com/tensorflow/io (for I/O related ops)\n",
            "If you depend on functionality not listed there, please file an issue.\n",
            "\n",
            "WARNING:tensorflow:From <ipython-input-2-7a313b59331d>:9: read_data_sets (from tensorflow.contrib.learn.python.learn.datasets.mnist) is deprecated and will be removed in a future version.\n",
            "Instructions for updating:\n",
            "Please use alternatives such as official/mnist/dataset.py from tensorflow/models.\n",
            "WARNING:tensorflow:From /tensorflow-1.15.2/python3.6/tensorflow_core/contrib/learn/python/learn/datasets/mnist.py:260: maybe_download (from tensorflow.contrib.learn.python.learn.datasets.base) is deprecated and will be removed in a future version.\n",
            "Instructions for updating:\n",
            "Please write your own downloading logic.\n",
            "WARNING:tensorflow:From /tensorflow-1.15.2/python3.6/tensorflow_core/contrib/learn/python/learn/datasets/base.py:252: _internal_retry.<locals>.wrap.<locals>.wrapped_fn (from tensorflow.contrib.learn.python.learn.datasets.base) is deprecated and will be removed in a future version.\n",
            "Instructions for updating:\n",
            "Please use urllib or similar directly.\n",
            "Successfully downloaded train-images-idx3-ubyte.gz 9912422 bytes.\n",
            "WARNING:tensorflow:From /tensorflow-1.15.2/python3.6/tensorflow_core/contrib/learn/python/learn/datasets/mnist.py:262: extract_images (from tensorflow.contrib.learn.python.learn.datasets.mnist) is deprecated and will be removed in a future version.\n",
            "Instructions for updating:\n",
            "Please use tf.data to implement this functionality.\n",
            "Extracting MNIST_data/train-images-idx3-ubyte.gz\n",
            "Successfully downloaded train-labels-idx1-ubyte.gz 28881 bytes.\n",
            "WARNING:tensorflow:From /tensorflow-1.15.2/python3.6/tensorflow_core/contrib/learn/python/learn/datasets/mnist.py:267: extract_labels (from tensorflow.contrib.learn.python.learn.datasets.mnist) is deprecated and will be removed in a future version.\n",
            "Instructions for updating:\n",
            "Please use tf.data to implement this functionality.\n",
            "Extracting MNIST_data/train-labels-idx1-ubyte.gz\n",
            "WARNING:tensorflow:From /tensorflow-1.15.2/python3.6/tensorflow_core/contrib/learn/python/learn/datasets/mnist.py:110: dense_to_one_hot (from tensorflow.contrib.learn.python.learn.datasets.mnist) is deprecated and will be removed in a future version.\n",
            "Instructions for updating:\n",
            "Please use tf.one_hot on tensors.\n",
            "Successfully downloaded t10k-images-idx3-ubyte.gz 1648877 bytes.\n",
            "Extracting MNIST_data/t10k-images-idx3-ubyte.gz\n",
            "Successfully downloaded t10k-labels-idx1-ubyte.gz 4542 bytes.\n",
            "Extracting MNIST_data/t10k-labels-idx1-ubyte.gz\n",
            "WARNING:tensorflow:From /tensorflow-1.15.2/python3.6/tensorflow_core/contrib/learn/python/learn/datasets/mnist.py:290: DataSet.__init__ (from tensorflow.contrib.learn.python.learn.datasets.mnist) is deprecated and will be removed in a future version.\n",
            "Instructions for updating:\n",
            "Please use alternatives such as official/mnist/dataset.py from tensorflow/models.\n",
            "WARNING:tensorflow:From /tensorflow-1.15.2/python3.6/tensorflow_core/contrib/layers/python/layers/layers.py:1057: Layer.apply (from tensorflow.python.keras.engine.base_layer) is deprecated and will be removed in a future version.\n",
            "Instructions for updating:\n",
            "Please use `layer.__call__` method instead.\n",
            "WARNING:tensorflow:From /tensorflow-1.15.2/python3.6/tensorflow_core/contrib/layers/python/layers/layers.py:1634: flatten (from tensorflow.python.layers.core) is deprecated and will be removed in a future version.\n",
            "Instructions for updating:\n",
            "Use keras.layers.flatten instead.\n",
            "step 100, training accuracy 0.48\n",
            "step 200, training accuracy 0.64\n",
            "step 300, training accuracy 0.76\n",
            "step 400, training accuracy 0.82\n",
            "step 500, training accuracy 0.84\n",
            "step 600, training accuracy 0.8\n",
            "step 700, training accuracy 0.84\n",
            "step 800, training accuracy 0.84\n",
            "step 900, training accuracy 0.9\n",
            "Accuracy: 90.09%\n"
          ],
          "name": "stdout"
        }
      ]
    },
    {
      "cell_type": "code",
      "metadata": {
        "id": "GS4rTm1ZSR1p",
        "colab_type": "code",
        "colab": {}
      },
      "source": [
        "layers = [hidden_1, pool_1, hidden_2, pool_2, hidden_3]\n",
        "weights = tf.get_collection(tf.GraphKeys.TRAINABLE_VARIABLES, scope='.*weights.*')\n",
        "biases = tf.get_collection(tf.GraphKeys.TRAINABLE_VARIABLES, scope='.*biases.*')"
      ],
      "execution_count": 3,
      "outputs": []
    },
    {
      "cell_type": "code",
      "metadata": {
        "id": "ZUNiCWKMSUje",
        "colab_type": "code",
        "colab": {}
      },
      "source": [
        "def getActivations(layer, image):\n",
        "    units = sess.run(layer, feed_dict={x: np.reshape(image, [1,784], order='F'), keep_prob:1.0})\n",
        "    return units"
      ],
      "execution_count": 4,
      "outputs": []
    },
    {
      "cell_type": "code",
      "metadata": {
        "id": "l17C7eFpSYPJ",
        "colab_type": "code",
        "colab": {
          "base_uri": "https://localhost:8080/",
          "height": 282
        },
        "outputId": "c593084a-e815-4828-c52a-dae7b98fc6ba"
      },
      "source": [
        "# show test image\n",
        "idx = 4\n",
        "imageToUse = mnist.test.images[idx]\n",
        "plt.imshow(np.reshape(imageToUse,[28,28]), interpolation=\"nearest\", cmap='gray')"
      ],
      "execution_count": 5,
      "outputs": [
        {
          "output_type": "execute_result",
          "data": {
            "text/plain": [
              "<matplotlib.image.AxesImage at 0x7f12f6c36668>"
            ]
          },
          "metadata": {
            "tags": []
          },
          "execution_count": 5
        },
        {
          "output_type": "display_data",
          "data": {
            "image/png": "[encoded data removed]",
            "text/plain": [
              "<Figure size 432x288 with 1 Axes>"
            ]
          },
          "metadata": {
            "tags": [],
            "needs_background": "light"
          }
        }
      ]
    },
    {
      "cell_type": "code",
      "metadata": {
        "id": "2pVPCxy8Sacf",
        "colab_type": "code",
        "colab": {}
      },
      "source": [
        "# layers = [hidden_1, pool_1, hidden_2, pool_2, hidden_3]\n",
        "activations = []\n",
        "for layer in layers:\n",
        "    activations.append(getActivations(layer, imageToUse))"
      ],
      "execution_count": 6,
      "outputs": []
    },
    {
      "cell_type": "code",
      "metadata": {
        "id": "nTn59QnLSeWi",
        "colab_type": "code",
        "colab": {
          "base_uri": "https://localhost:8080/",
          "height": 187
        },
        "outputId": "7d38c9a8-86ee-4650-e16a-1241b43d62b6"
      },
      "source": [
        "predict = sess.run(out_y, feed_dict={x: imageToUse.reshape([-1, 784]), keep_prob:1.0})[0]\n",
        "idx = 0\n",
        "for i in predict:\n",
        "    print('[{}] {:.2%}'.format(idx, i))\n",
        "    idx += 1"
      ],
      "execution_count": 7,
      "outputs": [
        {
          "output_type": "stream",
          "text": [
            "[0] 0.02%\n",
            "[1] 0.00%\n",
            "[2] 0.20%\n",
            "[3] 0.03%\n",
            "[4] 94.38%\n",
            "[5] 0.07%\n",
            "[6] 0.12%\n",
            "[7] 0.28%\n",
            "[8] 0.06%\n",
            "[9] 4.85%\n"
          ],
          "name": "stdout"
        }
      ]
    },
    {
      "cell_type": "code",
      "metadata": {
        "id": "zAXE6VtHSgOh",
        "colab_type": "code",
        "colab": {
          "base_uri": "https://localhost:8080/",
          "height": 34
        },
        "outputId": "4b9efc24-45a9-461b-ff68-073f3614af6c"
      },
      "source": [
        "f_x = max(predict)\n",
        "print(f_x)"
      ],
      "execution_count": 8,
      "outputs": [
        {
          "output_type": "stream",
          "text": [
            "0.9437851\n"
          ],
          "name": "stdout"
        }
      ]
    },
    {
      "cell_type": "code",
      "metadata": {
        "id": "ZGIStFprSh9g",
        "colab_type": "code",
        "colab": {}
      },
      "source": [
        "# get FC layer gradient\n",
        "def getGradient(activation, weight, bias):\n",
        "    # forward pass\n",
        "    W = tf.maximum(0., weight)\n",
        "    b = tf.maximum(0., bias)\n",
        "    z = tf.matmul(activation, w) + b\n",
        "\n",
        "    # backward pass\n",
        "    dX = tf.matmul(1/z, tf.transpose(W))\n",
        "    return dX"
      ],
      "execution_count": 9,
      "outputs": []
    },
    {
      "cell_type": "code",
      "metadata": {
        "id": "wOqb0t5xSjwW",
        "colab_type": "code",
        "colab": {
          "base_uri": "https://localhost:8080/",
          "height": 34
        },
        "outputId": "d0e6378d-793f-4f6e-feda-7c50e107a9b2"
      },
      "source": [
        "R4 = predict\n",
        "R4.shape"
      ],
      "execution_count": 10,
      "outputs": [
        {
          "output_type": "execute_result",
          "data": {
            "text/plain": [
              "(10,)"
            ]
          },
          "metadata": {
            "tags": []
          },
          "execution_count": 10
        }
      ]
    },
    {
      "cell_type": "code",
      "metadata": {
        "id": "jEL6iB6PSlTA",
        "colab_type": "code",
        "colab": {}
      },
      "source": [
        "def backprop_dense(activation, weight, bias, relevance):\n",
        "    w = tf.maximum(0., weight)\n",
        "    b = tf.maximum(0., bias)\n",
        "    z = tf.matmul(activation, w) + b\n",
        "    s = relevance / z\n",
        "    c = tf.matmul(s, tf.transpose(w))\n",
        "    return activation * c"
      ],
      "execution_count": 11,
      "outputs": []
    },
    {
      "cell_type": "code",
      "metadata": {
        "id": "x4O2OZKOSm7E",
        "colab_type": "code",
        "colab": {
          "base_uri": "https://localhost:8080/",
          "height": 68
        },
        "outputId": "62505241-f929-4d2d-96dd-31ed7799dec5"
      },
      "source": [
        "# layers = [hidden_1, pool_1, hidden_2, pool_2, hidden_3]\n",
        "# (1, 28, 28, 5) (1, 14, 14, 5) (1, 7, 7, 20)\n",
        "# activation, weights, biases\n",
        "a = activations.pop()\n",
        "w = weights.pop()\n",
        "b = biases.pop()\n",
        "\n",
        "print(a.shape)\n",
        "print(w.shape)\n",
        "\n",
        "R3 = backprop_dense(a.reshape(1,980), w, b, R4)\n",
        "\n",
        "print(R3.shape)"
      ],
      "execution_count": 12,
      "outputs": [
        {
          "output_type": "stream",
          "text": [
            "(1, 7, 7, 20)\n",
            "(980, 10)\n",
            "(1, 980)\n"
          ],
          "name": "stdout"
        }
      ]
    },
    {
      "cell_type": "code",
      "metadata": {
        "id": "mVeFYvGmSpDJ",
        "colab_type": "code",
        "colab": {}
      },
      "source": [
        "from tensorflow.python.ops import gen_nn_ops\n",
        "\n",
        "def backprop_pooling(activation, relevance):\n",
        "    # kernel size, strides\n",
        "    # if z is zero\n",
        "    ksize = strides = [1, 2, 2, 1]\n",
        "    z = tf.nn.max_pool(activation, ksize, strides, padding='SAME') + 1e-10\n",
        "    s = relevance / z\n",
        "    # input, argmax, argmax_mask\n",
        "    c = gen_nn_ops.max_pool_grad(activation, z, s, ksize, strides, padding='SAME')\n",
        "    return activation * c"
      ],
      "execution_count": 13,
      "outputs": []
    },
    {
      "cell_type": "code",
      "metadata": {
        "id": "_XoOhbnmSq3O",
        "colab_type": "code",
        "colab": {}
      },
      "source": [
        "def backprop_conv(activation, weight, bias, relevance):\n",
        "    strides = [1, 1, 1, 1]\n",
        "    w = tf.maximum(0., weight)\n",
        "    b = tf.maximum(0., bias)\n",
        "    z = tf.nn.conv2d(activation, w, strides, padding='SAME')\n",
        "    z = tf.nn.bias_add(z, b)\n",
        "    s = relevance / z\n",
        "    c = tf.nn.conv2d_backprop_input(tf.shape(activation), w, s, strides, padding='SAME')\n",
        "    return activation * c"
      ],
      "execution_count": 14,
      "outputs": []
    },
    {
      "cell_type": "code",
      "metadata": {
        "id": "DotDssvcSsrC",
        "colab_type": "code",
        "colab": {
          "base_uri": "https://localhost:8080/",
          "height": 68
        },
        "outputId": "18adfd00-1daa-414e-dc3d-13c90db90b80"
      },
      "source": [
        "# layers = [hidden_1, pool_1, hidden_2, pool_2]\n",
        "# (1, 28, 28, 5)(1, 14, 14, 5)(1, 7, 7, 20)\n",
        "# activation, weights, biases\n",
        "w = weights.pop()\n",
        "b = biases.pop()\n",
        "p = activations.pop()\n",
        "a = activations.pop()\n",
        "print(p.shape)\n",
        "\n",
        "# convolution backprop\n",
        "R_conv = backprop_conv(p, w, b, tf.reshape(R3, [1, 7, 7, 20]))\n",
        "print(R_conv.shape)\n",
        "R2 = backprop_pooling(a, R_conv)\n",
        "print(R2.shape)"
      ],
      "execution_count": 15,
      "outputs": [
        {
          "output_type": "stream",
          "text": [
            "(1, 7, 7, 5)\n",
            "(1, 7, 7, 5)\n",
            "(1, 14, 14, 5)\n"
          ],
          "name": "stdout"
        }
      ]
    },
    {
      "cell_type": "code",
      "metadata": {
        "id": "UErpsdGpSueG",
        "colab_type": "code",
        "colab": {
          "base_uri": "https://localhost:8080/",
          "height": 68
        },
        "outputId": "c400956d-5da2-4897-f58f-6e3f1b506ef7"
      },
      "source": [
        "# layers = [hidden_1, pool_1]\n",
        "# (1, 28, 28, 5)(1, 14, 14, 5)\n",
        "# activation, weights, biases\n",
        "w = weights.pop()\n",
        "b = biases.pop()\n",
        "p = activations.pop()\n",
        "a = activations.pop()\n",
        "\n",
        "# convolution backprop\n",
        "R_conv = backprop_conv(p, w, b, R2)\n",
        "print(R_conv.shape)\n",
        "\n",
        "R1 = backprop_pooling(a, R_conv)\n",
        "print(R1.shape)\n",
        "print(np.sum(sess.run(R1)))"
      ],
      "execution_count": 16,
      "outputs": [
        {
          "output_type": "stream",
          "text": [
            "(1, 14, 14, 5)\n",
            "(1, 28, 28, 5)\n",
            "0.97751\n"
          ],
          "name": "stdout"
        }
      ]
    },
    {
      "cell_type": "code",
      "metadata": {
        "id": "ByXwcoacSwOG",
        "colab_type": "code",
        "colab": {}
      },
      "source": [
        "img_activations = getActivations(x_image, imageToUse)\n",
        "w = weights.pop()\n",
        "b = biases.pop()\n",
        "R0 = backprop_conv(img_activations, w, b, R1)\n",
        "LRP_out = sess.run(R0)"
      ],
      "execution_count": 17,
      "outputs": []
    },
    {
      "cell_type": "code",
      "metadata": {
        "id": "ZyDINMx-SxsY",
        "colab_type": "code",
        "colab": {
          "base_uri": "https://localhost:8080/",
          "height": 282
        },
        "outputId": "f1576f9b-2f62-45b1-e58b-678d50260327"
      },
      "source": [
        "plt.imshow(LRP_out.reshape(28, 28), interpolation=\"nearest\", cmap=plt.cm.jet)"
      ],
      "execution_count": 18,
      "outputs": [
        {
          "output_type": "execute_result",
          "data": {
            "text/plain": [
              "<matplotlib.image.AxesImage at 0x7f12f6731a90>"
            ]
          },
          "metadata": {
            "tags": []
          },
          "execution_count": 18
        },
        {
          "output_type": "display_data",
          "data": {
            "image/png": "[encoded data removed]",
            "text/plain": [
              "<Figure size 432x288 with 1 Axes>"
            ]
          },
          "metadata": {
            "tags": [],
            "needs_background": "light"
          }
        }
      ]
    },
    {
      "cell_type": "code",
      "metadata": {
        "id": "eFaLcBKYS0WS",
        "colab_type": "code",
        "colab": {}
      },
      "source": [
        "def getLRP(img):\n",
        "    predict = sess.run(out_y, feed_dict={x: img.reshape([-1, 784]), keep_prob:1.0})[0]\n",
        "    layers = [hidden_1, pool_1, hidden_2, pool_2, hidden_3]\n",
        "    weights = tf.get_collection(tf.GraphKeys.TRAINABLE_VARIABLES, scope='.*weights.*')\n",
        "    biases = tf.get_collection(tf.GraphKeys.TRAINABLE_VARIABLES, scope='.*biases.*')\n",
        "\n",
        "    # layers = [hidden_1, pool_1, hidden_2, pool_2, hidden_3]\n",
        "    activations = []\n",
        "    for layer in layers:\n",
        "        activations.append(getActivations(layer, img))\n",
        "\n",
        "    # get f_x\n",
        "    f_x = max(predict)\n",
        "\n",
        "    # get R4\n",
        "    predict[predict < 0] = 0\n",
        "    R4 = predict\n",
        "\n",
        "    # get R3\n",
        "    a = activations.pop()\n",
        "    w = weights.pop()\n",
        "    b = biases.pop()\n",
        "    R3 = backprop_dense(a.reshape(1,980), w, b, R4)\n",
        "\n",
        "    # get R2\n",
        "    w = weights.pop()\n",
        "    b = biases.pop()\n",
        "    p = activations.pop()\n",
        "    a = activations.pop()\n",
        "    R_conv = backprop_conv(p, w, b, tf.reshape(R3, [1, 7, 7, 20]))\n",
        "    R2 = backprop_pooling(a, R_conv)\n",
        "\n",
        "    # get R1\n",
        "    w = weights.pop()\n",
        "    b = biases.pop()\n",
        "    p = activations.pop()\n",
        "    a = activations.pop()\n",
        "    R_conv = backprop_conv(p, w, b, R2)\n",
        "    R1 = backprop_pooling(a, R_conv)\n",
        "\n",
        "    # get R0\n",
        "    img_activations = getActivations(x_image, img)\n",
        "    w = weights.pop()\n",
        "    b = biases.pop()\n",
        "    R0 = backprop_conv(img_activations, w, b, R1)\n",
        "    LRP_out = sess.run(R0)\n",
        "    return LRP_out\n"
      ],
      "execution_count": 19,
      "outputs": []
    },
    {
      "cell_type": "code",
      "metadata": {
        "id": "gXNoL-U8S3y1",
        "colab_type": "code",
        "colab": {
          "base_uri": "https://localhost:8080/",
          "height": 577
        },
        "outputId": "5cfcc5df-0a5d-448f-f29f-29d0bd32320b"
      },
      "source": [
        "# get MNIST dataset index dict\n",
        "mnist_dict = {}\n",
        "idx = 0\n",
        "for i in mnist.test.labels:\n",
        "    label = np.where(i == np.amax(i))[0][0]\n",
        "    if mnist_dict.get(label):\n",
        "        mnist_dict[label].append(idx)\n",
        "    else:\n",
        "        mnist_dict[label] = [idx]\n",
        "    idx += 1\n",
        "\n",
        "# get LRP\n",
        "nums = []\n",
        "for i in range(10):\n",
        "    img_idx = mnist_dict[i][0]\n",
        "    img = mnist.test.images[img_idx]\n",
        "    lrp = getLRP(img)\n",
        "    nums.append(lrp)\n",
        "\n",
        "# plot images\n",
        "plt.figure(figsize=(20,10))\n",
        "for i in range(2):\n",
        "    for j in range(5):\n",
        "        idx = 5 * i + j\n",
        "        plt.subplot(2, 5, idx + 1)\n",
        "        plt.title('digit: {}'.format(idx))\n",
        "        plt.imshow(nums[idx].reshape([28, 28]), cmap=plt.cm.jet)\n",
        "        plt.colorbar(orientation='horizontal')\n",
        "plt.tight_layout()\n",
        "sess.close()\n"
      ],
      "execution_count": 20,
      "outputs": [
        {
          "output_type": "display_data",
          "data": {
            "image/png": "[encoded data removed]",
            "text/plain": [
              "<Figure size 1440x720 with 20 Axes>"
            ]
          },
          "metadata": {
            "tags": [],
            "needs_background": "light"
          }
        }
      ]
    },
    {
      "cell_type": "code",
      "metadata": {
        "id": "WZLElsVsS68W",
        "colab_type": "code",
        "colab": {}
      },
      "source": [
        ""
      ],
      "execution_count": null,
      "outputs": []
    }
  ]
}